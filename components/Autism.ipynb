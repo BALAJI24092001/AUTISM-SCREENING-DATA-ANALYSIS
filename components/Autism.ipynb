{
 "cells": [
  {
   "cell_type": "markdown",
   "id": "aa645d30-53dd-4fd3-a98f-795a51ee0f22",
   "metadata": {},
   "source": [
    "# AUTISM DATA ANALYSIS"
   ]
  },
  {
   "cell_type": "code",
   "execution_count": 38,
   "id": "b8cfc4a3-5a0d-47d1-94cc-d7ebe501c71a",
   "metadata": {},
   "outputs": [],
   "source": [
    "# Importing Libraries\n",
    "import numpy as np # Linear Algebra\n",
    "import pandas as pd # DataFrames\n",
    "import matplotlib.pyplot as plt # Basic Plots\n",
    "import seaborn as sns # Advanced Plots\n",
    "import plotly.express as px # Intereactive plots\n",
    "import scipy.stats as stat # Hypothesis Testing\n",
    "%matplotlib inline"
   ]
  },
  {
   "cell_type": "code",
   "execution_count": 24,
   "id": "14bdb262-9896-4787-b871-69aa313831a1",
   "metadata": {},
   "outputs": [],
   "source": [
    "data = pd.read_csv(\"../utils/csv_result-Autism-Adult-Data.csv\")"
   ]
  },
  {
   "cell_type": "code",
   "execution_count": 25,
   "id": "412bd9a6-e9b8-4dc7-8a45-9683510387ec",
   "metadata": {},
   "outputs": [
    {
     "data": {
      "text/html": [
       "<div>\n",
       "<style scoped>\n",
       "    .dataframe tbody tr th:only-of-type {\n",
       "        vertical-align: middle;\n",
       "    }\n",
       "\n",
       "    .dataframe tbody tr th {\n",
       "        vertical-align: top;\n",
       "    }\n",
       "\n",
       "    .dataframe thead th {\n",
       "        text-align: right;\n",
       "    }\n",
       "</style>\n",
       "<table border=\"1\" class=\"dataframe\">\n",
       "  <thead>\n",
       "    <tr style=\"text-align: right;\">\n",
       "      <th></th>\n",
       "      <th>id</th>\n",
       "      <th>A1_Score</th>\n",
       "      <th>A2_Score</th>\n",
       "      <th>A3_Score</th>\n",
       "      <th>A4_Score</th>\n",
       "      <th>A5_Score</th>\n",
       "      <th>A6_Score</th>\n",
       "      <th>A7_Score</th>\n",
       "      <th>A8_Score</th>\n",
       "      <th>A9_Score</th>\n",
       "      <th>...</th>\n",
       "      <th>gender</th>\n",
       "      <th>ethnicity</th>\n",
       "      <th>jundice</th>\n",
       "      <th>austim</th>\n",
       "      <th>contry_of_res</th>\n",
       "      <th>used_app_before</th>\n",
       "      <th>result</th>\n",
       "      <th>age_desc</th>\n",
       "      <th>relation</th>\n",
       "      <th>Class/ASD</th>\n",
       "    </tr>\n",
       "  </thead>\n",
       "  <tbody>\n",
       "    <tr>\n",
       "      <th>0</th>\n",
       "      <td>1</td>\n",
       "      <td>1</td>\n",
       "      <td>1</td>\n",
       "      <td>1</td>\n",
       "      <td>1</td>\n",
       "      <td>0</td>\n",
       "      <td>0</td>\n",
       "      <td>1</td>\n",
       "      <td>1</td>\n",
       "      <td>0</td>\n",
       "      <td>...</td>\n",
       "      <td>f</td>\n",
       "      <td>White-European</td>\n",
       "      <td>no</td>\n",
       "      <td>no</td>\n",
       "      <td>United States</td>\n",
       "      <td>no</td>\n",
       "      <td>6</td>\n",
       "      <td>18 and more</td>\n",
       "      <td>Self</td>\n",
       "      <td>NO</td>\n",
       "    </tr>\n",
       "    <tr>\n",
       "      <th>1</th>\n",
       "      <td>2</td>\n",
       "      <td>1</td>\n",
       "      <td>1</td>\n",
       "      <td>0</td>\n",
       "      <td>1</td>\n",
       "      <td>0</td>\n",
       "      <td>0</td>\n",
       "      <td>0</td>\n",
       "      <td>1</td>\n",
       "      <td>0</td>\n",
       "      <td>...</td>\n",
       "      <td>m</td>\n",
       "      <td>Latino</td>\n",
       "      <td>no</td>\n",
       "      <td>yes</td>\n",
       "      <td>Brazil</td>\n",
       "      <td>no</td>\n",
       "      <td>5</td>\n",
       "      <td>18 and more</td>\n",
       "      <td>Self</td>\n",
       "      <td>NO</td>\n",
       "    </tr>\n",
       "    <tr>\n",
       "      <th>2</th>\n",
       "      <td>3</td>\n",
       "      <td>1</td>\n",
       "      <td>1</td>\n",
       "      <td>0</td>\n",
       "      <td>1</td>\n",
       "      <td>1</td>\n",
       "      <td>0</td>\n",
       "      <td>1</td>\n",
       "      <td>1</td>\n",
       "      <td>1</td>\n",
       "      <td>...</td>\n",
       "      <td>m</td>\n",
       "      <td>Latino</td>\n",
       "      <td>yes</td>\n",
       "      <td>yes</td>\n",
       "      <td>Spain</td>\n",
       "      <td>no</td>\n",
       "      <td>8</td>\n",
       "      <td>18 and more</td>\n",
       "      <td>Parent</td>\n",
       "      <td>YES</td>\n",
       "    </tr>\n",
       "    <tr>\n",
       "      <th>3</th>\n",
       "      <td>4</td>\n",
       "      <td>1</td>\n",
       "      <td>1</td>\n",
       "      <td>0</td>\n",
       "      <td>1</td>\n",
       "      <td>0</td>\n",
       "      <td>0</td>\n",
       "      <td>1</td>\n",
       "      <td>1</td>\n",
       "      <td>0</td>\n",
       "      <td>...</td>\n",
       "      <td>f</td>\n",
       "      <td>White-European</td>\n",
       "      <td>no</td>\n",
       "      <td>yes</td>\n",
       "      <td>United States</td>\n",
       "      <td>no</td>\n",
       "      <td>6</td>\n",
       "      <td>18 and more</td>\n",
       "      <td>Self</td>\n",
       "      <td>NO</td>\n",
       "    </tr>\n",
       "    <tr>\n",
       "      <th>4</th>\n",
       "      <td>5</td>\n",
       "      <td>1</td>\n",
       "      <td>0</td>\n",
       "      <td>0</td>\n",
       "      <td>0</td>\n",
       "      <td>0</td>\n",
       "      <td>0</td>\n",
       "      <td>0</td>\n",
       "      <td>1</td>\n",
       "      <td>0</td>\n",
       "      <td>...</td>\n",
       "      <td>f</td>\n",
       "      <td>?</td>\n",
       "      <td>no</td>\n",
       "      <td>no</td>\n",
       "      <td>Egypt</td>\n",
       "      <td>no</td>\n",
       "      <td>2</td>\n",
       "      <td>18 and more</td>\n",
       "      <td>?</td>\n",
       "      <td>NO</td>\n",
       "    </tr>\n",
       "  </tbody>\n",
       "</table>\n",
       "<p>5 rows × 22 columns</p>\n",
       "</div>"
      ],
      "text/plain": [
       "   id  A1_Score  A2_Score  A3_Score  A4_Score  A5_Score  A6_Score  A7_Score   \n",
       "0   1         1         1         1         1         0         0         1  \\\n",
       "1   2         1         1         0         1         0         0         0   \n",
       "2   3         1         1         0         1         1         0         1   \n",
       "3   4         1         1         0         1         0         0         1   \n",
       "4   5         1         0         0         0         0         0         0   \n",
       "\n",
       "   A8_Score  A9_Score  ...  gender       ethnicity jundice austim   \n",
       "0         1         0  ...       f  White-European      no     no  \\\n",
       "1         1         0  ...       m          Latino      no    yes   \n",
       "2         1         1  ...       m          Latino     yes    yes   \n",
       "3         1         0  ...       f  White-European      no    yes   \n",
       "4         1         0  ...       f               ?      no     no   \n",
       "\n",
       "   contry_of_res used_app_before result     age_desc  relation Class/ASD  \n",
       "0  United States              no      6  18 and more      Self        NO  \n",
       "1         Brazil              no      5  18 and more      Self        NO  \n",
       "2          Spain              no      8  18 and more    Parent       YES  \n",
       "3  United States              no      6  18 and more      Self        NO  \n",
       "4          Egypt              no      2  18 and more         ?        NO  \n",
       "\n",
       "[5 rows x 22 columns]"
      ]
     },
     "execution_count": 25,
     "metadata": {},
     "output_type": "execute_result"
    }
   ],
   "source": [
    "data.head()"
   ]
  },
  {
   "cell_type": "code",
   "execution_count": 26,
   "id": "a6328f73-f62e-4926-b4d7-1c0e9d39afe1",
   "metadata": {},
   "outputs": [
    {
     "data": {
      "text/html": [
       "<div>\n",
       "<style scoped>\n",
       "    .dataframe tbody tr th:only-of-type {\n",
       "        vertical-align: middle;\n",
       "    }\n",
       "\n",
       "    .dataframe tbody tr th {\n",
       "        vertical-align: top;\n",
       "    }\n",
       "\n",
       "    .dataframe thead th {\n",
       "        text-align: right;\n",
       "    }\n",
       "</style>\n",
       "<table border=\"1\" class=\"dataframe\">\n",
       "  <thead>\n",
       "    <tr style=\"text-align: right;\">\n",
       "      <th></th>\n",
       "      <th>id</th>\n",
       "      <th>A1_Score</th>\n",
       "      <th>A2_Score</th>\n",
       "      <th>A3_Score</th>\n",
       "      <th>A4_Score</th>\n",
       "      <th>A5_Score</th>\n",
       "      <th>A6_Score</th>\n",
       "      <th>A7_Score</th>\n",
       "      <th>A8_Score</th>\n",
       "      <th>A9_Score</th>\n",
       "      <th>A10_Score</th>\n",
       "      <th>result</th>\n",
       "    </tr>\n",
       "  </thead>\n",
       "  <tbody>\n",
       "    <tr>\n",
       "      <th>count</th>\n",
       "      <td>704.000000</td>\n",
       "      <td>704.000000</td>\n",
       "      <td>704.000000</td>\n",
       "      <td>704.000000</td>\n",
       "      <td>704.000000</td>\n",
       "      <td>704.000000</td>\n",
       "      <td>704.000000</td>\n",
       "      <td>704.000000</td>\n",
       "      <td>704.000000</td>\n",
       "      <td>704.000000</td>\n",
       "      <td>704.000000</td>\n",
       "      <td>704.000000</td>\n",
       "    </tr>\n",
       "    <tr>\n",
       "      <th>mean</th>\n",
       "      <td>352.500000</td>\n",
       "      <td>0.721591</td>\n",
       "      <td>0.453125</td>\n",
       "      <td>0.457386</td>\n",
       "      <td>0.495739</td>\n",
       "      <td>0.498580</td>\n",
       "      <td>0.284091</td>\n",
       "      <td>0.417614</td>\n",
       "      <td>0.649148</td>\n",
       "      <td>0.323864</td>\n",
       "      <td>0.573864</td>\n",
       "      <td>4.875000</td>\n",
       "    </tr>\n",
       "    <tr>\n",
       "      <th>std</th>\n",
       "      <td>203.371581</td>\n",
       "      <td>0.448535</td>\n",
       "      <td>0.498152</td>\n",
       "      <td>0.498535</td>\n",
       "      <td>0.500337</td>\n",
       "      <td>0.500353</td>\n",
       "      <td>0.451301</td>\n",
       "      <td>0.493516</td>\n",
       "      <td>0.477576</td>\n",
       "      <td>0.468281</td>\n",
       "      <td>0.494866</td>\n",
       "      <td>2.501493</td>\n",
       "    </tr>\n",
       "    <tr>\n",
       "      <th>min</th>\n",
       "      <td>1.000000</td>\n",
       "      <td>0.000000</td>\n",
       "      <td>0.000000</td>\n",
       "      <td>0.000000</td>\n",
       "      <td>0.000000</td>\n",
       "      <td>0.000000</td>\n",
       "      <td>0.000000</td>\n",
       "      <td>0.000000</td>\n",
       "      <td>0.000000</td>\n",
       "      <td>0.000000</td>\n",
       "      <td>0.000000</td>\n",
       "      <td>0.000000</td>\n",
       "    </tr>\n",
       "    <tr>\n",
       "      <th>25%</th>\n",
       "      <td>176.750000</td>\n",
       "      <td>0.000000</td>\n",
       "      <td>0.000000</td>\n",
       "      <td>0.000000</td>\n",
       "      <td>0.000000</td>\n",
       "      <td>0.000000</td>\n",
       "      <td>0.000000</td>\n",
       "      <td>0.000000</td>\n",
       "      <td>0.000000</td>\n",
       "      <td>0.000000</td>\n",
       "      <td>0.000000</td>\n",
       "      <td>3.000000</td>\n",
       "    </tr>\n",
       "    <tr>\n",
       "      <th>50%</th>\n",
       "      <td>352.500000</td>\n",
       "      <td>1.000000</td>\n",
       "      <td>0.000000</td>\n",
       "      <td>0.000000</td>\n",
       "      <td>0.000000</td>\n",
       "      <td>0.000000</td>\n",
       "      <td>0.000000</td>\n",
       "      <td>0.000000</td>\n",
       "      <td>1.000000</td>\n",
       "      <td>0.000000</td>\n",
       "      <td>1.000000</td>\n",
       "      <td>4.000000</td>\n",
       "    </tr>\n",
       "    <tr>\n",
       "      <th>75%</th>\n",
       "      <td>528.250000</td>\n",
       "      <td>1.000000</td>\n",
       "      <td>1.000000</td>\n",
       "      <td>1.000000</td>\n",
       "      <td>1.000000</td>\n",
       "      <td>1.000000</td>\n",
       "      <td>1.000000</td>\n",
       "      <td>1.000000</td>\n",
       "      <td>1.000000</td>\n",
       "      <td>1.000000</td>\n",
       "      <td>1.000000</td>\n",
       "      <td>7.000000</td>\n",
       "    </tr>\n",
       "    <tr>\n",
       "      <th>max</th>\n",
       "      <td>704.000000</td>\n",
       "      <td>1.000000</td>\n",
       "      <td>1.000000</td>\n",
       "      <td>1.000000</td>\n",
       "      <td>1.000000</td>\n",
       "      <td>1.000000</td>\n",
       "      <td>1.000000</td>\n",
       "      <td>1.000000</td>\n",
       "      <td>1.000000</td>\n",
       "      <td>1.000000</td>\n",
       "      <td>1.000000</td>\n",
       "      <td>10.000000</td>\n",
       "    </tr>\n",
       "  </tbody>\n",
       "</table>\n",
       "</div>"
      ],
      "text/plain": [
       "               id    A1_Score    A2_Score    A3_Score    A4_Score    A5_Score   \n",
       "count  704.000000  704.000000  704.000000  704.000000  704.000000  704.000000  \\\n",
       "mean   352.500000    0.721591    0.453125    0.457386    0.495739    0.498580   \n",
       "std    203.371581    0.448535    0.498152    0.498535    0.500337    0.500353   \n",
       "min      1.000000    0.000000    0.000000    0.000000    0.000000    0.000000   \n",
       "25%    176.750000    0.000000    0.000000    0.000000    0.000000    0.000000   \n",
       "50%    352.500000    1.000000    0.000000    0.000000    0.000000    0.000000   \n",
       "75%    528.250000    1.000000    1.000000    1.000000    1.000000    1.000000   \n",
       "max    704.000000    1.000000    1.000000    1.000000    1.000000    1.000000   \n",
       "\n",
       "         A6_Score    A7_Score    A8_Score    A9_Score   A10_Score      result  \n",
       "count  704.000000  704.000000  704.000000  704.000000  704.000000  704.000000  \n",
       "mean     0.284091    0.417614    0.649148    0.323864    0.573864    4.875000  \n",
       "std      0.451301    0.493516    0.477576    0.468281    0.494866    2.501493  \n",
       "min      0.000000    0.000000    0.000000    0.000000    0.000000    0.000000  \n",
       "25%      0.000000    0.000000    0.000000    0.000000    0.000000    3.000000  \n",
       "50%      0.000000    0.000000    1.000000    0.000000    1.000000    4.000000  \n",
       "75%      1.000000    1.000000    1.000000    1.000000    1.000000    7.000000  \n",
       "max      1.000000    1.000000    1.000000    1.000000    1.000000   10.000000  "
      ]
     },
     "execution_count": 26,
     "metadata": {},
     "output_type": "execute_result"
    }
   ],
   "source": [
    "data.describe()"
   ]
  },
  {
   "cell_type": "code",
   "execution_count": 27,
   "id": "ab6f2059-30d5-4faa-ba0e-2713dc9b90f9",
   "metadata": {},
   "outputs": [
    {
     "name": "stdout",
     "output_type": "stream",
     "text": [
      "<class 'pandas.core.frame.DataFrame'>\n",
      "RangeIndex: 704 entries, 0 to 703\n",
      "Data columns (total 22 columns):\n",
      " #   Column           Non-Null Count  Dtype \n",
      "---  ------           --------------  ----- \n",
      " 0   id               704 non-null    int64 \n",
      " 1   A1_Score         704 non-null    int64 \n",
      " 2   A2_Score         704 non-null    int64 \n",
      " 3   A3_Score         704 non-null    int64 \n",
      " 4   A4_Score         704 non-null    int64 \n",
      " 5   A5_Score         704 non-null    int64 \n",
      " 6   A6_Score         704 non-null    int64 \n",
      " 7   A7_Score         704 non-null    int64 \n",
      " 8   A8_Score         704 non-null    int64 \n",
      " 9   A9_Score         704 non-null    int64 \n",
      " 10  A10_Score        704 non-null    int64 \n",
      " 11  age              704 non-null    object\n",
      " 12  gender           704 non-null    object\n",
      " 13  ethnicity        704 non-null    object\n",
      " 14  jundice          704 non-null    object\n",
      " 15  austim           704 non-null    object\n",
      " 16  contry_of_res    704 non-null    object\n",
      " 17  used_app_before  704 non-null    object\n",
      " 18  result           704 non-null    int64 \n",
      " 19  age_desc         704 non-null    object\n",
      " 20  relation         704 non-null    object\n",
      " 21  Class/ASD        704 non-null    object\n",
      "dtypes: int64(12), object(10)\n",
      "memory usage: 121.1+ KB\n"
     ]
    }
   ],
   "source": [
    "data.info()"
   ]
  },
  {
   "cell_type": "markdown",
   "id": "498d4c7c",
   "metadata": {},
   "source": [
    "# Data cleaning"
   ]
  },
  {
   "cell_type": "code",
   "execution_count": 28,
   "id": "fcb94863-0078-4f36-86b0-80e58cd37418",
   "metadata": {},
   "outputs": [
    {
     "data": {
      "text/plain": [
       "array(['18 and more'], dtype=object)"
      ]
     },
     "execution_count": 28,
     "metadata": {},
     "output_type": "execute_result"
    }
   ],
   "source": [
    "data.age_desc.unique() # remove this variable"
   ]
  },
  {
   "cell_type": "code",
   "execution_count": 29,
   "id": "8517198d",
   "metadata": {},
   "outputs": [],
   "source": [
    "data.drop(['id', 'age_desc'], axis=1, inplace=True)"
   ]
  },
  {
   "cell_type": "code",
   "execution_count": 30,
   "id": "ef3a6d52-d335-4a7b-a527-d8c9b8e97f9e",
   "metadata": {},
   "outputs": [],
   "source": [
    "lst = list()\n",
    "for i in data.age:\n",
    "    if i == '?':\n",
    "        lst.append(np.NaN)\n",
    "    else:\n",
    "        lst.append(i)\n",
    "data.age = lst\n",
    "data.age = pd.to_numeric(data.age)"
   ]
  },
  {
   "cell_type": "code",
   "execution_count": 31,
   "id": "3ba82d90-4954-43f9-b4fa-941315340b30",
   "metadata": {},
   "outputs": [
    {
     "data": {
      "text/html": [
       "<div>\n",
       "<style scoped>\n",
       "    .dataframe tbody tr th:only-of-type {\n",
       "        vertical-align: middle;\n",
       "    }\n",
       "\n",
       "    .dataframe tbody tr th {\n",
       "        vertical-align: top;\n",
       "    }\n",
       "\n",
       "    .dataframe thead th {\n",
       "        text-align: right;\n",
       "    }\n",
       "</style>\n",
       "<table border=\"1\" class=\"dataframe\">\n",
       "  <thead>\n",
       "    <tr style=\"text-align: right;\">\n",
       "      <th></th>\n",
       "      <th>A1_Score</th>\n",
       "      <th>A2_Score</th>\n",
       "      <th>A3_Score</th>\n",
       "      <th>A4_Score</th>\n",
       "      <th>A5_Score</th>\n",
       "      <th>A6_Score</th>\n",
       "      <th>A7_Score</th>\n",
       "      <th>A8_Score</th>\n",
       "      <th>A9_Score</th>\n",
       "      <th>A10_Score</th>\n",
       "      <th>age</th>\n",
       "      <th>result</th>\n",
       "    </tr>\n",
       "  </thead>\n",
       "  <tbody>\n",
       "    <tr>\n",
       "      <th>count</th>\n",
       "      <td>704.000000</td>\n",
       "      <td>704.000000</td>\n",
       "      <td>704.000000</td>\n",
       "      <td>704.000000</td>\n",
       "      <td>704.000000</td>\n",
       "      <td>704.000000</td>\n",
       "      <td>704.000000</td>\n",
       "      <td>704.000000</td>\n",
       "      <td>704.000000</td>\n",
       "      <td>704.000000</td>\n",
       "      <td>702.000000</td>\n",
       "      <td>704.000000</td>\n",
       "    </tr>\n",
       "    <tr>\n",
       "      <th>mean</th>\n",
       "      <td>0.721591</td>\n",
       "      <td>0.453125</td>\n",
       "      <td>0.457386</td>\n",
       "      <td>0.495739</td>\n",
       "      <td>0.498580</td>\n",
       "      <td>0.284091</td>\n",
       "      <td>0.417614</td>\n",
       "      <td>0.649148</td>\n",
       "      <td>0.323864</td>\n",
       "      <td>0.573864</td>\n",
       "      <td>29.698006</td>\n",
       "      <td>4.875000</td>\n",
       "    </tr>\n",
       "    <tr>\n",
       "      <th>std</th>\n",
       "      <td>0.448535</td>\n",
       "      <td>0.498152</td>\n",
       "      <td>0.498535</td>\n",
       "      <td>0.500337</td>\n",
       "      <td>0.500353</td>\n",
       "      <td>0.451301</td>\n",
       "      <td>0.493516</td>\n",
       "      <td>0.477576</td>\n",
       "      <td>0.468281</td>\n",
       "      <td>0.494866</td>\n",
       "      <td>16.507465</td>\n",
       "      <td>2.501493</td>\n",
       "    </tr>\n",
       "    <tr>\n",
       "      <th>min</th>\n",
       "      <td>0.000000</td>\n",
       "      <td>0.000000</td>\n",
       "      <td>0.000000</td>\n",
       "      <td>0.000000</td>\n",
       "      <td>0.000000</td>\n",
       "      <td>0.000000</td>\n",
       "      <td>0.000000</td>\n",
       "      <td>0.000000</td>\n",
       "      <td>0.000000</td>\n",
       "      <td>0.000000</td>\n",
       "      <td>17.000000</td>\n",
       "      <td>0.000000</td>\n",
       "    </tr>\n",
       "    <tr>\n",
       "      <th>25%</th>\n",
       "      <td>0.000000</td>\n",
       "      <td>0.000000</td>\n",
       "      <td>0.000000</td>\n",
       "      <td>0.000000</td>\n",
       "      <td>0.000000</td>\n",
       "      <td>0.000000</td>\n",
       "      <td>0.000000</td>\n",
       "      <td>0.000000</td>\n",
       "      <td>0.000000</td>\n",
       "      <td>0.000000</td>\n",
       "      <td>21.000000</td>\n",
       "      <td>3.000000</td>\n",
       "    </tr>\n",
       "    <tr>\n",
       "      <th>50%</th>\n",
       "      <td>1.000000</td>\n",
       "      <td>0.000000</td>\n",
       "      <td>0.000000</td>\n",
       "      <td>0.000000</td>\n",
       "      <td>0.000000</td>\n",
       "      <td>0.000000</td>\n",
       "      <td>0.000000</td>\n",
       "      <td>1.000000</td>\n",
       "      <td>0.000000</td>\n",
       "      <td>1.000000</td>\n",
       "      <td>27.000000</td>\n",
       "      <td>4.000000</td>\n",
       "    </tr>\n",
       "    <tr>\n",
       "      <th>75%</th>\n",
       "      <td>1.000000</td>\n",
       "      <td>1.000000</td>\n",
       "      <td>1.000000</td>\n",
       "      <td>1.000000</td>\n",
       "      <td>1.000000</td>\n",
       "      <td>1.000000</td>\n",
       "      <td>1.000000</td>\n",
       "      <td>1.000000</td>\n",
       "      <td>1.000000</td>\n",
       "      <td>1.000000</td>\n",
       "      <td>35.000000</td>\n",
       "      <td>7.000000</td>\n",
       "    </tr>\n",
       "    <tr>\n",
       "      <th>max</th>\n",
       "      <td>1.000000</td>\n",
       "      <td>1.000000</td>\n",
       "      <td>1.000000</td>\n",
       "      <td>1.000000</td>\n",
       "      <td>1.000000</td>\n",
       "      <td>1.000000</td>\n",
       "      <td>1.000000</td>\n",
       "      <td>1.000000</td>\n",
       "      <td>1.000000</td>\n",
       "      <td>1.000000</td>\n",
       "      <td>383.000000</td>\n",
       "      <td>10.000000</td>\n",
       "    </tr>\n",
       "  </tbody>\n",
       "</table>\n",
       "</div>"
      ],
      "text/plain": [
       "         A1_Score    A2_Score    A3_Score    A4_Score    A5_Score    A6_Score   \n",
       "count  704.000000  704.000000  704.000000  704.000000  704.000000  704.000000  \\\n",
       "mean     0.721591    0.453125    0.457386    0.495739    0.498580    0.284091   \n",
       "std      0.448535    0.498152    0.498535    0.500337    0.500353    0.451301   \n",
       "min      0.000000    0.000000    0.000000    0.000000    0.000000    0.000000   \n",
       "25%      0.000000    0.000000    0.000000    0.000000    0.000000    0.000000   \n",
       "50%      1.000000    0.000000    0.000000    0.000000    0.000000    0.000000   \n",
       "75%      1.000000    1.000000    1.000000    1.000000    1.000000    1.000000   \n",
       "max      1.000000    1.000000    1.000000    1.000000    1.000000    1.000000   \n",
       "\n",
       "         A7_Score    A8_Score    A9_Score   A10_Score         age      result  \n",
       "count  704.000000  704.000000  704.000000  704.000000  702.000000  704.000000  \n",
       "mean     0.417614    0.649148    0.323864    0.573864   29.698006    4.875000  \n",
       "std      0.493516    0.477576    0.468281    0.494866   16.507465    2.501493  \n",
       "min      0.000000    0.000000    0.000000    0.000000   17.000000    0.000000  \n",
       "25%      0.000000    0.000000    0.000000    0.000000   21.000000    3.000000  \n",
       "50%      0.000000    1.000000    0.000000    1.000000   27.000000    4.000000  \n",
       "75%      1.000000    1.000000    1.000000    1.000000   35.000000    7.000000  \n",
       "max      1.000000    1.000000    1.000000    1.000000  383.000000   10.000000  "
      ]
     },
     "execution_count": 31,
     "metadata": {},
     "output_type": "execute_result"
    }
   ],
   "source": [
    "data.describe()"
   ]
  },
  {
   "cell_type": "code",
   "execution_count": 32,
   "id": "b4e2e8cd",
   "metadata": {},
   "outputs": [],
   "source": [
    "from plotly.subplots import make_subplots\n",
    "import plotly.graph_objects as go"
   ]
  },
  {
   "cell_type": "code",
   "execution_count": 60,
   "id": "5f22511e",
   "metadata": {},
   "outputs": [
    {
     "data": {
      "application/vnd.plotly.v1+json": {
       "config": {
        "plotlyServerURL": "https://plot.ly"
       },
       "data": [
        {
         "alignmentgroup": "True",
         "boxpoints": "all",
         "hovertemplate": "variable=%{x}<br>value=%{y}<extra></extra>",
         "legendgroup": "",
         "marker": {
          "color": "#636efa"
         },
         "name": "",
         "notched": true,
         "offsetgroup": "",
         "orientation": "v",
         "showlegend": false,
         "type": "box",
         "x": [
          "age",
          "age",
          "age",
          "age",
          "age",
          "age",
          "age",
          "age",
          "age",
          "age",
          "age",
          "age",
          "age",
          "age",
          "age",
          "age",
          "age",
          "age",
          "age",
          "age",
          "age",
          "age",
          "age",
          "age",
          "age",
          "age",
          "age",
          "age",
          "age",
          "age",
          "age",
          "age",
          "age",
          "age",
          "age",
          "age",
          "age",
          "age",
          "age",
          "age",
          "age",
          "age",
          "age",
          "age",
          "age",
          "age",
          "age",
          "age",
          "age",
          "age",
          "age",
          "age",
          "age",
          "age",
          "age",
          "age",
          "age",
          "age",
          "age",
          "age",
          "age",
          "age",
          "age",
          "age",
          "age",
          "age",
          "age",
          "age",
          "age",
          "age",
          "age",
          "age",
          "age",
          "age",
          "age",
          "age",
          "age",
          "age",
          "age",
          "age",
          "age",
          "age",
          "age",
          "age",
          "age",
          "age",
          "age",
          "age",
          "age",
          "age",
          "age",
          "age",
          "age",
          "age",
          "age",
          "age",
          "age",
          "age",
          "age",
          "age",
          "age",
          "age",
          "age",
          "age",
          "age",
          "age",
          "age",
          "age",
          "age",
          "age",
          "age",
          "age",
          "age",
          "age",
          "age",
          "age",
          "age",
          "age",
          "age",
          "age",
          "age",
          "age",
          "age",
          "age",
          "age",
          "age",
          "age",
          "age",
          "age",
          "age",
          "age",
          "age",
          "age",
          "age",
          "age",
          "age",
          "age",
          "age",
          "age",
          "age",
          "age",
          "age",
          "age",
          "age",
          "age",
          "age",
          "age",
          "age",
          "age",
          "age",
          "age",
          "age",
          "age",
          "age",
          "age",
          "age",
          "age",
          "age",
          "age",
          "age",
          "age",
          "age",
          "age",
          "age",
          "age",
          "age",
          "age",
          "age",
          "age",
          "age",
          "age",
          "age",
          "age",
          "age",
          "age",
          "age",
          "age",
          "age",
          "age",
          "age",
          "age",
          "age",
          "age",
          "age",
          "age",
          "age",
          "age",
          "age",
          "age",
          "age",
          "age",
          "age",
          "age",
          "age",
          "age",
          "age",
          "age",
          "age",
          "age",
          "age",
          "age",
          "age",
          "age",
          "age",
          "age",
          "age",
          "age",
          "age",
          "age",
          "age",
          "age",
          "age",
          "age",
          "age",
          "age",
          "age",
          "age",
          "age",
          "age",
          "age",
          "age",
          "age",
          "age",
          "age",
          "age",
          "age",
          "age",
          "age",
          "age",
          "age",
          "age",
          "age",
          "age",
          "age",
          "age",
          "age",
          "age",
          "age",
          "age",
          "age",
          "age",
          "age",
          "age",
          "age",
          "age",
          "age",
          "age",
          "age",
          "age",
          "age",
          "age",
          "age",
          "age",
          "age",
          "age",
          "age",
          "age",
          "age",
          "age",
          "age",
          "age",
          "age",
          "age",
          "age",
          "age",
          "age",
          "age",
          "age",
          "age",
          "age",
          "age",
          "age",
          "age",
          "age",
          "age",
          "age",
          "age",
          "age",
          "age",
          "age",
          "age",
          "age",
          "age",
          "age",
          "age",
          "age",
          "age",
          "age",
          "age",
          "age",
          "age",
          "age",
          "age",
          "age",
          "age",
          "age",
          "age",
          "age",
          "age",
          "age",
          "age",
          "age",
          "age",
          "age",
          "age",
          "age",
          "age",
          "age",
          "age",
          "age",
          "age",
          "age",
          "age",
          "age",
          "age",
          "age",
          "age",
          "age",
          "age",
          "age",
          "age",
          "age",
          "age",
          "age",
          "age",
          "age",
          "age",
          "age",
          "age",
          "age",
          "age",
          "age",
          "age",
          "age",
          "age",
          "age",
          "age",
          "age",
          "age",
          "age",
          "age",
          "age",
          "age",
          "age",
          "age",
          "age",
          "age",
          "age",
          "age",
          "age",
          "age",
          "age",
          "age",
          "age",
          "age",
          "age",
          "age",
          "age",
          "age",
          "age",
          "age",
          "age",
          "age",
          "age",
          "age",
          "age",
          "age",
          "age",
          "age",
          "age",
          "age",
          "age",
          "age",
          "age",
          "age",
          "age",
          "age",
          "age",
          "age",
          "age",
          "age",
          "age",
          "age",
          "age",
          "age",
          "age",
          "age",
          "age",
          "age",
          "age",
          "age",
          "age",
          "age",
          "age",
          "age",
          "age",
          "age",
          "age",
          "age",
          "age",
          "age",
          "age",
          "age",
          "age",
          "age",
          "age",
          "age",
          "age",
          "age",
          "age",
          "age",
          "age",
          "age",
          "age",
          "age",
          "age",
          "age",
          "age",
          "age",
          "age",
          "age",
          "age",
          "age",
          "age",
          "age",
          "age",
          "age",
          "age",
          "age",
          "age",
          "age",
          "age",
          "age",
          "age",
          "age",
          "age",
          "age",
          "age",
          "age",
          "age",
          "age",
          "age",
          "age",
          "age",
          "age",
          "age",
          "age",
          "age",
          "age",
          "age",
          "age",
          "age",
          "age",
          "age",
          "age",
          "age",
          "age",
          "age",
          "age",
          "age",
          "age",
          "age",
          "age",
          "age",
          "age",
          "age",
          "age",
          "age",
          "age",
          "age",
          "age",
          "age",
          "age",
          "age",
          "age",
          "age",
          "age",
          "age",
          "age",
          "age",
          "age",
          "age",
          "age",
          "age",
          "age",
          "age",
          "age",
          "age",
          "age",
          "age",
          "age",
          "age",
          "age",
          "age",
          "age",
          "age",
          "age",
          "age",
          "age",
          "age",
          "age",
          "age",
          "age",
          "age",
          "age",
          "age",
          "age",
          "age",
          "age",
          "age",
          "age",
          "age",
          "age",
          "age",
          "age",
          "age",
          "age",
          "age",
          "age",
          "age",
          "age",
          "age",
          "age",
          "age",
          "age",
          "age",
          "age",
          "age",
          "age",
          "age",
          "age",
          "age",
          "age",
          "age",
          "age",
          "age",
          "age",
          "age",
          "age",
          "age",
          "age",
          "age",
          "age",
          "age",
          "age",
          "age",
          "age",
          "age",
          "age",
          "age",
          "age",
          "age",
          "age",
          "age",
          "age",
          "age",
          "age",
          "age",
          "age",
          "age",
          "age",
          "age",
          "age",
          "age",
          "age",
          "age",
          "age",
          "age",
          "age",
          "age",
          "age",
          "age",
          "age",
          "age",
          "age",
          "age",
          "age",
          "age",
          "age",
          "age",
          "age",
          "age",
          "age",
          "age",
          "age",
          "age",
          "age",
          "age",
          "age",
          "age",
          "age",
          "age",
          "age",
          "age",
          "age",
          "age",
          "age",
          "age",
          "age",
          "age",
          "age",
          "age",
          "age",
          "age",
          "age",
          "age",
          "age",
          "age",
          "age",
          "age",
          "age",
          "age",
          "age",
          "age",
          "age",
          "age",
          "age",
          "age",
          "age",
          "age",
          "age",
          "age",
          "age",
          "age",
          "age",
          "age",
          "age",
          "age",
          "age",
          "age",
          "age",
          "age",
          "age",
          "age",
          "age",
          "age",
          "age",
          "age",
          "age",
          "age",
          "age",
          "age",
          "age",
          "age",
          "age",
          "age",
          "age",
          "age",
          "age",
          "age",
          "age",
          "age",
          "age",
          "age",
          "age",
          "age",
          "age",
          "age",
          "age",
          "age",
          "age",
          "age",
          "age",
          "age",
          "age",
          "age",
          "age",
          "age",
          "age",
          "age",
          "age",
          "age",
          "age",
          "age",
          "age",
          "age",
          "age",
          "age",
          "age",
          "age",
          "age",
          "age",
          "age",
          "age",
          "age",
          "age",
          "age",
          "age",
          "age",
          "age",
          "age",
          "age",
          "age",
          "age",
          "age",
          "age",
          "age",
          "age",
          "age",
          "age",
          "age",
          "age",
          "age",
          "age"
         ],
         "x0": " ",
         "xaxis": "x",
         "y": [
          26,
          24,
          27,
          35,
          40,
          36,
          17,
          64,
          29,
          17,
          33,
          18,
          17,
          17,
          17,
          18,
          31,
          30,
          35,
          34,
          38,
          27,
          27,
          42,
          43,
          24,
          40,
          40,
          48,
          31,
          18,
          37,
          55,
          18,
          18,
          55,
          50,
          34,
          53,
          35,
          20,
          28,
          34,
          36,
          27,
          53,
          24,
          24,
          55,
          30,
          21,
          35,
          383,
          21,
          47,
          30,
          28,
          43,
          32,
          44,
          20,
          20,
          null,
          19,
          29,
          21,
          27,
          21,
          35,
          42,
          29,
          58,
          21,
          21,
          37,
          21,
          20,
          33,
          20,
          45,
          32,
          30,
          33,
          42,
          17,
          27,
          35,
          37,
          30,
          29,
          17,
          null,
          22,
          19,
          42,
          37,
          28,
          22,
          26,
          21,
          26,
          39,
          26,
          26,
          21,
          25,
          26,
          30,
          19,
          19,
          25,
          23,
          31,
          27,
          29,
          38,
          23,
          27,
          27,
          42,
          20,
          17,
          20,
          30,
          28,
          26,
          26,
          31,
          40,
          39,
          18,
          24,
          23,
          24,
          24,
          27,
          24,
          25,
          22,
          40,
          23,
          29,
          25,
          27,
          22,
          28,
          20,
          19,
          37,
          35,
          26,
          23,
          32,
          30,
          31,
          28,
          29,
          29,
          29,
          31,
          36,
          32,
          34,
          24,
          24,
          42,
          26,
          27,
          36,
          36,
          55,
          23,
          22,
          42,
          54,
          43,
          43,
          29,
          29,
          37,
          39,
          18,
          31,
          34,
          22,
          28,
          38,
          28,
          53,
          26,
          37,
          42,
          43,
          32,
          31,
          53,
          28,
          38,
          31,
          31,
          21,
          25,
          25,
          60,
          39,
          53,
          20,
          25,
          50,
          28,
          37,
          30,
          32,
          34,
          42,
          22,
          37,
          39,
          18,
          54,
          42,
          27,
          22,
          22,
          21,
          28,
          17,
          28,
          21,
          31,
          20,
          21,
          22,
          21,
          24,
          24,
          25,
          17,
          21,
          23,
          21,
          22,
          24,
          34,
          30,
          29,
          20,
          23,
          26,
          20,
          41,
          24,
          35,
          23,
          36,
          33,
          24,
          25,
          25,
          25,
          24,
          27,
          26,
          26,
          23,
          30,
          25,
          23,
          34,
          20,
          22,
          33,
          46,
          17,
          45,
          26,
          30,
          32,
          38,
          26,
          29,
          33,
          32,
          44,
          47,
          32,
          40,
          40,
          44,
          56,
          23,
          32,
          27,
          28,
          40,
          45,
          19,
          55,
          27,
          19,
          29,
          33,
          48,
          37,
          30,
          37,
          28,
          20,
          25,
          58,
          36,
          36,
          19,
          19,
          22,
          20,
          24,
          19,
          21,
          20,
          18,
          23,
          22,
          18,
          37,
          18,
          18,
          18,
          18,
          18,
          18,
          19,
          55,
          32,
          50,
          40,
          47,
          20,
          22,
          21,
          21,
          19,
          21,
          21,
          23,
          21,
          21,
          23,
          20,
          21,
          20,
          19,
          21,
          26,
          21,
          19,
          22,
          19,
          22,
          20,
          23,
          19,
          20,
          24,
          19,
          20,
          23,
          20,
          20,
          20,
          20,
          21,
          19,
          20,
          20,
          25,
          20,
          22,
          20,
          20,
          20,
          23,
          21,
          22,
          21,
          20,
          22,
          21,
          20,
          20,
          21,
          21,
          23,
          21,
          22,
          19,
          20,
          21,
          26,
          19,
          20,
          26,
          23,
          28,
          19,
          20,
          19,
          24,
          19,
          22,
          20,
          21,
          24,
          18,
          19,
          19,
          31,
          19,
          21,
          20,
          26,
          27,
          23,
          29,
          23,
          23,
          24,
          21,
          20,
          20,
          32,
          61,
          19,
          35,
          34,
          23,
          19,
          36,
          21,
          23,
          17,
          22,
          33,
          23,
          35,
          21,
          20,
          29,
          59,
          18,
          19,
          24,
          36,
          19,
          17,
          52,
          18,
          30,
          18,
          27,
          52,
          45,
          25,
          29,
          29,
          18,
          18,
          17,
          27,
          22,
          23,
          25,
          23,
          29,
          27,
          27,
          43,
          26,
          30,
          23,
          29,
          37,
          28,
          25,
          25,
          21,
          43,
          30,
          18,
          18,
          30,
          31,
          33,
          33,
          26,
          61,
          46,
          33,
          38,
          44,
          48,
          42,
          37,
          23,
          24,
          41,
          41,
          27,
          46,
          40,
          22,
          42,
          18,
          44,
          30,
          42,
          35,
          40,
          50,
          38,
          26,
          27,
          47,
          21,
          37,
          19,
          32,
          26,
          46,
          29,
          30,
          32,
          35,
          22,
          19,
          24,
          52,
          52,
          32,
          24,
          24,
          49,
          30,
          30,
          35,
          35,
          37,
          43,
          52,
          44,
          46,
          42,
          20,
          18,
          38,
          24,
          32,
          29,
          22,
          19,
          39,
          17,
          19,
          18,
          19,
          28,
          29,
          48,
          27,
          34,
          31,
          47,
          47,
          44,
          25,
          25,
          20,
          43,
          36,
          30,
          44,
          40,
          40,
          40,
          30,
          47,
          21,
          21,
          31,
          21,
          29,
          22,
          51,
          23,
          30,
          22,
          22,
          24,
          26,
          33,
          23,
          42,
          26,
          29,
          35,
          25,
          25,
          28,
          33,
          25,
          25,
          24,
          27,
          22,
          21,
          27,
          23,
          22,
          23,
          30,
          33,
          24,
          22,
          22,
          29,
          22,
          21,
          23,
          23,
          23,
          32,
          27,
          28,
          25,
          22,
          36,
          27,
          21,
          18,
          49,
          18,
          29,
          31,
          37,
          17,
          17,
          38,
          18,
          31,
          33,
          32,
          30,
          33,
          30,
          30,
          38,
          22,
          36,
          43,
          44,
          20,
          40,
          25,
          28,
          17,
          34,
          56,
          50,
          38,
          47,
          30,
          21,
          21,
          31,
          27,
          24,
          35,
          18,
          43,
          44,
          40,
          49,
          24,
          30,
          53,
          38,
          28,
          28,
          26,
          39,
          31,
          24,
          28,
          31,
          27,
          28,
          31,
          46,
          27,
          25,
          34,
          24,
          35,
          26
         ],
         "y0": " ",
         "yaxis": "y"
        }
       ],
       "layout": {
        "boxmode": "group",
        "height": 800,
        "legend": {
         "tracegroupgap": 0
        },
        "template": {
         "data": {
          "bar": [
           {
            "error_x": {
             "color": "#2a3f5f"
            },
            "error_y": {
             "color": "#2a3f5f"
            },
            "marker": {
             "line": {
              "color": "#E5ECF6",
              "width": 0.5
             },
             "pattern": {
              "fillmode": "overlay",
              "size": 10,
              "solidity": 0.2
             }
            },
            "type": "bar"
           }
          ],
          "barpolar": [
           {
            "marker": {
             "line": {
              "color": "#E5ECF6",
              "width": 0.5
             },
             "pattern": {
              "fillmode": "overlay",
              "size": 10,
              "solidity": 0.2
             }
            },
            "type": "barpolar"
           }
          ],
          "carpet": [
           {
            "aaxis": {
             "endlinecolor": "#2a3f5f",
             "gridcolor": "white",
             "linecolor": "white",
             "minorgridcolor": "white",
             "startlinecolor": "#2a3f5f"
            },
            "baxis": {
             "endlinecolor": "#2a3f5f",
             "gridcolor": "white",
             "linecolor": "white",
             "minorgridcolor": "white",
             "startlinecolor": "#2a3f5f"
            },
            "type": "carpet"
           }
          ],
          "choropleth": [
           {
            "colorbar": {
             "outlinewidth": 0,
             "ticks": ""
            },
            "type": "choropleth"
           }
          ],
          "contour": [
           {
            "colorbar": {
             "outlinewidth": 0,
             "ticks": ""
            },
            "colorscale": [
             [
              0,
              "#0d0887"
             ],
             [
              0.1111111111111111,
              "#46039f"
             ],
             [
              0.2222222222222222,
              "#7201a8"
             ],
             [
              0.3333333333333333,
              "#9c179e"
             ],
             [
              0.4444444444444444,
              "#bd3786"
             ],
             [
              0.5555555555555556,
              "#d8576b"
             ],
             [
              0.6666666666666666,
              "#ed7953"
             ],
             [
              0.7777777777777778,
              "#fb9f3a"
             ],
             [
              0.8888888888888888,
              "#fdca26"
             ],
             [
              1,
              "#f0f921"
             ]
            ],
            "type": "contour"
           }
          ],
          "contourcarpet": [
           {
            "colorbar": {
             "outlinewidth": 0,
             "ticks": ""
            },
            "type": "contourcarpet"
           }
          ],
          "heatmap": [
           {
            "colorbar": {
             "outlinewidth": 0,
             "ticks": ""
            },
            "colorscale": [
             [
              0,
              "#0d0887"
             ],
             [
              0.1111111111111111,
              "#46039f"
             ],
             [
              0.2222222222222222,
              "#7201a8"
             ],
             [
              0.3333333333333333,
              "#9c179e"
             ],
             [
              0.4444444444444444,
              "#bd3786"
             ],
             [
              0.5555555555555556,
              "#d8576b"
             ],
             [
              0.6666666666666666,
              "#ed7953"
             ],
             [
              0.7777777777777778,
              "#fb9f3a"
             ],
             [
              0.8888888888888888,
              "#fdca26"
             ],
             [
              1,
              "#f0f921"
             ]
            ],
            "type": "heatmap"
           }
          ],
          "heatmapgl": [
           {
            "colorbar": {
             "outlinewidth": 0,
             "ticks": ""
            },
            "colorscale": [
             [
              0,
              "#0d0887"
             ],
             [
              0.1111111111111111,
              "#46039f"
             ],
             [
              0.2222222222222222,
              "#7201a8"
             ],
             [
              0.3333333333333333,
              "#9c179e"
             ],
             [
              0.4444444444444444,
              "#bd3786"
             ],
             [
              0.5555555555555556,
              "#d8576b"
             ],
             [
              0.6666666666666666,
              "#ed7953"
             ],
             [
              0.7777777777777778,
              "#fb9f3a"
             ],
             [
              0.8888888888888888,
              "#fdca26"
             ],
             [
              1,
              "#f0f921"
             ]
            ],
            "type": "heatmapgl"
           }
          ],
          "histogram": [
           {
            "marker": {
             "pattern": {
              "fillmode": "overlay",
              "size": 10,
              "solidity": 0.2
             }
            },
            "type": "histogram"
           }
          ],
          "histogram2d": [
           {
            "colorbar": {
             "outlinewidth": 0,
             "ticks": ""
            },
            "colorscale": [
             [
              0,
              "#0d0887"
             ],
             [
              0.1111111111111111,
              "#46039f"
             ],
             [
              0.2222222222222222,
              "#7201a8"
             ],
             [
              0.3333333333333333,
              "#9c179e"
             ],
             [
              0.4444444444444444,
              "#bd3786"
             ],
             [
              0.5555555555555556,
              "#d8576b"
             ],
             [
              0.6666666666666666,
              "#ed7953"
             ],
             [
              0.7777777777777778,
              "#fb9f3a"
             ],
             [
              0.8888888888888888,
              "#fdca26"
             ],
             [
              1,
              "#f0f921"
             ]
            ],
            "type": "histogram2d"
           }
          ],
          "histogram2dcontour": [
           {
            "colorbar": {
             "outlinewidth": 0,
             "ticks": ""
            },
            "colorscale": [
             [
              0,
              "#0d0887"
             ],
             [
              0.1111111111111111,
              "#46039f"
             ],
             [
              0.2222222222222222,
              "#7201a8"
             ],
             [
              0.3333333333333333,
              "#9c179e"
             ],
             [
              0.4444444444444444,
              "#bd3786"
             ],
             [
              0.5555555555555556,
              "#d8576b"
             ],
             [
              0.6666666666666666,
              "#ed7953"
             ],
             [
              0.7777777777777778,
              "#fb9f3a"
             ],
             [
              0.8888888888888888,
              "#fdca26"
             ],
             [
              1,
              "#f0f921"
             ]
            ],
            "type": "histogram2dcontour"
           }
          ],
          "mesh3d": [
           {
            "colorbar": {
             "outlinewidth": 0,
             "ticks": ""
            },
            "type": "mesh3d"
           }
          ],
          "parcoords": [
           {
            "line": {
             "colorbar": {
              "outlinewidth": 0,
              "ticks": ""
             }
            },
            "type": "parcoords"
           }
          ],
          "pie": [
           {
            "automargin": true,
            "type": "pie"
           }
          ],
          "scatter": [
           {
            "fillpattern": {
             "fillmode": "overlay",
             "size": 10,
             "solidity": 0.2
            },
            "type": "scatter"
           }
          ],
          "scatter3d": [
           {
            "line": {
             "colorbar": {
              "outlinewidth": 0,
              "ticks": ""
             }
            },
            "marker": {
             "colorbar": {
              "outlinewidth": 0,
              "ticks": ""
             }
            },
            "type": "scatter3d"
           }
          ],
          "scattercarpet": [
           {
            "marker": {
             "colorbar": {
              "outlinewidth": 0,
              "ticks": ""
             }
            },
            "type": "scattercarpet"
           }
          ],
          "scattergeo": [
           {
            "marker": {
             "colorbar": {
              "outlinewidth": 0,
              "ticks": ""
             }
            },
            "type": "scattergeo"
           }
          ],
          "scattergl": [
           {
            "marker": {
             "colorbar": {
              "outlinewidth": 0,
              "ticks": ""
             }
            },
            "type": "scattergl"
           }
          ],
          "scattermapbox": [
           {
            "marker": {
             "colorbar": {
              "outlinewidth": 0,
              "ticks": ""
             }
            },
            "type": "scattermapbox"
           }
          ],
          "scatterpolar": [
           {
            "marker": {
             "colorbar": {
              "outlinewidth": 0,
              "ticks": ""
             }
            },
            "type": "scatterpolar"
           }
          ],
          "scatterpolargl": [
           {
            "marker": {
             "colorbar": {
              "outlinewidth": 0,
              "ticks": ""
             }
            },
            "type": "scatterpolargl"
           }
          ],
          "scatterternary": [
           {
            "marker": {
             "colorbar": {
              "outlinewidth": 0,
              "ticks": ""
             }
            },
            "type": "scatterternary"
           }
          ],
          "surface": [
           {
            "colorbar": {
             "outlinewidth": 0,
             "ticks": ""
            },
            "colorscale": [
             [
              0,
              "#0d0887"
             ],
             [
              0.1111111111111111,
              "#46039f"
             ],
             [
              0.2222222222222222,
              "#7201a8"
             ],
             [
              0.3333333333333333,
              "#9c179e"
             ],
             [
              0.4444444444444444,
              "#bd3786"
             ],
             [
              0.5555555555555556,
              "#d8576b"
             ],
             [
              0.6666666666666666,
              "#ed7953"
             ],
             [
              0.7777777777777778,
              "#fb9f3a"
             ],
             [
              0.8888888888888888,
              "#fdca26"
             ],
             [
              1,
              "#f0f921"
             ]
            ],
            "type": "surface"
           }
          ],
          "table": [
           {
            "cells": {
             "fill": {
              "color": "#EBF0F8"
             },
             "line": {
              "color": "white"
             }
            },
            "header": {
             "fill": {
              "color": "#C8D4E3"
             },
             "line": {
              "color": "white"
             }
            },
            "type": "table"
           }
          ]
         },
         "layout": {
          "annotationdefaults": {
           "arrowcolor": "#2a3f5f",
           "arrowhead": 0,
           "arrowwidth": 1
          },
          "autotypenumbers": "strict",
          "coloraxis": {
           "colorbar": {
            "outlinewidth": 0,
            "ticks": ""
           }
          },
          "colorscale": {
           "diverging": [
            [
             0,
             "#8e0152"
            ],
            [
             0.1,
             "#c51b7d"
            ],
            [
             0.2,
             "#de77ae"
            ],
            [
             0.3,
             "#f1b6da"
            ],
            [
             0.4,
             "#fde0ef"
            ],
            [
             0.5,
             "#f7f7f7"
            ],
            [
             0.6,
             "#e6f5d0"
            ],
            [
             0.7,
             "#b8e186"
            ],
            [
             0.8,
             "#7fbc41"
            ],
            [
             0.9,
             "#4d9221"
            ],
            [
             1,
             "#276419"
            ]
           ],
           "sequential": [
            [
             0,
             "#0d0887"
            ],
            [
             0.1111111111111111,
             "#46039f"
            ],
            [
             0.2222222222222222,
             "#7201a8"
            ],
            [
             0.3333333333333333,
             "#9c179e"
            ],
            [
             0.4444444444444444,
             "#bd3786"
            ],
            [
             0.5555555555555556,
             "#d8576b"
            ],
            [
             0.6666666666666666,
             "#ed7953"
            ],
            [
             0.7777777777777778,
             "#fb9f3a"
            ],
            [
             0.8888888888888888,
             "#fdca26"
            ],
            [
             1,
             "#f0f921"
            ]
           ],
           "sequentialminus": [
            [
             0,
             "#0d0887"
            ],
            [
             0.1111111111111111,
             "#46039f"
            ],
            [
             0.2222222222222222,
             "#7201a8"
            ],
            [
             0.3333333333333333,
             "#9c179e"
            ],
            [
             0.4444444444444444,
             "#bd3786"
            ],
            [
             0.5555555555555556,
             "#d8576b"
            ],
            [
             0.6666666666666666,
             "#ed7953"
            ],
            [
             0.7777777777777778,
             "#fb9f3a"
            ],
            [
             0.8888888888888888,
             "#fdca26"
            ],
            [
             1,
             "#f0f921"
            ]
           ]
          },
          "colorway": [
           "#636efa",
           "#EF553B",
           "#00cc96",
           "#ab63fa",
           "#FFA15A",
           "#19d3f3",
           "#FF6692",
           "#B6E880",
           "#FF97FF",
           "#FECB52"
          ],
          "font": {
           "color": "#2a3f5f"
          },
          "geo": {
           "bgcolor": "white",
           "lakecolor": "white",
           "landcolor": "#E5ECF6",
           "showlakes": true,
           "showland": true,
           "subunitcolor": "white"
          },
          "hoverlabel": {
           "align": "left"
          },
          "hovermode": "closest",
          "mapbox": {
           "style": "light"
          },
          "paper_bgcolor": "white",
          "plot_bgcolor": "#E5ECF6",
          "polar": {
           "angularaxis": {
            "gridcolor": "white",
            "linecolor": "white",
            "ticks": ""
           },
           "bgcolor": "#E5ECF6",
           "radialaxis": {
            "gridcolor": "white",
            "linecolor": "white",
            "ticks": ""
           }
          },
          "scene": {
           "xaxis": {
            "backgroundcolor": "#E5ECF6",
            "gridcolor": "white",
            "gridwidth": 2,
            "linecolor": "white",
            "showbackground": true,
            "ticks": "",
            "zerolinecolor": "white"
           },
           "yaxis": {
            "backgroundcolor": "#E5ECF6",
            "gridcolor": "white",
            "gridwidth": 2,
            "linecolor": "white",
            "showbackground": true,
            "ticks": "",
            "zerolinecolor": "white"
           },
           "zaxis": {
            "backgroundcolor": "#E5ECF6",
            "gridcolor": "white",
            "gridwidth": 2,
            "linecolor": "white",
            "showbackground": true,
            "ticks": "",
            "zerolinecolor": "white"
           }
          },
          "shapedefaults": {
           "line": {
            "color": "#2a3f5f"
           }
          },
          "ternary": {
           "aaxis": {
            "gridcolor": "white",
            "linecolor": "white",
            "ticks": ""
           },
           "baxis": {
            "gridcolor": "white",
            "linecolor": "white",
            "ticks": ""
           },
           "bgcolor": "#E5ECF6",
           "caxis": {
            "gridcolor": "white",
            "linecolor": "white",
            "ticks": ""
           }
          },
          "title": {
           "x": 0.05
          },
          "xaxis": {
           "automargin": true,
           "gridcolor": "white",
           "linecolor": "white",
           "ticks": "",
           "title": {
            "standoff": 15
           },
           "zerolinecolor": "white",
           "zerolinewidth": 2
          },
          "yaxis": {
           "automargin": true,
           "gridcolor": "white",
           "linecolor": "white",
           "ticks": "",
           "title": {
            "standoff": 15
           },
           "zerolinecolor": "white",
           "zerolinewidth": 2
          }
         }
        },
        "title": {
         "text": "Age box plot"
        },
        "width": 400,
        "xaxis": {
         "anchor": "y",
         "domain": [
          0,
          1
         ],
         "title": {
          "text": "variable"
         }
        },
        "yaxis": {
         "anchor": "x",
         "domain": [
          0,
          1
         ],
         "title": {
          "text": "value"
         }
        }
       }
      },
      "text/html": [
       "<div>                            <div id=\"8fbe3638-69e1-43c5-81c3-9ab93ea3975f\" class=\"plotly-graph-div\" style=\"height:800px; width:400px;\"></div>            <script type=\"text/javascript\">                require([\"plotly\"], function(Plotly) {                    window.PLOTLYENV=window.PLOTLYENV || {};                                    if (document.getElementById(\"8fbe3638-69e1-43c5-81c3-9ab93ea3975f\")) {                    Plotly.newPlot(                        \"8fbe3638-69e1-43c5-81c3-9ab93ea3975f\",                        [{\"alignmentgroup\":\"True\",\"boxpoints\":\"all\",\"hovertemplate\":\"variable=%{x}<br>value=%{y}<extra></extra>\",\"legendgroup\":\"\",\"marker\":{\"color\":\"#636efa\"},\"name\":\"\",\"notched\":true,\"offsetgroup\":\"\",\"orientation\":\"v\",\"showlegend\":false,\"x\":[\"age\",\"age\",\"age\",\"age\",\"age\",\"age\",\"age\",\"age\",\"age\",\"age\",\"age\",\"age\",\"age\",\"age\",\"age\",\"age\",\"age\",\"age\",\"age\",\"age\",\"age\",\"age\",\"age\",\"age\",\"age\",\"age\",\"age\",\"age\",\"age\",\"age\",\"age\",\"age\",\"age\",\"age\",\"age\",\"age\",\"age\",\"age\",\"age\",\"age\",\"age\",\"age\",\"age\",\"age\",\"age\",\"age\",\"age\",\"age\",\"age\",\"age\",\"age\",\"age\",\"age\",\"age\",\"age\",\"age\",\"age\",\"age\",\"age\",\"age\",\"age\",\"age\",\"age\",\"age\",\"age\",\"age\",\"age\",\"age\",\"age\",\"age\",\"age\",\"age\",\"age\",\"age\",\"age\",\"age\",\"age\",\"age\",\"age\",\"age\",\"age\",\"age\",\"age\",\"age\",\"age\",\"age\",\"age\",\"age\",\"age\",\"age\",\"age\",\"age\",\"age\",\"age\",\"age\",\"age\",\"age\",\"age\",\"age\",\"age\",\"age\",\"age\",\"age\",\"age\",\"age\",\"age\",\"age\",\"age\",\"age\",\"age\",\"age\",\"age\",\"age\",\"age\",\"age\",\"age\",\"age\",\"age\",\"age\",\"age\",\"age\",\"age\",\"age\",\"age\",\"age\",\"age\",\"age\",\"age\",\"age\",\"age\",\"age\",\"age\",\"age\",\"age\",\"age\",\"age\",\"age\",\"age\",\"age\",\"age\",\"age\",\"age\",\"age\",\"age\",\"age\",\"age\",\"age\",\"age\",\"age\",\"age\",\"age\",\"age\",\"age\",\"age\",\"age\",\"age\",\"age\",\"age\",\"age\",\"age\",\"age\",\"age\",\"age\",\"age\",\"age\",\"age\",\"age\",\"age\",\"age\",\"age\",\"age\",\"age\",\"age\",\"age\",\"age\",\"age\",\"age\",\"age\",\"age\",\"age\",\"age\",\"age\",\"age\",\"age\",\"age\",\"age\",\"age\",\"age\",\"age\",\"age\",\"age\",\"age\",\"age\",\"age\",\"age\",\"age\",\"age\",\"age\",\"age\",\"age\",\"age\",\"age\",\"age\",\"age\",\"age\",\"age\",\"age\",\"age\",\"age\",\"age\",\"age\",\"age\",\"age\",\"age\",\"age\",\"age\",\"age\",\"age\",\"age\",\"age\",\"age\",\"age\",\"age\",\"age\",\"age\",\"age\",\"age\",\"age\",\"age\",\"age\",\"age\",\"age\",\"age\",\"age\",\"age\",\"age\",\"age\",\"age\",\"age\",\"age\",\"age\",\"age\",\"age\",\"age\",\"age\",\"age\",\"age\",\"age\",\"age\",\"age\",\"age\",\"age\",\"age\",\"age\",\"age\",\"age\",\"age\",\"age\",\"age\",\"age\",\"age\",\"age\",\"age\",\"age\",\"age\",\"age\",\"age\",\"age\",\"age\",\"age\",\"age\",\"age\",\"age\",\"age\",\"age\",\"age\",\"age\",\"age\",\"age\",\"age\",\"age\",\"age\",\"age\",\"age\",\"age\",\"age\",\"age\",\"age\",\"age\",\"age\",\"age\",\"age\",\"age\",\"age\",\"age\",\"age\",\"age\",\"age\",\"age\",\"age\",\"age\",\"age\",\"age\",\"age\",\"age\",\"age\",\"age\",\"age\",\"age\",\"age\",\"age\",\"age\",\"age\",\"age\",\"age\",\"age\",\"age\",\"age\",\"age\",\"age\",\"age\",\"age\",\"age\",\"age\",\"age\",\"age\",\"age\",\"age\",\"age\",\"age\",\"age\",\"age\",\"age\",\"age\",\"age\",\"age\",\"age\",\"age\",\"age\",\"age\",\"age\",\"age\",\"age\",\"age\",\"age\",\"age\",\"age\",\"age\",\"age\",\"age\",\"age\",\"age\",\"age\",\"age\",\"age\",\"age\",\"age\",\"age\",\"age\",\"age\",\"age\",\"age\",\"age\",\"age\",\"age\",\"age\",\"age\",\"age\",\"age\",\"age\",\"age\",\"age\",\"age\",\"age\",\"age\",\"age\",\"age\",\"age\",\"age\",\"age\",\"age\",\"age\",\"age\",\"age\",\"age\",\"age\",\"age\",\"age\",\"age\",\"age\",\"age\",\"age\",\"age\",\"age\",\"age\",\"age\",\"age\",\"age\",\"age\",\"age\",\"age\",\"age\",\"age\",\"age\",\"age\",\"age\",\"age\",\"age\",\"age\",\"age\",\"age\",\"age\",\"age\",\"age\",\"age\",\"age\",\"age\",\"age\",\"age\",\"age\",\"age\",\"age\",\"age\",\"age\",\"age\",\"age\",\"age\",\"age\",\"age\",\"age\",\"age\",\"age\",\"age\",\"age\",\"age\",\"age\",\"age\",\"age\",\"age\",\"age\",\"age\",\"age\",\"age\",\"age\",\"age\",\"age\",\"age\",\"age\",\"age\",\"age\",\"age\",\"age\",\"age\",\"age\",\"age\",\"age\",\"age\",\"age\",\"age\",\"age\",\"age\",\"age\",\"age\",\"age\",\"age\",\"age\",\"age\",\"age\",\"age\",\"age\",\"age\",\"age\",\"age\",\"age\",\"age\",\"age\",\"age\",\"age\",\"age\",\"age\",\"age\",\"age\",\"age\",\"age\",\"age\",\"age\",\"age\",\"age\",\"age\",\"age\",\"age\",\"age\",\"age\",\"age\",\"age\",\"age\",\"age\",\"age\",\"age\",\"age\",\"age\",\"age\",\"age\",\"age\",\"age\",\"age\",\"age\",\"age\",\"age\",\"age\",\"age\",\"age\",\"age\",\"age\",\"age\",\"age\",\"age\",\"age\",\"age\",\"age\",\"age\",\"age\",\"age\",\"age\",\"age\",\"age\",\"age\",\"age\",\"age\",\"age\",\"age\",\"age\",\"age\",\"age\",\"age\",\"age\",\"age\",\"age\",\"age\",\"age\",\"age\",\"age\",\"age\",\"age\",\"age\",\"age\",\"age\",\"age\",\"age\",\"age\",\"age\",\"age\",\"age\",\"age\",\"age\",\"age\",\"age\",\"age\",\"age\",\"age\",\"age\",\"age\",\"age\",\"age\",\"age\",\"age\",\"age\",\"age\",\"age\",\"age\",\"age\",\"age\",\"age\",\"age\",\"age\",\"age\",\"age\",\"age\",\"age\",\"age\",\"age\",\"age\",\"age\",\"age\",\"age\",\"age\",\"age\",\"age\",\"age\",\"age\",\"age\",\"age\",\"age\",\"age\",\"age\",\"age\",\"age\",\"age\",\"age\",\"age\",\"age\",\"age\",\"age\",\"age\",\"age\",\"age\",\"age\",\"age\",\"age\",\"age\",\"age\",\"age\",\"age\",\"age\",\"age\",\"age\",\"age\",\"age\",\"age\",\"age\",\"age\",\"age\",\"age\",\"age\",\"age\",\"age\",\"age\",\"age\",\"age\",\"age\",\"age\",\"age\",\"age\",\"age\",\"age\",\"age\",\"age\",\"age\",\"age\",\"age\",\"age\",\"age\",\"age\",\"age\",\"age\",\"age\",\"age\",\"age\",\"age\",\"age\",\"age\",\"age\",\"age\",\"age\",\"age\",\"age\",\"age\",\"age\",\"age\",\"age\",\"age\",\"age\",\"age\",\"age\",\"age\",\"age\",\"age\",\"age\",\"age\",\"age\",\"age\",\"age\",\"age\",\"age\",\"age\",\"age\",\"age\",\"age\",\"age\",\"age\",\"age\",\"age\",\"age\",\"age\",\"age\",\"age\",\"age\",\"age\",\"age\",\"age\",\"age\",\"age\",\"age\",\"age\",\"age\",\"age\",\"age\",\"age\",\"age\",\"age\",\"age\",\"age\",\"age\",\"age\"],\"x0\":\" \",\"xaxis\":\"x\",\"y\":[26.0,24.0,27.0,35.0,40.0,36.0,17.0,64.0,29.0,17.0,33.0,18.0,17.0,17.0,17.0,18.0,31.0,30.0,35.0,34.0,38.0,27.0,27.0,42.0,43.0,24.0,40.0,40.0,48.0,31.0,18.0,37.0,55.0,18.0,18.0,55.0,50.0,34.0,53.0,35.0,20.0,28.0,34.0,36.0,27.0,53.0,24.0,24.0,55.0,30.0,21.0,35.0,383.0,21.0,47.0,30.0,28.0,43.0,32.0,44.0,20.0,20.0,null,19.0,29.0,21.0,27.0,21.0,35.0,42.0,29.0,58.0,21.0,21.0,37.0,21.0,20.0,33.0,20.0,45.0,32.0,30.0,33.0,42.0,17.0,27.0,35.0,37.0,30.0,29.0,17.0,null,22.0,19.0,42.0,37.0,28.0,22.0,26.0,21.0,26.0,39.0,26.0,26.0,21.0,25.0,26.0,30.0,19.0,19.0,25.0,23.0,31.0,27.0,29.0,38.0,23.0,27.0,27.0,42.0,20.0,17.0,20.0,30.0,28.0,26.0,26.0,31.0,40.0,39.0,18.0,24.0,23.0,24.0,24.0,27.0,24.0,25.0,22.0,40.0,23.0,29.0,25.0,27.0,22.0,28.0,20.0,19.0,37.0,35.0,26.0,23.0,32.0,30.0,31.0,28.0,29.0,29.0,29.0,31.0,36.0,32.0,34.0,24.0,24.0,42.0,26.0,27.0,36.0,36.0,55.0,23.0,22.0,42.0,54.0,43.0,43.0,29.0,29.0,37.0,39.0,18.0,31.0,34.0,22.0,28.0,38.0,28.0,53.0,26.0,37.0,42.0,43.0,32.0,31.0,53.0,28.0,38.0,31.0,31.0,21.0,25.0,25.0,60.0,39.0,53.0,20.0,25.0,50.0,28.0,37.0,30.0,32.0,34.0,42.0,22.0,37.0,39.0,18.0,54.0,42.0,27.0,22.0,22.0,21.0,28.0,17.0,28.0,21.0,31.0,20.0,21.0,22.0,21.0,24.0,24.0,25.0,17.0,21.0,23.0,21.0,22.0,24.0,34.0,30.0,29.0,20.0,23.0,26.0,20.0,41.0,24.0,35.0,23.0,36.0,33.0,24.0,25.0,25.0,25.0,24.0,27.0,26.0,26.0,23.0,30.0,25.0,23.0,34.0,20.0,22.0,33.0,46.0,17.0,45.0,26.0,30.0,32.0,38.0,26.0,29.0,33.0,32.0,44.0,47.0,32.0,40.0,40.0,44.0,56.0,23.0,32.0,27.0,28.0,40.0,45.0,19.0,55.0,27.0,19.0,29.0,33.0,48.0,37.0,30.0,37.0,28.0,20.0,25.0,58.0,36.0,36.0,19.0,19.0,22.0,20.0,24.0,19.0,21.0,20.0,18.0,23.0,22.0,18.0,37.0,18.0,18.0,18.0,18.0,18.0,18.0,19.0,55.0,32.0,50.0,40.0,47.0,20.0,22.0,21.0,21.0,19.0,21.0,21.0,23.0,21.0,21.0,23.0,20.0,21.0,20.0,19.0,21.0,26.0,21.0,19.0,22.0,19.0,22.0,20.0,23.0,19.0,20.0,24.0,19.0,20.0,23.0,20.0,20.0,20.0,20.0,21.0,19.0,20.0,20.0,25.0,20.0,22.0,20.0,20.0,20.0,23.0,21.0,22.0,21.0,20.0,22.0,21.0,20.0,20.0,21.0,21.0,23.0,21.0,22.0,19.0,20.0,21.0,26.0,19.0,20.0,26.0,23.0,28.0,19.0,20.0,19.0,24.0,19.0,22.0,20.0,21.0,24.0,18.0,19.0,19.0,31.0,19.0,21.0,20.0,26.0,27.0,23.0,29.0,23.0,23.0,24.0,21.0,20.0,20.0,32.0,61.0,19.0,35.0,34.0,23.0,19.0,36.0,21.0,23.0,17.0,22.0,33.0,23.0,35.0,21.0,20.0,29.0,59.0,18.0,19.0,24.0,36.0,19.0,17.0,52.0,18.0,30.0,18.0,27.0,52.0,45.0,25.0,29.0,29.0,18.0,18.0,17.0,27.0,22.0,23.0,25.0,23.0,29.0,27.0,27.0,43.0,26.0,30.0,23.0,29.0,37.0,28.0,25.0,25.0,21.0,43.0,30.0,18.0,18.0,30.0,31.0,33.0,33.0,26.0,61.0,46.0,33.0,38.0,44.0,48.0,42.0,37.0,23.0,24.0,41.0,41.0,27.0,46.0,40.0,22.0,42.0,18.0,44.0,30.0,42.0,35.0,40.0,50.0,38.0,26.0,27.0,47.0,21.0,37.0,19.0,32.0,26.0,46.0,29.0,30.0,32.0,35.0,22.0,19.0,24.0,52.0,52.0,32.0,24.0,24.0,49.0,30.0,30.0,35.0,35.0,37.0,43.0,52.0,44.0,46.0,42.0,20.0,18.0,38.0,24.0,32.0,29.0,22.0,19.0,39.0,17.0,19.0,18.0,19.0,28.0,29.0,48.0,27.0,34.0,31.0,47.0,47.0,44.0,25.0,25.0,20.0,43.0,36.0,30.0,44.0,40.0,40.0,40.0,30.0,47.0,21.0,21.0,31.0,21.0,29.0,22.0,51.0,23.0,30.0,22.0,22.0,24.0,26.0,33.0,23.0,42.0,26.0,29.0,35.0,25.0,25.0,28.0,33.0,25.0,25.0,24.0,27.0,22.0,21.0,27.0,23.0,22.0,23.0,30.0,33.0,24.0,22.0,22.0,29.0,22.0,21.0,23.0,23.0,23.0,32.0,27.0,28.0,25.0,22.0,36.0,27.0,21.0,18.0,49.0,18.0,29.0,31.0,37.0,17.0,17.0,38.0,18.0,31.0,33.0,32.0,30.0,33.0,30.0,30.0,38.0,22.0,36.0,43.0,44.0,20.0,40.0,25.0,28.0,17.0,34.0,56.0,50.0,38.0,47.0,30.0,21.0,21.0,31.0,27.0,24.0,35.0,18.0,43.0,44.0,40.0,49.0,24.0,30.0,53.0,38.0,28.0,28.0,26.0,39.0,31.0,24.0,28.0,31.0,27.0,28.0,31.0,46.0,27.0,25.0,34.0,24.0,35.0,26.0],\"y0\":\" \",\"yaxis\":\"y\",\"type\":\"box\"}],                        {\"template\":{\"data\":{\"histogram2dcontour\":[{\"type\":\"histogram2dcontour\",\"colorbar\":{\"outlinewidth\":0,\"ticks\":\"\"},\"colorscale\":[[0.0,\"#0d0887\"],[0.1111111111111111,\"#46039f\"],[0.2222222222222222,\"#7201a8\"],[0.3333333333333333,\"#9c179e\"],[0.4444444444444444,\"#bd3786\"],[0.5555555555555556,\"#d8576b\"],[0.6666666666666666,\"#ed7953\"],[0.7777777777777778,\"#fb9f3a\"],[0.8888888888888888,\"#fdca26\"],[1.0,\"#f0f921\"]]}],\"choropleth\":[{\"type\":\"choropleth\",\"colorbar\":{\"outlinewidth\":0,\"ticks\":\"\"}}],\"histogram2d\":[{\"type\":\"histogram2d\",\"colorbar\":{\"outlinewidth\":0,\"ticks\":\"\"},\"colorscale\":[[0.0,\"#0d0887\"],[0.1111111111111111,\"#46039f\"],[0.2222222222222222,\"#7201a8\"],[0.3333333333333333,\"#9c179e\"],[0.4444444444444444,\"#bd3786\"],[0.5555555555555556,\"#d8576b\"],[0.6666666666666666,\"#ed7953\"],[0.7777777777777778,\"#fb9f3a\"],[0.8888888888888888,\"#fdca26\"],[1.0,\"#f0f921\"]]}],\"heatmap\":[{\"type\":\"heatmap\",\"colorbar\":{\"outlinewidth\":0,\"ticks\":\"\"},\"colorscale\":[[0.0,\"#0d0887\"],[0.1111111111111111,\"#46039f\"],[0.2222222222222222,\"#7201a8\"],[0.3333333333333333,\"#9c179e\"],[0.4444444444444444,\"#bd3786\"],[0.5555555555555556,\"#d8576b\"],[0.6666666666666666,\"#ed7953\"],[0.7777777777777778,\"#fb9f3a\"],[0.8888888888888888,\"#fdca26\"],[1.0,\"#f0f921\"]]}],\"heatmapgl\":[{\"type\":\"heatmapgl\",\"colorbar\":{\"outlinewidth\":0,\"ticks\":\"\"},\"colorscale\":[[0.0,\"#0d0887\"],[0.1111111111111111,\"#46039f\"],[0.2222222222222222,\"#7201a8\"],[0.3333333333333333,\"#9c179e\"],[0.4444444444444444,\"#bd3786\"],[0.5555555555555556,\"#d8576b\"],[0.6666666666666666,\"#ed7953\"],[0.7777777777777778,\"#fb9f3a\"],[0.8888888888888888,\"#fdca26\"],[1.0,\"#f0f921\"]]}],\"contourcarpet\":[{\"type\":\"contourcarpet\",\"colorbar\":{\"outlinewidth\":0,\"ticks\":\"\"}}],\"contour\":[{\"type\":\"contour\",\"colorbar\":{\"outlinewidth\":0,\"ticks\":\"\"},\"colorscale\":[[0.0,\"#0d0887\"],[0.1111111111111111,\"#46039f\"],[0.2222222222222222,\"#7201a8\"],[0.3333333333333333,\"#9c179e\"],[0.4444444444444444,\"#bd3786\"],[0.5555555555555556,\"#d8576b\"],[0.6666666666666666,\"#ed7953\"],[0.7777777777777778,\"#fb9f3a\"],[0.8888888888888888,\"#fdca26\"],[1.0,\"#f0f921\"]]}],\"surface\":[{\"type\":\"surface\",\"colorbar\":{\"outlinewidth\":0,\"ticks\":\"\"},\"colorscale\":[[0.0,\"#0d0887\"],[0.1111111111111111,\"#46039f\"],[0.2222222222222222,\"#7201a8\"],[0.3333333333333333,\"#9c179e\"],[0.4444444444444444,\"#bd3786\"],[0.5555555555555556,\"#d8576b\"],[0.6666666666666666,\"#ed7953\"],[0.7777777777777778,\"#fb9f3a\"],[0.8888888888888888,\"#fdca26\"],[1.0,\"#f0f921\"]]}],\"mesh3d\":[{\"type\":\"mesh3d\",\"colorbar\":{\"outlinewidth\":0,\"ticks\":\"\"}}],\"scatter\":[{\"fillpattern\":{\"fillmode\":\"overlay\",\"size\":10,\"solidity\":0.2},\"type\":\"scatter\"}],\"parcoords\":[{\"type\":\"parcoords\",\"line\":{\"colorbar\":{\"outlinewidth\":0,\"ticks\":\"\"}}}],\"scatterpolargl\":[{\"type\":\"scatterpolargl\",\"marker\":{\"colorbar\":{\"outlinewidth\":0,\"ticks\":\"\"}}}],\"bar\":[{\"error_x\":{\"color\":\"#2a3f5f\"},\"error_y\":{\"color\":\"#2a3f5f\"},\"marker\":{\"line\":{\"color\":\"#E5ECF6\",\"width\":0.5},\"pattern\":{\"fillmode\":\"overlay\",\"size\":10,\"solidity\":0.2}},\"type\":\"bar\"}],\"scattergeo\":[{\"type\":\"scattergeo\",\"marker\":{\"colorbar\":{\"outlinewidth\":0,\"ticks\":\"\"}}}],\"scatterpolar\":[{\"type\":\"scatterpolar\",\"marker\":{\"colorbar\":{\"outlinewidth\":0,\"ticks\":\"\"}}}],\"histogram\":[{\"marker\":{\"pattern\":{\"fillmode\":\"overlay\",\"size\":10,\"solidity\":0.2}},\"type\":\"histogram\"}],\"scattergl\":[{\"type\":\"scattergl\",\"marker\":{\"colorbar\":{\"outlinewidth\":0,\"ticks\":\"\"}}}],\"scatter3d\":[{\"type\":\"scatter3d\",\"line\":{\"colorbar\":{\"outlinewidth\":0,\"ticks\":\"\"}},\"marker\":{\"colorbar\":{\"outlinewidth\":0,\"ticks\":\"\"}}}],\"scattermapbox\":[{\"type\":\"scattermapbox\",\"marker\":{\"colorbar\":{\"outlinewidth\":0,\"ticks\":\"\"}}}],\"scatterternary\":[{\"type\":\"scatterternary\",\"marker\":{\"colorbar\":{\"outlinewidth\":0,\"ticks\":\"\"}}}],\"scattercarpet\":[{\"type\":\"scattercarpet\",\"marker\":{\"colorbar\":{\"outlinewidth\":0,\"ticks\":\"\"}}}],\"carpet\":[{\"aaxis\":{\"endlinecolor\":\"#2a3f5f\",\"gridcolor\":\"white\",\"linecolor\":\"white\",\"minorgridcolor\":\"white\",\"startlinecolor\":\"#2a3f5f\"},\"baxis\":{\"endlinecolor\":\"#2a3f5f\",\"gridcolor\":\"white\",\"linecolor\":\"white\",\"minorgridcolor\":\"white\",\"startlinecolor\":\"#2a3f5f\"},\"type\":\"carpet\"}],\"table\":[{\"cells\":{\"fill\":{\"color\":\"#EBF0F8\"},\"line\":{\"color\":\"white\"}},\"header\":{\"fill\":{\"color\":\"#C8D4E3\"},\"line\":{\"color\":\"white\"}},\"type\":\"table\"}],\"barpolar\":[{\"marker\":{\"line\":{\"color\":\"#E5ECF6\",\"width\":0.5},\"pattern\":{\"fillmode\":\"overlay\",\"size\":10,\"solidity\":0.2}},\"type\":\"barpolar\"}],\"pie\":[{\"automargin\":true,\"type\":\"pie\"}]},\"layout\":{\"autotypenumbers\":\"strict\",\"colorway\":[\"#636efa\",\"#EF553B\",\"#00cc96\",\"#ab63fa\",\"#FFA15A\",\"#19d3f3\",\"#FF6692\",\"#B6E880\",\"#FF97FF\",\"#FECB52\"],\"font\":{\"color\":\"#2a3f5f\"},\"hovermode\":\"closest\",\"hoverlabel\":{\"align\":\"left\"},\"paper_bgcolor\":\"white\",\"plot_bgcolor\":\"#E5ECF6\",\"polar\":{\"bgcolor\":\"#E5ECF6\",\"angularaxis\":{\"gridcolor\":\"white\",\"linecolor\":\"white\",\"ticks\":\"\"},\"radialaxis\":{\"gridcolor\":\"white\",\"linecolor\":\"white\",\"ticks\":\"\"}},\"ternary\":{\"bgcolor\":\"#E5ECF6\",\"aaxis\":{\"gridcolor\":\"white\",\"linecolor\":\"white\",\"ticks\":\"\"},\"baxis\":{\"gridcolor\":\"white\",\"linecolor\":\"white\",\"ticks\":\"\"},\"caxis\":{\"gridcolor\":\"white\",\"linecolor\":\"white\",\"ticks\":\"\"}},\"coloraxis\":{\"colorbar\":{\"outlinewidth\":0,\"ticks\":\"\"}},\"colorscale\":{\"sequential\":[[0.0,\"#0d0887\"],[0.1111111111111111,\"#46039f\"],[0.2222222222222222,\"#7201a8\"],[0.3333333333333333,\"#9c179e\"],[0.4444444444444444,\"#bd3786\"],[0.5555555555555556,\"#d8576b\"],[0.6666666666666666,\"#ed7953\"],[0.7777777777777778,\"#fb9f3a\"],[0.8888888888888888,\"#fdca26\"],[1.0,\"#f0f921\"]],\"sequentialminus\":[[0.0,\"#0d0887\"],[0.1111111111111111,\"#46039f\"],[0.2222222222222222,\"#7201a8\"],[0.3333333333333333,\"#9c179e\"],[0.4444444444444444,\"#bd3786\"],[0.5555555555555556,\"#d8576b\"],[0.6666666666666666,\"#ed7953\"],[0.7777777777777778,\"#fb9f3a\"],[0.8888888888888888,\"#fdca26\"],[1.0,\"#f0f921\"]],\"diverging\":[[0,\"#8e0152\"],[0.1,\"#c51b7d\"],[0.2,\"#de77ae\"],[0.3,\"#f1b6da\"],[0.4,\"#fde0ef\"],[0.5,\"#f7f7f7\"],[0.6,\"#e6f5d0\"],[0.7,\"#b8e186\"],[0.8,\"#7fbc41\"],[0.9,\"#4d9221\"],[1,\"#276419\"]]},\"xaxis\":{\"gridcolor\":\"white\",\"linecolor\":\"white\",\"ticks\":\"\",\"title\":{\"standoff\":15},\"zerolinecolor\":\"white\",\"automargin\":true,\"zerolinewidth\":2},\"yaxis\":{\"gridcolor\":\"white\",\"linecolor\":\"white\",\"ticks\":\"\",\"title\":{\"standoff\":15},\"zerolinecolor\":\"white\",\"automargin\":true,\"zerolinewidth\":2},\"scene\":{\"xaxis\":{\"backgroundcolor\":\"#E5ECF6\",\"gridcolor\":\"white\",\"linecolor\":\"white\",\"showbackground\":true,\"ticks\":\"\",\"zerolinecolor\":\"white\",\"gridwidth\":2},\"yaxis\":{\"backgroundcolor\":\"#E5ECF6\",\"gridcolor\":\"white\",\"linecolor\":\"white\",\"showbackground\":true,\"ticks\":\"\",\"zerolinecolor\":\"white\",\"gridwidth\":2},\"zaxis\":{\"backgroundcolor\":\"#E5ECF6\",\"gridcolor\":\"white\",\"linecolor\":\"white\",\"showbackground\":true,\"ticks\":\"\",\"zerolinecolor\":\"white\",\"gridwidth\":2}},\"shapedefaults\":{\"line\":{\"color\":\"#2a3f5f\"}},\"annotationdefaults\":{\"arrowcolor\":\"#2a3f5f\",\"arrowhead\":0,\"arrowwidth\":1},\"geo\":{\"bgcolor\":\"white\",\"landcolor\":\"#E5ECF6\",\"subunitcolor\":\"white\",\"showland\":true,\"showlakes\":true,\"lakecolor\":\"white\"},\"title\":{\"x\":0.05},\"mapbox\":{\"style\":\"light\"}}},\"xaxis\":{\"anchor\":\"y\",\"domain\":[0.0,1.0],\"title\":{\"text\":\"variable\"}},\"yaxis\":{\"anchor\":\"x\",\"domain\":[0.0,1.0],\"title\":{\"text\":\"value\"}},\"legend\":{\"tracegroupgap\":0},\"title\":{\"text\":\"Age box plot\"},\"boxmode\":\"group\",\"height\":800,\"width\":400},                        {\"responsive\": true}                    ).then(function(){\n",
       "                            \n",
       "var gd = document.getElementById('8fbe3638-69e1-43c5-81c3-9ab93ea3975f');\n",
       "var x = new MutationObserver(function (mutations, observer) {{\n",
       "        var display = window.getComputedStyle(gd).display;\n",
       "        if (!display || display === 'none') {{\n",
       "            console.log([gd, 'removed!']);\n",
       "            Plotly.purge(gd);\n",
       "            observer.disconnect();\n",
       "        }}\n",
       "}});\n",
       "\n",
       "// Listen for the removal of the full notebook cells\n",
       "var notebookContainer = gd.closest('#notebook-container');\n",
       "if (notebookContainer) {{\n",
       "    x.observe(notebookContainer, {childList: true});\n",
       "}}\n",
       "\n",
       "// Listen for the clearing of the current output cell\n",
       "var outputEl = gd.closest('.output');\n",
       "if (outputEl) {{\n",
       "    x.observe(outputEl, {childList: true});\n",
       "}}\n",
       "\n",
       "                        })                };                });            </script>        </div>"
      ]
     },
     "metadata": {},
     "output_type": "display_data"
    }
   ],
   "source": [
    "px.box(data.age, title=\"Age box plot\", width=400, height=800, points='all', notched=True)"
   ]
  },
  {
   "cell_type": "code",
   "execution_count": 34,
   "id": "f67ed545",
   "metadata": {},
   "outputs": [
    {
     "data": {
      "application/vnd.plotly.v1+json": {
       "config": {
        "plotlyServerURL": "https://plot.ly"
       },
       "data": [
        {
         "boxmean": true,
         "boxpoints": "all",
         "name": "Age",
         "notched": true,
         "type": "box",
         "y": [
          26,
          24,
          27,
          35,
          40,
          36,
          17,
          64,
          29,
          17,
          33,
          18,
          17,
          17,
          17,
          18,
          31,
          30,
          35,
          34,
          38,
          27,
          27,
          42,
          43,
          24,
          40,
          40,
          48,
          31,
          18,
          37,
          55,
          18,
          18,
          55,
          50,
          34,
          53,
          35,
          20,
          28,
          34,
          36,
          27,
          53,
          24,
          24,
          55,
          30,
          21,
          35,
          383,
          21,
          47,
          30,
          28,
          43,
          32,
          44,
          20,
          20,
          null,
          19,
          29,
          21,
          27,
          21,
          35,
          42,
          29,
          58,
          21,
          21,
          37,
          21,
          20,
          33,
          20,
          45,
          32,
          30,
          33,
          42,
          17,
          27,
          35,
          37,
          30,
          29,
          17,
          null,
          22,
          19,
          42,
          37,
          28,
          22,
          26,
          21,
          26,
          39,
          26,
          26,
          21,
          25,
          26,
          30,
          19,
          19,
          25,
          23,
          31,
          27,
          29,
          38,
          23,
          27,
          27,
          42,
          20,
          17,
          20,
          30,
          28,
          26,
          26,
          31,
          40,
          39,
          18,
          24,
          23,
          24,
          24,
          27,
          24,
          25,
          22,
          40,
          23,
          29,
          25,
          27,
          22,
          28,
          20,
          19,
          37,
          35,
          26,
          23,
          32,
          30,
          31,
          28,
          29,
          29,
          29,
          31,
          36,
          32,
          34,
          24,
          24,
          42,
          26,
          27,
          36,
          36,
          55,
          23,
          22,
          42,
          54,
          43,
          43,
          29,
          29,
          37,
          39,
          18,
          31,
          34,
          22,
          28,
          38,
          28,
          53,
          26,
          37,
          42,
          43,
          32,
          31,
          53,
          28,
          38,
          31,
          31,
          21,
          25,
          25,
          60,
          39,
          53,
          20,
          25,
          50,
          28,
          37,
          30,
          32,
          34,
          42,
          22,
          37,
          39,
          18,
          54,
          42,
          27,
          22,
          22,
          21,
          28,
          17,
          28,
          21,
          31,
          20,
          21,
          22,
          21,
          24,
          24,
          25,
          17,
          21,
          23,
          21,
          22,
          24,
          34,
          30,
          29,
          20,
          23,
          26,
          20,
          41,
          24,
          35,
          23,
          36,
          33,
          24,
          25,
          25,
          25,
          24,
          27,
          26,
          26,
          23,
          30,
          25,
          23,
          34,
          20,
          22,
          33,
          46,
          17,
          45,
          26,
          30,
          32,
          38,
          26,
          29,
          33,
          32,
          44,
          47,
          32,
          40,
          40,
          44,
          56,
          23,
          32,
          27,
          28,
          40,
          45,
          19,
          55,
          27,
          19,
          29,
          33,
          48,
          37,
          30,
          37,
          28,
          20,
          25,
          58,
          36,
          36,
          19,
          19,
          22,
          20,
          24,
          19,
          21,
          20,
          18,
          23,
          22,
          18,
          37,
          18,
          18,
          18,
          18,
          18,
          18,
          19,
          55,
          32,
          50,
          40,
          47,
          20,
          22,
          21,
          21,
          19,
          21,
          21,
          23,
          21,
          21,
          23,
          20,
          21,
          20,
          19,
          21,
          26,
          21,
          19,
          22,
          19,
          22,
          20,
          23,
          19,
          20,
          24,
          19,
          20,
          23,
          20,
          20,
          20,
          20,
          21,
          19,
          20,
          20,
          25,
          20,
          22,
          20,
          20,
          20,
          23,
          21,
          22,
          21,
          20,
          22,
          21,
          20,
          20,
          21,
          21,
          23,
          21,
          22,
          19,
          20,
          21,
          26,
          19,
          20,
          26,
          23,
          28,
          19,
          20,
          19,
          24,
          19,
          22,
          20,
          21,
          24,
          18,
          19,
          19,
          31,
          19,
          21,
          20,
          26,
          27,
          23,
          29,
          23,
          23,
          24,
          21,
          20,
          20,
          32,
          61,
          19,
          35,
          34,
          23,
          19,
          36,
          21,
          23,
          17,
          22,
          33,
          23,
          35,
          21,
          20,
          29,
          59,
          18,
          19,
          24,
          36,
          19,
          17,
          52,
          18,
          30,
          18,
          27,
          52,
          45,
          25,
          29,
          29,
          18,
          18,
          17,
          27,
          22,
          23,
          25,
          23,
          29,
          27,
          27,
          43,
          26,
          30,
          23,
          29,
          37,
          28,
          25,
          25,
          21,
          43,
          30,
          18,
          18,
          30,
          31,
          33,
          33,
          26,
          61,
          46,
          33,
          38,
          44,
          48,
          42,
          37,
          23,
          24,
          41,
          41,
          27,
          46,
          40,
          22,
          42,
          18,
          44,
          30,
          42,
          35,
          40,
          50,
          38,
          26,
          27,
          47,
          21,
          37,
          19,
          32,
          26,
          46,
          29,
          30,
          32,
          35,
          22,
          19,
          24,
          52,
          52,
          32,
          24,
          24,
          49,
          30,
          30,
          35,
          35,
          37,
          43,
          52,
          44,
          46,
          42,
          20,
          18,
          38,
          24,
          32,
          29,
          22,
          19,
          39,
          17,
          19,
          18,
          19,
          28,
          29,
          48,
          27,
          34,
          31,
          47,
          47,
          44,
          25,
          25,
          20,
          43,
          36,
          30,
          44,
          40,
          40,
          40,
          30,
          47,
          21,
          21,
          31,
          21,
          29,
          22,
          51,
          23,
          30,
          22,
          22,
          24,
          26,
          33,
          23,
          42,
          26,
          29,
          35,
          25,
          25,
          28,
          33,
          25,
          25,
          24,
          27,
          22,
          21,
          27,
          23,
          22,
          23,
          30,
          33,
          24,
          22,
          22,
          29,
          22,
          21,
          23,
          23,
          23,
          32,
          27,
          28,
          25,
          22,
          36,
          27,
          21,
          18,
          49,
          18,
          29,
          31,
          37,
          17,
          17,
          38,
          18,
          31,
          33,
          32,
          30,
          33,
          30,
          30,
          38,
          22,
          36,
          43,
          44,
          20,
          40,
          25,
          28,
          17,
          34,
          56,
          50,
          38,
          47,
          30,
          21,
          21,
          31,
          27,
          24,
          35,
          18,
          43,
          44,
          40,
          49,
          24,
          30,
          53,
          38,
          28,
          28,
          26,
          39,
          31,
          24,
          28,
          31,
          27,
          28,
          31,
          46,
          27,
          25,
          34,
          24,
          35,
          26
         ]
        }
       ],
       "layout": {
        "autosize": false,
        "height": 1000,
        "margin": {
         "b": 100,
         "l": 50,
         "pad": 4,
         "r": 50,
         "t": 100
        },
        "template": {
         "data": {
          "bar": [
           {
            "error_x": {
             "color": "#2a3f5f"
            },
            "error_y": {
             "color": "#2a3f5f"
            },
            "marker": {
             "line": {
              "color": "#E5ECF6",
              "width": 0.5
             },
             "pattern": {
              "fillmode": "overlay",
              "size": 10,
              "solidity": 0.2
             }
            },
            "type": "bar"
           }
          ],
          "barpolar": [
           {
            "marker": {
             "line": {
              "color": "#E5ECF6",
              "width": 0.5
             },
             "pattern": {
              "fillmode": "overlay",
              "size": 10,
              "solidity": 0.2
             }
            },
            "type": "barpolar"
           }
          ],
          "carpet": [
           {
            "aaxis": {
             "endlinecolor": "#2a3f5f",
             "gridcolor": "white",
             "linecolor": "white",
             "minorgridcolor": "white",
             "startlinecolor": "#2a3f5f"
            },
            "baxis": {
             "endlinecolor": "#2a3f5f",
             "gridcolor": "white",
             "linecolor": "white",
             "minorgridcolor": "white",
             "startlinecolor": "#2a3f5f"
            },
            "type": "carpet"
           }
          ],
          "choropleth": [
           {
            "colorbar": {
             "outlinewidth": 0,
             "ticks": ""
            },
            "type": "choropleth"
           }
          ],
          "contour": [
           {
            "colorbar": {
             "outlinewidth": 0,
             "ticks": ""
            },
            "colorscale": [
             [
              0,
              "#0d0887"
             ],
             [
              0.1111111111111111,
              "#46039f"
             ],
             [
              0.2222222222222222,
              "#7201a8"
             ],
             [
              0.3333333333333333,
              "#9c179e"
             ],
             [
              0.4444444444444444,
              "#bd3786"
             ],
             [
              0.5555555555555556,
              "#d8576b"
             ],
             [
              0.6666666666666666,
              "#ed7953"
             ],
             [
              0.7777777777777778,
              "#fb9f3a"
             ],
             [
              0.8888888888888888,
              "#fdca26"
             ],
             [
              1,
              "#f0f921"
             ]
            ],
            "type": "contour"
           }
          ],
          "contourcarpet": [
           {
            "colorbar": {
             "outlinewidth": 0,
             "ticks": ""
            },
            "type": "contourcarpet"
           }
          ],
          "heatmap": [
           {
            "colorbar": {
             "outlinewidth": 0,
             "ticks": ""
            },
            "colorscale": [
             [
              0,
              "#0d0887"
             ],
             [
              0.1111111111111111,
              "#46039f"
             ],
             [
              0.2222222222222222,
              "#7201a8"
             ],
             [
              0.3333333333333333,
              "#9c179e"
             ],
             [
              0.4444444444444444,
              "#bd3786"
             ],
             [
              0.5555555555555556,
              "#d8576b"
             ],
             [
              0.6666666666666666,
              "#ed7953"
             ],
             [
              0.7777777777777778,
              "#fb9f3a"
             ],
             [
              0.8888888888888888,
              "#fdca26"
             ],
             [
              1,
              "#f0f921"
             ]
            ],
            "type": "heatmap"
           }
          ],
          "heatmapgl": [
           {
            "colorbar": {
             "outlinewidth": 0,
             "ticks": ""
            },
            "colorscale": [
             [
              0,
              "#0d0887"
             ],
             [
              0.1111111111111111,
              "#46039f"
             ],
             [
              0.2222222222222222,
              "#7201a8"
             ],
             [
              0.3333333333333333,
              "#9c179e"
             ],
             [
              0.4444444444444444,
              "#bd3786"
             ],
             [
              0.5555555555555556,
              "#d8576b"
             ],
             [
              0.6666666666666666,
              "#ed7953"
             ],
             [
              0.7777777777777778,
              "#fb9f3a"
             ],
             [
              0.8888888888888888,
              "#fdca26"
             ],
             [
              1,
              "#f0f921"
             ]
            ],
            "type": "heatmapgl"
           }
          ],
          "histogram": [
           {
            "marker": {
             "pattern": {
              "fillmode": "overlay",
              "size": 10,
              "solidity": 0.2
             }
            },
            "type": "histogram"
           }
          ],
          "histogram2d": [
           {
            "colorbar": {
             "outlinewidth": 0,
             "ticks": ""
            },
            "colorscale": [
             [
              0,
              "#0d0887"
             ],
             [
              0.1111111111111111,
              "#46039f"
             ],
             [
              0.2222222222222222,
              "#7201a8"
             ],
             [
              0.3333333333333333,
              "#9c179e"
             ],
             [
              0.4444444444444444,
              "#bd3786"
             ],
             [
              0.5555555555555556,
              "#d8576b"
             ],
             [
              0.6666666666666666,
              "#ed7953"
             ],
             [
              0.7777777777777778,
              "#fb9f3a"
             ],
             [
              0.8888888888888888,
              "#fdca26"
             ],
             [
              1,
              "#f0f921"
             ]
            ],
            "type": "histogram2d"
           }
          ],
          "histogram2dcontour": [
           {
            "colorbar": {
             "outlinewidth": 0,
             "ticks": ""
            },
            "colorscale": [
             [
              0,
              "#0d0887"
             ],
             [
              0.1111111111111111,
              "#46039f"
             ],
             [
              0.2222222222222222,
              "#7201a8"
             ],
             [
              0.3333333333333333,
              "#9c179e"
             ],
             [
              0.4444444444444444,
              "#bd3786"
             ],
             [
              0.5555555555555556,
              "#d8576b"
             ],
             [
              0.6666666666666666,
              "#ed7953"
             ],
             [
              0.7777777777777778,
              "#fb9f3a"
             ],
             [
              0.8888888888888888,
              "#fdca26"
             ],
             [
              1,
              "#f0f921"
             ]
            ],
            "type": "histogram2dcontour"
           }
          ],
          "mesh3d": [
           {
            "colorbar": {
             "outlinewidth": 0,
             "ticks": ""
            },
            "type": "mesh3d"
           }
          ],
          "parcoords": [
           {
            "line": {
             "colorbar": {
              "outlinewidth": 0,
              "ticks": ""
             }
            },
            "type": "parcoords"
           }
          ],
          "pie": [
           {
            "automargin": true,
            "type": "pie"
           }
          ],
          "scatter": [
           {
            "fillpattern": {
             "fillmode": "overlay",
             "size": 10,
             "solidity": 0.2
            },
            "type": "scatter"
           }
          ],
          "scatter3d": [
           {
            "line": {
             "colorbar": {
              "outlinewidth": 0,
              "ticks": ""
             }
            },
            "marker": {
             "colorbar": {
              "outlinewidth": 0,
              "ticks": ""
             }
            },
            "type": "scatter3d"
           }
          ],
          "scattercarpet": [
           {
            "marker": {
             "colorbar": {
              "outlinewidth": 0,
              "ticks": ""
             }
            },
            "type": "scattercarpet"
           }
          ],
          "scattergeo": [
           {
            "marker": {
             "colorbar": {
              "outlinewidth": 0,
              "ticks": ""
             }
            },
            "type": "scattergeo"
           }
          ],
          "scattergl": [
           {
            "marker": {
             "colorbar": {
              "outlinewidth": 0,
              "ticks": ""
             }
            },
            "type": "scattergl"
           }
          ],
          "scattermapbox": [
           {
            "marker": {
             "colorbar": {
              "outlinewidth": 0,
              "ticks": ""
             }
            },
            "type": "scattermapbox"
           }
          ],
          "scatterpolar": [
           {
            "marker": {
             "colorbar": {
              "outlinewidth": 0,
              "ticks": ""
             }
            },
            "type": "scatterpolar"
           }
          ],
          "scatterpolargl": [
           {
            "marker": {
             "colorbar": {
              "outlinewidth": 0,
              "ticks": ""
             }
            },
            "type": "scatterpolargl"
           }
          ],
          "scatterternary": [
           {
            "marker": {
             "colorbar": {
              "outlinewidth": 0,
              "ticks": ""
             }
            },
            "type": "scatterternary"
           }
          ],
          "surface": [
           {
            "colorbar": {
             "outlinewidth": 0,
             "ticks": ""
            },
            "colorscale": [
             [
              0,
              "#0d0887"
             ],
             [
              0.1111111111111111,
              "#46039f"
             ],
             [
              0.2222222222222222,
              "#7201a8"
             ],
             [
              0.3333333333333333,
              "#9c179e"
             ],
             [
              0.4444444444444444,
              "#bd3786"
             ],
             [
              0.5555555555555556,
              "#d8576b"
             ],
             [
              0.6666666666666666,
              "#ed7953"
             ],
             [
              0.7777777777777778,
              "#fb9f3a"
             ],
             [
              0.8888888888888888,
              "#fdca26"
             ],
             [
              1,
              "#f0f921"
             ]
            ],
            "type": "surface"
           }
          ],
          "table": [
           {
            "cells": {
             "fill": {
              "color": "#EBF0F8"
             },
             "line": {
              "color": "white"
             }
            },
            "header": {
             "fill": {
              "color": "#C8D4E3"
             },
             "line": {
              "color": "white"
             }
            },
            "type": "table"
           }
          ]
         },
         "layout": {
          "annotationdefaults": {
           "arrowcolor": "#2a3f5f",
           "arrowhead": 0,
           "arrowwidth": 1
          },
          "autotypenumbers": "strict",
          "coloraxis": {
           "colorbar": {
            "outlinewidth": 0,
            "ticks": ""
           }
          },
          "colorscale": {
           "diverging": [
            [
             0,
             "#8e0152"
            ],
            [
             0.1,
             "#c51b7d"
            ],
            [
             0.2,
             "#de77ae"
            ],
            [
             0.3,
             "#f1b6da"
            ],
            [
             0.4,
             "#fde0ef"
            ],
            [
             0.5,
             "#f7f7f7"
            ],
            [
             0.6,
             "#e6f5d0"
            ],
            [
             0.7,
             "#b8e186"
            ],
            [
             0.8,
             "#7fbc41"
            ],
            [
             0.9,
             "#4d9221"
            ],
            [
             1,
             "#276419"
            ]
           ],
           "sequential": [
            [
             0,
             "#0d0887"
            ],
            [
             0.1111111111111111,
             "#46039f"
            ],
            [
             0.2222222222222222,
             "#7201a8"
            ],
            [
             0.3333333333333333,
             "#9c179e"
            ],
            [
             0.4444444444444444,
             "#bd3786"
            ],
            [
             0.5555555555555556,
             "#d8576b"
            ],
            [
             0.6666666666666666,
             "#ed7953"
            ],
            [
             0.7777777777777778,
             "#fb9f3a"
            ],
            [
             0.8888888888888888,
             "#fdca26"
            ],
            [
             1,
             "#f0f921"
            ]
           ],
           "sequentialminus": [
            [
             0,
             "#0d0887"
            ],
            [
             0.1111111111111111,
             "#46039f"
            ],
            [
             0.2222222222222222,
             "#7201a8"
            ],
            [
             0.3333333333333333,
             "#9c179e"
            ],
            [
             0.4444444444444444,
             "#bd3786"
            ],
            [
             0.5555555555555556,
             "#d8576b"
            ],
            [
             0.6666666666666666,
             "#ed7953"
            ],
            [
             0.7777777777777778,
             "#fb9f3a"
            ],
            [
             0.8888888888888888,
             "#fdca26"
            ],
            [
             1,
             "#f0f921"
            ]
           ]
          },
          "colorway": [
           "#636efa",
           "#EF553B",
           "#00cc96",
           "#ab63fa",
           "#FFA15A",
           "#19d3f3",
           "#FF6692",
           "#B6E880",
           "#FF97FF",
           "#FECB52"
          ],
          "font": {
           "color": "#2a3f5f"
          },
          "geo": {
           "bgcolor": "white",
           "lakecolor": "white",
           "landcolor": "#E5ECF6",
           "showlakes": true,
           "showland": true,
           "subunitcolor": "white"
          },
          "hoverlabel": {
           "align": "left"
          },
          "hovermode": "closest",
          "mapbox": {
           "style": "light"
          },
          "paper_bgcolor": "white",
          "plot_bgcolor": "#E5ECF6",
          "polar": {
           "angularaxis": {
            "gridcolor": "white",
            "linecolor": "white",
            "ticks": ""
           },
           "bgcolor": "#E5ECF6",
           "radialaxis": {
            "gridcolor": "white",
            "linecolor": "white",
            "ticks": ""
           }
          },
          "scene": {
           "xaxis": {
            "backgroundcolor": "#E5ECF6",
            "gridcolor": "white",
            "gridwidth": 2,
            "linecolor": "white",
            "showbackground": true,
            "ticks": "",
            "zerolinecolor": "white"
           },
           "yaxis": {
            "backgroundcolor": "#E5ECF6",
            "gridcolor": "white",
            "gridwidth": 2,
            "linecolor": "white",
            "showbackground": true,
            "ticks": "",
            "zerolinecolor": "white"
           },
           "zaxis": {
            "backgroundcolor": "#E5ECF6",
            "gridcolor": "white",
            "gridwidth": 2,
            "linecolor": "white",
            "showbackground": true,
            "ticks": "",
            "zerolinecolor": "white"
           }
          },
          "shapedefaults": {
           "line": {
            "color": "#2a3f5f"
           }
          },
          "ternary": {
           "aaxis": {
            "gridcolor": "white",
            "linecolor": "white",
            "ticks": ""
           },
           "baxis": {
            "gridcolor": "white",
            "linecolor": "white",
            "ticks": ""
           },
           "bgcolor": "#E5ECF6",
           "caxis": {
            "gridcolor": "white",
            "linecolor": "white",
            "ticks": ""
           }
          },
          "title": {
           "x": 0.05
          },
          "xaxis": {
           "automargin": true,
           "gridcolor": "white",
           "linecolor": "white",
           "ticks": "",
           "title": {
            "standoff": 15
           },
           "zerolinecolor": "white",
           "zerolinewidth": 2
          },
          "yaxis": {
           "automargin": true,
           "gridcolor": "white",
           "linecolor": "white",
           "ticks": "",
           "title": {
            "standoff": 15
           },
           "zerolinecolor": "white",
           "zerolinewidth": 2
          }
         }
        },
        "title": {
         "text": "Box Plot for Age of ASD patients"
        },
        "width": 1000,
        "xaxis": {
         "linecolor": "black",
         "linewidth": 1,
         "mirror": true
        },
        "yaxis": {
         "linecolor": "black",
         "linewidth": 1,
         "mirror": true
        }
       }
      },
      "text/html": [
       "<div>                            <div id=\"8dd91366-c2c3-4b5e-bb43-a5213ea87a17\" class=\"plotly-graph-div\" style=\"height:1000px; width:1000px;\"></div>            <script type=\"text/javascript\">                require([\"plotly\"], function(Plotly) {                    window.PLOTLYENV=window.PLOTLYENV || {};                                    if (document.getElementById(\"8dd91366-c2c3-4b5e-bb43-a5213ea87a17\")) {                    Plotly.newPlot(                        \"8dd91366-c2c3-4b5e-bb43-a5213ea87a17\",                        [{\"boxmean\":true,\"boxpoints\":\"all\",\"name\":\"Age\",\"notched\":true,\"y\":[26.0,24.0,27.0,35.0,40.0,36.0,17.0,64.0,29.0,17.0,33.0,18.0,17.0,17.0,17.0,18.0,31.0,30.0,35.0,34.0,38.0,27.0,27.0,42.0,43.0,24.0,40.0,40.0,48.0,31.0,18.0,37.0,55.0,18.0,18.0,55.0,50.0,34.0,53.0,35.0,20.0,28.0,34.0,36.0,27.0,53.0,24.0,24.0,55.0,30.0,21.0,35.0,383.0,21.0,47.0,30.0,28.0,43.0,32.0,44.0,20.0,20.0,null,19.0,29.0,21.0,27.0,21.0,35.0,42.0,29.0,58.0,21.0,21.0,37.0,21.0,20.0,33.0,20.0,45.0,32.0,30.0,33.0,42.0,17.0,27.0,35.0,37.0,30.0,29.0,17.0,null,22.0,19.0,42.0,37.0,28.0,22.0,26.0,21.0,26.0,39.0,26.0,26.0,21.0,25.0,26.0,30.0,19.0,19.0,25.0,23.0,31.0,27.0,29.0,38.0,23.0,27.0,27.0,42.0,20.0,17.0,20.0,30.0,28.0,26.0,26.0,31.0,40.0,39.0,18.0,24.0,23.0,24.0,24.0,27.0,24.0,25.0,22.0,40.0,23.0,29.0,25.0,27.0,22.0,28.0,20.0,19.0,37.0,35.0,26.0,23.0,32.0,30.0,31.0,28.0,29.0,29.0,29.0,31.0,36.0,32.0,34.0,24.0,24.0,42.0,26.0,27.0,36.0,36.0,55.0,23.0,22.0,42.0,54.0,43.0,43.0,29.0,29.0,37.0,39.0,18.0,31.0,34.0,22.0,28.0,38.0,28.0,53.0,26.0,37.0,42.0,43.0,32.0,31.0,53.0,28.0,38.0,31.0,31.0,21.0,25.0,25.0,60.0,39.0,53.0,20.0,25.0,50.0,28.0,37.0,30.0,32.0,34.0,42.0,22.0,37.0,39.0,18.0,54.0,42.0,27.0,22.0,22.0,21.0,28.0,17.0,28.0,21.0,31.0,20.0,21.0,22.0,21.0,24.0,24.0,25.0,17.0,21.0,23.0,21.0,22.0,24.0,34.0,30.0,29.0,20.0,23.0,26.0,20.0,41.0,24.0,35.0,23.0,36.0,33.0,24.0,25.0,25.0,25.0,24.0,27.0,26.0,26.0,23.0,30.0,25.0,23.0,34.0,20.0,22.0,33.0,46.0,17.0,45.0,26.0,30.0,32.0,38.0,26.0,29.0,33.0,32.0,44.0,47.0,32.0,40.0,40.0,44.0,56.0,23.0,32.0,27.0,28.0,40.0,45.0,19.0,55.0,27.0,19.0,29.0,33.0,48.0,37.0,30.0,37.0,28.0,20.0,25.0,58.0,36.0,36.0,19.0,19.0,22.0,20.0,24.0,19.0,21.0,20.0,18.0,23.0,22.0,18.0,37.0,18.0,18.0,18.0,18.0,18.0,18.0,19.0,55.0,32.0,50.0,40.0,47.0,20.0,22.0,21.0,21.0,19.0,21.0,21.0,23.0,21.0,21.0,23.0,20.0,21.0,20.0,19.0,21.0,26.0,21.0,19.0,22.0,19.0,22.0,20.0,23.0,19.0,20.0,24.0,19.0,20.0,23.0,20.0,20.0,20.0,20.0,21.0,19.0,20.0,20.0,25.0,20.0,22.0,20.0,20.0,20.0,23.0,21.0,22.0,21.0,20.0,22.0,21.0,20.0,20.0,21.0,21.0,23.0,21.0,22.0,19.0,20.0,21.0,26.0,19.0,20.0,26.0,23.0,28.0,19.0,20.0,19.0,24.0,19.0,22.0,20.0,21.0,24.0,18.0,19.0,19.0,31.0,19.0,21.0,20.0,26.0,27.0,23.0,29.0,23.0,23.0,24.0,21.0,20.0,20.0,32.0,61.0,19.0,35.0,34.0,23.0,19.0,36.0,21.0,23.0,17.0,22.0,33.0,23.0,35.0,21.0,20.0,29.0,59.0,18.0,19.0,24.0,36.0,19.0,17.0,52.0,18.0,30.0,18.0,27.0,52.0,45.0,25.0,29.0,29.0,18.0,18.0,17.0,27.0,22.0,23.0,25.0,23.0,29.0,27.0,27.0,43.0,26.0,30.0,23.0,29.0,37.0,28.0,25.0,25.0,21.0,43.0,30.0,18.0,18.0,30.0,31.0,33.0,33.0,26.0,61.0,46.0,33.0,38.0,44.0,48.0,42.0,37.0,23.0,24.0,41.0,41.0,27.0,46.0,40.0,22.0,42.0,18.0,44.0,30.0,42.0,35.0,40.0,50.0,38.0,26.0,27.0,47.0,21.0,37.0,19.0,32.0,26.0,46.0,29.0,30.0,32.0,35.0,22.0,19.0,24.0,52.0,52.0,32.0,24.0,24.0,49.0,30.0,30.0,35.0,35.0,37.0,43.0,52.0,44.0,46.0,42.0,20.0,18.0,38.0,24.0,32.0,29.0,22.0,19.0,39.0,17.0,19.0,18.0,19.0,28.0,29.0,48.0,27.0,34.0,31.0,47.0,47.0,44.0,25.0,25.0,20.0,43.0,36.0,30.0,44.0,40.0,40.0,40.0,30.0,47.0,21.0,21.0,31.0,21.0,29.0,22.0,51.0,23.0,30.0,22.0,22.0,24.0,26.0,33.0,23.0,42.0,26.0,29.0,35.0,25.0,25.0,28.0,33.0,25.0,25.0,24.0,27.0,22.0,21.0,27.0,23.0,22.0,23.0,30.0,33.0,24.0,22.0,22.0,29.0,22.0,21.0,23.0,23.0,23.0,32.0,27.0,28.0,25.0,22.0,36.0,27.0,21.0,18.0,49.0,18.0,29.0,31.0,37.0,17.0,17.0,38.0,18.0,31.0,33.0,32.0,30.0,33.0,30.0,30.0,38.0,22.0,36.0,43.0,44.0,20.0,40.0,25.0,28.0,17.0,34.0,56.0,50.0,38.0,47.0,30.0,21.0,21.0,31.0,27.0,24.0,35.0,18.0,43.0,44.0,40.0,49.0,24.0,30.0,53.0,38.0,28.0,28.0,26.0,39.0,31.0,24.0,28.0,31.0,27.0,28.0,31.0,46.0,27.0,25.0,34.0,24.0,35.0,26.0],\"type\":\"box\"}],                        {\"autosize\":false,\"height\":1000,\"margin\":{\"b\":100,\"l\":50,\"pad\":4,\"r\":50,\"t\":100},\"width\":1000,\"xaxis\":{\"linecolor\":\"black\",\"linewidth\":1,\"mirror\":true},\"yaxis\":{\"linecolor\":\"black\",\"linewidth\":1,\"mirror\":true},\"template\":{\"data\":{\"histogram2dcontour\":[{\"type\":\"histogram2dcontour\",\"colorbar\":{\"outlinewidth\":0,\"ticks\":\"\"},\"colorscale\":[[0.0,\"#0d0887\"],[0.1111111111111111,\"#46039f\"],[0.2222222222222222,\"#7201a8\"],[0.3333333333333333,\"#9c179e\"],[0.4444444444444444,\"#bd3786\"],[0.5555555555555556,\"#d8576b\"],[0.6666666666666666,\"#ed7953\"],[0.7777777777777778,\"#fb9f3a\"],[0.8888888888888888,\"#fdca26\"],[1.0,\"#f0f921\"]]}],\"choropleth\":[{\"type\":\"choropleth\",\"colorbar\":{\"outlinewidth\":0,\"ticks\":\"\"}}],\"histogram2d\":[{\"type\":\"histogram2d\",\"colorbar\":{\"outlinewidth\":0,\"ticks\":\"\"},\"colorscale\":[[0.0,\"#0d0887\"],[0.1111111111111111,\"#46039f\"],[0.2222222222222222,\"#7201a8\"],[0.3333333333333333,\"#9c179e\"],[0.4444444444444444,\"#bd3786\"],[0.5555555555555556,\"#d8576b\"],[0.6666666666666666,\"#ed7953\"],[0.7777777777777778,\"#fb9f3a\"],[0.8888888888888888,\"#fdca26\"],[1.0,\"#f0f921\"]]}],\"heatmap\":[{\"type\":\"heatmap\",\"colorbar\":{\"outlinewidth\":0,\"ticks\":\"\"},\"colorscale\":[[0.0,\"#0d0887\"],[0.1111111111111111,\"#46039f\"],[0.2222222222222222,\"#7201a8\"],[0.3333333333333333,\"#9c179e\"],[0.4444444444444444,\"#bd3786\"],[0.5555555555555556,\"#d8576b\"],[0.6666666666666666,\"#ed7953\"],[0.7777777777777778,\"#fb9f3a\"],[0.8888888888888888,\"#fdca26\"],[1.0,\"#f0f921\"]]}],\"heatmapgl\":[{\"type\":\"heatmapgl\",\"colorbar\":{\"outlinewidth\":0,\"ticks\":\"\"},\"colorscale\":[[0.0,\"#0d0887\"],[0.1111111111111111,\"#46039f\"],[0.2222222222222222,\"#7201a8\"],[0.3333333333333333,\"#9c179e\"],[0.4444444444444444,\"#bd3786\"],[0.5555555555555556,\"#d8576b\"],[0.6666666666666666,\"#ed7953\"],[0.7777777777777778,\"#fb9f3a\"],[0.8888888888888888,\"#fdca26\"],[1.0,\"#f0f921\"]]}],\"contourcarpet\":[{\"type\":\"contourcarpet\",\"colorbar\":{\"outlinewidth\":0,\"ticks\":\"\"}}],\"contour\":[{\"type\":\"contour\",\"colorbar\":{\"outlinewidth\":0,\"ticks\":\"\"},\"colorscale\":[[0.0,\"#0d0887\"],[0.1111111111111111,\"#46039f\"],[0.2222222222222222,\"#7201a8\"],[0.3333333333333333,\"#9c179e\"],[0.4444444444444444,\"#bd3786\"],[0.5555555555555556,\"#d8576b\"],[0.6666666666666666,\"#ed7953\"],[0.7777777777777778,\"#fb9f3a\"],[0.8888888888888888,\"#fdca26\"],[1.0,\"#f0f921\"]]}],\"surface\":[{\"type\":\"surface\",\"colorbar\":{\"outlinewidth\":0,\"ticks\":\"\"},\"colorscale\":[[0.0,\"#0d0887\"],[0.1111111111111111,\"#46039f\"],[0.2222222222222222,\"#7201a8\"],[0.3333333333333333,\"#9c179e\"],[0.4444444444444444,\"#bd3786\"],[0.5555555555555556,\"#d8576b\"],[0.6666666666666666,\"#ed7953\"],[0.7777777777777778,\"#fb9f3a\"],[0.8888888888888888,\"#fdca26\"],[1.0,\"#f0f921\"]]}],\"mesh3d\":[{\"type\":\"mesh3d\",\"colorbar\":{\"outlinewidth\":0,\"ticks\":\"\"}}],\"scatter\":[{\"fillpattern\":{\"fillmode\":\"overlay\",\"size\":10,\"solidity\":0.2},\"type\":\"scatter\"}],\"parcoords\":[{\"type\":\"parcoords\",\"line\":{\"colorbar\":{\"outlinewidth\":0,\"ticks\":\"\"}}}],\"scatterpolargl\":[{\"type\":\"scatterpolargl\",\"marker\":{\"colorbar\":{\"outlinewidth\":0,\"ticks\":\"\"}}}],\"bar\":[{\"error_x\":{\"color\":\"#2a3f5f\"},\"error_y\":{\"color\":\"#2a3f5f\"},\"marker\":{\"line\":{\"color\":\"#E5ECF6\",\"width\":0.5},\"pattern\":{\"fillmode\":\"overlay\",\"size\":10,\"solidity\":0.2}},\"type\":\"bar\"}],\"scattergeo\":[{\"type\":\"scattergeo\",\"marker\":{\"colorbar\":{\"outlinewidth\":0,\"ticks\":\"\"}}}],\"scatterpolar\":[{\"type\":\"scatterpolar\",\"marker\":{\"colorbar\":{\"outlinewidth\":0,\"ticks\":\"\"}}}],\"histogram\":[{\"marker\":{\"pattern\":{\"fillmode\":\"overlay\",\"size\":10,\"solidity\":0.2}},\"type\":\"histogram\"}],\"scattergl\":[{\"type\":\"scattergl\",\"marker\":{\"colorbar\":{\"outlinewidth\":0,\"ticks\":\"\"}}}],\"scatter3d\":[{\"type\":\"scatter3d\",\"line\":{\"colorbar\":{\"outlinewidth\":0,\"ticks\":\"\"}},\"marker\":{\"colorbar\":{\"outlinewidth\":0,\"ticks\":\"\"}}}],\"scattermapbox\":[{\"type\":\"scattermapbox\",\"marker\":{\"colorbar\":{\"outlinewidth\":0,\"ticks\":\"\"}}}],\"scatterternary\":[{\"type\":\"scatterternary\",\"marker\":{\"colorbar\":{\"outlinewidth\":0,\"ticks\":\"\"}}}],\"scattercarpet\":[{\"type\":\"scattercarpet\",\"marker\":{\"colorbar\":{\"outlinewidth\":0,\"ticks\":\"\"}}}],\"carpet\":[{\"aaxis\":{\"endlinecolor\":\"#2a3f5f\",\"gridcolor\":\"white\",\"linecolor\":\"white\",\"minorgridcolor\":\"white\",\"startlinecolor\":\"#2a3f5f\"},\"baxis\":{\"endlinecolor\":\"#2a3f5f\",\"gridcolor\":\"white\",\"linecolor\":\"white\",\"minorgridcolor\":\"white\",\"startlinecolor\":\"#2a3f5f\"},\"type\":\"carpet\"}],\"table\":[{\"cells\":{\"fill\":{\"color\":\"#EBF0F8\"},\"line\":{\"color\":\"white\"}},\"header\":{\"fill\":{\"color\":\"#C8D4E3\"},\"line\":{\"color\":\"white\"}},\"type\":\"table\"}],\"barpolar\":[{\"marker\":{\"line\":{\"color\":\"#E5ECF6\",\"width\":0.5},\"pattern\":{\"fillmode\":\"overlay\",\"size\":10,\"solidity\":0.2}},\"type\":\"barpolar\"}],\"pie\":[{\"automargin\":true,\"type\":\"pie\"}]},\"layout\":{\"autotypenumbers\":\"strict\",\"colorway\":[\"#636efa\",\"#EF553B\",\"#00cc96\",\"#ab63fa\",\"#FFA15A\",\"#19d3f3\",\"#FF6692\",\"#B6E880\",\"#FF97FF\",\"#FECB52\"],\"font\":{\"color\":\"#2a3f5f\"},\"hovermode\":\"closest\",\"hoverlabel\":{\"align\":\"left\"},\"paper_bgcolor\":\"white\",\"plot_bgcolor\":\"#E5ECF6\",\"polar\":{\"bgcolor\":\"#E5ECF6\",\"angularaxis\":{\"gridcolor\":\"white\",\"linecolor\":\"white\",\"ticks\":\"\"},\"radialaxis\":{\"gridcolor\":\"white\",\"linecolor\":\"white\",\"ticks\":\"\"}},\"ternary\":{\"bgcolor\":\"#E5ECF6\",\"aaxis\":{\"gridcolor\":\"white\",\"linecolor\":\"white\",\"ticks\":\"\"},\"baxis\":{\"gridcolor\":\"white\",\"linecolor\":\"white\",\"ticks\":\"\"},\"caxis\":{\"gridcolor\":\"white\",\"linecolor\":\"white\",\"ticks\":\"\"}},\"coloraxis\":{\"colorbar\":{\"outlinewidth\":0,\"ticks\":\"\"}},\"colorscale\":{\"sequential\":[[0.0,\"#0d0887\"],[0.1111111111111111,\"#46039f\"],[0.2222222222222222,\"#7201a8\"],[0.3333333333333333,\"#9c179e\"],[0.4444444444444444,\"#bd3786\"],[0.5555555555555556,\"#d8576b\"],[0.6666666666666666,\"#ed7953\"],[0.7777777777777778,\"#fb9f3a\"],[0.8888888888888888,\"#fdca26\"],[1.0,\"#f0f921\"]],\"sequentialminus\":[[0.0,\"#0d0887\"],[0.1111111111111111,\"#46039f\"],[0.2222222222222222,\"#7201a8\"],[0.3333333333333333,\"#9c179e\"],[0.4444444444444444,\"#bd3786\"],[0.5555555555555556,\"#d8576b\"],[0.6666666666666666,\"#ed7953\"],[0.7777777777777778,\"#fb9f3a\"],[0.8888888888888888,\"#fdca26\"],[1.0,\"#f0f921\"]],\"diverging\":[[0,\"#8e0152\"],[0.1,\"#c51b7d\"],[0.2,\"#de77ae\"],[0.3,\"#f1b6da\"],[0.4,\"#fde0ef\"],[0.5,\"#f7f7f7\"],[0.6,\"#e6f5d0\"],[0.7,\"#b8e186\"],[0.8,\"#7fbc41\"],[0.9,\"#4d9221\"],[1,\"#276419\"]]},\"xaxis\":{\"gridcolor\":\"white\",\"linecolor\":\"white\",\"ticks\":\"\",\"title\":{\"standoff\":15},\"zerolinecolor\":\"white\",\"automargin\":true,\"zerolinewidth\":2},\"yaxis\":{\"gridcolor\":\"white\",\"linecolor\":\"white\",\"ticks\":\"\",\"title\":{\"standoff\":15},\"zerolinecolor\":\"white\",\"automargin\":true,\"zerolinewidth\":2},\"scene\":{\"xaxis\":{\"backgroundcolor\":\"#E5ECF6\",\"gridcolor\":\"white\",\"linecolor\":\"white\",\"showbackground\":true,\"ticks\":\"\",\"zerolinecolor\":\"white\",\"gridwidth\":2},\"yaxis\":{\"backgroundcolor\":\"#E5ECF6\",\"gridcolor\":\"white\",\"linecolor\":\"white\",\"showbackground\":true,\"ticks\":\"\",\"zerolinecolor\":\"white\",\"gridwidth\":2},\"zaxis\":{\"backgroundcolor\":\"#E5ECF6\",\"gridcolor\":\"white\",\"linecolor\":\"white\",\"showbackground\":true,\"ticks\":\"\",\"zerolinecolor\":\"white\",\"gridwidth\":2}},\"shapedefaults\":{\"line\":{\"color\":\"#2a3f5f\"}},\"annotationdefaults\":{\"arrowcolor\":\"#2a3f5f\",\"arrowhead\":0,\"arrowwidth\":1},\"geo\":{\"bgcolor\":\"white\",\"landcolor\":\"#E5ECF6\",\"subunitcolor\":\"white\",\"showland\":true,\"showlakes\":true,\"lakecolor\":\"white\"},\"title\":{\"x\":0.05},\"mapbox\":{\"style\":\"light\"}}},\"title\":{\"text\":\"Box Plot for Age of ASD patients\"}},                        {\"responsive\": true}                    ).then(function(){\n",
       "                            \n",
       "var gd = document.getElementById('8dd91366-c2c3-4b5e-bb43-a5213ea87a17');\n",
       "var x = new MutationObserver(function (mutations, observer) {{\n",
       "        var display = window.getComputedStyle(gd).display;\n",
       "        if (!display || display === 'none') {{\n",
       "            console.log([gd, 'removed!']);\n",
       "            Plotly.purge(gd);\n",
       "            observer.disconnect();\n",
       "        }}\n",
       "}});\n",
       "\n",
       "// Listen for the removal of the full notebook cells\n",
       "var notebookContainer = gd.closest('#notebook-container');\n",
       "if (notebookContainer) {{\n",
       "    x.observe(notebookContainer, {childList: true});\n",
       "}}\n",
       "\n",
       "// Listen for the clearing of the current output cell\n",
       "var outputEl = gd.closest('.output');\n",
       "if (outputEl) {{\n",
       "    x.observe(outputEl, {childList: true});\n",
       "}}\n",
       "\n",
       "                        })                };                });            </script>        </div>"
      ]
     },
     "metadata": {},
     "output_type": "display_data"
    }
   ],
   "source": [
    "fig = make_subplots(rows=1, cols=1)\n",
    "trace1 = go.Box(y= data.age, name=\"Age\", boxmean=True, boxpoints='all', notched=True)\n",
    "dt = [trace1]\n",
    "layout = go.Layout(\n",
    "    autosize=False,\n",
    "    width=1000,\n",
    "    height=1000,\n",
    "\n",
    "    xaxis= go.layout.XAxis(linecolor = 'black',\n",
    "                          linewidth = 1,\n",
    "                          mirror = True),\n",
    "\n",
    "    yaxis= go.layout.YAxis(linecolor = 'black',\n",
    "                          linewidth = 1,\n",
    "                          mirror = True),\n",
    "\n",
    "    margin=go.layout.Margin(\n",
    "        l=50,\n",
    "        r=50,\n",
    "        b=100,\n",
    "        t=100,\n",
    "        pad = 4\n",
    "    )\n",
    ")\n",
    "\n",
    "fig = go.Figure(data=dt, layout=layout)\n",
    "\n",
    "fig.update_layout(title=\"Box Plot for Age of ASD patients\")"
   ]
  },
  {
   "cell_type": "code",
   "execution_count": 19,
   "id": "f19a86a7",
   "metadata": {},
   "outputs": [
    {
     "data": {
      "application/vnd.plotly.v1+json": {
       "config": {
        "plotlyServerURL": "https://plot.ly"
       },
       "data": [
        {
         "boxmean": true,
         "boxpoints": "all",
         "name": "Age",
         "notched": true,
         "type": "box",
         "xaxis": "x",
         "y": [
          26,
          24,
          27,
          35,
          40,
          36,
          17,
          64,
          29,
          17,
          33,
          18,
          17,
          17,
          17,
          18,
          31,
          30,
          35,
          34,
          38,
          27,
          27,
          42,
          43,
          24,
          40,
          40,
          48,
          31,
          18,
          37,
          55,
          18,
          18,
          55,
          50,
          34,
          53,
          35,
          20,
          28,
          34,
          36,
          27,
          53,
          24,
          24,
          55,
          30,
          21,
          35,
          383,
          21,
          47,
          30,
          28,
          43,
          32,
          44,
          20,
          20,
          null,
          19,
          29,
          21,
          27,
          21,
          35,
          42,
          29,
          58,
          21,
          21,
          37,
          21,
          20,
          33,
          20,
          45,
          32,
          30,
          33,
          42,
          17,
          27,
          35,
          37,
          30,
          29,
          17,
          null,
          22,
          19,
          42,
          37,
          28,
          22,
          26,
          21,
          26,
          39,
          26,
          26,
          21,
          25,
          26,
          30,
          19,
          19,
          25,
          23,
          31,
          27,
          29,
          38,
          23,
          27,
          27,
          42,
          20,
          17,
          20,
          30,
          28,
          26,
          26,
          31,
          40,
          39,
          18,
          24,
          23,
          24,
          24,
          27,
          24,
          25,
          22,
          40,
          23,
          29,
          25,
          27,
          22,
          28,
          20,
          19,
          37,
          35,
          26,
          23,
          32,
          30,
          31,
          28,
          29,
          29,
          29,
          31,
          36,
          32,
          34,
          24,
          24,
          42,
          26,
          27,
          36,
          36,
          55,
          23,
          22,
          42,
          54,
          43,
          43,
          29,
          29,
          37,
          39,
          18,
          31,
          34,
          22,
          28,
          38,
          28,
          53,
          26,
          37,
          42,
          43,
          32,
          31,
          53,
          28,
          38,
          31,
          31,
          21,
          25,
          25,
          60,
          39,
          53,
          20,
          25,
          50,
          28,
          37,
          30,
          32,
          34,
          42,
          22,
          37,
          39,
          18,
          54,
          42,
          27,
          22,
          22,
          21,
          28,
          17,
          28,
          21,
          31,
          20,
          21,
          22,
          21,
          24,
          24,
          25,
          17,
          21,
          23,
          21,
          22,
          24,
          34,
          30,
          29,
          20,
          23,
          26,
          20,
          41,
          24,
          35,
          23,
          36,
          33,
          24,
          25,
          25,
          25,
          24,
          27,
          26,
          26,
          23,
          30,
          25,
          23,
          34,
          20,
          22,
          33,
          46,
          17,
          45,
          26,
          30,
          32,
          38,
          26,
          29,
          33,
          32,
          44,
          47,
          32,
          40,
          40,
          44,
          56,
          23,
          32,
          27,
          28,
          40,
          45,
          19,
          55,
          27,
          19,
          29,
          33,
          48,
          37,
          30,
          37,
          28,
          20,
          25,
          58,
          36,
          36,
          19,
          19,
          22,
          20,
          24,
          19,
          21,
          20,
          18,
          23,
          22,
          18,
          37,
          18,
          18,
          18,
          18,
          18,
          18,
          19,
          55,
          32,
          50,
          40,
          47,
          20,
          22,
          21,
          21,
          19,
          21,
          21,
          23,
          21,
          21,
          23,
          20,
          21,
          20,
          19,
          21,
          26,
          21,
          19,
          22,
          19,
          22,
          20,
          23,
          19,
          20,
          24,
          19,
          20,
          23,
          20,
          20,
          20,
          20,
          21,
          19,
          20,
          20,
          25,
          20,
          22,
          20,
          20,
          20,
          23,
          21,
          22,
          21,
          20,
          22,
          21,
          20,
          20,
          21,
          21,
          23,
          21,
          22,
          19,
          20,
          21,
          26,
          19,
          20,
          26,
          23,
          28,
          19,
          20,
          19,
          24,
          19,
          22,
          20,
          21,
          24,
          18,
          19,
          19,
          31,
          19,
          21,
          20,
          26,
          27,
          23,
          29,
          23,
          23,
          24,
          21,
          20,
          20,
          32,
          61,
          19,
          35,
          34,
          23,
          19,
          36,
          21,
          23,
          17,
          22,
          33,
          23,
          35,
          21,
          20,
          29,
          59,
          18,
          19,
          24,
          36,
          19,
          17,
          52,
          18,
          30,
          18,
          27,
          52,
          45,
          25,
          29,
          29,
          18,
          18,
          17,
          27,
          22,
          23,
          25,
          23,
          29,
          27,
          27,
          43,
          26,
          30,
          23,
          29,
          37,
          28,
          25,
          25,
          21,
          43,
          30,
          18,
          18,
          30,
          31,
          33,
          33,
          26,
          61,
          46,
          33,
          38,
          44,
          48,
          42,
          37,
          23,
          24,
          41,
          41,
          27,
          46,
          40,
          22,
          42,
          18,
          44,
          30,
          42,
          35,
          40,
          50,
          38,
          26,
          27,
          47,
          21,
          37,
          19,
          32,
          26,
          46,
          29,
          30,
          32,
          35,
          22,
          19,
          24,
          52,
          52,
          32,
          24,
          24,
          49,
          30,
          30,
          35,
          35,
          37,
          43,
          52,
          44,
          46,
          42,
          20,
          18,
          38,
          24,
          32,
          29,
          22,
          19,
          39,
          17,
          19,
          18,
          19,
          28,
          29,
          48,
          27,
          34,
          31,
          47,
          47,
          44,
          25,
          25,
          20,
          43,
          36,
          30,
          44,
          40,
          40,
          40,
          30,
          47,
          21,
          21,
          31,
          21,
          29,
          22,
          51,
          23,
          30,
          22,
          22,
          24,
          26,
          33,
          23,
          42,
          26,
          29,
          35,
          25,
          25,
          28,
          33,
          25,
          25,
          24,
          27,
          22,
          21,
          27,
          23,
          22,
          23,
          30,
          33,
          24,
          22,
          22,
          29,
          22,
          21,
          23,
          23,
          23,
          32,
          27,
          28,
          25,
          22,
          36,
          27,
          21,
          18,
          49,
          18,
          29,
          31,
          37,
          17,
          17,
          38,
          18,
          31,
          33,
          32,
          30,
          33,
          30,
          30,
          38,
          22,
          36,
          43,
          44,
          20,
          40,
          25,
          28,
          17,
          34,
          56,
          50,
          38,
          47,
          30,
          21,
          21,
          31,
          27,
          24,
          35,
          18,
          43,
          44,
          40,
          49,
          24,
          30,
          53,
          38,
          28,
          28,
          26,
          39,
          31,
          24,
          28,
          31,
          27,
          28,
          31,
          46,
          27,
          25,
          34,
          24,
          35,
          26
         ],
         "yaxis": "y"
        }
       ],
       "layout": {
        "template": {
         "data": {
          "bar": [
           {
            "error_x": {
             "color": "#2a3f5f"
            },
            "error_y": {
             "color": "#2a3f5f"
            },
            "marker": {
             "line": {
              "color": "#E5ECF6",
              "width": 0.5
             },
             "pattern": {
              "fillmode": "overlay",
              "size": 10,
              "solidity": 0.2
             }
            },
            "type": "bar"
           }
          ],
          "barpolar": [
           {
            "marker": {
             "line": {
              "color": "#E5ECF6",
              "width": 0.5
             },
             "pattern": {
              "fillmode": "overlay",
              "size": 10,
              "solidity": 0.2
             }
            },
            "type": "barpolar"
           }
          ],
          "carpet": [
           {
            "aaxis": {
             "endlinecolor": "#2a3f5f",
             "gridcolor": "white",
             "linecolor": "white",
             "minorgridcolor": "white",
             "startlinecolor": "#2a3f5f"
            },
            "baxis": {
             "endlinecolor": "#2a3f5f",
             "gridcolor": "white",
             "linecolor": "white",
             "minorgridcolor": "white",
             "startlinecolor": "#2a3f5f"
            },
            "type": "carpet"
           }
          ],
          "choropleth": [
           {
            "colorbar": {
             "outlinewidth": 0,
             "ticks": ""
            },
            "type": "choropleth"
           }
          ],
          "contour": [
           {
            "colorbar": {
             "outlinewidth": 0,
             "ticks": ""
            },
            "colorscale": [
             [
              0,
              "#0d0887"
             ],
             [
              0.1111111111111111,
              "#46039f"
             ],
             [
              0.2222222222222222,
              "#7201a8"
             ],
             [
              0.3333333333333333,
              "#9c179e"
             ],
             [
              0.4444444444444444,
              "#bd3786"
             ],
             [
              0.5555555555555556,
              "#d8576b"
             ],
             [
              0.6666666666666666,
              "#ed7953"
             ],
             [
              0.7777777777777778,
              "#fb9f3a"
             ],
             [
              0.8888888888888888,
              "#fdca26"
             ],
             [
              1,
              "#f0f921"
             ]
            ],
            "type": "contour"
           }
          ],
          "contourcarpet": [
           {
            "colorbar": {
             "outlinewidth": 0,
             "ticks": ""
            },
            "type": "contourcarpet"
           }
          ],
          "heatmap": [
           {
            "colorbar": {
             "outlinewidth": 0,
             "ticks": ""
            },
            "colorscale": [
             [
              0,
              "#0d0887"
             ],
             [
              0.1111111111111111,
              "#46039f"
             ],
             [
              0.2222222222222222,
              "#7201a8"
             ],
             [
              0.3333333333333333,
              "#9c179e"
             ],
             [
              0.4444444444444444,
              "#bd3786"
             ],
             [
              0.5555555555555556,
              "#d8576b"
             ],
             [
              0.6666666666666666,
              "#ed7953"
             ],
             [
              0.7777777777777778,
              "#fb9f3a"
             ],
             [
              0.8888888888888888,
              "#fdca26"
             ],
             [
              1,
              "#f0f921"
             ]
            ],
            "type": "heatmap"
           }
          ],
          "heatmapgl": [
           {
            "colorbar": {
             "outlinewidth": 0,
             "ticks": ""
            },
            "colorscale": [
             [
              0,
              "#0d0887"
             ],
             [
              0.1111111111111111,
              "#46039f"
             ],
             [
              0.2222222222222222,
              "#7201a8"
             ],
             [
              0.3333333333333333,
              "#9c179e"
             ],
             [
              0.4444444444444444,
              "#bd3786"
             ],
             [
              0.5555555555555556,
              "#d8576b"
             ],
             [
              0.6666666666666666,
              "#ed7953"
             ],
             [
              0.7777777777777778,
              "#fb9f3a"
             ],
             [
              0.8888888888888888,
              "#fdca26"
             ],
             [
              1,
              "#f0f921"
             ]
            ],
            "type": "heatmapgl"
           }
          ],
          "histogram": [
           {
            "marker": {
             "pattern": {
              "fillmode": "overlay",
              "size": 10,
              "solidity": 0.2
             }
            },
            "type": "histogram"
           }
          ],
          "histogram2d": [
           {
            "colorbar": {
             "outlinewidth": 0,
             "ticks": ""
            },
            "colorscale": [
             [
              0,
              "#0d0887"
             ],
             [
              0.1111111111111111,
              "#46039f"
             ],
             [
              0.2222222222222222,
              "#7201a8"
             ],
             [
              0.3333333333333333,
              "#9c179e"
             ],
             [
              0.4444444444444444,
              "#bd3786"
             ],
             [
              0.5555555555555556,
              "#d8576b"
             ],
             [
              0.6666666666666666,
              "#ed7953"
             ],
             [
              0.7777777777777778,
              "#fb9f3a"
             ],
             [
              0.8888888888888888,
              "#fdca26"
             ],
             [
              1,
              "#f0f921"
             ]
            ],
            "type": "histogram2d"
           }
          ],
          "histogram2dcontour": [
           {
            "colorbar": {
             "outlinewidth": 0,
             "ticks": ""
            },
            "colorscale": [
             [
              0,
              "#0d0887"
             ],
             [
              0.1111111111111111,
              "#46039f"
             ],
             [
              0.2222222222222222,
              "#7201a8"
             ],
             [
              0.3333333333333333,
              "#9c179e"
             ],
             [
              0.4444444444444444,
              "#bd3786"
             ],
             [
              0.5555555555555556,
              "#d8576b"
             ],
             [
              0.6666666666666666,
              "#ed7953"
             ],
             [
              0.7777777777777778,
              "#fb9f3a"
             ],
             [
              0.8888888888888888,
              "#fdca26"
             ],
             [
              1,
              "#f0f921"
             ]
            ],
            "type": "histogram2dcontour"
           }
          ],
          "mesh3d": [
           {
            "colorbar": {
             "outlinewidth": 0,
             "ticks": ""
            },
            "type": "mesh3d"
           }
          ],
          "parcoords": [
           {
            "line": {
             "colorbar": {
              "outlinewidth": 0,
              "ticks": ""
             }
            },
            "type": "parcoords"
           }
          ],
          "pie": [
           {
            "automargin": true,
            "type": "pie"
           }
          ],
          "scatter": [
           {
            "fillpattern": {
             "fillmode": "overlay",
             "size": 10,
             "solidity": 0.2
            },
            "type": "scatter"
           }
          ],
          "scatter3d": [
           {
            "line": {
             "colorbar": {
              "outlinewidth": 0,
              "ticks": ""
             }
            },
            "marker": {
             "colorbar": {
              "outlinewidth": 0,
              "ticks": ""
             }
            },
            "type": "scatter3d"
           }
          ],
          "scattercarpet": [
           {
            "marker": {
             "colorbar": {
              "outlinewidth": 0,
              "ticks": ""
             }
            },
            "type": "scattercarpet"
           }
          ],
          "scattergeo": [
           {
            "marker": {
             "colorbar": {
              "outlinewidth": 0,
              "ticks": ""
             }
            },
            "type": "scattergeo"
           }
          ],
          "scattergl": [
           {
            "marker": {
             "colorbar": {
              "outlinewidth": 0,
              "ticks": ""
             }
            },
            "type": "scattergl"
           }
          ],
          "scattermapbox": [
           {
            "marker": {
             "colorbar": {
              "outlinewidth": 0,
              "ticks": ""
             }
            },
            "type": "scattermapbox"
           }
          ],
          "scatterpolar": [
           {
            "marker": {
             "colorbar": {
              "outlinewidth": 0,
              "ticks": ""
             }
            },
            "type": "scatterpolar"
           }
          ],
          "scatterpolargl": [
           {
            "marker": {
             "colorbar": {
              "outlinewidth": 0,
              "ticks": ""
             }
            },
            "type": "scatterpolargl"
           }
          ],
          "scatterternary": [
           {
            "marker": {
             "colorbar": {
              "outlinewidth": 0,
              "ticks": ""
             }
            },
            "type": "scatterternary"
           }
          ],
          "surface": [
           {
            "colorbar": {
             "outlinewidth": 0,
             "ticks": ""
            },
            "colorscale": [
             [
              0,
              "#0d0887"
             ],
             [
              0.1111111111111111,
              "#46039f"
             ],
             [
              0.2222222222222222,
              "#7201a8"
             ],
             [
              0.3333333333333333,
              "#9c179e"
             ],
             [
              0.4444444444444444,
              "#bd3786"
             ],
             [
              0.5555555555555556,
              "#d8576b"
             ],
             [
              0.6666666666666666,
              "#ed7953"
             ],
             [
              0.7777777777777778,
              "#fb9f3a"
             ],
             [
              0.8888888888888888,
              "#fdca26"
             ],
             [
              1,
              "#f0f921"
             ]
            ],
            "type": "surface"
           }
          ],
          "table": [
           {
            "cells": {
             "fill": {
              "color": "#EBF0F8"
             },
             "line": {
              "color": "white"
             }
            },
            "header": {
             "fill": {
              "color": "#C8D4E3"
             },
             "line": {
              "color": "white"
             }
            },
            "type": "table"
           }
          ]
         },
         "layout": {
          "annotationdefaults": {
           "arrowcolor": "#2a3f5f",
           "arrowhead": 0,
           "arrowwidth": 1
          },
          "autotypenumbers": "strict",
          "coloraxis": {
           "colorbar": {
            "outlinewidth": 0,
            "ticks": ""
           }
          },
          "colorscale": {
           "diverging": [
            [
             0,
             "#8e0152"
            ],
            [
             0.1,
             "#c51b7d"
            ],
            [
             0.2,
             "#de77ae"
            ],
            [
             0.3,
             "#f1b6da"
            ],
            [
             0.4,
             "#fde0ef"
            ],
            [
             0.5,
             "#f7f7f7"
            ],
            [
             0.6,
             "#e6f5d0"
            ],
            [
             0.7,
             "#b8e186"
            ],
            [
             0.8,
             "#7fbc41"
            ],
            [
             0.9,
             "#4d9221"
            ],
            [
             1,
             "#276419"
            ]
           ],
           "sequential": [
            [
             0,
             "#0d0887"
            ],
            [
             0.1111111111111111,
             "#46039f"
            ],
            [
             0.2222222222222222,
             "#7201a8"
            ],
            [
             0.3333333333333333,
             "#9c179e"
            ],
            [
             0.4444444444444444,
             "#bd3786"
            ],
            [
             0.5555555555555556,
             "#d8576b"
            ],
            [
             0.6666666666666666,
             "#ed7953"
            ],
            [
             0.7777777777777778,
             "#fb9f3a"
            ],
            [
             0.8888888888888888,
             "#fdca26"
            ],
            [
             1,
             "#f0f921"
            ]
           ],
           "sequentialminus": [
            [
             0,
             "#0d0887"
            ],
            [
             0.1111111111111111,
             "#46039f"
            ],
            [
             0.2222222222222222,
             "#7201a8"
            ],
            [
             0.3333333333333333,
             "#9c179e"
            ],
            [
             0.4444444444444444,
             "#bd3786"
            ],
            [
             0.5555555555555556,
             "#d8576b"
            ],
            [
             0.6666666666666666,
             "#ed7953"
            ],
            [
             0.7777777777777778,
             "#fb9f3a"
            ],
            [
             0.8888888888888888,
             "#fdca26"
            ],
            [
             1,
             "#f0f921"
            ]
           ]
          },
          "colorway": [
           "#636efa",
           "#EF553B",
           "#00cc96",
           "#ab63fa",
           "#FFA15A",
           "#19d3f3",
           "#FF6692",
           "#B6E880",
           "#FF97FF",
           "#FECB52"
          ],
          "font": {
           "color": "#2a3f5f"
          },
          "geo": {
           "bgcolor": "white",
           "lakecolor": "white",
           "landcolor": "#E5ECF6",
           "showlakes": true,
           "showland": true,
           "subunitcolor": "white"
          },
          "hoverlabel": {
           "align": "left"
          },
          "hovermode": "closest",
          "mapbox": {
           "style": "light"
          },
          "paper_bgcolor": "white",
          "plot_bgcolor": "#E5ECF6",
          "polar": {
           "angularaxis": {
            "gridcolor": "white",
            "linecolor": "white",
            "ticks": ""
           },
           "bgcolor": "#E5ECF6",
           "radialaxis": {
            "gridcolor": "white",
            "linecolor": "white",
            "ticks": ""
           }
          },
          "scene": {
           "xaxis": {
            "backgroundcolor": "#E5ECF6",
            "gridcolor": "white",
            "gridwidth": 2,
            "linecolor": "white",
            "showbackground": true,
            "ticks": "",
            "zerolinecolor": "white"
           },
           "yaxis": {
            "backgroundcolor": "#E5ECF6",
            "gridcolor": "white",
            "gridwidth": 2,
            "linecolor": "white",
            "showbackground": true,
            "ticks": "",
            "zerolinecolor": "white"
           },
           "zaxis": {
            "backgroundcolor": "#E5ECF6",
            "gridcolor": "white",
            "gridwidth": 2,
            "linecolor": "white",
            "showbackground": true,
            "ticks": "",
            "zerolinecolor": "white"
           }
          },
          "shapedefaults": {
           "line": {
            "color": "#2a3f5f"
           }
          },
          "ternary": {
           "aaxis": {
            "gridcolor": "white",
            "linecolor": "white",
            "ticks": ""
           },
           "baxis": {
            "gridcolor": "white",
            "linecolor": "white",
            "ticks": ""
           },
           "bgcolor": "#E5ECF6",
           "caxis": {
            "gridcolor": "white",
            "linecolor": "white",
            "ticks": ""
           }
          },
          "title": {
           "x": 0.05
          },
          "xaxis": {
           "automargin": true,
           "gridcolor": "white",
           "linecolor": "white",
           "ticks": "",
           "title": {
            "standoff": 15
           },
           "zerolinecolor": "white",
           "zerolinewidth": 2
          },
          "yaxis": {
           "automargin": true,
           "gridcolor": "white",
           "linecolor": "white",
           "ticks": "",
           "title": {
            "standoff": 15
           },
           "zerolinecolor": "white",
           "zerolinewidth": 2
          }
         }
        },
        "title": {
         "text": "Box Plot for Age of ASD patients"
        },
        "xaxis": {
         "anchor": "y",
         "domain": [
          0,
          1
         ]
        },
        "yaxis": {
         "anchor": "x",
         "domain": [
          0,
          1
         ]
        }
       }
      },
      "text/html": [
       "<div>                            <div id=\"b9637000-73fb-4f45-8bb8-3061d5ded4b0\" class=\"plotly-graph-div\" style=\"height:525px; width:100%;\"></div>            <script type=\"text/javascript\">                require([\"plotly\"], function(Plotly) {                    window.PLOTLYENV=window.PLOTLYENV || {};                                    if (document.getElementById(\"b9637000-73fb-4f45-8bb8-3061d5ded4b0\")) {                    Plotly.newPlot(                        \"b9637000-73fb-4f45-8bb8-3061d5ded4b0\",                        [{\"boxmean\":true,\"boxpoints\":\"all\",\"name\":\"Age\",\"notched\":true,\"y\":[26.0,24.0,27.0,35.0,40.0,36.0,17.0,64.0,29.0,17.0,33.0,18.0,17.0,17.0,17.0,18.0,31.0,30.0,35.0,34.0,38.0,27.0,27.0,42.0,43.0,24.0,40.0,40.0,48.0,31.0,18.0,37.0,55.0,18.0,18.0,55.0,50.0,34.0,53.0,35.0,20.0,28.0,34.0,36.0,27.0,53.0,24.0,24.0,55.0,30.0,21.0,35.0,383.0,21.0,47.0,30.0,28.0,43.0,32.0,44.0,20.0,20.0,null,19.0,29.0,21.0,27.0,21.0,35.0,42.0,29.0,58.0,21.0,21.0,37.0,21.0,20.0,33.0,20.0,45.0,32.0,30.0,33.0,42.0,17.0,27.0,35.0,37.0,30.0,29.0,17.0,null,22.0,19.0,42.0,37.0,28.0,22.0,26.0,21.0,26.0,39.0,26.0,26.0,21.0,25.0,26.0,30.0,19.0,19.0,25.0,23.0,31.0,27.0,29.0,38.0,23.0,27.0,27.0,42.0,20.0,17.0,20.0,30.0,28.0,26.0,26.0,31.0,40.0,39.0,18.0,24.0,23.0,24.0,24.0,27.0,24.0,25.0,22.0,40.0,23.0,29.0,25.0,27.0,22.0,28.0,20.0,19.0,37.0,35.0,26.0,23.0,32.0,30.0,31.0,28.0,29.0,29.0,29.0,31.0,36.0,32.0,34.0,24.0,24.0,42.0,26.0,27.0,36.0,36.0,55.0,23.0,22.0,42.0,54.0,43.0,43.0,29.0,29.0,37.0,39.0,18.0,31.0,34.0,22.0,28.0,38.0,28.0,53.0,26.0,37.0,42.0,43.0,32.0,31.0,53.0,28.0,38.0,31.0,31.0,21.0,25.0,25.0,60.0,39.0,53.0,20.0,25.0,50.0,28.0,37.0,30.0,32.0,34.0,42.0,22.0,37.0,39.0,18.0,54.0,42.0,27.0,22.0,22.0,21.0,28.0,17.0,28.0,21.0,31.0,20.0,21.0,22.0,21.0,24.0,24.0,25.0,17.0,21.0,23.0,21.0,22.0,24.0,34.0,30.0,29.0,20.0,23.0,26.0,20.0,41.0,24.0,35.0,23.0,36.0,33.0,24.0,25.0,25.0,25.0,24.0,27.0,26.0,26.0,23.0,30.0,25.0,23.0,34.0,20.0,22.0,33.0,46.0,17.0,45.0,26.0,30.0,32.0,38.0,26.0,29.0,33.0,32.0,44.0,47.0,32.0,40.0,40.0,44.0,56.0,23.0,32.0,27.0,28.0,40.0,45.0,19.0,55.0,27.0,19.0,29.0,33.0,48.0,37.0,30.0,37.0,28.0,20.0,25.0,58.0,36.0,36.0,19.0,19.0,22.0,20.0,24.0,19.0,21.0,20.0,18.0,23.0,22.0,18.0,37.0,18.0,18.0,18.0,18.0,18.0,18.0,19.0,55.0,32.0,50.0,40.0,47.0,20.0,22.0,21.0,21.0,19.0,21.0,21.0,23.0,21.0,21.0,23.0,20.0,21.0,20.0,19.0,21.0,26.0,21.0,19.0,22.0,19.0,22.0,20.0,23.0,19.0,20.0,24.0,19.0,20.0,23.0,20.0,20.0,20.0,20.0,21.0,19.0,20.0,20.0,25.0,20.0,22.0,20.0,20.0,20.0,23.0,21.0,22.0,21.0,20.0,22.0,21.0,20.0,20.0,21.0,21.0,23.0,21.0,22.0,19.0,20.0,21.0,26.0,19.0,20.0,26.0,23.0,28.0,19.0,20.0,19.0,24.0,19.0,22.0,20.0,21.0,24.0,18.0,19.0,19.0,31.0,19.0,21.0,20.0,26.0,27.0,23.0,29.0,23.0,23.0,24.0,21.0,20.0,20.0,32.0,61.0,19.0,35.0,34.0,23.0,19.0,36.0,21.0,23.0,17.0,22.0,33.0,23.0,35.0,21.0,20.0,29.0,59.0,18.0,19.0,24.0,36.0,19.0,17.0,52.0,18.0,30.0,18.0,27.0,52.0,45.0,25.0,29.0,29.0,18.0,18.0,17.0,27.0,22.0,23.0,25.0,23.0,29.0,27.0,27.0,43.0,26.0,30.0,23.0,29.0,37.0,28.0,25.0,25.0,21.0,43.0,30.0,18.0,18.0,30.0,31.0,33.0,33.0,26.0,61.0,46.0,33.0,38.0,44.0,48.0,42.0,37.0,23.0,24.0,41.0,41.0,27.0,46.0,40.0,22.0,42.0,18.0,44.0,30.0,42.0,35.0,40.0,50.0,38.0,26.0,27.0,47.0,21.0,37.0,19.0,32.0,26.0,46.0,29.0,30.0,32.0,35.0,22.0,19.0,24.0,52.0,52.0,32.0,24.0,24.0,49.0,30.0,30.0,35.0,35.0,37.0,43.0,52.0,44.0,46.0,42.0,20.0,18.0,38.0,24.0,32.0,29.0,22.0,19.0,39.0,17.0,19.0,18.0,19.0,28.0,29.0,48.0,27.0,34.0,31.0,47.0,47.0,44.0,25.0,25.0,20.0,43.0,36.0,30.0,44.0,40.0,40.0,40.0,30.0,47.0,21.0,21.0,31.0,21.0,29.0,22.0,51.0,23.0,30.0,22.0,22.0,24.0,26.0,33.0,23.0,42.0,26.0,29.0,35.0,25.0,25.0,28.0,33.0,25.0,25.0,24.0,27.0,22.0,21.0,27.0,23.0,22.0,23.0,30.0,33.0,24.0,22.0,22.0,29.0,22.0,21.0,23.0,23.0,23.0,32.0,27.0,28.0,25.0,22.0,36.0,27.0,21.0,18.0,49.0,18.0,29.0,31.0,37.0,17.0,17.0,38.0,18.0,31.0,33.0,32.0,30.0,33.0,30.0,30.0,38.0,22.0,36.0,43.0,44.0,20.0,40.0,25.0,28.0,17.0,34.0,56.0,50.0,38.0,47.0,30.0,21.0,21.0,31.0,27.0,24.0,35.0,18.0,43.0,44.0,40.0,49.0,24.0,30.0,53.0,38.0,28.0,28.0,26.0,39.0,31.0,24.0,28.0,31.0,27.0,28.0,31.0,46.0,27.0,25.0,34.0,24.0,35.0,26.0],\"type\":\"box\",\"xaxis\":\"x\",\"yaxis\":\"y\"}],                        {\"template\":{\"data\":{\"histogram2dcontour\":[{\"type\":\"histogram2dcontour\",\"colorbar\":{\"outlinewidth\":0,\"ticks\":\"\"},\"colorscale\":[[0.0,\"#0d0887\"],[0.1111111111111111,\"#46039f\"],[0.2222222222222222,\"#7201a8\"],[0.3333333333333333,\"#9c179e\"],[0.4444444444444444,\"#bd3786\"],[0.5555555555555556,\"#d8576b\"],[0.6666666666666666,\"#ed7953\"],[0.7777777777777778,\"#fb9f3a\"],[0.8888888888888888,\"#fdca26\"],[1.0,\"#f0f921\"]]}],\"choropleth\":[{\"type\":\"choropleth\",\"colorbar\":{\"outlinewidth\":0,\"ticks\":\"\"}}],\"histogram2d\":[{\"type\":\"histogram2d\",\"colorbar\":{\"outlinewidth\":0,\"ticks\":\"\"},\"colorscale\":[[0.0,\"#0d0887\"],[0.1111111111111111,\"#46039f\"],[0.2222222222222222,\"#7201a8\"],[0.3333333333333333,\"#9c179e\"],[0.4444444444444444,\"#bd3786\"],[0.5555555555555556,\"#d8576b\"],[0.6666666666666666,\"#ed7953\"],[0.7777777777777778,\"#fb9f3a\"],[0.8888888888888888,\"#fdca26\"],[1.0,\"#f0f921\"]]}],\"heatmap\":[{\"type\":\"heatmap\",\"colorbar\":{\"outlinewidth\":0,\"ticks\":\"\"},\"colorscale\":[[0.0,\"#0d0887\"],[0.1111111111111111,\"#46039f\"],[0.2222222222222222,\"#7201a8\"],[0.3333333333333333,\"#9c179e\"],[0.4444444444444444,\"#bd3786\"],[0.5555555555555556,\"#d8576b\"],[0.6666666666666666,\"#ed7953\"],[0.7777777777777778,\"#fb9f3a\"],[0.8888888888888888,\"#fdca26\"],[1.0,\"#f0f921\"]]}],\"heatmapgl\":[{\"type\":\"heatmapgl\",\"colorbar\":{\"outlinewidth\":0,\"ticks\":\"\"},\"colorscale\":[[0.0,\"#0d0887\"],[0.1111111111111111,\"#46039f\"],[0.2222222222222222,\"#7201a8\"],[0.3333333333333333,\"#9c179e\"],[0.4444444444444444,\"#bd3786\"],[0.5555555555555556,\"#d8576b\"],[0.6666666666666666,\"#ed7953\"],[0.7777777777777778,\"#fb9f3a\"],[0.8888888888888888,\"#fdca26\"],[1.0,\"#f0f921\"]]}],\"contourcarpet\":[{\"type\":\"contourcarpet\",\"colorbar\":{\"outlinewidth\":0,\"ticks\":\"\"}}],\"contour\":[{\"type\":\"contour\",\"colorbar\":{\"outlinewidth\":0,\"ticks\":\"\"},\"colorscale\":[[0.0,\"#0d0887\"],[0.1111111111111111,\"#46039f\"],[0.2222222222222222,\"#7201a8\"],[0.3333333333333333,\"#9c179e\"],[0.4444444444444444,\"#bd3786\"],[0.5555555555555556,\"#d8576b\"],[0.6666666666666666,\"#ed7953\"],[0.7777777777777778,\"#fb9f3a\"],[0.8888888888888888,\"#fdca26\"],[1.0,\"#f0f921\"]]}],\"surface\":[{\"type\":\"surface\",\"colorbar\":{\"outlinewidth\":0,\"ticks\":\"\"},\"colorscale\":[[0.0,\"#0d0887\"],[0.1111111111111111,\"#46039f\"],[0.2222222222222222,\"#7201a8\"],[0.3333333333333333,\"#9c179e\"],[0.4444444444444444,\"#bd3786\"],[0.5555555555555556,\"#d8576b\"],[0.6666666666666666,\"#ed7953\"],[0.7777777777777778,\"#fb9f3a\"],[0.8888888888888888,\"#fdca26\"],[1.0,\"#f0f921\"]]}],\"mesh3d\":[{\"type\":\"mesh3d\",\"colorbar\":{\"outlinewidth\":0,\"ticks\":\"\"}}],\"scatter\":[{\"fillpattern\":{\"fillmode\":\"overlay\",\"size\":10,\"solidity\":0.2},\"type\":\"scatter\"}],\"parcoords\":[{\"type\":\"parcoords\",\"line\":{\"colorbar\":{\"outlinewidth\":0,\"ticks\":\"\"}}}],\"scatterpolargl\":[{\"type\":\"scatterpolargl\",\"marker\":{\"colorbar\":{\"outlinewidth\":0,\"ticks\":\"\"}}}],\"bar\":[{\"error_x\":{\"color\":\"#2a3f5f\"},\"error_y\":{\"color\":\"#2a3f5f\"},\"marker\":{\"line\":{\"color\":\"#E5ECF6\",\"width\":0.5},\"pattern\":{\"fillmode\":\"overlay\",\"size\":10,\"solidity\":0.2}},\"type\":\"bar\"}],\"scattergeo\":[{\"type\":\"scattergeo\",\"marker\":{\"colorbar\":{\"outlinewidth\":0,\"ticks\":\"\"}}}],\"scatterpolar\":[{\"type\":\"scatterpolar\",\"marker\":{\"colorbar\":{\"outlinewidth\":0,\"ticks\":\"\"}}}],\"histogram\":[{\"marker\":{\"pattern\":{\"fillmode\":\"overlay\",\"size\":10,\"solidity\":0.2}},\"type\":\"histogram\"}],\"scattergl\":[{\"type\":\"scattergl\",\"marker\":{\"colorbar\":{\"outlinewidth\":0,\"ticks\":\"\"}}}],\"scatter3d\":[{\"type\":\"scatter3d\",\"line\":{\"colorbar\":{\"outlinewidth\":0,\"ticks\":\"\"}},\"marker\":{\"colorbar\":{\"outlinewidth\":0,\"ticks\":\"\"}}}],\"scattermapbox\":[{\"type\":\"scattermapbox\",\"marker\":{\"colorbar\":{\"outlinewidth\":0,\"ticks\":\"\"}}}],\"scatterternary\":[{\"type\":\"scatterternary\",\"marker\":{\"colorbar\":{\"outlinewidth\":0,\"ticks\":\"\"}}}],\"scattercarpet\":[{\"type\":\"scattercarpet\",\"marker\":{\"colorbar\":{\"outlinewidth\":0,\"ticks\":\"\"}}}],\"carpet\":[{\"aaxis\":{\"endlinecolor\":\"#2a3f5f\",\"gridcolor\":\"white\",\"linecolor\":\"white\",\"minorgridcolor\":\"white\",\"startlinecolor\":\"#2a3f5f\"},\"baxis\":{\"endlinecolor\":\"#2a3f5f\",\"gridcolor\":\"white\",\"linecolor\":\"white\",\"minorgridcolor\":\"white\",\"startlinecolor\":\"#2a3f5f\"},\"type\":\"carpet\"}],\"table\":[{\"cells\":{\"fill\":{\"color\":\"#EBF0F8\"},\"line\":{\"color\":\"white\"}},\"header\":{\"fill\":{\"color\":\"#C8D4E3\"},\"line\":{\"color\":\"white\"}},\"type\":\"table\"}],\"barpolar\":[{\"marker\":{\"line\":{\"color\":\"#E5ECF6\",\"width\":0.5},\"pattern\":{\"fillmode\":\"overlay\",\"size\":10,\"solidity\":0.2}},\"type\":\"barpolar\"}],\"pie\":[{\"automargin\":true,\"type\":\"pie\"}]},\"layout\":{\"autotypenumbers\":\"strict\",\"colorway\":[\"#636efa\",\"#EF553B\",\"#00cc96\",\"#ab63fa\",\"#FFA15A\",\"#19d3f3\",\"#FF6692\",\"#B6E880\",\"#FF97FF\",\"#FECB52\"],\"font\":{\"color\":\"#2a3f5f\"},\"hovermode\":\"closest\",\"hoverlabel\":{\"align\":\"left\"},\"paper_bgcolor\":\"white\",\"plot_bgcolor\":\"#E5ECF6\",\"polar\":{\"bgcolor\":\"#E5ECF6\",\"angularaxis\":{\"gridcolor\":\"white\",\"linecolor\":\"white\",\"ticks\":\"\"},\"radialaxis\":{\"gridcolor\":\"white\",\"linecolor\":\"white\",\"ticks\":\"\"}},\"ternary\":{\"bgcolor\":\"#E5ECF6\",\"aaxis\":{\"gridcolor\":\"white\",\"linecolor\":\"white\",\"ticks\":\"\"},\"baxis\":{\"gridcolor\":\"white\",\"linecolor\":\"white\",\"ticks\":\"\"},\"caxis\":{\"gridcolor\":\"white\",\"linecolor\":\"white\",\"ticks\":\"\"}},\"coloraxis\":{\"colorbar\":{\"outlinewidth\":0,\"ticks\":\"\"}},\"colorscale\":{\"sequential\":[[0.0,\"#0d0887\"],[0.1111111111111111,\"#46039f\"],[0.2222222222222222,\"#7201a8\"],[0.3333333333333333,\"#9c179e\"],[0.4444444444444444,\"#bd3786\"],[0.5555555555555556,\"#d8576b\"],[0.6666666666666666,\"#ed7953\"],[0.7777777777777778,\"#fb9f3a\"],[0.8888888888888888,\"#fdca26\"],[1.0,\"#f0f921\"]],\"sequentialminus\":[[0.0,\"#0d0887\"],[0.1111111111111111,\"#46039f\"],[0.2222222222222222,\"#7201a8\"],[0.3333333333333333,\"#9c179e\"],[0.4444444444444444,\"#bd3786\"],[0.5555555555555556,\"#d8576b\"],[0.6666666666666666,\"#ed7953\"],[0.7777777777777778,\"#fb9f3a\"],[0.8888888888888888,\"#fdca26\"],[1.0,\"#f0f921\"]],\"diverging\":[[0,\"#8e0152\"],[0.1,\"#c51b7d\"],[0.2,\"#de77ae\"],[0.3,\"#f1b6da\"],[0.4,\"#fde0ef\"],[0.5,\"#f7f7f7\"],[0.6,\"#e6f5d0\"],[0.7,\"#b8e186\"],[0.8,\"#7fbc41\"],[0.9,\"#4d9221\"],[1,\"#276419\"]]},\"xaxis\":{\"gridcolor\":\"white\",\"linecolor\":\"white\",\"ticks\":\"\",\"title\":{\"standoff\":15},\"zerolinecolor\":\"white\",\"automargin\":true,\"zerolinewidth\":2},\"yaxis\":{\"gridcolor\":\"white\",\"linecolor\":\"white\",\"ticks\":\"\",\"title\":{\"standoff\":15},\"zerolinecolor\":\"white\",\"automargin\":true,\"zerolinewidth\":2},\"scene\":{\"xaxis\":{\"backgroundcolor\":\"#E5ECF6\",\"gridcolor\":\"white\",\"linecolor\":\"white\",\"showbackground\":true,\"ticks\":\"\",\"zerolinecolor\":\"white\",\"gridwidth\":2},\"yaxis\":{\"backgroundcolor\":\"#E5ECF6\",\"gridcolor\":\"white\",\"linecolor\":\"white\",\"showbackground\":true,\"ticks\":\"\",\"zerolinecolor\":\"white\",\"gridwidth\":2},\"zaxis\":{\"backgroundcolor\":\"#E5ECF6\",\"gridcolor\":\"white\",\"linecolor\":\"white\",\"showbackground\":true,\"ticks\":\"\",\"zerolinecolor\":\"white\",\"gridwidth\":2}},\"shapedefaults\":{\"line\":{\"color\":\"#2a3f5f\"}},\"annotationdefaults\":{\"arrowcolor\":\"#2a3f5f\",\"arrowhead\":0,\"arrowwidth\":1},\"geo\":{\"bgcolor\":\"white\",\"landcolor\":\"#E5ECF6\",\"subunitcolor\":\"white\",\"showland\":true,\"showlakes\":true,\"lakecolor\":\"white\"},\"title\":{\"x\":0.05},\"mapbox\":{\"style\":\"light\"}}},\"xaxis\":{\"anchor\":\"y\",\"domain\":[0.0,1.0]},\"yaxis\":{\"anchor\":\"x\",\"domain\":[0.0,1.0]},\"title\":{\"text\":\"Box Plot for Age of ASD patients\"}},                        {\"responsive\": true}                    ).then(function(){\n",
       "                            \n",
       "var gd = document.getElementById('b9637000-73fb-4f45-8bb8-3061d5ded4b0');\n",
       "var x = new MutationObserver(function (mutations, observer) {{\n",
       "        var display = window.getComputedStyle(gd).display;\n",
       "        if (!display || display === 'none') {{\n",
       "            console.log([gd, 'removed!']);\n",
       "            Plotly.purge(gd);\n",
       "            observer.disconnect();\n",
       "        }}\n",
       "}});\n",
       "\n",
       "// Listen for the removal of the full notebook cells\n",
       "var notebookContainer = gd.closest('#notebook-container');\n",
       "if (notebookContainer) {{\n",
       "    x.observe(notebookContainer, {childList: true});\n",
       "}}\n",
       "\n",
       "// Listen for the clearing of the current output cell\n",
       "var outputEl = gd.closest('.output');\n",
       "if (outputEl) {{\n",
       "    x.observe(outputEl, {childList: true});\n",
       "}}\n",
       "\n",
       "                        })                };                });            </script>        </div>"
      ]
     },
     "metadata": {},
     "output_type": "display_data"
    }
   ],
   "source": [
    "fig = make_subplots(rows=1, cols=1)\n",
    "fig.add_trace(go.Box( y = data.age, name=\"Age\", boxmean=True, boxpoints='all', notched=True),\n",
    "              row=1, col=1)\n",
    "fig.update_layout(title=\"Box Plot for Age of ASD patients\")"
   ]
  },
  {
   "cell_type": "code",
   "execution_count": null,
   "id": "28828143",
   "metadata": {},
   "outputs": [],
   "source": [
    "go.Histogram"
   ]
  },
  {
   "cell_type": "code",
   "execution_count": 51,
   "id": "12bb74a9",
   "metadata": {},
   "outputs": [
    {
     "ename": "TypeError",
     "evalue": "'module' object is not callable",
     "output_type": "error",
     "traceback": [
      "\u001b[1;31m---------------------------------------------------------------------------\u001b[0m",
      "\u001b[1;31mTypeError\u001b[0m                                 Traceback (most recent call last)",
      "Cell \u001b[1;32mIn[51], line 2\u001b[0m\n\u001b[0;32m      1\u001b[0m fig \u001b[38;5;241m=\u001b[39m make_subplots(rows\u001b[38;5;241m=\u001b[39m\u001b[38;5;241m1\u001b[39m, cols\u001b[38;5;241m=\u001b[39m\u001b[38;5;241m1\u001b[39m)\n\u001b[1;32m----> 2\u001b[0m trace1 \u001b[38;5;241m=\u001b[39m \u001b[43mgo\u001b[49m\u001b[38;5;241;43m.\u001b[39;49m\u001b[43mhistogram\u001b[49m\u001b[43m(\u001b[49m\u001b[43my\u001b[49m\u001b[43m \u001b[49m\u001b[38;5;241;43m=\u001b[39;49m\u001b[43m \u001b[49m\u001b[43mdata\u001b[49m\u001b[38;5;241;43m.\u001b[39;49m\u001b[43mage\u001b[49m\u001b[43m,\u001b[49m\u001b[43m \u001b[49m\u001b[43mmarginal\u001b[49m\u001b[38;5;241;43m=\u001b[39;49m\u001b[38;5;124;43m'\u001b[39;49m\u001b[38;5;124;43mbox\u001b[39;49m\u001b[38;5;124;43m'\u001b[39;49m\u001b[43m,\u001b[49m\u001b[43m \u001b[49m\u001b[43mtitle\u001b[49m\u001b[38;5;241;43m=\u001b[39;49m\u001b[38;5;124;43m\"\u001b[39;49m\u001b[38;5;124;43mDistribution cum box plot for Age of ASD patients\u001b[39;49m\u001b[38;5;124;43m\"\u001b[39;49m\u001b[43m)\u001b[49m\n\u001b[0;32m      3\u001b[0m dt \u001b[38;5;241m=\u001b[39m [trace1]\n\u001b[0;32m      4\u001b[0m layout \u001b[38;5;241m=\u001b[39m go\u001b[38;5;241m.\u001b[39mLayout(\n\u001b[0;32m      5\u001b[0m     autosize\u001b[38;5;241m=\u001b[39m\u001b[38;5;28;01mFalse\u001b[39;00m,\n\u001b[0;32m      6\u001b[0m     width\u001b[38;5;241m=\u001b[39m\u001b[38;5;241m1000\u001b[39m,\n\u001b[1;32m   (...)\u001b[0m\n\u001b[0;32m     23\u001b[0m     )\n\u001b[0;32m     24\u001b[0m )\n",
      "\u001b[1;31mTypeError\u001b[0m: 'module' object is not callable"
     ]
    }
   ],
   "source": [
    "fig = make_subplots(rows=1, cols=1)\n",
    "trace1 = go.histogram(y = data.age, marginal='box', title=\"Distribution cum box plot for Age of ASD patients\")\n",
    "dt = [trace1]\n",
    "layout = go.Layout(\n",
    "    autosize=False,\n",
    "    width=1000,\n",
    "    height=1000,\n",
    "\n",
    "    xaxis= go.layout.XAxis(linecolor = 'black',\n",
    "                          linewidth = 1,\n",
    "                          mirror = True),\n",
    "\n",
    "    yaxis= go.layout.YAxis(linecolor = 'black',\n",
    "                          linewidth = 1,\n",
    "                          mirror = True),\n",
    "\n",
    "    margin=go.layout.Margin(\n",
    "        l=50,\n",
    "        r=50,\n",
    "        b=100,\n",
    "        t=100,\n",
    "        pad = 4\n",
    "    )\n",
    ")\n",
    "\n",
    "fig = go.Figure(data=dt, layout=layout)\n",
    "\n",
    "fig.update_layout(title=\"Box Plot for Age of ASD patients\")"
   ]
  },
  {
   "cell_type": "code",
   "execution_count": 54,
   "id": "39bc9cbf",
   "metadata": {},
   "outputs": [
    {
     "data": {
      "application/vnd.plotly.v1+json": {
       "config": {
        "plotlyServerURL": "https://plot.ly"
       },
       "data": [
        {
         "alignmentgroup": "True",
         "bingroup": "y",
         "hovertemplate": "count=%{x}<br>y=%{y}<extra></extra>",
         "legendgroup": "",
         "marker": {
          "color": "#636efa",
          "pattern": {
           "shape": ""
          }
         },
         "name": "",
         "offsetgroup": "",
         "orientation": "h",
         "showlegend": false,
         "type": "histogram",
         "xaxis": "x",
         "y": [
          26,
          24,
          27,
          35,
          40,
          36,
          17,
          64,
          29,
          17,
          33,
          18,
          17,
          17,
          17,
          18,
          31,
          30,
          35,
          34,
          38,
          27,
          27,
          42,
          43,
          24,
          40,
          40,
          48,
          31,
          18,
          37,
          55,
          18,
          18,
          55,
          50,
          34,
          53,
          35,
          20,
          28,
          34,
          36,
          27,
          53,
          24,
          24,
          55,
          30,
          21,
          35,
          383,
          21,
          47,
          30,
          28,
          43,
          32,
          44,
          20,
          20,
          null,
          19,
          29,
          21,
          27,
          21,
          35,
          42,
          29,
          58,
          21,
          21,
          37,
          21,
          20,
          33,
          20,
          45,
          32,
          30,
          33,
          42,
          17,
          27,
          35,
          37,
          30,
          29,
          17,
          null,
          22,
          19,
          42,
          37,
          28,
          22,
          26,
          21,
          26,
          39,
          26,
          26,
          21,
          25,
          26,
          30,
          19,
          19,
          25,
          23,
          31,
          27,
          29,
          38,
          23,
          27,
          27,
          42,
          20,
          17,
          20,
          30,
          28,
          26,
          26,
          31,
          40,
          39,
          18,
          24,
          23,
          24,
          24,
          27,
          24,
          25,
          22,
          40,
          23,
          29,
          25,
          27,
          22,
          28,
          20,
          19,
          37,
          35,
          26,
          23,
          32,
          30,
          31,
          28,
          29,
          29,
          29,
          31,
          36,
          32,
          34,
          24,
          24,
          42,
          26,
          27,
          36,
          36,
          55,
          23,
          22,
          42,
          54,
          43,
          43,
          29,
          29,
          37,
          39,
          18,
          31,
          34,
          22,
          28,
          38,
          28,
          53,
          26,
          37,
          42,
          43,
          32,
          31,
          53,
          28,
          38,
          31,
          31,
          21,
          25,
          25,
          60,
          39,
          53,
          20,
          25,
          50,
          28,
          37,
          30,
          32,
          34,
          42,
          22,
          37,
          39,
          18,
          54,
          42,
          27,
          22,
          22,
          21,
          28,
          17,
          28,
          21,
          31,
          20,
          21,
          22,
          21,
          24,
          24,
          25,
          17,
          21,
          23,
          21,
          22,
          24,
          34,
          30,
          29,
          20,
          23,
          26,
          20,
          41,
          24,
          35,
          23,
          36,
          33,
          24,
          25,
          25,
          25,
          24,
          27,
          26,
          26,
          23,
          30,
          25,
          23,
          34,
          20,
          22,
          33,
          46,
          17,
          45,
          26,
          30,
          32,
          38,
          26,
          29,
          33,
          32,
          44,
          47,
          32,
          40,
          40,
          44,
          56,
          23,
          32,
          27,
          28,
          40,
          45,
          19,
          55,
          27,
          19,
          29,
          33,
          48,
          37,
          30,
          37,
          28,
          20,
          25,
          58,
          36,
          36,
          19,
          19,
          22,
          20,
          24,
          19,
          21,
          20,
          18,
          23,
          22,
          18,
          37,
          18,
          18,
          18,
          18,
          18,
          18,
          19,
          55,
          32,
          50,
          40,
          47,
          20,
          22,
          21,
          21,
          19,
          21,
          21,
          23,
          21,
          21,
          23,
          20,
          21,
          20,
          19,
          21,
          26,
          21,
          19,
          22,
          19,
          22,
          20,
          23,
          19,
          20,
          24,
          19,
          20,
          23,
          20,
          20,
          20,
          20,
          21,
          19,
          20,
          20,
          25,
          20,
          22,
          20,
          20,
          20,
          23,
          21,
          22,
          21,
          20,
          22,
          21,
          20,
          20,
          21,
          21,
          23,
          21,
          22,
          19,
          20,
          21,
          26,
          19,
          20,
          26,
          23,
          28,
          19,
          20,
          19,
          24,
          19,
          22,
          20,
          21,
          24,
          18,
          19,
          19,
          31,
          19,
          21,
          20,
          26,
          27,
          23,
          29,
          23,
          23,
          24,
          21,
          20,
          20,
          32,
          61,
          19,
          35,
          34,
          23,
          19,
          36,
          21,
          23,
          17,
          22,
          33,
          23,
          35,
          21,
          20,
          29,
          59,
          18,
          19,
          24,
          36,
          19,
          17,
          52,
          18,
          30,
          18,
          27,
          52,
          45,
          25,
          29,
          29,
          18,
          18,
          17,
          27,
          22,
          23,
          25,
          23,
          29,
          27,
          27,
          43,
          26,
          30,
          23,
          29,
          37,
          28,
          25,
          25,
          21,
          43,
          30,
          18,
          18,
          30,
          31,
          33,
          33,
          26,
          61,
          46,
          33,
          38,
          44,
          48,
          42,
          37,
          23,
          24,
          41,
          41,
          27,
          46,
          40,
          22,
          42,
          18,
          44,
          30,
          42,
          35,
          40,
          50,
          38,
          26,
          27,
          47,
          21,
          37,
          19,
          32,
          26,
          46,
          29,
          30,
          32,
          35,
          22,
          19,
          24,
          52,
          52,
          32,
          24,
          24,
          49,
          30,
          30,
          35,
          35,
          37,
          43,
          52,
          44,
          46,
          42,
          20,
          18,
          38,
          24,
          32,
          29,
          22,
          19,
          39,
          17,
          19,
          18,
          19,
          28,
          29,
          48,
          27,
          34,
          31,
          47,
          47,
          44,
          25,
          25,
          20,
          43,
          36,
          30,
          44,
          40,
          40,
          40,
          30,
          47,
          21,
          21,
          31,
          21,
          29,
          22,
          51,
          23,
          30,
          22,
          22,
          24,
          26,
          33,
          23,
          42,
          26,
          29,
          35,
          25,
          25,
          28,
          33,
          25,
          25,
          24,
          27,
          22,
          21,
          27,
          23,
          22,
          23,
          30,
          33,
          24,
          22,
          22,
          29,
          22,
          21,
          23,
          23,
          23,
          32,
          27,
          28,
          25,
          22,
          36,
          27,
          21,
          18,
          49,
          18,
          29,
          31,
          37,
          17,
          17,
          38,
          18,
          31,
          33,
          32,
          30,
          33,
          30,
          30,
          38,
          22,
          36,
          43,
          44,
          20,
          40,
          25,
          28,
          17,
          34,
          56,
          50,
          38,
          47,
          30,
          21,
          21,
          31,
          27,
          24,
          35,
          18,
          43,
          44,
          40,
          49,
          24,
          30,
          53,
          38,
          28,
          28,
          26,
          39,
          31,
          24,
          28,
          31,
          27,
          28,
          31,
          46,
          27,
          25,
          34,
          24,
          35,
          26
         ],
         "yaxis": "y"
        },
        {
         "alignmentgroup": "True",
         "hovertemplate": "y=%{y}<extra></extra>",
         "legendgroup": "",
         "marker": {
          "color": "#636efa"
         },
         "name": "",
         "notched": true,
         "offsetgroup": "",
         "showlegend": false,
         "type": "box",
         "xaxis": "x2",
         "y": [
          26,
          24,
          27,
          35,
          40,
          36,
          17,
          64,
          29,
          17,
          33,
          18,
          17,
          17,
          17,
          18,
          31,
          30,
          35,
          34,
          38,
          27,
          27,
          42,
          43,
          24,
          40,
          40,
          48,
          31,
          18,
          37,
          55,
          18,
          18,
          55,
          50,
          34,
          53,
          35,
          20,
          28,
          34,
          36,
          27,
          53,
          24,
          24,
          55,
          30,
          21,
          35,
          383,
          21,
          47,
          30,
          28,
          43,
          32,
          44,
          20,
          20,
          null,
          19,
          29,
          21,
          27,
          21,
          35,
          42,
          29,
          58,
          21,
          21,
          37,
          21,
          20,
          33,
          20,
          45,
          32,
          30,
          33,
          42,
          17,
          27,
          35,
          37,
          30,
          29,
          17,
          null,
          22,
          19,
          42,
          37,
          28,
          22,
          26,
          21,
          26,
          39,
          26,
          26,
          21,
          25,
          26,
          30,
          19,
          19,
          25,
          23,
          31,
          27,
          29,
          38,
          23,
          27,
          27,
          42,
          20,
          17,
          20,
          30,
          28,
          26,
          26,
          31,
          40,
          39,
          18,
          24,
          23,
          24,
          24,
          27,
          24,
          25,
          22,
          40,
          23,
          29,
          25,
          27,
          22,
          28,
          20,
          19,
          37,
          35,
          26,
          23,
          32,
          30,
          31,
          28,
          29,
          29,
          29,
          31,
          36,
          32,
          34,
          24,
          24,
          42,
          26,
          27,
          36,
          36,
          55,
          23,
          22,
          42,
          54,
          43,
          43,
          29,
          29,
          37,
          39,
          18,
          31,
          34,
          22,
          28,
          38,
          28,
          53,
          26,
          37,
          42,
          43,
          32,
          31,
          53,
          28,
          38,
          31,
          31,
          21,
          25,
          25,
          60,
          39,
          53,
          20,
          25,
          50,
          28,
          37,
          30,
          32,
          34,
          42,
          22,
          37,
          39,
          18,
          54,
          42,
          27,
          22,
          22,
          21,
          28,
          17,
          28,
          21,
          31,
          20,
          21,
          22,
          21,
          24,
          24,
          25,
          17,
          21,
          23,
          21,
          22,
          24,
          34,
          30,
          29,
          20,
          23,
          26,
          20,
          41,
          24,
          35,
          23,
          36,
          33,
          24,
          25,
          25,
          25,
          24,
          27,
          26,
          26,
          23,
          30,
          25,
          23,
          34,
          20,
          22,
          33,
          46,
          17,
          45,
          26,
          30,
          32,
          38,
          26,
          29,
          33,
          32,
          44,
          47,
          32,
          40,
          40,
          44,
          56,
          23,
          32,
          27,
          28,
          40,
          45,
          19,
          55,
          27,
          19,
          29,
          33,
          48,
          37,
          30,
          37,
          28,
          20,
          25,
          58,
          36,
          36,
          19,
          19,
          22,
          20,
          24,
          19,
          21,
          20,
          18,
          23,
          22,
          18,
          37,
          18,
          18,
          18,
          18,
          18,
          18,
          19,
          55,
          32,
          50,
          40,
          47,
          20,
          22,
          21,
          21,
          19,
          21,
          21,
          23,
          21,
          21,
          23,
          20,
          21,
          20,
          19,
          21,
          26,
          21,
          19,
          22,
          19,
          22,
          20,
          23,
          19,
          20,
          24,
          19,
          20,
          23,
          20,
          20,
          20,
          20,
          21,
          19,
          20,
          20,
          25,
          20,
          22,
          20,
          20,
          20,
          23,
          21,
          22,
          21,
          20,
          22,
          21,
          20,
          20,
          21,
          21,
          23,
          21,
          22,
          19,
          20,
          21,
          26,
          19,
          20,
          26,
          23,
          28,
          19,
          20,
          19,
          24,
          19,
          22,
          20,
          21,
          24,
          18,
          19,
          19,
          31,
          19,
          21,
          20,
          26,
          27,
          23,
          29,
          23,
          23,
          24,
          21,
          20,
          20,
          32,
          61,
          19,
          35,
          34,
          23,
          19,
          36,
          21,
          23,
          17,
          22,
          33,
          23,
          35,
          21,
          20,
          29,
          59,
          18,
          19,
          24,
          36,
          19,
          17,
          52,
          18,
          30,
          18,
          27,
          52,
          45,
          25,
          29,
          29,
          18,
          18,
          17,
          27,
          22,
          23,
          25,
          23,
          29,
          27,
          27,
          43,
          26,
          30,
          23,
          29,
          37,
          28,
          25,
          25,
          21,
          43,
          30,
          18,
          18,
          30,
          31,
          33,
          33,
          26,
          61,
          46,
          33,
          38,
          44,
          48,
          42,
          37,
          23,
          24,
          41,
          41,
          27,
          46,
          40,
          22,
          42,
          18,
          44,
          30,
          42,
          35,
          40,
          50,
          38,
          26,
          27,
          47,
          21,
          37,
          19,
          32,
          26,
          46,
          29,
          30,
          32,
          35,
          22,
          19,
          24,
          52,
          52,
          32,
          24,
          24,
          49,
          30,
          30,
          35,
          35,
          37,
          43,
          52,
          44,
          46,
          42,
          20,
          18,
          38,
          24,
          32,
          29,
          22,
          19,
          39,
          17,
          19,
          18,
          19,
          28,
          29,
          48,
          27,
          34,
          31,
          47,
          47,
          44,
          25,
          25,
          20,
          43,
          36,
          30,
          44,
          40,
          40,
          40,
          30,
          47,
          21,
          21,
          31,
          21,
          29,
          22,
          51,
          23,
          30,
          22,
          22,
          24,
          26,
          33,
          23,
          42,
          26,
          29,
          35,
          25,
          25,
          28,
          33,
          25,
          25,
          24,
          27,
          22,
          21,
          27,
          23,
          22,
          23,
          30,
          33,
          24,
          22,
          22,
          29,
          22,
          21,
          23,
          23,
          23,
          32,
          27,
          28,
          25,
          22,
          36,
          27,
          21,
          18,
          49,
          18,
          29,
          31,
          37,
          17,
          17,
          38,
          18,
          31,
          33,
          32,
          30,
          33,
          30,
          30,
          38,
          22,
          36,
          43,
          44,
          20,
          40,
          25,
          28,
          17,
          34,
          56,
          50,
          38,
          47,
          30,
          21,
          21,
          31,
          27,
          24,
          35,
          18,
          43,
          44,
          40,
          49,
          24,
          30,
          53,
          38,
          28,
          28,
          26,
          39,
          31,
          24,
          28,
          31,
          27,
          28,
          31,
          46,
          27,
          25,
          34,
          24,
          35,
          26
         ],
         "yaxis": "y2"
        }
       ],
       "layout": {
        "barmode": "relative",
        "height": 1000,
        "legend": {
         "tracegroupgap": 0
        },
        "template": {
         "data": {
          "bar": [
           {
            "error_x": {
             "color": "#2a3f5f"
            },
            "error_y": {
             "color": "#2a3f5f"
            },
            "marker": {
             "line": {
              "color": "#E5ECF6",
              "width": 0.5
             },
             "pattern": {
              "fillmode": "overlay",
              "size": 10,
              "solidity": 0.2
             }
            },
            "type": "bar"
           }
          ],
          "barpolar": [
           {
            "marker": {
             "line": {
              "color": "#E5ECF6",
              "width": 0.5
             },
             "pattern": {
              "fillmode": "overlay",
              "size": 10,
              "solidity": 0.2
             }
            },
            "type": "barpolar"
           }
          ],
          "carpet": [
           {
            "aaxis": {
             "endlinecolor": "#2a3f5f",
             "gridcolor": "white",
             "linecolor": "white",
             "minorgridcolor": "white",
             "startlinecolor": "#2a3f5f"
            },
            "baxis": {
             "endlinecolor": "#2a3f5f",
             "gridcolor": "white",
             "linecolor": "white",
             "minorgridcolor": "white",
             "startlinecolor": "#2a3f5f"
            },
            "type": "carpet"
           }
          ],
          "choropleth": [
           {
            "colorbar": {
             "outlinewidth": 0,
             "ticks": ""
            },
            "type": "choropleth"
           }
          ],
          "contour": [
           {
            "colorbar": {
             "outlinewidth": 0,
             "ticks": ""
            },
            "colorscale": [
             [
              0,
              "#0d0887"
             ],
             [
              0.1111111111111111,
              "#46039f"
             ],
             [
              0.2222222222222222,
              "#7201a8"
             ],
             [
              0.3333333333333333,
              "#9c179e"
             ],
             [
              0.4444444444444444,
              "#bd3786"
             ],
             [
              0.5555555555555556,
              "#d8576b"
             ],
             [
              0.6666666666666666,
              "#ed7953"
             ],
             [
              0.7777777777777778,
              "#fb9f3a"
             ],
             [
              0.8888888888888888,
              "#fdca26"
             ],
             [
              1,
              "#f0f921"
             ]
            ],
            "type": "contour"
           }
          ],
          "contourcarpet": [
           {
            "colorbar": {
             "outlinewidth": 0,
             "ticks": ""
            },
            "type": "contourcarpet"
           }
          ],
          "heatmap": [
           {
            "colorbar": {
             "outlinewidth": 0,
             "ticks": ""
            },
            "colorscale": [
             [
              0,
              "#0d0887"
             ],
             [
              0.1111111111111111,
              "#46039f"
             ],
             [
              0.2222222222222222,
              "#7201a8"
             ],
             [
              0.3333333333333333,
              "#9c179e"
             ],
             [
              0.4444444444444444,
              "#bd3786"
             ],
             [
              0.5555555555555556,
              "#d8576b"
             ],
             [
              0.6666666666666666,
              "#ed7953"
             ],
             [
              0.7777777777777778,
              "#fb9f3a"
             ],
             [
              0.8888888888888888,
              "#fdca26"
             ],
             [
              1,
              "#f0f921"
             ]
            ],
            "type": "heatmap"
           }
          ],
          "heatmapgl": [
           {
            "colorbar": {
             "outlinewidth": 0,
             "ticks": ""
            },
            "colorscale": [
             [
              0,
              "#0d0887"
             ],
             [
              0.1111111111111111,
              "#46039f"
             ],
             [
              0.2222222222222222,
              "#7201a8"
             ],
             [
              0.3333333333333333,
              "#9c179e"
             ],
             [
              0.4444444444444444,
              "#bd3786"
             ],
             [
              0.5555555555555556,
              "#d8576b"
             ],
             [
              0.6666666666666666,
              "#ed7953"
             ],
             [
              0.7777777777777778,
              "#fb9f3a"
             ],
             [
              0.8888888888888888,
              "#fdca26"
             ],
             [
              1,
              "#f0f921"
             ]
            ],
            "type": "heatmapgl"
           }
          ],
          "histogram": [
           {
            "marker": {
             "pattern": {
              "fillmode": "overlay",
              "size": 10,
              "solidity": 0.2
             }
            },
            "type": "histogram"
           }
          ],
          "histogram2d": [
           {
            "colorbar": {
             "outlinewidth": 0,
             "ticks": ""
            },
            "colorscale": [
             [
              0,
              "#0d0887"
             ],
             [
              0.1111111111111111,
              "#46039f"
             ],
             [
              0.2222222222222222,
              "#7201a8"
             ],
             [
              0.3333333333333333,
              "#9c179e"
             ],
             [
              0.4444444444444444,
              "#bd3786"
             ],
             [
              0.5555555555555556,
              "#d8576b"
             ],
             [
              0.6666666666666666,
              "#ed7953"
             ],
             [
              0.7777777777777778,
              "#fb9f3a"
             ],
             [
              0.8888888888888888,
              "#fdca26"
             ],
             [
              1,
              "#f0f921"
             ]
            ],
            "type": "histogram2d"
           }
          ],
          "histogram2dcontour": [
           {
            "colorbar": {
             "outlinewidth": 0,
             "ticks": ""
            },
            "colorscale": [
             [
              0,
              "#0d0887"
             ],
             [
              0.1111111111111111,
              "#46039f"
             ],
             [
              0.2222222222222222,
              "#7201a8"
             ],
             [
              0.3333333333333333,
              "#9c179e"
             ],
             [
              0.4444444444444444,
              "#bd3786"
             ],
             [
              0.5555555555555556,
              "#d8576b"
             ],
             [
              0.6666666666666666,
              "#ed7953"
             ],
             [
              0.7777777777777778,
              "#fb9f3a"
             ],
             [
              0.8888888888888888,
              "#fdca26"
             ],
             [
              1,
              "#f0f921"
             ]
            ],
            "type": "histogram2dcontour"
           }
          ],
          "mesh3d": [
           {
            "colorbar": {
             "outlinewidth": 0,
             "ticks": ""
            },
            "type": "mesh3d"
           }
          ],
          "parcoords": [
           {
            "line": {
             "colorbar": {
              "outlinewidth": 0,
              "ticks": ""
             }
            },
            "type": "parcoords"
           }
          ],
          "pie": [
           {
            "automargin": true,
            "type": "pie"
           }
          ],
          "scatter": [
           {
            "fillpattern": {
             "fillmode": "overlay",
             "size": 10,
             "solidity": 0.2
            },
            "type": "scatter"
           }
          ],
          "scatter3d": [
           {
            "line": {
             "colorbar": {
              "outlinewidth": 0,
              "ticks": ""
             }
            },
            "marker": {
             "colorbar": {
              "outlinewidth": 0,
              "ticks": ""
             }
            },
            "type": "scatter3d"
           }
          ],
          "scattercarpet": [
           {
            "marker": {
             "colorbar": {
              "outlinewidth": 0,
              "ticks": ""
             }
            },
            "type": "scattercarpet"
           }
          ],
          "scattergeo": [
           {
            "marker": {
             "colorbar": {
              "outlinewidth": 0,
              "ticks": ""
             }
            },
            "type": "scattergeo"
           }
          ],
          "scattergl": [
           {
            "marker": {
             "colorbar": {
              "outlinewidth": 0,
              "ticks": ""
             }
            },
            "type": "scattergl"
           }
          ],
          "scattermapbox": [
           {
            "marker": {
             "colorbar": {
              "outlinewidth": 0,
              "ticks": ""
             }
            },
            "type": "scattermapbox"
           }
          ],
          "scatterpolar": [
           {
            "marker": {
             "colorbar": {
              "outlinewidth": 0,
              "ticks": ""
             }
            },
            "type": "scatterpolar"
           }
          ],
          "scatterpolargl": [
           {
            "marker": {
             "colorbar": {
              "outlinewidth": 0,
              "ticks": ""
             }
            },
            "type": "scatterpolargl"
           }
          ],
          "scatterternary": [
           {
            "marker": {
             "colorbar": {
              "outlinewidth": 0,
              "ticks": ""
             }
            },
            "type": "scatterternary"
           }
          ],
          "surface": [
           {
            "colorbar": {
             "outlinewidth": 0,
             "ticks": ""
            },
            "colorscale": [
             [
              0,
              "#0d0887"
             ],
             [
              0.1111111111111111,
              "#46039f"
             ],
             [
              0.2222222222222222,
              "#7201a8"
             ],
             [
              0.3333333333333333,
              "#9c179e"
             ],
             [
              0.4444444444444444,
              "#bd3786"
             ],
             [
              0.5555555555555556,
              "#d8576b"
             ],
             [
              0.6666666666666666,
              "#ed7953"
             ],
             [
              0.7777777777777778,
              "#fb9f3a"
             ],
             [
              0.8888888888888888,
              "#fdca26"
             ],
             [
              1,
              "#f0f921"
             ]
            ],
            "type": "surface"
           }
          ],
          "table": [
           {
            "cells": {
             "fill": {
              "color": "#EBF0F8"
             },
             "line": {
              "color": "white"
             }
            },
            "header": {
             "fill": {
              "color": "#C8D4E3"
             },
             "line": {
              "color": "white"
             }
            },
            "type": "table"
           }
          ]
         },
         "layout": {
          "annotationdefaults": {
           "arrowcolor": "#2a3f5f",
           "arrowhead": 0,
           "arrowwidth": 1
          },
          "autotypenumbers": "strict",
          "coloraxis": {
           "colorbar": {
            "outlinewidth": 0,
            "ticks": ""
           }
          },
          "colorscale": {
           "diverging": [
            [
             0,
             "#8e0152"
            ],
            [
             0.1,
             "#c51b7d"
            ],
            [
             0.2,
             "#de77ae"
            ],
            [
             0.3,
             "#f1b6da"
            ],
            [
             0.4,
             "#fde0ef"
            ],
            [
             0.5,
             "#f7f7f7"
            ],
            [
             0.6,
             "#e6f5d0"
            ],
            [
             0.7,
             "#b8e186"
            ],
            [
             0.8,
             "#7fbc41"
            ],
            [
             0.9,
             "#4d9221"
            ],
            [
             1,
             "#276419"
            ]
           ],
           "sequential": [
            [
             0,
             "#0d0887"
            ],
            [
             0.1111111111111111,
             "#46039f"
            ],
            [
             0.2222222222222222,
             "#7201a8"
            ],
            [
             0.3333333333333333,
             "#9c179e"
            ],
            [
             0.4444444444444444,
             "#bd3786"
            ],
            [
             0.5555555555555556,
             "#d8576b"
            ],
            [
             0.6666666666666666,
             "#ed7953"
            ],
            [
             0.7777777777777778,
             "#fb9f3a"
            ],
            [
             0.8888888888888888,
             "#fdca26"
            ],
            [
             1,
             "#f0f921"
            ]
           ],
           "sequentialminus": [
            [
             0,
             "#0d0887"
            ],
            [
             0.1111111111111111,
             "#46039f"
            ],
            [
             0.2222222222222222,
             "#7201a8"
            ],
            [
             0.3333333333333333,
             "#9c179e"
            ],
            [
             0.4444444444444444,
             "#bd3786"
            ],
            [
             0.5555555555555556,
             "#d8576b"
            ],
            [
             0.6666666666666666,
             "#ed7953"
            ],
            [
             0.7777777777777778,
             "#fb9f3a"
            ],
            [
             0.8888888888888888,
             "#fdca26"
            ],
            [
             1,
             "#f0f921"
            ]
           ]
          },
          "colorway": [
           "#636efa",
           "#EF553B",
           "#00cc96",
           "#ab63fa",
           "#FFA15A",
           "#19d3f3",
           "#FF6692",
           "#B6E880",
           "#FF97FF",
           "#FECB52"
          ],
          "font": {
           "color": "#2a3f5f"
          },
          "geo": {
           "bgcolor": "white",
           "lakecolor": "white",
           "landcolor": "#E5ECF6",
           "showlakes": true,
           "showland": true,
           "subunitcolor": "white"
          },
          "hoverlabel": {
           "align": "left"
          },
          "hovermode": "closest",
          "mapbox": {
           "style": "light"
          },
          "paper_bgcolor": "white",
          "plot_bgcolor": "#E5ECF6",
          "polar": {
           "angularaxis": {
            "gridcolor": "white",
            "linecolor": "white",
            "ticks": ""
           },
           "bgcolor": "#E5ECF6",
           "radialaxis": {
            "gridcolor": "white",
            "linecolor": "white",
            "ticks": ""
           }
          },
          "scene": {
           "xaxis": {
            "backgroundcolor": "#E5ECF6",
            "gridcolor": "white",
            "gridwidth": 2,
            "linecolor": "white",
            "showbackground": true,
            "ticks": "",
            "zerolinecolor": "white"
           },
           "yaxis": {
            "backgroundcolor": "#E5ECF6",
            "gridcolor": "white",
            "gridwidth": 2,
            "linecolor": "white",
            "showbackground": true,
            "ticks": "",
            "zerolinecolor": "white"
           },
           "zaxis": {
            "backgroundcolor": "#E5ECF6",
            "gridcolor": "white",
            "gridwidth": 2,
            "linecolor": "white",
            "showbackground": true,
            "ticks": "",
            "zerolinecolor": "white"
           }
          },
          "shapedefaults": {
           "line": {
            "color": "#2a3f5f"
           }
          },
          "ternary": {
           "aaxis": {
            "gridcolor": "white",
            "linecolor": "white",
            "ticks": ""
           },
           "baxis": {
            "gridcolor": "white",
            "linecolor": "white",
            "ticks": ""
           },
           "bgcolor": "#E5ECF6",
           "caxis": {
            "gridcolor": "white",
            "linecolor": "white",
            "ticks": ""
           }
          },
          "title": {
           "x": 0.05
          },
          "xaxis": {
           "automargin": true,
           "gridcolor": "white",
           "linecolor": "white",
           "ticks": "",
           "title": {
            "standoff": 15
           },
           "zerolinecolor": "white",
           "zerolinewidth": 2
          },
          "yaxis": {
           "automargin": true,
           "gridcolor": "white",
           "linecolor": "white",
           "ticks": "",
           "title": {
            "standoff": 15
           },
           "zerolinecolor": "white",
           "zerolinewidth": 2
          }
         }
        },
        "title": {
         "text": "Distribution cum box plot for Age of ASD patients"
        },
        "width": 600,
        "xaxis": {
         "anchor": "y",
         "domain": [
          0,
          0.8358
         ],
         "title": {
          "text": "count"
         }
        },
        "xaxis2": {
         "anchor": "y2",
         "domain": [
          0.8408,
          1
         ],
         "matches": "x2",
         "showgrid": false,
         "showline": false,
         "showticklabels": false,
         "ticks": ""
        },
        "yaxis": {
         "anchor": "x",
         "domain": [
          0,
          1
         ],
         "title": {
          "text": "y"
         }
        },
        "yaxis2": {
         "anchor": "x2",
         "domain": [
          0,
          1
         ],
         "matches": "y",
         "showgrid": true,
         "showticklabels": false
        }
       }
      },
      "text/html": [
       "<div>                            <div id=\"7dff405a-fb31-4c36-aadf-671d480dc74e\" class=\"plotly-graph-div\" style=\"height:1000px; width:600px;\"></div>            <script type=\"text/javascript\">                require([\"plotly\"], function(Plotly) {                    window.PLOTLYENV=window.PLOTLYENV || {};                                    if (document.getElementById(\"7dff405a-fb31-4c36-aadf-671d480dc74e\")) {                    Plotly.newPlot(                        \"7dff405a-fb31-4c36-aadf-671d480dc74e\",                        [{\"alignmentgroup\":\"True\",\"bingroup\":\"y\",\"hovertemplate\":\"count=%{x}<br>y=%{y}<extra></extra>\",\"legendgroup\":\"\",\"marker\":{\"color\":\"#636efa\",\"pattern\":{\"shape\":\"\"}},\"name\":\"\",\"offsetgroup\":\"\",\"orientation\":\"h\",\"showlegend\":false,\"xaxis\":\"x\",\"y\":[26.0,24.0,27.0,35.0,40.0,36.0,17.0,64.0,29.0,17.0,33.0,18.0,17.0,17.0,17.0,18.0,31.0,30.0,35.0,34.0,38.0,27.0,27.0,42.0,43.0,24.0,40.0,40.0,48.0,31.0,18.0,37.0,55.0,18.0,18.0,55.0,50.0,34.0,53.0,35.0,20.0,28.0,34.0,36.0,27.0,53.0,24.0,24.0,55.0,30.0,21.0,35.0,383.0,21.0,47.0,30.0,28.0,43.0,32.0,44.0,20.0,20.0,null,19.0,29.0,21.0,27.0,21.0,35.0,42.0,29.0,58.0,21.0,21.0,37.0,21.0,20.0,33.0,20.0,45.0,32.0,30.0,33.0,42.0,17.0,27.0,35.0,37.0,30.0,29.0,17.0,null,22.0,19.0,42.0,37.0,28.0,22.0,26.0,21.0,26.0,39.0,26.0,26.0,21.0,25.0,26.0,30.0,19.0,19.0,25.0,23.0,31.0,27.0,29.0,38.0,23.0,27.0,27.0,42.0,20.0,17.0,20.0,30.0,28.0,26.0,26.0,31.0,40.0,39.0,18.0,24.0,23.0,24.0,24.0,27.0,24.0,25.0,22.0,40.0,23.0,29.0,25.0,27.0,22.0,28.0,20.0,19.0,37.0,35.0,26.0,23.0,32.0,30.0,31.0,28.0,29.0,29.0,29.0,31.0,36.0,32.0,34.0,24.0,24.0,42.0,26.0,27.0,36.0,36.0,55.0,23.0,22.0,42.0,54.0,43.0,43.0,29.0,29.0,37.0,39.0,18.0,31.0,34.0,22.0,28.0,38.0,28.0,53.0,26.0,37.0,42.0,43.0,32.0,31.0,53.0,28.0,38.0,31.0,31.0,21.0,25.0,25.0,60.0,39.0,53.0,20.0,25.0,50.0,28.0,37.0,30.0,32.0,34.0,42.0,22.0,37.0,39.0,18.0,54.0,42.0,27.0,22.0,22.0,21.0,28.0,17.0,28.0,21.0,31.0,20.0,21.0,22.0,21.0,24.0,24.0,25.0,17.0,21.0,23.0,21.0,22.0,24.0,34.0,30.0,29.0,20.0,23.0,26.0,20.0,41.0,24.0,35.0,23.0,36.0,33.0,24.0,25.0,25.0,25.0,24.0,27.0,26.0,26.0,23.0,30.0,25.0,23.0,34.0,20.0,22.0,33.0,46.0,17.0,45.0,26.0,30.0,32.0,38.0,26.0,29.0,33.0,32.0,44.0,47.0,32.0,40.0,40.0,44.0,56.0,23.0,32.0,27.0,28.0,40.0,45.0,19.0,55.0,27.0,19.0,29.0,33.0,48.0,37.0,30.0,37.0,28.0,20.0,25.0,58.0,36.0,36.0,19.0,19.0,22.0,20.0,24.0,19.0,21.0,20.0,18.0,23.0,22.0,18.0,37.0,18.0,18.0,18.0,18.0,18.0,18.0,19.0,55.0,32.0,50.0,40.0,47.0,20.0,22.0,21.0,21.0,19.0,21.0,21.0,23.0,21.0,21.0,23.0,20.0,21.0,20.0,19.0,21.0,26.0,21.0,19.0,22.0,19.0,22.0,20.0,23.0,19.0,20.0,24.0,19.0,20.0,23.0,20.0,20.0,20.0,20.0,21.0,19.0,20.0,20.0,25.0,20.0,22.0,20.0,20.0,20.0,23.0,21.0,22.0,21.0,20.0,22.0,21.0,20.0,20.0,21.0,21.0,23.0,21.0,22.0,19.0,20.0,21.0,26.0,19.0,20.0,26.0,23.0,28.0,19.0,20.0,19.0,24.0,19.0,22.0,20.0,21.0,24.0,18.0,19.0,19.0,31.0,19.0,21.0,20.0,26.0,27.0,23.0,29.0,23.0,23.0,24.0,21.0,20.0,20.0,32.0,61.0,19.0,35.0,34.0,23.0,19.0,36.0,21.0,23.0,17.0,22.0,33.0,23.0,35.0,21.0,20.0,29.0,59.0,18.0,19.0,24.0,36.0,19.0,17.0,52.0,18.0,30.0,18.0,27.0,52.0,45.0,25.0,29.0,29.0,18.0,18.0,17.0,27.0,22.0,23.0,25.0,23.0,29.0,27.0,27.0,43.0,26.0,30.0,23.0,29.0,37.0,28.0,25.0,25.0,21.0,43.0,30.0,18.0,18.0,30.0,31.0,33.0,33.0,26.0,61.0,46.0,33.0,38.0,44.0,48.0,42.0,37.0,23.0,24.0,41.0,41.0,27.0,46.0,40.0,22.0,42.0,18.0,44.0,30.0,42.0,35.0,40.0,50.0,38.0,26.0,27.0,47.0,21.0,37.0,19.0,32.0,26.0,46.0,29.0,30.0,32.0,35.0,22.0,19.0,24.0,52.0,52.0,32.0,24.0,24.0,49.0,30.0,30.0,35.0,35.0,37.0,43.0,52.0,44.0,46.0,42.0,20.0,18.0,38.0,24.0,32.0,29.0,22.0,19.0,39.0,17.0,19.0,18.0,19.0,28.0,29.0,48.0,27.0,34.0,31.0,47.0,47.0,44.0,25.0,25.0,20.0,43.0,36.0,30.0,44.0,40.0,40.0,40.0,30.0,47.0,21.0,21.0,31.0,21.0,29.0,22.0,51.0,23.0,30.0,22.0,22.0,24.0,26.0,33.0,23.0,42.0,26.0,29.0,35.0,25.0,25.0,28.0,33.0,25.0,25.0,24.0,27.0,22.0,21.0,27.0,23.0,22.0,23.0,30.0,33.0,24.0,22.0,22.0,29.0,22.0,21.0,23.0,23.0,23.0,32.0,27.0,28.0,25.0,22.0,36.0,27.0,21.0,18.0,49.0,18.0,29.0,31.0,37.0,17.0,17.0,38.0,18.0,31.0,33.0,32.0,30.0,33.0,30.0,30.0,38.0,22.0,36.0,43.0,44.0,20.0,40.0,25.0,28.0,17.0,34.0,56.0,50.0,38.0,47.0,30.0,21.0,21.0,31.0,27.0,24.0,35.0,18.0,43.0,44.0,40.0,49.0,24.0,30.0,53.0,38.0,28.0,28.0,26.0,39.0,31.0,24.0,28.0,31.0,27.0,28.0,31.0,46.0,27.0,25.0,34.0,24.0,35.0,26.0],\"yaxis\":\"y\",\"type\":\"histogram\"},{\"alignmentgroup\":\"True\",\"hovertemplate\":\"y=%{y}<extra></extra>\",\"legendgroup\":\"\",\"marker\":{\"color\":\"#636efa\"},\"name\":\"\",\"notched\":true,\"offsetgroup\":\"\",\"showlegend\":false,\"xaxis\":\"x2\",\"y\":[26.0,24.0,27.0,35.0,40.0,36.0,17.0,64.0,29.0,17.0,33.0,18.0,17.0,17.0,17.0,18.0,31.0,30.0,35.0,34.0,38.0,27.0,27.0,42.0,43.0,24.0,40.0,40.0,48.0,31.0,18.0,37.0,55.0,18.0,18.0,55.0,50.0,34.0,53.0,35.0,20.0,28.0,34.0,36.0,27.0,53.0,24.0,24.0,55.0,30.0,21.0,35.0,383.0,21.0,47.0,30.0,28.0,43.0,32.0,44.0,20.0,20.0,null,19.0,29.0,21.0,27.0,21.0,35.0,42.0,29.0,58.0,21.0,21.0,37.0,21.0,20.0,33.0,20.0,45.0,32.0,30.0,33.0,42.0,17.0,27.0,35.0,37.0,30.0,29.0,17.0,null,22.0,19.0,42.0,37.0,28.0,22.0,26.0,21.0,26.0,39.0,26.0,26.0,21.0,25.0,26.0,30.0,19.0,19.0,25.0,23.0,31.0,27.0,29.0,38.0,23.0,27.0,27.0,42.0,20.0,17.0,20.0,30.0,28.0,26.0,26.0,31.0,40.0,39.0,18.0,24.0,23.0,24.0,24.0,27.0,24.0,25.0,22.0,40.0,23.0,29.0,25.0,27.0,22.0,28.0,20.0,19.0,37.0,35.0,26.0,23.0,32.0,30.0,31.0,28.0,29.0,29.0,29.0,31.0,36.0,32.0,34.0,24.0,24.0,42.0,26.0,27.0,36.0,36.0,55.0,23.0,22.0,42.0,54.0,43.0,43.0,29.0,29.0,37.0,39.0,18.0,31.0,34.0,22.0,28.0,38.0,28.0,53.0,26.0,37.0,42.0,43.0,32.0,31.0,53.0,28.0,38.0,31.0,31.0,21.0,25.0,25.0,60.0,39.0,53.0,20.0,25.0,50.0,28.0,37.0,30.0,32.0,34.0,42.0,22.0,37.0,39.0,18.0,54.0,42.0,27.0,22.0,22.0,21.0,28.0,17.0,28.0,21.0,31.0,20.0,21.0,22.0,21.0,24.0,24.0,25.0,17.0,21.0,23.0,21.0,22.0,24.0,34.0,30.0,29.0,20.0,23.0,26.0,20.0,41.0,24.0,35.0,23.0,36.0,33.0,24.0,25.0,25.0,25.0,24.0,27.0,26.0,26.0,23.0,30.0,25.0,23.0,34.0,20.0,22.0,33.0,46.0,17.0,45.0,26.0,30.0,32.0,38.0,26.0,29.0,33.0,32.0,44.0,47.0,32.0,40.0,40.0,44.0,56.0,23.0,32.0,27.0,28.0,40.0,45.0,19.0,55.0,27.0,19.0,29.0,33.0,48.0,37.0,30.0,37.0,28.0,20.0,25.0,58.0,36.0,36.0,19.0,19.0,22.0,20.0,24.0,19.0,21.0,20.0,18.0,23.0,22.0,18.0,37.0,18.0,18.0,18.0,18.0,18.0,18.0,19.0,55.0,32.0,50.0,40.0,47.0,20.0,22.0,21.0,21.0,19.0,21.0,21.0,23.0,21.0,21.0,23.0,20.0,21.0,20.0,19.0,21.0,26.0,21.0,19.0,22.0,19.0,22.0,20.0,23.0,19.0,20.0,24.0,19.0,20.0,23.0,20.0,20.0,20.0,20.0,21.0,19.0,20.0,20.0,25.0,20.0,22.0,20.0,20.0,20.0,23.0,21.0,22.0,21.0,20.0,22.0,21.0,20.0,20.0,21.0,21.0,23.0,21.0,22.0,19.0,20.0,21.0,26.0,19.0,20.0,26.0,23.0,28.0,19.0,20.0,19.0,24.0,19.0,22.0,20.0,21.0,24.0,18.0,19.0,19.0,31.0,19.0,21.0,20.0,26.0,27.0,23.0,29.0,23.0,23.0,24.0,21.0,20.0,20.0,32.0,61.0,19.0,35.0,34.0,23.0,19.0,36.0,21.0,23.0,17.0,22.0,33.0,23.0,35.0,21.0,20.0,29.0,59.0,18.0,19.0,24.0,36.0,19.0,17.0,52.0,18.0,30.0,18.0,27.0,52.0,45.0,25.0,29.0,29.0,18.0,18.0,17.0,27.0,22.0,23.0,25.0,23.0,29.0,27.0,27.0,43.0,26.0,30.0,23.0,29.0,37.0,28.0,25.0,25.0,21.0,43.0,30.0,18.0,18.0,30.0,31.0,33.0,33.0,26.0,61.0,46.0,33.0,38.0,44.0,48.0,42.0,37.0,23.0,24.0,41.0,41.0,27.0,46.0,40.0,22.0,42.0,18.0,44.0,30.0,42.0,35.0,40.0,50.0,38.0,26.0,27.0,47.0,21.0,37.0,19.0,32.0,26.0,46.0,29.0,30.0,32.0,35.0,22.0,19.0,24.0,52.0,52.0,32.0,24.0,24.0,49.0,30.0,30.0,35.0,35.0,37.0,43.0,52.0,44.0,46.0,42.0,20.0,18.0,38.0,24.0,32.0,29.0,22.0,19.0,39.0,17.0,19.0,18.0,19.0,28.0,29.0,48.0,27.0,34.0,31.0,47.0,47.0,44.0,25.0,25.0,20.0,43.0,36.0,30.0,44.0,40.0,40.0,40.0,30.0,47.0,21.0,21.0,31.0,21.0,29.0,22.0,51.0,23.0,30.0,22.0,22.0,24.0,26.0,33.0,23.0,42.0,26.0,29.0,35.0,25.0,25.0,28.0,33.0,25.0,25.0,24.0,27.0,22.0,21.0,27.0,23.0,22.0,23.0,30.0,33.0,24.0,22.0,22.0,29.0,22.0,21.0,23.0,23.0,23.0,32.0,27.0,28.0,25.0,22.0,36.0,27.0,21.0,18.0,49.0,18.0,29.0,31.0,37.0,17.0,17.0,38.0,18.0,31.0,33.0,32.0,30.0,33.0,30.0,30.0,38.0,22.0,36.0,43.0,44.0,20.0,40.0,25.0,28.0,17.0,34.0,56.0,50.0,38.0,47.0,30.0,21.0,21.0,31.0,27.0,24.0,35.0,18.0,43.0,44.0,40.0,49.0,24.0,30.0,53.0,38.0,28.0,28.0,26.0,39.0,31.0,24.0,28.0,31.0,27.0,28.0,31.0,46.0,27.0,25.0,34.0,24.0,35.0,26.0],\"yaxis\":\"y2\",\"type\":\"box\"}],                        {\"template\":{\"data\":{\"histogram2dcontour\":[{\"type\":\"histogram2dcontour\",\"colorbar\":{\"outlinewidth\":0,\"ticks\":\"\"},\"colorscale\":[[0.0,\"#0d0887\"],[0.1111111111111111,\"#46039f\"],[0.2222222222222222,\"#7201a8\"],[0.3333333333333333,\"#9c179e\"],[0.4444444444444444,\"#bd3786\"],[0.5555555555555556,\"#d8576b\"],[0.6666666666666666,\"#ed7953\"],[0.7777777777777778,\"#fb9f3a\"],[0.8888888888888888,\"#fdca26\"],[1.0,\"#f0f921\"]]}],\"choropleth\":[{\"type\":\"choropleth\",\"colorbar\":{\"outlinewidth\":0,\"ticks\":\"\"}}],\"histogram2d\":[{\"type\":\"histogram2d\",\"colorbar\":{\"outlinewidth\":0,\"ticks\":\"\"},\"colorscale\":[[0.0,\"#0d0887\"],[0.1111111111111111,\"#46039f\"],[0.2222222222222222,\"#7201a8\"],[0.3333333333333333,\"#9c179e\"],[0.4444444444444444,\"#bd3786\"],[0.5555555555555556,\"#d8576b\"],[0.6666666666666666,\"#ed7953\"],[0.7777777777777778,\"#fb9f3a\"],[0.8888888888888888,\"#fdca26\"],[1.0,\"#f0f921\"]]}],\"heatmap\":[{\"type\":\"heatmap\",\"colorbar\":{\"outlinewidth\":0,\"ticks\":\"\"},\"colorscale\":[[0.0,\"#0d0887\"],[0.1111111111111111,\"#46039f\"],[0.2222222222222222,\"#7201a8\"],[0.3333333333333333,\"#9c179e\"],[0.4444444444444444,\"#bd3786\"],[0.5555555555555556,\"#d8576b\"],[0.6666666666666666,\"#ed7953\"],[0.7777777777777778,\"#fb9f3a\"],[0.8888888888888888,\"#fdca26\"],[1.0,\"#f0f921\"]]}],\"heatmapgl\":[{\"type\":\"heatmapgl\",\"colorbar\":{\"outlinewidth\":0,\"ticks\":\"\"},\"colorscale\":[[0.0,\"#0d0887\"],[0.1111111111111111,\"#46039f\"],[0.2222222222222222,\"#7201a8\"],[0.3333333333333333,\"#9c179e\"],[0.4444444444444444,\"#bd3786\"],[0.5555555555555556,\"#d8576b\"],[0.6666666666666666,\"#ed7953\"],[0.7777777777777778,\"#fb9f3a\"],[0.8888888888888888,\"#fdca26\"],[1.0,\"#f0f921\"]]}],\"contourcarpet\":[{\"type\":\"contourcarpet\",\"colorbar\":{\"outlinewidth\":0,\"ticks\":\"\"}}],\"contour\":[{\"type\":\"contour\",\"colorbar\":{\"outlinewidth\":0,\"ticks\":\"\"},\"colorscale\":[[0.0,\"#0d0887\"],[0.1111111111111111,\"#46039f\"],[0.2222222222222222,\"#7201a8\"],[0.3333333333333333,\"#9c179e\"],[0.4444444444444444,\"#bd3786\"],[0.5555555555555556,\"#d8576b\"],[0.6666666666666666,\"#ed7953\"],[0.7777777777777778,\"#fb9f3a\"],[0.8888888888888888,\"#fdca26\"],[1.0,\"#f0f921\"]]}],\"surface\":[{\"type\":\"surface\",\"colorbar\":{\"outlinewidth\":0,\"ticks\":\"\"},\"colorscale\":[[0.0,\"#0d0887\"],[0.1111111111111111,\"#46039f\"],[0.2222222222222222,\"#7201a8\"],[0.3333333333333333,\"#9c179e\"],[0.4444444444444444,\"#bd3786\"],[0.5555555555555556,\"#d8576b\"],[0.6666666666666666,\"#ed7953\"],[0.7777777777777778,\"#fb9f3a\"],[0.8888888888888888,\"#fdca26\"],[1.0,\"#f0f921\"]]}],\"mesh3d\":[{\"type\":\"mesh3d\",\"colorbar\":{\"outlinewidth\":0,\"ticks\":\"\"}}],\"scatter\":[{\"fillpattern\":{\"fillmode\":\"overlay\",\"size\":10,\"solidity\":0.2},\"type\":\"scatter\"}],\"parcoords\":[{\"type\":\"parcoords\",\"line\":{\"colorbar\":{\"outlinewidth\":0,\"ticks\":\"\"}}}],\"scatterpolargl\":[{\"type\":\"scatterpolargl\",\"marker\":{\"colorbar\":{\"outlinewidth\":0,\"ticks\":\"\"}}}],\"bar\":[{\"error_x\":{\"color\":\"#2a3f5f\"},\"error_y\":{\"color\":\"#2a3f5f\"},\"marker\":{\"line\":{\"color\":\"#E5ECF6\",\"width\":0.5},\"pattern\":{\"fillmode\":\"overlay\",\"size\":10,\"solidity\":0.2}},\"type\":\"bar\"}],\"scattergeo\":[{\"type\":\"scattergeo\",\"marker\":{\"colorbar\":{\"outlinewidth\":0,\"ticks\":\"\"}}}],\"scatterpolar\":[{\"type\":\"scatterpolar\",\"marker\":{\"colorbar\":{\"outlinewidth\":0,\"ticks\":\"\"}}}],\"histogram\":[{\"marker\":{\"pattern\":{\"fillmode\":\"overlay\",\"size\":10,\"solidity\":0.2}},\"type\":\"histogram\"}],\"scattergl\":[{\"type\":\"scattergl\",\"marker\":{\"colorbar\":{\"outlinewidth\":0,\"ticks\":\"\"}}}],\"scatter3d\":[{\"type\":\"scatter3d\",\"line\":{\"colorbar\":{\"outlinewidth\":0,\"ticks\":\"\"}},\"marker\":{\"colorbar\":{\"outlinewidth\":0,\"ticks\":\"\"}}}],\"scattermapbox\":[{\"type\":\"scattermapbox\",\"marker\":{\"colorbar\":{\"outlinewidth\":0,\"ticks\":\"\"}}}],\"scatterternary\":[{\"type\":\"scatterternary\",\"marker\":{\"colorbar\":{\"outlinewidth\":0,\"ticks\":\"\"}}}],\"scattercarpet\":[{\"type\":\"scattercarpet\",\"marker\":{\"colorbar\":{\"outlinewidth\":0,\"ticks\":\"\"}}}],\"carpet\":[{\"aaxis\":{\"endlinecolor\":\"#2a3f5f\",\"gridcolor\":\"white\",\"linecolor\":\"white\",\"minorgridcolor\":\"white\",\"startlinecolor\":\"#2a3f5f\"},\"baxis\":{\"endlinecolor\":\"#2a3f5f\",\"gridcolor\":\"white\",\"linecolor\":\"white\",\"minorgridcolor\":\"white\",\"startlinecolor\":\"#2a3f5f\"},\"type\":\"carpet\"}],\"table\":[{\"cells\":{\"fill\":{\"color\":\"#EBF0F8\"},\"line\":{\"color\":\"white\"}},\"header\":{\"fill\":{\"color\":\"#C8D4E3\"},\"line\":{\"color\":\"white\"}},\"type\":\"table\"}],\"barpolar\":[{\"marker\":{\"line\":{\"color\":\"#E5ECF6\",\"width\":0.5},\"pattern\":{\"fillmode\":\"overlay\",\"size\":10,\"solidity\":0.2}},\"type\":\"barpolar\"}],\"pie\":[{\"automargin\":true,\"type\":\"pie\"}]},\"layout\":{\"autotypenumbers\":\"strict\",\"colorway\":[\"#636efa\",\"#EF553B\",\"#00cc96\",\"#ab63fa\",\"#FFA15A\",\"#19d3f3\",\"#FF6692\",\"#B6E880\",\"#FF97FF\",\"#FECB52\"],\"font\":{\"color\":\"#2a3f5f\"},\"hovermode\":\"closest\",\"hoverlabel\":{\"align\":\"left\"},\"paper_bgcolor\":\"white\",\"plot_bgcolor\":\"#E5ECF6\",\"polar\":{\"bgcolor\":\"#E5ECF6\",\"angularaxis\":{\"gridcolor\":\"white\",\"linecolor\":\"white\",\"ticks\":\"\"},\"radialaxis\":{\"gridcolor\":\"white\",\"linecolor\":\"white\",\"ticks\":\"\"}},\"ternary\":{\"bgcolor\":\"#E5ECF6\",\"aaxis\":{\"gridcolor\":\"white\",\"linecolor\":\"white\",\"ticks\":\"\"},\"baxis\":{\"gridcolor\":\"white\",\"linecolor\":\"white\",\"ticks\":\"\"},\"caxis\":{\"gridcolor\":\"white\",\"linecolor\":\"white\",\"ticks\":\"\"}},\"coloraxis\":{\"colorbar\":{\"outlinewidth\":0,\"ticks\":\"\"}},\"colorscale\":{\"sequential\":[[0.0,\"#0d0887\"],[0.1111111111111111,\"#46039f\"],[0.2222222222222222,\"#7201a8\"],[0.3333333333333333,\"#9c179e\"],[0.4444444444444444,\"#bd3786\"],[0.5555555555555556,\"#d8576b\"],[0.6666666666666666,\"#ed7953\"],[0.7777777777777778,\"#fb9f3a\"],[0.8888888888888888,\"#fdca26\"],[1.0,\"#f0f921\"]],\"sequentialminus\":[[0.0,\"#0d0887\"],[0.1111111111111111,\"#46039f\"],[0.2222222222222222,\"#7201a8\"],[0.3333333333333333,\"#9c179e\"],[0.4444444444444444,\"#bd3786\"],[0.5555555555555556,\"#d8576b\"],[0.6666666666666666,\"#ed7953\"],[0.7777777777777778,\"#fb9f3a\"],[0.8888888888888888,\"#fdca26\"],[1.0,\"#f0f921\"]],\"diverging\":[[0,\"#8e0152\"],[0.1,\"#c51b7d\"],[0.2,\"#de77ae\"],[0.3,\"#f1b6da\"],[0.4,\"#fde0ef\"],[0.5,\"#f7f7f7\"],[0.6,\"#e6f5d0\"],[0.7,\"#b8e186\"],[0.8,\"#7fbc41\"],[0.9,\"#4d9221\"],[1,\"#276419\"]]},\"xaxis\":{\"gridcolor\":\"white\",\"linecolor\":\"white\",\"ticks\":\"\",\"title\":{\"standoff\":15},\"zerolinecolor\":\"white\",\"automargin\":true,\"zerolinewidth\":2},\"yaxis\":{\"gridcolor\":\"white\",\"linecolor\":\"white\",\"ticks\":\"\",\"title\":{\"standoff\":15},\"zerolinecolor\":\"white\",\"automargin\":true,\"zerolinewidth\":2},\"scene\":{\"xaxis\":{\"backgroundcolor\":\"#E5ECF6\",\"gridcolor\":\"white\",\"linecolor\":\"white\",\"showbackground\":true,\"ticks\":\"\",\"zerolinecolor\":\"white\",\"gridwidth\":2},\"yaxis\":{\"backgroundcolor\":\"#E5ECF6\",\"gridcolor\":\"white\",\"linecolor\":\"white\",\"showbackground\":true,\"ticks\":\"\",\"zerolinecolor\":\"white\",\"gridwidth\":2},\"zaxis\":{\"backgroundcolor\":\"#E5ECF6\",\"gridcolor\":\"white\",\"linecolor\":\"white\",\"showbackground\":true,\"ticks\":\"\",\"zerolinecolor\":\"white\",\"gridwidth\":2}},\"shapedefaults\":{\"line\":{\"color\":\"#2a3f5f\"}},\"annotationdefaults\":{\"arrowcolor\":\"#2a3f5f\",\"arrowhead\":0,\"arrowwidth\":1},\"geo\":{\"bgcolor\":\"white\",\"landcolor\":\"#E5ECF6\",\"subunitcolor\":\"white\",\"showland\":true,\"showlakes\":true,\"lakecolor\":\"white\"},\"title\":{\"x\":0.05},\"mapbox\":{\"style\":\"light\"}}},\"xaxis\":{\"anchor\":\"y\",\"domain\":[0.0,0.8358],\"title\":{\"text\":\"count\"}},\"yaxis\":{\"anchor\":\"x\",\"domain\":[0.0,1.0],\"title\":{\"text\":\"y\"}},\"xaxis2\":{\"anchor\":\"y2\",\"domain\":[0.8408,1.0],\"matches\":\"x2\",\"showticklabels\":false,\"showline\":false,\"ticks\":\"\",\"showgrid\":false},\"yaxis2\":{\"anchor\":\"x2\",\"domain\":[0.0,1.0],\"matches\":\"y\",\"showticklabels\":false,\"showgrid\":true},\"legend\":{\"tracegroupgap\":0},\"title\":{\"text\":\"Distribution cum box plot for Age of ASD patients\"},\"barmode\":\"relative\",\"height\":1000,\"width\":600},                        {\"responsive\": true}                    ).then(function(){\n",
       "                            \n",
       "var gd = document.getElementById('7dff405a-fb31-4c36-aadf-671d480dc74e');\n",
       "var x = new MutationObserver(function (mutations, observer) {{\n",
       "        var display = window.getComputedStyle(gd).display;\n",
       "        if (!display || display === 'none') {{\n",
       "            console.log([gd, 'removed!']);\n",
       "            Plotly.purge(gd);\n",
       "            observer.disconnect();\n",
       "        }}\n",
       "}});\n",
       "\n",
       "// Listen for the removal of the full notebook cells\n",
       "var notebookContainer = gd.closest('#notebook-container');\n",
       "if (notebookContainer) {{\n",
       "    x.observe(notebookContainer, {childList: true});\n",
       "}}\n",
       "\n",
       "// Listen for the clearing of the current output cell\n",
       "var outputEl = gd.closest('.output');\n",
       "if (outputEl) {{\n",
       "    x.observe(outputEl, {childList: true});\n",
       "}}\n",
       "\n",
       "                        })                };                });            </script>        </div>"
      ]
     },
     "metadata": {},
     "output_type": "display_data"
    }
   ],
   "source": [
    "px.histogram(y = data.age, marginal='box', title=\"Distribution cum box plot for Age of ASD patients\", height=1000, width=600)"
   ]
  },
  {
   "cell_type": "code",
   "execution_count": 13,
   "id": "5fc382c6",
   "metadata": {},
   "outputs": [
    {
     "data": {
      "text/plain": [
       "27.0"
      ]
     },
     "execution_count": 13,
     "metadata": {},
     "output_type": "execute_result"
    }
   ],
   "source": [
    "data.age.median()"
   ]
  },
  {
   "cell_type": "code",
   "execution_count": 45,
   "id": "6eed9aa8",
   "metadata": {},
   "outputs": [],
   "source": [
    "lst = list()\n",
    "for i in data.age:\n",
    "    if i >= 100:\n",
    "        lst.append(data.age.median())\n",
    "    else:\n",
    "        lst.append(i)\n"
   ]
  },
  {
   "cell_type": "code",
   "execution_count": 64,
   "id": "480eb777",
   "metadata": {},
   "outputs": [
    {
     "data": {
      "application/vnd.plotly.v1+json": {
       "config": {
        "plotlyServerURL": "https://plot.ly"
       },
       "data": [
        {
         "alignmentgroup": "True",
         "bingroup": "y",
         "hovertemplate": "count=%{x}<br>y=%{y}<extra></extra>",
         "legendgroup": "",
         "marker": {
          "color": "#636efa",
          "pattern": {
           "shape": ""
          }
         },
         "name": "",
         "offsetgroup": "",
         "orientation": "h",
         "showlegend": false,
         "type": "histogram",
         "xaxis": "x",
         "y": [
          26,
          24,
          27,
          35,
          40,
          36,
          17,
          64,
          29,
          17,
          33,
          18,
          17,
          17,
          17,
          18,
          31,
          30,
          35,
          34,
          38,
          27,
          27,
          42,
          43,
          24,
          40,
          40,
          48,
          31,
          18,
          37,
          55,
          18,
          18,
          55,
          50,
          34,
          53,
          35,
          20,
          28,
          34,
          36,
          27,
          53,
          24,
          24,
          55,
          30,
          21,
          35,
          27,
          21,
          47,
          30,
          28,
          43,
          32,
          44,
          20,
          20,
          null,
          19,
          29,
          21,
          27,
          21,
          35,
          42,
          29,
          58,
          21,
          21,
          37,
          21,
          20,
          33,
          20,
          45,
          32,
          30,
          33,
          42,
          17,
          27,
          35,
          37,
          30,
          29,
          17,
          null,
          22,
          19,
          42,
          37,
          28,
          22,
          26,
          21,
          26,
          39,
          26,
          26,
          21,
          25,
          26,
          30,
          19,
          19,
          25,
          23,
          31,
          27,
          29,
          38,
          23,
          27,
          27,
          42,
          20,
          17,
          20,
          30,
          28,
          26,
          26,
          31,
          40,
          39,
          18,
          24,
          23,
          24,
          24,
          27,
          24,
          25,
          22,
          40,
          23,
          29,
          25,
          27,
          22,
          28,
          20,
          19,
          37,
          35,
          26,
          23,
          32,
          30,
          31,
          28,
          29,
          29,
          29,
          31,
          36,
          32,
          34,
          24,
          24,
          42,
          26,
          27,
          36,
          36,
          55,
          23,
          22,
          42,
          54,
          43,
          43,
          29,
          29,
          37,
          39,
          18,
          31,
          34,
          22,
          28,
          38,
          28,
          53,
          26,
          37,
          42,
          43,
          32,
          31,
          53,
          28,
          38,
          31,
          31,
          21,
          25,
          25,
          60,
          39,
          53,
          20,
          25,
          50,
          28,
          37,
          30,
          32,
          34,
          42,
          22,
          37,
          39,
          18,
          54,
          42,
          27,
          22,
          22,
          21,
          28,
          17,
          28,
          21,
          31,
          20,
          21,
          22,
          21,
          24,
          24,
          25,
          17,
          21,
          23,
          21,
          22,
          24,
          34,
          30,
          29,
          20,
          23,
          26,
          20,
          41,
          24,
          35,
          23,
          36,
          33,
          24,
          25,
          25,
          25,
          24,
          27,
          26,
          26,
          23,
          30,
          25,
          23,
          34,
          20,
          22,
          33,
          46,
          17,
          45,
          26,
          30,
          32,
          38,
          26,
          29,
          33,
          32,
          44,
          47,
          32,
          40,
          40,
          44,
          56,
          23,
          32,
          27,
          28,
          40,
          45,
          19,
          55,
          27,
          19,
          29,
          33,
          48,
          37,
          30,
          37,
          28,
          20,
          25,
          58,
          36,
          36,
          19,
          19,
          22,
          20,
          24,
          19,
          21,
          20,
          18,
          23,
          22,
          18,
          37,
          18,
          18,
          18,
          18,
          18,
          18,
          19,
          55,
          32,
          50,
          40,
          47,
          20,
          22,
          21,
          21,
          19,
          21,
          21,
          23,
          21,
          21,
          23,
          20,
          21,
          20,
          19,
          21,
          26,
          21,
          19,
          22,
          19,
          22,
          20,
          23,
          19,
          20,
          24,
          19,
          20,
          23,
          20,
          20,
          20,
          20,
          21,
          19,
          20,
          20,
          25,
          20,
          22,
          20,
          20,
          20,
          23,
          21,
          22,
          21,
          20,
          22,
          21,
          20,
          20,
          21,
          21,
          23,
          21,
          22,
          19,
          20,
          21,
          26,
          19,
          20,
          26,
          23,
          28,
          19,
          20,
          19,
          24,
          19,
          22,
          20,
          21,
          24,
          18,
          19,
          19,
          31,
          19,
          21,
          20,
          26,
          27,
          23,
          29,
          23,
          23,
          24,
          21,
          20,
          20,
          32,
          61,
          19,
          35,
          34,
          23,
          19,
          36,
          21,
          23,
          17,
          22,
          33,
          23,
          35,
          21,
          20,
          29,
          59,
          18,
          19,
          24,
          36,
          19,
          17,
          52,
          18,
          30,
          18,
          27,
          52,
          45,
          25,
          29,
          29,
          18,
          18,
          17,
          27,
          22,
          23,
          25,
          23,
          29,
          27,
          27,
          43,
          26,
          30,
          23,
          29,
          37,
          28,
          25,
          25,
          21,
          43,
          30,
          18,
          18,
          30,
          31,
          33,
          33,
          26,
          61,
          46,
          33,
          38,
          44,
          48,
          42,
          37,
          23,
          24,
          41,
          41,
          27,
          46,
          40,
          22,
          42,
          18,
          44,
          30,
          42,
          35,
          40,
          50,
          38,
          26,
          27,
          47,
          21,
          37,
          19,
          32,
          26,
          46,
          29,
          30,
          32,
          35,
          22,
          19,
          24,
          52,
          52,
          32,
          24,
          24,
          49,
          30,
          30,
          35,
          35,
          37,
          43,
          52,
          44,
          46,
          42,
          20,
          18,
          38,
          24,
          32,
          29,
          22,
          19,
          39,
          17,
          19,
          18,
          19,
          28,
          29,
          48,
          27,
          34,
          31,
          47,
          47,
          44,
          25,
          25,
          20,
          43,
          36,
          30,
          44,
          40,
          40,
          40,
          30,
          47,
          21,
          21,
          31,
          21,
          29,
          22,
          51,
          23,
          30,
          22,
          22,
          24,
          26,
          33,
          23,
          42,
          26,
          29,
          35,
          25,
          25,
          28,
          33,
          25,
          25,
          24,
          27,
          22,
          21,
          27,
          23,
          22,
          23,
          30,
          33,
          24,
          22,
          22,
          29,
          22,
          21,
          23,
          23,
          23,
          32,
          27,
          28,
          25,
          22,
          36,
          27,
          21,
          18,
          49,
          18,
          29,
          31,
          37,
          17,
          17,
          38,
          18,
          31,
          33,
          32,
          30,
          33,
          30,
          30,
          38,
          22,
          36,
          43,
          44,
          20,
          40,
          25,
          28,
          17,
          34,
          56,
          50,
          38,
          47,
          30,
          21,
          21,
          31,
          27,
          24,
          35,
          18,
          43,
          44,
          40,
          49,
          24,
          30,
          53,
          38,
          28,
          28,
          26,
          39,
          31,
          24,
          28,
          31,
          27,
          28,
          31,
          46,
          27,
          25,
          34,
          24,
          35,
          26
         ],
         "yaxis": "y"
        },
        {
         "alignmentgroup": "True",
         "hovertemplate": "y=%{y}<extra></extra>",
         "legendgroup": "",
         "marker": {
          "color": "#636efa"
         },
         "name": "",
         "notched": true,
         "offsetgroup": "",
         "showlegend": false,
         "type": "box",
         "xaxis": "x2",
         "y": [
          26,
          24,
          27,
          35,
          40,
          36,
          17,
          64,
          29,
          17,
          33,
          18,
          17,
          17,
          17,
          18,
          31,
          30,
          35,
          34,
          38,
          27,
          27,
          42,
          43,
          24,
          40,
          40,
          48,
          31,
          18,
          37,
          55,
          18,
          18,
          55,
          50,
          34,
          53,
          35,
          20,
          28,
          34,
          36,
          27,
          53,
          24,
          24,
          55,
          30,
          21,
          35,
          27,
          21,
          47,
          30,
          28,
          43,
          32,
          44,
          20,
          20,
          null,
          19,
          29,
          21,
          27,
          21,
          35,
          42,
          29,
          58,
          21,
          21,
          37,
          21,
          20,
          33,
          20,
          45,
          32,
          30,
          33,
          42,
          17,
          27,
          35,
          37,
          30,
          29,
          17,
          null,
          22,
          19,
          42,
          37,
          28,
          22,
          26,
          21,
          26,
          39,
          26,
          26,
          21,
          25,
          26,
          30,
          19,
          19,
          25,
          23,
          31,
          27,
          29,
          38,
          23,
          27,
          27,
          42,
          20,
          17,
          20,
          30,
          28,
          26,
          26,
          31,
          40,
          39,
          18,
          24,
          23,
          24,
          24,
          27,
          24,
          25,
          22,
          40,
          23,
          29,
          25,
          27,
          22,
          28,
          20,
          19,
          37,
          35,
          26,
          23,
          32,
          30,
          31,
          28,
          29,
          29,
          29,
          31,
          36,
          32,
          34,
          24,
          24,
          42,
          26,
          27,
          36,
          36,
          55,
          23,
          22,
          42,
          54,
          43,
          43,
          29,
          29,
          37,
          39,
          18,
          31,
          34,
          22,
          28,
          38,
          28,
          53,
          26,
          37,
          42,
          43,
          32,
          31,
          53,
          28,
          38,
          31,
          31,
          21,
          25,
          25,
          60,
          39,
          53,
          20,
          25,
          50,
          28,
          37,
          30,
          32,
          34,
          42,
          22,
          37,
          39,
          18,
          54,
          42,
          27,
          22,
          22,
          21,
          28,
          17,
          28,
          21,
          31,
          20,
          21,
          22,
          21,
          24,
          24,
          25,
          17,
          21,
          23,
          21,
          22,
          24,
          34,
          30,
          29,
          20,
          23,
          26,
          20,
          41,
          24,
          35,
          23,
          36,
          33,
          24,
          25,
          25,
          25,
          24,
          27,
          26,
          26,
          23,
          30,
          25,
          23,
          34,
          20,
          22,
          33,
          46,
          17,
          45,
          26,
          30,
          32,
          38,
          26,
          29,
          33,
          32,
          44,
          47,
          32,
          40,
          40,
          44,
          56,
          23,
          32,
          27,
          28,
          40,
          45,
          19,
          55,
          27,
          19,
          29,
          33,
          48,
          37,
          30,
          37,
          28,
          20,
          25,
          58,
          36,
          36,
          19,
          19,
          22,
          20,
          24,
          19,
          21,
          20,
          18,
          23,
          22,
          18,
          37,
          18,
          18,
          18,
          18,
          18,
          18,
          19,
          55,
          32,
          50,
          40,
          47,
          20,
          22,
          21,
          21,
          19,
          21,
          21,
          23,
          21,
          21,
          23,
          20,
          21,
          20,
          19,
          21,
          26,
          21,
          19,
          22,
          19,
          22,
          20,
          23,
          19,
          20,
          24,
          19,
          20,
          23,
          20,
          20,
          20,
          20,
          21,
          19,
          20,
          20,
          25,
          20,
          22,
          20,
          20,
          20,
          23,
          21,
          22,
          21,
          20,
          22,
          21,
          20,
          20,
          21,
          21,
          23,
          21,
          22,
          19,
          20,
          21,
          26,
          19,
          20,
          26,
          23,
          28,
          19,
          20,
          19,
          24,
          19,
          22,
          20,
          21,
          24,
          18,
          19,
          19,
          31,
          19,
          21,
          20,
          26,
          27,
          23,
          29,
          23,
          23,
          24,
          21,
          20,
          20,
          32,
          61,
          19,
          35,
          34,
          23,
          19,
          36,
          21,
          23,
          17,
          22,
          33,
          23,
          35,
          21,
          20,
          29,
          59,
          18,
          19,
          24,
          36,
          19,
          17,
          52,
          18,
          30,
          18,
          27,
          52,
          45,
          25,
          29,
          29,
          18,
          18,
          17,
          27,
          22,
          23,
          25,
          23,
          29,
          27,
          27,
          43,
          26,
          30,
          23,
          29,
          37,
          28,
          25,
          25,
          21,
          43,
          30,
          18,
          18,
          30,
          31,
          33,
          33,
          26,
          61,
          46,
          33,
          38,
          44,
          48,
          42,
          37,
          23,
          24,
          41,
          41,
          27,
          46,
          40,
          22,
          42,
          18,
          44,
          30,
          42,
          35,
          40,
          50,
          38,
          26,
          27,
          47,
          21,
          37,
          19,
          32,
          26,
          46,
          29,
          30,
          32,
          35,
          22,
          19,
          24,
          52,
          52,
          32,
          24,
          24,
          49,
          30,
          30,
          35,
          35,
          37,
          43,
          52,
          44,
          46,
          42,
          20,
          18,
          38,
          24,
          32,
          29,
          22,
          19,
          39,
          17,
          19,
          18,
          19,
          28,
          29,
          48,
          27,
          34,
          31,
          47,
          47,
          44,
          25,
          25,
          20,
          43,
          36,
          30,
          44,
          40,
          40,
          40,
          30,
          47,
          21,
          21,
          31,
          21,
          29,
          22,
          51,
          23,
          30,
          22,
          22,
          24,
          26,
          33,
          23,
          42,
          26,
          29,
          35,
          25,
          25,
          28,
          33,
          25,
          25,
          24,
          27,
          22,
          21,
          27,
          23,
          22,
          23,
          30,
          33,
          24,
          22,
          22,
          29,
          22,
          21,
          23,
          23,
          23,
          32,
          27,
          28,
          25,
          22,
          36,
          27,
          21,
          18,
          49,
          18,
          29,
          31,
          37,
          17,
          17,
          38,
          18,
          31,
          33,
          32,
          30,
          33,
          30,
          30,
          38,
          22,
          36,
          43,
          44,
          20,
          40,
          25,
          28,
          17,
          34,
          56,
          50,
          38,
          47,
          30,
          21,
          21,
          31,
          27,
          24,
          35,
          18,
          43,
          44,
          40,
          49,
          24,
          30,
          53,
          38,
          28,
          28,
          26,
          39,
          31,
          24,
          28,
          31,
          27,
          28,
          31,
          46,
          27,
          25,
          34,
          24,
          35,
          26
         ],
         "yaxis": "y2"
        }
       ],
       "layout": {
        "barmode": "relative",
        "height": 1000,
        "legend": {
         "tracegroupgap": 0
        },
        "template": {
         "data": {
          "bar": [
           {
            "error_x": {
             "color": "#2a3f5f"
            },
            "error_y": {
             "color": "#2a3f5f"
            },
            "marker": {
             "line": {
              "color": "#E5ECF6",
              "width": 0.5
             },
             "pattern": {
              "fillmode": "overlay",
              "size": 10,
              "solidity": 0.2
             }
            },
            "type": "bar"
           }
          ],
          "barpolar": [
           {
            "marker": {
             "line": {
              "color": "#E5ECF6",
              "width": 0.5
             },
             "pattern": {
              "fillmode": "overlay",
              "size": 10,
              "solidity": 0.2
             }
            },
            "type": "barpolar"
           }
          ],
          "carpet": [
           {
            "aaxis": {
             "endlinecolor": "#2a3f5f",
             "gridcolor": "white",
             "linecolor": "white",
             "minorgridcolor": "white",
             "startlinecolor": "#2a3f5f"
            },
            "baxis": {
             "endlinecolor": "#2a3f5f",
             "gridcolor": "white",
             "linecolor": "white",
             "minorgridcolor": "white",
             "startlinecolor": "#2a3f5f"
            },
            "type": "carpet"
           }
          ],
          "choropleth": [
           {
            "colorbar": {
             "outlinewidth": 0,
             "ticks": ""
            },
            "type": "choropleth"
           }
          ],
          "contour": [
           {
            "colorbar": {
             "outlinewidth": 0,
             "ticks": ""
            },
            "colorscale": [
             [
              0,
              "#0d0887"
             ],
             [
              0.1111111111111111,
              "#46039f"
             ],
             [
              0.2222222222222222,
              "#7201a8"
             ],
             [
              0.3333333333333333,
              "#9c179e"
             ],
             [
              0.4444444444444444,
              "#bd3786"
             ],
             [
              0.5555555555555556,
              "#d8576b"
             ],
             [
              0.6666666666666666,
              "#ed7953"
             ],
             [
              0.7777777777777778,
              "#fb9f3a"
             ],
             [
              0.8888888888888888,
              "#fdca26"
             ],
             [
              1,
              "#f0f921"
             ]
            ],
            "type": "contour"
           }
          ],
          "contourcarpet": [
           {
            "colorbar": {
             "outlinewidth": 0,
             "ticks": ""
            },
            "type": "contourcarpet"
           }
          ],
          "heatmap": [
           {
            "colorbar": {
             "outlinewidth": 0,
             "ticks": ""
            },
            "colorscale": [
             [
              0,
              "#0d0887"
             ],
             [
              0.1111111111111111,
              "#46039f"
             ],
             [
              0.2222222222222222,
              "#7201a8"
             ],
             [
              0.3333333333333333,
              "#9c179e"
             ],
             [
              0.4444444444444444,
              "#bd3786"
             ],
             [
              0.5555555555555556,
              "#d8576b"
             ],
             [
              0.6666666666666666,
              "#ed7953"
             ],
             [
              0.7777777777777778,
              "#fb9f3a"
             ],
             [
              0.8888888888888888,
              "#fdca26"
             ],
             [
              1,
              "#f0f921"
             ]
            ],
            "type": "heatmap"
           }
          ],
          "heatmapgl": [
           {
            "colorbar": {
             "outlinewidth": 0,
             "ticks": ""
            },
            "colorscale": [
             [
              0,
              "#0d0887"
             ],
             [
              0.1111111111111111,
              "#46039f"
             ],
             [
              0.2222222222222222,
              "#7201a8"
             ],
             [
              0.3333333333333333,
              "#9c179e"
             ],
             [
              0.4444444444444444,
              "#bd3786"
             ],
             [
              0.5555555555555556,
              "#d8576b"
             ],
             [
              0.6666666666666666,
              "#ed7953"
             ],
             [
              0.7777777777777778,
              "#fb9f3a"
             ],
             [
              0.8888888888888888,
              "#fdca26"
             ],
             [
              1,
              "#f0f921"
             ]
            ],
            "type": "heatmapgl"
           }
          ],
          "histogram": [
           {
            "marker": {
             "pattern": {
              "fillmode": "overlay",
              "size": 10,
              "solidity": 0.2
             }
            },
            "type": "histogram"
           }
          ],
          "histogram2d": [
           {
            "colorbar": {
             "outlinewidth": 0,
             "ticks": ""
            },
            "colorscale": [
             [
              0,
              "#0d0887"
             ],
             [
              0.1111111111111111,
              "#46039f"
             ],
             [
              0.2222222222222222,
              "#7201a8"
             ],
             [
              0.3333333333333333,
              "#9c179e"
             ],
             [
              0.4444444444444444,
              "#bd3786"
             ],
             [
              0.5555555555555556,
              "#d8576b"
             ],
             [
              0.6666666666666666,
              "#ed7953"
             ],
             [
              0.7777777777777778,
              "#fb9f3a"
             ],
             [
              0.8888888888888888,
              "#fdca26"
             ],
             [
              1,
              "#f0f921"
             ]
            ],
            "type": "histogram2d"
           }
          ],
          "histogram2dcontour": [
           {
            "colorbar": {
             "outlinewidth": 0,
             "ticks": ""
            },
            "colorscale": [
             [
              0,
              "#0d0887"
             ],
             [
              0.1111111111111111,
              "#46039f"
             ],
             [
              0.2222222222222222,
              "#7201a8"
             ],
             [
              0.3333333333333333,
              "#9c179e"
             ],
             [
              0.4444444444444444,
              "#bd3786"
             ],
             [
              0.5555555555555556,
              "#d8576b"
             ],
             [
              0.6666666666666666,
              "#ed7953"
             ],
             [
              0.7777777777777778,
              "#fb9f3a"
             ],
             [
              0.8888888888888888,
              "#fdca26"
             ],
             [
              1,
              "#f0f921"
             ]
            ],
            "type": "histogram2dcontour"
           }
          ],
          "mesh3d": [
           {
            "colorbar": {
             "outlinewidth": 0,
             "ticks": ""
            },
            "type": "mesh3d"
           }
          ],
          "parcoords": [
           {
            "line": {
             "colorbar": {
              "outlinewidth": 0,
              "ticks": ""
             }
            },
            "type": "parcoords"
           }
          ],
          "pie": [
           {
            "automargin": true,
            "type": "pie"
           }
          ],
          "scatter": [
           {
            "fillpattern": {
             "fillmode": "overlay",
             "size": 10,
             "solidity": 0.2
            },
            "type": "scatter"
           }
          ],
          "scatter3d": [
           {
            "line": {
             "colorbar": {
              "outlinewidth": 0,
              "ticks": ""
             }
            },
            "marker": {
             "colorbar": {
              "outlinewidth": 0,
              "ticks": ""
             }
            },
            "type": "scatter3d"
           }
          ],
          "scattercarpet": [
           {
            "marker": {
             "colorbar": {
              "outlinewidth": 0,
              "ticks": ""
             }
            },
            "type": "scattercarpet"
           }
          ],
          "scattergeo": [
           {
            "marker": {
             "colorbar": {
              "outlinewidth": 0,
              "ticks": ""
             }
            },
            "type": "scattergeo"
           }
          ],
          "scattergl": [
           {
            "marker": {
             "colorbar": {
              "outlinewidth": 0,
              "ticks": ""
             }
            },
            "type": "scattergl"
           }
          ],
          "scattermapbox": [
           {
            "marker": {
             "colorbar": {
              "outlinewidth": 0,
              "ticks": ""
             }
            },
            "type": "scattermapbox"
           }
          ],
          "scatterpolar": [
           {
            "marker": {
             "colorbar": {
              "outlinewidth": 0,
              "ticks": ""
             }
            },
            "type": "scatterpolar"
           }
          ],
          "scatterpolargl": [
           {
            "marker": {
             "colorbar": {
              "outlinewidth": 0,
              "ticks": ""
             }
            },
            "type": "scatterpolargl"
           }
          ],
          "scatterternary": [
           {
            "marker": {
             "colorbar": {
              "outlinewidth": 0,
              "ticks": ""
             }
            },
            "type": "scatterternary"
           }
          ],
          "surface": [
           {
            "colorbar": {
             "outlinewidth": 0,
             "ticks": ""
            },
            "colorscale": [
             [
              0,
              "#0d0887"
             ],
             [
              0.1111111111111111,
              "#46039f"
             ],
             [
              0.2222222222222222,
              "#7201a8"
             ],
             [
              0.3333333333333333,
              "#9c179e"
             ],
             [
              0.4444444444444444,
              "#bd3786"
             ],
             [
              0.5555555555555556,
              "#d8576b"
             ],
             [
              0.6666666666666666,
              "#ed7953"
             ],
             [
              0.7777777777777778,
              "#fb9f3a"
             ],
             [
              0.8888888888888888,
              "#fdca26"
             ],
             [
              1,
              "#f0f921"
             ]
            ],
            "type": "surface"
           }
          ],
          "table": [
           {
            "cells": {
             "fill": {
              "color": "#EBF0F8"
             },
             "line": {
              "color": "white"
             }
            },
            "header": {
             "fill": {
              "color": "#C8D4E3"
             },
             "line": {
              "color": "white"
             }
            },
            "type": "table"
           }
          ]
         },
         "layout": {
          "annotationdefaults": {
           "arrowcolor": "#2a3f5f",
           "arrowhead": 0,
           "arrowwidth": 1
          },
          "autotypenumbers": "strict",
          "coloraxis": {
           "colorbar": {
            "outlinewidth": 0,
            "ticks": ""
           }
          },
          "colorscale": {
           "diverging": [
            [
             0,
             "#8e0152"
            ],
            [
             0.1,
             "#c51b7d"
            ],
            [
             0.2,
             "#de77ae"
            ],
            [
             0.3,
             "#f1b6da"
            ],
            [
             0.4,
             "#fde0ef"
            ],
            [
             0.5,
             "#f7f7f7"
            ],
            [
             0.6,
             "#e6f5d0"
            ],
            [
             0.7,
             "#b8e186"
            ],
            [
             0.8,
             "#7fbc41"
            ],
            [
             0.9,
             "#4d9221"
            ],
            [
             1,
             "#276419"
            ]
           ],
           "sequential": [
            [
             0,
             "#0d0887"
            ],
            [
             0.1111111111111111,
             "#46039f"
            ],
            [
             0.2222222222222222,
             "#7201a8"
            ],
            [
             0.3333333333333333,
             "#9c179e"
            ],
            [
             0.4444444444444444,
             "#bd3786"
            ],
            [
             0.5555555555555556,
             "#d8576b"
            ],
            [
             0.6666666666666666,
             "#ed7953"
            ],
            [
             0.7777777777777778,
             "#fb9f3a"
            ],
            [
             0.8888888888888888,
             "#fdca26"
            ],
            [
             1,
             "#f0f921"
            ]
           ],
           "sequentialminus": [
            [
             0,
             "#0d0887"
            ],
            [
             0.1111111111111111,
             "#46039f"
            ],
            [
             0.2222222222222222,
             "#7201a8"
            ],
            [
             0.3333333333333333,
             "#9c179e"
            ],
            [
             0.4444444444444444,
             "#bd3786"
            ],
            [
             0.5555555555555556,
             "#d8576b"
            ],
            [
             0.6666666666666666,
             "#ed7953"
            ],
            [
             0.7777777777777778,
             "#fb9f3a"
            ],
            [
             0.8888888888888888,
             "#fdca26"
            ],
            [
             1,
             "#f0f921"
            ]
           ]
          },
          "colorway": [
           "#636efa",
           "#EF553B",
           "#00cc96",
           "#ab63fa",
           "#FFA15A",
           "#19d3f3",
           "#FF6692",
           "#B6E880",
           "#FF97FF",
           "#FECB52"
          ],
          "font": {
           "color": "#2a3f5f"
          },
          "geo": {
           "bgcolor": "white",
           "lakecolor": "white",
           "landcolor": "#E5ECF6",
           "showlakes": true,
           "showland": true,
           "subunitcolor": "white"
          },
          "hoverlabel": {
           "align": "left"
          },
          "hovermode": "closest",
          "mapbox": {
           "style": "light"
          },
          "paper_bgcolor": "white",
          "plot_bgcolor": "#E5ECF6",
          "polar": {
           "angularaxis": {
            "gridcolor": "white",
            "linecolor": "white",
            "ticks": ""
           },
           "bgcolor": "#E5ECF6",
           "radialaxis": {
            "gridcolor": "white",
            "linecolor": "white",
            "ticks": ""
           }
          },
          "scene": {
           "xaxis": {
            "backgroundcolor": "#E5ECF6",
            "gridcolor": "white",
            "gridwidth": 2,
            "linecolor": "white",
            "showbackground": true,
            "ticks": "",
            "zerolinecolor": "white"
           },
           "yaxis": {
            "backgroundcolor": "#E5ECF6",
            "gridcolor": "white",
            "gridwidth": 2,
            "linecolor": "white",
            "showbackground": true,
            "ticks": "",
            "zerolinecolor": "white"
           },
           "zaxis": {
            "backgroundcolor": "#E5ECF6",
            "gridcolor": "white",
            "gridwidth": 2,
            "linecolor": "white",
            "showbackground": true,
            "ticks": "",
            "zerolinecolor": "white"
           }
          },
          "shapedefaults": {
           "line": {
            "color": "#2a3f5f"
           }
          },
          "ternary": {
           "aaxis": {
            "gridcolor": "white",
            "linecolor": "white",
            "ticks": ""
           },
           "baxis": {
            "gridcolor": "white",
            "linecolor": "white",
            "ticks": ""
           },
           "bgcolor": "#E5ECF6",
           "caxis": {
            "gridcolor": "white",
            "linecolor": "white",
            "ticks": ""
           }
          },
          "title": {
           "x": 0.05
          },
          "xaxis": {
           "automargin": true,
           "gridcolor": "white",
           "linecolor": "white",
           "ticks": "",
           "title": {
            "standoff": 15
           },
           "zerolinecolor": "white",
           "zerolinewidth": 2
          },
          "yaxis": {
           "automargin": true,
           "gridcolor": "white",
           "linecolor": "white",
           "ticks": "",
           "title": {
            "standoff": 15
           },
           "zerolinecolor": "white",
           "zerolinewidth": 2
          }
         }
        },
        "title": {
         "text": "Distribution cum box plot for Age of ASD patients"
        },
        "width": 600,
        "xaxis": {
         "anchor": "y",
         "domain": [
          0,
          0.8358
         ],
         "title": {
          "text": "count"
         }
        },
        "xaxis2": {
         "anchor": "y2",
         "domain": [
          0.8408,
          1
         ],
         "matches": "x2",
         "showgrid": false,
         "showline": false,
         "showticklabels": false,
         "ticks": ""
        },
        "yaxis": {
         "anchor": "x",
         "domain": [
          0,
          1
         ],
         "title": {
          "text": "y"
         }
        },
        "yaxis2": {
         "anchor": "x2",
         "domain": [
          0,
          1
         ],
         "matches": "y",
         "showgrid": true,
         "showticklabels": false
        }
       }
      },
      "text/html": [
       "<div>                            <div id=\"cd16cef8-1898-4321-a2ed-e91d736247c1\" class=\"plotly-graph-div\" style=\"height:1000px; width:600px;\"></div>            <script type=\"text/javascript\">                require([\"plotly\"], function(Plotly) {                    window.PLOTLYENV=window.PLOTLYENV || {};                                    if (document.getElementById(\"cd16cef8-1898-4321-a2ed-e91d736247c1\")) {                    Plotly.newPlot(                        \"cd16cef8-1898-4321-a2ed-e91d736247c1\",                        [{\"alignmentgroup\":\"True\",\"bingroup\":\"y\",\"hovertemplate\":\"count=%{x}<br>y=%{y}<extra></extra>\",\"legendgroup\":\"\",\"marker\":{\"color\":\"#636efa\",\"pattern\":{\"shape\":\"\"}},\"name\":\"\",\"offsetgroup\":\"\",\"orientation\":\"h\",\"showlegend\":false,\"xaxis\":\"x\",\"y\":[26.0,24.0,27.0,35.0,40.0,36.0,17.0,64.0,29.0,17.0,33.0,18.0,17.0,17.0,17.0,18.0,31.0,30.0,35.0,34.0,38.0,27.0,27.0,42.0,43.0,24.0,40.0,40.0,48.0,31.0,18.0,37.0,55.0,18.0,18.0,55.0,50.0,34.0,53.0,35.0,20.0,28.0,34.0,36.0,27.0,53.0,24.0,24.0,55.0,30.0,21.0,35.0,27.0,21.0,47.0,30.0,28.0,43.0,32.0,44.0,20.0,20.0,null,19.0,29.0,21.0,27.0,21.0,35.0,42.0,29.0,58.0,21.0,21.0,37.0,21.0,20.0,33.0,20.0,45.0,32.0,30.0,33.0,42.0,17.0,27.0,35.0,37.0,30.0,29.0,17.0,null,22.0,19.0,42.0,37.0,28.0,22.0,26.0,21.0,26.0,39.0,26.0,26.0,21.0,25.0,26.0,30.0,19.0,19.0,25.0,23.0,31.0,27.0,29.0,38.0,23.0,27.0,27.0,42.0,20.0,17.0,20.0,30.0,28.0,26.0,26.0,31.0,40.0,39.0,18.0,24.0,23.0,24.0,24.0,27.0,24.0,25.0,22.0,40.0,23.0,29.0,25.0,27.0,22.0,28.0,20.0,19.0,37.0,35.0,26.0,23.0,32.0,30.0,31.0,28.0,29.0,29.0,29.0,31.0,36.0,32.0,34.0,24.0,24.0,42.0,26.0,27.0,36.0,36.0,55.0,23.0,22.0,42.0,54.0,43.0,43.0,29.0,29.0,37.0,39.0,18.0,31.0,34.0,22.0,28.0,38.0,28.0,53.0,26.0,37.0,42.0,43.0,32.0,31.0,53.0,28.0,38.0,31.0,31.0,21.0,25.0,25.0,60.0,39.0,53.0,20.0,25.0,50.0,28.0,37.0,30.0,32.0,34.0,42.0,22.0,37.0,39.0,18.0,54.0,42.0,27.0,22.0,22.0,21.0,28.0,17.0,28.0,21.0,31.0,20.0,21.0,22.0,21.0,24.0,24.0,25.0,17.0,21.0,23.0,21.0,22.0,24.0,34.0,30.0,29.0,20.0,23.0,26.0,20.0,41.0,24.0,35.0,23.0,36.0,33.0,24.0,25.0,25.0,25.0,24.0,27.0,26.0,26.0,23.0,30.0,25.0,23.0,34.0,20.0,22.0,33.0,46.0,17.0,45.0,26.0,30.0,32.0,38.0,26.0,29.0,33.0,32.0,44.0,47.0,32.0,40.0,40.0,44.0,56.0,23.0,32.0,27.0,28.0,40.0,45.0,19.0,55.0,27.0,19.0,29.0,33.0,48.0,37.0,30.0,37.0,28.0,20.0,25.0,58.0,36.0,36.0,19.0,19.0,22.0,20.0,24.0,19.0,21.0,20.0,18.0,23.0,22.0,18.0,37.0,18.0,18.0,18.0,18.0,18.0,18.0,19.0,55.0,32.0,50.0,40.0,47.0,20.0,22.0,21.0,21.0,19.0,21.0,21.0,23.0,21.0,21.0,23.0,20.0,21.0,20.0,19.0,21.0,26.0,21.0,19.0,22.0,19.0,22.0,20.0,23.0,19.0,20.0,24.0,19.0,20.0,23.0,20.0,20.0,20.0,20.0,21.0,19.0,20.0,20.0,25.0,20.0,22.0,20.0,20.0,20.0,23.0,21.0,22.0,21.0,20.0,22.0,21.0,20.0,20.0,21.0,21.0,23.0,21.0,22.0,19.0,20.0,21.0,26.0,19.0,20.0,26.0,23.0,28.0,19.0,20.0,19.0,24.0,19.0,22.0,20.0,21.0,24.0,18.0,19.0,19.0,31.0,19.0,21.0,20.0,26.0,27.0,23.0,29.0,23.0,23.0,24.0,21.0,20.0,20.0,32.0,61.0,19.0,35.0,34.0,23.0,19.0,36.0,21.0,23.0,17.0,22.0,33.0,23.0,35.0,21.0,20.0,29.0,59.0,18.0,19.0,24.0,36.0,19.0,17.0,52.0,18.0,30.0,18.0,27.0,52.0,45.0,25.0,29.0,29.0,18.0,18.0,17.0,27.0,22.0,23.0,25.0,23.0,29.0,27.0,27.0,43.0,26.0,30.0,23.0,29.0,37.0,28.0,25.0,25.0,21.0,43.0,30.0,18.0,18.0,30.0,31.0,33.0,33.0,26.0,61.0,46.0,33.0,38.0,44.0,48.0,42.0,37.0,23.0,24.0,41.0,41.0,27.0,46.0,40.0,22.0,42.0,18.0,44.0,30.0,42.0,35.0,40.0,50.0,38.0,26.0,27.0,47.0,21.0,37.0,19.0,32.0,26.0,46.0,29.0,30.0,32.0,35.0,22.0,19.0,24.0,52.0,52.0,32.0,24.0,24.0,49.0,30.0,30.0,35.0,35.0,37.0,43.0,52.0,44.0,46.0,42.0,20.0,18.0,38.0,24.0,32.0,29.0,22.0,19.0,39.0,17.0,19.0,18.0,19.0,28.0,29.0,48.0,27.0,34.0,31.0,47.0,47.0,44.0,25.0,25.0,20.0,43.0,36.0,30.0,44.0,40.0,40.0,40.0,30.0,47.0,21.0,21.0,31.0,21.0,29.0,22.0,51.0,23.0,30.0,22.0,22.0,24.0,26.0,33.0,23.0,42.0,26.0,29.0,35.0,25.0,25.0,28.0,33.0,25.0,25.0,24.0,27.0,22.0,21.0,27.0,23.0,22.0,23.0,30.0,33.0,24.0,22.0,22.0,29.0,22.0,21.0,23.0,23.0,23.0,32.0,27.0,28.0,25.0,22.0,36.0,27.0,21.0,18.0,49.0,18.0,29.0,31.0,37.0,17.0,17.0,38.0,18.0,31.0,33.0,32.0,30.0,33.0,30.0,30.0,38.0,22.0,36.0,43.0,44.0,20.0,40.0,25.0,28.0,17.0,34.0,56.0,50.0,38.0,47.0,30.0,21.0,21.0,31.0,27.0,24.0,35.0,18.0,43.0,44.0,40.0,49.0,24.0,30.0,53.0,38.0,28.0,28.0,26.0,39.0,31.0,24.0,28.0,31.0,27.0,28.0,31.0,46.0,27.0,25.0,34.0,24.0,35.0,26.0],\"yaxis\":\"y\",\"type\":\"histogram\"},{\"alignmentgroup\":\"True\",\"hovertemplate\":\"y=%{y}<extra></extra>\",\"legendgroup\":\"\",\"marker\":{\"color\":\"#636efa\"},\"name\":\"\",\"notched\":true,\"offsetgroup\":\"\",\"showlegend\":false,\"xaxis\":\"x2\",\"y\":[26.0,24.0,27.0,35.0,40.0,36.0,17.0,64.0,29.0,17.0,33.0,18.0,17.0,17.0,17.0,18.0,31.0,30.0,35.0,34.0,38.0,27.0,27.0,42.0,43.0,24.0,40.0,40.0,48.0,31.0,18.0,37.0,55.0,18.0,18.0,55.0,50.0,34.0,53.0,35.0,20.0,28.0,34.0,36.0,27.0,53.0,24.0,24.0,55.0,30.0,21.0,35.0,27.0,21.0,47.0,30.0,28.0,43.0,32.0,44.0,20.0,20.0,null,19.0,29.0,21.0,27.0,21.0,35.0,42.0,29.0,58.0,21.0,21.0,37.0,21.0,20.0,33.0,20.0,45.0,32.0,30.0,33.0,42.0,17.0,27.0,35.0,37.0,30.0,29.0,17.0,null,22.0,19.0,42.0,37.0,28.0,22.0,26.0,21.0,26.0,39.0,26.0,26.0,21.0,25.0,26.0,30.0,19.0,19.0,25.0,23.0,31.0,27.0,29.0,38.0,23.0,27.0,27.0,42.0,20.0,17.0,20.0,30.0,28.0,26.0,26.0,31.0,40.0,39.0,18.0,24.0,23.0,24.0,24.0,27.0,24.0,25.0,22.0,40.0,23.0,29.0,25.0,27.0,22.0,28.0,20.0,19.0,37.0,35.0,26.0,23.0,32.0,30.0,31.0,28.0,29.0,29.0,29.0,31.0,36.0,32.0,34.0,24.0,24.0,42.0,26.0,27.0,36.0,36.0,55.0,23.0,22.0,42.0,54.0,43.0,43.0,29.0,29.0,37.0,39.0,18.0,31.0,34.0,22.0,28.0,38.0,28.0,53.0,26.0,37.0,42.0,43.0,32.0,31.0,53.0,28.0,38.0,31.0,31.0,21.0,25.0,25.0,60.0,39.0,53.0,20.0,25.0,50.0,28.0,37.0,30.0,32.0,34.0,42.0,22.0,37.0,39.0,18.0,54.0,42.0,27.0,22.0,22.0,21.0,28.0,17.0,28.0,21.0,31.0,20.0,21.0,22.0,21.0,24.0,24.0,25.0,17.0,21.0,23.0,21.0,22.0,24.0,34.0,30.0,29.0,20.0,23.0,26.0,20.0,41.0,24.0,35.0,23.0,36.0,33.0,24.0,25.0,25.0,25.0,24.0,27.0,26.0,26.0,23.0,30.0,25.0,23.0,34.0,20.0,22.0,33.0,46.0,17.0,45.0,26.0,30.0,32.0,38.0,26.0,29.0,33.0,32.0,44.0,47.0,32.0,40.0,40.0,44.0,56.0,23.0,32.0,27.0,28.0,40.0,45.0,19.0,55.0,27.0,19.0,29.0,33.0,48.0,37.0,30.0,37.0,28.0,20.0,25.0,58.0,36.0,36.0,19.0,19.0,22.0,20.0,24.0,19.0,21.0,20.0,18.0,23.0,22.0,18.0,37.0,18.0,18.0,18.0,18.0,18.0,18.0,19.0,55.0,32.0,50.0,40.0,47.0,20.0,22.0,21.0,21.0,19.0,21.0,21.0,23.0,21.0,21.0,23.0,20.0,21.0,20.0,19.0,21.0,26.0,21.0,19.0,22.0,19.0,22.0,20.0,23.0,19.0,20.0,24.0,19.0,20.0,23.0,20.0,20.0,20.0,20.0,21.0,19.0,20.0,20.0,25.0,20.0,22.0,20.0,20.0,20.0,23.0,21.0,22.0,21.0,20.0,22.0,21.0,20.0,20.0,21.0,21.0,23.0,21.0,22.0,19.0,20.0,21.0,26.0,19.0,20.0,26.0,23.0,28.0,19.0,20.0,19.0,24.0,19.0,22.0,20.0,21.0,24.0,18.0,19.0,19.0,31.0,19.0,21.0,20.0,26.0,27.0,23.0,29.0,23.0,23.0,24.0,21.0,20.0,20.0,32.0,61.0,19.0,35.0,34.0,23.0,19.0,36.0,21.0,23.0,17.0,22.0,33.0,23.0,35.0,21.0,20.0,29.0,59.0,18.0,19.0,24.0,36.0,19.0,17.0,52.0,18.0,30.0,18.0,27.0,52.0,45.0,25.0,29.0,29.0,18.0,18.0,17.0,27.0,22.0,23.0,25.0,23.0,29.0,27.0,27.0,43.0,26.0,30.0,23.0,29.0,37.0,28.0,25.0,25.0,21.0,43.0,30.0,18.0,18.0,30.0,31.0,33.0,33.0,26.0,61.0,46.0,33.0,38.0,44.0,48.0,42.0,37.0,23.0,24.0,41.0,41.0,27.0,46.0,40.0,22.0,42.0,18.0,44.0,30.0,42.0,35.0,40.0,50.0,38.0,26.0,27.0,47.0,21.0,37.0,19.0,32.0,26.0,46.0,29.0,30.0,32.0,35.0,22.0,19.0,24.0,52.0,52.0,32.0,24.0,24.0,49.0,30.0,30.0,35.0,35.0,37.0,43.0,52.0,44.0,46.0,42.0,20.0,18.0,38.0,24.0,32.0,29.0,22.0,19.0,39.0,17.0,19.0,18.0,19.0,28.0,29.0,48.0,27.0,34.0,31.0,47.0,47.0,44.0,25.0,25.0,20.0,43.0,36.0,30.0,44.0,40.0,40.0,40.0,30.0,47.0,21.0,21.0,31.0,21.0,29.0,22.0,51.0,23.0,30.0,22.0,22.0,24.0,26.0,33.0,23.0,42.0,26.0,29.0,35.0,25.0,25.0,28.0,33.0,25.0,25.0,24.0,27.0,22.0,21.0,27.0,23.0,22.0,23.0,30.0,33.0,24.0,22.0,22.0,29.0,22.0,21.0,23.0,23.0,23.0,32.0,27.0,28.0,25.0,22.0,36.0,27.0,21.0,18.0,49.0,18.0,29.0,31.0,37.0,17.0,17.0,38.0,18.0,31.0,33.0,32.0,30.0,33.0,30.0,30.0,38.0,22.0,36.0,43.0,44.0,20.0,40.0,25.0,28.0,17.0,34.0,56.0,50.0,38.0,47.0,30.0,21.0,21.0,31.0,27.0,24.0,35.0,18.0,43.0,44.0,40.0,49.0,24.0,30.0,53.0,38.0,28.0,28.0,26.0,39.0,31.0,24.0,28.0,31.0,27.0,28.0,31.0,46.0,27.0,25.0,34.0,24.0,35.0,26.0],\"yaxis\":\"y2\",\"type\":\"box\"}],                        {\"template\":{\"data\":{\"histogram2dcontour\":[{\"type\":\"histogram2dcontour\",\"colorbar\":{\"outlinewidth\":0,\"ticks\":\"\"},\"colorscale\":[[0.0,\"#0d0887\"],[0.1111111111111111,\"#46039f\"],[0.2222222222222222,\"#7201a8\"],[0.3333333333333333,\"#9c179e\"],[0.4444444444444444,\"#bd3786\"],[0.5555555555555556,\"#d8576b\"],[0.6666666666666666,\"#ed7953\"],[0.7777777777777778,\"#fb9f3a\"],[0.8888888888888888,\"#fdca26\"],[1.0,\"#f0f921\"]]}],\"choropleth\":[{\"type\":\"choropleth\",\"colorbar\":{\"outlinewidth\":0,\"ticks\":\"\"}}],\"histogram2d\":[{\"type\":\"histogram2d\",\"colorbar\":{\"outlinewidth\":0,\"ticks\":\"\"},\"colorscale\":[[0.0,\"#0d0887\"],[0.1111111111111111,\"#46039f\"],[0.2222222222222222,\"#7201a8\"],[0.3333333333333333,\"#9c179e\"],[0.4444444444444444,\"#bd3786\"],[0.5555555555555556,\"#d8576b\"],[0.6666666666666666,\"#ed7953\"],[0.7777777777777778,\"#fb9f3a\"],[0.8888888888888888,\"#fdca26\"],[1.0,\"#f0f921\"]]}],\"heatmap\":[{\"type\":\"heatmap\",\"colorbar\":{\"outlinewidth\":0,\"ticks\":\"\"},\"colorscale\":[[0.0,\"#0d0887\"],[0.1111111111111111,\"#46039f\"],[0.2222222222222222,\"#7201a8\"],[0.3333333333333333,\"#9c179e\"],[0.4444444444444444,\"#bd3786\"],[0.5555555555555556,\"#d8576b\"],[0.6666666666666666,\"#ed7953\"],[0.7777777777777778,\"#fb9f3a\"],[0.8888888888888888,\"#fdca26\"],[1.0,\"#f0f921\"]]}],\"heatmapgl\":[{\"type\":\"heatmapgl\",\"colorbar\":{\"outlinewidth\":0,\"ticks\":\"\"},\"colorscale\":[[0.0,\"#0d0887\"],[0.1111111111111111,\"#46039f\"],[0.2222222222222222,\"#7201a8\"],[0.3333333333333333,\"#9c179e\"],[0.4444444444444444,\"#bd3786\"],[0.5555555555555556,\"#d8576b\"],[0.6666666666666666,\"#ed7953\"],[0.7777777777777778,\"#fb9f3a\"],[0.8888888888888888,\"#fdca26\"],[1.0,\"#f0f921\"]]}],\"contourcarpet\":[{\"type\":\"contourcarpet\",\"colorbar\":{\"outlinewidth\":0,\"ticks\":\"\"}}],\"contour\":[{\"type\":\"contour\",\"colorbar\":{\"outlinewidth\":0,\"ticks\":\"\"},\"colorscale\":[[0.0,\"#0d0887\"],[0.1111111111111111,\"#46039f\"],[0.2222222222222222,\"#7201a8\"],[0.3333333333333333,\"#9c179e\"],[0.4444444444444444,\"#bd3786\"],[0.5555555555555556,\"#d8576b\"],[0.6666666666666666,\"#ed7953\"],[0.7777777777777778,\"#fb9f3a\"],[0.8888888888888888,\"#fdca26\"],[1.0,\"#f0f921\"]]}],\"surface\":[{\"type\":\"surface\",\"colorbar\":{\"outlinewidth\":0,\"ticks\":\"\"},\"colorscale\":[[0.0,\"#0d0887\"],[0.1111111111111111,\"#46039f\"],[0.2222222222222222,\"#7201a8\"],[0.3333333333333333,\"#9c179e\"],[0.4444444444444444,\"#bd3786\"],[0.5555555555555556,\"#d8576b\"],[0.6666666666666666,\"#ed7953\"],[0.7777777777777778,\"#fb9f3a\"],[0.8888888888888888,\"#fdca26\"],[1.0,\"#f0f921\"]]}],\"mesh3d\":[{\"type\":\"mesh3d\",\"colorbar\":{\"outlinewidth\":0,\"ticks\":\"\"}}],\"scatter\":[{\"fillpattern\":{\"fillmode\":\"overlay\",\"size\":10,\"solidity\":0.2},\"type\":\"scatter\"}],\"parcoords\":[{\"type\":\"parcoords\",\"line\":{\"colorbar\":{\"outlinewidth\":0,\"ticks\":\"\"}}}],\"scatterpolargl\":[{\"type\":\"scatterpolargl\",\"marker\":{\"colorbar\":{\"outlinewidth\":0,\"ticks\":\"\"}}}],\"bar\":[{\"error_x\":{\"color\":\"#2a3f5f\"},\"error_y\":{\"color\":\"#2a3f5f\"},\"marker\":{\"line\":{\"color\":\"#E5ECF6\",\"width\":0.5},\"pattern\":{\"fillmode\":\"overlay\",\"size\":10,\"solidity\":0.2}},\"type\":\"bar\"}],\"scattergeo\":[{\"type\":\"scattergeo\",\"marker\":{\"colorbar\":{\"outlinewidth\":0,\"ticks\":\"\"}}}],\"scatterpolar\":[{\"type\":\"scatterpolar\",\"marker\":{\"colorbar\":{\"outlinewidth\":0,\"ticks\":\"\"}}}],\"histogram\":[{\"marker\":{\"pattern\":{\"fillmode\":\"overlay\",\"size\":10,\"solidity\":0.2}},\"type\":\"histogram\"}],\"scattergl\":[{\"type\":\"scattergl\",\"marker\":{\"colorbar\":{\"outlinewidth\":0,\"ticks\":\"\"}}}],\"scatter3d\":[{\"type\":\"scatter3d\",\"line\":{\"colorbar\":{\"outlinewidth\":0,\"ticks\":\"\"}},\"marker\":{\"colorbar\":{\"outlinewidth\":0,\"ticks\":\"\"}}}],\"scattermapbox\":[{\"type\":\"scattermapbox\",\"marker\":{\"colorbar\":{\"outlinewidth\":0,\"ticks\":\"\"}}}],\"scatterternary\":[{\"type\":\"scatterternary\",\"marker\":{\"colorbar\":{\"outlinewidth\":0,\"ticks\":\"\"}}}],\"scattercarpet\":[{\"type\":\"scattercarpet\",\"marker\":{\"colorbar\":{\"outlinewidth\":0,\"ticks\":\"\"}}}],\"carpet\":[{\"aaxis\":{\"endlinecolor\":\"#2a3f5f\",\"gridcolor\":\"white\",\"linecolor\":\"white\",\"minorgridcolor\":\"white\",\"startlinecolor\":\"#2a3f5f\"},\"baxis\":{\"endlinecolor\":\"#2a3f5f\",\"gridcolor\":\"white\",\"linecolor\":\"white\",\"minorgridcolor\":\"white\",\"startlinecolor\":\"#2a3f5f\"},\"type\":\"carpet\"}],\"table\":[{\"cells\":{\"fill\":{\"color\":\"#EBF0F8\"},\"line\":{\"color\":\"white\"}},\"header\":{\"fill\":{\"color\":\"#C8D4E3\"},\"line\":{\"color\":\"white\"}},\"type\":\"table\"}],\"barpolar\":[{\"marker\":{\"line\":{\"color\":\"#E5ECF6\",\"width\":0.5},\"pattern\":{\"fillmode\":\"overlay\",\"size\":10,\"solidity\":0.2}},\"type\":\"barpolar\"}],\"pie\":[{\"automargin\":true,\"type\":\"pie\"}]},\"layout\":{\"autotypenumbers\":\"strict\",\"colorway\":[\"#636efa\",\"#EF553B\",\"#00cc96\",\"#ab63fa\",\"#FFA15A\",\"#19d3f3\",\"#FF6692\",\"#B6E880\",\"#FF97FF\",\"#FECB52\"],\"font\":{\"color\":\"#2a3f5f\"},\"hovermode\":\"closest\",\"hoverlabel\":{\"align\":\"left\"},\"paper_bgcolor\":\"white\",\"plot_bgcolor\":\"#E5ECF6\",\"polar\":{\"bgcolor\":\"#E5ECF6\",\"angularaxis\":{\"gridcolor\":\"white\",\"linecolor\":\"white\",\"ticks\":\"\"},\"radialaxis\":{\"gridcolor\":\"white\",\"linecolor\":\"white\",\"ticks\":\"\"}},\"ternary\":{\"bgcolor\":\"#E5ECF6\",\"aaxis\":{\"gridcolor\":\"white\",\"linecolor\":\"white\",\"ticks\":\"\"},\"baxis\":{\"gridcolor\":\"white\",\"linecolor\":\"white\",\"ticks\":\"\"},\"caxis\":{\"gridcolor\":\"white\",\"linecolor\":\"white\",\"ticks\":\"\"}},\"coloraxis\":{\"colorbar\":{\"outlinewidth\":0,\"ticks\":\"\"}},\"colorscale\":{\"sequential\":[[0.0,\"#0d0887\"],[0.1111111111111111,\"#46039f\"],[0.2222222222222222,\"#7201a8\"],[0.3333333333333333,\"#9c179e\"],[0.4444444444444444,\"#bd3786\"],[0.5555555555555556,\"#d8576b\"],[0.6666666666666666,\"#ed7953\"],[0.7777777777777778,\"#fb9f3a\"],[0.8888888888888888,\"#fdca26\"],[1.0,\"#f0f921\"]],\"sequentialminus\":[[0.0,\"#0d0887\"],[0.1111111111111111,\"#46039f\"],[0.2222222222222222,\"#7201a8\"],[0.3333333333333333,\"#9c179e\"],[0.4444444444444444,\"#bd3786\"],[0.5555555555555556,\"#d8576b\"],[0.6666666666666666,\"#ed7953\"],[0.7777777777777778,\"#fb9f3a\"],[0.8888888888888888,\"#fdca26\"],[1.0,\"#f0f921\"]],\"diverging\":[[0,\"#8e0152\"],[0.1,\"#c51b7d\"],[0.2,\"#de77ae\"],[0.3,\"#f1b6da\"],[0.4,\"#fde0ef\"],[0.5,\"#f7f7f7\"],[0.6,\"#e6f5d0\"],[0.7,\"#b8e186\"],[0.8,\"#7fbc41\"],[0.9,\"#4d9221\"],[1,\"#276419\"]]},\"xaxis\":{\"gridcolor\":\"white\",\"linecolor\":\"white\",\"ticks\":\"\",\"title\":{\"standoff\":15},\"zerolinecolor\":\"white\",\"automargin\":true,\"zerolinewidth\":2},\"yaxis\":{\"gridcolor\":\"white\",\"linecolor\":\"white\",\"ticks\":\"\",\"title\":{\"standoff\":15},\"zerolinecolor\":\"white\",\"automargin\":true,\"zerolinewidth\":2},\"scene\":{\"xaxis\":{\"backgroundcolor\":\"#E5ECF6\",\"gridcolor\":\"white\",\"linecolor\":\"white\",\"showbackground\":true,\"ticks\":\"\",\"zerolinecolor\":\"white\",\"gridwidth\":2},\"yaxis\":{\"backgroundcolor\":\"#E5ECF6\",\"gridcolor\":\"white\",\"linecolor\":\"white\",\"showbackground\":true,\"ticks\":\"\",\"zerolinecolor\":\"white\",\"gridwidth\":2},\"zaxis\":{\"backgroundcolor\":\"#E5ECF6\",\"gridcolor\":\"white\",\"linecolor\":\"white\",\"showbackground\":true,\"ticks\":\"\",\"zerolinecolor\":\"white\",\"gridwidth\":2}},\"shapedefaults\":{\"line\":{\"color\":\"#2a3f5f\"}},\"annotationdefaults\":{\"arrowcolor\":\"#2a3f5f\",\"arrowhead\":0,\"arrowwidth\":1},\"geo\":{\"bgcolor\":\"white\",\"landcolor\":\"#E5ECF6\",\"subunitcolor\":\"white\",\"showland\":true,\"showlakes\":true,\"lakecolor\":\"white\"},\"title\":{\"x\":0.05},\"mapbox\":{\"style\":\"light\"}}},\"xaxis\":{\"anchor\":\"y\",\"domain\":[0.0,0.8358],\"title\":{\"text\":\"count\"}},\"yaxis\":{\"anchor\":\"x\",\"domain\":[0.0,1.0],\"title\":{\"text\":\"y\"}},\"xaxis2\":{\"anchor\":\"y2\",\"domain\":[0.8408,1.0],\"matches\":\"x2\",\"showticklabels\":false,\"showline\":false,\"ticks\":\"\",\"showgrid\":false},\"yaxis2\":{\"anchor\":\"x2\",\"domain\":[0.0,1.0],\"matches\":\"y\",\"showticklabels\":false,\"showgrid\":true},\"legend\":{\"tracegroupgap\":0},\"title\":{\"text\":\"Distribution cum box plot for Age of ASD patients\"},\"barmode\":\"relative\",\"height\":1000,\"width\":600},                        {\"responsive\": true}                    ).then(function(){\n",
       "                            \n",
       "var gd = document.getElementById('cd16cef8-1898-4321-a2ed-e91d736247c1');\n",
       "var x = new MutationObserver(function (mutations, observer) {{\n",
       "        var display = window.getComputedStyle(gd).display;\n",
       "        if (!display || display === 'none') {{\n",
       "            console.log([gd, 'removed!']);\n",
       "            Plotly.purge(gd);\n",
       "            observer.disconnect();\n",
       "        }}\n",
       "}});\n",
       "\n",
       "// Listen for the removal of the full notebook cells\n",
       "var notebookContainer = gd.closest('#notebook-container');\n",
       "if (notebookContainer) {{\n",
       "    x.observe(notebookContainer, {childList: true});\n",
       "}}\n",
       "\n",
       "// Listen for the clearing of the current output cell\n",
       "var outputEl = gd.closest('.output');\n",
       "if (outputEl) {{\n",
       "    x.observe(outputEl, {childList: true});\n",
       "}}\n",
       "\n",
       "                        })                };                });            </script>        </div>"
      ]
     },
     "metadata": {},
     "output_type": "display_data"
    }
   ],
   "source": [
    "px.histogram(y = lst, marginal='box', title=\"Distribution cum box plot for Age of ASD patients\", height=1000, width=600)"
   ]
  },
  {
   "cell_type": "code",
   "execution_count": 16,
   "id": "1367e12e",
   "metadata": {},
   "outputs": [
    {
     "data": {
      "application/vnd.plotly.v1+json": {
       "config": {
        "plotlyServerURL": "https://plot.ly"
       },
       "data": [
        {
         "boxmean": true,
         "boxpoints": "all",
         "name": "",
         "notched": true,
         "type": "box",
         "xaxis": "x",
         "y": [
          6,
          5,
          8,
          6,
          2,
          9,
          2,
          5,
          6,
          8,
          10,
          6,
          6,
          4,
          4,
          6,
          5,
          2,
          3,
          3,
          3,
          0,
          5,
          2,
          5,
          3,
          1,
          1,
          1,
          4,
          0,
          7,
          4,
          10,
          10,
          1,
          6,
          6,
          7,
          8,
          7,
          2,
          3,
          4,
          8,
          7,
          5,
          4,
          3,
          6,
          3,
          10,
          1,
          8,
          10,
          9,
          8,
          9,
          3,
          5,
          8,
          7,
          0,
          5,
          9,
          3,
          2,
          6,
          4,
          1,
          5,
          3,
          6,
          6,
          6,
          7,
          3,
          8,
          4,
          2,
          5,
          3,
          10,
          4,
          2,
          3,
          8,
          1,
          4,
          9,
          4,
          4,
          5,
          8,
          8,
          4,
          4,
          4,
          3,
          1,
          3,
          2,
          3,
          5,
          4,
          0,
          6,
          7,
          5,
          3,
          9,
          6,
          3,
          4,
          8,
          7,
          8,
          6,
          9,
          7,
          9,
          9,
          1,
          7,
          9,
          7,
          0,
          6,
          5,
          4,
          3,
          3,
          3,
          5,
          5,
          6,
          5,
          2,
          3,
          2,
          4,
          2,
          3,
          4,
          1,
          8,
          9,
          10,
          7,
          8,
          2,
          7,
          4,
          5,
          4,
          3,
          4,
          4,
          4,
          3,
          0,
          2,
          1,
          3,
          6,
          5,
          4,
          4,
          6,
          8,
          6,
          4,
          4,
          2,
          3,
          6,
          9,
          6,
          5,
          4,
          4,
          5,
          6,
          4,
          5,
          7,
          4,
          4,
          8,
          5,
          9,
          5,
          3,
          2,
          3,
          9,
          10,
          9,
          7,
          4,
          9,
          6,
          7,
          9,
          3,
          10,
          10,
          7,
          6,
          8,
          9,
          5,
          6,
          4,
          5,
          8,
          4,
          4,
          7,
          2,
          3,
          1,
          6,
          8,
          9,
          4,
          9,
          1,
          5,
          10,
          3,
          2,
          3,
          4,
          2,
          2,
          6,
          2,
          3,
          2,
          5,
          6,
          4,
          5,
          6,
          4,
          5,
          6,
          2,
          8,
          3,
          4,
          2,
          2,
          3,
          4,
          5,
          4,
          5,
          5,
          3,
          5,
          3,
          0,
          4,
          7,
          3,
          3,
          5,
          6,
          7,
          7,
          10,
          2,
          4,
          4,
          3,
          2,
          9,
          3,
          1,
          8,
          7,
          10,
          3,
          6,
          0,
          5,
          0,
          8,
          8,
          7,
          5,
          4,
          0,
          7,
          8,
          8,
          5,
          9,
          3,
          10,
          6,
          2,
          6,
          4,
          7,
          8,
          8,
          7,
          2,
          4,
          7,
          7,
          5,
          3,
          4,
          4,
          6,
          0,
          2,
          4,
          8,
          4,
          2,
          5,
          5,
          2,
          4,
          3,
          4,
          10,
          7,
          5,
          5,
          6,
          4,
          3,
          4,
          2,
          6,
          6,
          3,
          2,
          5,
          1,
          5,
          1,
          8,
          5,
          8,
          4,
          2,
          3,
          2,
          2,
          4,
          2,
          4,
          2,
          4,
          2,
          3,
          2,
          4,
          4,
          5,
          4,
          5,
          2,
          3,
          5,
          2,
          3,
          5,
          3,
          2,
          5,
          2,
          3,
          2,
          2,
          8,
          4,
          3,
          3,
          2,
          6,
          4,
          2,
          3,
          6,
          4,
          3,
          5,
          5,
          4,
          3,
          3,
          1,
          5,
          3,
          4,
          4,
          3,
          3,
          5,
          8,
          5,
          2,
          4,
          3,
          4,
          4,
          7,
          2,
          4,
          5,
          4,
          4,
          6,
          1,
          4,
          2,
          5,
          4,
          8,
          4,
          2,
          6,
          9,
          10,
          3,
          8,
          3,
          2,
          5,
          6,
          4,
          2,
          6,
          2,
          6,
          7,
          7,
          3,
          7,
          2,
          9,
          5,
          3,
          3,
          7,
          4,
          3,
          3,
          4,
          1,
          8,
          6,
          1,
          1,
          6,
          3,
          8,
          3,
          7,
          5,
          10,
          1,
          3,
          7,
          4,
          3,
          4,
          3,
          0,
          2,
          4,
          1,
          4,
          2,
          2,
          6,
          5,
          3,
          9,
          7,
          4,
          5,
          7,
          0,
          5,
          10,
          6,
          3,
          3,
          8,
          8,
          3,
          5,
          8,
          4,
          6,
          8,
          6,
          4,
          4,
          10,
          2,
          8,
          9,
          4,
          3,
          9,
          9,
          4,
          7,
          3,
          3,
          8,
          7,
          7,
          6,
          8,
          4,
          4,
          3,
          10,
          2,
          2,
          4,
          4,
          9,
          4,
          3,
          2,
          5,
          4,
          6,
          9,
          1,
          9,
          9,
          9,
          7,
          4,
          5,
          6,
          10,
          2,
          3,
          1,
          7,
          9,
          4,
          3,
          4,
          9,
          6,
          9,
          8,
          6,
          4,
          4,
          2,
          4,
          4,
          9,
          3,
          4,
          3,
          3,
          10,
          4,
          4,
          8,
          9,
          8,
          3,
          2,
          4,
          6,
          7,
          7,
          5,
          10,
          9,
          9,
          3,
          5,
          6,
          10,
          1,
          4,
          3,
          4,
          5,
          3,
          6,
          3,
          3,
          2,
          2,
          3,
          4,
          3,
          1,
          1,
          4,
          5,
          4,
          5,
          1,
          5,
          6,
          3,
          4,
          2,
          4,
          4,
          7,
          4,
          7,
          3,
          6,
          3,
          3,
          5,
          6,
          6,
          2,
          2,
          6,
          7,
          4,
          0,
          10,
          5,
          7,
          4,
          7,
          2,
          1,
          6,
          7,
          4,
          5,
          4,
          3,
          2,
          3,
          1,
          10,
          9,
          5,
          5,
          5,
          3,
          8,
          8,
          9,
          5,
          4,
          3,
          9,
          1,
          3,
          4,
          10,
          9,
          7,
          8,
          8,
          6,
          5,
          4,
          3,
          8,
          10,
          10,
          9,
          3,
          4,
          4,
          7,
          5,
          9,
          8,
          7,
          1,
          4,
          8,
          4,
          7,
          5,
          9,
          6,
          10,
          7,
          3,
          7,
          6,
          8
         ],
         "yaxis": "y"
        }
       ],
       "layout": {
        "template": {
         "data": {
          "bar": [
           {
            "error_x": {
             "color": "#2a3f5f"
            },
            "error_y": {
             "color": "#2a3f5f"
            },
            "marker": {
             "line": {
              "color": "#E5ECF6",
              "width": 0.5
             },
             "pattern": {
              "fillmode": "overlay",
              "size": 10,
              "solidity": 0.2
             }
            },
            "type": "bar"
           }
          ],
          "barpolar": [
           {
            "marker": {
             "line": {
              "color": "#E5ECF6",
              "width": 0.5
             },
             "pattern": {
              "fillmode": "overlay",
              "size": 10,
              "solidity": 0.2
             }
            },
            "type": "barpolar"
           }
          ],
          "carpet": [
           {
            "aaxis": {
             "endlinecolor": "#2a3f5f",
             "gridcolor": "white",
             "linecolor": "white",
             "minorgridcolor": "white",
             "startlinecolor": "#2a3f5f"
            },
            "baxis": {
             "endlinecolor": "#2a3f5f",
             "gridcolor": "white",
             "linecolor": "white",
             "minorgridcolor": "white",
             "startlinecolor": "#2a3f5f"
            },
            "type": "carpet"
           }
          ],
          "choropleth": [
           {
            "colorbar": {
             "outlinewidth": 0,
             "ticks": ""
            },
            "type": "choropleth"
           }
          ],
          "contour": [
           {
            "colorbar": {
             "outlinewidth": 0,
             "ticks": ""
            },
            "colorscale": [
             [
              0,
              "#0d0887"
             ],
             [
              0.1111111111111111,
              "#46039f"
             ],
             [
              0.2222222222222222,
              "#7201a8"
             ],
             [
              0.3333333333333333,
              "#9c179e"
             ],
             [
              0.4444444444444444,
              "#bd3786"
             ],
             [
              0.5555555555555556,
              "#d8576b"
             ],
             [
              0.6666666666666666,
              "#ed7953"
             ],
             [
              0.7777777777777778,
              "#fb9f3a"
             ],
             [
              0.8888888888888888,
              "#fdca26"
             ],
             [
              1,
              "#f0f921"
             ]
            ],
            "type": "contour"
           }
          ],
          "contourcarpet": [
           {
            "colorbar": {
             "outlinewidth": 0,
             "ticks": ""
            },
            "type": "contourcarpet"
           }
          ],
          "heatmap": [
           {
            "colorbar": {
             "outlinewidth": 0,
             "ticks": ""
            },
            "colorscale": [
             [
              0,
              "#0d0887"
             ],
             [
              0.1111111111111111,
              "#46039f"
             ],
             [
              0.2222222222222222,
              "#7201a8"
             ],
             [
              0.3333333333333333,
              "#9c179e"
             ],
             [
              0.4444444444444444,
              "#bd3786"
             ],
             [
              0.5555555555555556,
              "#d8576b"
             ],
             [
              0.6666666666666666,
              "#ed7953"
             ],
             [
              0.7777777777777778,
              "#fb9f3a"
             ],
             [
              0.8888888888888888,
              "#fdca26"
             ],
             [
              1,
              "#f0f921"
             ]
            ],
            "type": "heatmap"
           }
          ],
          "heatmapgl": [
           {
            "colorbar": {
             "outlinewidth": 0,
             "ticks": ""
            },
            "colorscale": [
             [
              0,
              "#0d0887"
             ],
             [
              0.1111111111111111,
              "#46039f"
             ],
             [
              0.2222222222222222,
              "#7201a8"
             ],
             [
              0.3333333333333333,
              "#9c179e"
             ],
             [
              0.4444444444444444,
              "#bd3786"
             ],
             [
              0.5555555555555556,
              "#d8576b"
             ],
             [
              0.6666666666666666,
              "#ed7953"
             ],
             [
              0.7777777777777778,
              "#fb9f3a"
             ],
             [
              0.8888888888888888,
              "#fdca26"
             ],
             [
              1,
              "#f0f921"
             ]
            ],
            "type": "heatmapgl"
           }
          ],
          "histogram": [
           {
            "marker": {
             "pattern": {
              "fillmode": "overlay",
              "size": 10,
              "solidity": 0.2
             }
            },
            "type": "histogram"
           }
          ],
          "histogram2d": [
           {
            "colorbar": {
             "outlinewidth": 0,
             "ticks": ""
            },
            "colorscale": [
             [
              0,
              "#0d0887"
             ],
             [
              0.1111111111111111,
              "#46039f"
             ],
             [
              0.2222222222222222,
              "#7201a8"
             ],
             [
              0.3333333333333333,
              "#9c179e"
             ],
             [
              0.4444444444444444,
              "#bd3786"
             ],
             [
              0.5555555555555556,
              "#d8576b"
             ],
             [
              0.6666666666666666,
              "#ed7953"
             ],
             [
              0.7777777777777778,
              "#fb9f3a"
             ],
             [
              0.8888888888888888,
              "#fdca26"
             ],
             [
              1,
              "#f0f921"
             ]
            ],
            "type": "histogram2d"
           }
          ],
          "histogram2dcontour": [
           {
            "colorbar": {
             "outlinewidth": 0,
             "ticks": ""
            },
            "colorscale": [
             [
              0,
              "#0d0887"
             ],
             [
              0.1111111111111111,
              "#46039f"
             ],
             [
              0.2222222222222222,
              "#7201a8"
             ],
             [
              0.3333333333333333,
              "#9c179e"
             ],
             [
              0.4444444444444444,
              "#bd3786"
             ],
             [
              0.5555555555555556,
              "#d8576b"
             ],
             [
              0.6666666666666666,
              "#ed7953"
             ],
             [
              0.7777777777777778,
              "#fb9f3a"
             ],
             [
              0.8888888888888888,
              "#fdca26"
             ],
             [
              1,
              "#f0f921"
             ]
            ],
            "type": "histogram2dcontour"
           }
          ],
          "mesh3d": [
           {
            "colorbar": {
             "outlinewidth": 0,
             "ticks": ""
            },
            "type": "mesh3d"
           }
          ],
          "parcoords": [
           {
            "line": {
             "colorbar": {
              "outlinewidth": 0,
              "ticks": ""
             }
            },
            "type": "parcoords"
           }
          ],
          "pie": [
           {
            "automargin": true,
            "type": "pie"
           }
          ],
          "scatter": [
           {
            "fillpattern": {
             "fillmode": "overlay",
             "size": 10,
             "solidity": 0.2
            },
            "type": "scatter"
           }
          ],
          "scatter3d": [
           {
            "line": {
             "colorbar": {
              "outlinewidth": 0,
              "ticks": ""
             }
            },
            "marker": {
             "colorbar": {
              "outlinewidth": 0,
              "ticks": ""
             }
            },
            "type": "scatter3d"
           }
          ],
          "scattercarpet": [
           {
            "marker": {
             "colorbar": {
              "outlinewidth": 0,
              "ticks": ""
             }
            },
            "type": "scattercarpet"
           }
          ],
          "scattergeo": [
           {
            "marker": {
             "colorbar": {
              "outlinewidth": 0,
              "ticks": ""
             }
            },
            "type": "scattergeo"
           }
          ],
          "scattergl": [
           {
            "marker": {
             "colorbar": {
              "outlinewidth": 0,
              "ticks": ""
             }
            },
            "type": "scattergl"
           }
          ],
          "scattermapbox": [
           {
            "marker": {
             "colorbar": {
              "outlinewidth": 0,
              "ticks": ""
             }
            },
            "type": "scattermapbox"
           }
          ],
          "scatterpolar": [
           {
            "marker": {
             "colorbar": {
              "outlinewidth": 0,
              "ticks": ""
             }
            },
            "type": "scatterpolar"
           }
          ],
          "scatterpolargl": [
           {
            "marker": {
             "colorbar": {
              "outlinewidth": 0,
              "ticks": ""
             }
            },
            "type": "scatterpolargl"
           }
          ],
          "scatterternary": [
           {
            "marker": {
             "colorbar": {
              "outlinewidth": 0,
              "ticks": ""
             }
            },
            "type": "scatterternary"
           }
          ],
          "surface": [
           {
            "colorbar": {
             "outlinewidth": 0,
             "ticks": ""
            },
            "colorscale": [
             [
              0,
              "#0d0887"
             ],
             [
              0.1111111111111111,
              "#46039f"
             ],
             [
              0.2222222222222222,
              "#7201a8"
             ],
             [
              0.3333333333333333,
              "#9c179e"
             ],
             [
              0.4444444444444444,
              "#bd3786"
             ],
             [
              0.5555555555555556,
              "#d8576b"
             ],
             [
              0.6666666666666666,
              "#ed7953"
             ],
             [
              0.7777777777777778,
              "#fb9f3a"
             ],
             [
              0.8888888888888888,
              "#fdca26"
             ],
             [
              1,
              "#f0f921"
             ]
            ],
            "type": "surface"
           }
          ],
          "table": [
           {
            "cells": {
             "fill": {
              "color": "#EBF0F8"
             },
             "line": {
              "color": "white"
             }
            },
            "header": {
             "fill": {
              "color": "#C8D4E3"
             },
             "line": {
              "color": "white"
             }
            },
            "type": "table"
           }
          ]
         },
         "layout": {
          "annotationdefaults": {
           "arrowcolor": "#2a3f5f",
           "arrowhead": 0,
           "arrowwidth": 1
          },
          "autotypenumbers": "strict",
          "coloraxis": {
           "colorbar": {
            "outlinewidth": 0,
            "ticks": ""
           }
          },
          "colorscale": {
           "diverging": [
            [
             0,
             "#8e0152"
            ],
            [
             0.1,
             "#c51b7d"
            ],
            [
             0.2,
             "#de77ae"
            ],
            [
             0.3,
             "#f1b6da"
            ],
            [
             0.4,
             "#fde0ef"
            ],
            [
             0.5,
             "#f7f7f7"
            ],
            [
             0.6,
             "#e6f5d0"
            ],
            [
             0.7,
             "#b8e186"
            ],
            [
             0.8,
             "#7fbc41"
            ],
            [
             0.9,
             "#4d9221"
            ],
            [
             1,
             "#276419"
            ]
           ],
           "sequential": [
            [
             0,
             "#0d0887"
            ],
            [
             0.1111111111111111,
             "#46039f"
            ],
            [
             0.2222222222222222,
             "#7201a8"
            ],
            [
             0.3333333333333333,
             "#9c179e"
            ],
            [
             0.4444444444444444,
             "#bd3786"
            ],
            [
             0.5555555555555556,
             "#d8576b"
            ],
            [
             0.6666666666666666,
             "#ed7953"
            ],
            [
             0.7777777777777778,
             "#fb9f3a"
            ],
            [
             0.8888888888888888,
             "#fdca26"
            ],
            [
             1,
             "#f0f921"
            ]
           ],
           "sequentialminus": [
            [
             0,
             "#0d0887"
            ],
            [
             0.1111111111111111,
             "#46039f"
            ],
            [
             0.2222222222222222,
             "#7201a8"
            ],
            [
             0.3333333333333333,
             "#9c179e"
            ],
            [
             0.4444444444444444,
             "#bd3786"
            ],
            [
             0.5555555555555556,
             "#d8576b"
            ],
            [
             0.6666666666666666,
             "#ed7953"
            ],
            [
             0.7777777777777778,
             "#fb9f3a"
            ],
            [
             0.8888888888888888,
             "#fdca26"
            ],
            [
             1,
             "#f0f921"
            ]
           ]
          },
          "colorway": [
           "#636efa",
           "#EF553B",
           "#00cc96",
           "#ab63fa",
           "#FFA15A",
           "#19d3f3",
           "#FF6692",
           "#B6E880",
           "#FF97FF",
           "#FECB52"
          ],
          "font": {
           "color": "#2a3f5f"
          },
          "geo": {
           "bgcolor": "white",
           "lakecolor": "white",
           "landcolor": "#E5ECF6",
           "showlakes": true,
           "showland": true,
           "subunitcolor": "white"
          },
          "hoverlabel": {
           "align": "left"
          },
          "hovermode": "closest",
          "mapbox": {
           "style": "light"
          },
          "paper_bgcolor": "white",
          "plot_bgcolor": "#E5ECF6",
          "polar": {
           "angularaxis": {
            "gridcolor": "white",
            "linecolor": "white",
            "ticks": ""
           },
           "bgcolor": "#E5ECF6",
           "radialaxis": {
            "gridcolor": "white",
            "linecolor": "white",
            "ticks": ""
           }
          },
          "scene": {
           "xaxis": {
            "backgroundcolor": "#E5ECF6",
            "gridcolor": "white",
            "gridwidth": 2,
            "linecolor": "white",
            "showbackground": true,
            "ticks": "",
            "zerolinecolor": "white"
           },
           "yaxis": {
            "backgroundcolor": "#E5ECF6",
            "gridcolor": "white",
            "gridwidth": 2,
            "linecolor": "white",
            "showbackground": true,
            "ticks": "",
            "zerolinecolor": "white"
           },
           "zaxis": {
            "backgroundcolor": "#E5ECF6",
            "gridcolor": "white",
            "gridwidth": 2,
            "linecolor": "white",
            "showbackground": true,
            "ticks": "",
            "zerolinecolor": "white"
           }
          },
          "shapedefaults": {
           "line": {
            "color": "#2a3f5f"
           }
          },
          "ternary": {
           "aaxis": {
            "gridcolor": "white",
            "linecolor": "white",
            "ticks": ""
           },
           "baxis": {
            "gridcolor": "white",
            "linecolor": "white",
            "ticks": ""
           },
           "bgcolor": "#E5ECF6",
           "caxis": {
            "gridcolor": "white",
            "linecolor": "white",
            "ticks": ""
           }
          },
          "title": {
           "x": 0.05
          },
          "xaxis": {
           "automargin": true,
           "gridcolor": "white",
           "linecolor": "white",
           "ticks": "",
           "title": {
            "standoff": 15
           },
           "zerolinecolor": "white",
           "zerolinewidth": 2
          },
          "yaxis": {
           "automargin": true,
           "gridcolor": "white",
           "linecolor": "white",
           "ticks": "",
           "title": {
            "standoff": 15
           },
           "zerolinecolor": "white",
           "zerolinewidth": 2
          }
         }
        },
        "xaxis": {
         "anchor": "y",
         "domain": [
          0,
          1
         ]
        },
        "yaxis": {
         "anchor": "x",
         "domain": [
          0,
          1
         ]
        }
       }
      },
      "text/html": [
       "<div>                            <div id=\"e8c533e3-d1dc-40ba-9a3e-8b824fd6a396\" class=\"plotly-graph-div\" style=\"height:525px; width:100%;\"></div>            <script type=\"text/javascript\">                require([\"plotly\"], function(Plotly) {                    window.PLOTLYENV=window.PLOTLYENV || {};                                    if (document.getElementById(\"e8c533e3-d1dc-40ba-9a3e-8b824fd6a396\")) {                    Plotly.newPlot(                        \"e8c533e3-d1dc-40ba-9a3e-8b824fd6a396\",                        [{\"boxmean\":true,\"boxpoints\":\"all\",\"name\":\"\",\"notched\":true,\"y\":[6,5,8,6,2,9,2,5,6,8,10,6,6,4,4,6,5,2,3,3,3,0,5,2,5,3,1,1,1,4,0,7,4,10,10,1,6,6,7,8,7,2,3,4,8,7,5,4,3,6,3,10,1,8,10,9,8,9,3,5,8,7,0,5,9,3,2,6,4,1,5,3,6,6,6,7,3,8,4,2,5,3,10,4,2,3,8,1,4,9,4,4,5,8,8,4,4,4,3,1,3,2,3,5,4,0,6,7,5,3,9,6,3,4,8,7,8,6,9,7,9,9,1,7,9,7,0,6,5,4,3,3,3,5,5,6,5,2,3,2,4,2,3,4,1,8,9,10,7,8,2,7,4,5,4,3,4,4,4,3,0,2,1,3,6,5,4,4,6,8,6,4,4,2,3,6,9,6,5,4,4,5,6,4,5,7,4,4,8,5,9,5,3,2,3,9,10,9,7,4,9,6,7,9,3,10,10,7,6,8,9,5,6,4,5,8,4,4,7,2,3,1,6,8,9,4,9,1,5,10,3,2,3,4,2,2,6,2,3,2,5,6,4,5,6,4,5,6,2,8,3,4,2,2,3,4,5,4,5,5,3,5,3,0,4,7,3,3,5,6,7,7,10,2,4,4,3,2,9,3,1,8,7,10,3,6,0,5,0,8,8,7,5,4,0,7,8,8,5,9,3,10,6,2,6,4,7,8,8,7,2,4,7,7,5,3,4,4,6,0,2,4,8,4,2,5,5,2,4,3,4,10,7,5,5,6,4,3,4,2,6,6,3,2,5,1,5,1,8,5,8,4,2,3,2,2,4,2,4,2,4,2,3,2,4,4,5,4,5,2,3,5,2,3,5,3,2,5,2,3,2,2,8,4,3,3,2,6,4,2,3,6,4,3,5,5,4,3,3,1,5,3,4,4,3,3,5,8,5,2,4,3,4,4,7,2,4,5,4,4,6,1,4,2,5,4,8,4,2,6,9,10,3,8,3,2,5,6,4,2,6,2,6,7,7,3,7,2,9,5,3,3,7,4,3,3,4,1,8,6,1,1,6,3,8,3,7,5,10,1,3,7,4,3,4,3,0,2,4,1,4,2,2,6,5,3,9,7,4,5,7,0,5,10,6,3,3,8,8,3,5,8,4,6,8,6,4,4,10,2,8,9,4,3,9,9,4,7,3,3,8,7,7,6,8,4,4,3,10,2,2,4,4,9,4,3,2,5,4,6,9,1,9,9,9,7,4,5,6,10,2,3,1,7,9,4,3,4,9,6,9,8,6,4,4,2,4,4,9,3,4,3,3,10,4,4,8,9,8,3,2,4,6,7,7,5,10,9,9,3,5,6,10,1,4,3,4,5,3,6,3,3,2,2,3,4,3,1,1,4,5,4,5,1,5,6,3,4,2,4,4,7,4,7,3,6,3,3,5,6,6,2,2,6,7,4,0,10,5,7,4,7,2,1,6,7,4,5,4,3,2,3,1,10,9,5,5,5,3,8,8,9,5,4,3,9,1,3,4,10,9,7,8,8,6,5,4,3,8,10,10,9,3,4,4,7,5,9,8,7,1,4,8,4,7,5,9,6,10,7,3,7,6,8],\"type\":\"box\",\"xaxis\":\"x\",\"yaxis\":\"y\"}],                        {\"template\":{\"data\":{\"histogram2dcontour\":[{\"type\":\"histogram2dcontour\",\"colorbar\":{\"outlinewidth\":0,\"ticks\":\"\"},\"colorscale\":[[0.0,\"#0d0887\"],[0.1111111111111111,\"#46039f\"],[0.2222222222222222,\"#7201a8\"],[0.3333333333333333,\"#9c179e\"],[0.4444444444444444,\"#bd3786\"],[0.5555555555555556,\"#d8576b\"],[0.6666666666666666,\"#ed7953\"],[0.7777777777777778,\"#fb9f3a\"],[0.8888888888888888,\"#fdca26\"],[1.0,\"#f0f921\"]]}],\"choropleth\":[{\"type\":\"choropleth\",\"colorbar\":{\"outlinewidth\":0,\"ticks\":\"\"}}],\"histogram2d\":[{\"type\":\"histogram2d\",\"colorbar\":{\"outlinewidth\":0,\"ticks\":\"\"},\"colorscale\":[[0.0,\"#0d0887\"],[0.1111111111111111,\"#46039f\"],[0.2222222222222222,\"#7201a8\"],[0.3333333333333333,\"#9c179e\"],[0.4444444444444444,\"#bd3786\"],[0.5555555555555556,\"#d8576b\"],[0.6666666666666666,\"#ed7953\"],[0.7777777777777778,\"#fb9f3a\"],[0.8888888888888888,\"#fdca26\"],[1.0,\"#f0f921\"]]}],\"heatmap\":[{\"type\":\"heatmap\",\"colorbar\":{\"outlinewidth\":0,\"ticks\":\"\"},\"colorscale\":[[0.0,\"#0d0887\"],[0.1111111111111111,\"#46039f\"],[0.2222222222222222,\"#7201a8\"],[0.3333333333333333,\"#9c179e\"],[0.4444444444444444,\"#bd3786\"],[0.5555555555555556,\"#d8576b\"],[0.6666666666666666,\"#ed7953\"],[0.7777777777777778,\"#fb9f3a\"],[0.8888888888888888,\"#fdca26\"],[1.0,\"#f0f921\"]]}],\"heatmapgl\":[{\"type\":\"heatmapgl\",\"colorbar\":{\"outlinewidth\":0,\"ticks\":\"\"},\"colorscale\":[[0.0,\"#0d0887\"],[0.1111111111111111,\"#46039f\"],[0.2222222222222222,\"#7201a8\"],[0.3333333333333333,\"#9c179e\"],[0.4444444444444444,\"#bd3786\"],[0.5555555555555556,\"#d8576b\"],[0.6666666666666666,\"#ed7953\"],[0.7777777777777778,\"#fb9f3a\"],[0.8888888888888888,\"#fdca26\"],[1.0,\"#f0f921\"]]}],\"contourcarpet\":[{\"type\":\"contourcarpet\",\"colorbar\":{\"outlinewidth\":0,\"ticks\":\"\"}}],\"contour\":[{\"type\":\"contour\",\"colorbar\":{\"outlinewidth\":0,\"ticks\":\"\"},\"colorscale\":[[0.0,\"#0d0887\"],[0.1111111111111111,\"#46039f\"],[0.2222222222222222,\"#7201a8\"],[0.3333333333333333,\"#9c179e\"],[0.4444444444444444,\"#bd3786\"],[0.5555555555555556,\"#d8576b\"],[0.6666666666666666,\"#ed7953\"],[0.7777777777777778,\"#fb9f3a\"],[0.8888888888888888,\"#fdca26\"],[1.0,\"#f0f921\"]]}],\"surface\":[{\"type\":\"surface\",\"colorbar\":{\"outlinewidth\":0,\"ticks\":\"\"},\"colorscale\":[[0.0,\"#0d0887\"],[0.1111111111111111,\"#46039f\"],[0.2222222222222222,\"#7201a8\"],[0.3333333333333333,\"#9c179e\"],[0.4444444444444444,\"#bd3786\"],[0.5555555555555556,\"#d8576b\"],[0.6666666666666666,\"#ed7953\"],[0.7777777777777778,\"#fb9f3a\"],[0.8888888888888888,\"#fdca26\"],[1.0,\"#f0f921\"]]}],\"mesh3d\":[{\"type\":\"mesh3d\",\"colorbar\":{\"outlinewidth\":0,\"ticks\":\"\"}}],\"scatter\":[{\"fillpattern\":{\"fillmode\":\"overlay\",\"size\":10,\"solidity\":0.2},\"type\":\"scatter\"}],\"parcoords\":[{\"type\":\"parcoords\",\"line\":{\"colorbar\":{\"outlinewidth\":0,\"ticks\":\"\"}}}],\"scatterpolargl\":[{\"type\":\"scatterpolargl\",\"marker\":{\"colorbar\":{\"outlinewidth\":0,\"ticks\":\"\"}}}],\"bar\":[{\"error_x\":{\"color\":\"#2a3f5f\"},\"error_y\":{\"color\":\"#2a3f5f\"},\"marker\":{\"line\":{\"color\":\"#E5ECF6\",\"width\":0.5},\"pattern\":{\"fillmode\":\"overlay\",\"size\":10,\"solidity\":0.2}},\"type\":\"bar\"}],\"scattergeo\":[{\"type\":\"scattergeo\",\"marker\":{\"colorbar\":{\"outlinewidth\":0,\"ticks\":\"\"}}}],\"scatterpolar\":[{\"type\":\"scatterpolar\",\"marker\":{\"colorbar\":{\"outlinewidth\":0,\"ticks\":\"\"}}}],\"histogram\":[{\"marker\":{\"pattern\":{\"fillmode\":\"overlay\",\"size\":10,\"solidity\":0.2}},\"type\":\"histogram\"}],\"scattergl\":[{\"type\":\"scattergl\",\"marker\":{\"colorbar\":{\"outlinewidth\":0,\"ticks\":\"\"}}}],\"scatter3d\":[{\"type\":\"scatter3d\",\"line\":{\"colorbar\":{\"outlinewidth\":0,\"ticks\":\"\"}},\"marker\":{\"colorbar\":{\"outlinewidth\":0,\"ticks\":\"\"}}}],\"scattermapbox\":[{\"type\":\"scattermapbox\",\"marker\":{\"colorbar\":{\"outlinewidth\":0,\"ticks\":\"\"}}}],\"scatterternary\":[{\"type\":\"scatterternary\",\"marker\":{\"colorbar\":{\"outlinewidth\":0,\"ticks\":\"\"}}}],\"scattercarpet\":[{\"type\":\"scattercarpet\",\"marker\":{\"colorbar\":{\"outlinewidth\":0,\"ticks\":\"\"}}}],\"carpet\":[{\"aaxis\":{\"endlinecolor\":\"#2a3f5f\",\"gridcolor\":\"white\",\"linecolor\":\"white\",\"minorgridcolor\":\"white\",\"startlinecolor\":\"#2a3f5f\"},\"baxis\":{\"endlinecolor\":\"#2a3f5f\",\"gridcolor\":\"white\",\"linecolor\":\"white\",\"minorgridcolor\":\"white\",\"startlinecolor\":\"#2a3f5f\"},\"type\":\"carpet\"}],\"table\":[{\"cells\":{\"fill\":{\"color\":\"#EBF0F8\"},\"line\":{\"color\":\"white\"}},\"header\":{\"fill\":{\"color\":\"#C8D4E3\"},\"line\":{\"color\":\"white\"}},\"type\":\"table\"}],\"barpolar\":[{\"marker\":{\"line\":{\"color\":\"#E5ECF6\",\"width\":0.5},\"pattern\":{\"fillmode\":\"overlay\",\"size\":10,\"solidity\":0.2}},\"type\":\"barpolar\"}],\"pie\":[{\"automargin\":true,\"type\":\"pie\"}]},\"layout\":{\"autotypenumbers\":\"strict\",\"colorway\":[\"#636efa\",\"#EF553B\",\"#00cc96\",\"#ab63fa\",\"#FFA15A\",\"#19d3f3\",\"#FF6692\",\"#B6E880\",\"#FF97FF\",\"#FECB52\"],\"font\":{\"color\":\"#2a3f5f\"},\"hovermode\":\"closest\",\"hoverlabel\":{\"align\":\"left\"},\"paper_bgcolor\":\"white\",\"plot_bgcolor\":\"#E5ECF6\",\"polar\":{\"bgcolor\":\"#E5ECF6\",\"angularaxis\":{\"gridcolor\":\"white\",\"linecolor\":\"white\",\"ticks\":\"\"},\"radialaxis\":{\"gridcolor\":\"white\",\"linecolor\":\"white\",\"ticks\":\"\"}},\"ternary\":{\"bgcolor\":\"#E5ECF6\",\"aaxis\":{\"gridcolor\":\"white\",\"linecolor\":\"white\",\"ticks\":\"\"},\"baxis\":{\"gridcolor\":\"white\",\"linecolor\":\"white\",\"ticks\":\"\"},\"caxis\":{\"gridcolor\":\"white\",\"linecolor\":\"white\",\"ticks\":\"\"}},\"coloraxis\":{\"colorbar\":{\"outlinewidth\":0,\"ticks\":\"\"}},\"colorscale\":{\"sequential\":[[0.0,\"#0d0887\"],[0.1111111111111111,\"#46039f\"],[0.2222222222222222,\"#7201a8\"],[0.3333333333333333,\"#9c179e\"],[0.4444444444444444,\"#bd3786\"],[0.5555555555555556,\"#d8576b\"],[0.6666666666666666,\"#ed7953\"],[0.7777777777777778,\"#fb9f3a\"],[0.8888888888888888,\"#fdca26\"],[1.0,\"#f0f921\"]],\"sequentialminus\":[[0.0,\"#0d0887\"],[0.1111111111111111,\"#46039f\"],[0.2222222222222222,\"#7201a8\"],[0.3333333333333333,\"#9c179e\"],[0.4444444444444444,\"#bd3786\"],[0.5555555555555556,\"#d8576b\"],[0.6666666666666666,\"#ed7953\"],[0.7777777777777778,\"#fb9f3a\"],[0.8888888888888888,\"#fdca26\"],[1.0,\"#f0f921\"]],\"diverging\":[[0,\"#8e0152\"],[0.1,\"#c51b7d\"],[0.2,\"#de77ae\"],[0.3,\"#f1b6da\"],[0.4,\"#fde0ef\"],[0.5,\"#f7f7f7\"],[0.6,\"#e6f5d0\"],[0.7,\"#b8e186\"],[0.8,\"#7fbc41\"],[0.9,\"#4d9221\"],[1,\"#276419\"]]},\"xaxis\":{\"gridcolor\":\"white\",\"linecolor\":\"white\",\"ticks\":\"\",\"title\":{\"standoff\":15},\"zerolinecolor\":\"white\",\"automargin\":true,\"zerolinewidth\":2},\"yaxis\":{\"gridcolor\":\"white\",\"linecolor\":\"white\",\"ticks\":\"\",\"title\":{\"standoff\":15},\"zerolinecolor\":\"white\",\"automargin\":true,\"zerolinewidth\":2},\"scene\":{\"xaxis\":{\"backgroundcolor\":\"#E5ECF6\",\"gridcolor\":\"white\",\"linecolor\":\"white\",\"showbackground\":true,\"ticks\":\"\",\"zerolinecolor\":\"white\",\"gridwidth\":2},\"yaxis\":{\"backgroundcolor\":\"#E5ECF6\",\"gridcolor\":\"white\",\"linecolor\":\"white\",\"showbackground\":true,\"ticks\":\"\",\"zerolinecolor\":\"white\",\"gridwidth\":2},\"zaxis\":{\"backgroundcolor\":\"#E5ECF6\",\"gridcolor\":\"white\",\"linecolor\":\"white\",\"showbackground\":true,\"ticks\":\"\",\"zerolinecolor\":\"white\",\"gridwidth\":2}},\"shapedefaults\":{\"line\":{\"color\":\"#2a3f5f\"}},\"annotationdefaults\":{\"arrowcolor\":\"#2a3f5f\",\"arrowhead\":0,\"arrowwidth\":1},\"geo\":{\"bgcolor\":\"white\",\"landcolor\":\"#E5ECF6\",\"subunitcolor\":\"white\",\"showland\":true,\"showlakes\":true,\"lakecolor\":\"white\"},\"title\":{\"x\":0.05},\"mapbox\":{\"style\":\"light\"}}},\"xaxis\":{\"anchor\":\"y\",\"domain\":[0.0,1.0]},\"yaxis\":{\"anchor\":\"x\",\"domain\":[0.0,1.0]}},                        {\"responsive\": true}                    ).then(function(){\n",
       "                            \n",
       "var gd = document.getElementById('e8c533e3-d1dc-40ba-9a3e-8b824fd6a396');\n",
       "var x = new MutationObserver(function (mutations, observer) {{\n",
       "        var display = window.getComputedStyle(gd).display;\n",
       "        if (!display || display === 'none') {{\n",
       "            console.log([gd, 'removed!']);\n",
       "            Plotly.purge(gd);\n",
       "            observer.disconnect();\n",
       "        }}\n",
       "}});\n",
       "\n",
       "// Listen for the removal of the full notebook cells\n",
       "var notebookContainer = gd.closest('#notebook-container');\n",
       "if (notebookContainer) {{\n",
       "    x.observe(notebookContainer, {childList: true});\n",
       "}}\n",
       "\n",
       "// Listen for the clearing of the current output cell\n",
       "var outputEl = gd.closest('.output');\n",
       "if (outputEl) {{\n",
       "    x.observe(outputEl, {childList: true});\n",
       "}}\n",
       "\n",
       "                        })                };                });            </script>        </div>"
      ]
     },
     "metadata": {},
     "output_type": "display_data"
    }
   ],
   "source": [
    "fig = make_subplots(rows=1, cols=1)\n",
    "fig.add_trace(go.Box( y = data.result, name = \"\", boxmean=True, boxpoints='all', notched=True),\n",
    "                 row=1, col=1)"
   ]
  },
  {
   "cell_type": "code",
   "execution_count": 17,
   "id": "99d69f06",
   "metadata": {},
   "outputs": [
    {
     "data": {
      "application/vnd.plotly.v1+json": {
       "config": {
        "plotlyServerURL": "https://plot.ly"
       },
       "data": [
        {
         "alignmentgroup": "True",
         "bingroup": "x",
         "hovertemplate": "variable=result<br>value=%{x}<br>count=%{y}<extra></extra>",
         "legendgroup": "result",
         "marker": {
          "color": "#636efa",
          "pattern": {
           "shape": ""
          }
         },
         "name": "result",
         "offsetgroup": "result",
         "orientation": "v",
         "showlegend": true,
         "type": "histogram",
         "x": [
          6,
          5,
          8,
          6,
          2,
          9,
          2,
          5,
          6,
          8,
          10,
          6,
          6,
          4,
          4,
          6,
          5,
          2,
          3,
          3,
          3,
          0,
          5,
          2,
          5,
          3,
          1,
          1,
          1,
          4,
          0,
          7,
          4,
          10,
          10,
          1,
          6,
          6,
          7,
          8,
          7,
          2,
          3,
          4,
          8,
          7,
          5,
          4,
          3,
          6,
          3,
          10,
          1,
          8,
          10,
          9,
          8,
          9,
          3,
          5,
          8,
          7,
          0,
          5,
          9,
          3,
          2,
          6,
          4,
          1,
          5,
          3,
          6,
          6,
          6,
          7,
          3,
          8,
          4,
          2,
          5,
          3,
          10,
          4,
          2,
          3,
          8,
          1,
          4,
          9,
          4,
          4,
          5,
          8,
          8,
          4,
          4,
          4,
          3,
          1,
          3,
          2,
          3,
          5,
          4,
          0,
          6,
          7,
          5,
          3,
          9,
          6,
          3,
          4,
          8,
          7,
          8,
          6,
          9,
          7,
          9,
          9,
          1,
          7,
          9,
          7,
          0,
          6,
          5,
          4,
          3,
          3,
          3,
          5,
          5,
          6,
          5,
          2,
          3,
          2,
          4,
          2,
          3,
          4,
          1,
          8,
          9,
          10,
          7,
          8,
          2,
          7,
          4,
          5,
          4,
          3,
          4,
          4,
          4,
          3,
          0,
          2,
          1,
          3,
          6,
          5,
          4,
          4,
          6,
          8,
          6,
          4,
          4,
          2,
          3,
          6,
          9,
          6,
          5,
          4,
          4,
          5,
          6,
          4,
          5,
          7,
          4,
          4,
          8,
          5,
          9,
          5,
          3,
          2,
          3,
          9,
          10,
          9,
          7,
          4,
          9,
          6,
          7,
          9,
          3,
          10,
          10,
          7,
          6,
          8,
          9,
          5,
          6,
          4,
          5,
          8,
          4,
          4,
          7,
          2,
          3,
          1,
          6,
          8,
          9,
          4,
          9,
          1,
          5,
          10,
          3,
          2,
          3,
          4,
          2,
          2,
          6,
          2,
          3,
          2,
          5,
          6,
          4,
          5,
          6,
          4,
          5,
          6,
          2,
          8,
          3,
          4,
          2,
          2,
          3,
          4,
          5,
          4,
          5,
          5,
          3,
          5,
          3,
          0,
          4,
          7,
          3,
          3,
          5,
          6,
          7,
          7,
          10,
          2,
          4,
          4,
          3,
          2,
          9,
          3,
          1,
          8,
          7,
          10,
          3,
          6,
          0,
          5,
          0,
          8,
          8,
          7,
          5,
          4,
          0,
          7,
          8,
          8,
          5,
          9,
          3,
          10,
          6,
          2,
          6,
          4,
          7,
          8,
          8,
          7,
          2,
          4,
          7,
          7,
          5,
          3,
          4,
          4,
          6,
          0,
          2,
          4,
          8,
          4,
          2,
          5,
          5,
          2,
          4,
          3,
          4,
          10,
          7,
          5,
          5,
          6,
          4,
          3,
          4,
          2,
          6,
          6,
          3,
          2,
          5,
          1,
          5,
          1,
          8,
          5,
          8,
          4,
          2,
          3,
          2,
          2,
          4,
          2,
          4,
          2,
          4,
          2,
          3,
          2,
          4,
          4,
          5,
          4,
          5,
          2,
          3,
          5,
          2,
          3,
          5,
          3,
          2,
          5,
          2,
          3,
          2,
          2,
          8,
          4,
          3,
          3,
          2,
          6,
          4,
          2,
          3,
          6,
          4,
          3,
          5,
          5,
          4,
          3,
          3,
          1,
          5,
          3,
          4,
          4,
          3,
          3,
          5,
          8,
          5,
          2,
          4,
          3,
          4,
          4,
          7,
          2,
          4,
          5,
          4,
          4,
          6,
          1,
          4,
          2,
          5,
          4,
          8,
          4,
          2,
          6,
          9,
          10,
          3,
          8,
          3,
          2,
          5,
          6,
          4,
          2,
          6,
          2,
          6,
          7,
          7,
          3,
          7,
          2,
          9,
          5,
          3,
          3,
          7,
          4,
          3,
          3,
          4,
          1,
          8,
          6,
          1,
          1,
          6,
          3,
          8,
          3,
          7,
          5,
          10,
          1,
          3,
          7,
          4,
          3,
          4,
          3,
          0,
          2,
          4,
          1,
          4,
          2,
          2,
          6,
          5,
          3,
          9,
          7,
          4,
          5,
          7,
          0,
          5,
          10,
          6,
          3,
          3,
          8,
          8,
          3,
          5,
          8,
          4,
          6,
          8,
          6,
          4,
          4,
          10,
          2,
          8,
          9,
          4,
          3,
          9,
          9,
          4,
          7,
          3,
          3,
          8,
          7,
          7,
          6,
          8,
          4,
          4,
          3,
          10,
          2,
          2,
          4,
          4,
          9,
          4,
          3,
          2,
          5,
          4,
          6,
          9,
          1,
          9,
          9,
          9,
          7,
          4,
          5,
          6,
          10,
          2,
          3,
          1,
          7,
          9,
          4,
          3,
          4,
          9,
          6,
          9,
          8,
          6,
          4,
          4,
          2,
          4,
          4,
          9,
          3,
          4,
          3,
          3,
          10,
          4,
          4,
          8,
          9,
          8,
          3,
          2,
          4,
          6,
          7,
          7,
          5,
          10,
          9,
          9,
          3,
          5,
          6,
          10,
          1,
          4,
          3,
          4,
          5,
          3,
          6,
          3,
          3,
          2,
          2,
          3,
          4,
          3,
          1,
          1,
          4,
          5,
          4,
          5,
          1,
          5,
          6,
          3,
          4,
          2,
          4,
          4,
          7,
          4,
          7,
          3,
          6,
          3,
          3,
          5,
          6,
          6,
          2,
          2,
          6,
          7,
          4,
          0,
          10,
          5,
          7,
          4,
          7,
          2,
          1,
          6,
          7,
          4,
          5,
          4,
          3,
          2,
          3,
          1,
          10,
          9,
          5,
          5,
          5,
          3,
          8,
          8,
          9,
          5,
          4,
          3,
          9,
          1,
          3,
          4,
          10,
          9,
          7,
          8,
          8,
          6,
          5,
          4,
          3,
          8,
          10,
          10,
          9,
          3,
          4,
          4,
          7,
          5,
          9,
          8,
          7,
          1,
          4,
          8,
          4,
          7,
          5,
          9,
          6,
          10,
          7,
          3,
          7,
          6,
          8
         ],
         "xaxis": "x",
         "yaxis": "y"
        },
        {
         "alignmentgroup": "True",
         "hovertemplate": "variable=result<br>value=%{x}<extra></extra>",
         "legendgroup": "result",
         "marker": {
          "color": "#636efa"
         },
         "name": "result",
         "notched": true,
         "offsetgroup": "result",
         "showlegend": false,
         "type": "box",
         "x": [
          6,
          5,
          8,
          6,
          2,
          9,
          2,
          5,
          6,
          8,
          10,
          6,
          6,
          4,
          4,
          6,
          5,
          2,
          3,
          3,
          3,
          0,
          5,
          2,
          5,
          3,
          1,
          1,
          1,
          4,
          0,
          7,
          4,
          10,
          10,
          1,
          6,
          6,
          7,
          8,
          7,
          2,
          3,
          4,
          8,
          7,
          5,
          4,
          3,
          6,
          3,
          10,
          1,
          8,
          10,
          9,
          8,
          9,
          3,
          5,
          8,
          7,
          0,
          5,
          9,
          3,
          2,
          6,
          4,
          1,
          5,
          3,
          6,
          6,
          6,
          7,
          3,
          8,
          4,
          2,
          5,
          3,
          10,
          4,
          2,
          3,
          8,
          1,
          4,
          9,
          4,
          4,
          5,
          8,
          8,
          4,
          4,
          4,
          3,
          1,
          3,
          2,
          3,
          5,
          4,
          0,
          6,
          7,
          5,
          3,
          9,
          6,
          3,
          4,
          8,
          7,
          8,
          6,
          9,
          7,
          9,
          9,
          1,
          7,
          9,
          7,
          0,
          6,
          5,
          4,
          3,
          3,
          3,
          5,
          5,
          6,
          5,
          2,
          3,
          2,
          4,
          2,
          3,
          4,
          1,
          8,
          9,
          10,
          7,
          8,
          2,
          7,
          4,
          5,
          4,
          3,
          4,
          4,
          4,
          3,
          0,
          2,
          1,
          3,
          6,
          5,
          4,
          4,
          6,
          8,
          6,
          4,
          4,
          2,
          3,
          6,
          9,
          6,
          5,
          4,
          4,
          5,
          6,
          4,
          5,
          7,
          4,
          4,
          8,
          5,
          9,
          5,
          3,
          2,
          3,
          9,
          10,
          9,
          7,
          4,
          9,
          6,
          7,
          9,
          3,
          10,
          10,
          7,
          6,
          8,
          9,
          5,
          6,
          4,
          5,
          8,
          4,
          4,
          7,
          2,
          3,
          1,
          6,
          8,
          9,
          4,
          9,
          1,
          5,
          10,
          3,
          2,
          3,
          4,
          2,
          2,
          6,
          2,
          3,
          2,
          5,
          6,
          4,
          5,
          6,
          4,
          5,
          6,
          2,
          8,
          3,
          4,
          2,
          2,
          3,
          4,
          5,
          4,
          5,
          5,
          3,
          5,
          3,
          0,
          4,
          7,
          3,
          3,
          5,
          6,
          7,
          7,
          10,
          2,
          4,
          4,
          3,
          2,
          9,
          3,
          1,
          8,
          7,
          10,
          3,
          6,
          0,
          5,
          0,
          8,
          8,
          7,
          5,
          4,
          0,
          7,
          8,
          8,
          5,
          9,
          3,
          10,
          6,
          2,
          6,
          4,
          7,
          8,
          8,
          7,
          2,
          4,
          7,
          7,
          5,
          3,
          4,
          4,
          6,
          0,
          2,
          4,
          8,
          4,
          2,
          5,
          5,
          2,
          4,
          3,
          4,
          10,
          7,
          5,
          5,
          6,
          4,
          3,
          4,
          2,
          6,
          6,
          3,
          2,
          5,
          1,
          5,
          1,
          8,
          5,
          8,
          4,
          2,
          3,
          2,
          2,
          4,
          2,
          4,
          2,
          4,
          2,
          3,
          2,
          4,
          4,
          5,
          4,
          5,
          2,
          3,
          5,
          2,
          3,
          5,
          3,
          2,
          5,
          2,
          3,
          2,
          2,
          8,
          4,
          3,
          3,
          2,
          6,
          4,
          2,
          3,
          6,
          4,
          3,
          5,
          5,
          4,
          3,
          3,
          1,
          5,
          3,
          4,
          4,
          3,
          3,
          5,
          8,
          5,
          2,
          4,
          3,
          4,
          4,
          7,
          2,
          4,
          5,
          4,
          4,
          6,
          1,
          4,
          2,
          5,
          4,
          8,
          4,
          2,
          6,
          9,
          10,
          3,
          8,
          3,
          2,
          5,
          6,
          4,
          2,
          6,
          2,
          6,
          7,
          7,
          3,
          7,
          2,
          9,
          5,
          3,
          3,
          7,
          4,
          3,
          3,
          4,
          1,
          8,
          6,
          1,
          1,
          6,
          3,
          8,
          3,
          7,
          5,
          10,
          1,
          3,
          7,
          4,
          3,
          4,
          3,
          0,
          2,
          4,
          1,
          4,
          2,
          2,
          6,
          5,
          3,
          9,
          7,
          4,
          5,
          7,
          0,
          5,
          10,
          6,
          3,
          3,
          8,
          8,
          3,
          5,
          8,
          4,
          6,
          8,
          6,
          4,
          4,
          10,
          2,
          8,
          9,
          4,
          3,
          9,
          9,
          4,
          7,
          3,
          3,
          8,
          7,
          7,
          6,
          8,
          4,
          4,
          3,
          10,
          2,
          2,
          4,
          4,
          9,
          4,
          3,
          2,
          5,
          4,
          6,
          9,
          1,
          9,
          9,
          9,
          7,
          4,
          5,
          6,
          10,
          2,
          3,
          1,
          7,
          9,
          4,
          3,
          4,
          9,
          6,
          9,
          8,
          6,
          4,
          4,
          2,
          4,
          4,
          9,
          3,
          4,
          3,
          3,
          10,
          4,
          4,
          8,
          9,
          8,
          3,
          2,
          4,
          6,
          7,
          7,
          5,
          10,
          9,
          9,
          3,
          5,
          6,
          10,
          1,
          4,
          3,
          4,
          5,
          3,
          6,
          3,
          3,
          2,
          2,
          3,
          4,
          3,
          1,
          1,
          4,
          5,
          4,
          5,
          1,
          5,
          6,
          3,
          4,
          2,
          4,
          4,
          7,
          4,
          7,
          3,
          6,
          3,
          3,
          5,
          6,
          6,
          2,
          2,
          6,
          7,
          4,
          0,
          10,
          5,
          7,
          4,
          7,
          2,
          1,
          6,
          7,
          4,
          5,
          4,
          3,
          2,
          3,
          1,
          10,
          9,
          5,
          5,
          5,
          3,
          8,
          8,
          9,
          5,
          4,
          3,
          9,
          1,
          3,
          4,
          10,
          9,
          7,
          8,
          8,
          6,
          5,
          4,
          3,
          8,
          10,
          10,
          9,
          3,
          4,
          4,
          7,
          5,
          9,
          8,
          7,
          1,
          4,
          8,
          4,
          7,
          5,
          9,
          6,
          10,
          7,
          3,
          7,
          6,
          8
         ],
         "xaxis": "x2",
         "yaxis": "y2"
        }
       ],
       "layout": {
        "barmode": "relative",
        "legend": {
         "title": {
          "text": "variable"
         },
         "tracegroupgap": 0
        },
        "margin": {
         "t": 60
        },
        "template": {
         "data": {
          "bar": [
           {
            "error_x": {
             "color": "#2a3f5f"
            },
            "error_y": {
             "color": "#2a3f5f"
            },
            "marker": {
             "line": {
              "color": "#E5ECF6",
              "width": 0.5
             },
             "pattern": {
              "fillmode": "overlay",
              "size": 10,
              "solidity": 0.2
             }
            },
            "type": "bar"
           }
          ],
          "barpolar": [
           {
            "marker": {
             "line": {
              "color": "#E5ECF6",
              "width": 0.5
             },
             "pattern": {
              "fillmode": "overlay",
              "size": 10,
              "solidity": 0.2
             }
            },
            "type": "barpolar"
           }
          ],
          "carpet": [
           {
            "aaxis": {
             "endlinecolor": "#2a3f5f",
             "gridcolor": "white",
             "linecolor": "white",
             "minorgridcolor": "white",
             "startlinecolor": "#2a3f5f"
            },
            "baxis": {
             "endlinecolor": "#2a3f5f",
             "gridcolor": "white",
             "linecolor": "white",
             "minorgridcolor": "white",
             "startlinecolor": "#2a3f5f"
            },
            "type": "carpet"
           }
          ],
          "choropleth": [
           {
            "colorbar": {
             "outlinewidth": 0,
             "ticks": ""
            },
            "type": "choropleth"
           }
          ],
          "contour": [
           {
            "colorbar": {
             "outlinewidth": 0,
             "ticks": ""
            },
            "colorscale": [
             [
              0,
              "#0d0887"
             ],
             [
              0.1111111111111111,
              "#46039f"
             ],
             [
              0.2222222222222222,
              "#7201a8"
             ],
             [
              0.3333333333333333,
              "#9c179e"
             ],
             [
              0.4444444444444444,
              "#bd3786"
             ],
             [
              0.5555555555555556,
              "#d8576b"
             ],
             [
              0.6666666666666666,
              "#ed7953"
             ],
             [
              0.7777777777777778,
              "#fb9f3a"
             ],
             [
              0.8888888888888888,
              "#fdca26"
             ],
             [
              1,
              "#f0f921"
             ]
            ],
            "type": "contour"
           }
          ],
          "contourcarpet": [
           {
            "colorbar": {
             "outlinewidth": 0,
             "ticks": ""
            },
            "type": "contourcarpet"
           }
          ],
          "heatmap": [
           {
            "colorbar": {
             "outlinewidth": 0,
             "ticks": ""
            },
            "colorscale": [
             [
              0,
              "#0d0887"
             ],
             [
              0.1111111111111111,
              "#46039f"
             ],
             [
              0.2222222222222222,
              "#7201a8"
             ],
             [
              0.3333333333333333,
              "#9c179e"
             ],
             [
              0.4444444444444444,
              "#bd3786"
             ],
             [
              0.5555555555555556,
              "#d8576b"
             ],
             [
              0.6666666666666666,
              "#ed7953"
             ],
             [
              0.7777777777777778,
              "#fb9f3a"
             ],
             [
              0.8888888888888888,
              "#fdca26"
             ],
             [
              1,
              "#f0f921"
             ]
            ],
            "type": "heatmap"
           }
          ],
          "heatmapgl": [
           {
            "colorbar": {
             "outlinewidth": 0,
             "ticks": ""
            },
            "colorscale": [
             [
              0,
              "#0d0887"
             ],
             [
              0.1111111111111111,
              "#46039f"
             ],
             [
              0.2222222222222222,
              "#7201a8"
             ],
             [
              0.3333333333333333,
              "#9c179e"
             ],
             [
              0.4444444444444444,
              "#bd3786"
             ],
             [
              0.5555555555555556,
              "#d8576b"
             ],
             [
              0.6666666666666666,
              "#ed7953"
             ],
             [
              0.7777777777777778,
              "#fb9f3a"
             ],
             [
              0.8888888888888888,
              "#fdca26"
             ],
             [
              1,
              "#f0f921"
             ]
            ],
            "type": "heatmapgl"
           }
          ],
          "histogram": [
           {
            "marker": {
             "pattern": {
              "fillmode": "overlay",
              "size": 10,
              "solidity": 0.2
             }
            },
            "type": "histogram"
           }
          ],
          "histogram2d": [
           {
            "colorbar": {
             "outlinewidth": 0,
             "ticks": ""
            },
            "colorscale": [
             [
              0,
              "#0d0887"
             ],
             [
              0.1111111111111111,
              "#46039f"
             ],
             [
              0.2222222222222222,
              "#7201a8"
             ],
             [
              0.3333333333333333,
              "#9c179e"
             ],
             [
              0.4444444444444444,
              "#bd3786"
             ],
             [
              0.5555555555555556,
              "#d8576b"
             ],
             [
              0.6666666666666666,
              "#ed7953"
             ],
             [
              0.7777777777777778,
              "#fb9f3a"
             ],
             [
              0.8888888888888888,
              "#fdca26"
             ],
             [
              1,
              "#f0f921"
             ]
            ],
            "type": "histogram2d"
           }
          ],
          "histogram2dcontour": [
           {
            "colorbar": {
             "outlinewidth": 0,
             "ticks": ""
            },
            "colorscale": [
             [
              0,
              "#0d0887"
             ],
             [
              0.1111111111111111,
              "#46039f"
             ],
             [
              0.2222222222222222,
              "#7201a8"
             ],
             [
              0.3333333333333333,
              "#9c179e"
             ],
             [
              0.4444444444444444,
              "#bd3786"
             ],
             [
              0.5555555555555556,
              "#d8576b"
             ],
             [
              0.6666666666666666,
              "#ed7953"
             ],
             [
              0.7777777777777778,
              "#fb9f3a"
             ],
             [
              0.8888888888888888,
              "#fdca26"
             ],
             [
              1,
              "#f0f921"
             ]
            ],
            "type": "histogram2dcontour"
           }
          ],
          "mesh3d": [
           {
            "colorbar": {
             "outlinewidth": 0,
             "ticks": ""
            },
            "type": "mesh3d"
           }
          ],
          "parcoords": [
           {
            "line": {
             "colorbar": {
              "outlinewidth": 0,
              "ticks": ""
             }
            },
            "type": "parcoords"
           }
          ],
          "pie": [
           {
            "automargin": true,
            "type": "pie"
           }
          ],
          "scatter": [
           {
            "fillpattern": {
             "fillmode": "overlay",
             "size": 10,
             "solidity": 0.2
            },
            "type": "scatter"
           }
          ],
          "scatter3d": [
           {
            "line": {
             "colorbar": {
              "outlinewidth": 0,
              "ticks": ""
             }
            },
            "marker": {
             "colorbar": {
              "outlinewidth": 0,
              "ticks": ""
             }
            },
            "type": "scatter3d"
           }
          ],
          "scattercarpet": [
           {
            "marker": {
             "colorbar": {
              "outlinewidth": 0,
              "ticks": ""
             }
            },
            "type": "scattercarpet"
           }
          ],
          "scattergeo": [
           {
            "marker": {
             "colorbar": {
              "outlinewidth": 0,
              "ticks": ""
             }
            },
            "type": "scattergeo"
           }
          ],
          "scattergl": [
           {
            "marker": {
             "colorbar": {
              "outlinewidth": 0,
              "ticks": ""
             }
            },
            "type": "scattergl"
           }
          ],
          "scattermapbox": [
           {
            "marker": {
             "colorbar": {
              "outlinewidth": 0,
              "ticks": ""
             }
            },
            "type": "scattermapbox"
           }
          ],
          "scatterpolar": [
           {
            "marker": {
             "colorbar": {
              "outlinewidth": 0,
              "ticks": ""
             }
            },
            "type": "scatterpolar"
           }
          ],
          "scatterpolargl": [
           {
            "marker": {
             "colorbar": {
              "outlinewidth": 0,
              "ticks": ""
             }
            },
            "type": "scatterpolargl"
           }
          ],
          "scatterternary": [
           {
            "marker": {
             "colorbar": {
              "outlinewidth": 0,
              "ticks": ""
             }
            },
            "type": "scatterternary"
           }
          ],
          "surface": [
           {
            "colorbar": {
             "outlinewidth": 0,
             "ticks": ""
            },
            "colorscale": [
             [
              0,
              "#0d0887"
             ],
             [
              0.1111111111111111,
              "#46039f"
             ],
             [
              0.2222222222222222,
              "#7201a8"
             ],
             [
              0.3333333333333333,
              "#9c179e"
             ],
             [
              0.4444444444444444,
              "#bd3786"
             ],
             [
              0.5555555555555556,
              "#d8576b"
             ],
             [
              0.6666666666666666,
              "#ed7953"
             ],
             [
              0.7777777777777778,
              "#fb9f3a"
             ],
             [
              0.8888888888888888,
              "#fdca26"
             ],
             [
              1,
              "#f0f921"
             ]
            ],
            "type": "surface"
           }
          ],
          "table": [
           {
            "cells": {
             "fill": {
              "color": "#EBF0F8"
             },
             "line": {
              "color": "white"
             }
            },
            "header": {
             "fill": {
              "color": "#C8D4E3"
             },
             "line": {
              "color": "white"
             }
            },
            "type": "table"
           }
          ]
         },
         "layout": {
          "annotationdefaults": {
           "arrowcolor": "#2a3f5f",
           "arrowhead": 0,
           "arrowwidth": 1
          },
          "autotypenumbers": "strict",
          "coloraxis": {
           "colorbar": {
            "outlinewidth": 0,
            "ticks": ""
           }
          },
          "colorscale": {
           "diverging": [
            [
             0,
             "#8e0152"
            ],
            [
             0.1,
             "#c51b7d"
            ],
            [
             0.2,
             "#de77ae"
            ],
            [
             0.3,
             "#f1b6da"
            ],
            [
             0.4,
             "#fde0ef"
            ],
            [
             0.5,
             "#f7f7f7"
            ],
            [
             0.6,
             "#e6f5d0"
            ],
            [
             0.7,
             "#b8e186"
            ],
            [
             0.8,
             "#7fbc41"
            ],
            [
             0.9,
             "#4d9221"
            ],
            [
             1,
             "#276419"
            ]
           ],
           "sequential": [
            [
             0,
             "#0d0887"
            ],
            [
             0.1111111111111111,
             "#46039f"
            ],
            [
             0.2222222222222222,
             "#7201a8"
            ],
            [
             0.3333333333333333,
             "#9c179e"
            ],
            [
             0.4444444444444444,
             "#bd3786"
            ],
            [
             0.5555555555555556,
             "#d8576b"
            ],
            [
             0.6666666666666666,
             "#ed7953"
            ],
            [
             0.7777777777777778,
             "#fb9f3a"
            ],
            [
             0.8888888888888888,
             "#fdca26"
            ],
            [
             1,
             "#f0f921"
            ]
           ],
           "sequentialminus": [
            [
             0,
             "#0d0887"
            ],
            [
             0.1111111111111111,
             "#46039f"
            ],
            [
             0.2222222222222222,
             "#7201a8"
            ],
            [
             0.3333333333333333,
             "#9c179e"
            ],
            [
             0.4444444444444444,
             "#bd3786"
            ],
            [
             0.5555555555555556,
             "#d8576b"
            ],
            [
             0.6666666666666666,
             "#ed7953"
            ],
            [
             0.7777777777777778,
             "#fb9f3a"
            ],
            [
             0.8888888888888888,
             "#fdca26"
            ],
            [
             1,
             "#f0f921"
            ]
           ]
          },
          "colorway": [
           "#636efa",
           "#EF553B",
           "#00cc96",
           "#ab63fa",
           "#FFA15A",
           "#19d3f3",
           "#FF6692",
           "#B6E880",
           "#FF97FF",
           "#FECB52"
          ],
          "font": {
           "color": "#2a3f5f"
          },
          "geo": {
           "bgcolor": "white",
           "lakecolor": "white",
           "landcolor": "#E5ECF6",
           "showlakes": true,
           "showland": true,
           "subunitcolor": "white"
          },
          "hoverlabel": {
           "align": "left"
          },
          "hovermode": "closest",
          "mapbox": {
           "style": "light"
          },
          "paper_bgcolor": "white",
          "plot_bgcolor": "#E5ECF6",
          "polar": {
           "angularaxis": {
            "gridcolor": "white",
            "linecolor": "white",
            "ticks": ""
           },
           "bgcolor": "#E5ECF6",
           "radialaxis": {
            "gridcolor": "white",
            "linecolor": "white",
            "ticks": ""
           }
          },
          "scene": {
           "xaxis": {
            "backgroundcolor": "#E5ECF6",
            "gridcolor": "white",
            "gridwidth": 2,
            "linecolor": "white",
            "showbackground": true,
            "ticks": "",
            "zerolinecolor": "white"
           },
           "yaxis": {
            "backgroundcolor": "#E5ECF6",
            "gridcolor": "white",
            "gridwidth": 2,
            "linecolor": "white",
            "showbackground": true,
            "ticks": "",
            "zerolinecolor": "white"
           },
           "zaxis": {
            "backgroundcolor": "#E5ECF6",
            "gridcolor": "white",
            "gridwidth": 2,
            "linecolor": "white",
            "showbackground": true,
            "ticks": "",
            "zerolinecolor": "white"
           }
          },
          "shapedefaults": {
           "line": {
            "color": "#2a3f5f"
           }
          },
          "ternary": {
           "aaxis": {
            "gridcolor": "white",
            "linecolor": "white",
            "ticks": ""
           },
           "baxis": {
            "gridcolor": "white",
            "linecolor": "white",
            "ticks": ""
           },
           "bgcolor": "#E5ECF6",
           "caxis": {
            "gridcolor": "white",
            "linecolor": "white",
            "ticks": ""
           }
          },
          "title": {
           "x": 0.05
          },
          "xaxis": {
           "automargin": true,
           "gridcolor": "white",
           "linecolor": "white",
           "ticks": "",
           "title": {
            "standoff": 15
           },
           "zerolinecolor": "white",
           "zerolinewidth": 2
          },
          "yaxis": {
           "automargin": true,
           "gridcolor": "white",
           "linecolor": "white",
           "ticks": "",
           "title": {
            "standoff": 15
           },
           "zerolinecolor": "white",
           "zerolinewidth": 2
          }
         }
        },
        "xaxis": {
         "anchor": "y",
         "domain": [
          0,
          1
         ],
         "title": {
          "text": "value"
         }
        },
        "xaxis2": {
         "anchor": "y2",
         "domain": [
          0,
          1
         ],
         "matches": "x",
         "showgrid": true,
         "showticklabels": false
        },
        "yaxis": {
         "anchor": "x",
         "domain": [
          0,
          0.7326
         ],
         "title": {
          "text": "count"
         }
        },
        "yaxis2": {
         "anchor": "x2",
         "domain": [
          0.7426,
          1
         ],
         "matches": "y2",
         "showgrid": false,
         "showline": false,
         "showticklabels": false,
         "ticks": ""
        }
       }
      },
      "text/html": [
       "<div>                            <div id=\"9343c0a1-b96c-47ce-9bb1-0860f0956a6e\" class=\"plotly-graph-div\" style=\"height:525px; width:100%;\"></div>            <script type=\"text/javascript\">                require([\"plotly\"], function(Plotly) {                    window.PLOTLYENV=window.PLOTLYENV || {};                                    if (document.getElementById(\"9343c0a1-b96c-47ce-9bb1-0860f0956a6e\")) {                    Plotly.newPlot(                        \"9343c0a1-b96c-47ce-9bb1-0860f0956a6e\",                        [{\"alignmentgroup\":\"True\",\"bingroup\":\"x\",\"hovertemplate\":\"variable=result<br>value=%{x}<br>count=%{y}<extra></extra>\",\"legendgroup\":\"result\",\"marker\":{\"color\":\"#636efa\",\"pattern\":{\"shape\":\"\"}},\"name\":\"result\",\"offsetgroup\":\"result\",\"orientation\":\"v\",\"showlegend\":true,\"x\":[6,5,8,6,2,9,2,5,6,8,10,6,6,4,4,6,5,2,3,3,3,0,5,2,5,3,1,1,1,4,0,7,4,10,10,1,6,6,7,8,7,2,3,4,8,7,5,4,3,6,3,10,1,8,10,9,8,9,3,5,8,7,0,5,9,3,2,6,4,1,5,3,6,6,6,7,3,8,4,2,5,3,10,4,2,3,8,1,4,9,4,4,5,8,8,4,4,4,3,1,3,2,3,5,4,0,6,7,5,3,9,6,3,4,8,7,8,6,9,7,9,9,1,7,9,7,0,6,5,4,3,3,3,5,5,6,5,2,3,2,4,2,3,4,1,8,9,10,7,8,2,7,4,5,4,3,4,4,4,3,0,2,1,3,6,5,4,4,6,8,6,4,4,2,3,6,9,6,5,4,4,5,6,4,5,7,4,4,8,5,9,5,3,2,3,9,10,9,7,4,9,6,7,9,3,10,10,7,6,8,9,5,6,4,5,8,4,4,7,2,3,1,6,8,9,4,9,1,5,10,3,2,3,4,2,2,6,2,3,2,5,6,4,5,6,4,5,6,2,8,3,4,2,2,3,4,5,4,5,5,3,5,3,0,4,7,3,3,5,6,7,7,10,2,4,4,3,2,9,3,1,8,7,10,3,6,0,5,0,8,8,7,5,4,0,7,8,8,5,9,3,10,6,2,6,4,7,8,8,7,2,4,7,7,5,3,4,4,6,0,2,4,8,4,2,5,5,2,4,3,4,10,7,5,5,6,4,3,4,2,6,6,3,2,5,1,5,1,8,5,8,4,2,3,2,2,4,2,4,2,4,2,3,2,4,4,5,4,5,2,3,5,2,3,5,3,2,5,2,3,2,2,8,4,3,3,2,6,4,2,3,6,4,3,5,5,4,3,3,1,5,3,4,4,3,3,5,8,5,2,4,3,4,4,7,2,4,5,4,4,6,1,4,2,5,4,8,4,2,6,9,10,3,8,3,2,5,6,4,2,6,2,6,7,7,3,7,2,9,5,3,3,7,4,3,3,4,1,8,6,1,1,6,3,8,3,7,5,10,1,3,7,4,3,4,3,0,2,4,1,4,2,2,6,5,3,9,7,4,5,7,0,5,10,6,3,3,8,8,3,5,8,4,6,8,6,4,4,10,2,8,9,4,3,9,9,4,7,3,3,8,7,7,6,8,4,4,3,10,2,2,4,4,9,4,3,2,5,4,6,9,1,9,9,9,7,4,5,6,10,2,3,1,7,9,4,3,4,9,6,9,8,6,4,4,2,4,4,9,3,4,3,3,10,4,4,8,9,8,3,2,4,6,7,7,5,10,9,9,3,5,6,10,1,4,3,4,5,3,6,3,3,2,2,3,4,3,1,1,4,5,4,5,1,5,6,3,4,2,4,4,7,4,7,3,6,3,3,5,6,6,2,2,6,7,4,0,10,5,7,4,7,2,1,6,7,4,5,4,3,2,3,1,10,9,5,5,5,3,8,8,9,5,4,3,9,1,3,4,10,9,7,8,8,6,5,4,3,8,10,10,9,3,4,4,7,5,9,8,7,1,4,8,4,7,5,9,6,10,7,3,7,6,8],\"xaxis\":\"x\",\"yaxis\":\"y\",\"type\":\"histogram\"},{\"alignmentgroup\":\"True\",\"hovertemplate\":\"variable=result<br>value=%{x}<extra></extra>\",\"legendgroup\":\"result\",\"marker\":{\"color\":\"#636efa\"},\"name\":\"result\",\"notched\":true,\"offsetgroup\":\"result\",\"showlegend\":false,\"x\":[6,5,8,6,2,9,2,5,6,8,10,6,6,4,4,6,5,2,3,3,3,0,5,2,5,3,1,1,1,4,0,7,4,10,10,1,6,6,7,8,7,2,3,4,8,7,5,4,3,6,3,10,1,8,10,9,8,9,3,5,8,7,0,5,9,3,2,6,4,1,5,3,6,6,6,7,3,8,4,2,5,3,10,4,2,3,8,1,4,9,4,4,5,8,8,4,4,4,3,1,3,2,3,5,4,0,6,7,5,3,9,6,3,4,8,7,8,6,9,7,9,9,1,7,9,7,0,6,5,4,3,3,3,5,5,6,5,2,3,2,4,2,3,4,1,8,9,10,7,8,2,7,4,5,4,3,4,4,4,3,0,2,1,3,6,5,4,4,6,8,6,4,4,2,3,6,9,6,5,4,4,5,6,4,5,7,4,4,8,5,9,5,3,2,3,9,10,9,7,4,9,6,7,9,3,10,10,7,6,8,9,5,6,4,5,8,4,4,7,2,3,1,6,8,9,4,9,1,5,10,3,2,3,4,2,2,6,2,3,2,5,6,4,5,6,4,5,6,2,8,3,4,2,2,3,4,5,4,5,5,3,5,3,0,4,7,3,3,5,6,7,7,10,2,4,4,3,2,9,3,1,8,7,10,3,6,0,5,0,8,8,7,5,4,0,7,8,8,5,9,3,10,6,2,6,4,7,8,8,7,2,4,7,7,5,3,4,4,6,0,2,4,8,4,2,5,5,2,4,3,4,10,7,5,5,6,4,3,4,2,6,6,3,2,5,1,5,1,8,5,8,4,2,3,2,2,4,2,4,2,4,2,3,2,4,4,5,4,5,2,3,5,2,3,5,3,2,5,2,3,2,2,8,4,3,3,2,6,4,2,3,6,4,3,5,5,4,3,3,1,5,3,4,4,3,3,5,8,5,2,4,3,4,4,7,2,4,5,4,4,6,1,4,2,5,4,8,4,2,6,9,10,3,8,3,2,5,6,4,2,6,2,6,7,7,3,7,2,9,5,3,3,7,4,3,3,4,1,8,6,1,1,6,3,8,3,7,5,10,1,3,7,4,3,4,3,0,2,4,1,4,2,2,6,5,3,9,7,4,5,7,0,5,10,6,3,3,8,8,3,5,8,4,6,8,6,4,4,10,2,8,9,4,3,9,9,4,7,3,3,8,7,7,6,8,4,4,3,10,2,2,4,4,9,4,3,2,5,4,6,9,1,9,9,9,7,4,5,6,10,2,3,1,7,9,4,3,4,9,6,9,8,6,4,4,2,4,4,9,3,4,3,3,10,4,4,8,9,8,3,2,4,6,7,7,5,10,9,9,3,5,6,10,1,4,3,4,5,3,6,3,3,2,2,3,4,3,1,1,4,5,4,5,1,5,6,3,4,2,4,4,7,4,7,3,6,3,3,5,6,6,2,2,6,7,4,0,10,5,7,4,7,2,1,6,7,4,5,4,3,2,3,1,10,9,5,5,5,3,8,8,9,5,4,3,9,1,3,4,10,9,7,8,8,6,5,4,3,8,10,10,9,3,4,4,7,5,9,8,7,1,4,8,4,7,5,9,6,10,7,3,7,6,8],\"xaxis\":\"x2\",\"yaxis\":\"y2\",\"type\":\"box\"}],                        {\"template\":{\"data\":{\"histogram2dcontour\":[{\"type\":\"histogram2dcontour\",\"colorbar\":{\"outlinewidth\":0,\"ticks\":\"\"},\"colorscale\":[[0.0,\"#0d0887\"],[0.1111111111111111,\"#46039f\"],[0.2222222222222222,\"#7201a8\"],[0.3333333333333333,\"#9c179e\"],[0.4444444444444444,\"#bd3786\"],[0.5555555555555556,\"#d8576b\"],[0.6666666666666666,\"#ed7953\"],[0.7777777777777778,\"#fb9f3a\"],[0.8888888888888888,\"#fdca26\"],[1.0,\"#f0f921\"]]}],\"choropleth\":[{\"type\":\"choropleth\",\"colorbar\":{\"outlinewidth\":0,\"ticks\":\"\"}}],\"histogram2d\":[{\"type\":\"histogram2d\",\"colorbar\":{\"outlinewidth\":0,\"ticks\":\"\"},\"colorscale\":[[0.0,\"#0d0887\"],[0.1111111111111111,\"#46039f\"],[0.2222222222222222,\"#7201a8\"],[0.3333333333333333,\"#9c179e\"],[0.4444444444444444,\"#bd3786\"],[0.5555555555555556,\"#d8576b\"],[0.6666666666666666,\"#ed7953\"],[0.7777777777777778,\"#fb9f3a\"],[0.8888888888888888,\"#fdca26\"],[1.0,\"#f0f921\"]]}],\"heatmap\":[{\"type\":\"heatmap\",\"colorbar\":{\"outlinewidth\":0,\"ticks\":\"\"},\"colorscale\":[[0.0,\"#0d0887\"],[0.1111111111111111,\"#46039f\"],[0.2222222222222222,\"#7201a8\"],[0.3333333333333333,\"#9c179e\"],[0.4444444444444444,\"#bd3786\"],[0.5555555555555556,\"#d8576b\"],[0.6666666666666666,\"#ed7953\"],[0.7777777777777778,\"#fb9f3a\"],[0.8888888888888888,\"#fdca26\"],[1.0,\"#f0f921\"]]}],\"heatmapgl\":[{\"type\":\"heatmapgl\",\"colorbar\":{\"outlinewidth\":0,\"ticks\":\"\"},\"colorscale\":[[0.0,\"#0d0887\"],[0.1111111111111111,\"#46039f\"],[0.2222222222222222,\"#7201a8\"],[0.3333333333333333,\"#9c179e\"],[0.4444444444444444,\"#bd3786\"],[0.5555555555555556,\"#d8576b\"],[0.6666666666666666,\"#ed7953\"],[0.7777777777777778,\"#fb9f3a\"],[0.8888888888888888,\"#fdca26\"],[1.0,\"#f0f921\"]]}],\"contourcarpet\":[{\"type\":\"contourcarpet\",\"colorbar\":{\"outlinewidth\":0,\"ticks\":\"\"}}],\"contour\":[{\"type\":\"contour\",\"colorbar\":{\"outlinewidth\":0,\"ticks\":\"\"},\"colorscale\":[[0.0,\"#0d0887\"],[0.1111111111111111,\"#46039f\"],[0.2222222222222222,\"#7201a8\"],[0.3333333333333333,\"#9c179e\"],[0.4444444444444444,\"#bd3786\"],[0.5555555555555556,\"#d8576b\"],[0.6666666666666666,\"#ed7953\"],[0.7777777777777778,\"#fb9f3a\"],[0.8888888888888888,\"#fdca26\"],[1.0,\"#f0f921\"]]}],\"surface\":[{\"type\":\"surface\",\"colorbar\":{\"outlinewidth\":0,\"ticks\":\"\"},\"colorscale\":[[0.0,\"#0d0887\"],[0.1111111111111111,\"#46039f\"],[0.2222222222222222,\"#7201a8\"],[0.3333333333333333,\"#9c179e\"],[0.4444444444444444,\"#bd3786\"],[0.5555555555555556,\"#d8576b\"],[0.6666666666666666,\"#ed7953\"],[0.7777777777777778,\"#fb9f3a\"],[0.8888888888888888,\"#fdca26\"],[1.0,\"#f0f921\"]]}],\"mesh3d\":[{\"type\":\"mesh3d\",\"colorbar\":{\"outlinewidth\":0,\"ticks\":\"\"}}],\"scatter\":[{\"fillpattern\":{\"fillmode\":\"overlay\",\"size\":10,\"solidity\":0.2},\"type\":\"scatter\"}],\"parcoords\":[{\"type\":\"parcoords\",\"line\":{\"colorbar\":{\"outlinewidth\":0,\"ticks\":\"\"}}}],\"scatterpolargl\":[{\"type\":\"scatterpolargl\",\"marker\":{\"colorbar\":{\"outlinewidth\":0,\"ticks\":\"\"}}}],\"bar\":[{\"error_x\":{\"color\":\"#2a3f5f\"},\"error_y\":{\"color\":\"#2a3f5f\"},\"marker\":{\"line\":{\"color\":\"#E5ECF6\",\"width\":0.5},\"pattern\":{\"fillmode\":\"overlay\",\"size\":10,\"solidity\":0.2}},\"type\":\"bar\"}],\"scattergeo\":[{\"type\":\"scattergeo\",\"marker\":{\"colorbar\":{\"outlinewidth\":0,\"ticks\":\"\"}}}],\"scatterpolar\":[{\"type\":\"scatterpolar\",\"marker\":{\"colorbar\":{\"outlinewidth\":0,\"ticks\":\"\"}}}],\"histogram\":[{\"marker\":{\"pattern\":{\"fillmode\":\"overlay\",\"size\":10,\"solidity\":0.2}},\"type\":\"histogram\"}],\"scattergl\":[{\"type\":\"scattergl\",\"marker\":{\"colorbar\":{\"outlinewidth\":0,\"ticks\":\"\"}}}],\"scatter3d\":[{\"type\":\"scatter3d\",\"line\":{\"colorbar\":{\"outlinewidth\":0,\"ticks\":\"\"}},\"marker\":{\"colorbar\":{\"outlinewidth\":0,\"ticks\":\"\"}}}],\"scattermapbox\":[{\"type\":\"scattermapbox\",\"marker\":{\"colorbar\":{\"outlinewidth\":0,\"ticks\":\"\"}}}],\"scatterternary\":[{\"type\":\"scatterternary\",\"marker\":{\"colorbar\":{\"outlinewidth\":0,\"ticks\":\"\"}}}],\"scattercarpet\":[{\"type\":\"scattercarpet\",\"marker\":{\"colorbar\":{\"outlinewidth\":0,\"ticks\":\"\"}}}],\"carpet\":[{\"aaxis\":{\"endlinecolor\":\"#2a3f5f\",\"gridcolor\":\"white\",\"linecolor\":\"white\",\"minorgridcolor\":\"white\",\"startlinecolor\":\"#2a3f5f\"},\"baxis\":{\"endlinecolor\":\"#2a3f5f\",\"gridcolor\":\"white\",\"linecolor\":\"white\",\"minorgridcolor\":\"white\",\"startlinecolor\":\"#2a3f5f\"},\"type\":\"carpet\"}],\"table\":[{\"cells\":{\"fill\":{\"color\":\"#EBF0F8\"},\"line\":{\"color\":\"white\"}},\"header\":{\"fill\":{\"color\":\"#C8D4E3\"},\"line\":{\"color\":\"white\"}},\"type\":\"table\"}],\"barpolar\":[{\"marker\":{\"line\":{\"color\":\"#E5ECF6\",\"width\":0.5},\"pattern\":{\"fillmode\":\"overlay\",\"size\":10,\"solidity\":0.2}},\"type\":\"barpolar\"}],\"pie\":[{\"automargin\":true,\"type\":\"pie\"}]},\"layout\":{\"autotypenumbers\":\"strict\",\"colorway\":[\"#636efa\",\"#EF553B\",\"#00cc96\",\"#ab63fa\",\"#FFA15A\",\"#19d3f3\",\"#FF6692\",\"#B6E880\",\"#FF97FF\",\"#FECB52\"],\"font\":{\"color\":\"#2a3f5f\"},\"hovermode\":\"closest\",\"hoverlabel\":{\"align\":\"left\"},\"paper_bgcolor\":\"white\",\"plot_bgcolor\":\"#E5ECF6\",\"polar\":{\"bgcolor\":\"#E5ECF6\",\"angularaxis\":{\"gridcolor\":\"white\",\"linecolor\":\"white\",\"ticks\":\"\"},\"radialaxis\":{\"gridcolor\":\"white\",\"linecolor\":\"white\",\"ticks\":\"\"}},\"ternary\":{\"bgcolor\":\"#E5ECF6\",\"aaxis\":{\"gridcolor\":\"white\",\"linecolor\":\"white\",\"ticks\":\"\"},\"baxis\":{\"gridcolor\":\"white\",\"linecolor\":\"white\",\"ticks\":\"\"},\"caxis\":{\"gridcolor\":\"white\",\"linecolor\":\"white\",\"ticks\":\"\"}},\"coloraxis\":{\"colorbar\":{\"outlinewidth\":0,\"ticks\":\"\"}},\"colorscale\":{\"sequential\":[[0.0,\"#0d0887\"],[0.1111111111111111,\"#46039f\"],[0.2222222222222222,\"#7201a8\"],[0.3333333333333333,\"#9c179e\"],[0.4444444444444444,\"#bd3786\"],[0.5555555555555556,\"#d8576b\"],[0.6666666666666666,\"#ed7953\"],[0.7777777777777778,\"#fb9f3a\"],[0.8888888888888888,\"#fdca26\"],[1.0,\"#f0f921\"]],\"sequentialminus\":[[0.0,\"#0d0887\"],[0.1111111111111111,\"#46039f\"],[0.2222222222222222,\"#7201a8\"],[0.3333333333333333,\"#9c179e\"],[0.4444444444444444,\"#bd3786\"],[0.5555555555555556,\"#d8576b\"],[0.6666666666666666,\"#ed7953\"],[0.7777777777777778,\"#fb9f3a\"],[0.8888888888888888,\"#fdca26\"],[1.0,\"#f0f921\"]],\"diverging\":[[0,\"#8e0152\"],[0.1,\"#c51b7d\"],[0.2,\"#de77ae\"],[0.3,\"#f1b6da\"],[0.4,\"#fde0ef\"],[0.5,\"#f7f7f7\"],[0.6,\"#e6f5d0\"],[0.7,\"#b8e186\"],[0.8,\"#7fbc41\"],[0.9,\"#4d9221\"],[1,\"#276419\"]]},\"xaxis\":{\"gridcolor\":\"white\",\"linecolor\":\"white\",\"ticks\":\"\",\"title\":{\"standoff\":15},\"zerolinecolor\":\"white\",\"automargin\":true,\"zerolinewidth\":2},\"yaxis\":{\"gridcolor\":\"white\",\"linecolor\":\"white\",\"ticks\":\"\",\"title\":{\"standoff\":15},\"zerolinecolor\":\"white\",\"automargin\":true,\"zerolinewidth\":2},\"scene\":{\"xaxis\":{\"backgroundcolor\":\"#E5ECF6\",\"gridcolor\":\"white\",\"linecolor\":\"white\",\"showbackground\":true,\"ticks\":\"\",\"zerolinecolor\":\"white\",\"gridwidth\":2},\"yaxis\":{\"backgroundcolor\":\"#E5ECF6\",\"gridcolor\":\"white\",\"linecolor\":\"white\",\"showbackground\":true,\"ticks\":\"\",\"zerolinecolor\":\"white\",\"gridwidth\":2},\"zaxis\":{\"backgroundcolor\":\"#E5ECF6\",\"gridcolor\":\"white\",\"linecolor\":\"white\",\"showbackground\":true,\"ticks\":\"\",\"zerolinecolor\":\"white\",\"gridwidth\":2}},\"shapedefaults\":{\"line\":{\"color\":\"#2a3f5f\"}},\"annotationdefaults\":{\"arrowcolor\":\"#2a3f5f\",\"arrowhead\":0,\"arrowwidth\":1},\"geo\":{\"bgcolor\":\"white\",\"landcolor\":\"#E5ECF6\",\"subunitcolor\":\"white\",\"showland\":true,\"showlakes\":true,\"lakecolor\":\"white\"},\"title\":{\"x\":0.05},\"mapbox\":{\"style\":\"light\"}}},\"xaxis\":{\"anchor\":\"y\",\"domain\":[0.0,1.0],\"title\":{\"text\":\"value\"}},\"yaxis\":{\"anchor\":\"x\",\"domain\":[0.0,0.7326],\"title\":{\"text\":\"count\"}},\"xaxis2\":{\"anchor\":\"y2\",\"domain\":[0.0,1.0],\"matches\":\"x\",\"showticklabels\":false,\"showgrid\":true},\"yaxis2\":{\"anchor\":\"x2\",\"domain\":[0.7426,1.0],\"matches\":\"y2\",\"showticklabels\":false,\"showline\":false,\"ticks\":\"\",\"showgrid\":false},\"legend\":{\"title\":{\"text\":\"variable\"},\"tracegroupgap\":0},\"margin\":{\"t\":60},\"barmode\":\"relative\"},                        {\"responsive\": true}                    ).then(function(){\n",
       "                            \n",
       "var gd = document.getElementById('9343c0a1-b96c-47ce-9bb1-0860f0956a6e');\n",
       "var x = new MutationObserver(function (mutations, observer) {{\n",
       "        var display = window.getComputedStyle(gd).display;\n",
       "        if (!display || display === 'none') {{\n",
       "            console.log([gd, 'removed!']);\n",
       "            Plotly.purge(gd);\n",
       "            observer.disconnect();\n",
       "        }}\n",
       "}});\n",
       "\n",
       "// Listen for the removal of the full notebook cells\n",
       "var notebookContainer = gd.closest('#notebook-container');\n",
       "if (notebookContainer) {{\n",
       "    x.observe(notebookContainer, {childList: true});\n",
       "}}\n",
       "\n",
       "// Listen for the clearing of the current output cell\n",
       "var outputEl = gd.closest('.output');\n",
       "if (outputEl) {{\n",
       "    x.observe(outputEl, {childList: true});\n",
       "}}\n",
       "\n",
       "                        })                };                });            </script>        </div>"
      ]
     },
     "metadata": {},
     "output_type": "display_data"
    }
   ],
   "source": [
    "px.histogram(data.result, marginal='box')"
   ]
  },
  {
   "cell_type": "code",
   "execution_count": 40,
   "id": "ac65a4b5",
   "metadata": {},
   "outputs": [
    {
     "data": {
      "text/plain": [
       "ShapiroResult(statistic=0.9574432373046875, pvalue=2.0908979842665376e-13)"
      ]
     },
     "execution_count": 40,
     "metadata": {},
     "output_type": "execute_result"
    }
   ],
   "source": [
    "stat.shapiro(data.result)"
   ]
  },
  {
   "cell_type": "code",
   "execution_count": 41,
   "id": "6ab48ded",
   "metadata": {},
   "outputs": [],
   "source": [
    "gfg_data = np.random.randn(500)"
   ]
  },
  {
   "cell_type": "code",
   "execution_count": 42,
   "id": "2981d5eb",
   "metadata": {},
   "outputs": [
    {
     "data": {
      "application/vnd.plotly.v1+json": {
       "config": {
        "plotlyServerURL": "https://plot.ly"
       },
       "data": [
        {
         "alignmentgroup": "True",
         "bingroup": "x",
         "hovertemplate": "variable=0<br>value=%{x}<br>count=%{y}<extra></extra>",
         "legendgroup": "0",
         "marker": {
          "color": "#636efa",
          "pattern": {
           "shape": ""
          }
         },
         "name": "0",
         "offsetgroup": "0",
         "orientation": "v",
         "showlegend": true,
         "type": "histogram",
         "x": [
          1.0444017302979685,
          1.7381343265995788,
          0.42371467884221586,
          -0.0792771661990763,
          0.05722153702253519,
          -0.09827182355247062,
          1.2856509340296653,
          1.023602454914197,
          -0.1781161997748851,
          0.5442435154007101,
          0.7410869476159908,
          -1.7680561327745419,
          -0.5067095749479807,
          0.24143327326558922,
          -1.785309668901281,
          -0.22364056301695687,
          -2.080063249143851,
          -0.49668207888226384,
          2.2199039737187913,
          1.0552761272933835,
          -0.07563812896340961,
          1.1997579728423833,
          1.5309539031196018,
          0.7521620548491055,
          0.37769992167791006,
          0.10564372661443144,
          -0.26366100153455385,
          -0.09787094828520118,
          -0.9097385338747296,
          0.2647447178340887,
          -0.6645273172083153,
          0.5550647677795059,
          -2.019345208350387,
          -0.20085298034963225,
          -0.7884317616988714,
          -0.15706071450462328,
          0.7758689006699352,
          0.6949080320528194,
          0.28795066318443036,
          0.42184228660998047,
          -0.31431190823867,
          0.9394142004337115,
          1.2956783408237844,
          0.6137963267070684,
          -0.6691797821132203,
          -1.1313678627204713,
          -0.8108572864780579,
          1.7548994899256976,
          -1.1132138661167705,
          -2.656922273620295,
          -1.0450506681312348,
          1.8089962967475062,
          -1.1500169617685403,
          -0.7720761481870577,
          -1.928106221228297,
          1.4156256062418193,
          -1.079527120906087,
          0.5284462554165869,
          0.4962602444367189,
          -0.7529904040217084,
          0.5552737601608899,
          0.4133813547592616,
          2.0536584590772176,
          0.8946912790909847,
          1.8000281793324453,
          0.5460708644160885,
          1.629049513052237,
          -0.3629070260611534,
          -1.1138112600203274,
          -1.0479833495889213,
          -0.5611636667513666,
          -0.34368656189076685,
          1.2141998099640188,
          0.5550635078601297,
          0.9409510045625408,
          -0.13796753251800806,
          -0.10739062421855079,
          -2.1012289305125122,
          -0.5914808749582822,
          0.15295885621814131,
          -0.7791891131695753,
          0.18149612035428894,
          1.8568278762261754,
          1.1045958153956064,
          1.7223221703623972,
          -0.7586504996834189,
          0.355082938052934,
          0.04670376145885137,
          0.14792934727558596,
          -0.2577455679512548,
          -1.5862326923054697,
          0.0629453862697691,
          0.8633003100471465,
          0.5672742630153164,
          -0.021658064567962734,
          0.6778338159563677,
          -0.9273104942819779,
          0.3962849014812752,
          0.574399927318767,
          0.6422110222755959,
          -1.962010757244068,
          -0.027117356154024018,
          -0.588082196288199,
          0.036698906472786355,
          0.1705219551037627,
          0.31276609888104046,
          1.0522572462599522,
          -1.5474831779162415,
          -1.2203963668581361,
          -1.7165102764078055,
          -1.001310634728642,
          0.18084402943464492,
          -0.26791883554253426,
          -2.8899123992151647,
          -2.399751251036009,
          -2.9394834747157383,
          0.049787544067343155,
          -0.33829710692327686,
          -0.2349687061589579,
          -0.6601065784341121,
          1.0646627400633806,
          -1.056953783704587,
          -0.808033678387432,
          0.15744098652479835,
          0.2580416678975614,
          -0.9690277549651649,
          0.4537034692404387,
          -1.405032969901872,
          1.0028582268514934,
          -1.218261900118551,
          0.4576310610913433,
          -0.7250516275498756,
          0.6545567020416176,
          1.0151862939863356,
          1.630882812233366,
          -0.17530318494220754,
          1.5210373517640514,
          -0.5663276357192475,
          -0.4977227274107082,
          0.002917048754584094,
          0.9124993617581659,
          0.765545393286614,
          -0.6052506348390804,
          -0.7606780961394546,
          -0.004941485697891207,
          -0.7712473035736205,
          1.202982349979023,
          -0.6624431505710594,
          0.30613860218281835,
          0.6314895611688257,
          -1.8941191481436102,
          1.6587975954459782,
          -1.143857681396685,
          -0.1053023677192638,
          -1.9295242032700204,
          -0.07060839939182642,
          0.4853981335434162,
          -1.21271079038136,
          1.6683414655367488,
          1.1832193448346413,
          0.6132619165625113,
          0.6681036353949529,
          0.08690980413987892,
          0.06531014325015273,
          -0.9875388691922361,
          0.6141837458342969,
          0.7342264613537279,
          -0.1857342082642276,
          -1.2481247056721958,
          -0.6801593735120273,
          -0.591813084745188,
          0.7412509965882248,
          -0.5583505797067377,
          -0.45697405105850736,
          0.025398865974716318,
          -1.70602634280364,
          1.4056181241453467,
          -0.8490521355829268,
          0.8153267103950274,
          -1.2258438619936283,
          0.820873157207117,
          0.4931951115342183,
          -0.302138776964054,
          -0.04226161891474462,
          -0.5519115387834154,
          0.7561225645766281,
          1.0718913886729187,
          -0.013843727610260051,
          -0.9820320544420141,
          0.08341886749565804,
          -0.625383887707691,
          1.2443890247412421,
          0.8420056274293175,
          1.284879203987608,
          -1.1219279210873716,
          2.650854200999633,
          0.6276152779621311,
          -0.2038032855742648,
          0.24085304051685041,
          -1.1907335069454335,
          -0.44262171669163225,
          0.501957418135639,
          0.5538825686951346,
          -2.156486307864581,
          -0.852741274741698,
          -0.8029609303170759,
          -1.0527477607859024,
          -0.518716636276458,
          1.5945419276987647,
          0.36828517873075367,
          -0.8644325284478839,
          0.39720596370793143,
          1.6519833033363915,
          -0.3924648956073,
          1.7410681326695978,
          0.207963134861994,
          -0.6379506419711802,
          0.3089673084128117,
          0.5684714566278768,
          -0.27096588439654357,
          0.6393283355512213,
          -0.3822606619336889,
          0.5123885927933285,
          0.5372644794425322,
          0.6000887970086932,
          0.4947550677740284,
          1.0126945899833806,
          -0.2869809804154567,
          0.027742344604213917,
          -0.4644930642358505,
          0.8178763307701761,
          0.9590553000350085,
          0.2206030474321423,
          -0.0749953504172521,
          -1.1449595647109643,
          1.4726065376919009,
          -0.9702288230118477,
          -1.4002253898692936,
          2.192859658446956,
          -0.8334103536329677,
          0.11026553365648338,
          0.190745238633588,
          -0.8009491328454154,
          0.7361686497537892,
          0.8801476919732653,
          -0.9338707100983865,
          -0.38799672759536874,
          0.8375709727502948,
          -0.8758063536963941,
          1.352521567483079,
          0.022293759673746506,
          0.40673357874148003,
          -0.7334489061287519,
          0.18614429532792837,
          1.5268692615762531,
          -1.7047856996938207,
          -0.1644766147279118,
          -1.067461785994036,
          0.0021799805139377233,
          -0.2407609778745545,
          -0.9024010435433114,
          -0.44112512193513487,
          -1.159451049536223,
          -0.9556019925005809,
          -0.11796661671179531,
          -0.2965494548169109,
          -0.5747875296075337,
          -0.06022304280625165,
          0.005067566836435378,
          -0.9681333969699051,
          -0.6663790942866458,
          -0.3218385187602153,
          1.1460235600841757,
          0.6182345604753441,
          -0.06539493480879684,
          1.1165225064899795,
          -0.8125575588855326,
          1.3811953164626853,
          1.92113832416664,
          -0.6824000622023361,
          -1.592174452247669,
          -1.244449150230807,
          0.24709362718343267,
          0.5893800715813802,
          -0.2711568792540498,
          0.13195911580139813,
          0.045288803591338044,
          0.7896596223793546,
          -0.9945260285886781,
          0.02280064283342261,
          -0.08296098422896155,
          2.0311274398278574,
          0.35278241260703874,
          0.18336118280479657,
          -1.1016164306312246,
          0.12120108405775984,
          1.6619353389039764,
          0.1767252076121118,
          2.4190446660458944,
          0.1978737005709496,
          0.3066718061700477,
          -1.4359058238297928,
          1.746625888605942,
          0.8183686841995278,
          -0.28886447817497535,
          -1.6349847199586773,
          -0.4802339492457449,
          0.9599273352107195,
          0.7546665748775577,
          1.3261533297669732,
          -1.4046867840102213,
          -0.2540628732014754,
          2.1026643332358232,
          -1.1460426997803361,
          2.063663369139869,
          -1.0806914260665152,
          1.7856445801369694,
          -0.7863868127898693,
          -0.6349286825901052,
          0.23553707080469366,
          0.22156760626771707,
          0.521840372827496,
          -0.5833833966878855,
          2.3184291990007986,
          -0.18016074468327384,
          0.12259649473138132,
          0.23492968568136388,
          1.6076102455638441,
          -1.084799504199451,
          -1.846566867029608,
          0.5355958682753073,
          1.1855414973830496,
          -0.6853258769111065,
          0.5952536037310411,
          1.3152420958608155,
          -2.718554612640937,
          -0.8382880516619757,
          2.0140794220282916,
          0.49076446302235915,
          -0.6136458100692425,
          0.6392155046811792,
          0.08723326143834,
          -1.188079287870225,
          0.3723575020139092,
          -1.1130509756597249,
          -0.8578215232510467,
          1.0874057302647315,
          0.5053118232167775,
          -0.643762320616121,
          -0.8511826151204324,
          0.8637702388598649,
          -1.7565529875433976,
          1.6118325437908554,
          -0.016273103231201586,
          0.6117499476371167,
          0.45606453517322615,
          -1.0261478312259333,
          0.8670949814513129,
          0.0444099321317285,
          -0.6381614972121616,
          0.2086170011492445,
          1.2313428675736775,
          -1.057313370515963,
          0.07321215383619899,
          -0.1861553900386813,
          0.13053179325569841,
          -3.443784931144505,
          2.138653850204309,
          0.08022736633071335,
          -0.974981674422436,
          -0.7616668299013307,
          -0.7501885698838106,
          -2.3175586135080164,
          0.1903264921556335,
          -1.4320361594226365,
          0.6245064532606228,
          0.035517924366409694,
          -0.26128558952877556,
          -0.12105003638156694,
          -0.8332441204647698,
          2.176740247386174,
          0.4368325342435185,
          -0.7759094082578812,
          -0.07029412572873614,
          -1.108750277069218,
          0.36392963677622375,
          -0.8397630238924163,
          -0.7196905856783171,
          -3.8265332043716165,
          -0.5550824854283442,
          0.306209048363516,
          -0.7948361632674601,
          0.5462991592292633,
          -0.23386257554589004,
          0.8416578513537211,
          1.0098429930256119,
          -1.7174878783699254,
          -0.49445159668287425,
          -1.0441599654289813,
          0.9770090592684345,
          -0.2193307530133854,
          0.032504656459081675,
          0.46314425485716415,
          1.5293192574151562,
          1.1808366804130792,
          -1.410382567398894,
          -1.4814980670238913,
          -0.70403198438548,
          -0.5384318900737546,
          0.22872297957770107,
          0.6396299397295907,
          -0.6326312254041283,
          -2.014692577309605,
          -0.6869483221699977,
          -0.03549534263150036,
          -1.1795314875117962,
          1.0941576007033766,
          0.630398398140286,
          0.16920879780336742,
          -0.05280395804618706,
          -0.44168898318939853,
          0.10496263093207692,
          0.07734985934868828,
          0.916083459935372,
          1.299935798140685,
          0.04700325314588835,
          0.17339722187930218,
          -0.36468989735225316,
          -0.15413174658115683,
          0.24050327199434368,
          1.2284238974260444,
          -0.4847885562894675,
          -0.39059682699462467,
          -0.016328830461565202,
          -0.42721047851567157,
          0.6110590854927503,
          1.9250242159646456,
          0.11828971990536805,
          0.4070813024297403,
          -1.739216961340303,
          0.6008965260681965,
          0.021091888493707626,
          0.9739314563754045,
          2.3485082375393,
          -0.1358801449029581,
          -0.7784772118445525,
          0.6396353340223875,
          -0.11077816296199676,
          0.818144333789918,
          0.6951515723569138,
          -1.4701356602748148,
          0.7280356753250325,
          -1.6590075974625147,
          1.2020875427877113,
          1.3202717587868475,
          -0.44327290619718984,
          0.9052141124391639,
          1.1714628823260096,
          1.1258981378716766,
          0.6848750474861863,
          -0.03105603480015732,
          0.4426979408548322,
          -2.0626500946912185,
          0.3352950849197389,
          1.1891041614290307,
          -1.1289828853877073,
          1.1507709347576018,
          2.0379106656155073,
          0.8329860675355557,
          -0.0476465764494284,
          -0.4229106205731448,
          2.4615277868020127,
          -0.9609290600239208,
          -0.11708899387371192,
          0.7333517221784469,
          0.7859037234646005,
          -0.8231758421577896,
          0.7864965503944725,
          -0.8170836743758859,
          0.6010244226329191,
          -1.6970960869861742,
          -0.4019300373439076,
          -0.005228743386155812,
          -0.8256845710602172,
          -0.304866038201761,
          -0.5501487873321156,
          -1.227284973364791,
          -0.2129340098806347,
          1.3668833748269722,
          -1.8553158591492076,
          -1.3597356715841509,
          0.28491629267633056,
          -0.38975967178900534,
          0.18431532719978277,
          -0.362231959628049,
          -1.3712477534412641,
          0.13948598521687627,
          -1.2042690929273014,
          1.764651324188478,
          0.4105491148812912
         ],
         "xaxis": "x",
         "yaxis": "y"
        }
       ],
       "layout": {
        "barmode": "relative",
        "legend": {
         "title": {
          "text": "variable"
         },
         "tracegroupgap": 0
        },
        "margin": {
         "t": 60
        },
        "template": {
         "data": {
          "bar": [
           {
            "error_x": {
             "color": "#2a3f5f"
            },
            "error_y": {
             "color": "#2a3f5f"
            },
            "marker": {
             "line": {
              "color": "#E5ECF6",
              "width": 0.5
             },
             "pattern": {
              "fillmode": "overlay",
              "size": 10,
              "solidity": 0.2
             }
            },
            "type": "bar"
           }
          ],
          "barpolar": [
           {
            "marker": {
             "line": {
              "color": "#E5ECF6",
              "width": 0.5
             },
             "pattern": {
              "fillmode": "overlay",
              "size": 10,
              "solidity": 0.2
             }
            },
            "type": "barpolar"
           }
          ],
          "carpet": [
           {
            "aaxis": {
             "endlinecolor": "#2a3f5f",
             "gridcolor": "white",
             "linecolor": "white",
             "minorgridcolor": "white",
             "startlinecolor": "#2a3f5f"
            },
            "baxis": {
             "endlinecolor": "#2a3f5f",
             "gridcolor": "white",
             "linecolor": "white",
             "minorgridcolor": "white",
             "startlinecolor": "#2a3f5f"
            },
            "type": "carpet"
           }
          ],
          "choropleth": [
           {
            "colorbar": {
             "outlinewidth": 0,
             "ticks": ""
            },
            "type": "choropleth"
           }
          ],
          "contour": [
           {
            "colorbar": {
             "outlinewidth": 0,
             "ticks": ""
            },
            "colorscale": [
             [
              0,
              "#0d0887"
             ],
             [
              0.1111111111111111,
              "#46039f"
             ],
             [
              0.2222222222222222,
              "#7201a8"
             ],
             [
              0.3333333333333333,
              "#9c179e"
             ],
             [
              0.4444444444444444,
              "#bd3786"
             ],
             [
              0.5555555555555556,
              "#d8576b"
             ],
             [
              0.6666666666666666,
              "#ed7953"
             ],
             [
              0.7777777777777778,
              "#fb9f3a"
             ],
             [
              0.8888888888888888,
              "#fdca26"
             ],
             [
              1,
              "#f0f921"
             ]
            ],
            "type": "contour"
           }
          ],
          "contourcarpet": [
           {
            "colorbar": {
             "outlinewidth": 0,
             "ticks": ""
            },
            "type": "contourcarpet"
           }
          ],
          "heatmap": [
           {
            "colorbar": {
             "outlinewidth": 0,
             "ticks": ""
            },
            "colorscale": [
             [
              0,
              "#0d0887"
             ],
             [
              0.1111111111111111,
              "#46039f"
             ],
             [
              0.2222222222222222,
              "#7201a8"
             ],
             [
              0.3333333333333333,
              "#9c179e"
             ],
             [
              0.4444444444444444,
              "#bd3786"
             ],
             [
              0.5555555555555556,
              "#d8576b"
             ],
             [
              0.6666666666666666,
              "#ed7953"
             ],
             [
              0.7777777777777778,
              "#fb9f3a"
             ],
             [
              0.8888888888888888,
              "#fdca26"
             ],
             [
              1,
              "#f0f921"
             ]
            ],
            "type": "heatmap"
           }
          ],
          "heatmapgl": [
           {
            "colorbar": {
             "outlinewidth": 0,
             "ticks": ""
            },
            "colorscale": [
             [
              0,
              "#0d0887"
             ],
             [
              0.1111111111111111,
              "#46039f"
             ],
             [
              0.2222222222222222,
              "#7201a8"
             ],
             [
              0.3333333333333333,
              "#9c179e"
             ],
             [
              0.4444444444444444,
              "#bd3786"
             ],
             [
              0.5555555555555556,
              "#d8576b"
             ],
             [
              0.6666666666666666,
              "#ed7953"
             ],
             [
              0.7777777777777778,
              "#fb9f3a"
             ],
             [
              0.8888888888888888,
              "#fdca26"
             ],
             [
              1,
              "#f0f921"
             ]
            ],
            "type": "heatmapgl"
           }
          ],
          "histogram": [
           {
            "marker": {
             "pattern": {
              "fillmode": "overlay",
              "size": 10,
              "solidity": 0.2
             }
            },
            "type": "histogram"
           }
          ],
          "histogram2d": [
           {
            "colorbar": {
             "outlinewidth": 0,
             "ticks": ""
            },
            "colorscale": [
             [
              0,
              "#0d0887"
             ],
             [
              0.1111111111111111,
              "#46039f"
             ],
             [
              0.2222222222222222,
              "#7201a8"
             ],
             [
              0.3333333333333333,
              "#9c179e"
             ],
             [
              0.4444444444444444,
              "#bd3786"
             ],
             [
              0.5555555555555556,
              "#d8576b"
             ],
             [
              0.6666666666666666,
              "#ed7953"
             ],
             [
              0.7777777777777778,
              "#fb9f3a"
             ],
             [
              0.8888888888888888,
              "#fdca26"
             ],
             [
              1,
              "#f0f921"
             ]
            ],
            "type": "histogram2d"
           }
          ],
          "histogram2dcontour": [
           {
            "colorbar": {
             "outlinewidth": 0,
             "ticks": ""
            },
            "colorscale": [
             [
              0,
              "#0d0887"
             ],
             [
              0.1111111111111111,
              "#46039f"
             ],
             [
              0.2222222222222222,
              "#7201a8"
             ],
             [
              0.3333333333333333,
              "#9c179e"
             ],
             [
              0.4444444444444444,
              "#bd3786"
             ],
             [
              0.5555555555555556,
              "#d8576b"
             ],
             [
              0.6666666666666666,
              "#ed7953"
             ],
             [
              0.7777777777777778,
              "#fb9f3a"
             ],
             [
              0.8888888888888888,
              "#fdca26"
             ],
             [
              1,
              "#f0f921"
             ]
            ],
            "type": "histogram2dcontour"
           }
          ],
          "mesh3d": [
           {
            "colorbar": {
             "outlinewidth": 0,
             "ticks": ""
            },
            "type": "mesh3d"
           }
          ],
          "parcoords": [
           {
            "line": {
             "colorbar": {
              "outlinewidth": 0,
              "ticks": ""
             }
            },
            "type": "parcoords"
           }
          ],
          "pie": [
           {
            "automargin": true,
            "type": "pie"
           }
          ],
          "scatter": [
           {
            "fillpattern": {
             "fillmode": "overlay",
             "size": 10,
             "solidity": 0.2
            },
            "type": "scatter"
           }
          ],
          "scatter3d": [
           {
            "line": {
             "colorbar": {
              "outlinewidth": 0,
              "ticks": ""
             }
            },
            "marker": {
             "colorbar": {
              "outlinewidth": 0,
              "ticks": ""
             }
            },
            "type": "scatter3d"
           }
          ],
          "scattercarpet": [
           {
            "marker": {
             "colorbar": {
              "outlinewidth": 0,
              "ticks": ""
             }
            },
            "type": "scattercarpet"
           }
          ],
          "scattergeo": [
           {
            "marker": {
             "colorbar": {
              "outlinewidth": 0,
              "ticks": ""
             }
            },
            "type": "scattergeo"
           }
          ],
          "scattergl": [
           {
            "marker": {
             "colorbar": {
              "outlinewidth": 0,
              "ticks": ""
             }
            },
            "type": "scattergl"
           }
          ],
          "scattermapbox": [
           {
            "marker": {
             "colorbar": {
              "outlinewidth": 0,
              "ticks": ""
             }
            },
            "type": "scattermapbox"
           }
          ],
          "scatterpolar": [
           {
            "marker": {
             "colorbar": {
              "outlinewidth": 0,
              "ticks": ""
             }
            },
            "type": "scatterpolar"
           }
          ],
          "scatterpolargl": [
           {
            "marker": {
             "colorbar": {
              "outlinewidth": 0,
              "ticks": ""
             }
            },
            "type": "scatterpolargl"
           }
          ],
          "scatterternary": [
           {
            "marker": {
             "colorbar": {
              "outlinewidth": 0,
              "ticks": ""
             }
            },
            "type": "scatterternary"
           }
          ],
          "surface": [
           {
            "colorbar": {
             "outlinewidth": 0,
             "ticks": ""
            },
            "colorscale": [
             [
              0,
              "#0d0887"
             ],
             [
              0.1111111111111111,
              "#46039f"
             ],
             [
              0.2222222222222222,
              "#7201a8"
             ],
             [
              0.3333333333333333,
              "#9c179e"
             ],
             [
              0.4444444444444444,
              "#bd3786"
             ],
             [
              0.5555555555555556,
              "#d8576b"
             ],
             [
              0.6666666666666666,
              "#ed7953"
             ],
             [
              0.7777777777777778,
              "#fb9f3a"
             ],
             [
              0.8888888888888888,
              "#fdca26"
             ],
             [
              1,
              "#f0f921"
             ]
            ],
            "type": "surface"
           }
          ],
          "table": [
           {
            "cells": {
             "fill": {
              "color": "#EBF0F8"
             },
             "line": {
              "color": "white"
             }
            },
            "header": {
             "fill": {
              "color": "#C8D4E3"
             },
             "line": {
              "color": "white"
             }
            },
            "type": "table"
           }
          ]
         },
         "layout": {
          "annotationdefaults": {
           "arrowcolor": "#2a3f5f",
           "arrowhead": 0,
           "arrowwidth": 1
          },
          "autotypenumbers": "strict",
          "coloraxis": {
           "colorbar": {
            "outlinewidth": 0,
            "ticks": ""
           }
          },
          "colorscale": {
           "diverging": [
            [
             0,
             "#8e0152"
            ],
            [
             0.1,
             "#c51b7d"
            ],
            [
             0.2,
             "#de77ae"
            ],
            [
             0.3,
             "#f1b6da"
            ],
            [
             0.4,
             "#fde0ef"
            ],
            [
             0.5,
             "#f7f7f7"
            ],
            [
             0.6,
             "#e6f5d0"
            ],
            [
             0.7,
             "#b8e186"
            ],
            [
             0.8,
             "#7fbc41"
            ],
            [
             0.9,
             "#4d9221"
            ],
            [
             1,
             "#276419"
            ]
           ],
           "sequential": [
            [
             0,
             "#0d0887"
            ],
            [
             0.1111111111111111,
             "#46039f"
            ],
            [
             0.2222222222222222,
             "#7201a8"
            ],
            [
             0.3333333333333333,
             "#9c179e"
            ],
            [
             0.4444444444444444,
             "#bd3786"
            ],
            [
             0.5555555555555556,
             "#d8576b"
            ],
            [
             0.6666666666666666,
             "#ed7953"
            ],
            [
             0.7777777777777778,
             "#fb9f3a"
            ],
            [
             0.8888888888888888,
             "#fdca26"
            ],
            [
             1,
             "#f0f921"
            ]
           ],
           "sequentialminus": [
            [
             0,
             "#0d0887"
            ],
            [
             0.1111111111111111,
             "#46039f"
            ],
            [
             0.2222222222222222,
             "#7201a8"
            ],
            [
             0.3333333333333333,
             "#9c179e"
            ],
            [
             0.4444444444444444,
             "#bd3786"
            ],
            [
             0.5555555555555556,
             "#d8576b"
            ],
            [
             0.6666666666666666,
             "#ed7953"
            ],
            [
             0.7777777777777778,
             "#fb9f3a"
            ],
            [
             0.8888888888888888,
             "#fdca26"
            ],
            [
             1,
             "#f0f921"
            ]
           ]
          },
          "colorway": [
           "#636efa",
           "#EF553B",
           "#00cc96",
           "#ab63fa",
           "#FFA15A",
           "#19d3f3",
           "#FF6692",
           "#B6E880",
           "#FF97FF",
           "#FECB52"
          ],
          "font": {
           "color": "#2a3f5f"
          },
          "geo": {
           "bgcolor": "white",
           "lakecolor": "white",
           "landcolor": "#E5ECF6",
           "showlakes": true,
           "showland": true,
           "subunitcolor": "white"
          },
          "hoverlabel": {
           "align": "left"
          },
          "hovermode": "closest",
          "mapbox": {
           "style": "light"
          },
          "paper_bgcolor": "white",
          "plot_bgcolor": "#E5ECF6",
          "polar": {
           "angularaxis": {
            "gridcolor": "white",
            "linecolor": "white",
            "ticks": ""
           },
           "bgcolor": "#E5ECF6",
           "radialaxis": {
            "gridcolor": "white",
            "linecolor": "white",
            "ticks": ""
           }
          },
          "scene": {
           "xaxis": {
            "backgroundcolor": "#E5ECF6",
            "gridcolor": "white",
            "gridwidth": 2,
            "linecolor": "white",
            "showbackground": true,
            "ticks": "",
            "zerolinecolor": "white"
           },
           "yaxis": {
            "backgroundcolor": "#E5ECF6",
            "gridcolor": "white",
            "gridwidth": 2,
            "linecolor": "white",
            "showbackground": true,
            "ticks": "",
            "zerolinecolor": "white"
           },
           "zaxis": {
            "backgroundcolor": "#E5ECF6",
            "gridcolor": "white",
            "gridwidth": 2,
            "linecolor": "white",
            "showbackground": true,
            "ticks": "",
            "zerolinecolor": "white"
           }
          },
          "shapedefaults": {
           "line": {
            "color": "#2a3f5f"
           }
          },
          "ternary": {
           "aaxis": {
            "gridcolor": "white",
            "linecolor": "white",
            "ticks": ""
           },
           "baxis": {
            "gridcolor": "white",
            "linecolor": "white",
            "ticks": ""
           },
           "bgcolor": "#E5ECF6",
           "caxis": {
            "gridcolor": "white",
            "linecolor": "white",
            "ticks": ""
           }
          },
          "title": {
           "x": 0.05
          },
          "xaxis": {
           "automargin": true,
           "gridcolor": "white",
           "linecolor": "white",
           "ticks": "",
           "title": {
            "standoff": 15
           },
           "zerolinecolor": "white",
           "zerolinewidth": 2
          },
          "yaxis": {
           "automargin": true,
           "gridcolor": "white",
           "linecolor": "white",
           "ticks": "",
           "title": {
            "standoff": 15
           },
           "zerolinecolor": "white",
           "zerolinewidth": 2
          }
         }
        },
        "xaxis": {
         "anchor": "y",
         "domain": [
          0,
          1
         ],
         "title": {
          "text": "value"
         }
        },
        "yaxis": {
         "anchor": "x",
         "domain": [
          0,
          1
         ],
         "title": {
          "text": "count"
         }
        }
       }
      },
      "text/html": [
       "<div>                            <div id=\"d6687730-1bfd-492d-b5bc-0e64ce85dea3\" class=\"plotly-graph-div\" style=\"height:525px; width:100%;\"></div>            <script type=\"text/javascript\">                require([\"plotly\"], function(Plotly) {                    window.PLOTLYENV=window.PLOTLYENV || {};                                    if (document.getElementById(\"d6687730-1bfd-492d-b5bc-0e64ce85dea3\")) {                    Plotly.newPlot(                        \"d6687730-1bfd-492d-b5bc-0e64ce85dea3\",                        [{\"alignmentgroup\":\"True\",\"bingroup\":\"x\",\"hovertemplate\":\"variable=0<br>value=%{x}<br>count=%{y}<extra></extra>\",\"legendgroup\":\"0\",\"marker\":{\"color\":\"#636efa\",\"pattern\":{\"shape\":\"\"}},\"name\":\"0\",\"offsetgroup\":\"0\",\"orientation\":\"v\",\"showlegend\":true,\"x\":[1.0444017302979685,1.7381343265995788,0.42371467884221586,-0.0792771661990763,0.05722153702253519,-0.09827182355247062,1.2856509340296653,1.023602454914197,-0.1781161997748851,0.5442435154007101,0.7410869476159908,-1.7680561327745419,-0.5067095749479807,0.24143327326558922,-1.785309668901281,-0.22364056301695687,-2.080063249143851,-0.49668207888226384,2.2199039737187913,1.0552761272933835,-0.07563812896340961,1.1997579728423833,1.5309539031196018,0.7521620548491055,0.37769992167791006,0.10564372661443144,-0.26366100153455385,-0.09787094828520118,-0.9097385338747296,0.2647447178340887,-0.6645273172083153,0.5550647677795059,-2.019345208350387,-0.20085298034963225,-0.7884317616988714,-0.15706071450462328,0.7758689006699352,0.6949080320528194,0.28795066318443036,0.42184228660998047,-0.31431190823867,0.9394142004337115,1.2956783408237844,0.6137963267070684,-0.6691797821132203,-1.1313678627204713,-0.8108572864780579,1.7548994899256976,-1.1132138661167705,-2.656922273620295,-1.0450506681312348,1.8089962967475062,-1.1500169617685403,-0.7720761481870577,-1.928106221228297,1.4156256062418193,-1.079527120906087,0.5284462554165869,0.4962602444367189,-0.7529904040217084,0.5552737601608899,0.4133813547592616,2.0536584590772176,0.8946912790909847,1.8000281793324453,0.5460708644160885,1.629049513052237,-0.3629070260611534,-1.1138112600203274,-1.0479833495889213,-0.5611636667513666,-0.34368656189076685,1.2141998099640188,0.5550635078601297,0.9409510045625408,-0.13796753251800806,-0.10739062421855079,-2.1012289305125122,-0.5914808749582822,0.15295885621814131,-0.7791891131695753,0.18149612035428894,1.8568278762261754,1.1045958153956064,1.7223221703623972,-0.7586504996834189,0.355082938052934,0.04670376145885137,0.14792934727558596,-0.2577455679512548,-1.5862326923054697,0.0629453862697691,0.8633003100471465,0.5672742630153164,-0.021658064567962734,0.6778338159563677,-0.9273104942819779,0.3962849014812752,0.574399927318767,0.6422110222755959,-1.962010757244068,-0.027117356154024018,-0.588082196288199,0.036698906472786355,0.1705219551037627,0.31276609888104046,1.0522572462599522,-1.5474831779162415,-1.2203963668581361,-1.7165102764078055,-1.001310634728642,0.18084402943464492,-0.26791883554253426,-2.8899123992151647,-2.399751251036009,-2.9394834747157383,0.049787544067343155,-0.33829710692327686,-0.2349687061589579,-0.6601065784341121,1.0646627400633806,-1.056953783704587,-0.808033678387432,0.15744098652479835,0.2580416678975614,-0.9690277549651649,0.4537034692404387,-1.405032969901872,1.0028582268514934,-1.218261900118551,0.4576310610913433,-0.7250516275498756,0.6545567020416176,1.0151862939863356,1.630882812233366,-0.17530318494220754,1.5210373517640514,-0.5663276357192475,-0.4977227274107082,0.002917048754584094,0.9124993617581659,0.765545393286614,-0.6052506348390804,-0.7606780961394546,-0.004941485697891207,-0.7712473035736205,1.202982349979023,-0.6624431505710594,0.30613860218281835,0.6314895611688257,-1.8941191481436102,1.6587975954459782,-1.143857681396685,-0.1053023677192638,-1.9295242032700204,-0.07060839939182642,0.4853981335434162,-1.21271079038136,1.6683414655367488,1.1832193448346413,0.6132619165625113,0.6681036353949529,0.08690980413987892,0.06531014325015273,-0.9875388691922361,0.6141837458342969,0.7342264613537279,-0.1857342082642276,-1.2481247056721958,-0.6801593735120273,-0.591813084745188,0.7412509965882248,-0.5583505797067377,-0.45697405105850736,0.025398865974716318,-1.70602634280364,1.4056181241453467,-0.8490521355829268,0.8153267103950274,-1.2258438619936283,0.820873157207117,0.4931951115342183,-0.302138776964054,-0.04226161891474462,-0.5519115387834154,0.7561225645766281,1.0718913886729187,-0.013843727610260051,-0.9820320544420141,0.08341886749565804,-0.625383887707691,1.2443890247412421,0.8420056274293175,1.284879203987608,-1.1219279210873716,2.650854200999633,0.6276152779621311,-0.2038032855742648,0.24085304051685041,-1.1907335069454335,-0.44262171669163225,0.501957418135639,0.5538825686951346,-2.156486307864581,-0.852741274741698,-0.8029609303170759,-1.0527477607859024,-0.518716636276458,1.5945419276987647,0.36828517873075367,-0.8644325284478839,0.39720596370793143,1.6519833033363915,-0.3924648956073,1.7410681326695978,0.207963134861994,-0.6379506419711802,0.3089673084128117,0.5684714566278768,-0.27096588439654357,0.6393283355512213,-0.3822606619336889,0.5123885927933285,0.5372644794425322,0.6000887970086932,0.4947550677740284,1.0126945899833806,-0.2869809804154567,0.027742344604213917,-0.4644930642358505,0.8178763307701761,0.9590553000350085,0.2206030474321423,-0.0749953504172521,-1.1449595647109643,1.4726065376919009,-0.9702288230118477,-1.4002253898692936,2.192859658446956,-0.8334103536329677,0.11026553365648338,0.190745238633588,-0.8009491328454154,0.7361686497537892,0.8801476919732653,-0.9338707100983865,-0.38799672759536874,0.8375709727502948,-0.8758063536963941,1.352521567483079,0.022293759673746506,0.40673357874148003,-0.7334489061287519,0.18614429532792837,1.5268692615762531,-1.7047856996938207,-0.1644766147279118,-1.067461785994036,0.0021799805139377233,-0.2407609778745545,-0.9024010435433114,-0.44112512193513487,-1.159451049536223,-0.9556019925005809,-0.11796661671179531,-0.2965494548169109,-0.5747875296075337,-0.06022304280625165,0.005067566836435378,-0.9681333969699051,-0.6663790942866458,-0.3218385187602153,1.1460235600841757,0.6182345604753441,-0.06539493480879684,1.1165225064899795,-0.8125575588855326,1.3811953164626853,1.92113832416664,-0.6824000622023361,-1.592174452247669,-1.244449150230807,0.24709362718343267,0.5893800715813802,-0.2711568792540498,0.13195911580139813,0.045288803591338044,0.7896596223793546,-0.9945260285886781,0.02280064283342261,-0.08296098422896155,2.0311274398278574,0.35278241260703874,0.18336118280479657,-1.1016164306312246,0.12120108405775984,1.6619353389039764,0.1767252076121118,2.4190446660458944,0.1978737005709496,0.3066718061700477,-1.4359058238297928,1.746625888605942,0.8183686841995278,-0.28886447817497535,-1.6349847199586773,-0.4802339492457449,0.9599273352107195,0.7546665748775577,1.3261533297669732,-1.4046867840102213,-0.2540628732014754,2.1026643332358232,-1.1460426997803361,2.063663369139869,-1.0806914260665152,1.7856445801369694,-0.7863868127898693,-0.6349286825901052,0.23553707080469366,0.22156760626771707,0.521840372827496,-0.5833833966878855,2.3184291990007986,-0.18016074468327384,0.12259649473138132,0.23492968568136388,1.6076102455638441,-1.084799504199451,-1.846566867029608,0.5355958682753073,1.1855414973830496,-0.6853258769111065,0.5952536037310411,1.3152420958608155,-2.718554612640937,-0.8382880516619757,2.0140794220282916,0.49076446302235915,-0.6136458100692425,0.6392155046811792,0.08723326143834,-1.188079287870225,0.3723575020139092,-1.1130509756597249,-0.8578215232510467,1.0874057302647315,0.5053118232167775,-0.643762320616121,-0.8511826151204324,0.8637702388598649,-1.7565529875433976,1.6118325437908554,-0.016273103231201586,0.6117499476371167,0.45606453517322615,-1.0261478312259333,0.8670949814513129,0.0444099321317285,-0.6381614972121616,0.2086170011492445,1.2313428675736775,-1.057313370515963,0.07321215383619899,-0.1861553900386813,0.13053179325569841,-3.443784931144505,2.138653850204309,0.08022736633071335,-0.974981674422436,-0.7616668299013307,-0.7501885698838106,-2.3175586135080164,0.1903264921556335,-1.4320361594226365,0.6245064532606228,0.035517924366409694,-0.26128558952877556,-0.12105003638156694,-0.8332441204647698,2.176740247386174,0.4368325342435185,-0.7759094082578812,-0.07029412572873614,-1.108750277069218,0.36392963677622375,-0.8397630238924163,-0.7196905856783171,-3.8265332043716165,-0.5550824854283442,0.306209048363516,-0.7948361632674601,0.5462991592292633,-0.23386257554589004,0.8416578513537211,1.0098429930256119,-1.7174878783699254,-0.49445159668287425,-1.0441599654289813,0.9770090592684345,-0.2193307530133854,0.032504656459081675,0.46314425485716415,1.5293192574151562,1.1808366804130792,-1.410382567398894,-1.4814980670238913,-0.70403198438548,-0.5384318900737546,0.22872297957770107,0.6396299397295907,-0.6326312254041283,-2.014692577309605,-0.6869483221699977,-0.03549534263150036,-1.1795314875117962,1.0941576007033766,0.630398398140286,0.16920879780336742,-0.05280395804618706,-0.44168898318939853,0.10496263093207692,0.07734985934868828,0.916083459935372,1.299935798140685,0.04700325314588835,0.17339722187930218,-0.36468989735225316,-0.15413174658115683,0.24050327199434368,1.2284238974260444,-0.4847885562894675,-0.39059682699462467,-0.016328830461565202,-0.42721047851567157,0.6110590854927503,1.9250242159646456,0.11828971990536805,0.4070813024297403,-1.739216961340303,0.6008965260681965,0.021091888493707626,0.9739314563754045,2.3485082375393,-0.1358801449029581,-0.7784772118445525,0.6396353340223875,-0.11077816296199676,0.818144333789918,0.6951515723569138,-1.4701356602748148,0.7280356753250325,-1.6590075974625147,1.2020875427877113,1.3202717587868475,-0.44327290619718984,0.9052141124391639,1.1714628823260096,1.1258981378716766,0.6848750474861863,-0.03105603480015732,0.4426979408548322,-2.0626500946912185,0.3352950849197389,1.1891041614290307,-1.1289828853877073,1.1507709347576018,2.0379106656155073,0.8329860675355557,-0.0476465764494284,-0.4229106205731448,2.4615277868020127,-0.9609290600239208,-0.11708899387371192,0.7333517221784469,0.7859037234646005,-0.8231758421577896,0.7864965503944725,-0.8170836743758859,0.6010244226329191,-1.6970960869861742,-0.4019300373439076,-0.005228743386155812,-0.8256845710602172,-0.304866038201761,-0.5501487873321156,-1.227284973364791,-0.2129340098806347,1.3668833748269722,-1.8553158591492076,-1.3597356715841509,0.28491629267633056,-0.38975967178900534,0.18431532719978277,-0.362231959628049,-1.3712477534412641,0.13948598521687627,-1.2042690929273014,1.764651324188478,0.4105491148812912],\"xaxis\":\"x\",\"yaxis\":\"y\",\"type\":\"histogram\"}],                        {\"template\":{\"data\":{\"histogram2dcontour\":[{\"type\":\"histogram2dcontour\",\"colorbar\":{\"outlinewidth\":0,\"ticks\":\"\"},\"colorscale\":[[0.0,\"#0d0887\"],[0.1111111111111111,\"#46039f\"],[0.2222222222222222,\"#7201a8\"],[0.3333333333333333,\"#9c179e\"],[0.4444444444444444,\"#bd3786\"],[0.5555555555555556,\"#d8576b\"],[0.6666666666666666,\"#ed7953\"],[0.7777777777777778,\"#fb9f3a\"],[0.8888888888888888,\"#fdca26\"],[1.0,\"#f0f921\"]]}],\"choropleth\":[{\"type\":\"choropleth\",\"colorbar\":{\"outlinewidth\":0,\"ticks\":\"\"}}],\"histogram2d\":[{\"type\":\"histogram2d\",\"colorbar\":{\"outlinewidth\":0,\"ticks\":\"\"},\"colorscale\":[[0.0,\"#0d0887\"],[0.1111111111111111,\"#46039f\"],[0.2222222222222222,\"#7201a8\"],[0.3333333333333333,\"#9c179e\"],[0.4444444444444444,\"#bd3786\"],[0.5555555555555556,\"#d8576b\"],[0.6666666666666666,\"#ed7953\"],[0.7777777777777778,\"#fb9f3a\"],[0.8888888888888888,\"#fdca26\"],[1.0,\"#f0f921\"]]}],\"heatmap\":[{\"type\":\"heatmap\",\"colorbar\":{\"outlinewidth\":0,\"ticks\":\"\"},\"colorscale\":[[0.0,\"#0d0887\"],[0.1111111111111111,\"#46039f\"],[0.2222222222222222,\"#7201a8\"],[0.3333333333333333,\"#9c179e\"],[0.4444444444444444,\"#bd3786\"],[0.5555555555555556,\"#d8576b\"],[0.6666666666666666,\"#ed7953\"],[0.7777777777777778,\"#fb9f3a\"],[0.8888888888888888,\"#fdca26\"],[1.0,\"#f0f921\"]]}],\"heatmapgl\":[{\"type\":\"heatmapgl\",\"colorbar\":{\"outlinewidth\":0,\"ticks\":\"\"},\"colorscale\":[[0.0,\"#0d0887\"],[0.1111111111111111,\"#46039f\"],[0.2222222222222222,\"#7201a8\"],[0.3333333333333333,\"#9c179e\"],[0.4444444444444444,\"#bd3786\"],[0.5555555555555556,\"#d8576b\"],[0.6666666666666666,\"#ed7953\"],[0.7777777777777778,\"#fb9f3a\"],[0.8888888888888888,\"#fdca26\"],[1.0,\"#f0f921\"]]}],\"contourcarpet\":[{\"type\":\"contourcarpet\",\"colorbar\":{\"outlinewidth\":0,\"ticks\":\"\"}}],\"contour\":[{\"type\":\"contour\",\"colorbar\":{\"outlinewidth\":0,\"ticks\":\"\"},\"colorscale\":[[0.0,\"#0d0887\"],[0.1111111111111111,\"#46039f\"],[0.2222222222222222,\"#7201a8\"],[0.3333333333333333,\"#9c179e\"],[0.4444444444444444,\"#bd3786\"],[0.5555555555555556,\"#d8576b\"],[0.6666666666666666,\"#ed7953\"],[0.7777777777777778,\"#fb9f3a\"],[0.8888888888888888,\"#fdca26\"],[1.0,\"#f0f921\"]]}],\"surface\":[{\"type\":\"surface\",\"colorbar\":{\"outlinewidth\":0,\"ticks\":\"\"},\"colorscale\":[[0.0,\"#0d0887\"],[0.1111111111111111,\"#46039f\"],[0.2222222222222222,\"#7201a8\"],[0.3333333333333333,\"#9c179e\"],[0.4444444444444444,\"#bd3786\"],[0.5555555555555556,\"#d8576b\"],[0.6666666666666666,\"#ed7953\"],[0.7777777777777778,\"#fb9f3a\"],[0.8888888888888888,\"#fdca26\"],[1.0,\"#f0f921\"]]}],\"mesh3d\":[{\"type\":\"mesh3d\",\"colorbar\":{\"outlinewidth\":0,\"ticks\":\"\"}}],\"scatter\":[{\"fillpattern\":{\"fillmode\":\"overlay\",\"size\":10,\"solidity\":0.2},\"type\":\"scatter\"}],\"parcoords\":[{\"type\":\"parcoords\",\"line\":{\"colorbar\":{\"outlinewidth\":0,\"ticks\":\"\"}}}],\"scatterpolargl\":[{\"type\":\"scatterpolargl\",\"marker\":{\"colorbar\":{\"outlinewidth\":0,\"ticks\":\"\"}}}],\"bar\":[{\"error_x\":{\"color\":\"#2a3f5f\"},\"error_y\":{\"color\":\"#2a3f5f\"},\"marker\":{\"line\":{\"color\":\"#E5ECF6\",\"width\":0.5},\"pattern\":{\"fillmode\":\"overlay\",\"size\":10,\"solidity\":0.2}},\"type\":\"bar\"}],\"scattergeo\":[{\"type\":\"scattergeo\",\"marker\":{\"colorbar\":{\"outlinewidth\":0,\"ticks\":\"\"}}}],\"scatterpolar\":[{\"type\":\"scatterpolar\",\"marker\":{\"colorbar\":{\"outlinewidth\":0,\"ticks\":\"\"}}}],\"histogram\":[{\"marker\":{\"pattern\":{\"fillmode\":\"overlay\",\"size\":10,\"solidity\":0.2}},\"type\":\"histogram\"}],\"scattergl\":[{\"type\":\"scattergl\",\"marker\":{\"colorbar\":{\"outlinewidth\":0,\"ticks\":\"\"}}}],\"scatter3d\":[{\"type\":\"scatter3d\",\"line\":{\"colorbar\":{\"outlinewidth\":0,\"ticks\":\"\"}},\"marker\":{\"colorbar\":{\"outlinewidth\":0,\"ticks\":\"\"}}}],\"scattermapbox\":[{\"type\":\"scattermapbox\",\"marker\":{\"colorbar\":{\"outlinewidth\":0,\"ticks\":\"\"}}}],\"scatterternary\":[{\"type\":\"scatterternary\",\"marker\":{\"colorbar\":{\"outlinewidth\":0,\"ticks\":\"\"}}}],\"scattercarpet\":[{\"type\":\"scattercarpet\",\"marker\":{\"colorbar\":{\"outlinewidth\":0,\"ticks\":\"\"}}}],\"carpet\":[{\"aaxis\":{\"endlinecolor\":\"#2a3f5f\",\"gridcolor\":\"white\",\"linecolor\":\"white\",\"minorgridcolor\":\"white\",\"startlinecolor\":\"#2a3f5f\"},\"baxis\":{\"endlinecolor\":\"#2a3f5f\",\"gridcolor\":\"white\",\"linecolor\":\"white\",\"minorgridcolor\":\"white\",\"startlinecolor\":\"#2a3f5f\"},\"type\":\"carpet\"}],\"table\":[{\"cells\":{\"fill\":{\"color\":\"#EBF0F8\"},\"line\":{\"color\":\"white\"}},\"header\":{\"fill\":{\"color\":\"#C8D4E3\"},\"line\":{\"color\":\"white\"}},\"type\":\"table\"}],\"barpolar\":[{\"marker\":{\"line\":{\"color\":\"#E5ECF6\",\"width\":0.5},\"pattern\":{\"fillmode\":\"overlay\",\"size\":10,\"solidity\":0.2}},\"type\":\"barpolar\"}],\"pie\":[{\"automargin\":true,\"type\":\"pie\"}]},\"layout\":{\"autotypenumbers\":\"strict\",\"colorway\":[\"#636efa\",\"#EF553B\",\"#00cc96\",\"#ab63fa\",\"#FFA15A\",\"#19d3f3\",\"#FF6692\",\"#B6E880\",\"#FF97FF\",\"#FECB52\"],\"font\":{\"color\":\"#2a3f5f\"},\"hovermode\":\"closest\",\"hoverlabel\":{\"align\":\"left\"},\"paper_bgcolor\":\"white\",\"plot_bgcolor\":\"#E5ECF6\",\"polar\":{\"bgcolor\":\"#E5ECF6\",\"angularaxis\":{\"gridcolor\":\"white\",\"linecolor\":\"white\",\"ticks\":\"\"},\"radialaxis\":{\"gridcolor\":\"white\",\"linecolor\":\"white\",\"ticks\":\"\"}},\"ternary\":{\"bgcolor\":\"#E5ECF6\",\"aaxis\":{\"gridcolor\":\"white\",\"linecolor\":\"white\",\"ticks\":\"\"},\"baxis\":{\"gridcolor\":\"white\",\"linecolor\":\"white\",\"ticks\":\"\"},\"caxis\":{\"gridcolor\":\"white\",\"linecolor\":\"white\",\"ticks\":\"\"}},\"coloraxis\":{\"colorbar\":{\"outlinewidth\":0,\"ticks\":\"\"}},\"colorscale\":{\"sequential\":[[0.0,\"#0d0887\"],[0.1111111111111111,\"#46039f\"],[0.2222222222222222,\"#7201a8\"],[0.3333333333333333,\"#9c179e\"],[0.4444444444444444,\"#bd3786\"],[0.5555555555555556,\"#d8576b\"],[0.6666666666666666,\"#ed7953\"],[0.7777777777777778,\"#fb9f3a\"],[0.8888888888888888,\"#fdca26\"],[1.0,\"#f0f921\"]],\"sequentialminus\":[[0.0,\"#0d0887\"],[0.1111111111111111,\"#46039f\"],[0.2222222222222222,\"#7201a8\"],[0.3333333333333333,\"#9c179e\"],[0.4444444444444444,\"#bd3786\"],[0.5555555555555556,\"#d8576b\"],[0.6666666666666666,\"#ed7953\"],[0.7777777777777778,\"#fb9f3a\"],[0.8888888888888888,\"#fdca26\"],[1.0,\"#f0f921\"]],\"diverging\":[[0,\"#8e0152\"],[0.1,\"#c51b7d\"],[0.2,\"#de77ae\"],[0.3,\"#f1b6da\"],[0.4,\"#fde0ef\"],[0.5,\"#f7f7f7\"],[0.6,\"#e6f5d0\"],[0.7,\"#b8e186\"],[0.8,\"#7fbc41\"],[0.9,\"#4d9221\"],[1,\"#276419\"]]},\"xaxis\":{\"gridcolor\":\"white\",\"linecolor\":\"white\",\"ticks\":\"\",\"title\":{\"standoff\":15},\"zerolinecolor\":\"white\",\"automargin\":true,\"zerolinewidth\":2},\"yaxis\":{\"gridcolor\":\"white\",\"linecolor\":\"white\",\"ticks\":\"\",\"title\":{\"standoff\":15},\"zerolinecolor\":\"white\",\"automargin\":true,\"zerolinewidth\":2},\"scene\":{\"xaxis\":{\"backgroundcolor\":\"#E5ECF6\",\"gridcolor\":\"white\",\"linecolor\":\"white\",\"showbackground\":true,\"ticks\":\"\",\"zerolinecolor\":\"white\",\"gridwidth\":2},\"yaxis\":{\"backgroundcolor\":\"#E5ECF6\",\"gridcolor\":\"white\",\"linecolor\":\"white\",\"showbackground\":true,\"ticks\":\"\",\"zerolinecolor\":\"white\",\"gridwidth\":2},\"zaxis\":{\"backgroundcolor\":\"#E5ECF6\",\"gridcolor\":\"white\",\"linecolor\":\"white\",\"showbackground\":true,\"ticks\":\"\",\"zerolinecolor\":\"white\",\"gridwidth\":2}},\"shapedefaults\":{\"line\":{\"color\":\"#2a3f5f\"}},\"annotationdefaults\":{\"arrowcolor\":\"#2a3f5f\",\"arrowhead\":0,\"arrowwidth\":1},\"geo\":{\"bgcolor\":\"white\",\"landcolor\":\"#E5ECF6\",\"subunitcolor\":\"white\",\"showland\":true,\"showlakes\":true,\"lakecolor\":\"white\"},\"title\":{\"x\":0.05},\"mapbox\":{\"style\":\"light\"}}},\"xaxis\":{\"anchor\":\"y\",\"domain\":[0.0,1.0],\"title\":{\"text\":\"value\"}},\"yaxis\":{\"anchor\":\"x\",\"domain\":[0.0,1.0],\"title\":{\"text\":\"count\"}},\"legend\":{\"title\":{\"text\":\"variable\"},\"tracegroupgap\":0},\"margin\":{\"t\":60},\"barmode\":\"relative\"},                        {\"responsive\": true}                    ).then(function(){\n",
       "                            \n",
       "var gd = document.getElementById('d6687730-1bfd-492d-b5bc-0e64ce85dea3');\n",
       "var x = new MutationObserver(function (mutations, observer) {{\n",
       "        var display = window.getComputedStyle(gd).display;\n",
       "        if (!display || display === 'none') {{\n",
       "            console.log([gd, 'removed!']);\n",
       "            Plotly.purge(gd);\n",
       "            observer.disconnect();\n",
       "        }}\n",
       "}});\n",
       "\n",
       "// Listen for the removal of the full notebook cells\n",
       "var notebookContainer = gd.closest('#notebook-container');\n",
       "if (notebookContainer) {{\n",
       "    x.observe(notebookContainer, {childList: true});\n",
       "}}\n",
       "\n",
       "// Listen for the clearing of the current output cell\n",
       "var outputEl = gd.closest('.output');\n",
       "if (outputEl) {{\n",
       "    x.observe(outputEl, {childList: true});\n",
       "}}\n",
       "\n",
       "                        })                };                });            </script>        </div>"
      ]
     },
     "metadata": {},
     "output_type": "display_data"
    }
   ],
   "source": [
    "px.histogram(gfg_data)"
   ]
  },
  {
   "cell_type": "code",
   "execution_count": 43,
   "id": "c62258b7",
   "metadata": {},
   "outputs": [
    {
     "data": {
      "text/plain": [
       "ShapiroResult(statistic=0.9955300688743591, pvalue=0.16341273486614227)"
      ]
     },
     "execution_count": 43,
     "metadata": {},
     "output_type": "execute_result"
    }
   ],
   "source": [
    "stat.shapiro(gfg_data)"
   ]
  },
  {
   "cell_type": "code",
   "execution_count": 44,
   "id": "27ec06b6-c51a-4103-b600-5aa4a2153999",
   "metadata": {},
   "outputs": [
    {
     "data": {
      "text/plain": [
       "used_app_before\n",
       "no     692\n",
       "yes     12\n",
       "Name: count, dtype: int64"
      ]
     },
     "execution_count": 44,
     "metadata": {},
     "output_type": "execute_result"
    }
   ],
   "source": [
    "data.used_app_before.value_counts()"
   ]
  },
  {
   "cell_type": "code",
   "execution_count": 16,
   "id": "ba10f7c7",
   "metadata": {},
   "outputs": [
    {
     "data": {
      "text/plain": [
       "array(['NO', 'YES'], dtype=object)"
      ]
     },
     "execution_count": 16,
     "metadata": {},
     "output_type": "execute_result"
    }
   ],
   "source": [
    "data[\"Class/ASD\"].unique()"
   ]
  },
  {
   "cell_type": "code",
   "execution_count": 17,
   "id": "8237c90d",
   "metadata": {},
   "outputs": [
    {
     "data": {
      "text/plain": [
       "Class/ASD\n",
       "NO     515\n",
       "YES    189\n",
       "Name: count, dtype: int64"
      ]
     },
     "execution_count": 17,
     "metadata": {},
     "output_type": "execute_result"
    }
   ],
   "source": [
    "data[\"Class/ASD\"].value_counts()"
   ]
  },
  {
   "cell_type": "code",
   "execution_count": 18,
   "id": "7971713d",
   "metadata": {},
   "outputs": [],
   "source": [
    "lst = list()\n",
    "for i in data.ethnicity:\n",
    "    if i == \"?\":\n",
    "        lst.append(\"\")\n",
    "    else:\n",
    "        lst.append(i)\n",
    "data.ethnicity = lst"
   ]
  },
  {
   "cell_type": "code",
   "execution_count": 19,
   "id": "fc10d358",
   "metadata": {},
   "outputs": [
    {
     "data": {
      "text/plain": [
       "ethnicity\n",
       "White-European     233\n",
       "Asian              123\n",
       "                    95\n",
       "Middle Eastern      92\n",
       "Black               43\n",
       "South Asian         36\n",
       "Others              30\n",
       "Latino              20\n",
       "Hispanic            13\n",
       "Pasifika            12\n",
       "Turkish              6\n",
       "others               1\n",
       "Name: count, dtype: int64"
      ]
     },
     "execution_count": 19,
     "metadata": {},
     "output_type": "execute_result"
    }
   ],
   "source": [
    "data.ethnicity.value_counts()"
   ]
  },
  {
   "cell_type": "code",
   "execution_count": null,
   "id": "0c92bdc5",
   "metadata": {},
   "outputs": [],
   "source": []
  },
  {
   "cell_type": "code",
   "execution_count": null,
   "id": "d0d5da5b",
   "metadata": {},
   "outputs": [],
   "source": []
  }
 ],
 "metadata": {
  "kernelspec": {
   "display_name": "Python 3 (ipykernel)",
   "language": "python",
   "name": "python3"
  },
  "language_info": {
   "codemirror_mode": {
    "name": "ipython",
    "version": 3
   },
   "file_extension": ".py",
   "mimetype": "text/x-python",
   "name": "python",
   "nbconvert_exporter": "python",
   "pygments_lexer": "ipython3",
   "version": "3.11.3"
  }
 },
 "nbformat": 4,
 "nbformat_minor": 5
}
