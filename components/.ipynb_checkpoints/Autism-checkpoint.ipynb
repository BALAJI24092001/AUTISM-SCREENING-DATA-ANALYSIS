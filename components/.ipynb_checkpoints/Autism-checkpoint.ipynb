{
 "cells": [
  {
   "cell_type": "markdown",
   "id": "aa645d30-53dd-4fd3-a98f-795a51ee0f22",
   "metadata": {},
   "source": [
    "# AUTISM DATA ANALYSIS"
   ]
  },
  {
   "cell_type": "code",
   "execution_count": 38,
   "id": "b8cfc4a3-5a0d-47d1-94cc-d7ebe501c71a",
   "metadata": {},
   "outputs": [],
   "source": [
    "# Importing Libraries\n",
    "import numpy as np # Linear Algebra\n",
    "import pandas as pd # DataFrames\n",
    "import matplotlib.pyplot as plt # Basic Plots\n",
    "import seaborn as sns # Advanced Plots\n",
    "import plotly.express as px # Intereactive plots\n",
    "import scipy.stats as stat # Hypothesis Testing\n",
    "%matplotlib inline"
   ]
  },
  {
   "cell_type": "code",
   "execution_count": 24,
   "id": "14bdb262-9896-4787-b871-69aa313831a1",
   "metadata": {},
   "outputs": [],
   "source": [
    "data = pd.read_csv(\"../utils/csv_result-Autism-Adult-Data.csv\")"
   ]
  },
  {
   "cell_type": "code",
   "execution_count": 25,
   "id": "412bd9a6-e9b8-4dc7-8a45-9683510387ec",
   "metadata": {},
   "outputs": [
    {
     "data": {
      "text/html": [
       "<div>\n",
       "<style scoped>\n",
       "    .dataframe tbody tr th:only-of-type {\n",
       "        vertical-align: middle;\n",
       "    }\n",
       "\n",
       "    .dataframe tbody tr th {\n",
       "        vertical-align: top;\n",
       "    }\n",
       "\n",
       "    .dataframe thead th {\n",
       "        text-align: right;\n",
       "    }\n",
       "</style>\n",
       "<table border=\"1\" class=\"dataframe\">\n",
       "  <thead>\n",
       "    <tr style=\"text-align: right;\">\n",
       "      <th></th>\n",
       "      <th>id</th>\n",
       "      <th>A1_Score</th>\n",
       "      <th>A2_Score</th>\n",
       "      <th>A3_Score</th>\n",
       "      <th>A4_Score</th>\n",
       "      <th>A5_Score</th>\n",
       "      <th>A6_Score</th>\n",
       "      <th>A7_Score</th>\n",
       "      <th>A8_Score</th>\n",
       "      <th>A9_Score</th>\n",
       "      <th>...</th>\n",
       "      <th>gender</th>\n",
       "      <th>ethnicity</th>\n",
       "      <th>jundice</th>\n",
       "      <th>austim</th>\n",
       "      <th>contry_of_res</th>\n",
       "      <th>used_app_before</th>\n",
       "      <th>result</th>\n",
       "      <th>age_desc</th>\n",
       "      <th>relation</th>\n",
       "      <th>Class/ASD</th>\n",
       "    </tr>\n",
       "  </thead>\n",
       "  <tbody>\n",
       "    <tr>\n",
       "      <th>0</th>\n",
       "      <td>1</td>\n",
       "      <td>1</td>\n",
       "      <td>1</td>\n",
       "      <td>1</td>\n",
       "      <td>1</td>\n",
       "      <td>0</td>\n",
       "      <td>0</td>\n",
       "      <td>1</td>\n",
       "      <td>1</td>\n",
       "      <td>0</td>\n",
       "      <td>...</td>\n",
       "      <td>f</td>\n",
       "      <td>White-European</td>\n",
       "      <td>no</td>\n",
       "      <td>no</td>\n",
       "      <td>United States</td>\n",
       "      <td>no</td>\n",
       "      <td>6</td>\n",
       "      <td>18 and more</td>\n",
       "      <td>Self</td>\n",
       "      <td>NO</td>\n",
       "    </tr>\n",
       "    <tr>\n",
       "      <th>1</th>\n",
       "      <td>2</td>\n",
       "      <td>1</td>\n",
       "      <td>1</td>\n",
       "      <td>0</td>\n",
       "      <td>1</td>\n",
       "      <td>0</td>\n",
       "      <td>0</td>\n",
       "      <td>0</td>\n",
       "      <td>1</td>\n",
       "      <td>0</td>\n",
       "      <td>...</td>\n",
       "      <td>m</td>\n",
       "      <td>Latino</td>\n",
       "      <td>no</td>\n",
       "      <td>yes</td>\n",
       "      <td>Brazil</td>\n",
       "      <td>no</td>\n",
       "      <td>5</td>\n",
       "      <td>18 and more</td>\n",
       "      <td>Self</td>\n",
       "      <td>NO</td>\n",
       "    </tr>\n",
       "    <tr>\n",
       "      <th>2</th>\n",
       "      <td>3</td>\n",
       "      <td>1</td>\n",
       "      <td>1</td>\n",
       "      <td>0</td>\n",
       "      <td>1</td>\n",
       "      <td>1</td>\n",
       "      <td>0</td>\n",
       "      <td>1</td>\n",
       "      <td>1</td>\n",
       "      <td>1</td>\n",
       "      <td>...</td>\n",
       "      <td>m</td>\n",
       "      <td>Latino</td>\n",
       "      <td>yes</td>\n",
       "      <td>yes</td>\n",
       "      <td>Spain</td>\n",
       "      <td>no</td>\n",
       "      <td>8</td>\n",
       "      <td>18 and more</td>\n",
       "      <td>Parent</td>\n",
       "      <td>YES</td>\n",
       "    </tr>\n",
       "    <tr>\n",
       "      <th>3</th>\n",
       "      <td>4</td>\n",
       "      <td>1</td>\n",
       "      <td>1</td>\n",
       "      <td>0</td>\n",
       "      <td>1</td>\n",
       "      <td>0</td>\n",
       "      <td>0</td>\n",
       "      <td>1</td>\n",
       "      <td>1</td>\n",
       "      <td>0</td>\n",
       "      <td>...</td>\n",
       "      <td>f</td>\n",
       "      <td>White-European</td>\n",
       "      <td>no</td>\n",
       "      <td>yes</td>\n",
       "      <td>United States</td>\n",
       "      <td>no</td>\n",
       "      <td>6</td>\n",
       "      <td>18 and more</td>\n",
       "      <td>Self</td>\n",
       "      <td>NO</td>\n",
       "    </tr>\n",
       "    <tr>\n",
       "      <th>4</th>\n",
       "      <td>5</td>\n",
       "      <td>1</td>\n",
       "      <td>0</td>\n",
       "      <td>0</td>\n",
       "      <td>0</td>\n",
       "      <td>0</td>\n",
       "      <td>0</td>\n",
       "      <td>0</td>\n",
       "      <td>1</td>\n",
       "      <td>0</td>\n",
       "      <td>...</td>\n",
       "      <td>f</td>\n",
       "      <td>?</td>\n",
       "      <td>no</td>\n",
       "      <td>no</td>\n",
       "      <td>Egypt</td>\n",
       "      <td>no</td>\n",
       "      <td>2</td>\n",
       "      <td>18 and more</td>\n",
       "      <td>?</td>\n",
       "      <td>NO</td>\n",
       "    </tr>\n",
       "  </tbody>\n",
       "</table>\n",
       "<p>5 rows × 22 columns</p>\n",
       "</div>"
      ],
      "text/plain": [
       "   id  A1_Score  A2_Score  A3_Score  A4_Score  A5_Score  A6_Score  A7_Score   \n",
       "0   1         1         1         1         1         0         0         1  \\\n",
       "1   2         1         1         0         1         0         0         0   \n",
       "2   3         1         1         0         1         1         0         1   \n",
       "3   4         1         1         0         1         0         0         1   \n",
       "4   5         1         0         0         0         0         0         0   \n",
       "\n",
       "   A8_Score  A9_Score  ...  gender       ethnicity jundice austim   \n",
       "0         1         0  ...       f  White-European      no     no  \\\n",
       "1         1         0  ...       m          Latino      no    yes   \n",
       "2         1         1  ...       m          Latino     yes    yes   \n",
       "3         1         0  ...       f  White-European      no    yes   \n",
       "4         1         0  ...       f               ?      no     no   \n",
       "\n",
       "   contry_of_res used_app_before result     age_desc  relation Class/ASD  \n",
       "0  United States              no      6  18 and more      Self        NO  \n",
       "1         Brazil              no      5  18 and more      Self        NO  \n",
       "2          Spain              no      8  18 and more    Parent       YES  \n",
       "3  United States              no      6  18 and more      Self        NO  \n",
       "4          Egypt              no      2  18 and more         ?        NO  \n",
       "\n",
       "[5 rows x 22 columns]"
      ]
     },
     "execution_count": 25,
     "metadata": {},
     "output_type": "execute_result"
    }
   ],
   "source": [
    "data.head()"
   ]
  },
  {
   "cell_type": "code",
   "execution_count": 26,
   "id": "a6328f73-f62e-4926-b4d7-1c0e9d39afe1",
   "metadata": {},
   "outputs": [
    {
     "data": {
      "text/html": [
       "<div>\n",
       "<style scoped>\n",
       "    .dataframe tbody tr th:only-of-type {\n",
       "        vertical-align: middle;\n",
       "    }\n",
       "\n",
       "    .dataframe tbody tr th {\n",
       "        vertical-align: top;\n",
       "    }\n",
       "\n",
       "    .dataframe thead th {\n",
       "        text-align: right;\n",
       "    }\n",
       "</style>\n",
       "<table border=\"1\" class=\"dataframe\">\n",
       "  <thead>\n",
       "    <tr style=\"text-align: right;\">\n",
       "      <th></th>\n",
       "      <th>id</th>\n",
       "      <th>A1_Score</th>\n",
       "      <th>A2_Score</th>\n",
       "      <th>A3_Score</th>\n",
       "      <th>A4_Score</th>\n",
       "      <th>A5_Score</th>\n",
       "      <th>A6_Score</th>\n",
       "      <th>A7_Score</th>\n",
       "      <th>A8_Score</th>\n",
       "      <th>A9_Score</th>\n",
       "      <th>A10_Score</th>\n",
       "      <th>result</th>\n",
       "    </tr>\n",
       "  </thead>\n",
       "  <tbody>\n",
       "    <tr>\n",
       "      <th>count</th>\n",
       "      <td>704.000000</td>\n",
       "      <td>704.000000</td>\n",
       "      <td>704.000000</td>\n",
       "      <td>704.000000</td>\n",
       "      <td>704.000000</td>\n",
       "      <td>704.000000</td>\n",
       "      <td>704.000000</td>\n",
       "      <td>704.000000</td>\n",
       "      <td>704.000000</td>\n",
       "      <td>704.000000</td>\n",
       "      <td>704.000000</td>\n",
       "      <td>704.000000</td>\n",
       "    </tr>\n",
       "    <tr>\n",
       "      <th>mean</th>\n",
       "      <td>352.500000</td>\n",
       "      <td>0.721591</td>\n",
       "      <td>0.453125</td>\n",
       "      <td>0.457386</td>\n",
       "      <td>0.495739</td>\n",
       "      <td>0.498580</td>\n",
       "      <td>0.284091</td>\n",
       "      <td>0.417614</td>\n",
       "      <td>0.649148</td>\n",
       "      <td>0.323864</td>\n",
       "      <td>0.573864</td>\n",
       "      <td>4.875000</td>\n",
       "    </tr>\n",
       "    <tr>\n",
       "      <th>std</th>\n",
       "      <td>203.371581</td>\n",
       "      <td>0.448535</td>\n",
       "      <td>0.498152</td>\n",
       "      <td>0.498535</td>\n",
       "      <td>0.500337</td>\n",
       "      <td>0.500353</td>\n",
       "      <td>0.451301</td>\n",
       "      <td>0.493516</td>\n",
       "      <td>0.477576</td>\n",
       "      <td>0.468281</td>\n",
       "      <td>0.494866</td>\n",
       "      <td>2.501493</td>\n",
       "    </tr>\n",
       "    <tr>\n",
       "      <th>min</th>\n",
       "      <td>1.000000</td>\n",
       "      <td>0.000000</td>\n",
       "      <td>0.000000</td>\n",
       "      <td>0.000000</td>\n",
       "      <td>0.000000</td>\n",
       "      <td>0.000000</td>\n",
       "      <td>0.000000</td>\n",
       "      <td>0.000000</td>\n",
       "      <td>0.000000</td>\n",
       "      <td>0.000000</td>\n",
       "      <td>0.000000</td>\n",
       "      <td>0.000000</td>\n",
       "    </tr>\n",
       "    <tr>\n",
       "      <th>25%</th>\n",
       "      <td>176.750000</td>\n",
       "      <td>0.000000</td>\n",
       "      <td>0.000000</td>\n",
       "      <td>0.000000</td>\n",
       "      <td>0.000000</td>\n",
       "      <td>0.000000</td>\n",
       "      <td>0.000000</td>\n",
       "      <td>0.000000</td>\n",
       "      <td>0.000000</td>\n",
       "      <td>0.000000</td>\n",
       "      <td>0.000000</td>\n",
       "      <td>3.000000</td>\n",
       "    </tr>\n",
       "    <tr>\n",
       "      <th>50%</th>\n",
       "      <td>352.500000</td>\n",
       "      <td>1.000000</td>\n",
       "      <td>0.000000</td>\n",
       "      <td>0.000000</td>\n",
       "      <td>0.000000</td>\n",
       "      <td>0.000000</td>\n",
       "      <td>0.000000</td>\n",
       "      <td>0.000000</td>\n",
       "      <td>1.000000</td>\n",
       "      <td>0.000000</td>\n",
       "      <td>1.000000</td>\n",
       "      <td>4.000000</td>\n",
       "    </tr>\n",
       "    <tr>\n",
       "      <th>75%</th>\n",
       "      <td>528.250000</td>\n",
       "      <td>1.000000</td>\n",
       "      <td>1.000000</td>\n",
       "      <td>1.000000</td>\n",
       "      <td>1.000000</td>\n",
       "      <td>1.000000</td>\n",
       "      <td>1.000000</td>\n",
       "      <td>1.000000</td>\n",
       "      <td>1.000000</td>\n",
       "      <td>1.000000</td>\n",
       "      <td>1.000000</td>\n",
       "      <td>7.000000</td>\n",
       "    </tr>\n",
       "    <tr>\n",
       "      <th>max</th>\n",
       "      <td>704.000000</td>\n",
       "      <td>1.000000</td>\n",
       "      <td>1.000000</td>\n",
       "      <td>1.000000</td>\n",
       "      <td>1.000000</td>\n",
       "      <td>1.000000</td>\n",
       "      <td>1.000000</td>\n",
       "      <td>1.000000</td>\n",
       "      <td>1.000000</td>\n",
       "      <td>1.000000</td>\n",
       "      <td>1.000000</td>\n",
       "      <td>10.000000</td>\n",
       "    </tr>\n",
       "  </tbody>\n",
       "</table>\n",
       "</div>"
      ],
      "text/plain": [
       "               id    A1_Score    A2_Score    A3_Score    A4_Score    A5_Score   \n",
       "count  704.000000  704.000000  704.000000  704.000000  704.000000  704.000000  \\\n",
       "mean   352.500000    0.721591    0.453125    0.457386    0.495739    0.498580   \n",
       "std    203.371581    0.448535    0.498152    0.498535    0.500337    0.500353   \n",
       "min      1.000000    0.000000    0.000000    0.000000    0.000000    0.000000   \n",
       "25%    176.750000    0.000000    0.000000    0.000000    0.000000    0.000000   \n",
       "50%    352.500000    1.000000    0.000000    0.000000    0.000000    0.000000   \n",
       "75%    528.250000    1.000000    1.000000    1.000000    1.000000    1.000000   \n",
       "max    704.000000    1.000000    1.000000    1.000000    1.000000    1.000000   \n",
       "\n",
       "         A6_Score    A7_Score    A8_Score    A9_Score   A10_Score      result  \n",
       "count  704.000000  704.000000  704.000000  704.000000  704.000000  704.000000  \n",
       "mean     0.284091    0.417614    0.649148    0.323864    0.573864    4.875000  \n",
       "std      0.451301    0.493516    0.477576    0.468281    0.494866    2.501493  \n",
       "min      0.000000    0.000000    0.000000    0.000000    0.000000    0.000000  \n",
       "25%      0.000000    0.000000    0.000000    0.000000    0.000000    3.000000  \n",
       "50%      0.000000    0.000000    1.000000    0.000000    1.000000    4.000000  \n",
       "75%      1.000000    1.000000    1.000000    1.000000    1.000000    7.000000  \n",
       "max      1.000000    1.000000    1.000000    1.000000    1.000000   10.000000  "
      ]
     },
     "execution_count": 26,
     "metadata": {},
     "output_type": "execute_result"
    }
   ],
   "source": [
    "data.describe()"
   ]
  },
  {
   "cell_type": "code",
   "execution_count": 27,
   "id": "ab6f2059-30d5-4faa-ba0e-2713dc9b90f9",
   "metadata": {},
   "outputs": [
    {
     "name": "stdout",
     "output_type": "stream",
     "text": [
      "<class 'pandas.core.frame.DataFrame'>\n",
      "RangeIndex: 704 entries, 0 to 703\n",
      "Data columns (total 22 columns):\n",
      " #   Column           Non-Null Count  Dtype \n",
      "---  ------           --------------  ----- \n",
      " 0   id               704 non-null    int64 \n",
      " 1   A1_Score         704 non-null    int64 \n",
      " 2   A2_Score         704 non-null    int64 \n",
      " 3   A3_Score         704 non-null    int64 \n",
      " 4   A4_Score         704 non-null    int64 \n",
      " 5   A5_Score         704 non-null    int64 \n",
      " 6   A6_Score         704 non-null    int64 \n",
      " 7   A7_Score         704 non-null    int64 \n",
      " 8   A8_Score         704 non-null    int64 \n",
      " 9   A9_Score         704 non-null    int64 \n",
      " 10  A10_Score        704 non-null    int64 \n",
      " 11  age              704 non-null    object\n",
      " 12  gender           704 non-null    object\n",
      " 13  ethnicity        704 non-null    object\n",
      " 14  jundice          704 non-null    object\n",
      " 15  austim           704 non-null    object\n",
      " 16  contry_of_res    704 non-null    object\n",
      " 17  used_app_before  704 non-null    object\n",
      " 18  result           704 non-null    int64 \n",
      " 19  age_desc         704 non-null    object\n",
      " 20  relation         704 non-null    object\n",
      " 21  Class/ASD        704 non-null    object\n",
      "dtypes: int64(12), object(10)\n",
      "memory usage: 121.1+ KB\n"
     ]
    }
   ],
   "source": [
    "data.info()"
   ]
  },
  {
   "cell_type": "markdown",
   "id": "498d4c7c",
   "metadata": {},
   "source": [
    "# Data cleaning"
   ]
  },
  {
   "cell_type": "code",
   "execution_count": 28,
   "id": "fcb94863-0078-4f36-86b0-80e58cd37418",
   "metadata": {},
   "outputs": [
    {
     "data": {
      "text/plain": [
       "array(['18 and more'], dtype=object)"
      ]
     },
     "execution_count": 28,
     "metadata": {},
     "output_type": "execute_result"
    }
   ],
   "source": [
    "data.age_desc.unique() # remove this variable"
   ]
  },
  {
   "cell_type": "code",
   "execution_count": 29,
   "id": "8517198d",
   "metadata": {},
   "outputs": [],
   "source": [
    "data.drop(['id', 'age_desc'], axis=1, inplace=True)"
   ]
  },
  {
   "cell_type": "code",
   "execution_count": 30,
   "id": "ef3a6d52-d335-4a7b-a527-d8c9b8e97f9e",
   "metadata": {},
   "outputs": [],
   "source": [
    "lst = list()\n",
    "for i in data.age:\n",
    "    if i == '?':\n",
    "        lst.append(np.NaN)\n",
    "    else:\n",
    "        lst.append(i)\n",
    "data.age = lst\n",
    "data.age = pd.to_numeric(data.age)"
   ]
  },
  {
   "cell_type": "code",
   "execution_count": 31,
   "id": "3ba82d90-4954-43f9-b4fa-941315340b30",
   "metadata": {},
   "outputs": [
    {
     "data": {
      "text/html": [
       "<div>\n",
       "<style scoped>\n",
       "    .dataframe tbody tr th:only-of-type {\n",
       "        vertical-align: middle;\n",
       "    }\n",
       "\n",
       "    .dataframe tbody tr th {\n",
       "        vertical-align: top;\n",
       "    }\n",
       "\n",
       "    .dataframe thead th {\n",
       "        text-align: right;\n",
       "    }\n",
       "</style>\n",
       "<table border=\"1\" class=\"dataframe\">\n",
       "  <thead>\n",
       "    <tr style=\"text-align: right;\">\n",
       "      <th></th>\n",
       "      <th>A1_Score</th>\n",
       "      <th>A2_Score</th>\n",
       "      <th>A3_Score</th>\n",
       "      <th>A4_Score</th>\n",
       "      <th>A5_Score</th>\n",
       "      <th>A6_Score</th>\n",
       "      <th>A7_Score</th>\n",
       "      <th>A8_Score</th>\n",
       "      <th>A9_Score</th>\n",
       "      <th>A10_Score</th>\n",
       "      <th>age</th>\n",
       "      <th>result</th>\n",
       "    </tr>\n",
       "  </thead>\n",
       "  <tbody>\n",
       "    <tr>\n",
       "      <th>count</th>\n",
       "      <td>704.000000</td>\n",
       "      <td>704.000000</td>\n",
       "      <td>704.000000</td>\n",
       "      <td>704.000000</td>\n",
       "      <td>704.000000</td>\n",
       "      <td>704.000000</td>\n",
       "      <td>704.000000</td>\n",
       "      <td>704.000000</td>\n",
       "      <td>704.000000</td>\n",
       "      <td>704.000000</td>\n",
       "      <td>702.000000</td>\n",
       "      <td>704.000000</td>\n",
       "    </tr>\n",
       "    <tr>\n",
       "      <th>mean</th>\n",
       "      <td>0.721591</td>\n",
       "      <td>0.453125</td>\n",
       "      <td>0.457386</td>\n",
       "      <td>0.495739</td>\n",
       "      <td>0.498580</td>\n",
       "      <td>0.284091</td>\n",
       "      <td>0.417614</td>\n",
       "      <td>0.649148</td>\n",
       "      <td>0.323864</td>\n",
       "      <td>0.573864</td>\n",
       "      <td>29.698006</td>\n",
       "      <td>4.875000</td>\n",
       "    </tr>\n",
       "    <tr>\n",
       "      <th>std</th>\n",
       "      <td>0.448535</td>\n",
       "      <td>0.498152</td>\n",
       "      <td>0.498535</td>\n",
       "      <td>0.500337</td>\n",
       "      <td>0.500353</td>\n",
       "      <td>0.451301</td>\n",
       "      <td>0.493516</td>\n",
       "      <td>0.477576</td>\n",
       "      <td>0.468281</td>\n",
       "      <td>0.494866</td>\n",
       "      <td>16.507465</td>\n",
       "      <td>2.501493</td>\n",
       "    </tr>\n",
       "    <tr>\n",
       "      <th>min</th>\n",
       "      <td>0.000000</td>\n",
       "      <td>0.000000</td>\n",
       "      <td>0.000000</td>\n",
       "      <td>0.000000</td>\n",
       "      <td>0.000000</td>\n",
       "      <td>0.000000</td>\n",
       "      <td>0.000000</td>\n",
       "      <td>0.000000</td>\n",
       "      <td>0.000000</td>\n",
       "      <td>0.000000</td>\n",
       "      <td>17.000000</td>\n",
       "      <td>0.000000</td>\n",
       "    </tr>\n",
       "    <tr>\n",
       "      <th>25%</th>\n",
       "      <td>0.000000</td>\n",
       "      <td>0.000000</td>\n",
       "      <td>0.000000</td>\n",
       "      <td>0.000000</td>\n",
       "      <td>0.000000</td>\n",
       "      <td>0.000000</td>\n",
       "      <td>0.000000</td>\n",
       "      <td>0.000000</td>\n",
       "      <td>0.000000</td>\n",
       "      <td>0.000000</td>\n",
       "      <td>21.000000</td>\n",
       "      <td>3.000000</td>\n",
       "    </tr>\n",
       "    <tr>\n",
       "      <th>50%</th>\n",
       "      <td>1.000000</td>\n",
       "      <td>0.000000</td>\n",
       "      <td>0.000000</td>\n",
       "      <td>0.000000</td>\n",
       "      <td>0.000000</td>\n",
       "      <td>0.000000</td>\n",
       "      <td>0.000000</td>\n",
       "      <td>1.000000</td>\n",
       "      <td>0.000000</td>\n",
       "      <td>1.000000</td>\n",
       "      <td>27.000000</td>\n",
       "      <td>4.000000</td>\n",
       "    </tr>\n",
       "    <tr>\n",
       "      <th>75%</th>\n",
       "      <td>1.000000</td>\n",
       "      <td>1.000000</td>\n",
       "      <td>1.000000</td>\n",
       "      <td>1.000000</td>\n",
       "      <td>1.000000</td>\n",
       "      <td>1.000000</td>\n",
       "      <td>1.000000</td>\n",
       "      <td>1.000000</td>\n",
       "      <td>1.000000</td>\n",
       "      <td>1.000000</td>\n",
       "      <td>35.000000</td>\n",
       "      <td>7.000000</td>\n",
       "    </tr>\n",
       "    <tr>\n",
       "      <th>max</th>\n",
       "      <td>1.000000</td>\n",
       "      <td>1.000000</td>\n",
       "      <td>1.000000</td>\n",
       "      <td>1.000000</td>\n",
       "      <td>1.000000</td>\n",
       "      <td>1.000000</td>\n",
       "      <td>1.000000</td>\n",
       "      <td>1.000000</td>\n",
       "      <td>1.000000</td>\n",
       "      <td>1.000000</td>\n",
       "      <td>383.000000</td>\n",
       "      <td>10.000000</td>\n",
       "    </tr>\n",
       "  </tbody>\n",
       "</table>\n",
       "</div>"
      ],
      "text/plain": [
       "         A1_Score    A2_Score    A3_Score    A4_Score    A5_Score    A6_Score   \n",
       "count  704.000000  704.000000  704.000000  704.000000  704.000000  704.000000  \\\n",
       "mean     0.721591    0.453125    0.457386    0.495739    0.498580    0.284091   \n",
       "std      0.448535    0.498152    0.498535    0.500337    0.500353    0.451301   \n",
       "min      0.000000    0.000000    0.000000    0.000000    0.000000    0.000000   \n",
       "25%      0.000000    0.000000    0.000000    0.000000    0.000000    0.000000   \n",
       "50%      1.000000    0.000000    0.000000    0.000000    0.000000    0.000000   \n",
       "75%      1.000000    1.000000    1.000000    1.000000    1.000000    1.000000   \n",
       "max      1.000000    1.000000    1.000000    1.000000    1.000000    1.000000   \n",
       "\n",
       "         A7_Score    A8_Score    A9_Score   A10_Score         age      result  \n",
       "count  704.000000  704.000000  704.000000  704.000000  702.000000  704.000000  \n",
       "mean     0.417614    0.649148    0.323864    0.573864   29.698006    4.875000  \n",
       "std      0.493516    0.477576    0.468281    0.494866   16.507465    2.501493  \n",
       "min      0.000000    0.000000    0.000000    0.000000   17.000000    0.000000  \n",
       "25%      0.000000    0.000000    0.000000    0.000000   21.000000    3.000000  \n",
       "50%      0.000000    1.000000    0.000000    1.000000   27.000000    4.000000  \n",
       "75%      1.000000    1.000000    1.000000    1.000000   35.000000    7.000000  \n",
       "max      1.000000    1.000000    1.000000    1.000000  383.000000   10.000000  "
      ]
     },
     "execution_count": 31,
     "metadata": {},
     "output_type": "execute_result"
    }
   ],
   "source": [
    "data.describe()"
   ]
  },
  {
   "cell_type": "code",
   "execution_count": 32,
   "id": "b4e2e8cd",
   "metadata": {},
   "outputs": [],
   "source": [
    "from plotly.subplots import make_subplots\n",
    "import plotly.graph_objects as go"
   ]
  },
  {
   "cell_type": "code",
   "execution_count": 34,
   "id": "84995a60",
   "metadata": {},
   "outputs": [
    {
     "data": {
      "application/vnd.plotly.v1+json": {
       "config": {
        "plotlyServerURL": "https://plot.ly"
       },
       "data": [
        {
         "boxmean": true,
         "boxpoints": "all",
         "name": "Age",
         "notched": true,
         "type": "box",
         "y": [
          26,
          24,
          27,
          35,
          40,
          36,
          17,
          64,
          29,
          17,
          33,
          18,
          17,
          17,
          17,
          18,
          31,
          30,
          35,
          34,
          38,
          27,
          27,
          42,
          43,
          24,
          40,
          40,
          48,
          31,
          18,
          37,
          55,
          18,
          18,
          55,
          50,
          34,
          53,
          35,
          20,
          28,
          34,
          36,
          27,
          53,
          24,
          24,
          55,
          30,
          21,
          35,
          383,
          21,
          47,
          30,
          28,
          43,
          32,
          44,
          20,
          20,
          null,
          19,
          29,
          21,
          27,
          21,
          35,
          42,
          29,
          58,
          21,
          21,
          37,
          21,
          20,
          33,
          20,
          45,
          32,
          30,
          33,
          42,
          17,
          27,
          35,
          37,
          30,
          29,
          17,
          null,
          22,
          19,
          42,
          37,
          28,
          22,
          26,
          21,
          26,
          39,
          26,
          26,
          21,
          25,
          26,
          30,
          19,
          19,
          25,
          23,
          31,
          27,
          29,
          38,
          23,
          27,
          27,
          42,
          20,
          17,
          20,
          30,
          28,
          26,
          26,
          31,
          40,
          39,
          18,
          24,
          23,
          24,
          24,
          27,
          24,
          25,
          22,
          40,
          23,
          29,
          25,
          27,
          22,
          28,
          20,
          19,
          37,
          35,
          26,
          23,
          32,
          30,
          31,
          28,
          29,
          29,
          29,
          31,
          36,
          32,
          34,
          24,
          24,
          42,
          26,
          27,
          36,
          36,
          55,
          23,
          22,
          42,
          54,
          43,
          43,
          29,
          29,
          37,
          39,
          18,
          31,
          34,
          22,
          28,
          38,
          28,
          53,
          26,
          37,
          42,
          43,
          32,
          31,
          53,
          28,
          38,
          31,
          31,
          21,
          25,
          25,
          60,
          39,
          53,
          20,
          25,
          50,
          28,
          37,
          30,
          32,
          34,
          42,
          22,
          37,
          39,
          18,
          54,
          42,
          27,
          22,
          22,
          21,
          28,
          17,
          28,
          21,
          31,
          20,
          21,
          22,
          21,
          24,
          24,
          25,
          17,
          21,
          23,
          21,
          22,
          24,
          34,
          30,
          29,
          20,
          23,
          26,
          20,
          41,
          24,
          35,
          23,
          36,
          33,
          24,
          25,
          25,
          25,
          24,
          27,
          26,
          26,
          23,
          30,
          25,
          23,
          34,
          20,
          22,
          33,
          46,
          17,
          45,
          26,
          30,
          32,
          38,
          26,
          29,
          33,
          32,
          44,
          47,
          32,
          40,
          40,
          44,
          56,
          23,
          32,
          27,
          28,
          40,
          45,
          19,
          55,
          27,
          19,
          29,
          33,
          48,
          37,
          30,
          37,
          28,
          20,
          25,
          58,
          36,
          36,
          19,
          19,
          22,
          20,
          24,
          19,
          21,
          20,
          18,
          23,
          22,
          18,
          37,
          18,
          18,
          18,
          18,
          18,
          18,
          19,
          55,
          32,
          50,
          40,
          47,
          20,
          22,
          21,
          21,
          19,
          21,
          21,
          23,
          21,
          21,
          23,
          20,
          21,
          20,
          19,
          21,
          26,
          21,
          19,
          22,
          19,
          22,
          20,
          23,
          19,
          20,
          24,
          19,
          20,
          23,
          20,
          20,
          20,
          20,
          21,
          19,
          20,
          20,
          25,
          20,
          22,
          20,
          20,
          20,
          23,
          21,
          22,
          21,
          20,
          22,
          21,
          20,
          20,
          21,
          21,
          23,
          21,
          22,
          19,
          20,
          21,
          26,
          19,
          20,
          26,
          23,
          28,
          19,
          20,
          19,
          24,
          19,
          22,
          20,
          21,
          24,
          18,
          19,
          19,
          31,
          19,
          21,
          20,
          26,
          27,
          23,
          29,
          23,
          23,
          24,
          21,
          20,
          20,
          32,
          61,
          19,
          35,
          34,
          23,
          19,
          36,
          21,
          23,
          17,
          22,
          33,
          23,
          35,
          21,
          20,
          29,
          59,
          18,
          19,
          24,
          36,
          19,
          17,
          52,
          18,
          30,
          18,
          27,
          52,
          45,
          25,
          29,
          29,
          18,
          18,
          17,
          27,
          22,
          23,
          25,
          23,
          29,
          27,
          27,
          43,
          26,
          30,
          23,
          29,
          37,
          28,
          25,
          25,
          21,
          43,
          30,
          18,
          18,
          30,
          31,
          33,
          33,
          26,
          61,
          46,
          33,
          38,
          44,
          48,
          42,
          37,
          23,
          24,
          41,
          41,
          27,
          46,
          40,
          22,
          42,
          18,
          44,
          30,
          42,
          35,
          40,
          50,
          38,
          26,
          27,
          47,
          21,
          37,
          19,
          32,
          26,
          46,
          29,
          30,
          32,
          35,
          22,
          19,
          24,
          52,
          52,
          32,
          24,
          24,
          49,
          30,
          30,
          35,
          35,
          37,
          43,
          52,
          44,
          46,
          42,
          20,
          18,
          38,
          24,
          32,
          29,
          22,
          19,
          39,
          17,
          19,
          18,
          19,
          28,
          29,
          48,
          27,
          34,
          31,
          47,
          47,
          44,
          25,
          25,
          20,
          43,
          36,
          30,
          44,
          40,
          40,
          40,
          30,
          47,
          21,
          21,
          31,
          21,
          29,
          22,
          51,
          23,
          30,
          22,
          22,
          24,
          26,
          33,
          23,
          42,
          26,
          29,
          35,
          25,
          25,
          28,
          33,
          25,
          25,
          24,
          27,
          22,
          21,
          27,
          23,
          22,
          23,
          30,
          33,
          24,
          22,
          22,
          29,
          22,
          21,
          23,
          23,
          23,
          32,
          27,
          28,
          25,
          22,
          36,
          27,
          21,
          18,
          49,
          18,
          29,
          31,
          37,
          17,
          17,
          38,
          18,
          31,
          33,
          32,
          30,
          33,
          30,
          30,
          38,
          22,
          36,
          43,
          44,
          20,
          40,
          25,
          28,
          17,
          34,
          56,
          50,
          38,
          47,
          30,
          21,
          21,
          31,
          27,
          24,
          35,
          18,
          43,
          44,
          40,
          49,
          24,
          30,
          53,
          38,
          28,
          28,
          26,
          39,
          31,
          24,
          28,
          31,
          27,
          28,
          31,
          46,
          27,
          25,
          34,
          24,
          35,
          26
         ]
        }
       ],
       "layout": {
        "autosize": false,
        "height": 1000,
        "margin": {
         "b": 100,
         "l": 50,
         "pad": 4,
         "r": 50,
         "t": 100
        },
        "template": {
         "data": {
          "bar": [
           {
            "error_x": {
             "color": "#2a3f5f"
            },
            "error_y": {
             "color": "#2a3f5f"
            },
            "marker": {
             "line": {
              "color": "#E5ECF6",
              "width": 0.5
             },
             "pattern": {
              "fillmode": "overlay",
              "size": 10,
              "solidity": 0.2
             }
            },
            "type": "bar"
           }
          ],
          "barpolar": [
           {
            "marker": {
             "line": {
              "color": "#E5ECF6",
              "width": 0.5
             },
             "pattern": {
              "fillmode": "overlay",
              "size": 10,
              "solidity": 0.2
             }
            },
            "type": "barpolar"
           }
          ],
          "carpet": [
           {
            "aaxis": {
             "endlinecolor": "#2a3f5f",
             "gridcolor": "white",
             "linecolor": "white",
             "minorgridcolor": "white",
             "startlinecolor": "#2a3f5f"
            },
            "baxis": {
             "endlinecolor": "#2a3f5f",
             "gridcolor": "white",
             "linecolor": "white",
             "minorgridcolor": "white",
             "startlinecolor": "#2a3f5f"
            },
            "type": "carpet"
           }
          ],
          "choropleth": [
           {
            "colorbar": {
             "outlinewidth": 0,
             "ticks": ""
            },
            "type": "choropleth"
           }
          ],
          "contour": [
           {
            "colorbar": {
             "outlinewidth": 0,
             "ticks": ""
            },
            "colorscale": [
             [
              0,
              "#0d0887"
             ],
             [
              0.1111111111111111,
              "#46039f"
             ],
             [
              0.2222222222222222,
              "#7201a8"
             ],
             [
              0.3333333333333333,
              "#9c179e"
             ],
             [
              0.4444444444444444,
              "#bd3786"
             ],
             [
              0.5555555555555556,
              "#d8576b"
             ],
             [
              0.6666666666666666,
              "#ed7953"
             ],
             [
              0.7777777777777778,
              "#fb9f3a"
             ],
             [
              0.8888888888888888,
              "#fdca26"
             ],
             [
              1,
              "#f0f921"
             ]
            ],
            "type": "contour"
           }
          ],
          "contourcarpet": [
           {
            "colorbar": {
             "outlinewidth": 0,
             "ticks": ""
            },
            "type": "contourcarpet"
           }
          ],
          "heatmap": [
           {
            "colorbar": {
             "outlinewidth": 0,
             "ticks": ""
            },
            "colorscale": [
             [
              0,
              "#0d0887"
             ],
             [
              0.1111111111111111,
              "#46039f"
             ],
             [
              0.2222222222222222,
              "#7201a8"
             ],
             [
              0.3333333333333333,
              "#9c179e"
             ],
             [
              0.4444444444444444,
              "#bd3786"
             ],
             [
              0.5555555555555556,
              "#d8576b"
             ],
             [
              0.6666666666666666,
              "#ed7953"
             ],
             [
              0.7777777777777778,
              "#fb9f3a"
             ],
             [
              0.8888888888888888,
              "#fdca26"
             ],
             [
              1,
              "#f0f921"
             ]
            ],
            "type": "heatmap"
           }
          ],
          "heatmapgl": [
           {
            "colorbar": {
             "outlinewidth": 0,
             "ticks": ""
            },
            "colorscale": [
             [
              0,
              "#0d0887"
             ],
             [
              0.1111111111111111,
              "#46039f"
             ],
             [
              0.2222222222222222,
              "#7201a8"
             ],
             [
              0.3333333333333333,
              "#9c179e"
             ],
             [
              0.4444444444444444,
              "#bd3786"
             ],
             [
              0.5555555555555556,
              "#d8576b"
             ],
             [
              0.6666666666666666,
              "#ed7953"
             ],
             [
              0.7777777777777778,
              "#fb9f3a"
             ],
             [
              0.8888888888888888,
              "#fdca26"
             ],
             [
              1,
              "#f0f921"
             ]
            ],
            "type": "heatmapgl"
           }
          ],
          "histogram": [
           {
            "marker": {
             "pattern": {
              "fillmode": "overlay",
              "size": 10,
              "solidity": 0.2
             }
            },
            "type": "histogram"
           }
          ],
          "histogram2d": [
           {
            "colorbar": {
             "outlinewidth": 0,
             "ticks": ""
            },
            "colorscale": [
             [
              0,
              "#0d0887"
             ],
             [
              0.1111111111111111,
              "#46039f"
             ],
             [
              0.2222222222222222,
              "#7201a8"
             ],
             [
              0.3333333333333333,
              "#9c179e"
             ],
             [
              0.4444444444444444,
              "#bd3786"
             ],
             [
              0.5555555555555556,
              "#d8576b"
             ],
             [
              0.6666666666666666,
              "#ed7953"
             ],
             [
              0.7777777777777778,
              "#fb9f3a"
             ],
             [
              0.8888888888888888,
              "#fdca26"
             ],
             [
              1,
              "#f0f921"
             ]
            ],
            "type": "histogram2d"
           }
          ],
          "histogram2dcontour": [
           {
            "colorbar": {
             "outlinewidth": 0,
             "ticks": ""
            },
            "colorscale": [
             [
              0,
              "#0d0887"
             ],
             [
              0.1111111111111111,
              "#46039f"
             ],
             [
              0.2222222222222222,
              "#7201a8"
             ],
             [
              0.3333333333333333,
              "#9c179e"
             ],
             [
              0.4444444444444444,
              "#bd3786"
             ],
             [
              0.5555555555555556,
              "#d8576b"
             ],
             [
              0.6666666666666666,
              "#ed7953"
             ],
             [
              0.7777777777777778,
              "#fb9f3a"
             ],
             [
              0.8888888888888888,
              "#fdca26"
             ],
             [
              1,
              "#f0f921"
             ]
            ],
            "type": "histogram2dcontour"
           }
          ],
          "mesh3d": [
           {
            "colorbar": {
             "outlinewidth": 0,
             "ticks": ""
            },
            "type": "mesh3d"
           }
          ],
          "parcoords": [
           {
            "line": {
             "colorbar": {
              "outlinewidth": 0,
              "ticks": ""
             }
            },
            "type": "parcoords"
           }
          ],
          "pie": [
           {
            "automargin": true,
            "type": "pie"
           }
          ],
          "scatter": [
           {
            "fillpattern": {
             "fillmode": "overlay",
             "size": 10,
             "solidity": 0.2
            },
            "type": "scatter"
           }
          ],
          "scatter3d": [
           {
            "line": {
             "colorbar": {
              "outlinewidth": 0,
              "ticks": ""
             }
            },
            "marker": {
             "colorbar": {
              "outlinewidth": 0,
              "ticks": ""
             }
            },
            "type": "scatter3d"
           }
          ],
          "scattercarpet": [
           {
            "marker": {
             "colorbar": {
              "outlinewidth": 0,
              "ticks": ""
             }
            },
            "type": "scattercarpet"
           }
          ],
          "scattergeo": [
           {
            "marker": {
             "colorbar": {
              "outlinewidth": 0,
              "ticks": ""
             }
            },
            "type": "scattergeo"
           }
          ],
          "scattergl": [
           {
            "marker": {
             "colorbar": {
              "outlinewidth": 0,
              "ticks": ""
             }
            },
            "type": "scattergl"
           }
          ],
          "scattermapbox": [
           {
            "marker": {
             "colorbar": {
              "outlinewidth": 0,
              "ticks": ""
             }
            },
            "type": "scattermapbox"
           }
          ],
          "scatterpolar": [
           {
            "marker": {
             "colorbar": {
              "outlinewidth": 0,
              "ticks": ""
             }
            },
            "type": "scatterpolar"
           }
          ],
          "scatterpolargl": [
           {
            "marker": {
             "colorbar": {
              "outlinewidth": 0,
              "ticks": ""
             }
            },
            "type": "scatterpolargl"
           }
          ],
          "scatterternary": [
           {
            "marker": {
             "colorbar": {
              "outlinewidth": 0,
              "ticks": ""
             }
            },
            "type": "scatterternary"
           }
          ],
          "surface": [
           {
            "colorbar": {
             "outlinewidth": 0,
             "ticks": ""
            },
            "colorscale": [
             [
              0,
              "#0d0887"
             ],
             [
              0.1111111111111111,
              "#46039f"
             ],
             [
              0.2222222222222222,
              "#7201a8"
             ],
             [
              0.3333333333333333,
              "#9c179e"
             ],
             [
              0.4444444444444444,
              "#bd3786"
             ],
             [
              0.5555555555555556,
              "#d8576b"
             ],
             [
              0.6666666666666666,
              "#ed7953"
             ],
             [
              0.7777777777777778,
              "#fb9f3a"
             ],
             [
              0.8888888888888888,
              "#fdca26"
             ],
             [
              1,
              "#f0f921"
             ]
            ],
            "type": "surface"
           }
          ],
          "table": [
           {
            "cells": {
             "fill": {
              "color": "#EBF0F8"
             },
             "line": {
              "color": "white"
             }
            },
            "header": {
             "fill": {
              "color": "#C8D4E3"
             },
             "line": {
              "color": "white"
             }
            },
            "type": "table"
           }
          ]
         },
         "layout": {
          "annotationdefaults": {
           "arrowcolor": "#2a3f5f",
           "arrowhead": 0,
           "arrowwidth": 1
          },
          "autotypenumbers": "strict",
          "coloraxis": {
           "colorbar": {
            "outlinewidth": 0,
            "ticks": ""
           }
          },
          "colorscale": {
           "diverging": [
            [
             0,
             "#8e0152"
            ],
            [
             0.1,
             "#c51b7d"
            ],
            [
             0.2,
             "#de77ae"
            ],
            [
             0.3,
             "#f1b6da"
            ],
            [
             0.4,
             "#fde0ef"
            ],
            [
             0.5,
             "#f7f7f7"
            ],
            [
             0.6,
             "#e6f5d0"
            ],
            [
             0.7,
             "#b8e186"
            ],
            [
             0.8,
             "#7fbc41"
            ],
            [
             0.9,
             "#4d9221"
            ],
            [
             1,
             "#276419"
            ]
           ],
           "sequential": [
            [
             0,
             "#0d0887"
            ],
            [
             0.1111111111111111,
             "#46039f"
            ],
            [
             0.2222222222222222,
             "#7201a8"
            ],
            [
             0.3333333333333333,
             "#9c179e"
            ],
            [
             0.4444444444444444,
             "#bd3786"
            ],
            [
             0.5555555555555556,
             "#d8576b"
            ],
            [
             0.6666666666666666,
             "#ed7953"
            ],
            [
             0.7777777777777778,
             "#fb9f3a"
            ],
            [
             0.8888888888888888,
             "#fdca26"
            ],
            [
             1,
             "#f0f921"
            ]
           ],
           "sequentialminus": [
            [
             0,
             "#0d0887"
            ],
            [
             0.1111111111111111,
             "#46039f"
            ],
            [
             0.2222222222222222,
             "#7201a8"
            ],
            [
             0.3333333333333333,
             "#9c179e"
            ],
            [
             0.4444444444444444,
             "#bd3786"
            ],
            [
             0.5555555555555556,
             "#d8576b"
            ],
            [
             0.6666666666666666,
             "#ed7953"
            ],
            [
             0.7777777777777778,
             "#fb9f3a"
            ],
            [
             0.8888888888888888,
             "#fdca26"
            ],
            [
             1,
             "#f0f921"
            ]
           ]
          },
          "colorway": [
           "#636efa",
           "#EF553B",
           "#00cc96",
           "#ab63fa",
           "#FFA15A",
           "#19d3f3",
           "#FF6692",
           "#B6E880",
           "#FF97FF",
           "#FECB52"
          ],
          "font": {
           "color": "#2a3f5f"
          },
          "geo": {
           "bgcolor": "white",
           "lakecolor": "white",
           "landcolor": "#E5ECF6",
           "showlakes": true,
           "showland": true,
           "subunitcolor": "white"
          },
          "hoverlabel": {
           "align": "left"
          },
          "hovermode": "closest",
          "mapbox": {
           "style": "light"
          },
          "paper_bgcolor": "white",
          "plot_bgcolor": "#E5ECF6",
          "polar": {
           "angularaxis": {
            "gridcolor": "white",
            "linecolor": "white",
            "ticks": ""
           },
           "bgcolor": "#E5ECF6",
           "radialaxis": {
            "gridcolor": "white",
            "linecolor": "white",
            "ticks": ""
           }
          },
          "scene": {
           "xaxis": {
            "backgroundcolor": "#E5ECF6",
            "gridcolor": "white",
            "gridwidth": 2,
            "linecolor": "white",
            "showbackground": true,
            "ticks": "",
            "zerolinecolor": "white"
           },
           "yaxis": {
            "backgroundcolor": "#E5ECF6",
            "gridcolor": "white",
            "gridwidth": 2,
            "linecolor": "white",
            "showbackground": true,
            "ticks": "",
            "zerolinecolor": "white"
           },
           "zaxis": {
            "backgroundcolor": "#E5ECF6",
            "gridcolor": "white",
            "gridwidth": 2,
            "linecolor": "white",
            "showbackground": true,
            "ticks": "",
            "zerolinecolor": "white"
           }
          },
          "shapedefaults": {
           "line": {
            "color": "#2a3f5f"
           }
          },
          "ternary": {
           "aaxis": {
            "gridcolor": "white",
            "linecolor": "white",
            "ticks": ""
           },
           "baxis": {
            "gridcolor": "white",
            "linecolor": "white",
            "ticks": ""
           },
           "bgcolor": "#E5ECF6",
           "caxis": {
            "gridcolor": "white",
            "linecolor": "white",
            "ticks": ""
           }
          },
          "title": {
           "x": 0.05
          },
          "xaxis": {
           "automargin": true,
           "gridcolor": "white",
           "linecolor": "white",
           "ticks": "",
           "title": {
            "standoff": 15
           },
           "zerolinecolor": "white",
           "zerolinewidth": 2
          },
          "yaxis": {
           "automargin": true,
           "gridcolor": "white",
           "linecolor": "white",
           "ticks": "",
           "title": {
            "standoff": 15
           },
           "zerolinecolor": "white",
           "zerolinewidth": 2
          }
         }
        },
        "title": {
         "text": "Box Plot for Age of ASD patients"
        },
        "width": 1000,
        "xaxis": {
         "linecolor": "black",
         "linewidth": 1,
         "mirror": true
        },
        "yaxis": {
         "linecolor": "black",
         "linewidth": 1,
         "mirror": true
        }
       }
      },
      "text/html": [
       "<div>                            <div id=\"8dd91366-c2c3-4b5e-bb43-a5213ea87a17\" class=\"plotly-graph-div\" style=\"height:1000px; width:1000px;\"></div>            <script type=\"text/javascript\">                require([\"plotly\"], function(Plotly) {                    window.PLOTLYENV=window.PLOTLYENV || {};                                    if (document.getElementById(\"8dd91366-c2c3-4b5e-bb43-a5213ea87a17\")) {                    Plotly.newPlot(                        \"8dd91366-c2c3-4b5e-bb43-a5213ea87a17\",                        [{\"boxmean\":true,\"boxpoints\":\"all\",\"name\":\"Age\",\"notched\":true,\"y\":[26.0,24.0,27.0,35.0,40.0,36.0,17.0,64.0,29.0,17.0,33.0,18.0,17.0,17.0,17.0,18.0,31.0,30.0,35.0,34.0,38.0,27.0,27.0,42.0,43.0,24.0,40.0,40.0,48.0,31.0,18.0,37.0,55.0,18.0,18.0,55.0,50.0,34.0,53.0,35.0,20.0,28.0,34.0,36.0,27.0,53.0,24.0,24.0,55.0,30.0,21.0,35.0,383.0,21.0,47.0,30.0,28.0,43.0,32.0,44.0,20.0,20.0,null,19.0,29.0,21.0,27.0,21.0,35.0,42.0,29.0,58.0,21.0,21.0,37.0,21.0,20.0,33.0,20.0,45.0,32.0,30.0,33.0,42.0,17.0,27.0,35.0,37.0,30.0,29.0,17.0,null,22.0,19.0,42.0,37.0,28.0,22.0,26.0,21.0,26.0,39.0,26.0,26.0,21.0,25.0,26.0,30.0,19.0,19.0,25.0,23.0,31.0,27.0,29.0,38.0,23.0,27.0,27.0,42.0,20.0,17.0,20.0,30.0,28.0,26.0,26.0,31.0,40.0,39.0,18.0,24.0,23.0,24.0,24.0,27.0,24.0,25.0,22.0,40.0,23.0,29.0,25.0,27.0,22.0,28.0,20.0,19.0,37.0,35.0,26.0,23.0,32.0,30.0,31.0,28.0,29.0,29.0,29.0,31.0,36.0,32.0,34.0,24.0,24.0,42.0,26.0,27.0,36.0,36.0,55.0,23.0,22.0,42.0,54.0,43.0,43.0,29.0,29.0,37.0,39.0,18.0,31.0,34.0,22.0,28.0,38.0,28.0,53.0,26.0,37.0,42.0,43.0,32.0,31.0,53.0,28.0,38.0,31.0,31.0,21.0,25.0,25.0,60.0,39.0,53.0,20.0,25.0,50.0,28.0,37.0,30.0,32.0,34.0,42.0,22.0,37.0,39.0,18.0,54.0,42.0,27.0,22.0,22.0,21.0,28.0,17.0,28.0,21.0,31.0,20.0,21.0,22.0,21.0,24.0,24.0,25.0,17.0,21.0,23.0,21.0,22.0,24.0,34.0,30.0,29.0,20.0,23.0,26.0,20.0,41.0,24.0,35.0,23.0,36.0,33.0,24.0,25.0,25.0,25.0,24.0,27.0,26.0,26.0,23.0,30.0,25.0,23.0,34.0,20.0,22.0,33.0,46.0,17.0,45.0,26.0,30.0,32.0,38.0,26.0,29.0,33.0,32.0,44.0,47.0,32.0,40.0,40.0,44.0,56.0,23.0,32.0,27.0,28.0,40.0,45.0,19.0,55.0,27.0,19.0,29.0,33.0,48.0,37.0,30.0,37.0,28.0,20.0,25.0,58.0,36.0,36.0,19.0,19.0,22.0,20.0,24.0,19.0,21.0,20.0,18.0,23.0,22.0,18.0,37.0,18.0,18.0,18.0,18.0,18.0,18.0,19.0,55.0,32.0,50.0,40.0,47.0,20.0,22.0,21.0,21.0,19.0,21.0,21.0,23.0,21.0,21.0,23.0,20.0,21.0,20.0,19.0,21.0,26.0,21.0,19.0,22.0,19.0,22.0,20.0,23.0,19.0,20.0,24.0,19.0,20.0,23.0,20.0,20.0,20.0,20.0,21.0,19.0,20.0,20.0,25.0,20.0,22.0,20.0,20.0,20.0,23.0,21.0,22.0,21.0,20.0,22.0,21.0,20.0,20.0,21.0,21.0,23.0,21.0,22.0,19.0,20.0,21.0,26.0,19.0,20.0,26.0,23.0,28.0,19.0,20.0,19.0,24.0,19.0,22.0,20.0,21.0,24.0,18.0,19.0,19.0,31.0,19.0,21.0,20.0,26.0,27.0,23.0,29.0,23.0,23.0,24.0,21.0,20.0,20.0,32.0,61.0,19.0,35.0,34.0,23.0,19.0,36.0,21.0,23.0,17.0,22.0,33.0,23.0,35.0,21.0,20.0,29.0,59.0,18.0,19.0,24.0,36.0,19.0,17.0,52.0,18.0,30.0,18.0,27.0,52.0,45.0,25.0,29.0,29.0,18.0,18.0,17.0,27.0,22.0,23.0,25.0,23.0,29.0,27.0,27.0,43.0,26.0,30.0,23.0,29.0,37.0,28.0,25.0,25.0,21.0,43.0,30.0,18.0,18.0,30.0,31.0,33.0,33.0,26.0,61.0,46.0,33.0,38.0,44.0,48.0,42.0,37.0,23.0,24.0,41.0,41.0,27.0,46.0,40.0,22.0,42.0,18.0,44.0,30.0,42.0,35.0,40.0,50.0,38.0,26.0,27.0,47.0,21.0,37.0,19.0,32.0,26.0,46.0,29.0,30.0,32.0,35.0,22.0,19.0,24.0,52.0,52.0,32.0,24.0,24.0,49.0,30.0,30.0,35.0,35.0,37.0,43.0,52.0,44.0,46.0,42.0,20.0,18.0,38.0,24.0,32.0,29.0,22.0,19.0,39.0,17.0,19.0,18.0,19.0,28.0,29.0,48.0,27.0,34.0,31.0,47.0,47.0,44.0,25.0,25.0,20.0,43.0,36.0,30.0,44.0,40.0,40.0,40.0,30.0,47.0,21.0,21.0,31.0,21.0,29.0,22.0,51.0,23.0,30.0,22.0,22.0,24.0,26.0,33.0,23.0,42.0,26.0,29.0,35.0,25.0,25.0,28.0,33.0,25.0,25.0,24.0,27.0,22.0,21.0,27.0,23.0,22.0,23.0,30.0,33.0,24.0,22.0,22.0,29.0,22.0,21.0,23.0,23.0,23.0,32.0,27.0,28.0,25.0,22.0,36.0,27.0,21.0,18.0,49.0,18.0,29.0,31.0,37.0,17.0,17.0,38.0,18.0,31.0,33.0,32.0,30.0,33.0,30.0,30.0,38.0,22.0,36.0,43.0,44.0,20.0,40.0,25.0,28.0,17.0,34.0,56.0,50.0,38.0,47.0,30.0,21.0,21.0,31.0,27.0,24.0,35.0,18.0,43.0,44.0,40.0,49.0,24.0,30.0,53.0,38.0,28.0,28.0,26.0,39.0,31.0,24.0,28.0,31.0,27.0,28.0,31.0,46.0,27.0,25.0,34.0,24.0,35.0,26.0],\"type\":\"box\"}],                        {\"autosize\":false,\"height\":1000,\"margin\":{\"b\":100,\"l\":50,\"pad\":4,\"r\":50,\"t\":100},\"width\":1000,\"xaxis\":{\"linecolor\":\"black\",\"linewidth\":1,\"mirror\":true},\"yaxis\":{\"linecolor\":\"black\",\"linewidth\":1,\"mirror\":true},\"template\":{\"data\":{\"histogram2dcontour\":[{\"type\":\"histogram2dcontour\",\"colorbar\":{\"outlinewidth\":0,\"ticks\":\"\"},\"colorscale\":[[0.0,\"#0d0887\"],[0.1111111111111111,\"#46039f\"],[0.2222222222222222,\"#7201a8\"],[0.3333333333333333,\"#9c179e\"],[0.4444444444444444,\"#bd3786\"],[0.5555555555555556,\"#d8576b\"],[0.6666666666666666,\"#ed7953\"],[0.7777777777777778,\"#fb9f3a\"],[0.8888888888888888,\"#fdca26\"],[1.0,\"#f0f921\"]]}],\"choropleth\":[{\"type\":\"choropleth\",\"colorbar\":{\"outlinewidth\":0,\"ticks\":\"\"}}],\"histogram2d\":[{\"type\":\"histogram2d\",\"colorbar\":{\"outlinewidth\":0,\"ticks\":\"\"},\"colorscale\":[[0.0,\"#0d0887\"],[0.1111111111111111,\"#46039f\"],[0.2222222222222222,\"#7201a8\"],[0.3333333333333333,\"#9c179e\"],[0.4444444444444444,\"#bd3786\"],[0.5555555555555556,\"#d8576b\"],[0.6666666666666666,\"#ed7953\"],[0.7777777777777778,\"#fb9f3a\"],[0.8888888888888888,\"#fdca26\"],[1.0,\"#f0f921\"]]}],\"heatmap\":[{\"type\":\"heatmap\",\"colorbar\":{\"outlinewidth\":0,\"ticks\":\"\"},\"colorscale\":[[0.0,\"#0d0887\"],[0.1111111111111111,\"#46039f\"],[0.2222222222222222,\"#7201a8\"],[0.3333333333333333,\"#9c179e\"],[0.4444444444444444,\"#bd3786\"],[0.5555555555555556,\"#d8576b\"],[0.6666666666666666,\"#ed7953\"],[0.7777777777777778,\"#fb9f3a\"],[0.8888888888888888,\"#fdca26\"],[1.0,\"#f0f921\"]]}],\"heatmapgl\":[{\"type\":\"heatmapgl\",\"colorbar\":{\"outlinewidth\":0,\"ticks\":\"\"},\"colorscale\":[[0.0,\"#0d0887\"],[0.1111111111111111,\"#46039f\"],[0.2222222222222222,\"#7201a8\"],[0.3333333333333333,\"#9c179e\"],[0.4444444444444444,\"#bd3786\"],[0.5555555555555556,\"#d8576b\"],[0.6666666666666666,\"#ed7953\"],[0.7777777777777778,\"#fb9f3a\"],[0.8888888888888888,\"#fdca26\"],[1.0,\"#f0f921\"]]}],\"contourcarpet\":[{\"type\":\"contourcarpet\",\"colorbar\":{\"outlinewidth\":0,\"ticks\":\"\"}}],\"contour\":[{\"type\":\"contour\",\"colorbar\":{\"outlinewidth\":0,\"ticks\":\"\"},\"colorscale\":[[0.0,\"#0d0887\"],[0.1111111111111111,\"#46039f\"],[0.2222222222222222,\"#7201a8\"],[0.3333333333333333,\"#9c179e\"],[0.4444444444444444,\"#bd3786\"],[0.5555555555555556,\"#d8576b\"],[0.6666666666666666,\"#ed7953\"],[0.7777777777777778,\"#fb9f3a\"],[0.8888888888888888,\"#fdca26\"],[1.0,\"#f0f921\"]]}],\"surface\":[{\"type\":\"surface\",\"colorbar\":{\"outlinewidth\":0,\"ticks\":\"\"},\"colorscale\":[[0.0,\"#0d0887\"],[0.1111111111111111,\"#46039f\"],[0.2222222222222222,\"#7201a8\"],[0.3333333333333333,\"#9c179e\"],[0.4444444444444444,\"#bd3786\"],[0.5555555555555556,\"#d8576b\"],[0.6666666666666666,\"#ed7953\"],[0.7777777777777778,\"#fb9f3a\"],[0.8888888888888888,\"#fdca26\"],[1.0,\"#f0f921\"]]}],\"mesh3d\":[{\"type\":\"mesh3d\",\"colorbar\":{\"outlinewidth\":0,\"ticks\":\"\"}}],\"scatter\":[{\"fillpattern\":{\"fillmode\":\"overlay\",\"size\":10,\"solidity\":0.2},\"type\":\"scatter\"}],\"parcoords\":[{\"type\":\"parcoords\",\"line\":{\"colorbar\":{\"outlinewidth\":0,\"ticks\":\"\"}}}],\"scatterpolargl\":[{\"type\":\"scatterpolargl\",\"marker\":{\"colorbar\":{\"outlinewidth\":0,\"ticks\":\"\"}}}],\"bar\":[{\"error_x\":{\"color\":\"#2a3f5f\"},\"error_y\":{\"color\":\"#2a3f5f\"},\"marker\":{\"line\":{\"color\":\"#E5ECF6\",\"width\":0.5},\"pattern\":{\"fillmode\":\"overlay\",\"size\":10,\"solidity\":0.2}},\"type\":\"bar\"}],\"scattergeo\":[{\"type\":\"scattergeo\",\"marker\":{\"colorbar\":{\"outlinewidth\":0,\"ticks\":\"\"}}}],\"scatterpolar\":[{\"type\":\"scatterpolar\",\"marker\":{\"colorbar\":{\"outlinewidth\":0,\"ticks\":\"\"}}}],\"histogram\":[{\"marker\":{\"pattern\":{\"fillmode\":\"overlay\",\"size\":10,\"solidity\":0.2}},\"type\":\"histogram\"}],\"scattergl\":[{\"type\":\"scattergl\",\"marker\":{\"colorbar\":{\"outlinewidth\":0,\"ticks\":\"\"}}}],\"scatter3d\":[{\"type\":\"scatter3d\",\"line\":{\"colorbar\":{\"outlinewidth\":0,\"ticks\":\"\"}},\"marker\":{\"colorbar\":{\"outlinewidth\":0,\"ticks\":\"\"}}}],\"scattermapbox\":[{\"type\":\"scattermapbox\",\"marker\":{\"colorbar\":{\"outlinewidth\":0,\"ticks\":\"\"}}}],\"scatterternary\":[{\"type\":\"scatterternary\",\"marker\":{\"colorbar\":{\"outlinewidth\":0,\"ticks\":\"\"}}}],\"scattercarpet\":[{\"type\":\"scattercarpet\",\"marker\":{\"colorbar\":{\"outlinewidth\":0,\"ticks\":\"\"}}}],\"carpet\":[{\"aaxis\":{\"endlinecolor\":\"#2a3f5f\",\"gridcolor\":\"white\",\"linecolor\":\"white\",\"minorgridcolor\":\"white\",\"startlinecolor\":\"#2a3f5f\"},\"baxis\":{\"endlinecolor\":\"#2a3f5f\",\"gridcolor\":\"white\",\"linecolor\":\"white\",\"minorgridcolor\":\"white\",\"startlinecolor\":\"#2a3f5f\"},\"type\":\"carpet\"}],\"table\":[{\"cells\":{\"fill\":{\"color\":\"#EBF0F8\"},\"line\":{\"color\":\"white\"}},\"header\":{\"fill\":{\"color\":\"#C8D4E3\"},\"line\":{\"color\":\"white\"}},\"type\":\"table\"}],\"barpolar\":[{\"marker\":{\"line\":{\"color\":\"#E5ECF6\",\"width\":0.5},\"pattern\":{\"fillmode\":\"overlay\",\"size\":10,\"solidity\":0.2}},\"type\":\"barpolar\"}],\"pie\":[{\"automargin\":true,\"type\":\"pie\"}]},\"layout\":{\"autotypenumbers\":\"strict\",\"colorway\":[\"#636efa\",\"#EF553B\",\"#00cc96\",\"#ab63fa\",\"#FFA15A\",\"#19d3f3\",\"#FF6692\",\"#B6E880\",\"#FF97FF\",\"#FECB52\"],\"font\":{\"color\":\"#2a3f5f\"},\"hovermode\":\"closest\",\"hoverlabel\":{\"align\":\"left\"},\"paper_bgcolor\":\"white\",\"plot_bgcolor\":\"#E5ECF6\",\"polar\":{\"bgcolor\":\"#E5ECF6\",\"angularaxis\":{\"gridcolor\":\"white\",\"linecolor\":\"white\",\"ticks\":\"\"},\"radialaxis\":{\"gridcolor\":\"white\",\"linecolor\":\"white\",\"ticks\":\"\"}},\"ternary\":{\"bgcolor\":\"#E5ECF6\",\"aaxis\":{\"gridcolor\":\"white\",\"linecolor\":\"white\",\"ticks\":\"\"},\"baxis\":{\"gridcolor\":\"white\",\"linecolor\":\"white\",\"ticks\":\"\"},\"caxis\":{\"gridcolor\":\"white\",\"linecolor\":\"white\",\"ticks\":\"\"}},\"coloraxis\":{\"colorbar\":{\"outlinewidth\":0,\"ticks\":\"\"}},\"colorscale\":{\"sequential\":[[0.0,\"#0d0887\"],[0.1111111111111111,\"#46039f\"],[0.2222222222222222,\"#7201a8\"],[0.3333333333333333,\"#9c179e\"],[0.4444444444444444,\"#bd3786\"],[0.5555555555555556,\"#d8576b\"],[0.6666666666666666,\"#ed7953\"],[0.7777777777777778,\"#fb9f3a\"],[0.8888888888888888,\"#fdca26\"],[1.0,\"#f0f921\"]],\"sequentialminus\":[[0.0,\"#0d0887\"],[0.1111111111111111,\"#46039f\"],[0.2222222222222222,\"#7201a8\"],[0.3333333333333333,\"#9c179e\"],[0.4444444444444444,\"#bd3786\"],[0.5555555555555556,\"#d8576b\"],[0.6666666666666666,\"#ed7953\"],[0.7777777777777778,\"#fb9f3a\"],[0.8888888888888888,\"#fdca26\"],[1.0,\"#f0f921\"]],\"diverging\":[[0,\"#8e0152\"],[0.1,\"#c51b7d\"],[0.2,\"#de77ae\"],[0.3,\"#f1b6da\"],[0.4,\"#fde0ef\"],[0.5,\"#f7f7f7\"],[0.6,\"#e6f5d0\"],[0.7,\"#b8e186\"],[0.8,\"#7fbc41\"],[0.9,\"#4d9221\"],[1,\"#276419\"]]},\"xaxis\":{\"gridcolor\":\"white\",\"linecolor\":\"white\",\"ticks\":\"\",\"title\":{\"standoff\":15},\"zerolinecolor\":\"white\",\"automargin\":true,\"zerolinewidth\":2},\"yaxis\":{\"gridcolor\":\"white\",\"linecolor\":\"white\",\"ticks\":\"\",\"title\":{\"standoff\":15},\"zerolinecolor\":\"white\",\"automargin\":true,\"zerolinewidth\":2},\"scene\":{\"xaxis\":{\"backgroundcolor\":\"#E5ECF6\",\"gridcolor\":\"white\",\"linecolor\":\"white\",\"showbackground\":true,\"ticks\":\"\",\"zerolinecolor\":\"white\",\"gridwidth\":2},\"yaxis\":{\"backgroundcolor\":\"#E5ECF6\",\"gridcolor\":\"white\",\"linecolor\":\"white\",\"showbackground\":true,\"ticks\":\"\",\"zerolinecolor\":\"white\",\"gridwidth\":2},\"zaxis\":{\"backgroundcolor\":\"#E5ECF6\",\"gridcolor\":\"white\",\"linecolor\":\"white\",\"showbackground\":true,\"ticks\":\"\",\"zerolinecolor\":\"white\",\"gridwidth\":2}},\"shapedefaults\":{\"line\":{\"color\":\"#2a3f5f\"}},\"annotationdefaults\":{\"arrowcolor\":\"#2a3f5f\",\"arrowhead\":0,\"arrowwidth\":1},\"geo\":{\"bgcolor\":\"white\",\"landcolor\":\"#E5ECF6\",\"subunitcolor\":\"white\",\"showland\":true,\"showlakes\":true,\"lakecolor\":\"white\"},\"title\":{\"x\":0.05},\"mapbox\":{\"style\":\"light\"}}},\"title\":{\"text\":\"Box Plot for Age of ASD patients\"}},                        {\"responsive\": true}                    ).then(function(){\n",
       "                            \n",
       "var gd = document.getElementById('8dd91366-c2c3-4b5e-bb43-a5213ea87a17');\n",
       "var x = new MutationObserver(function (mutations, observer) {{\n",
       "        var display = window.getComputedStyle(gd).display;\n",
       "        if (!display || display === 'none') {{\n",
       "            console.log([gd, 'removed!']);\n",
       "            Plotly.purge(gd);\n",
       "            observer.disconnect();\n",
       "        }}\n",
       "}});\n",
       "\n",
       "// Listen for the removal of the full notebook cells\n",
       "var notebookContainer = gd.closest('#notebook-container');\n",
       "if (notebookContainer) {{\n",
       "    x.observe(notebookContainer, {childList: true});\n",
       "}}\n",
       "\n",
       "// Listen for the clearing of the current output cell\n",
       "var outputEl = gd.closest('.output');\n",
       "if (outputEl) {{\n",
       "    x.observe(outputEl, {childList: true});\n",
       "}}\n",
       "\n",
       "                        })                };                });            </script>        </div>"
      ]
     },
     "metadata": {},
     "output_type": "display_data"
    }
   ],
   "source": [
    "fig = make_subplots(rows=1, cols=1)\n",
    "trace1 = go.Box(y= data.age, name=\"Age\", boxmean=True, boxpoints='all', notched=True)\n",
    "dt = [trace1]\n",
    "layout = go.Layout(\n",
    "    autosize=False,\n",
    "    width=1000,\n",
    "    height=1000,\n",
    "\n",
    "    xaxis= go.layout.XAxis(linecolor = 'black',\n",
    "                          linewidth = 1,\n",
    "                          mirror = True),\n",
    "\n",
    "    yaxis= go.layout.YAxis(linecolor = 'black',\n",
    "                          linewidth = 1,\n",
    "                          mirror = True),\n",
    "\n",
    "    margin=go.layout.Margin(\n",
    "        l=50,\n",
    "        r=50,\n",
    "        b=100,\n",
    "        t=100,\n",
    "        pad = 4\n",
    "    )\n",
    ")\n",
    "\n",
    "fig = go.Figure(data=dt, layout=layout)\n",
    "\n",
    "fig.update_layout(title=\"Box Plot for Age of ASD patients\")"
   ]
  },
  {
   "cell_type": "code",
   "execution_count": 19,
   "id": "f19a86a7",
   "metadata": {},
   "outputs": [
    {
     "data": {
      "application/vnd.plotly.v1+json": {
       "config": {
        "plotlyServerURL": "https://plot.ly"
       },
       "data": [
        {
         "boxmean": true,
         "boxpoints": "all",
         "name": "Age",
         "notched": true,
         "type": "box",
         "xaxis": "x",
         "y": [
          26,
          24,
          27,
          35,
          40,
          36,
          17,
          64,
          29,
          17,
          33,
          18,
          17,
          17,
          17,
          18,
          31,
          30,
          35,
          34,
          38,
          27,
          27,
          42,
          43,
          24,
          40,
          40,
          48,
          31,
          18,
          37,
          55,
          18,
          18,
          55,
          50,
          34,
          53,
          35,
          20,
          28,
          34,
          36,
          27,
          53,
          24,
          24,
          55,
          30,
          21,
          35,
          383,
          21,
          47,
          30,
          28,
          43,
          32,
          44,
          20,
          20,
          null,
          19,
          29,
          21,
          27,
          21,
          35,
          42,
          29,
          58,
          21,
          21,
          37,
          21,
          20,
          33,
          20,
          45,
          32,
          30,
          33,
          42,
          17,
          27,
          35,
          37,
          30,
          29,
          17,
          null,
          22,
          19,
          42,
          37,
          28,
          22,
          26,
          21,
          26,
          39,
          26,
          26,
          21,
          25,
          26,
          30,
          19,
          19,
          25,
          23,
          31,
          27,
          29,
          38,
          23,
          27,
          27,
          42,
          20,
          17,
          20,
          30,
          28,
          26,
          26,
          31,
          40,
          39,
          18,
          24,
          23,
          24,
          24,
          27,
          24,
          25,
          22,
          40,
          23,
          29,
          25,
          27,
          22,
          28,
          20,
          19,
          37,
          35,
          26,
          23,
          32,
          30,
          31,
          28,
          29,
          29,
          29,
          31,
          36,
          32,
          34,
          24,
          24,
          42,
          26,
          27,
          36,
          36,
          55,
          23,
          22,
          42,
          54,
          43,
          43,
          29,
          29,
          37,
          39,
          18,
          31,
          34,
          22,
          28,
          38,
          28,
          53,
          26,
          37,
          42,
          43,
          32,
          31,
          53,
          28,
          38,
          31,
          31,
          21,
          25,
          25,
          60,
          39,
          53,
          20,
          25,
          50,
          28,
          37,
          30,
          32,
          34,
          42,
          22,
          37,
          39,
          18,
          54,
          42,
          27,
          22,
          22,
          21,
          28,
          17,
          28,
          21,
          31,
          20,
          21,
          22,
          21,
          24,
          24,
          25,
          17,
          21,
          23,
          21,
          22,
          24,
          34,
          30,
          29,
          20,
          23,
          26,
          20,
          41,
          24,
          35,
          23,
          36,
          33,
          24,
          25,
          25,
          25,
          24,
          27,
          26,
          26,
          23,
          30,
          25,
          23,
          34,
          20,
          22,
          33,
          46,
          17,
          45,
          26,
          30,
          32,
          38,
          26,
          29,
          33,
          32,
          44,
          47,
          32,
          40,
          40,
          44,
          56,
          23,
          32,
          27,
          28,
          40,
          45,
          19,
          55,
          27,
          19,
          29,
          33,
          48,
          37,
          30,
          37,
          28,
          20,
          25,
          58,
          36,
          36,
          19,
          19,
          22,
          20,
          24,
          19,
          21,
          20,
          18,
          23,
          22,
          18,
          37,
          18,
          18,
          18,
          18,
          18,
          18,
          19,
          55,
          32,
          50,
          40,
          47,
          20,
          22,
          21,
          21,
          19,
          21,
          21,
          23,
          21,
          21,
          23,
          20,
          21,
          20,
          19,
          21,
          26,
          21,
          19,
          22,
          19,
          22,
          20,
          23,
          19,
          20,
          24,
          19,
          20,
          23,
          20,
          20,
          20,
          20,
          21,
          19,
          20,
          20,
          25,
          20,
          22,
          20,
          20,
          20,
          23,
          21,
          22,
          21,
          20,
          22,
          21,
          20,
          20,
          21,
          21,
          23,
          21,
          22,
          19,
          20,
          21,
          26,
          19,
          20,
          26,
          23,
          28,
          19,
          20,
          19,
          24,
          19,
          22,
          20,
          21,
          24,
          18,
          19,
          19,
          31,
          19,
          21,
          20,
          26,
          27,
          23,
          29,
          23,
          23,
          24,
          21,
          20,
          20,
          32,
          61,
          19,
          35,
          34,
          23,
          19,
          36,
          21,
          23,
          17,
          22,
          33,
          23,
          35,
          21,
          20,
          29,
          59,
          18,
          19,
          24,
          36,
          19,
          17,
          52,
          18,
          30,
          18,
          27,
          52,
          45,
          25,
          29,
          29,
          18,
          18,
          17,
          27,
          22,
          23,
          25,
          23,
          29,
          27,
          27,
          43,
          26,
          30,
          23,
          29,
          37,
          28,
          25,
          25,
          21,
          43,
          30,
          18,
          18,
          30,
          31,
          33,
          33,
          26,
          61,
          46,
          33,
          38,
          44,
          48,
          42,
          37,
          23,
          24,
          41,
          41,
          27,
          46,
          40,
          22,
          42,
          18,
          44,
          30,
          42,
          35,
          40,
          50,
          38,
          26,
          27,
          47,
          21,
          37,
          19,
          32,
          26,
          46,
          29,
          30,
          32,
          35,
          22,
          19,
          24,
          52,
          52,
          32,
          24,
          24,
          49,
          30,
          30,
          35,
          35,
          37,
          43,
          52,
          44,
          46,
          42,
          20,
          18,
          38,
          24,
          32,
          29,
          22,
          19,
          39,
          17,
          19,
          18,
          19,
          28,
          29,
          48,
          27,
          34,
          31,
          47,
          47,
          44,
          25,
          25,
          20,
          43,
          36,
          30,
          44,
          40,
          40,
          40,
          30,
          47,
          21,
          21,
          31,
          21,
          29,
          22,
          51,
          23,
          30,
          22,
          22,
          24,
          26,
          33,
          23,
          42,
          26,
          29,
          35,
          25,
          25,
          28,
          33,
          25,
          25,
          24,
          27,
          22,
          21,
          27,
          23,
          22,
          23,
          30,
          33,
          24,
          22,
          22,
          29,
          22,
          21,
          23,
          23,
          23,
          32,
          27,
          28,
          25,
          22,
          36,
          27,
          21,
          18,
          49,
          18,
          29,
          31,
          37,
          17,
          17,
          38,
          18,
          31,
          33,
          32,
          30,
          33,
          30,
          30,
          38,
          22,
          36,
          43,
          44,
          20,
          40,
          25,
          28,
          17,
          34,
          56,
          50,
          38,
          47,
          30,
          21,
          21,
          31,
          27,
          24,
          35,
          18,
          43,
          44,
          40,
          49,
          24,
          30,
          53,
          38,
          28,
          28,
          26,
          39,
          31,
          24,
          28,
          31,
          27,
          28,
          31,
          46,
          27,
          25,
          34,
          24,
          35,
          26
         ],
         "yaxis": "y"
        }
       ],
       "layout": {
        "template": {
         "data": {
          "bar": [
           {
            "error_x": {
             "color": "#2a3f5f"
            },
            "error_y": {
             "color": "#2a3f5f"
            },
            "marker": {
             "line": {
              "color": "#E5ECF6",
              "width": 0.5
             },
             "pattern": {
              "fillmode": "overlay",
              "size": 10,
              "solidity": 0.2
             }
            },
            "type": "bar"
           }
          ],
          "barpolar": [
           {
            "marker": {
             "line": {
              "color": "#E5ECF6",
              "width": 0.5
             },
             "pattern": {
              "fillmode": "overlay",
              "size": 10,
              "solidity": 0.2
             }
            },
            "type": "barpolar"
           }
          ],
          "carpet": [
           {
            "aaxis": {
             "endlinecolor": "#2a3f5f",
             "gridcolor": "white",
             "linecolor": "white",
             "minorgridcolor": "white",
             "startlinecolor": "#2a3f5f"
            },
            "baxis": {
             "endlinecolor": "#2a3f5f",
             "gridcolor": "white",
             "linecolor": "white",
             "minorgridcolor": "white",
             "startlinecolor": "#2a3f5f"
            },
            "type": "carpet"
           }
          ],
          "choropleth": [
           {
            "colorbar": {
             "outlinewidth": 0,
             "ticks": ""
            },
            "type": "choropleth"
           }
          ],
          "contour": [
           {
            "colorbar": {
             "outlinewidth": 0,
             "ticks": ""
            },
            "colorscale": [
             [
              0,
              "#0d0887"
             ],
             [
              0.1111111111111111,
              "#46039f"
             ],
             [
              0.2222222222222222,
              "#7201a8"
             ],
             [
              0.3333333333333333,
              "#9c179e"
             ],
             [
              0.4444444444444444,
              "#bd3786"
             ],
             [
              0.5555555555555556,
              "#d8576b"
             ],
             [
              0.6666666666666666,
              "#ed7953"
             ],
             [
              0.7777777777777778,
              "#fb9f3a"
             ],
             [
              0.8888888888888888,
              "#fdca26"
             ],
             [
              1,
              "#f0f921"
             ]
            ],
            "type": "contour"
           }
          ],
          "contourcarpet": [
           {
            "colorbar": {
             "outlinewidth": 0,
             "ticks": ""
            },
            "type": "contourcarpet"
           }
          ],
          "heatmap": [
           {
            "colorbar": {
             "outlinewidth": 0,
             "ticks": ""
            },
            "colorscale": [
             [
              0,
              "#0d0887"
             ],
             [
              0.1111111111111111,
              "#46039f"
             ],
             [
              0.2222222222222222,
              "#7201a8"
             ],
             [
              0.3333333333333333,
              "#9c179e"
             ],
             [
              0.4444444444444444,
              "#bd3786"
             ],
             [
              0.5555555555555556,
              "#d8576b"
             ],
             [
              0.6666666666666666,
              "#ed7953"
             ],
             [
              0.7777777777777778,
              "#fb9f3a"
             ],
             [
              0.8888888888888888,
              "#fdca26"
             ],
             [
              1,
              "#f0f921"
             ]
            ],
            "type": "heatmap"
           }
          ],
          "heatmapgl": [
           {
            "colorbar": {
             "outlinewidth": 0,
             "ticks": ""
            },
            "colorscale": [
             [
              0,
              "#0d0887"
             ],
             [
              0.1111111111111111,
              "#46039f"
             ],
             [
              0.2222222222222222,
              "#7201a8"
             ],
             [
              0.3333333333333333,
              "#9c179e"
             ],
             [
              0.4444444444444444,
              "#bd3786"
             ],
             [
              0.5555555555555556,
              "#d8576b"
             ],
             [
              0.6666666666666666,
              "#ed7953"
             ],
             [
              0.7777777777777778,
              "#fb9f3a"
             ],
             [
              0.8888888888888888,
              "#fdca26"
             ],
             [
              1,
              "#f0f921"
             ]
            ],
            "type": "heatmapgl"
           }
          ],
          "histogram": [
           {
            "marker": {
             "pattern": {
              "fillmode": "overlay",
              "size": 10,
              "solidity": 0.2
             }
            },
            "type": "histogram"
           }
          ],
          "histogram2d": [
           {
            "colorbar": {
             "outlinewidth": 0,
             "ticks": ""
            },
            "colorscale": [
             [
              0,
              "#0d0887"
             ],
             [
              0.1111111111111111,
              "#46039f"
             ],
             [
              0.2222222222222222,
              "#7201a8"
             ],
             [
              0.3333333333333333,
              "#9c179e"
             ],
             [
              0.4444444444444444,
              "#bd3786"
             ],
             [
              0.5555555555555556,
              "#d8576b"
             ],
             [
              0.6666666666666666,
              "#ed7953"
             ],
             [
              0.7777777777777778,
              "#fb9f3a"
             ],
             [
              0.8888888888888888,
              "#fdca26"
             ],
             [
              1,
              "#f0f921"
             ]
            ],
            "type": "histogram2d"
           }
          ],
          "histogram2dcontour": [
           {
            "colorbar": {
             "outlinewidth": 0,
             "ticks": ""
            },
            "colorscale": [
             [
              0,
              "#0d0887"
             ],
             [
              0.1111111111111111,
              "#46039f"
             ],
             [
              0.2222222222222222,
              "#7201a8"
             ],
             [
              0.3333333333333333,
              "#9c179e"
             ],
             [
              0.4444444444444444,
              "#bd3786"
             ],
             [
              0.5555555555555556,
              "#d8576b"
             ],
             [
              0.6666666666666666,
              "#ed7953"
             ],
             [
              0.7777777777777778,
              "#fb9f3a"
             ],
             [
              0.8888888888888888,
              "#fdca26"
             ],
             [
              1,
              "#f0f921"
             ]
            ],
            "type": "histogram2dcontour"
           }
          ],
          "mesh3d": [
           {
            "colorbar": {
             "outlinewidth": 0,
             "ticks": ""
            },
            "type": "mesh3d"
           }
          ],
          "parcoords": [
           {
            "line": {
             "colorbar": {
              "outlinewidth": 0,
              "ticks": ""
             }
            },
            "type": "parcoords"
           }
          ],
          "pie": [
           {
            "automargin": true,
            "type": "pie"
           }
          ],
          "scatter": [
           {
            "fillpattern": {
             "fillmode": "overlay",
             "size": 10,
             "solidity": 0.2
            },
            "type": "scatter"
           }
          ],
          "scatter3d": [
           {
            "line": {
             "colorbar": {
              "outlinewidth": 0,
              "ticks": ""
             }
            },
            "marker": {
             "colorbar": {
              "outlinewidth": 0,
              "ticks": ""
             }
            },
            "type": "scatter3d"
           }
          ],
          "scattercarpet": [
           {
            "marker": {
             "colorbar": {
              "outlinewidth": 0,
              "ticks": ""
             }
            },
            "type": "scattercarpet"
           }
          ],
          "scattergeo": [
           {
            "marker": {
             "colorbar": {
              "outlinewidth": 0,
              "ticks": ""
             }
            },
            "type": "scattergeo"
           }
          ],
          "scattergl": [
           {
            "marker": {
             "colorbar": {
              "outlinewidth": 0,
              "ticks": ""
             }
            },
            "type": "scattergl"
           }
          ],
          "scattermapbox": [
           {
            "marker": {
             "colorbar": {
              "outlinewidth": 0,
              "ticks": ""
             }
            },
            "type": "scattermapbox"
           }
          ],
          "scatterpolar": [
           {
            "marker": {
             "colorbar": {
              "outlinewidth": 0,
              "ticks": ""
             }
            },
            "type": "scatterpolar"
           }
          ],
          "scatterpolargl": [
           {
            "marker": {
             "colorbar": {
              "outlinewidth": 0,
              "ticks": ""
             }
            },
            "type": "scatterpolargl"
           }
          ],
          "scatterternary": [
           {
            "marker": {
             "colorbar": {
              "outlinewidth": 0,
              "ticks": ""
             }
            },
            "type": "scatterternary"
           }
          ],
          "surface": [
           {
            "colorbar": {
             "outlinewidth": 0,
             "ticks": ""
            },
            "colorscale": [
             [
              0,
              "#0d0887"
             ],
             [
              0.1111111111111111,
              "#46039f"
             ],
             [
              0.2222222222222222,
              "#7201a8"
             ],
             [
              0.3333333333333333,
              "#9c179e"
             ],
             [
              0.4444444444444444,
              "#bd3786"
             ],
             [
              0.5555555555555556,
              "#d8576b"
             ],
             [
              0.6666666666666666,
              "#ed7953"
             ],
             [
              0.7777777777777778,
              "#fb9f3a"
             ],
             [
              0.8888888888888888,
              "#fdca26"
             ],
             [
              1,
              "#f0f921"
             ]
            ],
            "type": "surface"
           }
          ],
          "table": [
           {
            "cells": {
             "fill": {
              "color": "#EBF0F8"
             },
             "line": {
              "color": "white"
             }
            },
            "header": {
             "fill": {
              "color": "#C8D4E3"
             },
             "line": {
              "color": "white"
             }
            },
            "type": "table"
           }
          ]
         },
         "layout": {
          "annotationdefaults": {
           "arrowcolor": "#2a3f5f",
           "arrowhead": 0,
           "arrowwidth": 1
          },
          "autotypenumbers": "strict",
          "coloraxis": {
           "colorbar": {
            "outlinewidth": 0,
            "ticks": ""
           }
          },
          "colorscale": {
           "diverging": [
            [
             0,
             "#8e0152"
            ],
            [
             0.1,
             "#c51b7d"
            ],
            [
             0.2,
             "#de77ae"
            ],
            [
             0.3,
             "#f1b6da"
            ],
            [
             0.4,
             "#fde0ef"
            ],
            [
             0.5,
             "#f7f7f7"
            ],
            [
             0.6,
             "#e6f5d0"
            ],
            [
             0.7,
             "#b8e186"
            ],
            [
             0.8,
             "#7fbc41"
            ],
            [
             0.9,
             "#4d9221"
            ],
            [
             1,
             "#276419"
            ]
           ],
           "sequential": [
            [
             0,
             "#0d0887"
            ],
            [
             0.1111111111111111,
             "#46039f"
            ],
            [
             0.2222222222222222,
             "#7201a8"
            ],
            [
             0.3333333333333333,
             "#9c179e"
            ],
            [
             0.4444444444444444,
             "#bd3786"
            ],
            [
             0.5555555555555556,
             "#d8576b"
            ],
            [
             0.6666666666666666,
             "#ed7953"
            ],
            [
             0.7777777777777778,
             "#fb9f3a"
            ],
            [
             0.8888888888888888,
             "#fdca26"
            ],
            [
             1,
             "#f0f921"
            ]
           ],
           "sequentialminus": [
            [
             0,
             "#0d0887"
            ],
            [
             0.1111111111111111,
             "#46039f"
            ],
            [
             0.2222222222222222,
             "#7201a8"
            ],
            [
             0.3333333333333333,
             "#9c179e"
            ],
            [
             0.4444444444444444,
             "#bd3786"
            ],
            [
             0.5555555555555556,
             "#d8576b"
            ],
            [
             0.6666666666666666,
             "#ed7953"
            ],
            [
             0.7777777777777778,
             "#fb9f3a"
            ],
            [
             0.8888888888888888,
             "#fdca26"
            ],
            [
             1,
             "#f0f921"
            ]
           ]
          },
          "colorway": [
           "#636efa",
           "#EF553B",
           "#00cc96",
           "#ab63fa",
           "#FFA15A",
           "#19d3f3",
           "#FF6692",
           "#B6E880",
           "#FF97FF",
           "#FECB52"
          ],
          "font": {
           "color": "#2a3f5f"
          },
          "geo": {
           "bgcolor": "white",
           "lakecolor": "white",
           "landcolor": "#E5ECF6",
           "showlakes": true,
           "showland": true,
           "subunitcolor": "white"
          },
          "hoverlabel": {
           "align": "left"
          },
          "hovermode": "closest",
          "mapbox": {
           "style": "light"
          },
          "paper_bgcolor": "white",
          "plot_bgcolor": "#E5ECF6",
          "polar": {
           "angularaxis": {
            "gridcolor": "white",
            "linecolor": "white",
            "ticks": ""
           },
           "bgcolor": "#E5ECF6",
           "radialaxis": {
            "gridcolor": "white",
            "linecolor": "white",
            "ticks": ""
           }
          },
          "scene": {
           "xaxis": {
            "backgroundcolor": "#E5ECF6",
            "gridcolor": "white",
            "gridwidth": 2,
            "linecolor": "white",
            "showbackground": true,
            "ticks": "",
            "zerolinecolor": "white"
           },
           "yaxis": {
            "backgroundcolor": "#E5ECF6",
            "gridcolor": "white",
            "gridwidth": 2,
            "linecolor": "white",
            "showbackground": true,
            "ticks": "",
            "zerolinecolor": "white"
           },
           "zaxis": {
            "backgroundcolor": "#E5ECF6",
            "gridcolor": "white",
            "gridwidth": 2,
            "linecolor": "white",
            "showbackground": true,
            "ticks": "",
            "zerolinecolor": "white"
           }
          },
          "shapedefaults": {
           "line": {
            "color": "#2a3f5f"
           }
          },
          "ternary": {
           "aaxis": {
            "gridcolor": "white",
            "linecolor": "white",
            "ticks": ""
           },
           "baxis": {
            "gridcolor": "white",
            "linecolor": "white",
            "ticks": ""
           },
           "bgcolor": "#E5ECF6",
           "caxis": {
            "gridcolor": "white",
            "linecolor": "white",
            "ticks": ""
           }
          },
          "title": {
           "x": 0.05
          },
          "xaxis": {
           "automargin": true,
           "gridcolor": "white",
           "linecolor": "white",
           "ticks": "",
           "title": {
            "standoff": 15
           },
           "zerolinecolor": "white",
           "zerolinewidth": 2
          },
          "yaxis": {
           "automargin": true,
           "gridcolor": "white",
           "linecolor": "white",
           "ticks": "",
           "title": {
            "standoff": 15
           },
           "zerolinecolor": "white",
           "zerolinewidth": 2
          }
         }
        },
        "title": {
         "text": "Box Plot for Age of ASD patients"
        },
        "xaxis": {
         "anchor": "y",
         "domain": [
          0,
          1
         ]
        },
        "yaxis": {
         "anchor": "x",
         "domain": [
          0,
          1
         ]
        }
       }
      },
      "text/html": [
       "<div>                            <div id=\"b9637000-73fb-4f45-8bb8-3061d5ded4b0\" class=\"plotly-graph-div\" style=\"height:525px; width:100%;\"></div>            <script type=\"text/javascript\">                require([\"plotly\"], function(Plotly) {                    window.PLOTLYENV=window.PLOTLYENV || {};                                    if (document.getElementById(\"b9637000-73fb-4f45-8bb8-3061d5ded4b0\")) {                    Plotly.newPlot(                        \"b9637000-73fb-4f45-8bb8-3061d5ded4b0\",                        [{\"boxmean\":true,\"boxpoints\":\"all\",\"name\":\"Age\",\"notched\":true,\"y\":[26.0,24.0,27.0,35.0,40.0,36.0,17.0,64.0,29.0,17.0,33.0,18.0,17.0,17.0,17.0,18.0,31.0,30.0,35.0,34.0,38.0,27.0,27.0,42.0,43.0,24.0,40.0,40.0,48.0,31.0,18.0,37.0,55.0,18.0,18.0,55.0,50.0,34.0,53.0,35.0,20.0,28.0,34.0,36.0,27.0,53.0,24.0,24.0,55.0,30.0,21.0,35.0,383.0,21.0,47.0,30.0,28.0,43.0,32.0,44.0,20.0,20.0,null,19.0,29.0,21.0,27.0,21.0,35.0,42.0,29.0,58.0,21.0,21.0,37.0,21.0,20.0,33.0,20.0,45.0,32.0,30.0,33.0,42.0,17.0,27.0,35.0,37.0,30.0,29.0,17.0,null,22.0,19.0,42.0,37.0,28.0,22.0,26.0,21.0,26.0,39.0,26.0,26.0,21.0,25.0,26.0,30.0,19.0,19.0,25.0,23.0,31.0,27.0,29.0,38.0,23.0,27.0,27.0,42.0,20.0,17.0,20.0,30.0,28.0,26.0,26.0,31.0,40.0,39.0,18.0,24.0,23.0,24.0,24.0,27.0,24.0,25.0,22.0,40.0,23.0,29.0,25.0,27.0,22.0,28.0,20.0,19.0,37.0,35.0,26.0,23.0,32.0,30.0,31.0,28.0,29.0,29.0,29.0,31.0,36.0,32.0,34.0,24.0,24.0,42.0,26.0,27.0,36.0,36.0,55.0,23.0,22.0,42.0,54.0,43.0,43.0,29.0,29.0,37.0,39.0,18.0,31.0,34.0,22.0,28.0,38.0,28.0,53.0,26.0,37.0,42.0,43.0,32.0,31.0,53.0,28.0,38.0,31.0,31.0,21.0,25.0,25.0,60.0,39.0,53.0,20.0,25.0,50.0,28.0,37.0,30.0,32.0,34.0,42.0,22.0,37.0,39.0,18.0,54.0,42.0,27.0,22.0,22.0,21.0,28.0,17.0,28.0,21.0,31.0,20.0,21.0,22.0,21.0,24.0,24.0,25.0,17.0,21.0,23.0,21.0,22.0,24.0,34.0,30.0,29.0,20.0,23.0,26.0,20.0,41.0,24.0,35.0,23.0,36.0,33.0,24.0,25.0,25.0,25.0,24.0,27.0,26.0,26.0,23.0,30.0,25.0,23.0,34.0,20.0,22.0,33.0,46.0,17.0,45.0,26.0,30.0,32.0,38.0,26.0,29.0,33.0,32.0,44.0,47.0,32.0,40.0,40.0,44.0,56.0,23.0,32.0,27.0,28.0,40.0,45.0,19.0,55.0,27.0,19.0,29.0,33.0,48.0,37.0,30.0,37.0,28.0,20.0,25.0,58.0,36.0,36.0,19.0,19.0,22.0,20.0,24.0,19.0,21.0,20.0,18.0,23.0,22.0,18.0,37.0,18.0,18.0,18.0,18.0,18.0,18.0,19.0,55.0,32.0,50.0,40.0,47.0,20.0,22.0,21.0,21.0,19.0,21.0,21.0,23.0,21.0,21.0,23.0,20.0,21.0,20.0,19.0,21.0,26.0,21.0,19.0,22.0,19.0,22.0,20.0,23.0,19.0,20.0,24.0,19.0,20.0,23.0,20.0,20.0,20.0,20.0,21.0,19.0,20.0,20.0,25.0,20.0,22.0,20.0,20.0,20.0,23.0,21.0,22.0,21.0,20.0,22.0,21.0,20.0,20.0,21.0,21.0,23.0,21.0,22.0,19.0,20.0,21.0,26.0,19.0,20.0,26.0,23.0,28.0,19.0,20.0,19.0,24.0,19.0,22.0,20.0,21.0,24.0,18.0,19.0,19.0,31.0,19.0,21.0,20.0,26.0,27.0,23.0,29.0,23.0,23.0,24.0,21.0,20.0,20.0,32.0,61.0,19.0,35.0,34.0,23.0,19.0,36.0,21.0,23.0,17.0,22.0,33.0,23.0,35.0,21.0,20.0,29.0,59.0,18.0,19.0,24.0,36.0,19.0,17.0,52.0,18.0,30.0,18.0,27.0,52.0,45.0,25.0,29.0,29.0,18.0,18.0,17.0,27.0,22.0,23.0,25.0,23.0,29.0,27.0,27.0,43.0,26.0,30.0,23.0,29.0,37.0,28.0,25.0,25.0,21.0,43.0,30.0,18.0,18.0,30.0,31.0,33.0,33.0,26.0,61.0,46.0,33.0,38.0,44.0,48.0,42.0,37.0,23.0,24.0,41.0,41.0,27.0,46.0,40.0,22.0,42.0,18.0,44.0,30.0,42.0,35.0,40.0,50.0,38.0,26.0,27.0,47.0,21.0,37.0,19.0,32.0,26.0,46.0,29.0,30.0,32.0,35.0,22.0,19.0,24.0,52.0,52.0,32.0,24.0,24.0,49.0,30.0,30.0,35.0,35.0,37.0,43.0,52.0,44.0,46.0,42.0,20.0,18.0,38.0,24.0,32.0,29.0,22.0,19.0,39.0,17.0,19.0,18.0,19.0,28.0,29.0,48.0,27.0,34.0,31.0,47.0,47.0,44.0,25.0,25.0,20.0,43.0,36.0,30.0,44.0,40.0,40.0,40.0,30.0,47.0,21.0,21.0,31.0,21.0,29.0,22.0,51.0,23.0,30.0,22.0,22.0,24.0,26.0,33.0,23.0,42.0,26.0,29.0,35.0,25.0,25.0,28.0,33.0,25.0,25.0,24.0,27.0,22.0,21.0,27.0,23.0,22.0,23.0,30.0,33.0,24.0,22.0,22.0,29.0,22.0,21.0,23.0,23.0,23.0,32.0,27.0,28.0,25.0,22.0,36.0,27.0,21.0,18.0,49.0,18.0,29.0,31.0,37.0,17.0,17.0,38.0,18.0,31.0,33.0,32.0,30.0,33.0,30.0,30.0,38.0,22.0,36.0,43.0,44.0,20.0,40.0,25.0,28.0,17.0,34.0,56.0,50.0,38.0,47.0,30.0,21.0,21.0,31.0,27.0,24.0,35.0,18.0,43.0,44.0,40.0,49.0,24.0,30.0,53.0,38.0,28.0,28.0,26.0,39.0,31.0,24.0,28.0,31.0,27.0,28.0,31.0,46.0,27.0,25.0,34.0,24.0,35.0,26.0],\"type\":\"box\",\"xaxis\":\"x\",\"yaxis\":\"y\"}],                        {\"template\":{\"data\":{\"histogram2dcontour\":[{\"type\":\"histogram2dcontour\",\"colorbar\":{\"outlinewidth\":0,\"ticks\":\"\"},\"colorscale\":[[0.0,\"#0d0887\"],[0.1111111111111111,\"#46039f\"],[0.2222222222222222,\"#7201a8\"],[0.3333333333333333,\"#9c179e\"],[0.4444444444444444,\"#bd3786\"],[0.5555555555555556,\"#d8576b\"],[0.6666666666666666,\"#ed7953\"],[0.7777777777777778,\"#fb9f3a\"],[0.8888888888888888,\"#fdca26\"],[1.0,\"#f0f921\"]]}],\"choropleth\":[{\"type\":\"choropleth\",\"colorbar\":{\"outlinewidth\":0,\"ticks\":\"\"}}],\"histogram2d\":[{\"type\":\"histogram2d\",\"colorbar\":{\"outlinewidth\":0,\"ticks\":\"\"},\"colorscale\":[[0.0,\"#0d0887\"],[0.1111111111111111,\"#46039f\"],[0.2222222222222222,\"#7201a8\"],[0.3333333333333333,\"#9c179e\"],[0.4444444444444444,\"#bd3786\"],[0.5555555555555556,\"#d8576b\"],[0.6666666666666666,\"#ed7953\"],[0.7777777777777778,\"#fb9f3a\"],[0.8888888888888888,\"#fdca26\"],[1.0,\"#f0f921\"]]}],\"heatmap\":[{\"type\":\"heatmap\",\"colorbar\":{\"outlinewidth\":0,\"ticks\":\"\"},\"colorscale\":[[0.0,\"#0d0887\"],[0.1111111111111111,\"#46039f\"],[0.2222222222222222,\"#7201a8\"],[0.3333333333333333,\"#9c179e\"],[0.4444444444444444,\"#bd3786\"],[0.5555555555555556,\"#d8576b\"],[0.6666666666666666,\"#ed7953\"],[0.7777777777777778,\"#fb9f3a\"],[0.8888888888888888,\"#fdca26\"],[1.0,\"#f0f921\"]]}],\"heatmapgl\":[{\"type\":\"heatmapgl\",\"colorbar\":{\"outlinewidth\":0,\"ticks\":\"\"},\"colorscale\":[[0.0,\"#0d0887\"],[0.1111111111111111,\"#46039f\"],[0.2222222222222222,\"#7201a8\"],[0.3333333333333333,\"#9c179e\"],[0.4444444444444444,\"#bd3786\"],[0.5555555555555556,\"#d8576b\"],[0.6666666666666666,\"#ed7953\"],[0.7777777777777778,\"#fb9f3a\"],[0.8888888888888888,\"#fdca26\"],[1.0,\"#f0f921\"]]}],\"contourcarpet\":[{\"type\":\"contourcarpet\",\"colorbar\":{\"outlinewidth\":0,\"ticks\":\"\"}}],\"contour\":[{\"type\":\"contour\",\"colorbar\":{\"outlinewidth\":0,\"ticks\":\"\"},\"colorscale\":[[0.0,\"#0d0887\"],[0.1111111111111111,\"#46039f\"],[0.2222222222222222,\"#7201a8\"],[0.3333333333333333,\"#9c179e\"],[0.4444444444444444,\"#bd3786\"],[0.5555555555555556,\"#d8576b\"],[0.6666666666666666,\"#ed7953\"],[0.7777777777777778,\"#fb9f3a\"],[0.8888888888888888,\"#fdca26\"],[1.0,\"#f0f921\"]]}],\"surface\":[{\"type\":\"surface\",\"colorbar\":{\"outlinewidth\":0,\"ticks\":\"\"},\"colorscale\":[[0.0,\"#0d0887\"],[0.1111111111111111,\"#46039f\"],[0.2222222222222222,\"#7201a8\"],[0.3333333333333333,\"#9c179e\"],[0.4444444444444444,\"#bd3786\"],[0.5555555555555556,\"#d8576b\"],[0.6666666666666666,\"#ed7953\"],[0.7777777777777778,\"#fb9f3a\"],[0.8888888888888888,\"#fdca26\"],[1.0,\"#f0f921\"]]}],\"mesh3d\":[{\"type\":\"mesh3d\",\"colorbar\":{\"outlinewidth\":0,\"ticks\":\"\"}}],\"scatter\":[{\"fillpattern\":{\"fillmode\":\"overlay\",\"size\":10,\"solidity\":0.2},\"type\":\"scatter\"}],\"parcoords\":[{\"type\":\"parcoords\",\"line\":{\"colorbar\":{\"outlinewidth\":0,\"ticks\":\"\"}}}],\"scatterpolargl\":[{\"type\":\"scatterpolargl\",\"marker\":{\"colorbar\":{\"outlinewidth\":0,\"ticks\":\"\"}}}],\"bar\":[{\"error_x\":{\"color\":\"#2a3f5f\"},\"error_y\":{\"color\":\"#2a3f5f\"},\"marker\":{\"line\":{\"color\":\"#E5ECF6\",\"width\":0.5},\"pattern\":{\"fillmode\":\"overlay\",\"size\":10,\"solidity\":0.2}},\"type\":\"bar\"}],\"scattergeo\":[{\"type\":\"scattergeo\",\"marker\":{\"colorbar\":{\"outlinewidth\":0,\"ticks\":\"\"}}}],\"scatterpolar\":[{\"type\":\"scatterpolar\",\"marker\":{\"colorbar\":{\"outlinewidth\":0,\"ticks\":\"\"}}}],\"histogram\":[{\"marker\":{\"pattern\":{\"fillmode\":\"overlay\",\"size\":10,\"solidity\":0.2}},\"type\":\"histogram\"}],\"scattergl\":[{\"type\":\"scattergl\",\"marker\":{\"colorbar\":{\"outlinewidth\":0,\"ticks\":\"\"}}}],\"scatter3d\":[{\"type\":\"scatter3d\",\"line\":{\"colorbar\":{\"outlinewidth\":0,\"ticks\":\"\"}},\"marker\":{\"colorbar\":{\"outlinewidth\":0,\"ticks\":\"\"}}}],\"scattermapbox\":[{\"type\":\"scattermapbox\",\"marker\":{\"colorbar\":{\"outlinewidth\":0,\"ticks\":\"\"}}}],\"scatterternary\":[{\"type\":\"scatterternary\",\"marker\":{\"colorbar\":{\"outlinewidth\":0,\"ticks\":\"\"}}}],\"scattercarpet\":[{\"type\":\"scattercarpet\",\"marker\":{\"colorbar\":{\"outlinewidth\":0,\"ticks\":\"\"}}}],\"carpet\":[{\"aaxis\":{\"endlinecolor\":\"#2a3f5f\",\"gridcolor\":\"white\",\"linecolor\":\"white\",\"minorgridcolor\":\"white\",\"startlinecolor\":\"#2a3f5f\"},\"baxis\":{\"endlinecolor\":\"#2a3f5f\",\"gridcolor\":\"white\",\"linecolor\":\"white\",\"minorgridcolor\":\"white\",\"startlinecolor\":\"#2a3f5f\"},\"type\":\"carpet\"}],\"table\":[{\"cells\":{\"fill\":{\"color\":\"#EBF0F8\"},\"line\":{\"color\":\"white\"}},\"header\":{\"fill\":{\"color\":\"#C8D4E3\"},\"line\":{\"color\":\"white\"}},\"type\":\"table\"}],\"barpolar\":[{\"marker\":{\"line\":{\"color\":\"#E5ECF6\",\"width\":0.5},\"pattern\":{\"fillmode\":\"overlay\",\"size\":10,\"solidity\":0.2}},\"type\":\"barpolar\"}],\"pie\":[{\"automargin\":true,\"type\":\"pie\"}]},\"layout\":{\"autotypenumbers\":\"strict\",\"colorway\":[\"#636efa\",\"#EF553B\",\"#00cc96\",\"#ab63fa\",\"#FFA15A\",\"#19d3f3\",\"#FF6692\",\"#B6E880\",\"#FF97FF\",\"#FECB52\"],\"font\":{\"color\":\"#2a3f5f\"},\"hovermode\":\"closest\",\"hoverlabel\":{\"align\":\"left\"},\"paper_bgcolor\":\"white\",\"plot_bgcolor\":\"#E5ECF6\",\"polar\":{\"bgcolor\":\"#E5ECF6\",\"angularaxis\":{\"gridcolor\":\"white\",\"linecolor\":\"white\",\"ticks\":\"\"},\"radialaxis\":{\"gridcolor\":\"white\",\"linecolor\":\"white\",\"ticks\":\"\"}},\"ternary\":{\"bgcolor\":\"#E5ECF6\",\"aaxis\":{\"gridcolor\":\"white\",\"linecolor\":\"white\",\"ticks\":\"\"},\"baxis\":{\"gridcolor\":\"white\",\"linecolor\":\"white\",\"ticks\":\"\"},\"caxis\":{\"gridcolor\":\"white\",\"linecolor\":\"white\",\"ticks\":\"\"}},\"coloraxis\":{\"colorbar\":{\"outlinewidth\":0,\"ticks\":\"\"}},\"colorscale\":{\"sequential\":[[0.0,\"#0d0887\"],[0.1111111111111111,\"#46039f\"],[0.2222222222222222,\"#7201a8\"],[0.3333333333333333,\"#9c179e\"],[0.4444444444444444,\"#bd3786\"],[0.5555555555555556,\"#d8576b\"],[0.6666666666666666,\"#ed7953\"],[0.7777777777777778,\"#fb9f3a\"],[0.8888888888888888,\"#fdca26\"],[1.0,\"#f0f921\"]],\"sequentialminus\":[[0.0,\"#0d0887\"],[0.1111111111111111,\"#46039f\"],[0.2222222222222222,\"#7201a8\"],[0.3333333333333333,\"#9c179e\"],[0.4444444444444444,\"#bd3786\"],[0.5555555555555556,\"#d8576b\"],[0.6666666666666666,\"#ed7953\"],[0.7777777777777778,\"#fb9f3a\"],[0.8888888888888888,\"#fdca26\"],[1.0,\"#f0f921\"]],\"diverging\":[[0,\"#8e0152\"],[0.1,\"#c51b7d\"],[0.2,\"#de77ae\"],[0.3,\"#f1b6da\"],[0.4,\"#fde0ef\"],[0.5,\"#f7f7f7\"],[0.6,\"#e6f5d0\"],[0.7,\"#b8e186\"],[0.8,\"#7fbc41\"],[0.9,\"#4d9221\"],[1,\"#276419\"]]},\"xaxis\":{\"gridcolor\":\"white\",\"linecolor\":\"white\",\"ticks\":\"\",\"title\":{\"standoff\":15},\"zerolinecolor\":\"white\",\"automargin\":true,\"zerolinewidth\":2},\"yaxis\":{\"gridcolor\":\"white\",\"linecolor\":\"white\",\"ticks\":\"\",\"title\":{\"standoff\":15},\"zerolinecolor\":\"white\",\"automargin\":true,\"zerolinewidth\":2},\"scene\":{\"xaxis\":{\"backgroundcolor\":\"#E5ECF6\",\"gridcolor\":\"white\",\"linecolor\":\"white\",\"showbackground\":true,\"ticks\":\"\",\"zerolinecolor\":\"white\",\"gridwidth\":2},\"yaxis\":{\"backgroundcolor\":\"#E5ECF6\",\"gridcolor\":\"white\",\"linecolor\":\"white\",\"showbackground\":true,\"ticks\":\"\",\"zerolinecolor\":\"white\",\"gridwidth\":2},\"zaxis\":{\"backgroundcolor\":\"#E5ECF6\",\"gridcolor\":\"white\",\"linecolor\":\"white\",\"showbackground\":true,\"ticks\":\"\",\"zerolinecolor\":\"white\",\"gridwidth\":2}},\"shapedefaults\":{\"line\":{\"color\":\"#2a3f5f\"}},\"annotationdefaults\":{\"arrowcolor\":\"#2a3f5f\",\"arrowhead\":0,\"arrowwidth\":1},\"geo\":{\"bgcolor\":\"white\",\"landcolor\":\"#E5ECF6\",\"subunitcolor\":\"white\",\"showland\":true,\"showlakes\":true,\"lakecolor\":\"white\"},\"title\":{\"x\":0.05},\"mapbox\":{\"style\":\"light\"}}},\"xaxis\":{\"anchor\":\"y\",\"domain\":[0.0,1.0]},\"yaxis\":{\"anchor\":\"x\",\"domain\":[0.0,1.0]},\"title\":{\"text\":\"Box Plot for Age of ASD patients\"}},                        {\"responsive\": true}                    ).then(function(){\n",
       "                            \n",
       "var gd = document.getElementById('b9637000-73fb-4f45-8bb8-3061d5ded4b0');\n",
       "var x = new MutationObserver(function (mutations, observer) {{\n",
       "        var display = window.getComputedStyle(gd).display;\n",
       "        if (!display || display === 'none') {{\n",
       "            console.log([gd, 'removed!']);\n",
       "            Plotly.purge(gd);\n",
       "            observer.disconnect();\n",
       "        }}\n",
       "}});\n",
       "\n",
       "// Listen for the removal of the full notebook cells\n",
       "var notebookContainer = gd.closest('#notebook-container');\n",
       "if (notebookContainer) {{\n",
       "    x.observe(notebookContainer, {childList: true});\n",
       "}}\n",
       "\n",
       "// Listen for the clearing of the current output cell\n",
       "var outputEl = gd.closest('.output');\n",
       "if (outputEl) {{\n",
       "    x.observe(outputEl, {childList: true});\n",
       "}}\n",
       "\n",
       "                        })                };                });            </script>        </div>"
      ]
     },
     "metadata": {},
     "output_type": "display_data"
    }
   ],
   "source": [
    "fig = make_subplots(rows=1, cols=1)\n",
    "fig.add_trace(go.Box( y = data.age, name=\"Age\", boxmean=True, boxpoints='all', notched=True),\n",
    "              row=1, col=1)\n",
    "fig.update_layout(title=\"Box Plot for Age of ASD patients\")"
   ]
  },
  {
   "cell_type": "code",
   "execution_count": 36,
   "id": "39bc9cbf",
   "metadata": {},
   "outputs": [
    {
     "data": {
      "application/vnd.plotly.v1+json": {
       "config": {
        "plotlyServerURL": "https://plot.ly"
       },
       "data": [
        {
         "alignmentgroup": "True",
         "bingroup": "x",
         "hovertemplate": "variable=age<br>value=%{x}<br>count=%{y}<extra></extra>",
         "legendgroup": "age",
         "marker": {
          "color": "#636efa",
          "pattern": {
           "shape": ""
          }
         },
         "name": "age",
         "offsetgroup": "age",
         "orientation": "v",
         "showlegend": true,
         "type": "histogram",
         "x": [
          26,
          24,
          27,
          35,
          40,
          36,
          17,
          64,
          29,
          17,
          33,
          18,
          17,
          17,
          17,
          18,
          31,
          30,
          35,
          34,
          38,
          27,
          27,
          42,
          43,
          24,
          40,
          40,
          48,
          31,
          18,
          37,
          55,
          18,
          18,
          55,
          50,
          34,
          53,
          35,
          20,
          28,
          34,
          36,
          27,
          53,
          24,
          24,
          55,
          30,
          21,
          35,
          383,
          21,
          47,
          30,
          28,
          43,
          32,
          44,
          20,
          20,
          null,
          19,
          29,
          21,
          27,
          21,
          35,
          42,
          29,
          58,
          21,
          21,
          37,
          21,
          20,
          33,
          20,
          45,
          32,
          30,
          33,
          42,
          17,
          27,
          35,
          37,
          30,
          29,
          17,
          null,
          22,
          19,
          42,
          37,
          28,
          22,
          26,
          21,
          26,
          39,
          26,
          26,
          21,
          25,
          26,
          30,
          19,
          19,
          25,
          23,
          31,
          27,
          29,
          38,
          23,
          27,
          27,
          42,
          20,
          17,
          20,
          30,
          28,
          26,
          26,
          31,
          40,
          39,
          18,
          24,
          23,
          24,
          24,
          27,
          24,
          25,
          22,
          40,
          23,
          29,
          25,
          27,
          22,
          28,
          20,
          19,
          37,
          35,
          26,
          23,
          32,
          30,
          31,
          28,
          29,
          29,
          29,
          31,
          36,
          32,
          34,
          24,
          24,
          42,
          26,
          27,
          36,
          36,
          55,
          23,
          22,
          42,
          54,
          43,
          43,
          29,
          29,
          37,
          39,
          18,
          31,
          34,
          22,
          28,
          38,
          28,
          53,
          26,
          37,
          42,
          43,
          32,
          31,
          53,
          28,
          38,
          31,
          31,
          21,
          25,
          25,
          60,
          39,
          53,
          20,
          25,
          50,
          28,
          37,
          30,
          32,
          34,
          42,
          22,
          37,
          39,
          18,
          54,
          42,
          27,
          22,
          22,
          21,
          28,
          17,
          28,
          21,
          31,
          20,
          21,
          22,
          21,
          24,
          24,
          25,
          17,
          21,
          23,
          21,
          22,
          24,
          34,
          30,
          29,
          20,
          23,
          26,
          20,
          41,
          24,
          35,
          23,
          36,
          33,
          24,
          25,
          25,
          25,
          24,
          27,
          26,
          26,
          23,
          30,
          25,
          23,
          34,
          20,
          22,
          33,
          46,
          17,
          45,
          26,
          30,
          32,
          38,
          26,
          29,
          33,
          32,
          44,
          47,
          32,
          40,
          40,
          44,
          56,
          23,
          32,
          27,
          28,
          40,
          45,
          19,
          55,
          27,
          19,
          29,
          33,
          48,
          37,
          30,
          37,
          28,
          20,
          25,
          58,
          36,
          36,
          19,
          19,
          22,
          20,
          24,
          19,
          21,
          20,
          18,
          23,
          22,
          18,
          37,
          18,
          18,
          18,
          18,
          18,
          18,
          19,
          55,
          32,
          50,
          40,
          47,
          20,
          22,
          21,
          21,
          19,
          21,
          21,
          23,
          21,
          21,
          23,
          20,
          21,
          20,
          19,
          21,
          26,
          21,
          19,
          22,
          19,
          22,
          20,
          23,
          19,
          20,
          24,
          19,
          20,
          23,
          20,
          20,
          20,
          20,
          21,
          19,
          20,
          20,
          25,
          20,
          22,
          20,
          20,
          20,
          23,
          21,
          22,
          21,
          20,
          22,
          21,
          20,
          20,
          21,
          21,
          23,
          21,
          22,
          19,
          20,
          21,
          26,
          19,
          20,
          26,
          23,
          28,
          19,
          20,
          19,
          24,
          19,
          22,
          20,
          21,
          24,
          18,
          19,
          19,
          31,
          19,
          21,
          20,
          26,
          27,
          23,
          29,
          23,
          23,
          24,
          21,
          20,
          20,
          32,
          61,
          19,
          35,
          34,
          23,
          19,
          36,
          21,
          23,
          17,
          22,
          33,
          23,
          35,
          21,
          20,
          29,
          59,
          18,
          19,
          24,
          36,
          19,
          17,
          52,
          18,
          30,
          18,
          27,
          52,
          45,
          25,
          29,
          29,
          18,
          18,
          17,
          27,
          22,
          23,
          25,
          23,
          29,
          27,
          27,
          43,
          26,
          30,
          23,
          29,
          37,
          28,
          25,
          25,
          21,
          43,
          30,
          18,
          18,
          30,
          31,
          33,
          33,
          26,
          61,
          46,
          33,
          38,
          44,
          48,
          42,
          37,
          23,
          24,
          41,
          41,
          27,
          46,
          40,
          22,
          42,
          18,
          44,
          30,
          42,
          35,
          40,
          50,
          38,
          26,
          27,
          47,
          21,
          37,
          19,
          32,
          26,
          46,
          29,
          30,
          32,
          35,
          22,
          19,
          24,
          52,
          52,
          32,
          24,
          24,
          49,
          30,
          30,
          35,
          35,
          37,
          43,
          52,
          44,
          46,
          42,
          20,
          18,
          38,
          24,
          32,
          29,
          22,
          19,
          39,
          17,
          19,
          18,
          19,
          28,
          29,
          48,
          27,
          34,
          31,
          47,
          47,
          44,
          25,
          25,
          20,
          43,
          36,
          30,
          44,
          40,
          40,
          40,
          30,
          47,
          21,
          21,
          31,
          21,
          29,
          22,
          51,
          23,
          30,
          22,
          22,
          24,
          26,
          33,
          23,
          42,
          26,
          29,
          35,
          25,
          25,
          28,
          33,
          25,
          25,
          24,
          27,
          22,
          21,
          27,
          23,
          22,
          23,
          30,
          33,
          24,
          22,
          22,
          29,
          22,
          21,
          23,
          23,
          23,
          32,
          27,
          28,
          25,
          22,
          36,
          27,
          21,
          18,
          49,
          18,
          29,
          31,
          37,
          17,
          17,
          38,
          18,
          31,
          33,
          32,
          30,
          33,
          30,
          30,
          38,
          22,
          36,
          43,
          44,
          20,
          40,
          25,
          28,
          17,
          34,
          56,
          50,
          38,
          47,
          30,
          21,
          21,
          31,
          27,
          24,
          35,
          18,
          43,
          44,
          40,
          49,
          24,
          30,
          53,
          38,
          28,
          28,
          26,
          39,
          31,
          24,
          28,
          31,
          27,
          28,
          31,
          46,
          27,
          25,
          34,
          24,
          35,
          26
         ],
         "xaxis": "x",
         "yaxis": "y"
        },
        {
         "alignmentgroup": "True",
         "hovertemplate": "variable=age<br>value=%{x}<extra></extra>",
         "legendgroup": "age",
         "marker": {
          "color": "#636efa"
         },
         "name": "age",
         "notched": true,
         "offsetgroup": "age",
         "showlegend": false,
         "type": "box",
         "x": [
          26,
          24,
          27,
          35,
          40,
          36,
          17,
          64,
          29,
          17,
          33,
          18,
          17,
          17,
          17,
          18,
          31,
          30,
          35,
          34,
          38,
          27,
          27,
          42,
          43,
          24,
          40,
          40,
          48,
          31,
          18,
          37,
          55,
          18,
          18,
          55,
          50,
          34,
          53,
          35,
          20,
          28,
          34,
          36,
          27,
          53,
          24,
          24,
          55,
          30,
          21,
          35,
          383,
          21,
          47,
          30,
          28,
          43,
          32,
          44,
          20,
          20,
          null,
          19,
          29,
          21,
          27,
          21,
          35,
          42,
          29,
          58,
          21,
          21,
          37,
          21,
          20,
          33,
          20,
          45,
          32,
          30,
          33,
          42,
          17,
          27,
          35,
          37,
          30,
          29,
          17,
          null,
          22,
          19,
          42,
          37,
          28,
          22,
          26,
          21,
          26,
          39,
          26,
          26,
          21,
          25,
          26,
          30,
          19,
          19,
          25,
          23,
          31,
          27,
          29,
          38,
          23,
          27,
          27,
          42,
          20,
          17,
          20,
          30,
          28,
          26,
          26,
          31,
          40,
          39,
          18,
          24,
          23,
          24,
          24,
          27,
          24,
          25,
          22,
          40,
          23,
          29,
          25,
          27,
          22,
          28,
          20,
          19,
          37,
          35,
          26,
          23,
          32,
          30,
          31,
          28,
          29,
          29,
          29,
          31,
          36,
          32,
          34,
          24,
          24,
          42,
          26,
          27,
          36,
          36,
          55,
          23,
          22,
          42,
          54,
          43,
          43,
          29,
          29,
          37,
          39,
          18,
          31,
          34,
          22,
          28,
          38,
          28,
          53,
          26,
          37,
          42,
          43,
          32,
          31,
          53,
          28,
          38,
          31,
          31,
          21,
          25,
          25,
          60,
          39,
          53,
          20,
          25,
          50,
          28,
          37,
          30,
          32,
          34,
          42,
          22,
          37,
          39,
          18,
          54,
          42,
          27,
          22,
          22,
          21,
          28,
          17,
          28,
          21,
          31,
          20,
          21,
          22,
          21,
          24,
          24,
          25,
          17,
          21,
          23,
          21,
          22,
          24,
          34,
          30,
          29,
          20,
          23,
          26,
          20,
          41,
          24,
          35,
          23,
          36,
          33,
          24,
          25,
          25,
          25,
          24,
          27,
          26,
          26,
          23,
          30,
          25,
          23,
          34,
          20,
          22,
          33,
          46,
          17,
          45,
          26,
          30,
          32,
          38,
          26,
          29,
          33,
          32,
          44,
          47,
          32,
          40,
          40,
          44,
          56,
          23,
          32,
          27,
          28,
          40,
          45,
          19,
          55,
          27,
          19,
          29,
          33,
          48,
          37,
          30,
          37,
          28,
          20,
          25,
          58,
          36,
          36,
          19,
          19,
          22,
          20,
          24,
          19,
          21,
          20,
          18,
          23,
          22,
          18,
          37,
          18,
          18,
          18,
          18,
          18,
          18,
          19,
          55,
          32,
          50,
          40,
          47,
          20,
          22,
          21,
          21,
          19,
          21,
          21,
          23,
          21,
          21,
          23,
          20,
          21,
          20,
          19,
          21,
          26,
          21,
          19,
          22,
          19,
          22,
          20,
          23,
          19,
          20,
          24,
          19,
          20,
          23,
          20,
          20,
          20,
          20,
          21,
          19,
          20,
          20,
          25,
          20,
          22,
          20,
          20,
          20,
          23,
          21,
          22,
          21,
          20,
          22,
          21,
          20,
          20,
          21,
          21,
          23,
          21,
          22,
          19,
          20,
          21,
          26,
          19,
          20,
          26,
          23,
          28,
          19,
          20,
          19,
          24,
          19,
          22,
          20,
          21,
          24,
          18,
          19,
          19,
          31,
          19,
          21,
          20,
          26,
          27,
          23,
          29,
          23,
          23,
          24,
          21,
          20,
          20,
          32,
          61,
          19,
          35,
          34,
          23,
          19,
          36,
          21,
          23,
          17,
          22,
          33,
          23,
          35,
          21,
          20,
          29,
          59,
          18,
          19,
          24,
          36,
          19,
          17,
          52,
          18,
          30,
          18,
          27,
          52,
          45,
          25,
          29,
          29,
          18,
          18,
          17,
          27,
          22,
          23,
          25,
          23,
          29,
          27,
          27,
          43,
          26,
          30,
          23,
          29,
          37,
          28,
          25,
          25,
          21,
          43,
          30,
          18,
          18,
          30,
          31,
          33,
          33,
          26,
          61,
          46,
          33,
          38,
          44,
          48,
          42,
          37,
          23,
          24,
          41,
          41,
          27,
          46,
          40,
          22,
          42,
          18,
          44,
          30,
          42,
          35,
          40,
          50,
          38,
          26,
          27,
          47,
          21,
          37,
          19,
          32,
          26,
          46,
          29,
          30,
          32,
          35,
          22,
          19,
          24,
          52,
          52,
          32,
          24,
          24,
          49,
          30,
          30,
          35,
          35,
          37,
          43,
          52,
          44,
          46,
          42,
          20,
          18,
          38,
          24,
          32,
          29,
          22,
          19,
          39,
          17,
          19,
          18,
          19,
          28,
          29,
          48,
          27,
          34,
          31,
          47,
          47,
          44,
          25,
          25,
          20,
          43,
          36,
          30,
          44,
          40,
          40,
          40,
          30,
          47,
          21,
          21,
          31,
          21,
          29,
          22,
          51,
          23,
          30,
          22,
          22,
          24,
          26,
          33,
          23,
          42,
          26,
          29,
          35,
          25,
          25,
          28,
          33,
          25,
          25,
          24,
          27,
          22,
          21,
          27,
          23,
          22,
          23,
          30,
          33,
          24,
          22,
          22,
          29,
          22,
          21,
          23,
          23,
          23,
          32,
          27,
          28,
          25,
          22,
          36,
          27,
          21,
          18,
          49,
          18,
          29,
          31,
          37,
          17,
          17,
          38,
          18,
          31,
          33,
          32,
          30,
          33,
          30,
          30,
          38,
          22,
          36,
          43,
          44,
          20,
          40,
          25,
          28,
          17,
          34,
          56,
          50,
          38,
          47,
          30,
          21,
          21,
          31,
          27,
          24,
          35,
          18,
          43,
          44,
          40,
          49,
          24,
          30,
          53,
          38,
          28,
          28,
          26,
          39,
          31,
          24,
          28,
          31,
          27,
          28,
          31,
          46,
          27,
          25,
          34,
          24,
          35,
          26
         ],
         "xaxis": "x2",
         "yaxis": "y2"
        }
       ],
       "layout": {
        "barmode": "relative",
        "legend": {
         "title": {
          "text": "variable"
         },
         "tracegroupgap": 0
        },
        "template": {
         "data": {
          "bar": [
           {
            "error_x": {
             "color": "#2a3f5f"
            },
            "error_y": {
             "color": "#2a3f5f"
            },
            "marker": {
             "line": {
              "color": "#E5ECF6",
              "width": 0.5
             },
             "pattern": {
              "fillmode": "overlay",
              "size": 10,
              "solidity": 0.2
             }
            },
            "type": "bar"
           }
          ],
          "barpolar": [
           {
            "marker": {
             "line": {
              "color": "#E5ECF6",
              "width": 0.5
             },
             "pattern": {
              "fillmode": "overlay",
              "size": 10,
              "solidity": 0.2
             }
            },
            "type": "barpolar"
           }
          ],
          "carpet": [
           {
            "aaxis": {
             "endlinecolor": "#2a3f5f",
             "gridcolor": "white",
             "linecolor": "white",
             "minorgridcolor": "white",
             "startlinecolor": "#2a3f5f"
            },
            "baxis": {
             "endlinecolor": "#2a3f5f",
             "gridcolor": "white",
             "linecolor": "white",
             "minorgridcolor": "white",
             "startlinecolor": "#2a3f5f"
            },
            "type": "carpet"
           }
          ],
          "choropleth": [
           {
            "colorbar": {
             "outlinewidth": 0,
             "ticks": ""
            },
            "type": "choropleth"
           }
          ],
          "contour": [
           {
            "colorbar": {
             "outlinewidth": 0,
             "ticks": ""
            },
            "colorscale": [
             [
              0,
              "#0d0887"
             ],
             [
              0.1111111111111111,
              "#46039f"
             ],
             [
              0.2222222222222222,
              "#7201a8"
             ],
             [
              0.3333333333333333,
              "#9c179e"
             ],
             [
              0.4444444444444444,
              "#bd3786"
             ],
             [
              0.5555555555555556,
              "#d8576b"
             ],
             [
              0.6666666666666666,
              "#ed7953"
             ],
             [
              0.7777777777777778,
              "#fb9f3a"
             ],
             [
              0.8888888888888888,
              "#fdca26"
             ],
             [
              1,
              "#f0f921"
             ]
            ],
            "type": "contour"
           }
          ],
          "contourcarpet": [
           {
            "colorbar": {
             "outlinewidth": 0,
             "ticks": ""
            },
            "type": "contourcarpet"
           }
          ],
          "heatmap": [
           {
            "colorbar": {
             "outlinewidth": 0,
             "ticks": ""
            },
            "colorscale": [
             [
              0,
              "#0d0887"
             ],
             [
              0.1111111111111111,
              "#46039f"
             ],
             [
              0.2222222222222222,
              "#7201a8"
             ],
             [
              0.3333333333333333,
              "#9c179e"
             ],
             [
              0.4444444444444444,
              "#bd3786"
             ],
             [
              0.5555555555555556,
              "#d8576b"
             ],
             [
              0.6666666666666666,
              "#ed7953"
             ],
             [
              0.7777777777777778,
              "#fb9f3a"
             ],
             [
              0.8888888888888888,
              "#fdca26"
             ],
             [
              1,
              "#f0f921"
             ]
            ],
            "type": "heatmap"
           }
          ],
          "heatmapgl": [
           {
            "colorbar": {
             "outlinewidth": 0,
             "ticks": ""
            },
            "colorscale": [
             [
              0,
              "#0d0887"
             ],
             [
              0.1111111111111111,
              "#46039f"
             ],
             [
              0.2222222222222222,
              "#7201a8"
             ],
             [
              0.3333333333333333,
              "#9c179e"
             ],
             [
              0.4444444444444444,
              "#bd3786"
             ],
             [
              0.5555555555555556,
              "#d8576b"
             ],
             [
              0.6666666666666666,
              "#ed7953"
             ],
             [
              0.7777777777777778,
              "#fb9f3a"
             ],
             [
              0.8888888888888888,
              "#fdca26"
             ],
             [
              1,
              "#f0f921"
             ]
            ],
            "type": "heatmapgl"
           }
          ],
          "histogram": [
           {
            "marker": {
             "pattern": {
              "fillmode": "overlay",
              "size": 10,
              "solidity": 0.2
             }
            },
            "type": "histogram"
           }
          ],
          "histogram2d": [
           {
            "colorbar": {
             "outlinewidth": 0,
             "ticks": ""
            },
            "colorscale": [
             [
              0,
              "#0d0887"
             ],
             [
              0.1111111111111111,
              "#46039f"
             ],
             [
              0.2222222222222222,
              "#7201a8"
             ],
             [
              0.3333333333333333,
              "#9c179e"
             ],
             [
              0.4444444444444444,
              "#bd3786"
             ],
             [
              0.5555555555555556,
              "#d8576b"
             ],
             [
              0.6666666666666666,
              "#ed7953"
             ],
             [
              0.7777777777777778,
              "#fb9f3a"
             ],
             [
              0.8888888888888888,
              "#fdca26"
             ],
             [
              1,
              "#f0f921"
             ]
            ],
            "type": "histogram2d"
           }
          ],
          "histogram2dcontour": [
           {
            "colorbar": {
             "outlinewidth": 0,
             "ticks": ""
            },
            "colorscale": [
             [
              0,
              "#0d0887"
             ],
             [
              0.1111111111111111,
              "#46039f"
             ],
             [
              0.2222222222222222,
              "#7201a8"
             ],
             [
              0.3333333333333333,
              "#9c179e"
             ],
             [
              0.4444444444444444,
              "#bd3786"
             ],
             [
              0.5555555555555556,
              "#d8576b"
             ],
             [
              0.6666666666666666,
              "#ed7953"
             ],
             [
              0.7777777777777778,
              "#fb9f3a"
             ],
             [
              0.8888888888888888,
              "#fdca26"
             ],
             [
              1,
              "#f0f921"
             ]
            ],
            "type": "histogram2dcontour"
           }
          ],
          "mesh3d": [
           {
            "colorbar": {
             "outlinewidth": 0,
             "ticks": ""
            },
            "type": "mesh3d"
           }
          ],
          "parcoords": [
           {
            "line": {
             "colorbar": {
              "outlinewidth": 0,
              "ticks": ""
             }
            },
            "type": "parcoords"
           }
          ],
          "pie": [
           {
            "automargin": true,
            "type": "pie"
           }
          ],
          "scatter": [
           {
            "fillpattern": {
             "fillmode": "overlay",
             "size": 10,
             "solidity": 0.2
            },
            "type": "scatter"
           }
          ],
          "scatter3d": [
           {
            "line": {
             "colorbar": {
              "outlinewidth": 0,
              "ticks": ""
             }
            },
            "marker": {
             "colorbar": {
              "outlinewidth": 0,
              "ticks": ""
             }
            },
            "type": "scatter3d"
           }
          ],
          "scattercarpet": [
           {
            "marker": {
             "colorbar": {
              "outlinewidth": 0,
              "ticks": ""
             }
            },
            "type": "scattercarpet"
           }
          ],
          "scattergeo": [
           {
            "marker": {
             "colorbar": {
              "outlinewidth": 0,
              "ticks": ""
             }
            },
            "type": "scattergeo"
           }
          ],
          "scattergl": [
           {
            "marker": {
             "colorbar": {
              "outlinewidth": 0,
              "ticks": ""
             }
            },
            "type": "scattergl"
           }
          ],
          "scattermapbox": [
           {
            "marker": {
             "colorbar": {
              "outlinewidth": 0,
              "ticks": ""
             }
            },
            "type": "scattermapbox"
           }
          ],
          "scatterpolar": [
           {
            "marker": {
             "colorbar": {
              "outlinewidth": 0,
              "ticks": ""
             }
            },
            "type": "scatterpolar"
           }
          ],
          "scatterpolargl": [
           {
            "marker": {
             "colorbar": {
              "outlinewidth": 0,
              "ticks": ""
             }
            },
            "type": "scatterpolargl"
           }
          ],
          "scatterternary": [
           {
            "marker": {
             "colorbar": {
              "outlinewidth": 0,
              "ticks": ""
             }
            },
            "type": "scatterternary"
           }
          ],
          "surface": [
           {
            "colorbar": {
             "outlinewidth": 0,
             "ticks": ""
            },
            "colorscale": [
             [
              0,
              "#0d0887"
             ],
             [
              0.1111111111111111,
              "#46039f"
             ],
             [
              0.2222222222222222,
              "#7201a8"
             ],
             [
              0.3333333333333333,
              "#9c179e"
             ],
             [
              0.4444444444444444,
              "#bd3786"
             ],
             [
              0.5555555555555556,
              "#d8576b"
             ],
             [
              0.6666666666666666,
              "#ed7953"
             ],
             [
              0.7777777777777778,
              "#fb9f3a"
             ],
             [
              0.8888888888888888,
              "#fdca26"
             ],
             [
              1,
              "#f0f921"
             ]
            ],
            "type": "surface"
           }
          ],
          "table": [
           {
            "cells": {
             "fill": {
              "color": "#EBF0F8"
             },
             "line": {
              "color": "white"
             }
            },
            "header": {
             "fill": {
              "color": "#C8D4E3"
             },
             "line": {
              "color": "white"
             }
            },
            "type": "table"
           }
          ]
         },
         "layout": {
          "annotationdefaults": {
           "arrowcolor": "#2a3f5f",
           "arrowhead": 0,
           "arrowwidth": 1
          },
          "autotypenumbers": "strict",
          "coloraxis": {
           "colorbar": {
            "outlinewidth": 0,
            "ticks": ""
           }
          },
          "colorscale": {
           "diverging": [
            [
             0,
             "#8e0152"
            ],
            [
             0.1,
             "#c51b7d"
            ],
            [
             0.2,
             "#de77ae"
            ],
            [
             0.3,
             "#f1b6da"
            ],
            [
             0.4,
             "#fde0ef"
            ],
            [
             0.5,
             "#f7f7f7"
            ],
            [
             0.6,
             "#e6f5d0"
            ],
            [
             0.7,
             "#b8e186"
            ],
            [
             0.8,
             "#7fbc41"
            ],
            [
             0.9,
             "#4d9221"
            ],
            [
             1,
             "#276419"
            ]
           ],
           "sequential": [
            [
             0,
             "#0d0887"
            ],
            [
             0.1111111111111111,
             "#46039f"
            ],
            [
             0.2222222222222222,
             "#7201a8"
            ],
            [
             0.3333333333333333,
             "#9c179e"
            ],
            [
             0.4444444444444444,
             "#bd3786"
            ],
            [
             0.5555555555555556,
             "#d8576b"
            ],
            [
             0.6666666666666666,
             "#ed7953"
            ],
            [
             0.7777777777777778,
             "#fb9f3a"
            ],
            [
             0.8888888888888888,
             "#fdca26"
            ],
            [
             1,
             "#f0f921"
            ]
           ],
           "sequentialminus": [
            [
             0,
             "#0d0887"
            ],
            [
             0.1111111111111111,
             "#46039f"
            ],
            [
             0.2222222222222222,
             "#7201a8"
            ],
            [
             0.3333333333333333,
             "#9c179e"
            ],
            [
             0.4444444444444444,
             "#bd3786"
            ],
            [
             0.5555555555555556,
             "#d8576b"
            ],
            [
             0.6666666666666666,
             "#ed7953"
            ],
            [
             0.7777777777777778,
             "#fb9f3a"
            ],
            [
             0.8888888888888888,
             "#fdca26"
            ],
            [
             1,
             "#f0f921"
            ]
           ]
          },
          "colorway": [
           "#636efa",
           "#EF553B",
           "#00cc96",
           "#ab63fa",
           "#FFA15A",
           "#19d3f3",
           "#FF6692",
           "#B6E880",
           "#FF97FF",
           "#FECB52"
          ],
          "font": {
           "color": "#2a3f5f"
          },
          "geo": {
           "bgcolor": "white",
           "lakecolor": "white",
           "landcolor": "#E5ECF6",
           "showlakes": true,
           "showland": true,
           "subunitcolor": "white"
          },
          "hoverlabel": {
           "align": "left"
          },
          "hovermode": "closest",
          "mapbox": {
           "style": "light"
          },
          "paper_bgcolor": "white",
          "plot_bgcolor": "#E5ECF6",
          "polar": {
           "angularaxis": {
            "gridcolor": "white",
            "linecolor": "white",
            "ticks": ""
           },
           "bgcolor": "#E5ECF6",
           "radialaxis": {
            "gridcolor": "white",
            "linecolor": "white",
            "ticks": ""
           }
          },
          "scene": {
           "xaxis": {
            "backgroundcolor": "#E5ECF6",
            "gridcolor": "white",
            "gridwidth": 2,
            "linecolor": "white",
            "showbackground": true,
            "ticks": "",
            "zerolinecolor": "white"
           },
           "yaxis": {
            "backgroundcolor": "#E5ECF6",
            "gridcolor": "white",
            "gridwidth": 2,
            "linecolor": "white",
            "showbackground": true,
            "ticks": "",
            "zerolinecolor": "white"
           },
           "zaxis": {
            "backgroundcolor": "#E5ECF6",
            "gridcolor": "white",
            "gridwidth": 2,
            "linecolor": "white",
            "showbackground": true,
            "ticks": "",
            "zerolinecolor": "white"
           }
          },
          "shapedefaults": {
           "line": {
            "color": "#2a3f5f"
           }
          },
          "ternary": {
           "aaxis": {
            "gridcolor": "white",
            "linecolor": "white",
            "ticks": ""
           },
           "baxis": {
            "gridcolor": "white",
            "linecolor": "white",
            "ticks": ""
           },
           "bgcolor": "#E5ECF6",
           "caxis": {
            "gridcolor": "white",
            "linecolor": "white",
            "ticks": ""
           }
          },
          "title": {
           "x": 0.05
          },
          "xaxis": {
           "automargin": true,
           "gridcolor": "white",
           "linecolor": "white",
           "ticks": "",
           "title": {
            "standoff": 15
           },
           "zerolinecolor": "white",
           "zerolinewidth": 2
          },
          "yaxis": {
           "automargin": true,
           "gridcolor": "white",
           "linecolor": "white",
           "ticks": "",
           "title": {
            "standoff": 15
           },
           "zerolinecolor": "white",
           "zerolinewidth": 2
          }
         }
        },
        "title": {
         "text": "Distribution cum box plot for Age of ASD patients"
        },
        "xaxis": {
         "anchor": "y",
         "domain": [
          0,
          1
         ],
         "title": {
          "text": "value"
         }
        },
        "xaxis2": {
         "anchor": "y2",
         "domain": [
          0,
          1
         ],
         "matches": "x",
         "showgrid": true,
         "showticklabels": false
        },
        "yaxis": {
         "anchor": "x",
         "domain": [
          0,
          0.7326
         ],
         "title": {
          "text": "count"
         }
        },
        "yaxis2": {
         "anchor": "x2",
         "domain": [
          0.7426,
          1
         ],
         "matches": "y2",
         "showgrid": false,
         "showline": false,
         "showticklabels": false,
         "ticks": ""
        }
       }
      },
      "text/html": [
       "<div>                            <div id=\"c25dfd85-b1fc-4879-a51b-72f0b37a289e\" class=\"plotly-graph-div\" style=\"height:525px; width:100%;\"></div>            <script type=\"text/javascript\">                require([\"plotly\"], function(Plotly) {                    window.PLOTLYENV=window.PLOTLYENV || {};                                    if (document.getElementById(\"c25dfd85-b1fc-4879-a51b-72f0b37a289e\")) {                    Plotly.newPlot(                        \"c25dfd85-b1fc-4879-a51b-72f0b37a289e\",                        [{\"alignmentgroup\":\"True\",\"bingroup\":\"x\",\"hovertemplate\":\"variable=age<br>value=%{x}<br>count=%{y}<extra></extra>\",\"legendgroup\":\"age\",\"marker\":{\"color\":\"#636efa\",\"pattern\":{\"shape\":\"\"}},\"name\":\"age\",\"offsetgroup\":\"age\",\"orientation\":\"v\",\"showlegend\":true,\"x\":[26.0,24.0,27.0,35.0,40.0,36.0,17.0,64.0,29.0,17.0,33.0,18.0,17.0,17.0,17.0,18.0,31.0,30.0,35.0,34.0,38.0,27.0,27.0,42.0,43.0,24.0,40.0,40.0,48.0,31.0,18.0,37.0,55.0,18.0,18.0,55.0,50.0,34.0,53.0,35.0,20.0,28.0,34.0,36.0,27.0,53.0,24.0,24.0,55.0,30.0,21.0,35.0,383.0,21.0,47.0,30.0,28.0,43.0,32.0,44.0,20.0,20.0,null,19.0,29.0,21.0,27.0,21.0,35.0,42.0,29.0,58.0,21.0,21.0,37.0,21.0,20.0,33.0,20.0,45.0,32.0,30.0,33.0,42.0,17.0,27.0,35.0,37.0,30.0,29.0,17.0,null,22.0,19.0,42.0,37.0,28.0,22.0,26.0,21.0,26.0,39.0,26.0,26.0,21.0,25.0,26.0,30.0,19.0,19.0,25.0,23.0,31.0,27.0,29.0,38.0,23.0,27.0,27.0,42.0,20.0,17.0,20.0,30.0,28.0,26.0,26.0,31.0,40.0,39.0,18.0,24.0,23.0,24.0,24.0,27.0,24.0,25.0,22.0,40.0,23.0,29.0,25.0,27.0,22.0,28.0,20.0,19.0,37.0,35.0,26.0,23.0,32.0,30.0,31.0,28.0,29.0,29.0,29.0,31.0,36.0,32.0,34.0,24.0,24.0,42.0,26.0,27.0,36.0,36.0,55.0,23.0,22.0,42.0,54.0,43.0,43.0,29.0,29.0,37.0,39.0,18.0,31.0,34.0,22.0,28.0,38.0,28.0,53.0,26.0,37.0,42.0,43.0,32.0,31.0,53.0,28.0,38.0,31.0,31.0,21.0,25.0,25.0,60.0,39.0,53.0,20.0,25.0,50.0,28.0,37.0,30.0,32.0,34.0,42.0,22.0,37.0,39.0,18.0,54.0,42.0,27.0,22.0,22.0,21.0,28.0,17.0,28.0,21.0,31.0,20.0,21.0,22.0,21.0,24.0,24.0,25.0,17.0,21.0,23.0,21.0,22.0,24.0,34.0,30.0,29.0,20.0,23.0,26.0,20.0,41.0,24.0,35.0,23.0,36.0,33.0,24.0,25.0,25.0,25.0,24.0,27.0,26.0,26.0,23.0,30.0,25.0,23.0,34.0,20.0,22.0,33.0,46.0,17.0,45.0,26.0,30.0,32.0,38.0,26.0,29.0,33.0,32.0,44.0,47.0,32.0,40.0,40.0,44.0,56.0,23.0,32.0,27.0,28.0,40.0,45.0,19.0,55.0,27.0,19.0,29.0,33.0,48.0,37.0,30.0,37.0,28.0,20.0,25.0,58.0,36.0,36.0,19.0,19.0,22.0,20.0,24.0,19.0,21.0,20.0,18.0,23.0,22.0,18.0,37.0,18.0,18.0,18.0,18.0,18.0,18.0,19.0,55.0,32.0,50.0,40.0,47.0,20.0,22.0,21.0,21.0,19.0,21.0,21.0,23.0,21.0,21.0,23.0,20.0,21.0,20.0,19.0,21.0,26.0,21.0,19.0,22.0,19.0,22.0,20.0,23.0,19.0,20.0,24.0,19.0,20.0,23.0,20.0,20.0,20.0,20.0,21.0,19.0,20.0,20.0,25.0,20.0,22.0,20.0,20.0,20.0,23.0,21.0,22.0,21.0,20.0,22.0,21.0,20.0,20.0,21.0,21.0,23.0,21.0,22.0,19.0,20.0,21.0,26.0,19.0,20.0,26.0,23.0,28.0,19.0,20.0,19.0,24.0,19.0,22.0,20.0,21.0,24.0,18.0,19.0,19.0,31.0,19.0,21.0,20.0,26.0,27.0,23.0,29.0,23.0,23.0,24.0,21.0,20.0,20.0,32.0,61.0,19.0,35.0,34.0,23.0,19.0,36.0,21.0,23.0,17.0,22.0,33.0,23.0,35.0,21.0,20.0,29.0,59.0,18.0,19.0,24.0,36.0,19.0,17.0,52.0,18.0,30.0,18.0,27.0,52.0,45.0,25.0,29.0,29.0,18.0,18.0,17.0,27.0,22.0,23.0,25.0,23.0,29.0,27.0,27.0,43.0,26.0,30.0,23.0,29.0,37.0,28.0,25.0,25.0,21.0,43.0,30.0,18.0,18.0,30.0,31.0,33.0,33.0,26.0,61.0,46.0,33.0,38.0,44.0,48.0,42.0,37.0,23.0,24.0,41.0,41.0,27.0,46.0,40.0,22.0,42.0,18.0,44.0,30.0,42.0,35.0,40.0,50.0,38.0,26.0,27.0,47.0,21.0,37.0,19.0,32.0,26.0,46.0,29.0,30.0,32.0,35.0,22.0,19.0,24.0,52.0,52.0,32.0,24.0,24.0,49.0,30.0,30.0,35.0,35.0,37.0,43.0,52.0,44.0,46.0,42.0,20.0,18.0,38.0,24.0,32.0,29.0,22.0,19.0,39.0,17.0,19.0,18.0,19.0,28.0,29.0,48.0,27.0,34.0,31.0,47.0,47.0,44.0,25.0,25.0,20.0,43.0,36.0,30.0,44.0,40.0,40.0,40.0,30.0,47.0,21.0,21.0,31.0,21.0,29.0,22.0,51.0,23.0,30.0,22.0,22.0,24.0,26.0,33.0,23.0,42.0,26.0,29.0,35.0,25.0,25.0,28.0,33.0,25.0,25.0,24.0,27.0,22.0,21.0,27.0,23.0,22.0,23.0,30.0,33.0,24.0,22.0,22.0,29.0,22.0,21.0,23.0,23.0,23.0,32.0,27.0,28.0,25.0,22.0,36.0,27.0,21.0,18.0,49.0,18.0,29.0,31.0,37.0,17.0,17.0,38.0,18.0,31.0,33.0,32.0,30.0,33.0,30.0,30.0,38.0,22.0,36.0,43.0,44.0,20.0,40.0,25.0,28.0,17.0,34.0,56.0,50.0,38.0,47.0,30.0,21.0,21.0,31.0,27.0,24.0,35.0,18.0,43.0,44.0,40.0,49.0,24.0,30.0,53.0,38.0,28.0,28.0,26.0,39.0,31.0,24.0,28.0,31.0,27.0,28.0,31.0,46.0,27.0,25.0,34.0,24.0,35.0,26.0],\"xaxis\":\"x\",\"yaxis\":\"y\",\"type\":\"histogram\"},{\"alignmentgroup\":\"True\",\"hovertemplate\":\"variable=age<br>value=%{x}<extra></extra>\",\"legendgroup\":\"age\",\"marker\":{\"color\":\"#636efa\"},\"name\":\"age\",\"notched\":true,\"offsetgroup\":\"age\",\"showlegend\":false,\"x\":[26.0,24.0,27.0,35.0,40.0,36.0,17.0,64.0,29.0,17.0,33.0,18.0,17.0,17.0,17.0,18.0,31.0,30.0,35.0,34.0,38.0,27.0,27.0,42.0,43.0,24.0,40.0,40.0,48.0,31.0,18.0,37.0,55.0,18.0,18.0,55.0,50.0,34.0,53.0,35.0,20.0,28.0,34.0,36.0,27.0,53.0,24.0,24.0,55.0,30.0,21.0,35.0,383.0,21.0,47.0,30.0,28.0,43.0,32.0,44.0,20.0,20.0,null,19.0,29.0,21.0,27.0,21.0,35.0,42.0,29.0,58.0,21.0,21.0,37.0,21.0,20.0,33.0,20.0,45.0,32.0,30.0,33.0,42.0,17.0,27.0,35.0,37.0,30.0,29.0,17.0,null,22.0,19.0,42.0,37.0,28.0,22.0,26.0,21.0,26.0,39.0,26.0,26.0,21.0,25.0,26.0,30.0,19.0,19.0,25.0,23.0,31.0,27.0,29.0,38.0,23.0,27.0,27.0,42.0,20.0,17.0,20.0,30.0,28.0,26.0,26.0,31.0,40.0,39.0,18.0,24.0,23.0,24.0,24.0,27.0,24.0,25.0,22.0,40.0,23.0,29.0,25.0,27.0,22.0,28.0,20.0,19.0,37.0,35.0,26.0,23.0,32.0,30.0,31.0,28.0,29.0,29.0,29.0,31.0,36.0,32.0,34.0,24.0,24.0,42.0,26.0,27.0,36.0,36.0,55.0,23.0,22.0,42.0,54.0,43.0,43.0,29.0,29.0,37.0,39.0,18.0,31.0,34.0,22.0,28.0,38.0,28.0,53.0,26.0,37.0,42.0,43.0,32.0,31.0,53.0,28.0,38.0,31.0,31.0,21.0,25.0,25.0,60.0,39.0,53.0,20.0,25.0,50.0,28.0,37.0,30.0,32.0,34.0,42.0,22.0,37.0,39.0,18.0,54.0,42.0,27.0,22.0,22.0,21.0,28.0,17.0,28.0,21.0,31.0,20.0,21.0,22.0,21.0,24.0,24.0,25.0,17.0,21.0,23.0,21.0,22.0,24.0,34.0,30.0,29.0,20.0,23.0,26.0,20.0,41.0,24.0,35.0,23.0,36.0,33.0,24.0,25.0,25.0,25.0,24.0,27.0,26.0,26.0,23.0,30.0,25.0,23.0,34.0,20.0,22.0,33.0,46.0,17.0,45.0,26.0,30.0,32.0,38.0,26.0,29.0,33.0,32.0,44.0,47.0,32.0,40.0,40.0,44.0,56.0,23.0,32.0,27.0,28.0,40.0,45.0,19.0,55.0,27.0,19.0,29.0,33.0,48.0,37.0,30.0,37.0,28.0,20.0,25.0,58.0,36.0,36.0,19.0,19.0,22.0,20.0,24.0,19.0,21.0,20.0,18.0,23.0,22.0,18.0,37.0,18.0,18.0,18.0,18.0,18.0,18.0,19.0,55.0,32.0,50.0,40.0,47.0,20.0,22.0,21.0,21.0,19.0,21.0,21.0,23.0,21.0,21.0,23.0,20.0,21.0,20.0,19.0,21.0,26.0,21.0,19.0,22.0,19.0,22.0,20.0,23.0,19.0,20.0,24.0,19.0,20.0,23.0,20.0,20.0,20.0,20.0,21.0,19.0,20.0,20.0,25.0,20.0,22.0,20.0,20.0,20.0,23.0,21.0,22.0,21.0,20.0,22.0,21.0,20.0,20.0,21.0,21.0,23.0,21.0,22.0,19.0,20.0,21.0,26.0,19.0,20.0,26.0,23.0,28.0,19.0,20.0,19.0,24.0,19.0,22.0,20.0,21.0,24.0,18.0,19.0,19.0,31.0,19.0,21.0,20.0,26.0,27.0,23.0,29.0,23.0,23.0,24.0,21.0,20.0,20.0,32.0,61.0,19.0,35.0,34.0,23.0,19.0,36.0,21.0,23.0,17.0,22.0,33.0,23.0,35.0,21.0,20.0,29.0,59.0,18.0,19.0,24.0,36.0,19.0,17.0,52.0,18.0,30.0,18.0,27.0,52.0,45.0,25.0,29.0,29.0,18.0,18.0,17.0,27.0,22.0,23.0,25.0,23.0,29.0,27.0,27.0,43.0,26.0,30.0,23.0,29.0,37.0,28.0,25.0,25.0,21.0,43.0,30.0,18.0,18.0,30.0,31.0,33.0,33.0,26.0,61.0,46.0,33.0,38.0,44.0,48.0,42.0,37.0,23.0,24.0,41.0,41.0,27.0,46.0,40.0,22.0,42.0,18.0,44.0,30.0,42.0,35.0,40.0,50.0,38.0,26.0,27.0,47.0,21.0,37.0,19.0,32.0,26.0,46.0,29.0,30.0,32.0,35.0,22.0,19.0,24.0,52.0,52.0,32.0,24.0,24.0,49.0,30.0,30.0,35.0,35.0,37.0,43.0,52.0,44.0,46.0,42.0,20.0,18.0,38.0,24.0,32.0,29.0,22.0,19.0,39.0,17.0,19.0,18.0,19.0,28.0,29.0,48.0,27.0,34.0,31.0,47.0,47.0,44.0,25.0,25.0,20.0,43.0,36.0,30.0,44.0,40.0,40.0,40.0,30.0,47.0,21.0,21.0,31.0,21.0,29.0,22.0,51.0,23.0,30.0,22.0,22.0,24.0,26.0,33.0,23.0,42.0,26.0,29.0,35.0,25.0,25.0,28.0,33.0,25.0,25.0,24.0,27.0,22.0,21.0,27.0,23.0,22.0,23.0,30.0,33.0,24.0,22.0,22.0,29.0,22.0,21.0,23.0,23.0,23.0,32.0,27.0,28.0,25.0,22.0,36.0,27.0,21.0,18.0,49.0,18.0,29.0,31.0,37.0,17.0,17.0,38.0,18.0,31.0,33.0,32.0,30.0,33.0,30.0,30.0,38.0,22.0,36.0,43.0,44.0,20.0,40.0,25.0,28.0,17.0,34.0,56.0,50.0,38.0,47.0,30.0,21.0,21.0,31.0,27.0,24.0,35.0,18.0,43.0,44.0,40.0,49.0,24.0,30.0,53.0,38.0,28.0,28.0,26.0,39.0,31.0,24.0,28.0,31.0,27.0,28.0,31.0,46.0,27.0,25.0,34.0,24.0,35.0,26.0],\"xaxis\":\"x2\",\"yaxis\":\"y2\",\"type\":\"box\"}],                        {\"template\":{\"data\":{\"histogram2dcontour\":[{\"type\":\"histogram2dcontour\",\"colorbar\":{\"outlinewidth\":0,\"ticks\":\"\"},\"colorscale\":[[0.0,\"#0d0887\"],[0.1111111111111111,\"#46039f\"],[0.2222222222222222,\"#7201a8\"],[0.3333333333333333,\"#9c179e\"],[0.4444444444444444,\"#bd3786\"],[0.5555555555555556,\"#d8576b\"],[0.6666666666666666,\"#ed7953\"],[0.7777777777777778,\"#fb9f3a\"],[0.8888888888888888,\"#fdca26\"],[1.0,\"#f0f921\"]]}],\"choropleth\":[{\"type\":\"choropleth\",\"colorbar\":{\"outlinewidth\":0,\"ticks\":\"\"}}],\"histogram2d\":[{\"type\":\"histogram2d\",\"colorbar\":{\"outlinewidth\":0,\"ticks\":\"\"},\"colorscale\":[[0.0,\"#0d0887\"],[0.1111111111111111,\"#46039f\"],[0.2222222222222222,\"#7201a8\"],[0.3333333333333333,\"#9c179e\"],[0.4444444444444444,\"#bd3786\"],[0.5555555555555556,\"#d8576b\"],[0.6666666666666666,\"#ed7953\"],[0.7777777777777778,\"#fb9f3a\"],[0.8888888888888888,\"#fdca26\"],[1.0,\"#f0f921\"]]}],\"heatmap\":[{\"type\":\"heatmap\",\"colorbar\":{\"outlinewidth\":0,\"ticks\":\"\"},\"colorscale\":[[0.0,\"#0d0887\"],[0.1111111111111111,\"#46039f\"],[0.2222222222222222,\"#7201a8\"],[0.3333333333333333,\"#9c179e\"],[0.4444444444444444,\"#bd3786\"],[0.5555555555555556,\"#d8576b\"],[0.6666666666666666,\"#ed7953\"],[0.7777777777777778,\"#fb9f3a\"],[0.8888888888888888,\"#fdca26\"],[1.0,\"#f0f921\"]]}],\"heatmapgl\":[{\"type\":\"heatmapgl\",\"colorbar\":{\"outlinewidth\":0,\"ticks\":\"\"},\"colorscale\":[[0.0,\"#0d0887\"],[0.1111111111111111,\"#46039f\"],[0.2222222222222222,\"#7201a8\"],[0.3333333333333333,\"#9c179e\"],[0.4444444444444444,\"#bd3786\"],[0.5555555555555556,\"#d8576b\"],[0.6666666666666666,\"#ed7953\"],[0.7777777777777778,\"#fb9f3a\"],[0.8888888888888888,\"#fdca26\"],[1.0,\"#f0f921\"]]}],\"contourcarpet\":[{\"type\":\"contourcarpet\",\"colorbar\":{\"outlinewidth\":0,\"ticks\":\"\"}}],\"contour\":[{\"type\":\"contour\",\"colorbar\":{\"outlinewidth\":0,\"ticks\":\"\"},\"colorscale\":[[0.0,\"#0d0887\"],[0.1111111111111111,\"#46039f\"],[0.2222222222222222,\"#7201a8\"],[0.3333333333333333,\"#9c179e\"],[0.4444444444444444,\"#bd3786\"],[0.5555555555555556,\"#d8576b\"],[0.6666666666666666,\"#ed7953\"],[0.7777777777777778,\"#fb9f3a\"],[0.8888888888888888,\"#fdca26\"],[1.0,\"#f0f921\"]]}],\"surface\":[{\"type\":\"surface\",\"colorbar\":{\"outlinewidth\":0,\"ticks\":\"\"},\"colorscale\":[[0.0,\"#0d0887\"],[0.1111111111111111,\"#46039f\"],[0.2222222222222222,\"#7201a8\"],[0.3333333333333333,\"#9c179e\"],[0.4444444444444444,\"#bd3786\"],[0.5555555555555556,\"#d8576b\"],[0.6666666666666666,\"#ed7953\"],[0.7777777777777778,\"#fb9f3a\"],[0.8888888888888888,\"#fdca26\"],[1.0,\"#f0f921\"]]}],\"mesh3d\":[{\"type\":\"mesh3d\",\"colorbar\":{\"outlinewidth\":0,\"ticks\":\"\"}}],\"scatter\":[{\"fillpattern\":{\"fillmode\":\"overlay\",\"size\":10,\"solidity\":0.2},\"type\":\"scatter\"}],\"parcoords\":[{\"type\":\"parcoords\",\"line\":{\"colorbar\":{\"outlinewidth\":0,\"ticks\":\"\"}}}],\"scatterpolargl\":[{\"type\":\"scatterpolargl\",\"marker\":{\"colorbar\":{\"outlinewidth\":0,\"ticks\":\"\"}}}],\"bar\":[{\"error_x\":{\"color\":\"#2a3f5f\"},\"error_y\":{\"color\":\"#2a3f5f\"},\"marker\":{\"line\":{\"color\":\"#E5ECF6\",\"width\":0.5},\"pattern\":{\"fillmode\":\"overlay\",\"size\":10,\"solidity\":0.2}},\"type\":\"bar\"}],\"scattergeo\":[{\"type\":\"scattergeo\",\"marker\":{\"colorbar\":{\"outlinewidth\":0,\"ticks\":\"\"}}}],\"scatterpolar\":[{\"type\":\"scatterpolar\",\"marker\":{\"colorbar\":{\"outlinewidth\":0,\"ticks\":\"\"}}}],\"histogram\":[{\"marker\":{\"pattern\":{\"fillmode\":\"overlay\",\"size\":10,\"solidity\":0.2}},\"type\":\"histogram\"}],\"scattergl\":[{\"type\":\"scattergl\",\"marker\":{\"colorbar\":{\"outlinewidth\":0,\"ticks\":\"\"}}}],\"scatter3d\":[{\"type\":\"scatter3d\",\"line\":{\"colorbar\":{\"outlinewidth\":0,\"ticks\":\"\"}},\"marker\":{\"colorbar\":{\"outlinewidth\":0,\"ticks\":\"\"}}}],\"scattermapbox\":[{\"type\":\"scattermapbox\",\"marker\":{\"colorbar\":{\"outlinewidth\":0,\"ticks\":\"\"}}}],\"scatterternary\":[{\"type\":\"scatterternary\",\"marker\":{\"colorbar\":{\"outlinewidth\":0,\"ticks\":\"\"}}}],\"scattercarpet\":[{\"type\":\"scattercarpet\",\"marker\":{\"colorbar\":{\"outlinewidth\":0,\"ticks\":\"\"}}}],\"carpet\":[{\"aaxis\":{\"endlinecolor\":\"#2a3f5f\",\"gridcolor\":\"white\",\"linecolor\":\"white\",\"minorgridcolor\":\"white\",\"startlinecolor\":\"#2a3f5f\"},\"baxis\":{\"endlinecolor\":\"#2a3f5f\",\"gridcolor\":\"white\",\"linecolor\":\"white\",\"minorgridcolor\":\"white\",\"startlinecolor\":\"#2a3f5f\"},\"type\":\"carpet\"}],\"table\":[{\"cells\":{\"fill\":{\"color\":\"#EBF0F8\"},\"line\":{\"color\":\"white\"}},\"header\":{\"fill\":{\"color\":\"#C8D4E3\"},\"line\":{\"color\":\"white\"}},\"type\":\"table\"}],\"barpolar\":[{\"marker\":{\"line\":{\"color\":\"#E5ECF6\",\"width\":0.5},\"pattern\":{\"fillmode\":\"overlay\",\"size\":10,\"solidity\":0.2}},\"type\":\"barpolar\"}],\"pie\":[{\"automargin\":true,\"type\":\"pie\"}]},\"layout\":{\"autotypenumbers\":\"strict\",\"colorway\":[\"#636efa\",\"#EF553B\",\"#00cc96\",\"#ab63fa\",\"#FFA15A\",\"#19d3f3\",\"#FF6692\",\"#B6E880\",\"#FF97FF\",\"#FECB52\"],\"font\":{\"color\":\"#2a3f5f\"},\"hovermode\":\"closest\",\"hoverlabel\":{\"align\":\"left\"},\"paper_bgcolor\":\"white\",\"plot_bgcolor\":\"#E5ECF6\",\"polar\":{\"bgcolor\":\"#E5ECF6\",\"angularaxis\":{\"gridcolor\":\"white\",\"linecolor\":\"white\",\"ticks\":\"\"},\"radialaxis\":{\"gridcolor\":\"white\",\"linecolor\":\"white\",\"ticks\":\"\"}},\"ternary\":{\"bgcolor\":\"#E5ECF6\",\"aaxis\":{\"gridcolor\":\"white\",\"linecolor\":\"white\",\"ticks\":\"\"},\"baxis\":{\"gridcolor\":\"white\",\"linecolor\":\"white\",\"ticks\":\"\"},\"caxis\":{\"gridcolor\":\"white\",\"linecolor\":\"white\",\"ticks\":\"\"}},\"coloraxis\":{\"colorbar\":{\"outlinewidth\":0,\"ticks\":\"\"}},\"colorscale\":{\"sequential\":[[0.0,\"#0d0887\"],[0.1111111111111111,\"#46039f\"],[0.2222222222222222,\"#7201a8\"],[0.3333333333333333,\"#9c179e\"],[0.4444444444444444,\"#bd3786\"],[0.5555555555555556,\"#d8576b\"],[0.6666666666666666,\"#ed7953\"],[0.7777777777777778,\"#fb9f3a\"],[0.8888888888888888,\"#fdca26\"],[1.0,\"#f0f921\"]],\"sequentialminus\":[[0.0,\"#0d0887\"],[0.1111111111111111,\"#46039f\"],[0.2222222222222222,\"#7201a8\"],[0.3333333333333333,\"#9c179e\"],[0.4444444444444444,\"#bd3786\"],[0.5555555555555556,\"#d8576b\"],[0.6666666666666666,\"#ed7953\"],[0.7777777777777778,\"#fb9f3a\"],[0.8888888888888888,\"#fdca26\"],[1.0,\"#f0f921\"]],\"diverging\":[[0,\"#8e0152\"],[0.1,\"#c51b7d\"],[0.2,\"#de77ae\"],[0.3,\"#f1b6da\"],[0.4,\"#fde0ef\"],[0.5,\"#f7f7f7\"],[0.6,\"#e6f5d0\"],[0.7,\"#b8e186\"],[0.8,\"#7fbc41\"],[0.9,\"#4d9221\"],[1,\"#276419\"]]},\"xaxis\":{\"gridcolor\":\"white\",\"linecolor\":\"white\",\"ticks\":\"\",\"title\":{\"standoff\":15},\"zerolinecolor\":\"white\",\"automargin\":true,\"zerolinewidth\":2},\"yaxis\":{\"gridcolor\":\"white\",\"linecolor\":\"white\",\"ticks\":\"\",\"title\":{\"standoff\":15},\"zerolinecolor\":\"white\",\"automargin\":true,\"zerolinewidth\":2},\"scene\":{\"xaxis\":{\"backgroundcolor\":\"#E5ECF6\",\"gridcolor\":\"white\",\"linecolor\":\"white\",\"showbackground\":true,\"ticks\":\"\",\"zerolinecolor\":\"white\",\"gridwidth\":2},\"yaxis\":{\"backgroundcolor\":\"#E5ECF6\",\"gridcolor\":\"white\",\"linecolor\":\"white\",\"showbackground\":true,\"ticks\":\"\",\"zerolinecolor\":\"white\",\"gridwidth\":2},\"zaxis\":{\"backgroundcolor\":\"#E5ECF6\",\"gridcolor\":\"white\",\"linecolor\":\"white\",\"showbackground\":true,\"ticks\":\"\",\"zerolinecolor\":\"white\",\"gridwidth\":2}},\"shapedefaults\":{\"line\":{\"color\":\"#2a3f5f\"}},\"annotationdefaults\":{\"arrowcolor\":\"#2a3f5f\",\"arrowhead\":0,\"arrowwidth\":1},\"geo\":{\"bgcolor\":\"white\",\"landcolor\":\"#E5ECF6\",\"subunitcolor\":\"white\",\"showland\":true,\"showlakes\":true,\"lakecolor\":\"white\"},\"title\":{\"x\":0.05},\"mapbox\":{\"style\":\"light\"}}},\"xaxis\":{\"anchor\":\"y\",\"domain\":[0.0,1.0],\"title\":{\"text\":\"value\"}},\"yaxis\":{\"anchor\":\"x\",\"domain\":[0.0,0.7326],\"title\":{\"text\":\"count\"}},\"xaxis2\":{\"anchor\":\"y2\",\"domain\":[0.0,1.0],\"matches\":\"x\",\"showticklabels\":false,\"showgrid\":true},\"yaxis2\":{\"anchor\":\"x2\",\"domain\":[0.7426,1.0],\"matches\":\"y2\",\"showticklabels\":false,\"showline\":false,\"ticks\":\"\",\"showgrid\":false},\"legend\":{\"title\":{\"text\":\"variable\"},\"tracegroupgap\":0},\"title\":{\"text\":\"Distribution cum box plot for Age of ASD patients\"},\"barmode\":\"relative\"},                        {\"responsive\": true}                    ).then(function(){\n",
       "                            \n",
       "var gd = document.getElementById('c25dfd85-b1fc-4879-a51b-72f0b37a289e');\n",
       "var x = new MutationObserver(function (mutations, observer) {{\n",
       "        var display = window.getComputedStyle(gd).display;\n",
       "        if (!display || display === 'none') {{\n",
       "            console.log([gd, 'removed!']);\n",
       "            Plotly.purge(gd);\n",
       "            observer.disconnect();\n",
       "        }}\n",
       "}});\n",
       "\n",
       "// Listen for the removal of the full notebook cells\n",
       "var notebookContainer = gd.closest('#notebook-container');\n",
       "if (notebookContainer) {{\n",
       "    x.observe(notebookContainer, {childList: true});\n",
       "}}\n",
       "\n",
       "// Listen for the clearing of the current output cell\n",
       "var outputEl = gd.closest('.output');\n",
       "if (outputEl) {{\n",
       "    x.observe(outputEl, {childList: true});\n",
       "}}\n",
       "\n",
       "                        })                };                });            </script>        </div>"
      ]
     },
     "metadata": {},
     "output_type": "display_data"
    }
   ],
   "source": [
    "px.histogram(data.age, marginal='box', title=\"Distribution cum box plot for Age of ASD patients\")"
   ]
  },
  {
   "cell_type": "code",
   "execution_count": 13,
   "id": "5fc382c6",
   "metadata": {},
   "outputs": [
    {
     "data": {
      "text/plain": [
       "27.0"
      ]
     },
     "execution_count": 13,
     "metadata": {},
     "output_type": "execute_result"
    }
   ],
   "source": [
    "data.age.median()"
   ]
  },
  {
   "cell_type": "code",
   "execution_count": 14,
   "id": "6eed9aa8",
   "metadata": {},
   "outputs": [],
   "source": [
    "lst = list()\n",
    "for i in data.age:\n",
    "    if i >= 100:\n",
    "        lst.append(data.age.median())\n",
    "    else:\n",
    "        lst.append(i)\n"
   ]
  },
  {
   "cell_type": "code",
   "execution_count": 15,
   "id": "480eb777",
   "metadata": {},
   "outputs": [
    {
     "data": {
      "application/vnd.plotly.v1+json": {
       "config": {
        "plotlyServerURL": "https://plot.ly"
       },
       "data": [
        {
         "alignmentgroup": "True",
         "bingroup": "x",
         "hovertemplate": "variable=0<br>value=%{x}<br>count=%{y}<extra></extra>",
         "legendgroup": "0",
         "marker": {
          "color": "#636efa",
          "pattern": {
           "shape": ""
          }
         },
         "name": "0",
         "offsetgroup": "0",
         "orientation": "v",
         "showlegend": true,
         "type": "histogram",
         "x": [
          26,
          24,
          27,
          35,
          40,
          36,
          17,
          64,
          29,
          17,
          33,
          18,
          17,
          17,
          17,
          18,
          31,
          30,
          35,
          34,
          38,
          27,
          27,
          42,
          43,
          24,
          40,
          40,
          48,
          31,
          18,
          37,
          55,
          18,
          18,
          55,
          50,
          34,
          53,
          35,
          20,
          28,
          34,
          36,
          27,
          53,
          24,
          24,
          55,
          30,
          21,
          35,
          27,
          21,
          47,
          30,
          28,
          43,
          32,
          44,
          20,
          20,
          null,
          19,
          29,
          21,
          27,
          21,
          35,
          42,
          29,
          58,
          21,
          21,
          37,
          21,
          20,
          33,
          20,
          45,
          32,
          30,
          33,
          42,
          17,
          27,
          35,
          37,
          30,
          29,
          17,
          null,
          22,
          19,
          42,
          37,
          28,
          22,
          26,
          21,
          26,
          39,
          26,
          26,
          21,
          25,
          26,
          30,
          19,
          19,
          25,
          23,
          31,
          27,
          29,
          38,
          23,
          27,
          27,
          42,
          20,
          17,
          20,
          30,
          28,
          26,
          26,
          31,
          40,
          39,
          18,
          24,
          23,
          24,
          24,
          27,
          24,
          25,
          22,
          40,
          23,
          29,
          25,
          27,
          22,
          28,
          20,
          19,
          37,
          35,
          26,
          23,
          32,
          30,
          31,
          28,
          29,
          29,
          29,
          31,
          36,
          32,
          34,
          24,
          24,
          42,
          26,
          27,
          36,
          36,
          55,
          23,
          22,
          42,
          54,
          43,
          43,
          29,
          29,
          37,
          39,
          18,
          31,
          34,
          22,
          28,
          38,
          28,
          53,
          26,
          37,
          42,
          43,
          32,
          31,
          53,
          28,
          38,
          31,
          31,
          21,
          25,
          25,
          60,
          39,
          53,
          20,
          25,
          50,
          28,
          37,
          30,
          32,
          34,
          42,
          22,
          37,
          39,
          18,
          54,
          42,
          27,
          22,
          22,
          21,
          28,
          17,
          28,
          21,
          31,
          20,
          21,
          22,
          21,
          24,
          24,
          25,
          17,
          21,
          23,
          21,
          22,
          24,
          34,
          30,
          29,
          20,
          23,
          26,
          20,
          41,
          24,
          35,
          23,
          36,
          33,
          24,
          25,
          25,
          25,
          24,
          27,
          26,
          26,
          23,
          30,
          25,
          23,
          34,
          20,
          22,
          33,
          46,
          17,
          45,
          26,
          30,
          32,
          38,
          26,
          29,
          33,
          32,
          44,
          47,
          32,
          40,
          40,
          44,
          56,
          23,
          32,
          27,
          28,
          40,
          45,
          19,
          55,
          27,
          19,
          29,
          33,
          48,
          37,
          30,
          37,
          28,
          20,
          25,
          58,
          36,
          36,
          19,
          19,
          22,
          20,
          24,
          19,
          21,
          20,
          18,
          23,
          22,
          18,
          37,
          18,
          18,
          18,
          18,
          18,
          18,
          19,
          55,
          32,
          50,
          40,
          47,
          20,
          22,
          21,
          21,
          19,
          21,
          21,
          23,
          21,
          21,
          23,
          20,
          21,
          20,
          19,
          21,
          26,
          21,
          19,
          22,
          19,
          22,
          20,
          23,
          19,
          20,
          24,
          19,
          20,
          23,
          20,
          20,
          20,
          20,
          21,
          19,
          20,
          20,
          25,
          20,
          22,
          20,
          20,
          20,
          23,
          21,
          22,
          21,
          20,
          22,
          21,
          20,
          20,
          21,
          21,
          23,
          21,
          22,
          19,
          20,
          21,
          26,
          19,
          20,
          26,
          23,
          28,
          19,
          20,
          19,
          24,
          19,
          22,
          20,
          21,
          24,
          18,
          19,
          19,
          31,
          19,
          21,
          20,
          26,
          27,
          23,
          29,
          23,
          23,
          24,
          21,
          20,
          20,
          32,
          61,
          19,
          35,
          34,
          23,
          19,
          36,
          21,
          23,
          17,
          22,
          33,
          23,
          35,
          21,
          20,
          29,
          59,
          18,
          19,
          24,
          36,
          19,
          17,
          52,
          18,
          30,
          18,
          27,
          52,
          45,
          25,
          29,
          29,
          18,
          18,
          17,
          27,
          22,
          23,
          25,
          23,
          29,
          27,
          27,
          43,
          26,
          30,
          23,
          29,
          37,
          28,
          25,
          25,
          21,
          43,
          30,
          18,
          18,
          30,
          31,
          33,
          33,
          26,
          61,
          46,
          33,
          38,
          44,
          48,
          42,
          37,
          23,
          24,
          41,
          41,
          27,
          46,
          40,
          22,
          42,
          18,
          44,
          30,
          42,
          35,
          40,
          50,
          38,
          26,
          27,
          47,
          21,
          37,
          19,
          32,
          26,
          46,
          29,
          30,
          32,
          35,
          22,
          19,
          24,
          52,
          52,
          32,
          24,
          24,
          49,
          30,
          30,
          35,
          35,
          37,
          43,
          52,
          44,
          46,
          42,
          20,
          18,
          38,
          24,
          32,
          29,
          22,
          19,
          39,
          17,
          19,
          18,
          19,
          28,
          29,
          48,
          27,
          34,
          31,
          47,
          47,
          44,
          25,
          25,
          20,
          43,
          36,
          30,
          44,
          40,
          40,
          40,
          30,
          47,
          21,
          21,
          31,
          21,
          29,
          22,
          51,
          23,
          30,
          22,
          22,
          24,
          26,
          33,
          23,
          42,
          26,
          29,
          35,
          25,
          25,
          28,
          33,
          25,
          25,
          24,
          27,
          22,
          21,
          27,
          23,
          22,
          23,
          30,
          33,
          24,
          22,
          22,
          29,
          22,
          21,
          23,
          23,
          23,
          32,
          27,
          28,
          25,
          22,
          36,
          27,
          21,
          18,
          49,
          18,
          29,
          31,
          37,
          17,
          17,
          38,
          18,
          31,
          33,
          32,
          30,
          33,
          30,
          30,
          38,
          22,
          36,
          43,
          44,
          20,
          40,
          25,
          28,
          17,
          34,
          56,
          50,
          38,
          47,
          30,
          21,
          21,
          31,
          27,
          24,
          35,
          18,
          43,
          44,
          40,
          49,
          24,
          30,
          53,
          38,
          28,
          28,
          26,
          39,
          31,
          24,
          28,
          31,
          27,
          28,
          31,
          46,
          27,
          25,
          34,
          24,
          35,
          26
         ],
         "xaxis": "x",
         "yaxis": "y"
        },
        {
         "alignmentgroup": "True",
         "hovertemplate": "variable=0<br>value=%{x}<extra></extra>",
         "legendgroup": "0",
         "marker": {
          "color": "#636efa"
         },
         "name": "0",
         "notched": true,
         "offsetgroup": "0",
         "showlegend": false,
         "type": "box",
         "x": [
          26,
          24,
          27,
          35,
          40,
          36,
          17,
          64,
          29,
          17,
          33,
          18,
          17,
          17,
          17,
          18,
          31,
          30,
          35,
          34,
          38,
          27,
          27,
          42,
          43,
          24,
          40,
          40,
          48,
          31,
          18,
          37,
          55,
          18,
          18,
          55,
          50,
          34,
          53,
          35,
          20,
          28,
          34,
          36,
          27,
          53,
          24,
          24,
          55,
          30,
          21,
          35,
          27,
          21,
          47,
          30,
          28,
          43,
          32,
          44,
          20,
          20,
          null,
          19,
          29,
          21,
          27,
          21,
          35,
          42,
          29,
          58,
          21,
          21,
          37,
          21,
          20,
          33,
          20,
          45,
          32,
          30,
          33,
          42,
          17,
          27,
          35,
          37,
          30,
          29,
          17,
          null,
          22,
          19,
          42,
          37,
          28,
          22,
          26,
          21,
          26,
          39,
          26,
          26,
          21,
          25,
          26,
          30,
          19,
          19,
          25,
          23,
          31,
          27,
          29,
          38,
          23,
          27,
          27,
          42,
          20,
          17,
          20,
          30,
          28,
          26,
          26,
          31,
          40,
          39,
          18,
          24,
          23,
          24,
          24,
          27,
          24,
          25,
          22,
          40,
          23,
          29,
          25,
          27,
          22,
          28,
          20,
          19,
          37,
          35,
          26,
          23,
          32,
          30,
          31,
          28,
          29,
          29,
          29,
          31,
          36,
          32,
          34,
          24,
          24,
          42,
          26,
          27,
          36,
          36,
          55,
          23,
          22,
          42,
          54,
          43,
          43,
          29,
          29,
          37,
          39,
          18,
          31,
          34,
          22,
          28,
          38,
          28,
          53,
          26,
          37,
          42,
          43,
          32,
          31,
          53,
          28,
          38,
          31,
          31,
          21,
          25,
          25,
          60,
          39,
          53,
          20,
          25,
          50,
          28,
          37,
          30,
          32,
          34,
          42,
          22,
          37,
          39,
          18,
          54,
          42,
          27,
          22,
          22,
          21,
          28,
          17,
          28,
          21,
          31,
          20,
          21,
          22,
          21,
          24,
          24,
          25,
          17,
          21,
          23,
          21,
          22,
          24,
          34,
          30,
          29,
          20,
          23,
          26,
          20,
          41,
          24,
          35,
          23,
          36,
          33,
          24,
          25,
          25,
          25,
          24,
          27,
          26,
          26,
          23,
          30,
          25,
          23,
          34,
          20,
          22,
          33,
          46,
          17,
          45,
          26,
          30,
          32,
          38,
          26,
          29,
          33,
          32,
          44,
          47,
          32,
          40,
          40,
          44,
          56,
          23,
          32,
          27,
          28,
          40,
          45,
          19,
          55,
          27,
          19,
          29,
          33,
          48,
          37,
          30,
          37,
          28,
          20,
          25,
          58,
          36,
          36,
          19,
          19,
          22,
          20,
          24,
          19,
          21,
          20,
          18,
          23,
          22,
          18,
          37,
          18,
          18,
          18,
          18,
          18,
          18,
          19,
          55,
          32,
          50,
          40,
          47,
          20,
          22,
          21,
          21,
          19,
          21,
          21,
          23,
          21,
          21,
          23,
          20,
          21,
          20,
          19,
          21,
          26,
          21,
          19,
          22,
          19,
          22,
          20,
          23,
          19,
          20,
          24,
          19,
          20,
          23,
          20,
          20,
          20,
          20,
          21,
          19,
          20,
          20,
          25,
          20,
          22,
          20,
          20,
          20,
          23,
          21,
          22,
          21,
          20,
          22,
          21,
          20,
          20,
          21,
          21,
          23,
          21,
          22,
          19,
          20,
          21,
          26,
          19,
          20,
          26,
          23,
          28,
          19,
          20,
          19,
          24,
          19,
          22,
          20,
          21,
          24,
          18,
          19,
          19,
          31,
          19,
          21,
          20,
          26,
          27,
          23,
          29,
          23,
          23,
          24,
          21,
          20,
          20,
          32,
          61,
          19,
          35,
          34,
          23,
          19,
          36,
          21,
          23,
          17,
          22,
          33,
          23,
          35,
          21,
          20,
          29,
          59,
          18,
          19,
          24,
          36,
          19,
          17,
          52,
          18,
          30,
          18,
          27,
          52,
          45,
          25,
          29,
          29,
          18,
          18,
          17,
          27,
          22,
          23,
          25,
          23,
          29,
          27,
          27,
          43,
          26,
          30,
          23,
          29,
          37,
          28,
          25,
          25,
          21,
          43,
          30,
          18,
          18,
          30,
          31,
          33,
          33,
          26,
          61,
          46,
          33,
          38,
          44,
          48,
          42,
          37,
          23,
          24,
          41,
          41,
          27,
          46,
          40,
          22,
          42,
          18,
          44,
          30,
          42,
          35,
          40,
          50,
          38,
          26,
          27,
          47,
          21,
          37,
          19,
          32,
          26,
          46,
          29,
          30,
          32,
          35,
          22,
          19,
          24,
          52,
          52,
          32,
          24,
          24,
          49,
          30,
          30,
          35,
          35,
          37,
          43,
          52,
          44,
          46,
          42,
          20,
          18,
          38,
          24,
          32,
          29,
          22,
          19,
          39,
          17,
          19,
          18,
          19,
          28,
          29,
          48,
          27,
          34,
          31,
          47,
          47,
          44,
          25,
          25,
          20,
          43,
          36,
          30,
          44,
          40,
          40,
          40,
          30,
          47,
          21,
          21,
          31,
          21,
          29,
          22,
          51,
          23,
          30,
          22,
          22,
          24,
          26,
          33,
          23,
          42,
          26,
          29,
          35,
          25,
          25,
          28,
          33,
          25,
          25,
          24,
          27,
          22,
          21,
          27,
          23,
          22,
          23,
          30,
          33,
          24,
          22,
          22,
          29,
          22,
          21,
          23,
          23,
          23,
          32,
          27,
          28,
          25,
          22,
          36,
          27,
          21,
          18,
          49,
          18,
          29,
          31,
          37,
          17,
          17,
          38,
          18,
          31,
          33,
          32,
          30,
          33,
          30,
          30,
          38,
          22,
          36,
          43,
          44,
          20,
          40,
          25,
          28,
          17,
          34,
          56,
          50,
          38,
          47,
          30,
          21,
          21,
          31,
          27,
          24,
          35,
          18,
          43,
          44,
          40,
          49,
          24,
          30,
          53,
          38,
          28,
          28,
          26,
          39,
          31,
          24,
          28,
          31,
          27,
          28,
          31,
          46,
          27,
          25,
          34,
          24,
          35,
          26
         ],
         "xaxis": "x2",
         "yaxis": "y2"
        }
       ],
       "layout": {
        "barmode": "relative",
        "legend": {
         "title": {
          "text": "variable"
         },
         "tracegroupgap": 0
        },
        "margin": {
         "t": 60
        },
        "template": {
         "data": {
          "bar": [
           {
            "error_x": {
             "color": "#2a3f5f"
            },
            "error_y": {
             "color": "#2a3f5f"
            },
            "marker": {
             "line": {
              "color": "#E5ECF6",
              "width": 0.5
             },
             "pattern": {
              "fillmode": "overlay",
              "size": 10,
              "solidity": 0.2
             }
            },
            "type": "bar"
           }
          ],
          "barpolar": [
           {
            "marker": {
             "line": {
              "color": "#E5ECF6",
              "width": 0.5
             },
             "pattern": {
              "fillmode": "overlay",
              "size": 10,
              "solidity": 0.2
             }
            },
            "type": "barpolar"
           }
          ],
          "carpet": [
           {
            "aaxis": {
             "endlinecolor": "#2a3f5f",
             "gridcolor": "white",
             "linecolor": "white",
             "minorgridcolor": "white",
             "startlinecolor": "#2a3f5f"
            },
            "baxis": {
             "endlinecolor": "#2a3f5f",
             "gridcolor": "white",
             "linecolor": "white",
             "minorgridcolor": "white",
             "startlinecolor": "#2a3f5f"
            },
            "type": "carpet"
           }
          ],
          "choropleth": [
           {
            "colorbar": {
             "outlinewidth": 0,
             "ticks": ""
            },
            "type": "choropleth"
           }
          ],
          "contour": [
           {
            "colorbar": {
             "outlinewidth": 0,
             "ticks": ""
            },
            "colorscale": [
             [
              0,
              "#0d0887"
             ],
             [
              0.1111111111111111,
              "#46039f"
             ],
             [
              0.2222222222222222,
              "#7201a8"
             ],
             [
              0.3333333333333333,
              "#9c179e"
             ],
             [
              0.4444444444444444,
              "#bd3786"
             ],
             [
              0.5555555555555556,
              "#d8576b"
             ],
             [
              0.6666666666666666,
              "#ed7953"
             ],
             [
              0.7777777777777778,
              "#fb9f3a"
             ],
             [
              0.8888888888888888,
              "#fdca26"
             ],
             [
              1,
              "#f0f921"
             ]
            ],
            "type": "contour"
           }
          ],
          "contourcarpet": [
           {
            "colorbar": {
             "outlinewidth": 0,
             "ticks": ""
            },
            "type": "contourcarpet"
           }
          ],
          "heatmap": [
           {
            "colorbar": {
             "outlinewidth": 0,
             "ticks": ""
            },
            "colorscale": [
             [
              0,
              "#0d0887"
             ],
             [
              0.1111111111111111,
              "#46039f"
             ],
             [
              0.2222222222222222,
              "#7201a8"
             ],
             [
              0.3333333333333333,
              "#9c179e"
             ],
             [
              0.4444444444444444,
              "#bd3786"
             ],
             [
              0.5555555555555556,
              "#d8576b"
             ],
             [
              0.6666666666666666,
              "#ed7953"
             ],
             [
              0.7777777777777778,
              "#fb9f3a"
             ],
             [
              0.8888888888888888,
              "#fdca26"
             ],
             [
              1,
              "#f0f921"
             ]
            ],
            "type": "heatmap"
           }
          ],
          "heatmapgl": [
           {
            "colorbar": {
             "outlinewidth": 0,
             "ticks": ""
            },
            "colorscale": [
             [
              0,
              "#0d0887"
             ],
             [
              0.1111111111111111,
              "#46039f"
             ],
             [
              0.2222222222222222,
              "#7201a8"
             ],
             [
              0.3333333333333333,
              "#9c179e"
             ],
             [
              0.4444444444444444,
              "#bd3786"
             ],
             [
              0.5555555555555556,
              "#d8576b"
             ],
             [
              0.6666666666666666,
              "#ed7953"
             ],
             [
              0.7777777777777778,
              "#fb9f3a"
             ],
             [
              0.8888888888888888,
              "#fdca26"
             ],
             [
              1,
              "#f0f921"
             ]
            ],
            "type": "heatmapgl"
           }
          ],
          "histogram": [
           {
            "marker": {
             "pattern": {
              "fillmode": "overlay",
              "size": 10,
              "solidity": 0.2
             }
            },
            "type": "histogram"
           }
          ],
          "histogram2d": [
           {
            "colorbar": {
             "outlinewidth": 0,
             "ticks": ""
            },
            "colorscale": [
             [
              0,
              "#0d0887"
             ],
             [
              0.1111111111111111,
              "#46039f"
             ],
             [
              0.2222222222222222,
              "#7201a8"
             ],
             [
              0.3333333333333333,
              "#9c179e"
             ],
             [
              0.4444444444444444,
              "#bd3786"
             ],
             [
              0.5555555555555556,
              "#d8576b"
             ],
             [
              0.6666666666666666,
              "#ed7953"
             ],
             [
              0.7777777777777778,
              "#fb9f3a"
             ],
             [
              0.8888888888888888,
              "#fdca26"
             ],
             [
              1,
              "#f0f921"
             ]
            ],
            "type": "histogram2d"
           }
          ],
          "histogram2dcontour": [
           {
            "colorbar": {
             "outlinewidth": 0,
             "ticks": ""
            },
            "colorscale": [
             [
              0,
              "#0d0887"
             ],
             [
              0.1111111111111111,
              "#46039f"
             ],
             [
              0.2222222222222222,
              "#7201a8"
             ],
             [
              0.3333333333333333,
              "#9c179e"
             ],
             [
              0.4444444444444444,
              "#bd3786"
             ],
             [
              0.5555555555555556,
              "#d8576b"
             ],
             [
              0.6666666666666666,
              "#ed7953"
             ],
             [
              0.7777777777777778,
              "#fb9f3a"
             ],
             [
              0.8888888888888888,
              "#fdca26"
             ],
             [
              1,
              "#f0f921"
             ]
            ],
            "type": "histogram2dcontour"
           }
          ],
          "mesh3d": [
           {
            "colorbar": {
             "outlinewidth": 0,
             "ticks": ""
            },
            "type": "mesh3d"
           }
          ],
          "parcoords": [
           {
            "line": {
             "colorbar": {
              "outlinewidth": 0,
              "ticks": ""
             }
            },
            "type": "parcoords"
           }
          ],
          "pie": [
           {
            "automargin": true,
            "type": "pie"
           }
          ],
          "scatter": [
           {
            "fillpattern": {
             "fillmode": "overlay",
             "size": 10,
             "solidity": 0.2
            },
            "type": "scatter"
           }
          ],
          "scatter3d": [
           {
            "line": {
             "colorbar": {
              "outlinewidth": 0,
              "ticks": ""
             }
            },
            "marker": {
             "colorbar": {
              "outlinewidth": 0,
              "ticks": ""
             }
            },
            "type": "scatter3d"
           }
          ],
          "scattercarpet": [
           {
            "marker": {
             "colorbar": {
              "outlinewidth": 0,
              "ticks": ""
             }
            },
            "type": "scattercarpet"
           }
          ],
          "scattergeo": [
           {
            "marker": {
             "colorbar": {
              "outlinewidth": 0,
              "ticks": ""
             }
            },
            "type": "scattergeo"
           }
          ],
          "scattergl": [
           {
            "marker": {
             "colorbar": {
              "outlinewidth": 0,
              "ticks": ""
             }
            },
            "type": "scattergl"
           }
          ],
          "scattermapbox": [
           {
            "marker": {
             "colorbar": {
              "outlinewidth": 0,
              "ticks": ""
             }
            },
            "type": "scattermapbox"
           }
          ],
          "scatterpolar": [
           {
            "marker": {
             "colorbar": {
              "outlinewidth": 0,
              "ticks": ""
             }
            },
            "type": "scatterpolar"
           }
          ],
          "scatterpolargl": [
           {
            "marker": {
             "colorbar": {
              "outlinewidth": 0,
              "ticks": ""
             }
            },
            "type": "scatterpolargl"
           }
          ],
          "scatterternary": [
           {
            "marker": {
             "colorbar": {
              "outlinewidth": 0,
              "ticks": ""
             }
            },
            "type": "scatterternary"
           }
          ],
          "surface": [
           {
            "colorbar": {
             "outlinewidth": 0,
             "ticks": ""
            },
            "colorscale": [
             [
              0,
              "#0d0887"
             ],
             [
              0.1111111111111111,
              "#46039f"
             ],
             [
              0.2222222222222222,
              "#7201a8"
             ],
             [
              0.3333333333333333,
              "#9c179e"
             ],
             [
              0.4444444444444444,
              "#bd3786"
             ],
             [
              0.5555555555555556,
              "#d8576b"
             ],
             [
              0.6666666666666666,
              "#ed7953"
             ],
             [
              0.7777777777777778,
              "#fb9f3a"
             ],
             [
              0.8888888888888888,
              "#fdca26"
             ],
             [
              1,
              "#f0f921"
             ]
            ],
            "type": "surface"
           }
          ],
          "table": [
           {
            "cells": {
             "fill": {
              "color": "#EBF0F8"
             },
             "line": {
              "color": "white"
             }
            },
            "header": {
             "fill": {
              "color": "#C8D4E3"
             },
             "line": {
              "color": "white"
             }
            },
            "type": "table"
           }
          ]
         },
         "layout": {
          "annotationdefaults": {
           "arrowcolor": "#2a3f5f",
           "arrowhead": 0,
           "arrowwidth": 1
          },
          "autotypenumbers": "strict",
          "coloraxis": {
           "colorbar": {
            "outlinewidth": 0,
            "ticks": ""
           }
          },
          "colorscale": {
           "diverging": [
            [
             0,
             "#8e0152"
            ],
            [
             0.1,
             "#c51b7d"
            ],
            [
             0.2,
             "#de77ae"
            ],
            [
             0.3,
             "#f1b6da"
            ],
            [
             0.4,
             "#fde0ef"
            ],
            [
             0.5,
             "#f7f7f7"
            ],
            [
             0.6,
             "#e6f5d0"
            ],
            [
             0.7,
             "#b8e186"
            ],
            [
             0.8,
             "#7fbc41"
            ],
            [
             0.9,
             "#4d9221"
            ],
            [
             1,
             "#276419"
            ]
           ],
           "sequential": [
            [
             0,
             "#0d0887"
            ],
            [
             0.1111111111111111,
             "#46039f"
            ],
            [
             0.2222222222222222,
             "#7201a8"
            ],
            [
             0.3333333333333333,
             "#9c179e"
            ],
            [
             0.4444444444444444,
             "#bd3786"
            ],
            [
             0.5555555555555556,
             "#d8576b"
            ],
            [
             0.6666666666666666,
             "#ed7953"
            ],
            [
             0.7777777777777778,
             "#fb9f3a"
            ],
            [
             0.8888888888888888,
             "#fdca26"
            ],
            [
             1,
             "#f0f921"
            ]
           ],
           "sequentialminus": [
            [
             0,
             "#0d0887"
            ],
            [
             0.1111111111111111,
             "#46039f"
            ],
            [
             0.2222222222222222,
             "#7201a8"
            ],
            [
             0.3333333333333333,
             "#9c179e"
            ],
            [
             0.4444444444444444,
             "#bd3786"
            ],
            [
             0.5555555555555556,
             "#d8576b"
            ],
            [
             0.6666666666666666,
             "#ed7953"
            ],
            [
             0.7777777777777778,
             "#fb9f3a"
            ],
            [
             0.8888888888888888,
             "#fdca26"
            ],
            [
             1,
             "#f0f921"
            ]
           ]
          },
          "colorway": [
           "#636efa",
           "#EF553B",
           "#00cc96",
           "#ab63fa",
           "#FFA15A",
           "#19d3f3",
           "#FF6692",
           "#B6E880",
           "#FF97FF",
           "#FECB52"
          ],
          "font": {
           "color": "#2a3f5f"
          },
          "geo": {
           "bgcolor": "white",
           "lakecolor": "white",
           "landcolor": "#E5ECF6",
           "showlakes": true,
           "showland": true,
           "subunitcolor": "white"
          },
          "hoverlabel": {
           "align": "left"
          },
          "hovermode": "closest",
          "mapbox": {
           "style": "light"
          },
          "paper_bgcolor": "white",
          "plot_bgcolor": "#E5ECF6",
          "polar": {
           "angularaxis": {
            "gridcolor": "white",
            "linecolor": "white",
            "ticks": ""
           },
           "bgcolor": "#E5ECF6",
           "radialaxis": {
            "gridcolor": "white",
            "linecolor": "white",
            "ticks": ""
           }
          },
          "scene": {
           "xaxis": {
            "backgroundcolor": "#E5ECF6",
            "gridcolor": "white",
            "gridwidth": 2,
            "linecolor": "white",
            "showbackground": true,
            "ticks": "",
            "zerolinecolor": "white"
           },
           "yaxis": {
            "backgroundcolor": "#E5ECF6",
            "gridcolor": "white",
            "gridwidth": 2,
            "linecolor": "white",
            "showbackground": true,
            "ticks": "",
            "zerolinecolor": "white"
           },
           "zaxis": {
            "backgroundcolor": "#E5ECF6",
            "gridcolor": "white",
            "gridwidth": 2,
            "linecolor": "white",
            "showbackground": true,
            "ticks": "",
            "zerolinecolor": "white"
           }
          },
          "shapedefaults": {
           "line": {
            "color": "#2a3f5f"
           }
          },
          "ternary": {
           "aaxis": {
            "gridcolor": "white",
            "linecolor": "white",
            "ticks": ""
           },
           "baxis": {
            "gridcolor": "white",
            "linecolor": "white",
            "ticks": ""
           },
           "bgcolor": "#E5ECF6",
           "caxis": {
            "gridcolor": "white",
            "linecolor": "white",
            "ticks": ""
           }
          },
          "title": {
           "x": 0.05
          },
          "xaxis": {
           "automargin": true,
           "gridcolor": "white",
           "linecolor": "white",
           "ticks": "",
           "title": {
            "standoff": 15
           },
           "zerolinecolor": "white",
           "zerolinewidth": 2
          },
          "yaxis": {
           "automargin": true,
           "gridcolor": "white",
           "linecolor": "white",
           "ticks": "",
           "title": {
            "standoff": 15
           },
           "zerolinecolor": "white",
           "zerolinewidth": 2
          }
         }
        },
        "xaxis": {
         "anchor": "y",
         "domain": [
          0,
          1
         ],
         "title": {
          "text": "value"
         }
        },
        "xaxis2": {
         "anchor": "y2",
         "domain": [
          0,
          1
         ],
         "matches": "x",
         "showgrid": true,
         "showticklabels": false
        },
        "yaxis": {
         "anchor": "x",
         "domain": [
          0,
          0.7326
         ],
         "title": {
          "text": "count"
         }
        },
        "yaxis2": {
         "anchor": "x2",
         "domain": [
          0.7426,
          1
         ],
         "matches": "y2",
         "showgrid": false,
         "showline": false,
         "showticklabels": false,
         "ticks": ""
        }
       }
      },
      "text/html": [
       "<div>                            <div id=\"21468248-acd4-4e58-8ad4-f65fcc2a1169\" class=\"plotly-graph-div\" style=\"height:525px; width:100%;\"></div>            <script type=\"text/javascript\">                require([\"plotly\"], function(Plotly) {                    window.PLOTLYENV=window.PLOTLYENV || {};                                    if (document.getElementById(\"21468248-acd4-4e58-8ad4-f65fcc2a1169\")) {                    Plotly.newPlot(                        \"21468248-acd4-4e58-8ad4-f65fcc2a1169\",                        [{\"alignmentgroup\":\"True\",\"bingroup\":\"x\",\"hovertemplate\":\"variable=0<br>value=%{x}<br>count=%{y}<extra></extra>\",\"legendgroup\":\"0\",\"marker\":{\"color\":\"#636efa\",\"pattern\":{\"shape\":\"\"}},\"name\":\"0\",\"offsetgroup\":\"0\",\"orientation\":\"v\",\"showlegend\":true,\"x\":[26.0,24.0,27.0,35.0,40.0,36.0,17.0,64.0,29.0,17.0,33.0,18.0,17.0,17.0,17.0,18.0,31.0,30.0,35.0,34.0,38.0,27.0,27.0,42.0,43.0,24.0,40.0,40.0,48.0,31.0,18.0,37.0,55.0,18.0,18.0,55.0,50.0,34.0,53.0,35.0,20.0,28.0,34.0,36.0,27.0,53.0,24.0,24.0,55.0,30.0,21.0,35.0,27.0,21.0,47.0,30.0,28.0,43.0,32.0,44.0,20.0,20.0,null,19.0,29.0,21.0,27.0,21.0,35.0,42.0,29.0,58.0,21.0,21.0,37.0,21.0,20.0,33.0,20.0,45.0,32.0,30.0,33.0,42.0,17.0,27.0,35.0,37.0,30.0,29.0,17.0,null,22.0,19.0,42.0,37.0,28.0,22.0,26.0,21.0,26.0,39.0,26.0,26.0,21.0,25.0,26.0,30.0,19.0,19.0,25.0,23.0,31.0,27.0,29.0,38.0,23.0,27.0,27.0,42.0,20.0,17.0,20.0,30.0,28.0,26.0,26.0,31.0,40.0,39.0,18.0,24.0,23.0,24.0,24.0,27.0,24.0,25.0,22.0,40.0,23.0,29.0,25.0,27.0,22.0,28.0,20.0,19.0,37.0,35.0,26.0,23.0,32.0,30.0,31.0,28.0,29.0,29.0,29.0,31.0,36.0,32.0,34.0,24.0,24.0,42.0,26.0,27.0,36.0,36.0,55.0,23.0,22.0,42.0,54.0,43.0,43.0,29.0,29.0,37.0,39.0,18.0,31.0,34.0,22.0,28.0,38.0,28.0,53.0,26.0,37.0,42.0,43.0,32.0,31.0,53.0,28.0,38.0,31.0,31.0,21.0,25.0,25.0,60.0,39.0,53.0,20.0,25.0,50.0,28.0,37.0,30.0,32.0,34.0,42.0,22.0,37.0,39.0,18.0,54.0,42.0,27.0,22.0,22.0,21.0,28.0,17.0,28.0,21.0,31.0,20.0,21.0,22.0,21.0,24.0,24.0,25.0,17.0,21.0,23.0,21.0,22.0,24.0,34.0,30.0,29.0,20.0,23.0,26.0,20.0,41.0,24.0,35.0,23.0,36.0,33.0,24.0,25.0,25.0,25.0,24.0,27.0,26.0,26.0,23.0,30.0,25.0,23.0,34.0,20.0,22.0,33.0,46.0,17.0,45.0,26.0,30.0,32.0,38.0,26.0,29.0,33.0,32.0,44.0,47.0,32.0,40.0,40.0,44.0,56.0,23.0,32.0,27.0,28.0,40.0,45.0,19.0,55.0,27.0,19.0,29.0,33.0,48.0,37.0,30.0,37.0,28.0,20.0,25.0,58.0,36.0,36.0,19.0,19.0,22.0,20.0,24.0,19.0,21.0,20.0,18.0,23.0,22.0,18.0,37.0,18.0,18.0,18.0,18.0,18.0,18.0,19.0,55.0,32.0,50.0,40.0,47.0,20.0,22.0,21.0,21.0,19.0,21.0,21.0,23.0,21.0,21.0,23.0,20.0,21.0,20.0,19.0,21.0,26.0,21.0,19.0,22.0,19.0,22.0,20.0,23.0,19.0,20.0,24.0,19.0,20.0,23.0,20.0,20.0,20.0,20.0,21.0,19.0,20.0,20.0,25.0,20.0,22.0,20.0,20.0,20.0,23.0,21.0,22.0,21.0,20.0,22.0,21.0,20.0,20.0,21.0,21.0,23.0,21.0,22.0,19.0,20.0,21.0,26.0,19.0,20.0,26.0,23.0,28.0,19.0,20.0,19.0,24.0,19.0,22.0,20.0,21.0,24.0,18.0,19.0,19.0,31.0,19.0,21.0,20.0,26.0,27.0,23.0,29.0,23.0,23.0,24.0,21.0,20.0,20.0,32.0,61.0,19.0,35.0,34.0,23.0,19.0,36.0,21.0,23.0,17.0,22.0,33.0,23.0,35.0,21.0,20.0,29.0,59.0,18.0,19.0,24.0,36.0,19.0,17.0,52.0,18.0,30.0,18.0,27.0,52.0,45.0,25.0,29.0,29.0,18.0,18.0,17.0,27.0,22.0,23.0,25.0,23.0,29.0,27.0,27.0,43.0,26.0,30.0,23.0,29.0,37.0,28.0,25.0,25.0,21.0,43.0,30.0,18.0,18.0,30.0,31.0,33.0,33.0,26.0,61.0,46.0,33.0,38.0,44.0,48.0,42.0,37.0,23.0,24.0,41.0,41.0,27.0,46.0,40.0,22.0,42.0,18.0,44.0,30.0,42.0,35.0,40.0,50.0,38.0,26.0,27.0,47.0,21.0,37.0,19.0,32.0,26.0,46.0,29.0,30.0,32.0,35.0,22.0,19.0,24.0,52.0,52.0,32.0,24.0,24.0,49.0,30.0,30.0,35.0,35.0,37.0,43.0,52.0,44.0,46.0,42.0,20.0,18.0,38.0,24.0,32.0,29.0,22.0,19.0,39.0,17.0,19.0,18.0,19.0,28.0,29.0,48.0,27.0,34.0,31.0,47.0,47.0,44.0,25.0,25.0,20.0,43.0,36.0,30.0,44.0,40.0,40.0,40.0,30.0,47.0,21.0,21.0,31.0,21.0,29.0,22.0,51.0,23.0,30.0,22.0,22.0,24.0,26.0,33.0,23.0,42.0,26.0,29.0,35.0,25.0,25.0,28.0,33.0,25.0,25.0,24.0,27.0,22.0,21.0,27.0,23.0,22.0,23.0,30.0,33.0,24.0,22.0,22.0,29.0,22.0,21.0,23.0,23.0,23.0,32.0,27.0,28.0,25.0,22.0,36.0,27.0,21.0,18.0,49.0,18.0,29.0,31.0,37.0,17.0,17.0,38.0,18.0,31.0,33.0,32.0,30.0,33.0,30.0,30.0,38.0,22.0,36.0,43.0,44.0,20.0,40.0,25.0,28.0,17.0,34.0,56.0,50.0,38.0,47.0,30.0,21.0,21.0,31.0,27.0,24.0,35.0,18.0,43.0,44.0,40.0,49.0,24.0,30.0,53.0,38.0,28.0,28.0,26.0,39.0,31.0,24.0,28.0,31.0,27.0,28.0,31.0,46.0,27.0,25.0,34.0,24.0,35.0,26.0],\"xaxis\":\"x\",\"yaxis\":\"y\",\"type\":\"histogram\"},{\"alignmentgroup\":\"True\",\"hovertemplate\":\"variable=0<br>value=%{x}<extra></extra>\",\"legendgroup\":\"0\",\"marker\":{\"color\":\"#636efa\"},\"name\":\"0\",\"notched\":true,\"offsetgroup\":\"0\",\"showlegend\":false,\"x\":[26.0,24.0,27.0,35.0,40.0,36.0,17.0,64.0,29.0,17.0,33.0,18.0,17.0,17.0,17.0,18.0,31.0,30.0,35.0,34.0,38.0,27.0,27.0,42.0,43.0,24.0,40.0,40.0,48.0,31.0,18.0,37.0,55.0,18.0,18.0,55.0,50.0,34.0,53.0,35.0,20.0,28.0,34.0,36.0,27.0,53.0,24.0,24.0,55.0,30.0,21.0,35.0,27.0,21.0,47.0,30.0,28.0,43.0,32.0,44.0,20.0,20.0,null,19.0,29.0,21.0,27.0,21.0,35.0,42.0,29.0,58.0,21.0,21.0,37.0,21.0,20.0,33.0,20.0,45.0,32.0,30.0,33.0,42.0,17.0,27.0,35.0,37.0,30.0,29.0,17.0,null,22.0,19.0,42.0,37.0,28.0,22.0,26.0,21.0,26.0,39.0,26.0,26.0,21.0,25.0,26.0,30.0,19.0,19.0,25.0,23.0,31.0,27.0,29.0,38.0,23.0,27.0,27.0,42.0,20.0,17.0,20.0,30.0,28.0,26.0,26.0,31.0,40.0,39.0,18.0,24.0,23.0,24.0,24.0,27.0,24.0,25.0,22.0,40.0,23.0,29.0,25.0,27.0,22.0,28.0,20.0,19.0,37.0,35.0,26.0,23.0,32.0,30.0,31.0,28.0,29.0,29.0,29.0,31.0,36.0,32.0,34.0,24.0,24.0,42.0,26.0,27.0,36.0,36.0,55.0,23.0,22.0,42.0,54.0,43.0,43.0,29.0,29.0,37.0,39.0,18.0,31.0,34.0,22.0,28.0,38.0,28.0,53.0,26.0,37.0,42.0,43.0,32.0,31.0,53.0,28.0,38.0,31.0,31.0,21.0,25.0,25.0,60.0,39.0,53.0,20.0,25.0,50.0,28.0,37.0,30.0,32.0,34.0,42.0,22.0,37.0,39.0,18.0,54.0,42.0,27.0,22.0,22.0,21.0,28.0,17.0,28.0,21.0,31.0,20.0,21.0,22.0,21.0,24.0,24.0,25.0,17.0,21.0,23.0,21.0,22.0,24.0,34.0,30.0,29.0,20.0,23.0,26.0,20.0,41.0,24.0,35.0,23.0,36.0,33.0,24.0,25.0,25.0,25.0,24.0,27.0,26.0,26.0,23.0,30.0,25.0,23.0,34.0,20.0,22.0,33.0,46.0,17.0,45.0,26.0,30.0,32.0,38.0,26.0,29.0,33.0,32.0,44.0,47.0,32.0,40.0,40.0,44.0,56.0,23.0,32.0,27.0,28.0,40.0,45.0,19.0,55.0,27.0,19.0,29.0,33.0,48.0,37.0,30.0,37.0,28.0,20.0,25.0,58.0,36.0,36.0,19.0,19.0,22.0,20.0,24.0,19.0,21.0,20.0,18.0,23.0,22.0,18.0,37.0,18.0,18.0,18.0,18.0,18.0,18.0,19.0,55.0,32.0,50.0,40.0,47.0,20.0,22.0,21.0,21.0,19.0,21.0,21.0,23.0,21.0,21.0,23.0,20.0,21.0,20.0,19.0,21.0,26.0,21.0,19.0,22.0,19.0,22.0,20.0,23.0,19.0,20.0,24.0,19.0,20.0,23.0,20.0,20.0,20.0,20.0,21.0,19.0,20.0,20.0,25.0,20.0,22.0,20.0,20.0,20.0,23.0,21.0,22.0,21.0,20.0,22.0,21.0,20.0,20.0,21.0,21.0,23.0,21.0,22.0,19.0,20.0,21.0,26.0,19.0,20.0,26.0,23.0,28.0,19.0,20.0,19.0,24.0,19.0,22.0,20.0,21.0,24.0,18.0,19.0,19.0,31.0,19.0,21.0,20.0,26.0,27.0,23.0,29.0,23.0,23.0,24.0,21.0,20.0,20.0,32.0,61.0,19.0,35.0,34.0,23.0,19.0,36.0,21.0,23.0,17.0,22.0,33.0,23.0,35.0,21.0,20.0,29.0,59.0,18.0,19.0,24.0,36.0,19.0,17.0,52.0,18.0,30.0,18.0,27.0,52.0,45.0,25.0,29.0,29.0,18.0,18.0,17.0,27.0,22.0,23.0,25.0,23.0,29.0,27.0,27.0,43.0,26.0,30.0,23.0,29.0,37.0,28.0,25.0,25.0,21.0,43.0,30.0,18.0,18.0,30.0,31.0,33.0,33.0,26.0,61.0,46.0,33.0,38.0,44.0,48.0,42.0,37.0,23.0,24.0,41.0,41.0,27.0,46.0,40.0,22.0,42.0,18.0,44.0,30.0,42.0,35.0,40.0,50.0,38.0,26.0,27.0,47.0,21.0,37.0,19.0,32.0,26.0,46.0,29.0,30.0,32.0,35.0,22.0,19.0,24.0,52.0,52.0,32.0,24.0,24.0,49.0,30.0,30.0,35.0,35.0,37.0,43.0,52.0,44.0,46.0,42.0,20.0,18.0,38.0,24.0,32.0,29.0,22.0,19.0,39.0,17.0,19.0,18.0,19.0,28.0,29.0,48.0,27.0,34.0,31.0,47.0,47.0,44.0,25.0,25.0,20.0,43.0,36.0,30.0,44.0,40.0,40.0,40.0,30.0,47.0,21.0,21.0,31.0,21.0,29.0,22.0,51.0,23.0,30.0,22.0,22.0,24.0,26.0,33.0,23.0,42.0,26.0,29.0,35.0,25.0,25.0,28.0,33.0,25.0,25.0,24.0,27.0,22.0,21.0,27.0,23.0,22.0,23.0,30.0,33.0,24.0,22.0,22.0,29.0,22.0,21.0,23.0,23.0,23.0,32.0,27.0,28.0,25.0,22.0,36.0,27.0,21.0,18.0,49.0,18.0,29.0,31.0,37.0,17.0,17.0,38.0,18.0,31.0,33.0,32.0,30.0,33.0,30.0,30.0,38.0,22.0,36.0,43.0,44.0,20.0,40.0,25.0,28.0,17.0,34.0,56.0,50.0,38.0,47.0,30.0,21.0,21.0,31.0,27.0,24.0,35.0,18.0,43.0,44.0,40.0,49.0,24.0,30.0,53.0,38.0,28.0,28.0,26.0,39.0,31.0,24.0,28.0,31.0,27.0,28.0,31.0,46.0,27.0,25.0,34.0,24.0,35.0,26.0],\"xaxis\":\"x2\",\"yaxis\":\"y2\",\"type\":\"box\"}],                        {\"template\":{\"data\":{\"histogram2dcontour\":[{\"type\":\"histogram2dcontour\",\"colorbar\":{\"outlinewidth\":0,\"ticks\":\"\"},\"colorscale\":[[0.0,\"#0d0887\"],[0.1111111111111111,\"#46039f\"],[0.2222222222222222,\"#7201a8\"],[0.3333333333333333,\"#9c179e\"],[0.4444444444444444,\"#bd3786\"],[0.5555555555555556,\"#d8576b\"],[0.6666666666666666,\"#ed7953\"],[0.7777777777777778,\"#fb9f3a\"],[0.8888888888888888,\"#fdca26\"],[1.0,\"#f0f921\"]]}],\"choropleth\":[{\"type\":\"choropleth\",\"colorbar\":{\"outlinewidth\":0,\"ticks\":\"\"}}],\"histogram2d\":[{\"type\":\"histogram2d\",\"colorbar\":{\"outlinewidth\":0,\"ticks\":\"\"},\"colorscale\":[[0.0,\"#0d0887\"],[0.1111111111111111,\"#46039f\"],[0.2222222222222222,\"#7201a8\"],[0.3333333333333333,\"#9c179e\"],[0.4444444444444444,\"#bd3786\"],[0.5555555555555556,\"#d8576b\"],[0.6666666666666666,\"#ed7953\"],[0.7777777777777778,\"#fb9f3a\"],[0.8888888888888888,\"#fdca26\"],[1.0,\"#f0f921\"]]}],\"heatmap\":[{\"type\":\"heatmap\",\"colorbar\":{\"outlinewidth\":0,\"ticks\":\"\"},\"colorscale\":[[0.0,\"#0d0887\"],[0.1111111111111111,\"#46039f\"],[0.2222222222222222,\"#7201a8\"],[0.3333333333333333,\"#9c179e\"],[0.4444444444444444,\"#bd3786\"],[0.5555555555555556,\"#d8576b\"],[0.6666666666666666,\"#ed7953\"],[0.7777777777777778,\"#fb9f3a\"],[0.8888888888888888,\"#fdca26\"],[1.0,\"#f0f921\"]]}],\"heatmapgl\":[{\"type\":\"heatmapgl\",\"colorbar\":{\"outlinewidth\":0,\"ticks\":\"\"},\"colorscale\":[[0.0,\"#0d0887\"],[0.1111111111111111,\"#46039f\"],[0.2222222222222222,\"#7201a8\"],[0.3333333333333333,\"#9c179e\"],[0.4444444444444444,\"#bd3786\"],[0.5555555555555556,\"#d8576b\"],[0.6666666666666666,\"#ed7953\"],[0.7777777777777778,\"#fb9f3a\"],[0.8888888888888888,\"#fdca26\"],[1.0,\"#f0f921\"]]}],\"contourcarpet\":[{\"type\":\"contourcarpet\",\"colorbar\":{\"outlinewidth\":0,\"ticks\":\"\"}}],\"contour\":[{\"type\":\"contour\",\"colorbar\":{\"outlinewidth\":0,\"ticks\":\"\"},\"colorscale\":[[0.0,\"#0d0887\"],[0.1111111111111111,\"#46039f\"],[0.2222222222222222,\"#7201a8\"],[0.3333333333333333,\"#9c179e\"],[0.4444444444444444,\"#bd3786\"],[0.5555555555555556,\"#d8576b\"],[0.6666666666666666,\"#ed7953\"],[0.7777777777777778,\"#fb9f3a\"],[0.8888888888888888,\"#fdca26\"],[1.0,\"#f0f921\"]]}],\"surface\":[{\"type\":\"surface\",\"colorbar\":{\"outlinewidth\":0,\"ticks\":\"\"},\"colorscale\":[[0.0,\"#0d0887\"],[0.1111111111111111,\"#46039f\"],[0.2222222222222222,\"#7201a8\"],[0.3333333333333333,\"#9c179e\"],[0.4444444444444444,\"#bd3786\"],[0.5555555555555556,\"#d8576b\"],[0.6666666666666666,\"#ed7953\"],[0.7777777777777778,\"#fb9f3a\"],[0.8888888888888888,\"#fdca26\"],[1.0,\"#f0f921\"]]}],\"mesh3d\":[{\"type\":\"mesh3d\",\"colorbar\":{\"outlinewidth\":0,\"ticks\":\"\"}}],\"scatter\":[{\"fillpattern\":{\"fillmode\":\"overlay\",\"size\":10,\"solidity\":0.2},\"type\":\"scatter\"}],\"parcoords\":[{\"type\":\"parcoords\",\"line\":{\"colorbar\":{\"outlinewidth\":0,\"ticks\":\"\"}}}],\"scatterpolargl\":[{\"type\":\"scatterpolargl\",\"marker\":{\"colorbar\":{\"outlinewidth\":0,\"ticks\":\"\"}}}],\"bar\":[{\"error_x\":{\"color\":\"#2a3f5f\"},\"error_y\":{\"color\":\"#2a3f5f\"},\"marker\":{\"line\":{\"color\":\"#E5ECF6\",\"width\":0.5},\"pattern\":{\"fillmode\":\"overlay\",\"size\":10,\"solidity\":0.2}},\"type\":\"bar\"}],\"scattergeo\":[{\"type\":\"scattergeo\",\"marker\":{\"colorbar\":{\"outlinewidth\":0,\"ticks\":\"\"}}}],\"scatterpolar\":[{\"type\":\"scatterpolar\",\"marker\":{\"colorbar\":{\"outlinewidth\":0,\"ticks\":\"\"}}}],\"histogram\":[{\"marker\":{\"pattern\":{\"fillmode\":\"overlay\",\"size\":10,\"solidity\":0.2}},\"type\":\"histogram\"}],\"scattergl\":[{\"type\":\"scattergl\",\"marker\":{\"colorbar\":{\"outlinewidth\":0,\"ticks\":\"\"}}}],\"scatter3d\":[{\"type\":\"scatter3d\",\"line\":{\"colorbar\":{\"outlinewidth\":0,\"ticks\":\"\"}},\"marker\":{\"colorbar\":{\"outlinewidth\":0,\"ticks\":\"\"}}}],\"scattermapbox\":[{\"type\":\"scattermapbox\",\"marker\":{\"colorbar\":{\"outlinewidth\":0,\"ticks\":\"\"}}}],\"scatterternary\":[{\"type\":\"scatterternary\",\"marker\":{\"colorbar\":{\"outlinewidth\":0,\"ticks\":\"\"}}}],\"scattercarpet\":[{\"type\":\"scattercarpet\",\"marker\":{\"colorbar\":{\"outlinewidth\":0,\"ticks\":\"\"}}}],\"carpet\":[{\"aaxis\":{\"endlinecolor\":\"#2a3f5f\",\"gridcolor\":\"white\",\"linecolor\":\"white\",\"minorgridcolor\":\"white\",\"startlinecolor\":\"#2a3f5f\"},\"baxis\":{\"endlinecolor\":\"#2a3f5f\",\"gridcolor\":\"white\",\"linecolor\":\"white\",\"minorgridcolor\":\"white\",\"startlinecolor\":\"#2a3f5f\"},\"type\":\"carpet\"}],\"table\":[{\"cells\":{\"fill\":{\"color\":\"#EBF0F8\"},\"line\":{\"color\":\"white\"}},\"header\":{\"fill\":{\"color\":\"#C8D4E3\"},\"line\":{\"color\":\"white\"}},\"type\":\"table\"}],\"barpolar\":[{\"marker\":{\"line\":{\"color\":\"#E5ECF6\",\"width\":0.5},\"pattern\":{\"fillmode\":\"overlay\",\"size\":10,\"solidity\":0.2}},\"type\":\"barpolar\"}],\"pie\":[{\"automargin\":true,\"type\":\"pie\"}]},\"layout\":{\"autotypenumbers\":\"strict\",\"colorway\":[\"#636efa\",\"#EF553B\",\"#00cc96\",\"#ab63fa\",\"#FFA15A\",\"#19d3f3\",\"#FF6692\",\"#B6E880\",\"#FF97FF\",\"#FECB52\"],\"font\":{\"color\":\"#2a3f5f\"},\"hovermode\":\"closest\",\"hoverlabel\":{\"align\":\"left\"},\"paper_bgcolor\":\"white\",\"plot_bgcolor\":\"#E5ECF6\",\"polar\":{\"bgcolor\":\"#E5ECF6\",\"angularaxis\":{\"gridcolor\":\"white\",\"linecolor\":\"white\",\"ticks\":\"\"},\"radialaxis\":{\"gridcolor\":\"white\",\"linecolor\":\"white\",\"ticks\":\"\"}},\"ternary\":{\"bgcolor\":\"#E5ECF6\",\"aaxis\":{\"gridcolor\":\"white\",\"linecolor\":\"white\",\"ticks\":\"\"},\"baxis\":{\"gridcolor\":\"white\",\"linecolor\":\"white\",\"ticks\":\"\"},\"caxis\":{\"gridcolor\":\"white\",\"linecolor\":\"white\",\"ticks\":\"\"}},\"coloraxis\":{\"colorbar\":{\"outlinewidth\":0,\"ticks\":\"\"}},\"colorscale\":{\"sequential\":[[0.0,\"#0d0887\"],[0.1111111111111111,\"#46039f\"],[0.2222222222222222,\"#7201a8\"],[0.3333333333333333,\"#9c179e\"],[0.4444444444444444,\"#bd3786\"],[0.5555555555555556,\"#d8576b\"],[0.6666666666666666,\"#ed7953\"],[0.7777777777777778,\"#fb9f3a\"],[0.8888888888888888,\"#fdca26\"],[1.0,\"#f0f921\"]],\"sequentialminus\":[[0.0,\"#0d0887\"],[0.1111111111111111,\"#46039f\"],[0.2222222222222222,\"#7201a8\"],[0.3333333333333333,\"#9c179e\"],[0.4444444444444444,\"#bd3786\"],[0.5555555555555556,\"#d8576b\"],[0.6666666666666666,\"#ed7953\"],[0.7777777777777778,\"#fb9f3a\"],[0.8888888888888888,\"#fdca26\"],[1.0,\"#f0f921\"]],\"diverging\":[[0,\"#8e0152\"],[0.1,\"#c51b7d\"],[0.2,\"#de77ae\"],[0.3,\"#f1b6da\"],[0.4,\"#fde0ef\"],[0.5,\"#f7f7f7\"],[0.6,\"#e6f5d0\"],[0.7,\"#b8e186\"],[0.8,\"#7fbc41\"],[0.9,\"#4d9221\"],[1,\"#276419\"]]},\"xaxis\":{\"gridcolor\":\"white\",\"linecolor\":\"white\",\"ticks\":\"\",\"title\":{\"standoff\":15},\"zerolinecolor\":\"white\",\"automargin\":true,\"zerolinewidth\":2},\"yaxis\":{\"gridcolor\":\"white\",\"linecolor\":\"white\",\"ticks\":\"\",\"title\":{\"standoff\":15},\"zerolinecolor\":\"white\",\"automargin\":true,\"zerolinewidth\":2},\"scene\":{\"xaxis\":{\"backgroundcolor\":\"#E5ECF6\",\"gridcolor\":\"white\",\"linecolor\":\"white\",\"showbackground\":true,\"ticks\":\"\",\"zerolinecolor\":\"white\",\"gridwidth\":2},\"yaxis\":{\"backgroundcolor\":\"#E5ECF6\",\"gridcolor\":\"white\",\"linecolor\":\"white\",\"showbackground\":true,\"ticks\":\"\",\"zerolinecolor\":\"white\",\"gridwidth\":2},\"zaxis\":{\"backgroundcolor\":\"#E5ECF6\",\"gridcolor\":\"white\",\"linecolor\":\"white\",\"showbackground\":true,\"ticks\":\"\",\"zerolinecolor\":\"white\",\"gridwidth\":2}},\"shapedefaults\":{\"line\":{\"color\":\"#2a3f5f\"}},\"annotationdefaults\":{\"arrowcolor\":\"#2a3f5f\",\"arrowhead\":0,\"arrowwidth\":1},\"geo\":{\"bgcolor\":\"white\",\"landcolor\":\"#E5ECF6\",\"subunitcolor\":\"white\",\"showland\":true,\"showlakes\":true,\"lakecolor\":\"white\"},\"title\":{\"x\":0.05},\"mapbox\":{\"style\":\"light\"}}},\"xaxis\":{\"anchor\":\"y\",\"domain\":[0.0,1.0],\"title\":{\"text\":\"value\"}},\"yaxis\":{\"anchor\":\"x\",\"domain\":[0.0,0.7326],\"title\":{\"text\":\"count\"}},\"xaxis2\":{\"anchor\":\"y2\",\"domain\":[0.0,1.0],\"matches\":\"x\",\"showticklabels\":false,\"showgrid\":true},\"yaxis2\":{\"anchor\":\"x2\",\"domain\":[0.7426,1.0],\"matches\":\"y2\",\"showticklabels\":false,\"showline\":false,\"ticks\":\"\",\"showgrid\":false},\"legend\":{\"title\":{\"text\":\"variable\"},\"tracegroupgap\":0},\"margin\":{\"t\":60},\"barmode\":\"relative\"},                        {\"responsive\": true}                    ).then(function(){\n",
       "                            \n",
       "var gd = document.getElementById('21468248-acd4-4e58-8ad4-f65fcc2a1169');\n",
       "var x = new MutationObserver(function (mutations, observer) {{\n",
       "        var display = window.getComputedStyle(gd).display;\n",
       "        if (!display || display === 'none') {{\n",
       "            console.log([gd, 'removed!']);\n",
       "            Plotly.purge(gd);\n",
       "            observer.disconnect();\n",
       "        }}\n",
       "}});\n",
       "\n",
       "// Listen for the removal of the full notebook cells\n",
       "var notebookContainer = gd.closest('#notebook-container');\n",
       "if (notebookContainer) {{\n",
       "    x.observe(notebookContainer, {childList: true});\n",
       "}}\n",
       "\n",
       "// Listen for the clearing of the current output cell\n",
       "var outputEl = gd.closest('.output');\n",
       "if (outputEl) {{\n",
       "    x.observe(outputEl, {childList: true});\n",
       "}}\n",
       "\n",
       "                        })                };                });            </script>        </div>"
      ]
     },
     "metadata": {},
     "output_type": "display_data"
    }
   ],
   "source": [
    "px.histogram(lst, marginal='box')"
   ]
  },
  {
   "cell_type": "code",
   "execution_count": 16,
   "id": "1367e12e",
   "metadata": {},
   "outputs": [
    {
     "data": {
      "application/vnd.plotly.v1+json": {
       "config": {
        "plotlyServerURL": "https://plot.ly"
       },
       "data": [
        {
         "boxmean": true,
         "boxpoints": "all",
         "name": "",
         "notched": true,
         "type": "box",
         "xaxis": "x",
         "y": [
          6,
          5,
          8,
          6,
          2,
          9,
          2,
          5,
          6,
          8,
          10,
          6,
          6,
          4,
          4,
          6,
          5,
          2,
          3,
          3,
          3,
          0,
          5,
          2,
          5,
          3,
          1,
          1,
          1,
          4,
          0,
          7,
          4,
          10,
          10,
          1,
          6,
          6,
          7,
          8,
          7,
          2,
          3,
          4,
          8,
          7,
          5,
          4,
          3,
          6,
          3,
          10,
          1,
          8,
          10,
          9,
          8,
          9,
          3,
          5,
          8,
          7,
          0,
          5,
          9,
          3,
          2,
          6,
          4,
          1,
          5,
          3,
          6,
          6,
          6,
          7,
          3,
          8,
          4,
          2,
          5,
          3,
          10,
          4,
          2,
          3,
          8,
          1,
          4,
          9,
          4,
          4,
          5,
          8,
          8,
          4,
          4,
          4,
          3,
          1,
          3,
          2,
          3,
          5,
          4,
          0,
          6,
          7,
          5,
          3,
          9,
          6,
          3,
          4,
          8,
          7,
          8,
          6,
          9,
          7,
          9,
          9,
          1,
          7,
          9,
          7,
          0,
          6,
          5,
          4,
          3,
          3,
          3,
          5,
          5,
          6,
          5,
          2,
          3,
          2,
          4,
          2,
          3,
          4,
          1,
          8,
          9,
          10,
          7,
          8,
          2,
          7,
          4,
          5,
          4,
          3,
          4,
          4,
          4,
          3,
          0,
          2,
          1,
          3,
          6,
          5,
          4,
          4,
          6,
          8,
          6,
          4,
          4,
          2,
          3,
          6,
          9,
          6,
          5,
          4,
          4,
          5,
          6,
          4,
          5,
          7,
          4,
          4,
          8,
          5,
          9,
          5,
          3,
          2,
          3,
          9,
          10,
          9,
          7,
          4,
          9,
          6,
          7,
          9,
          3,
          10,
          10,
          7,
          6,
          8,
          9,
          5,
          6,
          4,
          5,
          8,
          4,
          4,
          7,
          2,
          3,
          1,
          6,
          8,
          9,
          4,
          9,
          1,
          5,
          10,
          3,
          2,
          3,
          4,
          2,
          2,
          6,
          2,
          3,
          2,
          5,
          6,
          4,
          5,
          6,
          4,
          5,
          6,
          2,
          8,
          3,
          4,
          2,
          2,
          3,
          4,
          5,
          4,
          5,
          5,
          3,
          5,
          3,
          0,
          4,
          7,
          3,
          3,
          5,
          6,
          7,
          7,
          10,
          2,
          4,
          4,
          3,
          2,
          9,
          3,
          1,
          8,
          7,
          10,
          3,
          6,
          0,
          5,
          0,
          8,
          8,
          7,
          5,
          4,
          0,
          7,
          8,
          8,
          5,
          9,
          3,
          10,
          6,
          2,
          6,
          4,
          7,
          8,
          8,
          7,
          2,
          4,
          7,
          7,
          5,
          3,
          4,
          4,
          6,
          0,
          2,
          4,
          8,
          4,
          2,
          5,
          5,
          2,
          4,
          3,
          4,
          10,
          7,
          5,
          5,
          6,
          4,
          3,
          4,
          2,
          6,
          6,
          3,
          2,
          5,
          1,
          5,
          1,
          8,
          5,
          8,
          4,
          2,
          3,
          2,
          2,
          4,
          2,
          4,
          2,
          4,
          2,
          3,
          2,
          4,
          4,
          5,
          4,
          5,
          2,
          3,
          5,
          2,
          3,
          5,
          3,
          2,
          5,
          2,
          3,
          2,
          2,
          8,
          4,
          3,
          3,
          2,
          6,
          4,
          2,
          3,
          6,
          4,
          3,
          5,
          5,
          4,
          3,
          3,
          1,
          5,
          3,
          4,
          4,
          3,
          3,
          5,
          8,
          5,
          2,
          4,
          3,
          4,
          4,
          7,
          2,
          4,
          5,
          4,
          4,
          6,
          1,
          4,
          2,
          5,
          4,
          8,
          4,
          2,
          6,
          9,
          10,
          3,
          8,
          3,
          2,
          5,
          6,
          4,
          2,
          6,
          2,
          6,
          7,
          7,
          3,
          7,
          2,
          9,
          5,
          3,
          3,
          7,
          4,
          3,
          3,
          4,
          1,
          8,
          6,
          1,
          1,
          6,
          3,
          8,
          3,
          7,
          5,
          10,
          1,
          3,
          7,
          4,
          3,
          4,
          3,
          0,
          2,
          4,
          1,
          4,
          2,
          2,
          6,
          5,
          3,
          9,
          7,
          4,
          5,
          7,
          0,
          5,
          10,
          6,
          3,
          3,
          8,
          8,
          3,
          5,
          8,
          4,
          6,
          8,
          6,
          4,
          4,
          10,
          2,
          8,
          9,
          4,
          3,
          9,
          9,
          4,
          7,
          3,
          3,
          8,
          7,
          7,
          6,
          8,
          4,
          4,
          3,
          10,
          2,
          2,
          4,
          4,
          9,
          4,
          3,
          2,
          5,
          4,
          6,
          9,
          1,
          9,
          9,
          9,
          7,
          4,
          5,
          6,
          10,
          2,
          3,
          1,
          7,
          9,
          4,
          3,
          4,
          9,
          6,
          9,
          8,
          6,
          4,
          4,
          2,
          4,
          4,
          9,
          3,
          4,
          3,
          3,
          10,
          4,
          4,
          8,
          9,
          8,
          3,
          2,
          4,
          6,
          7,
          7,
          5,
          10,
          9,
          9,
          3,
          5,
          6,
          10,
          1,
          4,
          3,
          4,
          5,
          3,
          6,
          3,
          3,
          2,
          2,
          3,
          4,
          3,
          1,
          1,
          4,
          5,
          4,
          5,
          1,
          5,
          6,
          3,
          4,
          2,
          4,
          4,
          7,
          4,
          7,
          3,
          6,
          3,
          3,
          5,
          6,
          6,
          2,
          2,
          6,
          7,
          4,
          0,
          10,
          5,
          7,
          4,
          7,
          2,
          1,
          6,
          7,
          4,
          5,
          4,
          3,
          2,
          3,
          1,
          10,
          9,
          5,
          5,
          5,
          3,
          8,
          8,
          9,
          5,
          4,
          3,
          9,
          1,
          3,
          4,
          10,
          9,
          7,
          8,
          8,
          6,
          5,
          4,
          3,
          8,
          10,
          10,
          9,
          3,
          4,
          4,
          7,
          5,
          9,
          8,
          7,
          1,
          4,
          8,
          4,
          7,
          5,
          9,
          6,
          10,
          7,
          3,
          7,
          6,
          8
         ],
         "yaxis": "y"
        }
       ],
       "layout": {
        "template": {
         "data": {
          "bar": [
           {
            "error_x": {
             "color": "#2a3f5f"
            },
            "error_y": {
             "color": "#2a3f5f"
            },
            "marker": {
             "line": {
              "color": "#E5ECF6",
              "width": 0.5
             },
             "pattern": {
              "fillmode": "overlay",
              "size": 10,
              "solidity": 0.2
             }
            },
            "type": "bar"
           }
          ],
          "barpolar": [
           {
            "marker": {
             "line": {
              "color": "#E5ECF6",
              "width": 0.5
             },
             "pattern": {
              "fillmode": "overlay",
              "size": 10,
              "solidity": 0.2
             }
            },
            "type": "barpolar"
           }
          ],
          "carpet": [
           {
            "aaxis": {
             "endlinecolor": "#2a3f5f",
             "gridcolor": "white",
             "linecolor": "white",
             "minorgridcolor": "white",
             "startlinecolor": "#2a3f5f"
            },
            "baxis": {
             "endlinecolor": "#2a3f5f",
             "gridcolor": "white",
             "linecolor": "white",
             "minorgridcolor": "white",
             "startlinecolor": "#2a3f5f"
            },
            "type": "carpet"
           }
          ],
          "choropleth": [
           {
            "colorbar": {
             "outlinewidth": 0,
             "ticks": ""
            },
            "type": "choropleth"
           }
          ],
          "contour": [
           {
            "colorbar": {
             "outlinewidth": 0,
             "ticks": ""
            },
            "colorscale": [
             [
              0,
              "#0d0887"
             ],
             [
              0.1111111111111111,
              "#46039f"
             ],
             [
              0.2222222222222222,
              "#7201a8"
             ],
             [
              0.3333333333333333,
              "#9c179e"
             ],
             [
              0.4444444444444444,
              "#bd3786"
             ],
             [
              0.5555555555555556,
              "#d8576b"
             ],
             [
              0.6666666666666666,
              "#ed7953"
             ],
             [
              0.7777777777777778,
              "#fb9f3a"
             ],
             [
              0.8888888888888888,
              "#fdca26"
             ],
             [
              1,
              "#f0f921"
             ]
            ],
            "type": "contour"
           }
          ],
          "contourcarpet": [
           {
            "colorbar": {
             "outlinewidth": 0,
             "ticks": ""
            },
            "type": "contourcarpet"
           }
          ],
          "heatmap": [
           {
            "colorbar": {
             "outlinewidth": 0,
             "ticks": ""
            },
            "colorscale": [
             [
              0,
              "#0d0887"
             ],
             [
              0.1111111111111111,
              "#46039f"
             ],
             [
              0.2222222222222222,
              "#7201a8"
             ],
             [
              0.3333333333333333,
              "#9c179e"
             ],
             [
              0.4444444444444444,
              "#bd3786"
             ],
             [
              0.5555555555555556,
              "#d8576b"
             ],
             [
              0.6666666666666666,
              "#ed7953"
             ],
             [
              0.7777777777777778,
              "#fb9f3a"
             ],
             [
              0.8888888888888888,
              "#fdca26"
             ],
             [
              1,
              "#f0f921"
             ]
            ],
            "type": "heatmap"
           }
          ],
          "heatmapgl": [
           {
            "colorbar": {
             "outlinewidth": 0,
             "ticks": ""
            },
            "colorscale": [
             [
              0,
              "#0d0887"
             ],
             [
              0.1111111111111111,
              "#46039f"
             ],
             [
              0.2222222222222222,
              "#7201a8"
             ],
             [
              0.3333333333333333,
              "#9c179e"
             ],
             [
              0.4444444444444444,
              "#bd3786"
             ],
             [
              0.5555555555555556,
              "#d8576b"
             ],
             [
              0.6666666666666666,
              "#ed7953"
             ],
             [
              0.7777777777777778,
              "#fb9f3a"
             ],
             [
              0.8888888888888888,
              "#fdca26"
             ],
             [
              1,
              "#f0f921"
             ]
            ],
            "type": "heatmapgl"
           }
          ],
          "histogram": [
           {
            "marker": {
             "pattern": {
              "fillmode": "overlay",
              "size": 10,
              "solidity": 0.2
             }
            },
            "type": "histogram"
           }
          ],
          "histogram2d": [
           {
            "colorbar": {
             "outlinewidth": 0,
             "ticks": ""
            },
            "colorscale": [
             [
              0,
              "#0d0887"
             ],
             [
              0.1111111111111111,
              "#46039f"
             ],
             [
              0.2222222222222222,
              "#7201a8"
             ],
             [
              0.3333333333333333,
              "#9c179e"
             ],
             [
              0.4444444444444444,
              "#bd3786"
             ],
             [
              0.5555555555555556,
              "#d8576b"
             ],
             [
              0.6666666666666666,
              "#ed7953"
             ],
             [
              0.7777777777777778,
              "#fb9f3a"
             ],
             [
              0.8888888888888888,
              "#fdca26"
             ],
             [
              1,
              "#f0f921"
             ]
            ],
            "type": "histogram2d"
           }
          ],
          "histogram2dcontour": [
           {
            "colorbar": {
             "outlinewidth": 0,
             "ticks": ""
            },
            "colorscale": [
             [
              0,
              "#0d0887"
             ],
             [
              0.1111111111111111,
              "#46039f"
             ],
             [
              0.2222222222222222,
              "#7201a8"
             ],
             [
              0.3333333333333333,
              "#9c179e"
             ],
             [
              0.4444444444444444,
              "#bd3786"
             ],
             [
              0.5555555555555556,
              "#d8576b"
             ],
             [
              0.6666666666666666,
              "#ed7953"
             ],
             [
              0.7777777777777778,
              "#fb9f3a"
             ],
             [
              0.8888888888888888,
              "#fdca26"
             ],
             [
              1,
              "#f0f921"
             ]
            ],
            "type": "histogram2dcontour"
           }
          ],
          "mesh3d": [
           {
            "colorbar": {
             "outlinewidth": 0,
             "ticks": ""
            },
            "type": "mesh3d"
           }
          ],
          "parcoords": [
           {
            "line": {
             "colorbar": {
              "outlinewidth": 0,
              "ticks": ""
             }
            },
            "type": "parcoords"
           }
          ],
          "pie": [
           {
            "automargin": true,
            "type": "pie"
           }
          ],
          "scatter": [
           {
            "fillpattern": {
             "fillmode": "overlay",
             "size": 10,
             "solidity": 0.2
            },
            "type": "scatter"
           }
          ],
          "scatter3d": [
           {
            "line": {
             "colorbar": {
              "outlinewidth": 0,
              "ticks": ""
             }
            },
            "marker": {
             "colorbar": {
              "outlinewidth": 0,
              "ticks": ""
             }
            },
            "type": "scatter3d"
           }
          ],
          "scattercarpet": [
           {
            "marker": {
             "colorbar": {
              "outlinewidth": 0,
              "ticks": ""
             }
            },
            "type": "scattercarpet"
           }
          ],
          "scattergeo": [
           {
            "marker": {
             "colorbar": {
              "outlinewidth": 0,
              "ticks": ""
             }
            },
            "type": "scattergeo"
           }
          ],
          "scattergl": [
           {
            "marker": {
             "colorbar": {
              "outlinewidth": 0,
              "ticks": ""
             }
            },
            "type": "scattergl"
           }
          ],
          "scattermapbox": [
           {
            "marker": {
             "colorbar": {
              "outlinewidth": 0,
              "ticks": ""
             }
            },
            "type": "scattermapbox"
           }
          ],
          "scatterpolar": [
           {
            "marker": {
             "colorbar": {
              "outlinewidth": 0,
              "ticks": ""
             }
            },
            "type": "scatterpolar"
           }
          ],
          "scatterpolargl": [
           {
            "marker": {
             "colorbar": {
              "outlinewidth": 0,
              "ticks": ""
             }
            },
            "type": "scatterpolargl"
           }
          ],
          "scatterternary": [
           {
            "marker": {
             "colorbar": {
              "outlinewidth": 0,
              "ticks": ""
             }
            },
            "type": "scatterternary"
           }
          ],
          "surface": [
           {
            "colorbar": {
             "outlinewidth": 0,
             "ticks": ""
            },
            "colorscale": [
             [
              0,
              "#0d0887"
             ],
             [
              0.1111111111111111,
              "#46039f"
             ],
             [
              0.2222222222222222,
              "#7201a8"
             ],
             [
              0.3333333333333333,
              "#9c179e"
             ],
             [
              0.4444444444444444,
              "#bd3786"
             ],
             [
              0.5555555555555556,
              "#d8576b"
             ],
             [
              0.6666666666666666,
              "#ed7953"
             ],
             [
              0.7777777777777778,
              "#fb9f3a"
             ],
             [
              0.8888888888888888,
              "#fdca26"
             ],
             [
              1,
              "#f0f921"
             ]
            ],
            "type": "surface"
           }
          ],
          "table": [
           {
            "cells": {
             "fill": {
              "color": "#EBF0F8"
             },
             "line": {
              "color": "white"
             }
            },
            "header": {
             "fill": {
              "color": "#C8D4E3"
             },
             "line": {
              "color": "white"
             }
            },
            "type": "table"
           }
          ]
         },
         "layout": {
          "annotationdefaults": {
           "arrowcolor": "#2a3f5f",
           "arrowhead": 0,
           "arrowwidth": 1
          },
          "autotypenumbers": "strict",
          "coloraxis": {
           "colorbar": {
            "outlinewidth": 0,
            "ticks": ""
           }
          },
          "colorscale": {
           "diverging": [
            [
             0,
             "#8e0152"
            ],
            [
             0.1,
             "#c51b7d"
            ],
            [
             0.2,
             "#de77ae"
            ],
            [
             0.3,
             "#f1b6da"
            ],
            [
             0.4,
             "#fde0ef"
            ],
            [
             0.5,
             "#f7f7f7"
            ],
            [
             0.6,
             "#e6f5d0"
            ],
            [
             0.7,
             "#b8e186"
            ],
            [
             0.8,
             "#7fbc41"
            ],
            [
             0.9,
             "#4d9221"
            ],
            [
             1,
             "#276419"
            ]
           ],
           "sequential": [
            [
             0,
             "#0d0887"
            ],
            [
             0.1111111111111111,
             "#46039f"
            ],
            [
             0.2222222222222222,
             "#7201a8"
            ],
            [
             0.3333333333333333,
             "#9c179e"
            ],
            [
             0.4444444444444444,
             "#bd3786"
            ],
            [
             0.5555555555555556,
             "#d8576b"
            ],
            [
             0.6666666666666666,
             "#ed7953"
            ],
            [
             0.7777777777777778,
             "#fb9f3a"
            ],
            [
             0.8888888888888888,
             "#fdca26"
            ],
            [
             1,
             "#f0f921"
            ]
           ],
           "sequentialminus": [
            [
             0,
             "#0d0887"
            ],
            [
             0.1111111111111111,
             "#46039f"
            ],
            [
             0.2222222222222222,
             "#7201a8"
            ],
            [
             0.3333333333333333,
             "#9c179e"
            ],
            [
             0.4444444444444444,
             "#bd3786"
            ],
            [
             0.5555555555555556,
             "#d8576b"
            ],
            [
             0.6666666666666666,
             "#ed7953"
            ],
            [
             0.7777777777777778,
             "#fb9f3a"
            ],
            [
             0.8888888888888888,
             "#fdca26"
            ],
            [
             1,
             "#f0f921"
            ]
           ]
          },
          "colorway": [
           "#636efa",
           "#EF553B",
           "#00cc96",
           "#ab63fa",
           "#FFA15A",
           "#19d3f3",
           "#FF6692",
           "#B6E880",
           "#FF97FF",
           "#FECB52"
          ],
          "font": {
           "color": "#2a3f5f"
          },
          "geo": {
           "bgcolor": "white",
           "lakecolor": "white",
           "landcolor": "#E5ECF6",
           "showlakes": true,
           "showland": true,
           "subunitcolor": "white"
          },
          "hoverlabel": {
           "align": "left"
          },
          "hovermode": "closest",
          "mapbox": {
           "style": "light"
          },
          "paper_bgcolor": "white",
          "plot_bgcolor": "#E5ECF6",
          "polar": {
           "angularaxis": {
            "gridcolor": "white",
            "linecolor": "white",
            "ticks": ""
           },
           "bgcolor": "#E5ECF6",
           "radialaxis": {
            "gridcolor": "white",
            "linecolor": "white",
            "ticks": ""
           }
          },
          "scene": {
           "xaxis": {
            "backgroundcolor": "#E5ECF6",
            "gridcolor": "white",
            "gridwidth": 2,
            "linecolor": "white",
            "showbackground": true,
            "ticks": "",
            "zerolinecolor": "white"
           },
           "yaxis": {
            "backgroundcolor": "#E5ECF6",
            "gridcolor": "white",
            "gridwidth": 2,
            "linecolor": "white",
            "showbackground": true,
            "ticks": "",
            "zerolinecolor": "white"
           },
           "zaxis": {
            "backgroundcolor": "#E5ECF6",
            "gridcolor": "white",
            "gridwidth": 2,
            "linecolor": "white",
            "showbackground": true,
            "ticks": "",
            "zerolinecolor": "white"
           }
          },
          "shapedefaults": {
           "line": {
            "color": "#2a3f5f"
           }
          },
          "ternary": {
           "aaxis": {
            "gridcolor": "white",
            "linecolor": "white",
            "ticks": ""
           },
           "baxis": {
            "gridcolor": "white",
            "linecolor": "white",
            "ticks": ""
           },
           "bgcolor": "#E5ECF6",
           "caxis": {
            "gridcolor": "white",
            "linecolor": "white",
            "ticks": ""
           }
          },
          "title": {
           "x": 0.05
          },
          "xaxis": {
           "automargin": true,
           "gridcolor": "white",
           "linecolor": "white",
           "ticks": "",
           "title": {
            "standoff": 15
           },
           "zerolinecolor": "white",
           "zerolinewidth": 2
          },
          "yaxis": {
           "automargin": true,
           "gridcolor": "white",
           "linecolor": "white",
           "ticks": "",
           "title": {
            "standoff": 15
           },
           "zerolinecolor": "white",
           "zerolinewidth": 2
          }
         }
        },
        "xaxis": {
         "anchor": "y",
         "domain": [
          0,
          1
         ]
        },
        "yaxis": {
         "anchor": "x",
         "domain": [
          0,
          1
         ]
        }
       }
      },
      "text/html": [
       "<div>                            <div id=\"e8c533e3-d1dc-40ba-9a3e-8b824fd6a396\" class=\"plotly-graph-div\" style=\"height:525px; width:100%;\"></div>            <script type=\"text/javascript\">                require([\"plotly\"], function(Plotly) {                    window.PLOTLYENV=window.PLOTLYENV || {};                                    if (document.getElementById(\"e8c533e3-d1dc-40ba-9a3e-8b824fd6a396\")) {                    Plotly.newPlot(                        \"e8c533e3-d1dc-40ba-9a3e-8b824fd6a396\",                        [{\"boxmean\":true,\"boxpoints\":\"all\",\"name\":\"\",\"notched\":true,\"y\":[6,5,8,6,2,9,2,5,6,8,10,6,6,4,4,6,5,2,3,3,3,0,5,2,5,3,1,1,1,4,0,7,4,10,10,1,6,6,7,8,7,2,3,4,8,7,5,4,3,6,3,10,1,8,10,9,8,9,3,5,8,7,0,5,9,3,2,6,4,1,5,3,6,6,6,7,3,8,4,2,5,3,10,4,2,3,8,1,4,9,4,4,5,8,8,4,4,4,3,1,3,2,3,5,4,0,6,7,5,3,9,6,3,4,8,7,8,6,9,7,9,9,1,7,9,7,0,6,5,4,3,3,3,5,5,6,5,2,3,2,4,2,3,4,1,8,9,10,7,8,2,7,4,5,4,3,4,4,4,3,0,2,1,3,6,5,4,4,6,8,6,4,4,2,3,6,9,6,5,4,4,5,6,4,5,7,4,4,8,5,9,5,3,2,3,9,10,9,7,4,9,6,7,9,3,10,10,7,6,8,9,5,6,4,5,8,4,4,7,2,3,1,6,8,9,4,9,1,5,10,3,2,3,4,2,2,6,2,3,2,5,6,4,5,6,4,5,6,2,8,3,4,2,2,3,4,5,4,5,5,3,5,3,0,4,7,3,3,5,6,7,7,10,2,4,4,3,2,9,3,1,8,7,10,3,6,0,5,0,8,8,7,5,4,0,7,8,8,5,9,3,10,6,2,6,4,7,8,8,7,2,4,7,7,5,3,4,4,6,0,2,4,8,4,2,5,5,2,4,3,4,10,7,5,5,6,4,3,4,2,6,6,3,2,5,1,5,1,8,5,8,4,2,3,2,2,4,2,4,2,4,2,3,2,4,4,5,4,5,2,3,5,2,3,5,3,2,5,2,3,2,2,8,4,3,3,2,6,4,2,3,6,4,3,5,5,4,3,3,1,5,3,4,4,3,3,5,8,5,2,4,3,4,4,7,2,4,5,4,4,6,1,4,2,5,4,8,4,2,6,9,10,3,8,3,2,5,6,4,2,6,2,6,7,7,3,7,2,9,5,3,3,7,4,3,3,4,1,8,6,1,1,6,3,8,3,7,5,10,1,3,7,4,3,4,3,0,2,4,1,4,2,2,6,5,3,9,7,4,5,7,0,5,10,6,3,3,8,8,3,5,8,4,6,8,6,4,4,10,2,8,9,4,3,9,9,4,7,3,3,8,7,7,6,8,4,4,3,10,2,2,4,4,9,4,3,2,5,4,6,9,1,9,9,9,7,4,5,6,10,2,3,1,7,9,4,3,4,9,6,9,8,6,4,4,2,4,4,9,3,4,3,3,10,4,4,8,9,8,3,2,4,6,7,7,5,10,9,9,3,5,6,10,1,4,3,4,5,3,6,3,3,2,2,3,4,3,1,1,4,5,4,5,1,5,6,3,4,2,4,4,7,4,7,3,6,3,3,5,6,6,2,2,6,7,4,0,10,5,7,4,7,2,1,6,7,4,5,4,3,2,3,1,10,9,5,5,5,3,8,8,9,5,4,3,9,1,3,4,10,9,7,8,8,6,5,4,3,8,10,10,9,3,4,4,7,5,9,8,7,1,4,8,4,7,5,9,6,10,7,3,7,6,8],\"type\":\"box\",\"xaxis\":\"x\",\"yaxis\":\"y\"}],                        {\"template\":{\"data\":{\"histogram2dcontour\":[{\"type\":\"histogram2dcontour\",\"colorbar\":{\"outlinewidth\":0,\"ticks\":\"\"},\"colorscale\":[[0.0,\"#0d0887\"],[0.1111111111111111,\"#46039f\"],[0.2222222222222222,\"#7201a8\"],[0.3333333333333333,\"#9c179e\"],[0.4444444444444444,\"#bd3786\"],[0.5555555555555556,\"#d8576b\"],[0.6666666666666666,\"#ed7953\"],[0.7777777777777778,\"#fb9f3a\"],[0.8888888888888888,\"#fdca26\"],[1.0,\"#f0f921\"]]}],\"choropleth\":[{\"type\":\"choropleth\",\"colorbar\":{\"outlinewidth\":0,\"ticks\":\"\"}}],\"histogram2d\":[{\"type\":\"histogram2d\",\"colorbar\":{\"outlinewidth\":0,\"ticks\":\"\"},\"colorscale\":[[0.0,\"#0d0887\"],[0.1111111111111111,\"#46039f\"],[0.2222222222222222,\"#7201a8\"],[0.3333333333333333,\"#9c179e\"],[0.4444444444444444,\"#bd3786\"],[0.5555555555555556,\"#d8576b\"],[0.6666666666666666,\"#ed7953\"],[0.7777777777777778,\"#fb9f3a\"],[0.8888888888888888,\"#fdca26\"],[1.0,\"#f0f921\"]]}],\"heatmap\":[{\"type\":\"heatmap\",\"colorbar\":{\"outlinewidth\":0,\"ticks\":\"\"},\"colorscale\":[[0.0,\"#0d0887\"],[0.1111111111111111,\"#46039f\"],[0.2222222222222222,\"#7201a8\"],[0.3333333333333333,\"#9c179e\"],[0.4444444444444444,\"#bd3786\"],[0.5555555555555556,\"#d8576b\"],[0.6666666666666666,\"#ed7953\"],[0.7777777777777778,\"#fb9f3a\"],[0.8888888888888888,\"#fdca26\"],[1.0,\"#f0f921\"]]}],\"heatmapgl\":[{\"type\":\"heatmapgl\",\"colorbar\":{\"outlinewidth\":0,\"ticks\":\"\"},\"colorscale\":[[0.0,\"#0d0887\"],[0.1111111111111111,\"#46039f\"],[0.2222222222222222,\"#7201a8\"],[0.3333333333333333,\"#9c179e\"],[0.4444444444444444,\"#bd3786\"],[0.5555555555555556,\"#d8576b\"],[0.6666666666666666,\"#ed7953\"],[0.7777777777777778,\"#fb9f3a\"],[0.8888888888888888,\"#fdca26\"],[1.0,\"#f0f921\"]]}],\"contourcarpet\":[{\"type\":\"contourcarpet\",\"colorbar\":{\"outlinewidth\":0,\"ticks\":\"\"}}],\"contour\":[{\"type\":\"contour\",\"colorbar\":{\"outlinewidth\":0,\"ticks\":\"\"},\"colorscale\":[[0.0,\"#0d0887\"],[0.1111111111111111,\"#46039f\"],[0.2222222222222222,\"#7201a8\"],[0.3333333333333333,\"#9c179e\"],[0.4444444444444444,\"#bd3786\"],[0.5555555555555556,\"#d8576b\"],[0.6666666666666666,\"#ed7953\"],[0.7777777777777778,\"#fb9f3a\"],[0.8888888888888888,\"#fdca26\"],[1.0,\"#f0f921\"]]}],\"surface\":[{\"type\":\"surface\",\"colorbar\":{\"outlinewidth\":0,\"ticks\":\"\"},\"colorscale\":[[0.0,\"#0d0887\"],[0.1111111111111111,\"#46039f\"],[0.2222222222222222,\"#7201a8\"],[0.3333333333333333,\"#9c179e\"],[0.4444444444444444,\"#bd3786\"],[0.5555555555555556,\"#d8576b\"],[0.6666666666666666,\"#ed7953\"],[0.7777777777777778,\"#fb9f3a\"],[0.8888888888888888,\"#fdca26\"],[1.0,\"#f0f921\"]]}],\"mesh3d\":[{\"type\":\"mesh3d\",\"colorbar\":{\"outlinewidth\":0,\"ticks\":\"\"}}],\"scatter\":[{\"fillpattern\":{\"fillmode\":\"overlay\",\"size\":10,\"solidity\":0.2},\"type\":\"scatter\"}],\"parcoords\":[{\"type\":\"parcoords\",\"line\":{\"colorbar\":{\"outlinewidth\":0,\"ticks\":\"\"}}}],\"scatterpolargl\":[{\"type\":\"scatterpolargl\",\"marker\":{\"colorbar\":{\"outlinewidth\":0,\"ticks\":\"\"}}}],\"bar\":[{\"error_x\":{\"color\":\"#2a3f5f\"},\"error_y\":{\"color\":\"#2a3f5f\"},\"marker\":{\"line\":{\"color\":\"#E5ECF6\",\"width\":0.5},\"pattern\":{\"fillmode\":\"overlay\",\"size\":10,\"solidity\":0.2}},\"type\":\"bar\"}],\"scattergeo\":[{\"type\":\"scattergeo\",\"marker\":{\"colorbar\":{\"outlinewidth\":0,\"ticks\":\"\"}}}],\"scatterpolar\":[{\"type\":\"scatterpolar\",\"marker\":{\"colorbar\":{\"outlinewidth\":0,\"ticks\":\"\"}}}],\"histogram\":[{\"marker\":{\"pattern\":{\"fillmode\":\"overlay\",\"size\":10,\"solidity\":0.2}},\"type\":\"histogram\"}],\"scattergl\":[{\"type\":\"scattergl\",\"marker\":{\"colorbar\":{\"outlinewidth\":0,\"ticks\":\"\"}}}],\"scatter3d\":[{\"type\":\"scatter3d\",\"line\":{\"colorbar\":{\"outlinewidth\":0,\"ticks\":\"\"}},\"marker\":{\"colorbar\":{\"outlinewidth\":0,\"ticks\":\"\"}}}],\"scattermapbox\":[{\"type\":\"scattermapbox\",\"marker\":{\"colorbar\":{\"outlinewidth\":0,\"ticks\":\"\"}}}],\"scatterternary\":[{\"type\":\"scatterternary\",\"marker\":{\"colorbar\":{\"outlinewidth\":0,\"ticks\":\"\"}}}],\"scattercarpet\":[{\"type\":\"scattercarpet\",\"marker\":{\"colorbar\":{\"outlinewidth\":0,\"ticks\":\"\"}}}],\"carpet\":[{\"aaxis\":{\"endlinecolor\":\"#2a3f5f\",\"gridcolor\":\"white\",\"linecolor\":\"white\",\"minorgridcolor\":\"white\",\"startlinecolor\":\"#2a3f5f\"},\"baxis\":{\"endlinecolor\":\"#2a3f5f\",\"gridcolor\":\"white\",\"linecolor\":\"white\",\"minorgridcolor\":\"white\",\"startlinecolor\":\"#2a3f5f\"},\"type\":\"carpet\"}],\"table\":[{\"cells\":{\"fill\":{\"color\":\"#EBF0F8\"},\"line\":{\"color\":\"white\"}},\"header\":{\"fill\":{\"color\":\"#C8D4E3\"},\"line\":{\"color\":\"white\"}},\"type\":\"table\"}],\"barpolar\":[{\"marker\":{\"line\":{\"color\":\"#E5ECF6\",\"width\":0.5},\"pattern\":{\"fillmode\":\"overlay\",\"size\":10,\"solidity\":0.2}},\"type\":\"barpolar\"}],\"pie\":[{\"automargin\":true,\"type\":\"pie\"}]},\"layout\":{\"autotypenumbers\":\"strict\",\"colorway\":[\"#636efa\",\"#EF553B\",\"#00cc96\",\"#ab63fa\",\"#FFA15A\",\"#19d3f3\",\"#FF6692\",\"#B6E880\",\"#FF97FF\",\"#FECB52\"],\"font\":{\"color\":\"#2a3f5f\"},\"hovermode\":\"closest\",\"hoverlabel\":{\"align\":\"left\"},\"paper_bgcolor\":\"white\",\"plot_bgcolor\":\"#E5ECF6\",\"polar\":{\"bgcolor\":\"#E5ECF6\",\"angularaxis\":{\"gridcolor\":\"white\",\"linecolor\":\"white\",\"ticks\":\"\"},\"radialaxis\":{\"gridcolor\":\"white\",\"linecolor\":\"white\",\"ticks\":\"\"}},\"ternary\":{\"bgcolor\":\"#E5ECF6\",\"aaxis\":{\"gridcolor\":\"white\",\"linecolor\":\"white\",\"ticks\":\"\"},\"baxis\":{\"gridcolor\":\"white\",\"linecolor\":\"white\",\"ticks\":\"\"},\"caxis\":{\"gridcolor\":\"white\",\"linecolor\":\"white\",\"ticks\":\"\"}},\"coloraxis\":{\"colorbar\":{\"outlinewidth\":0,\"ticks\":\"\"}},\"colorscale\":{\"sequential\":[[0.0,\"#0d0887\"],[0.1111111111111111,\"#46039f\"],[0.2222222222222222,\"#7201a8\"],[0.3333333333333333,\"#9c179e\"],[0.4444444444444444,\"#bd3786\"],[0.5555555555555556,\"#d8576b\"],[0.6666666666666666,\"#ed7953\"],[0.7777777777777778,\"#fb9f3a\"],[0.8888888888888888,\"#fdca26\"],[1.0,\"#f0f921\"]],\"sequentialminus\":[[0.0,\"#0d0887\"],[0.1111111111111111,\"#46039f\"],[0.2222222222222222,\"#7201a8\"],[0.3333333333333333,\"#9c179e\"],[0.4444444444444444,\"#bd3786\"],[0.5555555555555556,\"#d8576b\"],[0.6666666666666666,\"#ed7953\"],[0.7777777777777778,\"#fb9f3a\"],[0.8888888888888888,\"#fdca26\"],[1.0,\"#f0f921\"]],\"diverging\":[[0,\"#8e0152\"],[0.1,\"#c51b7d\"],[0.2,\"#de77ae\"],[0.3,\"#f1b6da\"],[0.4,\"#fde0ef\"],[0.5,\"#f7f7f7\"],[0.6,\"#e6f5d0\"],[0.7,\"#b8e186\"],[0.8,\"#7fbc41\"],[0.9,\"#4d9221\"],[1,\"#276419\"]]},\"xaxis\":{\"gridcolor\":\"white\",\"linecolor\":\"white\",\"ticks\":\"\",\"title\":{\"standoff\":15},\"zerolinecolor\":\"white\",\"automargin\":true,\"zerolinewidth\":2},\"yaxis\":{\"gridcolor\":\"white\",\"linecolor\":\"white\",\"ticks\":\"\",\"title\":{\"standoff\":15},\"zerolinecolor\":\"white\",\"automargin\":true,\"zerolinewidth\":2},\"scene\":{\"xaxis\":{\"backgroundcolor\":\"#E5ECF6\",\"gridcolor\":\"white\",\"linecolor\":\"white\",\"showbackground\":true,\"ticks\":\"\",\"zerolinecolor\":\"white\",\"gridwidth\":2},\"yaxis\":{\"backgroundcolor\":\"#E5ECF6\",\"gridcolor\":\"white\",\"linecolor\":\"white\",\"showbackground\":true,\"ticks\":\"\",\"zerolinecolor\":\"white\",\"gridwidth\":2},\"zaxis\":{\"backgroundcolor\":\"#E5ECF6\",\"gridcolor\":\"white\",\"linecolor\":\"white\",\"showbackground\":true,\"ticks\":\"\",\"zerolinecolor\":\"white\",\"gridwidth\":2}},\"shapedefaults\":{\"line\":{\"color\":\"#2a3f5f\"}},\"annotationdefaults\":{\"arrowcolor\":\"#2a3f5f\",\"arrowhead\":0,\"arrowwidth\":1},\"geo\":{\"bgcolor\":\"white\",\"landcolor\":\"#E5ECF6\",\"subunitcolor\":\"white\",\"showland\":true,\"showlakes\":true,\"lakecolor\":\"white\"},\"title\":{\"x\":0.05},\"mapbox\":{\"style\":\"light\"}}},\"xaxis\":{\"anchor\":\"y\",\"domain\":[0.0,1.0]},\"yaxis\":{\"anchor\":\"x\",\"domain\":[0.0,1.0]}},                        {\"responsive\": true}                    ).then(function(){\n",
       "                            \n",
       "var gd = document.getElementById('e8c533e3-d1dc-40ba-9a3e-8b824fd6a396');\n",
       "var x = new MutationObserver(function (mutations, observer) {{\n",
       "        var display = window.getComputedStyle(gd).display;\n",
       "        if (!display || display === 'none') {{\n",
       "            console.log([gd, 'removed!']);\n",
       "            Plotly.purge(gd);\n",
       "            observer.disconnect();\n",
       "        }}\n",
       "}});\n",
       "\n",
       "// Listen for the removal of the full notebook cells\n",
       "var notebookContainer = gd.closest('#notebook-container');\n",
       "if (notebookContainer) {{\n",
       "    x.observe(notebookContainer, {childList: true});\n",
       "}}\n",
       "\n",
       "// Listen for the clearing of the current output cell\n",
       "var outputEl = gd.closest('.output');\n",
       "if (outputEl) {{\n",
       "    x.observe(outputEl, {childList: true});\n",
       "}}\n",
       "\n",
       "                        })                };                });            </script>        </div>"
      ]
     },
     "metadata": {},
     "output_type": "display_data"
    }
   ],
   "source": [
    "fig = make_subplots(rows=1, cols=1)\n",
    "fig.add_trace(go.Box( y = data.result, name = \"\", boxmean=True, boxpoints='all', notched=True),\n",
    "                 row=1, col=1)"
   ]
  },
  {
   "cell_type": "code",
   "execution_count": 17,
   "id": "99d69f06",
   "metadata": {},
   "outputs": [
    {
     "data": {
      "application/vnd.plotly.v1+json": {
       "config": {
        "plotlyServerURL": "https://plot.ly"
       },
       "data": [
        {
         "alignmentgroup": "True",
         "bingroup": "x",
         "hovertemplate": "variable=result<br>value=%{x}<br>count=%{y}<extra></extra>",
         "legendgroup": "result",
         "marker": {
          "color": "#636efa",
          "pattern": {
           "shape": ""
          }
         },
         "name": "result",
         "offsetgroup": "result",
         "orientation": "v",
         "showlegend": true,
         "type": "histogram",
         "x": [
          6,
          5,
          8,
          6,
          2,
          9,
          2,
          5,
          6,
          8,
          10,
          6,
          6,
          4,
          4,
          6,
          5,
          2,
          3,
          3,
          3,
          0,
          5,
          2,
          5,
          3,
          1,
          1,
          1,
          4,
          0,
          7,
          4,
          10,
          10,
          1,
          6,
          6,
          7,
          8,
          7,
          2,
          3,
          4,
          8,
          7,
          5,
          4,
          3,
          6,
          3,
          10,
          1,
          8,
          10,
          9,
          8,
          9,
          3,
          5,
          8,
          7,
          0,
          5,
          9,
          3,
          2,
          6,
          4,
          1,
          5,
          3,
          6,
          6,
          6,
          7,
          3,
          8,
          4,
          2,
          5,
          3,
          10,
          4,
          2,
          3,
          8,
          1,
          4,
          9,
          4,
          4,
          5,
          8,
          8,
          4,
          4,
          4,
          3,
          1,
          3,
          2,
          3,
          5,
          4,
          0,
          6,
          7,
          5,
          3,
          9,
          6,
          3,
          4,
          8,
          7,
          8,
          6,
          9,
          7,
          9,
          9,
          1,
          7,
          9,
          7,
          0,
          6,
          5,
          4,
          3,
          3,
          3,
          5,
          5,
          6,
          5,
          2,
          3,
          2,
          4,
          2,
          3,
          4,
          1,
          8,
          9,
          10,
          7,
          8,
          2,
          7,
          4,
          5,
          4,
          3,
          4,
          4,
          4,
          3,
          0,
          2,
          1,
          3,
          6,
          5,
          4,
          4,
          6,
          8,
          6,
          4,
          4,
          2,
          3,
          6,
          9,
          6,
          5,
          4,
          4,
          5,
          6,
          4,
          5,
          7,
          4,
          4,
          8,
          5,
          9,
          5,
          3,
          2,
          3,
          9,
          10,
          9,
          7,
          4,
          9,
          6,
          7,
          9,
          3,
          10,
          10,
          7,
          6,
          8,
          9,
          5,
          6,
          4,
          5,
          8,
          4,
          4,
          7,
          2,
          3,
          1,
          6,
          8,
          9,
          4,
          9,
          1,
          5,
          10,
          3,
          2,
          3,
          4,
          2,
          2,
          6,
          2,
          3,
          2,
          5,
          6,
          4,
          5,
          6,
          4,
          5,
          6,
          2,
          8,
          3,
          4,
          2,
          2,
          3,
          4,
          5,
          4,
          5,
          5,
          3,
          5,
          3,
          0,
          4,
          7,
          3,
          3,
          5,
          6,
          7,
          7,
          10,
          2,
          4,
          4,
          3,
          2,
          9,
          3,
          1,
          8,
          7,
          10,
          3,
          6,
          0,
          5,
          0,
          8,
          8,
          7,
          5,
          4,
          0,
          7,
          8,
          8,
          5,
          9,
          3,
          10,
          6,
          2,
          6,
          4,
          7,
          8,
          8,
          7,
          2,
          4,
          7,
          7,
          5,
          3,
          4,
          4,
          6,
          0,
          2,
          4,
          8,
          4,
          2,
          5,
          5,
          2,
          4,
          3,
          4,
          10,
          7,
          5,
          5,
          6,
          4,
          3,
          4,
          2,
          6,
          6,
          3,
          2,
          5,
          1,
          5,
          1,
          8,
          5,
          8,
          4,
          2,
          3,
          2,
          2,
          4,
          2,
          4,
          2,
          4,
          2,
          3,
          2,
          4,
          4,
          5,
          4,
          5,
          2,
          3,
          5,
          2,
          3,
          5,
          3,
          2,
          5,
          2,
          3,
          2,
          2,
          8,
          4,
          3,
          3,
          2,
          6,
          4,
          2,
          3,
          6,
          4,
          3,
          5,
          5,
          4,
          3,
          3,
          1,
          5,
          3,
          4,
          4,
          3,
          3,
          5,
          8,
          5,
          2,
          4,
          3,
          4,
          4,
          7,
          2,
          4,
          5,
          4,
          4,
          6,
          1,
          4,
          2,
          5,
          4,
          8,
          4,
          2,
          6,
          9,
          10,
          3,
          8,
          3,
          2,
          5,
          6,
          4,
          2,
          6,
          2,
          6,
          7,
          7,
          3,
          7,
          2,
          9,
          5,
          3,
          3,
          7,
          4,
          3,
          3,
          4,
          1,
          8,
          6,
          1,
          1,
          6,
          3,
          8,
          3,
          7,
          5,
          10,
          1,
          3,
          7,
          4,
          3,
          4,
          3,
          0,
          2,
          4,
          1,
          4,
          2,
          2,
          6,
          5,
          3,
          9,
          7,
          4,
          5,
          7,
          0,
          5,
          10,
          6,
          3,
          3,
          8,
          8,
          3,
          5,
          8,
          4,
          6,
          8,
          6,
          4,
          4,
          10,
          2,
          8,
          9,
          4,
          3,
          9,
          9,
          4,
          7,
          3,
          3,
          8,
          7,
          7,
          6,
          8,
          4,
          4,
          3,
          10,
          2,
          2,
          4,
          4,
          9,
          4,
          3,
          2,
          5,
          4,
          6,
          9,
          1,
          9,
          9,
          9,
          7,
          4,
          5,
          6,
          10,
          2,
          3,
          1,
          7,
          9,
          4,
          3,
          4,
          9,
          6,
          9,
          8,
          6,
          4,
          4,
          2,
          4,
          4,
          9,
          3,
          4,
          3,
          3,
          10,
          4,
          4,
          8,
          9,
          8,
          3,
          2,
          4,
          6,
          7,
          7,
          5,
          10,
          9,
          9,
          3,
          5,
          6,
          10,
          1,
          4,
          3,
          4,
          5,
          3,
          6,
          3,
          3,
          2,
          2,
          3,
          4,
          3,
          1,
          1,
          4,
          5,
          4,
          5,
          1,
          5,
          6,
          3,
          4,
          2,
          4,
          4,
          7,
          4,
          7,
          3,
          6,
          3,
          3,
          5,
          6,
          6,
          2,
          2,
          6,
          7,
          4,
          0,
          10,
          5,
          7,
          4,
          7,
          2,
          1,
          6,
          7,
          4,
          5,
          4,
          3,
          2,
          3,
          1,
          10,
          9,
          5,
          5,
          5,
          3,
          8,
          8,
          9,
          5,
          4,
          3,
          9,
          1,
          3,
          4,
          10,
          9,
          7,
          8,
          8,
          6,
          5,
          4,
          3,
          8,
          10,
          10,
          9,
          3,
          4,
          4,
          7,
          5,
          9,
          8,
          7,
          1,
          4,
          8,
          4,
          7,
          5,
          9,
          6,
          10,
          7,
          3,
          7,
          6,
          8
         ],
         "xaxis": "x",
         "yaxis": "y"
        },
        {
         "alignmentgroup": "True",
         "hovertemplate": "variable=result<br>value=%{x}<extra></extra>",
         "legendgroup": "result",
         "marker": {
          "color": "#636efa"
         },
         "name": "result",
         "notched": true,
         "offsetgroup": "result",
         "showlegend": false,
         "type": "box",
         "x": [
          6,
          5,
          8,
          6,
          2,
          9,
          2,
          5,
          6,
          8,
          10,
          6,
          6,
          4,
          4,
          6,
          5,
          2,
          3,
          3,
          3,
          0,
          5,
          2,
          5,
          3,
          1,
          1,
          1,
          4,
          0,
          7,
          4,
          10,
          10,
          1,
          6,
          6,
          7,
          8,
          7,
          2,
          3,
          4,
          8,
          7,
          5,
          4,
          3,
          6,
          3,
          10,
          1,
          8,
          10,
          9,
          8,
          9,
          3,
          5,
          8,
          7,
          0,
          5,
          9,
          3,
          2,
          6,
          4,
          1,
          5,
          3,
          6,
          6,
          6,
          7,
          3,
          8,
          4,
          2,
          5,
          3,
          10,
          4,
          2,
          3,
          8,
          1,
          4,
          9,
          4,
          4,
          5,
          8,
          8,
          4,
          4,
          4,
          3,
          1,
          3,
          2,
          3,
          5,
          4,
          0,
          6,
          7,
          5,
          3,
          9,
          6,
          3,
          4,
          8,
          7,
          8,
          6,
          9,
          7,
          9,
          9,
          1,
          7,
          9,
          7,
          0,
          6,
          5,
          4,
          3,
          3,
          3,
          5,
          5,
          6,
          5,
          2,
          3,
          2,
          4,
          2,
          3,
          4,
          1,
          8,
          9,
          10,
          7,
          8,
          2,
          7,
          4,
          5,
          4,
          3,
          4,
          4,
          4,
          3,
          0,
          2,
          1,
          3,
          6,
          5,
          4,
          4,
          6,
          8,
          6,
          4,
          4,
          2,
          3,
          6,
          9,
          6,
          5,
          4,
          4,
          5,
          6,
          4,
          5,
          7,
          4,
          4,
          8,
          5,
          9,
          5,
          3,
          2,
          3,
          9,
          10,
          9,
          7,
          4,
          9,
          6,
          7,
          9,
          3,
          10,
          10,
          7,
          6,
          8,
          9,
          5,
          6,
          4,
          5,
          8,
          4,
          4,
          7,
          2,
          3,
          1,
          6,
          8,
          9,
          4,
          9,
          1,
          5,
          10,
          3,
          2,
          3,
          4,
          2,
          2,
          6,
          2,
          3,
          2,
          5,
          6,
          4,
          5,
          6,
          4,
          5,
          6,
          2,
          8,
          3,
          4,
          2,
          2,
          3,
          4,
          5,
          4,
          5,
          5,
          3,
          5,
          3,
          0,
          4,
          7,
          3,
          3,
          5,
          6,
          7,
          7,
          10,
          2,
          4,
          4,
          3,
          2,
          9,
          3,
          1,
          8,
          7,
          10,
          3,
          6,
          0,
          5,
          0,
          8,
          8,
          7,
          5,
          4,
          0,
          7,
          8,
          8,
          5,
          9,
          3,
          10,
          6,
          2,
          6,
          4,
          7,
          8,
          8,
          7,
          2,
          4,
          7,
          7,
          5,
          3,
          4,
          4,
          6,
          0,
          2,
          4,
          8,
          4,
          2,
          5,
          5,
          2,
          4,
          3,
          4,
          10,
          7,
          5,
          5,
          6,
          4,
          3,
          4,
          2,
          6,
          6,
          3,
          2,
          5,
          1,
          5,
          1,
          8,
          5,
          8,
          4,
          2,
          3,
          2,
          2,
          4,
          2,
          4,
          2,
          4,
          2,
          3,
          2,
          4,
          4,
          5,
          4,
          5,
          2,
          3,
          5,
          2,
          3,
          5,
          3,
          2,
          5,
          2,
          3,
          2,
          2,
          8,
          4,
          3,
          3,
          2,
          6,
          4,
          2,
          3,
          6,
          4,
          3,
          5,
          5,
          4,
          3,
          3,
          1,
          5,
          3,
          4,
          4,
          3,
          3,
          5,
          8,
          5,
          2,
          4,
          3,
          4,
          4,
          7,
          2,
          4,
          5,
          4,
          4,
          6,
          1,
          4,
          2,
          5,
          4,
          8,
          4,
          2,
          6,
          9,
          10,
          3,
          8,
          3,
          2,
          5,
          6,
          4,
          2,
          6,
          2,
          6,
          7,
          7,
          3,
          7,
          2,
          9,
          5,
          3,
          3,
          7,
          4,
          3,
          3,
          4,
          1,
          8,
          6,
          1,
          1,
          6,
          3,
          8,
          3,
          7,
          5,
          10,
          1,
          3,
          7,
          4,
          3,
          4,
          3,
          0,
          2,
          4,
          1,
          4,
          2,
          2,
          6,
          5,
          3,
          9,
          7,
          4,
          5,
          7,
          0,
          5,
          10,
          6,
          3,
          3,
          8,
          8,
          3,
          5,
          8,
          4,
          6,
          8,
          6,
          4,
          4,
          10,
          2,
          8,
          9,
          4,
          3,
          9,
          9,
          4,
          7,
          3,
          3,
          8,
          7,
          7,
          6,
          8,
          4,
          4,
          3,
          10,
          2,
          2,
          4,
          4,
          9,
          4,
          3,
          2,
          5,
          4,
          6,
          9,
          1,
          9,
          9,
          9,
          7,
          4,
          5,
          6,
          10,
          2,
          3,
          1,
          7,
          9,
          4,
          3,
          4,
          9,
          6,
          9,
          8,
          6,
          4,
          4,
          2,
          4,
          4,
          9,
          3,
          4,
          3,
          3,
          10,
          4,
          4,
          8,
          9,
          8,
          3,
          2,
          4,
          6,
          7,
          7,
          5,
          10,
          9,
          9,
          3,
          5,
          6,
          10,
          1,
          4,
          3,
          4,
          5,
          3,
          6,
          3,
          3,
          2,
          2,
          3,
          4,
          3,
          1,
          1,
          4,
          5,
          4,
          5,
          1,
          5,
          6,
          3,
          4,
          2,
          4,
          4,
          7,
          4,
          7,
          3,
          6,
          3,
          3,
          5,
          6,
          6,
          2,
          2,
          6,
          7,
          4,
          0,
          10,
          5,
          7,
          4,
          7,
          2,
          1,
          6,
          7,
          4,
          5,
          4,
          3,
          2,
          3,
          1,
          10,
          9,
          5,
          5,
          5,
          3,
          8,
          8,
          9,
          5,
          4,
          3,
          9,
          1,
          3,
          4,
          10,
          9,
          7,
          8,
          8,
          6,
          5,
          4,
          3,
          8,
          10,
          10,
          9,
          3,
          4,
          4,
          7,
          5,
          9,
          8,
          7,
          1,
          4,
          8,
          4,
          7,
          5,
          9,
          6,
          10,
          7,
          3,
          7,
          6,
          8
         ],
         "xaxis": "x2",
         "yaxis": "y2"
        }
       ],
       "layout": {
        "barmode": "relative",
        "legend": {
         "title": {
          "text": "variable"
         },
         "tracegroupgap": 0
        },
        "margin": {
         "t": 60
        },
        "template": {
         "data": {
          "bar": [
           {
            "error_x": {
             "color": "#2a3f5f"
            },
            "error_y": {
             "color": "#2a3f5f"
            },
            "marker": {
             "line": {
              "color": "#E5ECF6",
              "width": 0.5
             },
             "pattern": {
              "fillmode": "overlay",
              "size": 10,
              "solidity": 0.2
             }
            },
            "type": "bar"
           }
          ],
          "barpolar": [
           {
            "marker": {
             "line": {
              "color": "#E5ECF6",
              "width": 0.5
             },
             "pattern": {
              "fillmode": "overlay",
              "size": 10,
              "solidity": 0.2
             }
            },
            "type": "barpolar"
           }
          ],
          "carpet": [
           {
            "aaxis": {
             "endlinecolor": "#2a3f5f",
             "gridcolor": "white",
             "linecolor": "white",
             "minorgridcolor": "white",
             "startlinecolor": "#2a3f5f"
            },
            "baxis": {
             "endlinecolor": "#2a3f5f",
             "gridcolor": "white",
             "linecolor": "white",
             "minorgridcolor": "white",
             "startlinecolor": "#2a3f5f"
            },
            "type": "carpet"
           }
          ],
          "choropleth": [
           {
            "colorbar": {
             "outlinewidth": 0,
             "ticks": ""
            },
            "type": "choropleth"
           }
          ],
          "contour": [
           {
            "colorbar": {
             "outlinewidth": 0,
             "ticks": ""
            },
            "colorscale": [
             [
              0,
              "#0d0887"
             ],
             [
              0.1111111111111111,
              "#46039f"
             ],
             [
              0.2222222222222222,
              "#7201a8"
             ],
             [
              0.3333333333333333,
              "#9c179e"
             ],
             [
              0.4444444444444444,
              "#bd3786"
             ],
             [
              0.5555555555555556,
              "#d8576b"
             ],
             [
              0.6666666666666666,
              "#ed7953"
             ],
             [
              0.7777777777777778,
              "#fb9f3a"
             ],
             [
              0.8888888888888888,
              "#fdca26"
             ],
             [
              1,
              "#f0f921"
             ]
            ],
            "type": "contour"
           }
          ],
          "contourcarpet": [
           {
            "colorbar": {
             "outlinewidth": 0,
             "ticks": ""
            },
            "type": "contourcarpet"
           }
          ],
          "heatmap": [
           {
            "colorbar": {
             "outlinewidth": 0,
             "ticks": ""
            },
            "colorscale": [
             [
              0,
              "#0d0887"
             ],
             [
              0.1111111111111111,
              "#46039f"
             ],
             [
              0.2222222222222222,
              "#7201a8"
             ],
             [
              0.3333333333333333,
              "#9c179e"
             ],
             [
              0.4444444444444444,
              "#bd3786"
             ],
             [
              0.5555555555555556,
              "#d8576b"
             ],
             [
              0.6666666666666666,
              "#ed7953"
             ],
             [
              0.7777777777777778,
              "#fb9f3a"
             ],
             [
              0.8888888888888888,
              "#fdca26"
             ],
             [
              1,
              "#f0f921"
             ]
            ],
            "type": "heatmap"
           }
          ],
          "heatmapgl": [
           {
            "colorbar": {
             "outlinewidth": 0,
             "ticks": ""
            },
            "colorscale": [
             [
              0,
              "#0d0887"
             ],
             [
              0.1111111111111111,
              "#46039f"
             ],
             [
              0.2222222222222222,
              "#7201a8"
             ],
             [
              0.3333333333333333,
              "#9c179e"
             ],
             [
              0.4444444444444444,
              "#bd3786"
             ],
             [
              0.5555555555555556,
              "#d8576b"
             ],
             [
              0.6666666666666666,
              "#ed7953"
             ],
             [
              0.7777777777777778,
              "#fb9f3a"
             ],
             [
              0.8888888888888888,
              "#fdca26"
             ],
             [
              1,
              "#f0f921"
             ]
            ],
            "type": "heatmapgl"
           }
          ],
          "histogram": [
           {
            "marker": {
             "pattern": {
              "fillmode": "overlay",
              "size": 10,
              "solidity": 0.2
             }
            },
            "type": "histogram"
           }
          ],
          "histogram2d": [
           {
            "colorbar": {
             "outlinewidth": 0,
             "ticks": ""
            },
            "colorscale": [
             [
              0,
              "#0d0887"
             ],
             [
              0.1111111111111111,
              "#46039f"
             ],
             [
              0.2222222222222222,
              "#7201a8"
             ],
             [
              0.3333333333333333,
              "#9c179e"
             ],
             [
              0.4444444444444444,
              "#bd3786"
             ],
             [
              0.5555555555555556,
              "#d8576b"
             ],
             [
              0.6666666666666666,
              "#ed7953"
             ],
             [
              0.7777777777777778,
              "#fb9f3a"
             ],
             [
              0.8888888888888888,
              "#fdca26"
             ],
             [
              1,
              "#f0f921"
             ]
            ],
            "type": "histogram2d"
           }
          ],
          "histogram2dcontour": [
           {
            "colorbar": {
             "outlinewidth": 0,
             "ticks": ""
            },
            "colorscale": [
             [
              0,
              "#0d0887"
             ],
             [
              0.1111111111111111,
              "#46039f"
             ],
             [
              0.2222222222222222,
              "#7201a8"
             ],
             [
              0.3333333333333333,
              "#9c179e"
             ],
             [
              0.4444444444444444,
              "#bd3786"
             ],
             [
              0.5555555555555556,
              "#d8576b"
             ],
             [
              0.6666666666666666,
              "#ed7953"
             ],
             [
              0.7777777777777778,
              "#fb9f3a"
             ],
             [
              0.8888888888888888,
              "#fdca26"
             ],
             [
              1,
              "#f0f921"
             ]
            ],
            "type": "histogram2dcontour"
           }
          ],
          "mesh3d": [
           {
            "colorbar": {
             "outlinewidth": 0,
             "ticks": ""
            },
            "type": "mesh3d"
           }
          ],
          "parcoords": [
           {
            "line": {
             "colorbar": {
              "outlinewidth": 0,
              "ticks": ""
             }
            },
            "type": "parcoords"
           }
          ],
          "pie": [
           {
            "automargin": true,
            "type": "pie"
           }
          ],
          "scatter": [
           {
            "fillpattern": {
             "fillmode": "overlay",
             "size": 10,
             "solidity": 0.2
            },
            "type": "scatter"
           }
          ],
          "scatter3d": [
           {
            "line": {
             "colorbar": {
              "outlinewidth": 0,
              "ticks": ""
             }
            },
            "marker": {
             "colorbar": {
              "outlinewidth": 0,
              "ticks": ""
             }
            },
            "type": "scatter3d"
           }
          ],
          "scattercarpet": [
           {
            "marker": {
             "colorbar": {
              "outlinewidth": 0,
              "ticks": ""
             }
            },
            "type": "scattercarpet"
           }
          ],
          "scattergeo": [
           {
            "marker": {
             "colorbar": {
              "outlinewidth": 0,
              "ticks": ""
             }
            },
            "type": "scattergeo"
           }
          ],
          "scattergl": [
           {
            "marker": {
             "colorbar": {
              "outlinewidth": 0,
              "ticks": ""
             }
            },
            "type": "scattergl"
           }
          ],
          "scattermapbox": [
           {
            "marker": {
             "colorbar": {
              "outlinewidth": 0,
              "ticks": ""
             }
            },
            "type": "scattermapbox"
           }
          ],
          "scatterpolar": [
           {
            "marker": {
             "colorbar": {
              "outlinewidth": 0,
              "ticks": ""
             }
            },
            "type": "scatterpolar"
           }
          ],
          "scatterpolargl": [
           {
            "marker": {
             "colorbar": {
              "outlinewidth": 0,
              "ticks": ""
             }
            },
            "type": "scatterpolargl"
           }
          ],
          "scatterternary": [
           {
            "marker": {
             "colorbar": {
              "outlinewidth": 0,
              "ticks": ""
             }
            },
            "type": "scatterternary"
           }
          ],
          "surface": [
           {
            "colorbar": {
             "outlinewidth": 0,
             "ticks": ""
            },
            "colorscale": [
             [
              0,
              "#0d0887"
             ],
             [
              0.1111111111111111,
              "#46039f"
             ],
             [
              0.2222222222222222,
              "#7201a8"
             ],
             [
              0.3333333333333333,
              "#9c179e"
             ],
             [
              0.4444444444444444,
              "#bd3786"
             ],
             [
              0.5555555555555556,
              "#d8576b"
             ],
             [
              0.6666666666666666,
              "#ed7953"
             ],
             [
              0.7777777777777778,
              "#fb9f3a"
             ],
             [
              0.8888888888888888,
              "#fdca26"
             ],
             [
              1,
              "#f0f921"
             ]
            ],
            "type": "surface"
           }
          ],
          "table": [
           {
            "cells": {
             "fill": {
              "color": "#EBF0F8"
             },
             "line": {
              "color": "white"
             }
            },
            "header": {
             "fill": {
              "color": "#C8D4E3"
             },
             "line": {
              "color": "white"
             }
            },
            "type": "table"
           }
          ]
         },
         "layout": {
          "annotationdefaults": {
           "arrowcolor": "#2a3f5f",
           "arrowhead": 0,
           "arrowwidth": 1
          },
          "autotypenumbers": "strict",
          "coloraxis": {
           "colorbar": {
            "outlinewidth": 0,
            "ticks": ""
           }
          },
          "colorscale": {
           "diverging": [
            [
             0,
             "#8e0152"
            ],
            [
             0.1,
             "#c51b7d"
            ],
            [
             0.2,
             "#de77ae"
            ],
            [
             0.3,
             "#f1b6da"
            ],
            [
             0.4,
             "#fde0ef"
            ],
            [
             0.5,
             "#f7f7f7"
            ],
            [
             0.6,
             "#e6f5d0"
            ],
            [
             0.7,
             "#b8e186"
            ],
            [
             0.8,
             "#7fbc41"
            ],
            [
             0.9,
             "#4d9221"
            ],
            [
             1,
             "#276419"
            ]
           ],
           "sequential": [
            [
             0,
             "#0d0887"
            ],
            [
             0.1111111111111111,
             "#46039f"
            ],
            [
             0.2222222222222222,
             "#7201a8"
            ],
            [
             0.3333333333333333,
             "#9c179e"
            ],
            [
             0.4444444444444444,
             "#bd3786"
            ],
            [
             0.5555555555555556,
             "#d8576b"
            ],
            [
             0.6666666666666666,
             "#ed7953"
            ],
            [
             0.7777777777777778,
             "#fb9f3a"
            ],
            [
             0.8888888888888888,
             "#fdca26"
            ],
            [
             1,
             "#f0f921"
            ]
           ],
           "sequentialminus": [
            [
             0,
             "#0d0887"
            ],
            [
             0.1111111111111111,
             "#46039f"
            ],
            [
             0.2222222222222222,
             "#7201a8"
            ],
            [
             0.3333333333333333,
             "#9c179e"
            ],
            [
             0.4444444444444444,
             "#bd3786"
            ],
            [
             0.5555555555555556,
             "#d8576b"
            ],
            [
             0.6666666666666666,
             "#ed7953"
            ],
            [
             0.7777777777777778,
             "#fb9f3a"
            ],
            [
             0.8888888888888888,
             "#fdca26"
            ],
            [
             1,
             "#f0f921"
            ]
           ]
          },
          "colorway": [
           "#636efa",
           "#EF553B",
           "#00cc96",
           "#ab63fa",
           "#FFA15A",
           "#19d3f3",
           "#FF6692",
           "#B6E880",
           "#FF97FF",
           "#FECB52"
          ],
          "font": {
           "color": "#2a3f5f"
          },
          "geo": {
           "bgcolor": "white",
           "lakecolor": "white",
           "landcolor": "#E5ECF6",
           "showlakes": true,
           "showland": true,
           "subunitcolor": "white"
          },
          "hoverlabel": {
           "align": "left"
          },
          "hovermode": "closest",
          "mapbox": {
           "style": "light"
          },
          "paper_bgcolor": "white",
          "plot_bgcolor": "#E5ECF6",
          "polar": {
           "angularaxis": {
            "gridcolor": "white",
            "linecolor": "white",
            "ticks": ""
           },
           "bgcolor": "#E5ECF6",
           "radialaxis": {
            "gridcolor": "white",
            "linecolor": "white",
            "ticks": ""
           }
          },
          "scene": {
           "xaxis": {
            "backgroundcolor": "#E5ECF6",
            "gridcolor": "white",
            "gridwidth": 2,
            "linecolor": "white",
            "showbackground": true,
            "ticks": "",
            "zerolinecolor": "white"
           },
           "yaxis": {
            "backgroundcolor": "#E5ECF6",
            "gridcolor": "white",
            "gridwidth": 2,
            "linecolor": "white",
            "showbackground": true,
            "ticks": "",
            "zerolinecolor": "white"
           },
           "zaxis": {
            "backgroundcolor": "#E5ECF6",
            "gridcolor": "white",
            "gridwidth": 2,
            "linecolor": "white",
            "showbackground": true,
            "ticks": "",
            "zerolinecolor": "white"
           }
          },
          "shapedefaults": {
           "line": {
            "color": "#2a3f5f"
           }
          },
          "ternary": {
           "aaxis": {
            "gridcolor": "white",
            "linecolor": "white",
            "ticks": ""
           },
           "baxis": {
            "gridcolor": "white",
            "linecolor": "white",
            "ticks": ""
           },
           "bgcolor": "#E5ECF6",
           "caxis": {
            "gridcolor": "white",
            "linecolor": "white",
            "ticks": ""
           }
          },
          "title": {
           "x": 0.05
          },
          "xaxis": {
           "automargin": true,
           "gridcolor": "white",
           "linecolor": "white",
           "ticks": "",
           "title": {
            "standoff": 15
           },
           "zerolinecolor": "white",
           "zerolinewidth": 2
          },
          "yaxis": {
           "automargin": true,
           "gridcolor": "white",
           "linecolor": "white",
           "ticks": "",
           "title": {
            "standoff": 15
           },
           "zerolinecolor": "white",
           "zerolinewidth": 2
          }
         }
        },
        "xaxis": {
         "anchor": "y",
         "domain": [
          0,
          1
         ],
         "title": {
          "text": "value"
         }
        },
        "xaxis2": {
         "anchor": "y2",
         "domain": [
          0,
          1
         ],
         "matches": "x",
         "showgrid": true,
         "showticklabels": false
        },
        "yaxis": {
         "anchor": "x",
         "domain": [
          0,
          0.7326
         ],
         "title": {
          "text": "count"
         }
        },
        "yaxis2": {
         "anchor": "x2",
         "domain": [
          0.7426,
          1
         ],
         "matches": "y2",
         "showgrid": false,
         "showline": false,
         "showticklabels": false,
         "ticks": ""
        }
       }
      },
      "text/html": [
       "<div>                            <div id=\"9343c0a1-b96c-47ce-9bb1-0860f0956a6e\" class=\"plotly-graph-div\" style=\"height:525px; width:100%;\"></div>            <script type=\"text/javascript\">                require([\"plotly\"], function(Plotly) {                    window.PLOTLYENV=window.PLOTLYENV || {};                                    if (document.getElementById(\"9343c0a1-b96c-47ce-9bb1-0860f0956a6e\")) {                    Plotly.newPlot(                        \"9343c0a1-b96c-47ce-9bb1-0860f0956a6e\",                        [{\"alignmentgroup\":\"True\",\"bingroup\":\"x\",\"hovertemplate\":\"variable=result<br>value=%{x}<br>count=%{y}<extra></extra>\",\"legendgroup\":\"result\",\"marker\":{\"color\":\"#636efa\",\"pattern\":{\"shape\":\"\"}},\"name\":\"result\",\"offsetgroup\":\"result\",\"orientation\":\"v\",\"showlegend\":true,\"x\":[6,5,8,6,2,9,2,5,6,8,10,6,6,4,4,6,5,2,3,3,3,0,5,2,5,3,1,1,1,4,0,7,4,10,10,1,6,6,7,8,7,2,3,4,8,7,5,4,3,6,3,10,1,8,10,9,8,9,3,5,8,7,0,5,9,3,2,6,4,1,5,3,6,6,6,7,3,8,4,2,5,3,10,4,2,3,8,1,4,9,4,4,5,8,8,4,4,4,3,1,3,2,3,5,4,0,6,7,5,3,9,6,3,4,8,7,8,6,9,7,9,9,1,7,9,7,0,6,5,4,3,3,3,5,5,6,5,2,3,2,4,2,3,4,1,8,9,10,7,8,2,7,4,5,4,3,4,4,4,3,0,2,1,3,6,5,4,4,6,8,6,4,4,2,3,6,9,6,5,4,4,5,6,4,5,7,4,4,8,5,9,5,3,2,3,9,10,9,7,4,9,6,7,9,3,10,10,7,6,8,9,5,6,4,5,8,4,4,7,2,3,1,6,8,9,4,9,1,5,10,3,2,3,4,2,2,6,2,3,2,5,6,4,5,6,4,5,6,2,8,3,4,2,2,3,4,5,4,5,5,3,5,3,0,4,7,3,3,5,6,7,7,10,2,4,4,3,2,9,3,1,8,7,10,3,6,0,5,0,8,8,7,5,4,0,7,8,8,5,9,3,10,6,2,6,4,7,8,8,7,2,4,7,7,5,3,4,4,6,0,2,4,8,4,2,5,5,2,4,3,4,10,7,5,5,6,4,3,4,2,6,6,3,2,5,1,5,1,8,5,8,4,2,3,2,2,4,2,4,2,4,2,3,2,4,4,5,4,5,2,3,5,2,3,5,3,2,5,2,3,2,2,8,4,3,3,2,6,4,2,3,6,4,3,5,5,4,3,3,1,5,3,4,4,3,3,5,8,5,2,4,3,4,4,7,2,4,5,4,4,6,1,4,2,5,4,8,4,2,6,9,10,3,8,3,2,5,6,4,2,6,2,6,7,7,3,7,2,9,5,3,3,7,4,3,3,4,1,8,6,1,1,6,3,8,3,7,5,10,1,3,7,4,3,4,3,0,2,4,1,4,2,2,6,5,3,9,7,4,5,7,0,5,10,6,3,3,8,8,3,5,8,4,6,8,6,4,4,10,2,8,9,4,3,9,9,4,7,3,3,8,7,7,6,8,4,4,3,10,2,2,4,4,9,4,3,2,5,4,6,9,1,9,9,9,7,4,5,6,10,2,3,1,7,9,4,3,4,9,6,9,8,6,4,4,2,4,4,9,3,4,3,3,10,4,4,8,9,8,3,2,4,6,7,7,5,10,9,9,3,5,6,10,1,4,3,4,5,3,6,3,3,2,2,3,4,3,1,1,4,5,4,5,1,5,6,3,4,2,4,4,7,4,7,3,6,3,3,5,6,6,2,2,6,7,4,0,10,5,7,4,7,2,1,6,7,4,5,4,3,2,3,1,10,9,5,5,5,3,8,8,9,5,4,3,9,1,3,4,10,9,7,8,8,6,5,4,3,8,10,10,9,3,4,4,7,5,9,8,7,1,4,8,4,7,5,9,6,10,7,3,7,6,8],\"xaxis\":\"x\",\"yaxis\":\"y\",\"type\":\"histogram\"},{\"alignmentgroup\":\"True\",\"hovertemplate\":\"variable=result<br>value=%{x}<extra></extra>\",\"legendgroup\":\"result\",\"marker\":{\"color\":\"#636efa\"},\"name\":\"result\",\"notched\":true,\"offsetgroup\":\"result\",\"showlegend\":false,\"x\":[6,5,8,6,2,9,2,5,6,8,10,6,6,4,4,6,5,2,3,3,3,0,5,2,5,3,1,1,1,4,0,7,4,10,10,1,6,6,7,8,7,2,3,4,8,7,5,4,3,6,3,10,1,8,10,9,8,9,3,5,8,7,0,5,9,3,2,6,4,1,5,3,6,6,6,7,3,8,4,2,5,3,10,4,2,3,8,1,4,9,4,4,5,8,8,4,4,4,3,1,3,2,3,5,4,0,6,7,5,3,9,6,3,4,8,7,8,6,9,7,9,9,1,7,9,7,0,6,5,4,3,3,3,5,5,6,5,2,3,2,4,2,3,4,1,8,9,10,7,8,2,7,4,5,4,3,4,4,4,3,0,2,1,3,6,5,4,4,6,8,6,4,4,2,3,6,9,6,5,4,4,5,6,4,5,7,4,4,8,5,9,5,3,2,3,9,10,9,7,4,9,6,7,9,3,10,10,7,6,8,9,5,6,4,5,8,4,4,7,2,3,1,6,8,9,4,9,1,5,10,3,2,3,4,2,2,6,2,3,2,5,6,4,5,6,4,5,6,2,8,3,4,2,2,3,4,5,4,5,5,3,5,3,0,4,7,3,3,5,6,7,7,10,2,4,4,3,2,9,3,1,8,7,10,3,6,0,5,0,8,8,7,5,4,0,7,8,8,5,9,3,10,6,2,6,4,7,8,8,7,2,4,7,7,5,3,4,4,6,0,2,4,8,4,2,5,5,2,4,3,4,10,7,5,5,6,4,3,4,2,6,6,3,2,5,1,5,1,8,5,8,4,2,3,2,2,4,2,4,2,4,2,3,2,4,4,5,4,5,2,3,5,2,3,5,3,2,5,2,3,2,2,8,4,3,3,2,6,4,2,3,6,4,3,5,5,4,3,3,1,5,3,4,4,3,3,5,8,5,2,4,3,4,4,7,2,4,5,4,4,6,1,4,2,5,4,8,4,2,6,9,10,3,8,3,2,5,6,4,2,6,2,6,7,7,3,7,2,9,5,3,3,7,4,3,3,4,1,8,6,1,1,6,3,8,3,7,5,10,1,3,7,4,3,4,3,0,2,4,1,4,2,2,6,5,3,9,7,4,5,7,0,5,10,6,3,3,8,8,3,5,8,4,6,8,6,4,4,10,2,8,9,4,3,9,9,4,7,3,3,8,7,7,6,8,4,4,3,10,2,2,4,4,9,4,3,2,5,4,6,9,1,9,9,9,7,4,5,6,10,2,3,1,7,9,4,3,4,9,6,9,8,6,4,4,2,4,4,9,3,4,3,3,10,4,4,8,9,8,3,2,4,6,7,7,5,10,9,9,3,5,6,10,1,4,3,4,5,3,6,3,3,2,2,3,4,3,1,1,4,5,4,5,1,5,6,3,4,2,4,4,7,4,7,3,6,3,3,5,6,6,2,2,6,7,4,0,10,5,7,4,7,2,1,6,7,4,5,4,3,2,3,1,10,9,5,5,5,3,8,8,9,5,4,3,9,1,3,4,10,9,7,8,8,6,5,4,3,8,10,10,9,3,4,4,7,5,9,8,7,1,4,8,4,7,5,9,6,10,7,3,7,6,8],\"xaxis\":\"x2\",\"yaxis\":\"y2\",\"type\":\"box\"}],                        {\"template\":{\"data\":{\"histogram2dcontour\":[{\"type\":\"histogram2dcontour\",\"colorbar\":{\"outlinewidth\":0,\"ticks\":\"\"},\"colorscale\":[[0.0,\"#0d0887\"],[0.1111111111111111,\"#46039f\"],[0.2222222222222222,\"#7201a8\"],[0.3333333333333333,\"#9c179e\"],[0.4444444444444444,\"#bd3786\"],[0.5555555555555556,\"#d8576b\"],[0.6666666666666666,\"#ed7953\"],[0.7777777777777778,\"#fb9f3a\"],[0.8888888888888888,\"#fdca26\"],[1.0,\"#f0f921\"]]}],\"choropleth\":[{\"type\":\"choropleth\",\"colorbar\":{\"outlinewidth\":0,\"ticks\":\"\"}}],\"histogram2d\":[{\"type\":\"histogram2d\",\"colorbar\":{\"outlinewidth\":0,\"ticks\":\"\"},\"colorscale\":[[0.0,\"#0d0887\"],[0.1111111111111111,\"#46039f\"],[0.2222222222222222,\"#7201a8\"],[0.3333333333333333,\"#9c179e\"],[0.4444444444444444,\"#bd3786\"],[0.5555555555555556,\"#d8576b\"],[0.6666666666666666,\"#ed7953\"],[0.7777777777777778,\"#fb9f3a\"],[0.8888888888888888,\"#fdca26\"],[1.0,\"#f0f921\"]]}],\"heatmap\":[{\"type\":\"heatmap\",\"colorbar\":{\"outlinewidth\":0,\"ticks\":\"\"},\"colorscale\":[[0.0,\"#0d0887\"],[0.1111111111111111,\"#46039f\"],[0.2222222222222222,\"#7201a8\"],[0.3333333333333333,\"#9c179e\"],[0.4444444444444444,\"#bd3786\"],[0.5555555555555556,\"#d8576b\"],[0.6666666666666666,\"#ed7953\"],[0.7777777777777778,\"#fb9f3a\"],[0.8888888888888888,\"#fdca26\"],[1.0,\"#f0f921\"]]}],\"heatmapgl\":[{\"type\":\"heatmapgl\",\"colorbar\":{\"outlinewidth\":0,\"ticks\":\"\"},\"colorscale\":[[0.0,\"#0d0887\"],[0.1111111111111111,\"#46039f\"],[0.2222222222222222,\"#7201a8\"],[0.3333333333333333,\"#9c179e\"],[0.4444444444444444,\"#bd3786\"],[0.5555555555555556,\"#d8576b\"],[0.6666666666666666,\"#ed7953\"],[0.7777777777777778,\"#fb9f3a\"],[0.8888888888888888,\"#fdca26\"],[1.0,\"#f0f921\"]]}],\"contourcarpet\":[{\"type\":\"contourcarpet\",\"colorbar\":{\"outlinewidth\":0,\"ticks\":\"\"}}],\"contour\":[{\"type\":\"contour\",\"colorbar\":{\"outlinewidth\":0,\"ticks\":\"\"},\"colorscale\":[[0.0,\"#0d0887\"],[0.1111111111111111,\"#46039f\"],[0.2222222222222222,\"#7201a8\"],[0.3333333333333333,\"#9c179e\"],[0.4444444444444444,\"#bd3786\"],[0.5555555555555556,\"#d8576b\"],[0.6666666666666666,\"#ed7953\"],[0.7777777777777778,\"#fb9f3a\"],[0.8888888888888888,\"#fdca26\"],[1.0,\"#f0f921\"]]}],\"surface\":[{\"type\":\"surface\",\"colorbar\":{\"outlinewidth\":0,\"ticks\":\"\"},\"colorscale\":[[0.0,\"#0d0887\"],[0.1111111111111111,\"#46039f\"],[0.2222222222222222,\"#7201a8\"],[0.3333333333333333,\"#9c179e\"],[0.4444444444444444,\"#bd3786\"],[0.5555555555555556,\"#d8576b\"],[0.6666666666666666,\"#ed7953\"],[0.7777777777777778,\"#fb9f3a\"],[0.8888888888888888,\"#fdca26\"],[1.0,\"#f0f921\"]]}],\"mesh3d\":[{\"type\":\"mesh3d\",\"colorbar\":{\"outlinewidth\":0,\"ticks\":\"\"}}],\"scatter\":[{\"fillpattern\":{\"fillmode\":\"overlay\",\"size\":10,\"solidity\":0.2},\"type\":\"scatter\"}],\"parcoords\":[{\"type\":\"parcoords\",\"line\":{\"colorbar\":{\"outlinewidth\":0,\"ticks\":\"\"}}}],\"scatterpolargl\":[{\"type\":\"scatterpolargl\",\"marker\":{\"colorbar\":{\"outlinewidth\":0,\"ticks\":\"\"}}}],\"bar\":[{\"error_x\":{\"color\":\"#2a3f5f\"},\"error_y\":{\"color\":\"#2a3f5f\"},\"marker\":{\"line\":{\"color\":\"#E5ECF6\",\"width\":0.5},\"pattern\":{\"fillmode\":\"overlay\",\"size\":10,\"solidity\":0.2}},\"type\":\"bar\"}],\"scattergeo\":[{\"type\":\"scattergeo\",\"marker\":{\"colorbar\":{\"outlinewidth\":0,\"ticks\":\"\"}}}],\"scatterpolar\":[{\"type\":\"scatterpolar\",\"marker\":{\"colorbar\":{\"outlinewidth\":0,\"ticks\":\"\"}}}],\"histogram\":[{\"marker\":{\"pattern\":{\"fillmode\":\"overlay\",\"size\":10,\"solidity\":0.2}},\"type\":\"histogram\"}],\"scattergl\":[{\"type\":\"scattergl\",\"marker\":{\"colorbar\":{\"outlinewidth\":0,\"ticks\":\"\"}}}],\"scatter3d\":[{\"type\":\"scatter3d\",\"line\":{\"colorbar\":{\"outlinewidth\":0,\"ticks\":\"\"}},\"marker\":{\"colorbar\":{\"outlinewidth\":0,\"ticks\":\"\"}}}],\"scattermapbox\":[{\"type\":\"scattermapbox\",\"marker\":{\"colorbar\":{\"outlinewidth\":0,\"ticks\":\"\"}}}],\"scatterternary\":[{\"type\":\"scatterternary\",\"marker\":{\"colorbar\":{\"outlinewidth\":0,\"ticks\":\"\"}}}],\"scattercarpet\":[{\"type\":\"scattercarpet\",\"marker\":{\"colorbar\":{\"outlinewidth\":0,\"ticks\":\"\"}}}],\"carpet\":[{\"aaxis\":{\"endlinecolor\":\"#2a3f5f\",\"gridcolor\":\"white\",\"linecolor\":\"white\",\"minorgridcolor\":\"white\",\"startlinecolor\":\"#2a3f5f\"},\"baxis\":{\"endlinecolor\":\"#2a3f5f\",\"gridcolor\":\"white\",\"linecolor\":\"white\",\"minorgridcolor\":\"white\",\"startlinecolor\":\"#2a3f5f\"},\"type\":\"carpet\"}],\"table\":[{\"cells\":{\"fill\":{\"color\":\"#EBF0F8\"},\"line\":{\"color\":\"white\"}},\"header\":{\"fill\":{\"color\":\"#C8D4E3\"},\"line\":{\"color\":\"white\"}},\"type\":\"table\"}],\"barpolar\":[{\"marker\":{\"line\":{\"color\":\"#E5ECF6\",\"width\":0.5},\"pattern\":{\"fillmode\":\"overlay\",\"size\":10,\"solidity\":0.2}},\"type\":\"barpolar\"}],\"pie\":[{\"automargin\":true,\"type\":\"pie\"}]},\"layout\":{\"autotypenumbers\":\"strict\",\"colorway\":[\"#636efa\",\"#EF553B\",\"#00cc96\",\"#ab63fa\",\"#FFA15A\",\"#19d3f3\",\"#FF6692\",\"#B6E880\",\"#FF97FF\",\"#FECB52\"],\"font\":{\"color\":\"#2a3f5f\"},\"hovermode\":\"closest\",\"hoverlabel\":{\"align\":\"left\"},\"paper_bgcolor\":\"white\",\"plot_bgcolor\":\"#E5ECF6\",\"polar\":{\"bgcolor\":\"#E5ECF6\",\"angularaxis\":{\"gridcolor\":\"white\",\"linecolor\":\"white\",\"ticks\":\"\"},\"radialaxis\":{\"gridcolor\":\"white\",\"linecolor\":\"white\",\"ticks\":\"\"}},\"ternary\":{\"bgcolor\":\"#E5ECF6\",\"aaxis\":{\"gridcolor\":\"white\",\"linecolor\":\"white\",\"ticks\":\"\"},\"baxis\":{\"gridcolor\":\"white\",\"linecolor\":\"white\",\"ticks\":\"\"},\"caxis\":{\"gridcolor\":\"white\",\"linecolor\":\"white\",\"ticks\":\"\"}},\"coloraxis\":{\"colorbar\":{\"outlinewidth\":0,\"ticks\":\"\"}},\"colorscale\":{\"sequential\":[[0.0,\"#0d0887\"],[0.1111111111111111,\"#46039f\"],[0.2222222222222222,\"#7201a8\"],[0.3333333333333333,\"#9c179e\"],[0.4444444444444444,\"#bd3786\"],[0.5555555555555556,\"#d8576b\"],[0.6666666666666666,\"#ed7953\"],[0.7777777777777778,\"#fb9f3a\"],[0.8888888888888888,\"#fdca26\"],[1.0,\"#f0f921\"]],\"sequentialminus\":[[0.0,\"#0d0887\"],[0.1111111111111111,\"#46039f\"],[0.2222222222222222,\"#7201a8\"],[0.3333333333333333,\"#9c179e\"],[0.4444444444444444,\"#bd3786\"],[0.5555555555555556,\"#d8576b\"],[0.6666666666666666,\"#ed7953\"],[0.7777777777777778,\"#fb9f3a\"],[0.8888888888888888,\"#fdca26\"],[1.0,\"#f0f921\"]],\"diverging\":[[0,\"#8e0152\"],[0.1,\"#c51b7d\"],[0.2,\"#de77ae\"],[0.3,\"#f1b6da\"],[0.4,\"#fde0ef\"],[0.5,\"#f7f7f7\"],[0.6,\"#e6f5d0\"],[0.7,\"#b8e186\"],[0.8,\"#7fbc41\"],[0.9,\"#4d9221\"],[1,\"#276419\"]]},\"xaxis\":{\"gridcolor\":\"white\",\"linecolor\":\"white\",\"ticks\":\"\",\"title\":{\"standoff\":15},\"zerolinecolor\":\"white\",\"automargin\":true,\"zerolinewidth\":2},\"yaxis\":{\"gridcolor\":\"white\",\"linecolor\":\"white\",\"ticks\":\"\",\"title\":{\"standoff\":15},\"zerolinecolor\":\"white\",\"automargin\":true,\"zerolinewidth\":2},\"scene\":{\"xaxis\":{\"backgroundcolor\":\"#E5ECF6\",\"gridcolor\":\"white\",\"linecolor\":\"white\",\"showbackground\":true,\"ticks\":\"\",\"zerolinecolor\":\"white\",\"gridwidth\":2},\"yaxis\":{\"backgroundcolor\":\"#E5ECF6\",\"gridcolor\":\"white\",\"linecolor\":\"white\",\"showbackground\":true,\"ticks\":\"\",\"zerolinecolor\":\"white\",\"gridwidth\":2},\"zaxis\":{\"backgroundcolor\":\"#E5ECF6\",\"gridcolor\":\"white\",\"linecolor\":\"white\",\"showbackground\":true,\"ticks\":\"\",\"zerolinecolor\":\"white\",\"gridwidth\":2}},\"shapedefaults\":{\"line\":{\"color\":\"#2a3f5f\"}},\"annotationdefaults\":{\"arrowcolor\":\"#2a3f5f\",\"arrowhead\":0,\"arrowwidth\":1},\"geo\":{\"bgcolor\":\"white\",\"landcolor\":\"#E5ECF6\",\"subunitcolor\":\"white\",\"showland\":true,\"showlakes\":true,\"lakecolor\":\"white\"},\"title\":{\"x\":0.05},\"mapbox\":{\"style\":\"light\"}}},\"xaxis\":{\"anchor\":\"y\",\"domain\":[0.0,1.0],\"title\":{\"text\":\"value\"}},\"yaxis\":{\"anchor\":\"x\",\"domain\":[0.0,0.7326],\"title\":{\"text\":\"count\"}},\"xaxis2\":{\"anchor\":\"y2\",\"domain\":[0.0,1.0],\"matches\":\"x\",\"showticklabels\":false,\"showgrid\":true},\"yaxis2\":{\"anchor\":\"x2\",\"domain\":[0.7426,1.0],\"matches\":\"y2\",\"showticklabels\":false,\"showline\":false,\"ticks\":\"\",\"showgrid\":false},\"legend\":{\"title\":{\"text\":\"variable\"},\"tracegroupgap\":0},\"margin\":{\"t\":60},\"barmode\":\"relative\"},                        {\"responsive\": true}                    ).then(function(){\n",
       "                            \n",
       "var gd = document.getElementById('9343c0a1-b96c-47ce-9bb1-0860f0956a6e');\n",
       "var x = new MutationObserver(function (mutations, observer) {{\n",
       "        var display = window.getComputedStyle(gd).display;\n",
       "        if (!display || display === 'none') {{\n",
       "            console.log([gd, 'removed!']);\n",
       "            Plotly.purge(gd);\n",
       "            observer.disconnect();\n",
       "        }}\n",
       "}});\n",
       "\n",
       "// Listen for the removal of the full notebook cells\n",
       "var notebookContainer = gd.closest('#notebook-container');\n",
       "if (notebookContainer) {{\n",
       "    x.observe(notebookContainer, {childList: true});\n",
       "}}\n",
       "\n",
       "// Listen for the clearing of the current output cell\n",
       "var outputEl = gd.closest('.output');\n",
       "if (outputEl) {{\n",
       "    x.observe(outputEl, {childList: true});\n",
       "}}\n",
       "\n",
       "                        })                };                });            </script>        </div>"
      ]
     },
     "metadata": {},
     "output_type": "display_data"
    }
   ],
   "source": [
    "px.histogram(data.result, marginal='box')"
   ]
  },
  {
   "cell_type": "code",
   "execution_count": 18,
   "id": "ac65a4b5",
   "metadata": {},
   "outputs": [
    {
     "data": {
      "text/plain": [
       "ShapiroResult(statistic=0.9574432373046875, pvalue=2.0908979842665376e-13)"
      ]
     },
     "execution_count": 18,
     "metadata": {},
     "output_type": "execute_result"
    }
   ],
   "source": [
    "stat.shapiro(data.result)"
   ]
  },
  {
   "cell_type": "code",
   "execution_count": 19,
   "id": "6ab48ded",
   "metadata": {},
   "outputs": [],
   "source": [
    "gfg_data = np.random.randn(500)"
   ]
  },
  {
   "cell_type": "code",
   "execution_count": 20,
   "id": "52be662e",
   "metadata": {},
   "outputs": [
    {
     "ename": "SyntaxError",
     "evalue": "invalid syntax (3823492373.py, line 1)",
     "output_type": "error",
     "traceback": [
      "\u001b[1;36m  Cell \u001b[1;32mIn[20], line 1\u001b[1;36m\u001b[0m\n\u001b[1;33m    px.\u001b[0m\n\u001b[1;37m       ^\u001b[0m\n\u001b[1;31mSyntaxError\u001b[0m\u001b[1;31m:\u001b[0m invalid syntax\n"
     ]
    }
   ],
   "source": [
    "px."
   ]
  },
  {
   "cell_type": "code",
   "execution_count": 39,
   "id": "2981d5eb",
   "metadata": {},
   "outputs": [
    {
     "data": {
      "application/vnd.plotly.v1+json": {
       "config": {
        "plotlyServerURL": "https://plot.ly"
       },
       "data": [
        {
         "alignmentgroup": "True",
         "bingroup": "x",
         "hovertemplate": "variable=0<br>value=%{x}<br>count=%{y}<extra></extra>",
         "legendgroup": "0",
         "marker": {
          "color": "#636efa",
          "pattern": {
           "shape": ""
          }
         },
         "name": "0",
         "offsetgroup": "0",
         "orientation": "v",
         "showlegend": true,
         "type": "histogram",
         "x": [
          0.6761480309713775,
          -1.2522311615141941,
          -1.3828626106036734,
          2.063829450801849,
          -1.5776707728771238,
          0.15373200743692245,
          -0.015616346984283788,
          1.0003084598866638,
          -0.6885126389162531,
          1.8095062465442184,
          1.0780502714196305,
          0.14059361591646843,
          0.1950975010522625,
          -0.9032863077447809,
          -0.47157879713915973,
          -0.3720347212531457,
          0.14750202389542588,
          0.22439565553763502,
          1.7325913972824474,
          -1.8350279681913926,
          0.4742214711864466,
          -0.9193263934213193,
          0.011319159194004558,
          0.4615756415887791,
          1.0750464085225764,
          -1.0078236948367882,
          0.8407732730941871,
          -1.3986823656428131,
          -1.2473851421507993,
          0.5165312301045675,
          1.2829732915642507,
          -1.4417619043324446,
          1.8790893496669874,
          -0.291731715689542,
          1.1963185710306994,
          -1.6509807070435818,
          0.050394513029653906,
          0.7376881939430981,
          -1.2817411154059237,
          -0.4956283875824967,
          -0.8414834579248335,
          -0.2668688828710928,
          -0.43193536356778023,
          -0.5280459406301071,
          1.9881832802809472,
          -1.6545324037705573,
          -1.6508561057401614,
          0.39068701498326724,
          0.1940777961234117,
          -0.1411864494991155,
          0.9697873626500809,
          0.4050356283622795,
          0.5662732047520735,
          0.05208196094415583,
          -1.0626115970041576,
          -0.3563035125568077,
          -0.055367540295915035,
          1.2869751710569648,
          0.04953681100056772,
          0.1534980312125068,
          1.6729162323139197,
          -1.342607343403157,
          0.14803446110932128,
          -1.4895751052227273,
          0.09499443104317357,
          -1.3672187059445127,
          -0.05696013446445127,
          -0.871765057453143,
          0.9384834537100487,
          -0.5997938215123599,
          1.2524454424218066,
          1.791170876608718,
          -1.3239651926709757,
          1.1872359836932094,
          -0.039841971967798144,
          0.009308239035176281,
          -1.472845884930524,
          1.3865318190540725,
          0.8253948894875562,
          -0.7559880484610519,
          -1.6578256643718063,
          -0.8789185288416127,
          1.1059482410665735,
          -0.44065701827538234,
          0.24125761695636705,
          0.9466124375208682,
          -0.5920366762509868,
          0.01153956774395512,
          -0.09078731312816969,
          1.2103430793284498,
          -0.44034081301060846,
          -0.30288543336166884,
          -0.8913224361101261,
          -0.24001648350651508,
          1.6255409459452126,
          -0.8785685181765068,
          -0.5681564967659629,
          1.3629067061878628,
          -0.3408524643015021,
          -0.012209607178712657,
          -1.4374101944801738,
          -0.39904196306950956,
          -0.2674272915636613,
          0.4260909515037006,
          -0.19797184929647893,
          0.6445615964502589,
          0.7568931685091463,
          0.42281362116208726,
          -0.5214527078042311,
          0.8935207557309887,
          -0.5837523378903132,
          1.6588971659483585,
          -0.30300186628978354,
          1.359630157493975,
          -0.29694109276147,
          -0.4998370567748632,
          0.9549960454119613,
          -0.6899763528155817,
          -0.5943498546284607,
          0.5871114202571884,
          1.125659721361175,
          -1.4730375088847971,
          1.008897303894216,
          -0.11623322538550887,
          0.5725323432644115,
          -0.912899134640691,
          -0.34078791880080556,
          -0.9532279102389642,
          0.3095716726464081,
          0.14881259801421096,
          -1.9740992394815366,
          -1.3770370679202886,
          1.2823850300752333,
          -0.7178328549457013,
          1.5216375923056147,
          -0.5729003597437351,
          2.079870880037065,
          -0.31320888003244374,
          -0.6773887373687962,
          1.095552247120118,
          -0.34656658281933744,
          0.5298816757951603,
          0.007335753983718655,
          0.557520688390767,
          -0.544369994310621,
          -0.1416998250836616,
          1.1318213207118388,
          -0.9216674905191533,
          0.5984502264211786,
          -0.9035242618267827,
          -0.5930971826825046,
          0.10549583793247322,
          -0.05065896792883221,
          -1.1905388155277323,
          -0.42613601428885056,
          0.3971275841942331,
          0.6045663152174181,
          -0.5017649395123313,
          0.3225598742451886,
          0.4410471530352938,
          0.35872130265810903,
          -0.27793201033178283,
          0.7776294701448858,
          1.8598743728525224,
          -2.1340754178212546,
          -0.43158781685419867,
          -0.589295937696364,
          0.627390601712246,
          -2.580480470033539,
          -1.251649550690876,
          -1.6599912334427864,
          -0.5304056075860393,
          0.490117584660601,
          -1.084215757346294,
          -0.10110043624228181,
          -0.4937673862766039,
          0.39153685392780235,
          0.08734770430337964,
          -2.384512768351024,
          -0.1349302439963475,
          0.472433002772655,
          -1.2564825581641894,
          -1.2861200250302958,
          0.024939311251241422,
          -0.4012903892690158,
          0.21042985059365255,
          -1.4583825233668113,
          -1.4740599675488097,
          -2.0164757155931046,
          -0.8869018911059432,
          0.18845416970813533,
          0.2937416416221202,
          -2.2015995696444,
          -2.204416406707263,
          0.8432712931160399,
          -0.05328049123441707,
          0.14361426224391063,
          0.562731126583273,
          0.26805959949846775,
          0.6936614548588208,
          2.060001896666015,
          -0.806170602902083,
          -1.370285442488808,
          -0.7207458032390867,
          -0.4536548393603361,
          -1.0321606462505863,
          -1.2695235346393452,
          -0.316826505710626,
          0.609564118695766,
          -0.46053289492778704,
          0.9950275836743426,
          -0.6637403058295942,
          -0.5623416507345638,
          0.6779137917298559,
          -0.8025308971140824,
          -0.5777919349980536,
          0.9900366382357045,
          0.6508590911208907,
          -1.2040962656654774,
          0.8111899501878348,
          -0.45646621834906004,
          1.698910832150123,
          1.3414498302429152,
          -0.35648469845212444,
          1.0053929830115274,
          0.3448410562176736,
          0.6272500010778066,
          -1.3579177032239873,
          -1.70740956938068,
          -0.5104563741146925,
          1.1106607465262996,
          -0.05073128240059175,
          1.1287916601470107,
          -1.1750153209195542,
          -0.5992445813733219,
          0.5856720636328201,
          -0.2695420729267933,
          -1.3595482680802398,
          0.7580244613097584,
          -0.7885009669339441,
          -0.09795534158979088,
          0.4962411005111939,
          0.4515707857875801,
          0.798638447154173,
          0.23356122700132953,
          0.5259318394529475,
          0.5078052803337936,
          0.11590501489867751,
          -0.10896279366617981,
          -0.12449937782842838,
          0.5014097465382804,
          0.31892329487171145,
          0.6027372218144903,
          -0.11603513165501647,
          0.7908784960625393,
          -1.9411780617709136,
          -0.28849100543936046,
          -1.1104604669306468,
          -1.0454269199710087,
          -0.4030510324843734,
          -0.13646652717053187,
          -0.3518608858233473,
          -1.2545977271035198,
          -1.1378872457426796,
          0.4785510141258764,
          -0.47197659398498515,
          -1.433132639750229,
          -0.7625552568524022,
          0.20867173666335093,
          -1.5101544723226787,
          1.0348778921631494,
          -1.2208981746139127,
          -0.29244973399266805,
          -0.3572861267752038,
          -0.4709830997504486,
          0.04459976853898152,
          0.31878592991778193,
          -0.059468235312558786,
          0.8970156116294566,
          1.802181457130104,
          -0.8147886346370906,
          -2.327793409237417,
          0.45635102609780587,
          -0.36191091044201834,
          -0.2486860277776126,
          0.42435531627336676,
          -0.5667085096404347,
          -1.0325997731763221,
          0.03134611924377243,
          -1.1405641647831428,
          1.8636650316246555,
          0.2973161605883501,
          -0.48261979531092564,
          0.6282922206562839,
          -1.2295201384361514,
          2.453670421173738,
          0.1933548978490473,
          1.8668834141738488,
          0.2713490562520979,
          -0.5593496975846638,
          -0.6293528537524072,
          1.1571258611847246,
          -0.8724672054390934,
          -1.3022037459569102,
          -0.5016054815872477,
          0.6421718079359382,
          0.5528918542225634,
          -0.5453412029487453,
          -0.3071581154725144,
          0.3128785365042719,
          0.7388460911234843,
          -0.9438896330752319,
          0.6530324313511688,
          0.23966912707543783,
          -0.6646919642541331,
          -0.1926755005304119,
          -0.3024628428750699,
          0.3102917428420361,
          1.5118445995964405,
          -0.9093839523388517,
          -0.37680703231631096,
          0.5372792953409022,
          0.33844312112565306,
          1.5689791719316508,
          -1.1381294491271332,
          -0.7049872700133349,
          -0.9023321955319099,
          -0.28871119991794825,
          1.9540932043849695,
          -0.5191637559523791,
          0.9303091323477894,
          -0.05177016461436616,
          0.964083725622432,
          1.2548350557754417,
          -1.0342758071664024,
          0.1488988683776006,
          0.7387662893960741,
          1.811093047534514,
          1.7849632509128834,
          -0.5904151033743631,
          -0.8984205059435891,
          -0.6614175939070297,
          0.2937954575203021,
          1.2016111171317965,
          -2.547144827987032,
          0.5182247853839301,
          0.721269596084291,
          0.20769220200309746,
          -0.2993452959079256,
          1.2712654222421345,
          -0.10040845795233862,
          -0.7597588946545264,
          0.30631886617174464,
          -0.19935288534337714,
          1.1606109855162794,
          -0.25317036632006257,
          1.2328661095702833,
          1.040008952443909,
          -0.6821824469104486,
          0.4563620793195608,
          -0.9517680398552791,
          0.2138957470540214,
          -0.29054821884385007,
          0.4608739184053511,
          1.76008665439641,
          -0.3570069353810899,
          0.832918784834317,
          -0.5629625854335057,
          0.666633839857868,
          0.5930241861056743,
          0.03226124195379069,
          -0.5137489598402247,
          -0.615364885937653,
          -1.7098772175314745,
          0.8066712344649559,
          -0.7575212340792717,
          0.3771125083502631,
          -0.2863134618518798,
          -0.4112168061493376,
          1.4076481889542714,
          0.8984130236704556,
          -0.8563333550652573,
          -1.0042235602300056,
          -1.29896191169737,
          -1.0598699420826971,
          0.5797308981245121,
          1.4417992639853883,
          -0.8761094622837571,
          0.15962759002845153,
          -0.32047760958006183,
          1.7701770239175048,
          -0.41520720316399046,
          -0.607007987518003,
          1.946686597310858,
          0.898052809407454,
          -1.7346583362023178,
          1.1367351380979878,
          -0.009210765573590053,
          -0.22787204865037888,
          -0.44479253210649683,
          -1.0726931553207357,
          -0.23037203469967887,
          0.5350238293758117,
          0.8010364660252486,
          0.26841884170460334,
          0.4300661658022325,
          0.6370364335192611,
          1.1780213139775029,
          0.07223419703132784,
          0.6035323204598693,
          -0.020005774532954473,
          2.683931551341664,
          1.0217496460261313,
          -0.4221996063380058,
          1.3137032517625231,
          -0.6671546810810833,
          0.6617914800433613,
          0.04875051589081819,
          0.594904480443435,
          0.25061696798340294,
          0.7168299289664547,
          0.7524597410752012,
          2.0441471540556093,
          0.37380715337571696,
          1.0762044137482099,
          -0.6034896533905587,
          0.6257796392177883,
          -1.784258170322376,
          0.8008075791529473,
          0.7792901209786319,
          0.5572461473735668,
          -0.4115061481373663,
          -0.2773965791952423,
          -0.4365341939735098,
          -0.05490523655620974,
          0.8942196963622508,
          1.8659825079691734,
          -1.1122242666295161,
          0.4947290722833422,
          0.5747319261297602,
          0.056597898364975384,
          0.24957789331813357,
          1.0010800492960512,
          0.9725932441249538,
          -0.3892128240955594,
          -0.8121836919568256,
          2.147115692539768,
          -1.9292089734946347,
          0.7099003271311425,
          -0.27389833748397036,
          -1.5841955077587977,
          -1.8653832540377833,
          0.9452677230512936,
          -0.5947366601364512,
          -0.117892949121456,
          0.08745956897682682,
          -0.6486980316996374,
          -1.3455566055952912,
          -0.254286712343192,
          1.5530104896064825,
          0.5466807696851933,
          0.570215842243945,
          -0.046062982272026584,
          1.085050321812845,
          -1.0738511550175156,
          0.4703507917474505,
          1.0148413176339244,
          -0.28513293091748526,
          0.4656735903129985,
          1.5596527296784841,
          2.35361064830474,
          -0.10175387429284315,
          0.6614486218288778,
          -0.6553626643128939,
          -0.1425871830637268,
          1.2289424771057453,
          0.6005060557590187,
          1.0593456873953107,
          2.053334864809258,
          -0.7141356684058298,
          -0.4415371100018338,
          -0.9039719852761545,
          1.4200838664671758,
          -0.8748745200492789,
          -0.8445623142261846,
          0.26013597924927634,
          -0.7297196213105049,
          0.7571316647361054,
          1.722708871556025,
          -1.4299462720424874,
          -1.3380413536661004,
          1.174719580565489,
          -1.2134486762696022,
          0.12228162917067295,
          0.6362187965677143,
          -0.07214508813834593,
          -0.41671114277488636,
          0.3838766158105074,
          -0.1957178006389843,
          0.09133838159264172
         ],
         "xaxis": "x",
         "yaxis": "y"
        }
       ],
       "layout": {
        "barmode": "relative",
        "legend": {
         "title": {
          "text": "variable"
         },
         "tracegroupgap": 0
        },
        "margin": {
         "t": 60
        },
        "template": {
         "data": {
          "bar": [
           {
            "error_x": {
             "color": "#2a3f5f"
            },
            "error_y": {
             "color": "#2a3f5f"
            },
            "marker": {
             "line": {
              "color": "#E5ECF6",
              "width": 0.5
             },
             "pattern": {
              "fillmode": "overlay",
              "size": 10,
              "solidity": 0.2
             }
            },
            "type": "bar"
           }
          ],
          "barpolar": [
           {
            "marker": {
             "line": {
              "color": "#E5ECF6",
              "width": 0.5
             },
             "pattern": {
              "fillmode": "overlay",
              "size": 10,
              "solidity": 0.2
             }
            },
            "type": "barpolar"
           }
          ],
          "carpet": [
           {
            "aaxis": {
             "endlinecolor": "#2a3f5f",
             "gridcolor": "white",
             "linecolor": "white",
             "minorgridcolor": "white",
             "startlinecolor": "#2a3f5f"
            },
            "baxis": {
             "endlinecolor": "#2a3f5f",
             "gridcolor": "white",
             "linecolor": "white",
             "minorgridcolor": "white",
             "startlinecolor": "#2a3f5f"
            },
            "type": "carpet"
           }
          ],
          "choropleth": [
           {
            "colorbar": {
             "outlinewidth": 0,
             "ticks": ""
            },
            "type": "choropleth"
           }
          ],
          "contour": [
           {
            "colorbar": {
             "outlinewidth": 0,
             "ticks": ""
            },
            "colorscale": [
             [
              0,
              "#0d0887"
             ],
             [
              0.1111111111111111,
              "#46039f"
             ],
             [
              0.2222222222222222,
              "#7201a8"
             ],
             [
              0.3333333333333333,
              "#9c179e"
             ],
             [
              0.4444444444444444,
              "#bd3786"
             ],
             [
              0.5555555555555556,
              "#d8576b"
             ],
             [
              0.6666666666666666,
              "#ed7953"
             ],
             [
              0.7777777777777778,
              "#fb9f3a"
             ],
             [
              0.8888888888888888,
              "#fdca26"
             ],
             [
              1,
              "#f0f921"
             ]
            ],
            "type": "contour"
           }
          ],
          "contourcarpet": [
           {
            "colorbar": {
             "outlinewidth": 0,
             "ticks": ""
            },
            "type": "contourcarpet"
           }
          ],
          "heatmap": [
           {
            "colorbar": {
             "outlinewidth": 0,
             "ticks": ""
            },
            "colorscale": [
             [
              0,
              "#0d0887"
             ],
             [
              0.1111111111111111,
              "#46039f"
             ],
             [
              0.2222222222222222,
              "#7201a8"
             ],
             [
              0.3333333333333333,
              "#9c179e"
             ],
             [
              0.4444444444444444,
              "#bd3786"
             ],
             [
              0.5555555555555556,
              "#d8576b"
             ],
             [
              0.6666666666666666,
              "#ed7953"
             ],
             [
              0.7777777777777778,
              "#fb9f3a"
             ],
             [
              0.8888888888888888,
              "#fdca26"
             ],
             [
              1,
              "#f0f921"
             ]
            ],
            "type": "heatmap"
           }
          ],
          "heatmapgl": [
           {
            "colorbar": {
             "outlinewidth": 0,
             "ticks": ""
            },
            "colorscale": [
             [
              0,
              "#0d0887"
             ],
             [
              0.1111111111111111,
              "#46039f"
             ],
             [
              0.2222222222222222,
              "#7201a8"
             ],
             [
              0.3333333333333333,
              "#9c179e"
             ],
             [
              0.4444444444444444,
              "#bd3786"
             ],
             [
              0.5555555555555556,
              "#d8576b"
             ],
             [
              0.6666666666666666,
              "#ed7953"
             ],
             [
              0.7777777777777778,
              "#fb9f3a"
             ],
             [
              0.8888888888888888,
              "#fdca26"
             ],
             [
              1,
              "#f0f921"
             ]
            ],
            "type": "heatmapgl"
           }
          ],
          "histogram": [
           {
            "marker": {
             "pattern": {
              "fillmode": "overlay",
              "size": 10,
              "solidity": 0.2
             }
            },
            "type": "histogram"
           }
          ],
          "histogram2d": [
           {
            "colorbar": {
             "outlinewidth": 0,
             "ticks": ""
            },
            "colorscale": [
             [
              0,
              "#0d0887"
             ],
             [
              0.1111111111111111,
              "#46039f"
             ],
             [
              0.2222222222222222,
              "#7201a8"
             ],
             [
              0.3333333333333333,
              "#9c179e"
             ],
             [
              0.4444444444444444,
              "#bd3786"
             ],
             [
              0.5555555555555556,
              "#d8576b"
             ],
             [
              0.6666666666666666,
              "#ed7953"
             ],
             [
              0.7777777777777778,
              "#fb9f3a"
             ],
             [
              0.8888888888888888,
              "#fdca26"
             ],
             [
              1,
              "#f0f921"
             ]
            ],
            "type": "histogram2d"
           }
          ],
          "histogram2dcontour": [
           {
            "colorbar": {
             "outlinewidth": 0,
             "ticks": ""
            },
            "colorscale": [
             [
              0,
              "#0d0887"
             ],
             [
              0.1111111111111111,
              "#46039f"
             ],
             [
              0.2222222222222222,
              "#7201a8"
             ],
             [
              0.3333333333333333,
              "#9c179e"
             ],
             [
              0.4444444444444444,
              "#bd3786"
             ],
             [
              0.5555555555555556,
              "#d8576b"
             ],
             [
              0.6666666666666666,
              "#ed7953"
             ],
             [
              0.7777777777777778,
              "#fb9f3a"
             ],
             [
              0.8888888888888888,
              "#fdca26"
             ],
             [
              1,
              "#f0f921"
             ]
            ],
            "type": "histogram2dcontour"
           }
          ],
          "mesh3d": [
           {
            "colorbar": {
             "outlinewidth": 0,
             "ticks": ""
            },
            "type": "mesh3d"
           }
          ],
          "parcoords": [
           {
            "line": {
             "colorbar": {
              "outlinewidth": 0,
              "ticks": ""
             }
            },
            "type": "parcoords"
           }
          ],
          "pie": [
           {
            "automargin": true,
            "type": "pie"
           }
          ],
          "scatter": [
           {
            "fillpattern": {
             "fillmode": "overlay",
             "size": 10,
             "solidity": 0.2
            },
            "type": "scatter"
           }
          ],
          "scatter3d": [
           {
            "line": {
             "colorbar": {
              "outlinewidth": 0,
              "ticks": ""
             }
            },
            "marker": {
             "colorbar": {
              "outlinewidth": 0,
              "ticks": ""
             }
            },
            "type": "scatter3d"
           }
          ],
          "scattercarpet": [
           {
            "marker": {
             "colorbar": {
              "outlinewidth": 0,
              "ticks": ""
             }
            },
            "type": "scattercarpet"
           }
          ],
          "scattergeo": [
           {
            "marker": {
             "colorbar": {
              "outlinewidth": 0,
              "ticks": ""
             }
            },
            "type": "scattergeo"
           }
          ],
          "scattergl": [
           {
            "marker": {
             "colorbar": {
              "outlinewidth": 0,
              "ticks": ""
             }
            },
            "type": "scattergl"
           }
          ],
          "scattermapbox": [
           {
            "marker": {
             "colorbar": {
              "outlinewidth": 0,
              "ticks": ""
             }
            },
            "type": "scattermapbox"
           }
          ],
          "scatterpolar": [
           {
            "marker": {
             "colorbar": {
              "outlinewidth": 0,
              "ticks": ""
             }
            },
            "type": "scatterpolar"
           }
          ],
          "scatterpolargl": [
           {
            "marker": {
             "colorbar": {
              "outlinewidth": 0,
              "ticks": ""
             }
            },
            "type": "scatterpolargl"
           }
          ],
          "scatterternary": [
           {
            "marker": {
             "colorbar": {
              "outlinewidth": 0,
              "ticks": ""
             }
            },
            "type": "scatterternary"
           }
          ],
          "surface": [
           {
            "colorbar": {
             "outlinewidth": 0,
             "ticks": ""
            },
            "colorscale": [
             [
              0,
              "#0d0887"
             ],
             [
              0.1111111111111111,
              "#46039f"
             ],
             [
              0.2222222222222222,
              "#7201a8"
             ],
             [
              0.3333333333333333,
              "#9c179e"
             ],
             [
              0.4444444444444444,
              "#bd3786"
             ],
             [
              0.5555555555555556,
              "#d8576b"
             ],
             [
              0.6666666666666666,
              "#ed7953"
             ],
             [
              0.7777777777777778,
              "#fb9f3a"
             ],
             [
              0.8888888888888888,
              "#fdca26"
             ],
             [
              1,
              "#f0f921"
             ]
            ],
            "type": "surface"
           }
          ],
          "table": [
           {
            "cells": {
             "fill": {
              "color": "#EBF0F8"
             },
             "line": {
              "color": "white"
             }
            },
            "header": {
             "fill": {
              "color": "#C8D4E3"
             },
             "line": {
              "color": "white"
             }
            },
            "type": "table"
           }
          ]
         },
         "layout": {
          "annotationdefaults": {
           "arrowcolor": "#2a3f5f",
           "arrowhead": 0,
           "arrowwidth": 1
          },
          "autotypenumbers": "strict",
          "coloraxis": {
           "colorbar": {
            "outlinewidth": 0,
            "ticks": ""
           }
          },
          "colorscale": {
           "diverging": [
            [
             0,
             "#8e0152"
            ],
            [
             0.1,
             "#c51b7d"
            ],
            [
             0.2,
             "#de77ae"
            ],
            [
             0.3,
             "#f1b6da"
            ],
            [
             0.4,
             "#fde0ef"
            ],
            [
             0.5,
             "#f7f7f7"
            ],
            [
             0.6,
             "#e6f5d0"
            ],
            [
             0.7,
             "#b8e186"
            ],
            [
             0.8,
             "#7fbc41"
            ],
            [
             0.9,
             "#4d9221"
            ],
            [
             1,
             "#276419"
            ]
           ],
           "sequential": [
            [
             0,
             "#0d0887"
            ],
            [
             0.1111111111111111,
             "#46039f"
            ],
            [
             0.2222222222222222,
             "#7201a8"
            ],
            [
             0.3333333333333333,
             "#9c179e"
            ],
            [
             0.4444444444444444,
             "#bd3786"
            ],
            [
             0.5555555555555556,
             "#d8576b"
            ],
            [
             0.6666666666666666,
             "#ed7953"
            ],
            [
             0.7777777777777778,
             "#fb9f3a"
            ],
            [
             0.8888888888888888,
             "#fdca26"
            ],
            [
             1,
             "#f0f921"
            ]
           ],
           "sequentialminus": [
            [
             0,
             "#0d0887"
            ],
            [
             0.1111111111111111,
             "#46039f"
            ],
            [
             0.2222222222222222,
             "#7201a8"
            ],
            [
             0.3333333333333333,
             "#9c179e"
            ],
            [
             0.4444444444444444,
             "#bd3786"
            ],
            [
             0.5555555555555556,
             "#d8576b"
            ],
            [
             0.6666666666666666,
             "#ed7953"
            ],
            [
             0.7777777777777778,
             "#fb9f3a"
            ],
            [
             0.8888888888888888,
             "#fdca26"
            ],
            [
             1,
             "#f0f921"
            ]
           ]
          },
          "colorway": [
           "#636efa",
           "#EF553B",
           "#00cc96",
           "#ab63fa",
           "#FFA15A",
           "#19d3f3",
           "#FF6692",
           "#B6E880",
           "#FF97FF",
           "#FECB52"
          ],
          "font": {
           "color": "#2a3f5f"
          },
          "geo": {
           "bgcolor": "white",
           "lakecolor": "white",
           "landcolor": "#E5ECF6",
           "showlakes": true,
           "showland": true,
           "subunitcolor": "white"
          },
          "hoverlabel": {
           "align": "left"
          },
          "hovermode": "closest",
          "mapbox": {
           "style": "light"
          },
          "paper_bgcolor": "white",
          "plot_bgcolor": "#E5ECF6",
          "polar": {
           "angularaxis": {
            "gridcolor": "white",
            "linecolor": "white",
            "ticks": ""
           },
           "bgcolor": "#E5ECF6",
           "radialaxis": {
            "gridcolor": "white",
            "linecolor": "white",
            "ticks": ""
           }
          },
          "scene": {
           "xaxis": {
            "backgroundcolor": "#E5ECF6",
            "gridcolor": "white",
            "gridwidth": 2,
            "linecolor": "white",
            "showbackground": true,
            "ticks": "",
            "zerolinecolor": "white"
           },
           "yaxis": {
            "backgroundcolor": "#E5ECF6",
            "gridcolor": "white",
            "gridwidth": 2,
            "linecolor": "white",
            "showbackground": true,
            "ticks": "",
            "zerolinecolor": "white"
           },
           "zaxis": {
            "backgroundcolor": "#E5ECF6",
            "gridcolor": "white",
            "gridwidth": 2,
            "linecolor": "white",
            "showbackground": true,
            "ticks": "",
            "zerolinecolor": "white"
           }
          },
          "shapedefaults": {
           "line": {
            "color": "#2a3f5f"
           }
          },
          "ternary": {
           "aaxis": {
            "gridcolor": "white",
            "linecolor": "white",
            "ticks": ""
           },
           "baxis": {
            "gridcolor": "white",
            "linecolor": "white",
            "ticks": ""
           },
           "bgcolor": "#E5ECF6",
           "caxis": {
            "gridcolor": "white",
            "linecolor": "white",
            "ticks": ""
           }
          },
          "title": {
           "x": 0.05
          },
          "xaxis": {
           "automargin": true,
           "gridcolor": "white",
           "linecolor": "white",
           "ticks": "",
           "title": {
            "standoff": 15
           },
           "zerolinecolor": "white",
           "zerolinewidth": 2
          },
          "yaxis": {
           "automargin": true,
           "gridcolor": "white",
           "linecolor": "white",
           "ticks": "",
           "title": {
            "standoff": 15
           },
           "zerolinecolor": "white",
           "zerolinewidth": 2
          }
         }
        },
        "xaxis": {
         "anchor": "y",
         "domain": [
          0,
          1
         ],
         "title": {
          "text": "value"
         }
        },
        "yaxis": {
         "anchor": "x",
         "domain": [
          0,
          1
         ],
         "title": {
          "text": "count"
         }
        }
       }
      },
      "text/html": [
       "<div>                            <div id=\"bb91a29a-ede7-4c9d-9e9f-3eddf7ed7bf9\" class=\"plotly-graph-div\" style=\"height:525px; width:100%;\"></div>            <script type=\"text/javascript\">                require([\"plotly\"], function(Plotly) {                    window.PLOTLYENV=window.PLOTLYENV || {};                                    if (document.getElementById(\"bb91a29a-ede7-4c9d-9e9f-3eddf7ed7bf9\")) {                    Plotly.newPlot(                        \"bb91a29a-ede7-4c9d-9e9f-3eddf7ed7bf9\",                        [{\"alignmentgroup\":\"True\",\"bingroup\":\"x\",\"hovertemplate\":\"variable=0<br>value=%{x}<br>count=%{y}<extra></extra>\",\"legendgroup\":\"0\",\"marker\":{\"color\":\"#636efa\",\"pattern\":{\"shape\":\"\"}},\"name\":\"0\",\"offsetgroup\":\"0\",\"orientation\":\"v\",\"showlegend\":true,\"x\":[0.6761480309713775,-1.2522311615141941,-1.3828626106036734,2.063829450801849,-1.5776707728771238,0.15373200743692245,-0.015616346984283788,1.0003084598866638,-0.6885126389162531,1.8095062465442184,1.0780502714196305,0.14059361591646843,0.1950975010522625,-0.9032863077447809,-0.47157879713915973,-0.3720347212531457,0.14750202389542588,0.22439565553763502,1.7325913972824474,-1.8350279681913926,0.4742214711864466,-0.9193263934213193,0.011319159194004558,0.4615756415887791,1.0750464085225764,-1.0078236948367882,0.8407732730941871,-1.3986823656428131,-1.2473851421507993,0.5165312301045675,1.2829732915642507,-1.4417619043324446,1.8790893496669874,-0.291731715689542,1.1963185710306994,-1.6509807070435818,0.050394513029653906,0.7376881939430981,-1.2817411154059237,-0.4956283875824967,-0.8414834579248335,-0.2668688828710928,-0.43193536356778023,-0.5280459406301071,1.9881832802809472,-1.6545324037705573,-1.6508561057401614,0.39068701498326724,0.1940777961234117,-0.1411864494991155,0.9697873626500809,0.4050356283622795,0.5662732047520735,0.05208196094415583,-1.0626115970041576,-0.3563035125568077,-0.055367540295915035,1.2869751710569648,0.04953681100056772,0.1534980312125068,1.6729162323139197,-1.342607343403157,0.14803446110932128,-1.4895751052227273,0.09499443104317357,-1.3672187059445127,-0.05696013446445127,-0.871765057453143,0.9384834537100487,-0.5997938215123599,1.2524454424218066,1.791170876608718,-1.3239651926709757,1.1872359836932094,-0.039841971967798144,0.009308239035176281,-1.472845884930524,1.3865318190540725,0.8253948894875562,-0.7559880484610519,-1.6578256643718063,-0.8789185288416127,1.1059482410665735,-0.44065701827538234,0.24125761695636705,0.9466124375208682,-0.5920366762509868,0.01153956774395512,-0.09078731312816969,1.2103430793284498,-0.44034081301060846,-0.30288543336166884,-0.8913224361101261,-0.24001648350651508,1.6255409459452126,-0.8785685181765068,-0.5681564967659629,1.3629067061878628,-0.3408524643015021,-0.012209607178712657,-1.4374101944801738,-0.39904196306950956,-0.2674272915636613,0.4260909515037006,-0.19797184929647893,0.6445615964502589,0.7568931685091463,0.42281362116208726,-0.5214527078042311,0.8935207557309887,-0.5837523378903132,1.6588971659483585,-0.30300186628978354,1.359630157493975,-0.29694109276147,-0.4998370567748632,0.9549960454119613,-0.6899763528155817,-0.5943498546284607,0.5871114202571884,1.125659721361175,-1.4730375088847971,1.008897303894216,-0.11623322538550887,0.5725323432644115,-0.912899134640691,-0.34078791880080556,-0.9532279102389642,0.3095716726464081,0.14881259801421096,-1.9740992394815366,-1.3770370679202886,1.2823850300752333,-0.7178328549457013,1.5216375923056147,-0.5729003597437351,2.079870880037065,-0.31320888003244374,-0.6773887373687962,1.095552247120118,-0.34656658281933744,0.5298816757951603,0.007335753983718655,0.557520688390767,-0.544369994310621,-0.1416998250836616,1.1318213207118388,-0.9216674905191533,0.5984502264211786,-0.9035242618267827,-0.5930971826825046,0.10549583793247322,-0.05065896792883221,-1.1905388155277323,-0.42613601428885056,0.3971275841942331,0.6045663152174181,-0.5017649395123313,0.3225598742451886,0.4410471530352938,0.35872130265810903,-0.27793201033178283,0.7776294701448858,1.8598743728525224,-2.1340754178212546,-0.43158781685419867,-0.589295937696364,0.627390601712246,-2.580480470033539,-1.251649550690876,-1.6599912334427864,-0.5304056075860393,0.490117584660601,-1.084215757346294,-0.10110043624228181,-0.4937673862766039,0.39153685392780235,0.08734770430337964,-2.384512768351024,-0.1349302439963475,0.472433002772655,-1.2564825581641894,-1.2861200250302958,0.024939311251241422,-0.4012903892690158,0.21042985059365255,-1.4583825233668113,-1.4740599675488097,-2.0164757155931046,-0.8869018911059432,0.18845416970813533,0.2937416416221202,-2.2015995696444,-2.204416406707263,0.8432712931160399,-0.05328049123441707,0.14361426224391063,0.562731126583273,0.26805959949846775,0.6936614548588208,2.060001896666015,-0.806170602902083,-1.370285442488808,-0.7207458032390867,-0.4536548393603361,-1.0321606462505863,-1.2695235346393452,-0.316826505710626,0.609564118695766,-0.46053289492778704,0.9950275836743426,-0.6637403058295942,-0.5623416507345638,0.6779137917298559,-0.8025308971140824,-0.5777919349980536,0.9900366382357045,0.6508590911208907,-1.2040962656654774,0.8111899501878348,-0.45646621834906004,1.698910832150123,1.3414498302429152,-0.35648469845212444,1.0053929830115274,0.3448410562176736,0.6272500010778066,-1.3579177032239873,-1.70740956938068,-0.5104563741146925,1.1106607465262996,-0.05073128240059175,1.1287916601470107,-1.1750153209195542,-0.5992445813733219,0.5856720636328201,-0.2695420729267933,-1.3595482680802398,0.7580244613097584,-0.7885009669339441,-0.09795534158979088,0.4962411005111939,0.4515707857875801,0.798638447154173,0.23356122700132953,0.5259318394529475,0.5078052803337936,0.11590501489867751,-0.10896279366617981,-0.12449937782842838,0.5014097465382804,0.31892329487171145,0.6027372218144903,-0.11603513165501647,0.7908784960625393,-1.9411780617709136,-0.28849100543936046,-1.1104604669306468,-1.0454269199710087,-0.4030510324843734,-0.13646652717053187,-0.3518608858233473,-1.2545977271035198,-1.1378872457426796,0.4785510141258764,-0.47197659398498515,-1.433132639750229,-0.7625552568524022,0.20867173666335093,-1.5101544723226787,1.0348778921631494,-1.2208981746139127,-0.29244973399266805,-0.3572861267752038,-0.4709830997504486,0.04459976853898152,0.31878592991778193,-0.059468235312558786,0.8970156116294566,1.802181457130104,-0.8147886346370906,-2.327793409237417,0.45635102609780587,-0.36191091044201834,-0.2486860277776126,0.42435531627336676,-0.5667085096404347,-1.0325997731763221,0.03134611924377243,-1.1405641647831428,1.8636650316246555,0.2973161605883501,-0.48261979531092564,0.6282922206562839,-1.2295201384361514,2.453670421173738,0.1933548978490473,1.8668834141738488,0.2713490562520979,-0.5593496975846638,-0.6293528537524072,1.1571258611847246,-0.8724672054390934,-1.3022037459569102,-0.5016054815872477,0.6421718079359382,0.5528918542225634,-0.5453412029487453,-0.3071581154725144,0.3128785365042719,0.7388460911234843,-0.9438896330752319,0.6530324313511688,0.23966912707543783,-0.6646919642541331,-0.1926755005304119,-0.3024628428750699,0.3102917428420361,1.5118445995964405,-0.9093839523388517,-0.37680703231631096,0.5372792953409022,0.33844312112565306,1.5689791719316508,-1.1381294491271332,-0.7049872700133349,-0.9023321955319099,-0.28871119991794825,1.9540932043849695,-0.5191637559523791,0.9303091323477894,-0.05177016461436616,0.964083725622432,1.2548350557754417,-1.0342758071664024,0.1488988683776006,0.7387662893960741,1.811093047534514,1.7849632509128834,-0.5904151033743631,-0.8984205059435891,-0.6614175939070297,0.2937954575203021,1.2016111171317965,-2.547144827987032,0.5182247853839301,0.721269596084291,0.20769220200309746,-0.2993452959079256,1.2712654222421345,-0.10040845795233862,-0.7597588946545264,0.30631886617174464,-0.19935288534337714,1.1606109855162794,-0.25317036632006257,1.2328661095702833,1.040008952443909,-0.6821824469104486,0.4563620793195608,-0.9517680398552791,0.2138957470540214,-0.29054821884385007,0.4608739184053511,1.76008665439641,-0.3570069353810899,0.832918784834317,-0.5629625854335057,0.666633839857868,0.5930241861056743,0.03226124195379069,-0.5137489598402247,-0.615364885937653,-1.7098772175314745,0.8066712344649559,-0.7575212340792717,0.3771125083502631,-0.2863134618518798,-0.4112168061493376,1.4076481889542714,0.8984130236704556,-0.8563333550652573,-1.0042235602300056,-1.29896191169737,-1.0598699420826971,0.5797308981245121,1.4417992639853883,-0.8761094622837571,0.15962759002845153,-0.32047760958006183,1.7701770239175048,-0.41520720316399046,-0.607007987518003,1.946686597310858,0.898052809407454,-1.7346583362023178,1.1367351380979878,-0.009210765573590053,-0.22787204865037888,-0.44479253210649683,-1.0726931553207357,-0.23037203469967887,0.5350238293758117,0.8010364660252486,0.26841884170460334,0.4300661658022325,0.6370364335192611,1.1780213139775029,0.07223419703132784,0.6035323204598693,-0.020005774532954473,2.683931551341664,1.0217496460261313,-0.4221996063380058,1.3137032517625231,-0.6671546810810833,0.6617914800433613,0.04875051589081819,0.594904480443435,0.25061696798340294,0.7168299289664547,0.7524597410752012,2.0441471540556093,0.37380715337571696,1.0762044137482099,-0.6034896533905587,0.6257796392177883,-1.784258170322376,0.8008075791529473,0.7792901209786319,0.5572461473735668,-0.4115061481373663,-0.2773965791952423,-0.4365341939735098,-0.05490523655620974,0.8942196963622508,1.8659825079691734,-1.1122242666295161,0.4947290722833422,0.5747319261297602,0.056597898364975384,0.24957789331813357,1.0010800492960512,0.9725932441249538,-0.3892128240955594,-0.8121836919568256,2.147115692539768,-1.9292089734946347,0.7099003271311425,-0.27389833748397036,-1.5841955077587977,-1.8653832540377833,0.9452677230512936,-0.5947366601364512,-0.117892949121456,0.08745956897682682,-0.6486980316996374,-1.3455566055952912,-0.254286712343192,1.5530104896064825,0.5466807696851933,0.570215842243945,-0.046062982272026584,1.085050321812845,-1.0738511550175156,0.4703507917474505,1.0148413176339244,-0.28513293091748526,0.4656735903129985,1.5596527296784841,2.35361064830474,-0.10175387429284315,0.6614486218288778,-0.6553626643128939,-0.1425871830637268,1.2289424771057453,0.6005060557590187,1.0593456873953107,2.053334864809258,-0.7141356684058298,-0.4415371100018338,-0.9039719852761545,1.4200838664671758,-0.8748745200492789,-0.8445623142261846,0.26013597924927634,-0.7297196213105049,0.7571316647361054,1.722708871556025,-1.4299462720424874,-1.3380413536661004,1.174719580565489,-1.2134486762696022,0.12228162917067295,0.6362187965677143,-0.07214508813834593,-0.41671114277488636,0.3838766158105074,-0.1957178006389843,0.09133838159264172],\"xaxis\":\"x\",\"yaxis\":\"y\",\"type\":\"histogram\"}],                        {\"template\":{\"data\":{\"histogram2dcontour\":[{\"type\":\"histogram2dcontour\",\"colorbar\":{\"outlinewidth\":0,\"ticks\":\"\"},\"colorscale\":[[0.0,\"#0d0887\"],[0.1111111111111111,\"#46039f\"],[0.2222222222222222,\"#7201a8\"],[0.3333333333333333,\"#9c179e\"],[0.4444444444444444,\"#bd3786\"],[0.5555555555555556,\"#d8576b\"],[0.6666666666666666,\"#ed7953\"],[0.7777777777777778,\"#fb9f3a\"],[0.8888888888888888,\"#fdca26\"],[1.0,\"#f0f921\"]]}],\"choropleth\":[{\"type\":\"choropleth\",\"colorbar\":{\"outlinewidth\":0,\"ticks\":\"\"}}],\"histogram2d\":[{\"type\":\"histogram2d\",\"colorbar\":{\"outlinewidth\":0,\"ticks\":\"\"},\"colorscale\":[[0.0,\"#0d0887\"],[0.1111111111111111,\"#46039f\"],[0.2222222222222222,\"#7201a8\"],[0.3333333333333333,\"#9c179e\"],[0.4444444444444444,\"#bd3786\"],[0.5555555555555556,\"#d8576b\"],[0.6666666666666666,\"#ed7953\"],[0.7777777777777778,\"#fb9f3a\"],[0.8888888888888888,\"#fdca26\"],[1.0,\"#f0f921\"]]}],\"heatmap\":[{\"type\":\"heatmap\",\"colorbar\":{\"outlinewidth\":0,\"ticks\":\"\"},\"colorscale\":[[0.0,\"#0d0887\"],[0.1111111111111111,\"#46039f\"],[0.2222222222222222,\"#7201a8\"],[0.3333333333333333,\"#9c179e\"],[0.4444444444444444,\"#bd3786\"],[0.5555555555555556,\"#d8576b\"],[0.6666666666666666,\"#ed7953\"],[0.7777777777777778,\"#fb9f3a\"],[0.8888888888888888,\"#fdca26\"],[1.0,\"#f0f921\"]]}],\"heatmapgl\":[{\"type\":\"heatmapgl\",\"colorbar\":{\"outlinewidth\":0,\"ticks\":\"\"},\"colorscale\":[[0.0,\"#0d0887\"],[0.1111111111111111,\"#46039f\"],[0.2222222222222222,\"#7201a8\"],[0.3333333333333333,\"#9c179e\"],[0.4444444444444444,\"#bd3786\"],[0.5555555555555556,\"#d8576b\"],[0.6666666666666666,\"#ed7953\"],[0.7777777777777778,\"#fb9f3a\"],[0.8888888888888888,\"#fdca26\"],[1.0,\"#f0f921\"]]}],\"contourcarpet\":[{\"type\":\"contourcarpet\",\"colorbar\":{\"outlinewidth\":0,\"ticks\":\"\"}}],\"contour\":[{\"type\":\"contour\",\"colorbar\":{\"outlinewidth\":0,\"ticks\":\"\"},\"colorscale\":[[0.0,\"#0d0887\"],[0.1111111111111111,\"#46039f\"],[0.2222222222222222,\"#7201a8\"],[0.3333333333333333,\"#9c179e\"],[0.4444444444444444,\"#bd3786\"],[0.5555555555555556,\"#d8576b\"],[0.6666666666666666,\"#ed7953\"],[0.7777777777777778,\"#fb9f3a\"],[0.8888888888888888,\"#fdca26\"],[1.0,\"#f0f921\"]]}],\"surface\":[{\"type\":\"surface\",\"colorbar\":{\"outlinewidth\":0,\"ticks\":\"\"},\"colorscale\":[[0.0,\"#0d0887\"],[0.1111111111111111,\"#46039f\"],[0.2222222222222222,\"#7201a8\"],[0.3333333333333333,\"#9c179e\"],[0.4444444444444444,\"#bd3786\"],[0.5555555555555556,\"#d8576b\"],[0.6666666666666666,\"#ed7953\"],[0.7777777777777778,\"#fb9f3a\"],[0.8888888888888888,\"#fdca26\"],[1.0,\"#f0f921\"]]}],\"mesh3d\":[{\"type\":\"mesh3d\",\"colorbar\":{\"outlinewidth\":0,\"ticks\":\"\"}}],\"scatter\":[{\"fillpattern\":{\"fillmode\":\"overlay\",\"size\":10,\"solidity\":0.2},\"type\":\"scatter\"}],\"parcoords\":[{\"type\":\"parcoords\",\"line\":{\"colorbar\":{\"outlinewidth\":0,\"ticks\":\"\"}}}],\"scatterpolargl\":[{\"type\":\"scatterpolargl\",\"marker\":{\"colorbar\":{\"outlinewidth\":0,\"ticks\":\"\"}}}],\"bar\":[{\"error_x\":{\"color\":\"#2a3f5f\"},\"error_y\":{\"color\":\"#2a3f5f\"},\"marker\":{\"line\":{\"color\":\"#E5ECF6\",\"width\":0.5},\"pattern\":{\"fillmode\":\"overlay\",\"size\":10,\"solidity\":0.2}},\"type\":\"bar\"}],\"scattergeo\":[{\"type\":\"scattergeo\",\"marker\":{\"colorbar\":{\"outlinewidth\":0,\"ticks\":\"\"}}}],\"scatterpolar\":[{\"type\":\"scatterpolar\",\"marker\":{\"colorbar\":{\"outlinewidth\":0,\"ticks\":\"\"}}}],\"histogram\":[{\"marker\":{\"pattern\":{\"fillmode\":\"overlay\",\"size\":10,\"solidity\":0.2}},\"type\":\"histogram\"}],\"scattergl\":[{\"type\":\"scattergl\",\"marker\":{\"colorbar\":{\"outlinewidth\":0,\"ticks\":\"\"}}}],\"scatter3d\":[{\"type\":\"scatter3d\",\"line\":{\"colorbar\":{\"outlinewidth\":0,\"ticks\":\"\"}},\"marker\":{\"colorbar\":{\"outlinewidth\":0,\"ticks\":\"\"}}}],\"scattermapbox\":[{\"type\":\"scattermapbox\",\"marker\":{\"colorbar\":{\"outlinewidth\":0,\"ticks\":\"\"}}}],\"scatterternary\":[{\"type\":\"scatterternary\",\"marker\":{\"colorbar\":{\"outlinewidth\":0,\"ticks\":\"\"}}}],\"scattercarpet\":[{\"type\":\"scattercarpet\",\"marker\":{\"colorbar\":{\"outlinewidth\":0,\"ticks\":\"\"}}}],\"carpet\":[{\"aaxis\":{\"endlinecolor\":\"#2a3f5f\",\"gridcolor\":\"white\",\"linecolor\":\"white\",\"minorgridcolor\":\"white\",\"startlinecolor\":\"#2a3f5f\"},\"baxis\":{\"endlinecolor\":\"#2a3f5f\",\"gridcolor\":\"white\",\"linecolor\":\"white\",\"minorgridcolor\":\"white\",\"startlinecolor\":\"#2a3f5f\"},\"type\":\"carpet\"}],\"table\":[{\"cells\":{\"fill\":{\"color\":\"#EBF0F8\"},\"line\":{\"color\":\"white\"}},\"header\":{\"fill\":{\"color\":\"#C8D4E3\"},\"line\":{\"color\":\"white\"}},\"type\":\"table\"}],\"barpolar\":[{\"marker\":{\"line\":{\"color\":\"#E5ECF6\",\"width\":0.5},\"pattern\":{\"fillmode\":\"overlay\",\"size\":10,\"solidity\":0.2}},\"type\":\"barpolar\"}],\"pie\":[{\"automargin\":true,\"type\":\"pie\"}]},\"layout\":{\"autotypenumbers\":\"strict\",\"colorway\":[\"#636efa\",\"#EF553B\",\"#00cc96\",\"#ab63fa\",\"#FFA15A\",\"#19d3f3\",\"#FF6692\",\"#B6E880\",\"#FF97FF\",\"#FECB52\"],\"font\":{\"color\":\"#2a3f5f\"},\"hovermode\":\"closest\",\"hoverlabel\":{\"align\":\"left\"},\"paper_bgcolor\":\"white\",\"plot_bgcolor\":\"#E5ECF6\",\"polar\":{\"bgcolor\":\"#E5ECF6\",\"angularaxis\":{\"gridcolor\":\"white\",\"linecolor\":\"white\",\"ticks\":\"\"},\"radialaxis\":{\"gridcolor\":\"white\",\"linecolor\":\"white\",\"ticks\":\"\"}},\"ternary\":{\"bgcolor\":\"#E5ECF6\",\"aaxis\":{\"gridcolor\":\"white\",\"linecolor\":\"white\",\"ticks\":\"\"},\"baxis\":{\"gridcolor\":\"white\",\"linecolor\":\"white\",\"ticks\":\"\"},\"caxis\":{\"gridcolor\":\"white\",\"linecolor\":\"white\",\"ticks\":\"\"}},\"coloraxis\":{\"colorbar\":{\"outlinewidth\":0,\"ticks\":\"\"}},\"colorscale\":{\"sequential\":[[0.0,\"#0d0887\"],[0.1111111111111111,\"#46039f\"],[0.2222222222222222,\"#7201a8\"],[0.3333333333333333,\"#9c179e\"],[0.4444444444444444,\"#bd3786\"],[0.5555555555555556,\"#d8576b\"],[0.6666666666666666,\"#ed7953\"],[0.7777777777777778,\"#fb9f3a\"],[0.8888888888888888,\"#fdca26\"],[1.0,\"#f0f921\"]],\"sequentialminus\":[[0.0,\"#0d0887\"],[0.1111111111111111,\"#46039f\"],[0.2222222222222222,\"#7201a8\"],[0.3333333333333333,\"#9c179e\"],[0.4444444444444444,\"#bd3786\"],[0.5555555555555556,\"#d8576b\"],[0.6666666666666666,\"#ed7953\"],[0.7777777777777778,\"#fb9f3a\"],[0.8888888888888888,\"#fdca26\"],[1.0,\"#f0f921\"]],\"diverging\":[[0,\"#8e0152\"],[0.1,\"#c51b7d\"],[0.2,\"#de77ae\"],[0.3,\"#f1b6da\"],[0.4,\"#fde0ef\"],[0.5,\"#f7f7f7\"],[0.6,\"#e6f5d0\"],[0.7,\"#b8e186\"],[0.8,\"#7fbc41\"],[0.9,\"#4d9221\"],[1,\"#276419\"]]},\"xaxis\":{\"gridcolor\":\"white\",\"linecolor\":\"white\",\"ticks\":\"\",\"title\":{\"standoff\":15},\"zerolinecolor\":\"white\",\"automargin\":true,\"zerolinewidth\":2},\"yaxis\":{\"gridcolor\":\"white\",\"linecolor\":\"white\",\"ticks\":\"\",\"title\":{\"standoff\":15},\"zerolinecolor\":\"white\",\"automargin\":true,\"zerolinewidth\":2},\"scene\":{\"xaxis\":{\"backgroundcolor\":\"#E5ECF6\",\"gridcolor\":\"white\",\"linecolor\":\"white\",\"showbackground\":true,\"ticks\":\"\",\"zerolinecolor\":\"white\",\"gridwidth\":2},\"yaxis\":{\"backgroundcolor\":\"#E5ECF6\",\"gridcolor\":\"white\",\"linecolor\":\"white\",\"showbackground\":true,\"ticks\":\"\",\"zerolinecolor\":\"white\",\"gridwidth\":2},\"zaxis\":{\"backgroundcolor\":\"#E5ECF6\",\"gridcolor\":\"white\",\"linecolor\":\"white\",\"showbackground\":true,\"ticks\":\"\",\"zerolinecolor\":\"white\",\"gridwidth\":2}},\"shapedefaults\":{\"line\":{\"color\":\"#2a3f5f\"}},\"annotationdefaults\":{\"arrowcolor\":\"#2a3f5f\",\"arrowhead\":0,\"arrowwidth\":1},\"geo\":{\"bgcolor\":\"white\",\"landcolor\":\"#E5ECF6\",\"subunitcolor\":\"white\",\"showland\":true,\"showlakes\":true,\"lakecolor\":\"white\"},\"title\":{\"x\":0.05},\"mapbox\":{\"style\":\"light\"}}},\"xaxis\":{\"anchor\":\"y\",\"domain\":[0.0,1.0],\"title\":{\"text\":\"value\"}},\"yaxis\":{\"anchor\":\"x\",\"domain\":[0.0,1.0],\"title\":{\"text\":\"count\"}},\"legend\":{\"title\":{\"text\":\"variable\"},\"tracegroupgap\":0},\"margin\":{\"t\":60},\"barmode\":\"relative\"},                        {\"responsive\": true}                    ).then(function(){\n",
       "                            \n",
       "var gd = document.getElementById('bb91a29a-ede7-4c9d-9e9f-3eddf7ed7bf9');\n",
       "var x = new MutationObserver(function (mutations, observer) {{\n",
       "        var display = window.getComputedStyle(gd).display;\n",
       "        if (!display || display === 'none') {{\n",
       "            console.log([gd, 'removed!']);\n",
       "            Plotly.purge(gd);\n",
       "            observer.disconnect();\n",
       "        }}\n",
       "}});\n",
       "\n",
       "// Listen for the removal of the full notebook cells\n",
       "var notebookContainer = gd.closest('#notebook-container');\n",
       "if (notebookContainer) {{\n",
       "    x.observe(notebookContainer, {childList: true});\n",
       "}}\n",
       "\n",
       "// Listen for the clearing of the current output cell\n",
       "var outputEl = gd.closest('.output');\n",
       "if (outputEl) {{\n",
       "    x.observe(outputEl, {childList: true});\n",
       "}}\n",
       "\n",
       "                        })                };                });            </script>        </div>"
      ]
     },
     "metadata": {},
     "output_type": "display_data"
    }
   ],
   "source": [
    "px.histogram(gfg_data)"
   ]
  },
  {
   "cell_type": "code",
   "execution_count": 40,
   "id": "c62258b7",
   "metadata": {},
   "outputs": [
    {
     "data": {
      "text/plain": [
       "ShapiroResult(statistic=0.996792197227478, pvalue=0.42741844058036804)"
      ]
     },
     "execution_count": 40,
     "metadata": {},
     "output_type": "execute_result"
    }
   ],
   "source": [
    "stat.shapiro(gfg_data)"
   ]
  },
  {
   "cell_type": "code",
   "execution_count": 15,
   "id": "27ec06b6-c51a-4103-b600-5aa4a2153999",
   "metadata": {},
   "outputs": [
    {
     "data": {
      "text/plain": [
       "used_app_before\n",
       "no     692\n",
       "yes     12\n",
       "Name: count, dtype: int64"
      ]
     },
     "execution_count": 15,
     "metadata": {},
     "output_type": "execute_result"
    }
   ],
   "source": [
    "data.used_app_before.value_counts()"
   ]
  },
  {
   "cell_type": "code",
   "execution_count": 16,
   "id": "ba10f7c7",
   "metadata": {},
   "outputs": [
    {
     "data": {
      "text/plain": [
       "array(['NO', 'YES'], dtype=object)"
      ]
     },
     "execution_count": 16,
     "metadata": {},
     "output_type": "execute_result"
    }
   ],
   "source": [
    "data[\"Class/ASD\"].unique()"
   ]
  },
  {
   "cell_type": "code",
   "execution_count": 17,
   "id": "8237c90d",
   "metadata": {},
   "outputs": [
    {
     "data": {
      "text/plain": [
       "Class/ASD\n",
       "NO     515\n",
       "YES    189\n",
       "Name: count, dtype: int64"
      ]
     },
     "execution_count": 17,
     "metadata": {},
     "output_type": "execute_result"
    }
   ],
   "source": [
    "data[\"Class/ASD\"].value_counts()"
   ]
  },
  {
   "cell_type": "code",
   "execution_count": 18,
   "id": "7971713d",
   "metadata": {},
   "outputs": [],
   "source": [
    "lst = list()\n",
    "for i in data.ethnicity:\n",
    "    if i == \"?\":\n",
    "        lst.append(\"\")\n",
    "    else:\n",
    "        lst.append(i)\n",
    "data.ethnicity = lst"
   ]
  },
  {
   "cell_type": "code",
   "execution_count": 19,
   "id": "fc10d358",
   "metadata": {},
   "outputs": [
    {
     "data": {
      "text/plain": [
       "ethnicity\n",
       "White-European     233\n",
       "Asian              123\n",
       "                    95\n",
       "Middle Eastern      92\n",
       "Black               43\n",
       "South Asian         36\n",
       "Others              30\n",
       "Latino              20\n",
       "Hispanic            13\n",
       "Pasifika            12\n",
       "Turkish              6\n",
       "others               1\n",
       "Name: count, dtype: int64"
      ]
     },
     "execution_count": 19,
     "metadata": {},
     "output_type": "execute_result"
    }
   ],
   "source": [
    "data.ethnicity.value_counts()"
   ]
  },
  {
   "cell_type": "code",
   "execution_count": null,
   "id": "0c92bdc5",
   "metadata": {},
   "outputs": [],
   "source": []
  },
  {
   "cell_type": "code",
   "execution_count": null,
   "id": "d0d5da5b",
   "metadata": {},
   "outputs": [],
   "source": []
  }
 ],
 "metadata": {
  "kernelspec": {
   "display_name": "Python 3 (ipykernel)",
   "language": "python",
   "name": "python3"
  },
  "language_info": {
   "codemirror_mode": {
    "name": "ipython",
    "version": 3
   },
   "file_extension": ".py",
   "mimetype": "text/x-python",
   "name": "python",
   "nbconvert_exporter": "python",
   "pygments_lexer": "ipython3",
   "version": "3.11.3"
  }
 },
 "nbformat": 4,
 "nbformat_minor": 5
}
