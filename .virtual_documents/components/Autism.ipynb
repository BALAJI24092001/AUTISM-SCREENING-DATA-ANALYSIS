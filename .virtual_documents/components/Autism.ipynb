


# Importing Libraries
import numpy as np # Linear Algebra
import pandas as pd # DataFrames
import matplotlib.pyplot as plt # Basic Plots
import seaborn as sns # Advanced Plots
import plotly.express as px # Intereactive plots
import scipy.stats as stat # Hypothesis Testing
%matplotlib inline


data = pd.read_csv("../utils/csv_result-Autism-Adult-Data.csv")


data.head()


data.describe()


data.info()





data.age_desc.unique() # remove this variable


data.drop(['id', 'age_desc'], axis=1, inplace=True)


lst = list()
for i in data.age:
    if i == '?':
        lst.append(np.NaN)
    else:
        lst.append(i)
data.age = lst
data.age = pd.to_numeric(data.age)


data.describe()


data.info()


lst = list()
for i in data['Class/ASD']:
    if i == "NO":
        lst.append(0)
    elif i == "YES":
        lst.append(1)
data["Class/ASD"] = lst


px.scatter(data, x='Class/ASD', y = "result")





# TODO
# Ask sir if we can replace the age based on jundie, austim, Class/ASD and result
data[data.age.isna()]





from plotly.subplots import make_subplots
import plotly.graph_objects as go


fig = px.box(data.age, title="Age box plot", width=600, height=800, points='all', notched=True)
fig











px.histogram(y = data.age, marginal='box', title="Distribution cum box plot for Age of ASD patients", height=1000, width=600)


data.age.median()


lst = list()
for i in data.age:
    if i >= 100:
        lst.append(data.age.median())
    else:
        lst.append(i)



px.histogram(y = lst, marginal='box', title="Distribution cum box plot for Age of ASD patients", height=1000, width=600)


fig = make_subplots(rows=1, cols=1)
fig.add_trace(go.Box( y = data.result, name = "", boxmean=True, boxpoints='all', notched=True),
                 row=1, col=1)


px.histogram(data.result, marginal='box')


stat.shapiro(data.result)


gfg_data = np.random.randn(500)


px.histogram(gfg_data)


stat.shapiro(gfg_data)


data.used_app_before.value_counts()


data["Class/ASD"].unique()


data["Class/ASD"].value_counts()


lst = list()
for i in data.ethnicity:
    if i == "?":
        lst.append("")
    else:
        lst.append(i)
data.ethnicity = lst


data.ethnicity.value_counts()





# Pivot tables for A Scores
for i in ['A1_Score', 'A2_Score', 'A3_Score', 'A4_Score', 'A5_Score', 'A6_Score', 'A7_Score', 'A8_Score', 'A9_Score', 'A10_Score']:
    print(data[[i, 'Class/ASD']].groupby([i, 'Class/ASD']).size());


# TODO
# Ask sir if map plot is relevant.
# Can we join A Scores for analysis
