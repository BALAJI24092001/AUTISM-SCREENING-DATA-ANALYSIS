


import numpy as np
import pandas as pd
import matplotlib.pyplot as plt
import seaborn as sns
import plotly.express as pt
%matplotlib inline


data = pd.read_csv("../utils/csv_result-Autism-Adult-Data.csv")


data.head()


data.describe()


data.info()


data.age


pd.to_numeric(data.age)


data.age.unique()


data.age_desc.unique()


lst = list()
for i in data.age:
    if i == '?':
        lst.append(np.NaN)
    else:
        lst.append(i)


data.age = lst


data.age = pd.to_numeric(data.age)


data.describe()


sns.boxplot(data.age)


go.Box( y = data["How many hours do you spend studying per day?"], name = "", boxmean=True, boxpoints='all', notched=True),
                 row=2, col=1)


pt.box(y = data.age, points= 'all')



